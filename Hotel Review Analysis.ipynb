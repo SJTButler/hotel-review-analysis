{
 "cells": [
  {
   "cell_type": "markdown",
   "metadata": {},
   "source": [
    "# Hotel Review Sentiment Analysis"
   ]
  },
  {
   "cell_type": "markdown",
   "metadata": {},
   "source": [
    "- [1. Imports and Constants](#1.-Imports-and-Constants)\n",
    "- [2. Exploratory Analysis and Data Cleaning](#2.-Exploratory-Analysis-and-Data-Cleaning)\n",
    "    - [2.1 Dataset 1](#2.1-Dataset-1)\n",
    "    - [2.2 Dataset 2](#2.2-Dataset-2)\n",
    "    - [2.3 Dataset 3](#2.3-Dataset-3)\n",
    "    - [2.4 Combining the Three Datasets](#2.4-Combining-the-Three-Datasets)\n",
    "- [3. Translation of non-English Reviews](#3.-Translation-of-non-English-reviews)\n",
    "- [4. Sentiment Analysis](#4.-Sentiment-Analysis)\n",
    "    - [4.1 Pros and Cons of Various Approaches](#4.1-Pros-and-Cons-of-Various-Approaches)\n",
    "    - [4.2 Approach 1: Google Natural Language API](#4.2-Approach-1:-Google-Natural-Language-API)\n",
    "        - [4.2.1 Getting Google Sentiment Scores](#4.2.1-Getting-Google-Sentiment-Scores)\n",
    "        - [4.2.2 Scoring Each Review in the Dataset](#4.2.2-Scoring-Each-Review-in-the-Dataset)\n",
    "        - [4.2.3 Evaluating Resultant Sentiment Scores](#4.2.3-Evaluating-Resultant-Sentiment-Scores)\n",
    "        - [4.2.4 Calculating Difference between Sentiment Score and Rating](#4.2.4-Calculating-Difference-between-Sentiment-Score-and-Rating)\n",
    "    - [4.3 Approach 2: SentiWordNet Average Sentiment Scores](#4.3-Approach-2:-SentiWordNet-Average-Sentiment-Scores)\n",
    "        - [4.3.1 Defining the Scoring Function](#4.3.1-Defining-the-Scoring-Function)\n",
    "        - [4.3.2 Scoring Each Review in the Dataset](#4.3.2-Scoring-Each-Review-in-the-Dataset)\n",
    "        - [4.3.3 Evaluating Resultant Sentiment Scores](#4.3.3-Evaluating-Resultant-Sentiment-Scores)\n",
    "        - [4.3.4 Calculating Difference between Sentiment Score and Rating](#4.3.4-Calculating-Difference-between-Sentiment-Score-and-Rating)\n",
    "    - [4.4 Approach 3: Naive Bayes Classifier Sentiment Scores](#4.4-Approach-3:-Naive-Bayes-Classifier-Sentiment-Scores)\n",
    "        - [4.4.1 Text Preprocessing](#4.4.1-Text-Preprocessing)\n",
    "        - [4.4.2 Train-Test Split](#4.4.2-Train-Test-Split)\n",
    "        - [4.4.3 Fitting and Evaluating the Model](#4.4.3-Fitting-and-Evaluating-the-Model)\n",
    "        - [4.4.4 Scoring Each Review in the Dataset](#4.4.4-Scoring-Each-Text-in-the-Dataset)\n",
    "        - [4.4.5 Evaluating Resultant Sentiment Scores](#4.4.5-Evaluating-Resultant-Sentiment-Scores)\n",
    "        - [4.4.6 Calculating Difference between Sentiment Score and Rating](#4.4.6-Calculating-Difference-between-Sentiment-Score-and-Rating)\n",
    "    - [4.5 Approach 4: LSTM Neural Network Classifier Sentiment Scores](#4.5-Approach-4:-LSTM-Neural-Network-Classifier-Sentiment-Scores)\n",
    "        - [4.5.1 Text Preprocessing](#4.5.1-Text-Preprocessing)\n",
    "        - [4.5.2 Train-Test Split](#4.5.2-Train-Test-Split)\n",
    "        - [4.5.3 Fitting and Evaluating the Model](#4.5.3-Fitting-and-Evaluating-the-Model)\n",
    "        - [4.5.4 Scoring Each Review in the Dataset](#4.5.4-Scoring-each-Review-in-the-Dataset)\n",
    "        - [4.5.5 Evaluating Resultant Sentiment Scores](#4.5.5-Evaluating-Resultant-Sentiment-Scores)\n",
    "        - [4.5.6 Calculating Difference between Sentiment Score and Rating](#4.5.6-Calculating-Difference-between-Sentiment-Score-and-Rating)\n",
    "- [5. Conclusion](#5.-Conclusion) "
   ]
  },
  {
   "cell_type": "markdown",
   "metadata": {},
   "source": [
    "## 1. Imports and Constants"
   ]
  },
  {
   "cell_type": "code",
   "execution_count": 954,
   "metadata": {},
   "outputs": [
    {
     "name": "stdout",
     "output_type": "stream",
     "text": [
      "env: GOOGLE_APPLICATION_CREDENTIALS=translationKeys.json\n"
     ]
    }
   ],
   "source": [
    "from enum import Enum\n",
    "from string import printable\n",
    "import time\n",
    "import math\n",
    "\n",
    "import numpy as np\n",
    "import pandas as pd\n",
    "\n",
    "import matplotlib.pyplot as plt\n",
    "\n",
    "#Google cloud API imports\n",
    "from google.cloud import translate_v2 as translate\n",
    "from google.cloud.exceptions import Forbidden\n",
    "from google.cloud.exceptions import BadRequest\n",
    "\n",
    "from google.cloud import language\n",
    "from google.cloud.language import enums as gc_enums\n",
    "from google.cloud.language import types as gc_types\n",
    "\n",
    "import nltk\n",
    "from nltk.corpus import sentiwordnet as swn\n",
    "from nltk.corpus import wordnet as wn\n",
    "from nltk.stem import WordNetLemmatizer\n",
    "from nltk.stem import PorterStemmer\n",
    "from nltk.corpus import stopwords\n",
    "\n",
    "from unidecode import unidecode\n",
    "import string\n",
    "\n",
    "from sklearn.feature_extraction.text import CountVectorizer\n",
    "from sklearn.naive_bayes import MultinomialNB, GaussianNB\n",
    "from sklearn.preprocessing import LabelEncoder\n",
    "from sklearn.metrics import confusion_matrix\n",
    "from sklearn.metrics import accuracy_score\n",
    "\n",
    "from sklearn.linear_model import LinearRegression\n",
    "from sklearn.tree import DecisionTreeRegressor\n",
    "\n",
    "from keras.preprocessing.text import Tokenizer\n",
    "import keras.preprocessing.sequence\n",
    "\n",
    "import tensorflow as tf\n",
    "\n",
    "from keras import Sequential\n",
    "from keras.layers import Embedding, LSTM, Dense, Dropout\n",
    "\n",
    "from sklearn.model_selection import train_test_split\n",
    "\n",
    "from tqdm.auto import tqdm\n",
    "tqdm.pandas() #allows progress bar support for pandas mapping functions\n",
    "from keras_tqdm import TQDMNotebookCallback #tqdm progress bars for keras \n",
    "\n",
    "pd.options.mode.chained_assignment = None  # default='warn'\n",
    "\n",
    "%matplotlib inline\n",
    "%env GOOGLE_APPLICATION_CREDENTIALS translationKeys.json"
   ]
  },
  {
   "cell_type": "code",
   "execution_count": 342,
   "metadata": {},
   "outputs": [],
   "source": [
    "#The dataset provided consists of three csv files, each with slightly different schema\n",
    "DATASET_1 = \"dataset/7282_1.csv\"\n",
    "DATASET_2 = \"dataset/Datafiniti_Hotel_Reviews.csv\"\n",
    "DATASET_3 = \"dataset/Datafiniti_Hotel_Reviews_Jun19.csv\"\n",
    "\n",
    "TEST_PROPORTION = 0.25\n",
    "\n",
    "USE_TRANSLATOR = True\n",
    "\n",
    "TRANSLATOR_OPTIONS = Enum(\"OPTIONS\", \"TRANSLATE REMOVE THRESHOLD\")\n",
    "TRANSLATOR_FUNCTIONALITY = TRANSLATOR_OPTIONS.TRANSLATE #options are \"translate\", which translates non-english text to english, and \n",
    "                                        # \"remove\", which drops records with non-english text from the training set\n",
    "TRANSLATOR_THRESHOLD=0.05"
   ]
  },
  {
   "cell_type": "markdown",
   "metadata": {},
   "source": [
    "## 2. Exploratory Analysis and Data Cleaning"
   ]
  },
  {
   "cell_type": "code",
   "execution_count": 69,
   "metadata": {},
   "outputs": [],
   "source": [
    "#first run at cleaning the dataset - more specific data cleaning will be done as I learn more about the\n",
    "# dataset structure\n",
    "def clean_df(frame):\n",
    "    \n",
    "    #because I was having trouble with non-latin characters in strings (Japanese charsets, etc.) this project\n",
    "    # encodes all strings as utf-8 codepoints and decodes to strings as necessary. This feels sub-optimal, but\n",
    "    # as it works, I will keep it like this at this stage\n",
    "    frame[\"reviews.text\"] = frame[\"reviews.text\"].str.encode(\"utf-8\")\n",
    "\n",
    "    if (\"translated_text\" in frame.columns):\n",
    "        frame[\"translated_text\"] = frame[\"translated_text\"].str.encode(\"utf-8\")\n",
    "    \n",
    "    #keep only ratings that have a review attached (that is, not Na or empty or only whitespace)\n",
    "    frame = frame[~frame[\"reviews.text\"].isnull()] \n",
    "    frame = frame[frame[\"reviews.text\"] != \"\"]\n",
    "    frame = frame[~frame[\"reviews.text\"].str.isspace()]\n",
    "    \n",
    "    frame = frame.reset_index(drop=True)\n",
    "    \n",
    "    return frame\n",
    "\n",
    "def load_dataset(filename):\n",
    "    frame = pd.read_csv(filename)\n",
    "    frame = clean_df(frame)\n",
    "    return frame\n",
    "\n",
    "def save_dataset(frame, filename):\n",
    "    \n",
    "    frame = frame.copy()\n",
    "    \n",
    "    frame[\"reviews.text\"] = frame[\"reviews.text\"].map(lambda x: x.decode(\"utf-8\"))\n",
    "    \n",
    "    if (\"translated_text\" in frame.columns):\n",
    "        frame[\"translated_text\"] = frame[\"translated_text\"].map(lambda x: x.decode(\"utf-8\"))\n",
    "        \n",
    "    frame.to_csv(filename, encoding=\"utf-8\")\n",
    "    "
   ]
  },
  {
   "cell_type": "markdown",
   "metadata": {},
   "source": [
    "### 2.1 Dataset 1"
   ]
  },
  {
   "cell_type": "code",
   "execution_count": 4,
   "metadata": {
    "scrolled": true
   },
   "outputs": [
    {
     "data": {
      "text/plain": [
       "<matplotlib.axes._subplots.AxesSubplot at 0x200e2f36470>"
      ]
     },
     "execution_count": 4,
     "metadata": {},
     "output_type": "execute_result"
    },
    {
     "data": {
      "image/png": "[encoded data removed]",
      "text/plain": [
       "<Figure size 432x288 with 1 Axes>"
      ]
     },
     "metadata": {
      "needs_background": "light"
     },
     "output_type": "display_data"
    }
   ],
   "source": [
    "df_1 = load_dataset(DATASET_1)\n",
    "#print(df)\n",
    "#df_1.head()\n",
    "\n",
    "df_1.boxplot(column=\"reviews.rating\")\n"
   ]
  },
  {
   "cell_type": "code",
   "execution_count": 5,
   "metadata": {},
   "outputs": [
    {
     "name": "stdout",
     "output_type": "stream",
     "text": [
      "5.0     12664\n",
      "4.0      9747\n",
      "3.0      5705\n",
      "1.0      3065\n",
      "2.0      2978\n",
      "0.0       337\n",
      "10.0      101\n",
      "9.6        53\n",
      "9.2        49\n",
      "4.3        26\n",
      "4.8        25\n",
      "8.3        25\n",
      "7.9        24\n",
      "7.5        24\n",
      "8.8        24\n",
      "4.2        22\n",
      "3.4        17\n",
      "4.1        14\n",
      "6.3        14\n",
      "7.1        13\n",
      "4.5        13\n",
      "6.7        12\n",
      "5.4         9\n",
      "4.6         7\n",
      "3.1         7\n",
      "5.8         6\n",
      "4.4         6\n",
      "3.3         6\n",
      "4.7         6\n",
      "4.9         6\n",
      "2.4         4\n",
      "2.5         3\n",
      "3.8         3\n",
      "3.7         2\n",
      "3.2         2\n",
      "3.9         2\n",
      "2.8         1\n",
      "1.3         1\n",
      "9.5         1\n",
      "1.5         1\n",
      "6.0         1\n",
      "2.9         1\n",
      "7.0         1\n",
      "Name: reviews.rating, dtype: int64\n"
     ]
    }
   ],
   "source": [
    "print(df_1[\"reviews.rating\"].value_counts())"
   ]
  },
  {
   "cell_type": "code",
   "execution_count": 6,
   "metadata": {},
   "outputs": [
    {
     "name": "stdout",
     "output_type": "stream",
     "text": [
      "              address categories      city country  latitude  longitude  \\\n",
      "4448  Taragaon Boudha     Hotels  Alliance      US   27.7216  85.355959   \n",
      "4449  Taragaon Boudha     Hotels  Alliance      US   27.7216  85.355959   \n",
      "4450  Taragaon Boudha     Hotels  Alliance      US   27.7216  85.355959   \n",
      "4451  Taragaon Boudha     Hotels  Alliance      US   27.7216  85.355959   \n",
      "4452  Taragaon Boudha     Hotels  Alliance      US   27.7216  85.355959   \n",
      "\n",
      "                         name postalCode province          reviews.date  \\\n",
      "4448  Hyatt Regency Kathmandu      44601       OH  2015-08-11T00:00:00Z   \n",
      "4449  Hyatt Regency Kathmandu      44601       OH  2016-01-12T00:00:00Z   \n",
      "4450  Hyatt Regency Kathmandu      44601       OH  2015-06-22T00:00:00Z   \n",
      "4451  Hyatt Regency Kathmandu      44601       OH  2016-05-17T00:00:00Z   \n",
      "4452  Hyatt Regency Kathmandu      44601       OH  2016-07-09T00:00:00Z   \n",
      "\n",
      "         reviews.dateAdded  reviews.doRecommend  reviews.id  reviews.rating  \\\n",
      "4448  2016-11-11T23:48:28Z                  NaN         NaN             9.6   \n",
      "4449  2016-11-11T23:48:28Z                  NaN         NaN            10.0   \n",
      "4450  2016-11-11T23:48:28Z                  NaN         NaN            10.0   \n",
      "4451  2016-11-11T23:48:28Z                  NaN         NaN             8.3   \n",
      "4452  2016-11-11T23:48:28Z                  NaN         NaN             8.8   \n",
      "\n",
      "                                           reviews.text  \\\n",
      "4448  b'The wifi signal was too low Loved The location'   \n",
      "4449  b'None what so ever. The staff were all friend...   \n",
      "4450  b'Friendly staff in a beautiful setting combin...   \n",
      "4451                                    b'nil location'   \n",
      "4452  b'room cooling, wifi connection slow, certain ...   \n",
      "\n",
      "                                          reviews.title reviews.userCity  \\\n",
      "4448                                           Location              NaN   \n",
      "4449  The staff were all friendly whether at the 6th...              NaN   \n",
      "4450                Lovely place and business as usual.              NaN   \n",
      "4451                                           location              NaN   \n",
      "4452                           it was really enjoyable.              NaN   \n",
      "\n",
      "     reviews.username reviews.userProvince  \n",
      "4448           Mohsin                  NaN  \n",
      "4449           Hassan                  NaN  \n",
      "4450        Anonymous                  NaN  \n",
      "4451           Davide                  NaN  \n",
      "4452          Khurram                  NaN  \n"
     ]
    }
   ],
   "source": [
    "print(df_1[df_1[\"reviews.rating\"] > 5].head())\n"
   ]
  },
  {
   "cell_type": "code",
   "execution_count": 7,
   "metadata": {},
   "outputs": [
    {
     "name": "stdout",
     "output_type": "stream",
     "text": [
      "                                      address  \\\n",
      "57                      2113 Sapp Brothers Dr   \n",
      "58                             2860 Grand Ave   \n",
      "59  142 Park Place Us 181 Business At Park Pl   \n",
      "79                      435 E Avenida Olancha   \n",
      "97                              316 N Main St   \n",
      "\n",
      "                                          categories          city country  \\\n",
      "57                             Lodging,Hotels,Motels      Percival      US   \n",
      "58                                Hotels,Restaurants    Los Olivos      US   \n",
      "59                                            Hotels        Kenedy      US   \n",
      "79                                      Hotels,Hotel  Palm Springs      US   \n",
      "97  Motels,Hotels,Restaurants,Bed & Breakfast & Inns       Neihart      US   \n",
      "\n",
      "     latitude   longitude                     name postalCode province  \\\n",
      "57  40.689730  -95.788826  Americas Best Value Inn      51648       IA   \n",
      "58  34.664684 -120.115036               Intermezzo      93441       CA   \n",
      "59  28.793795  -97.849655                 Studio 6      78119       TX   \n",
      "79  33.802822 -116.542690    Little Paradise Hotel      92264       CA   \n",
      "97  46.933598 -110.735886  Little Belt Inn Neihart      59465       MT   \n",
      "\n",
      "            reviews.date     reviews.dateAdded  reviews.doRecommend  \\\n",
      "57                   NaN  2016-04-06T13:03:08Z                  NaN   \n",
      "58                   NaN  2016-05-06T14:12:01Z                  NaN   \n",
      "59                   NaN  2016-05-07T01:34:14Z                  NaN   \n",
      "79  2016-07-12T00:00:00Z  2015-10-21T17:46:10Z                  NaN   \n",
      "97                   NaN  2016-06-16T21:25:59Z                  NaN   \n",
      "\n",
      "    reviews.id  reviews.rating  \\\n",
      "57         NaN             0.0   \n",
      "58         NaN             0.0   \n",
      "59         NaN             0.0   \n",
      "79         NaN             0.0   \n",
      "97         NaN             0.0   \n",
      "\n",
      "                                         reviews.text         reviews.title  \\\n",
      "57  b'to share your opinion of this businesswith Y...                   NaN   \n",
      "58  b'to share your opinion of this businesswith Y...                   NaN   \n",
      "59  b'to share your opinion of this businesswith Y...                   NaN   \n",
      "79  b'to share your opinion of this businesswith Y...  Lovely oasis of rest   \n",
      "97  b'to share your opinion of this businesswith Y...                   NaN   \n",
      "\n",
      "   reviews.userCity reviews.username reviews.userProvince  \n",
      "57              NaN   write a review                  NaN  \n",
      "58              NaN   write a review                  NaN  \n",
      "59              NaN   write a review                  NaN  \n",
      "79         Brussels   write a review                   CA  \n",
      "97              NaN   write a review                  NaN  \n"
     ]
    }
   ],
   "source": [
    "print(df_1[df_1[\"reviews.rating\"] == 0].head())"
   ]
  },
  {
   "cell_type": "markdown",
   "metadata": {},
   "source": [
    "From the unique values in DATASET_1, it seems that, while most of the reviews are rated on an integer scale between 1 and 5, at least some of the reviews are rated from 1.0-10.0. These reviews should be removed or re-scaled (I have chosen to remove them, as there are comparatively very few of them and there may be differences between what a user means by choosing two equivalent ratings on the two scales - ie. a 8/10 rating may have different connotations on average to a 4/5 rating.)\n",
    "\n",
    "Note: It is impossible to tell which of the remaining reviews are actually rated out of 10 rather than 5 - however, assuming the distribution of ratings out of 10 is similar to the distribution for ratings out of 5, there should be very few of these and their effect on any statistical analysis should be minor.\n",
    "\n",
    "Additionally, a quick glance at the 0 ratings suggests that these are not real reviews, but some artifact of the scraping process, and so should be removed as well."
   ]
  },
  {
   "cell_type": "code",
   "execution_count": 8,
   "metadata": {},
   "outputs": [
    {
     "name": "stdout",
     "output_type": "stream",
     "text": [
      "5.0    12664\n",
      "4.0     9747\n",
      "3.0     5705\n",
      "1.0     3065\n",
      "2.0     2978\n",
      "Name: reviews.rating, dtype: int64\n"
     ]
    }
   ],
   "source": [
    "df_1 = df_1[df_1[\"reviews.rating\"].isin([1.0,2.0,3.0,4.0,5.0])]\n",
    "\n",
    "print(df_1[\"reviews.rating\"].value_counts())"
   ]
  },
  {
   "cell_type": "code",
   "execution_count": 9,
   "metadata": {},
   "outputs": [
    {
     "name": "stdout",
     "output_type": "stream",
     "text": [
      "count    34159.000000\n",
      "mean       256.185544\n",
      "std        219.689435\n",
      "min          1.000000\n",
      "25%        103.000000\n",
      "50%        227.000000\n",
      "75%        330.000000\n",
      "max       3827.000000\n",
      "Name: reviews.length, dtype: float64\n"
     ]
    },
    {
     "data": {
      "text/plain": [
       "<matplotlib.axes._subplots.AxesSubplot at 0x200e4b4c940>"
      ]
     },
     "execution_count": 9,
     "metadata": {},
     "output_type": "execute_result"
    },
    {
     "data": {
      "image/png": "[encoded data removed]",
      "text/plain": [
       "<Figure size 432x288 with 1 Axes>"
      ]
     },
     "metadata": {
      "needs_background": "light"
     },
     "output_type": "display_data"
    }
   ],
   "source": [
    "df_1[\"reviews.length\"] = df_1[\"reviews.text\"].str.len()\n",
    "\n",
    "print(df_1[\"reviews.length\"].describe())\n",
    "\n",
    "df_1.boxplot(column=\"reviews.length\")\n"
   ]
  },
  {
   "cell_type": "code",
   "execution_count": 10,
   "metadata": {},
   "outputs": [
    {
     "data": {
      "text/plain": [
       "<matplotlib.axes._subplots.AxesSubplot at 0x200e3613860>"
      ]
     },
     "execution_count": 10,
     "metadata": {},
     "output_type": "execute_result"
    },
    {
     "data": {
      "image/png": "[encoded data removed]",
      "text/plain": [
       "<Figure size 432x288 with 1 Axes>"
      ]
     },
     "metadata": {
      "needs_background": "light"
     },
     "output_type": "display_data"
    }
   ],
   "source": [
    "df_1[\"reviews.length\"].hist(bins=100)"
   ]
  },
  {
   "cell_type": "code",
   "execution_count": 11,
   "metadata": {},
   "outputs": [
    {
     "data": {
      "text/plain": [
       "<matplotlib.axes._subplots.AxesSubplot at 0x200e2f2c828>"
      ]
     },
     "execution_count": 11,
     "metadata": {},
     "output_type": "execute_result"
    },
    {
     "data": {
      "image/png": "[encoded data removed]",
      "text/plain": [
       "<Figure size 432x288 with 1 Axes>"
      ]
     },
     "metadata": {
      "needs_background": "light"
     },
     "output_type": "display_data"
    }
   ],
   "source": [
    "df_1.boxplot(column=\"reviews.length\", by=\"reviews.rating\")"
   ]
  },
  {
   "cell_type": "markdown",
   "metadata": {},
   "source": [
    "Beacuse there is a large drop off in the number of reviews at around 450 characters, I have decided to remove all reviews longer than that, as their outlier status may negatively affect their usefulness in creating accurate sentiment analysis methodologies\n",
    "\n",
    "To remove reviews that are too small to be of use in determining sentiment, I have decided to use the 25th percentile length value (~100) as the minimum cutoff point."
   ]
  },
  {
   "cell_type": "code",
   "execution_count": 12,
   "metadata": {},
   "outputs": [
    {
     "name": "stdout",
     "output_type": "stream",
     "text": [
      "Number of records in pruned dataset: {} 22395\n",
      "Percentage of records kept: %{} 65.56105272402588\n"
     ]
    }
   ],
   "source": [
    "LOWER_BOUND = 100\n",
    "UPPER_BOUND = 450\n",
    "\n",
    "orig_size = df_1[\"reviews.text\"].count()\n",
    "\n",
    "df_1 = df_1[df_1[\"reviews.length\"].between(LOWER_BOUND, UPPER_BOUND)]\n",
    "\n",
    "\n",
    "new_size = df_1[\"reviews.text\"].count()\n",
    "\n",
    "print(\"Number of records in pruned dataset: {}\", new_size)\n",
    "print(\"Percentage of records kept: %{}\", (new_size/orig_size * 100))\n"
   ]
  },
  {
   "cell_type": "markdown",
   "metadata": {},
   "source": [
    "With around 65% of records kept from the dataset, I feel that these upper and lower bounds for length strike a good balance between removing outliers and keeping a large enough corpus to train any sentiment analysis models with."
   ]
  },
  {
   "cell_type": "markdown",
   "metadata": {},
   "source": [
    "### 2.2 Dataset 2"
   ]
  },
  {
   "cell_type": "code",
   "execution_count": 13,
   "metadata": {},
   "outputs": [
    {
     "data": {
      "text/plain": [
       "<matplotlib.axes._subplots.AxesSubplot at 0x200e308d278>"
      ]
     },
     "execution_count": 13,
     "metadata": {},
     "output_type": "execute_result"
    },
    {
     "data": {
      "image/png": "[encoded data removed]",
      "text/plain": [
       "<Figure size 432x288 with 1 Axes>"
      ]
     },
     "metadata": {
      "needs_background": "light"
     },
     "output_type": "display_data"
    }
   ],
   "source": [
    "df_2 = load_dataset(DATASET_2)\n",
    "df_2.head()\n",
    "\n",
    "df_2.boxplot(column=\"reviews.rating\")"
   ]
  },
  {
   "cell_type": "code",
   "execution_count": 14,
   "metadata": {},
   "outputs": [
    {
     "name": "stdout",
     "output_type": "stream",
     "text": [
      "5.00    4384\n",
      "4.00    2397\n",
      "3.00    1186\n",
      "1.00     572\n",
      "2.00     561\n",
      "4.80     162\n",
      "4.60     155\n",
      "4.40     102\n",
      "3.75      91\n",
      "4.15      78\n",
      "3.95      52\n",
      "3.55      50\n",
      "3.35      40\n",
      "3.15      37\n",
      "2.90      34\n",
      "2.70      23\n",
      "2.50      19\n",
      "2.30      12\n",
      "2.10      11\n",
      "1.65       8\n",
      "1.45       6\n",
      "4.50       4\n",
      "1.90       4\n",
      "3.25       2\n",
      "3.50       2\n",
      "1.25       2\n",
      "4.25       2\n",
      "2.75       1\n",
      "4.75       1\n",
      "3.45       1\n",
      "Name: reviews.rating, dtype: int64\n"
     ]
    }
   ],
   "source": [
    "print(df_2[\"reviews.rating\"].value_counts())"
   ]
  },
  {
   "cell_type": "markdown",
   "metadata": {},
   "source": [
    "For DATASET_2, all reviews are rated on the 1-5 scale, but a small minority are non-integer ratings. Here, it makes sense to round these ratings to the nearest integer"
   ]
  },
  {
   "cell_type": "code",
   "execution_count": 15,
   "metadata": {},
   "outputs": [
    {
     "name": "stdout",
     "output_type": "stream",
     "text": [
      "5.0    4702\n",
      "4.0    2778\n",
      "3.0    1324\n",
      "2.0     615\n",
      "1.0     580\n",
      "Name: reviews.rating, dtype: int64\n"
     ]
    }
   ],
   "source": [
    "df_2[\"reviews.rating\"] = df_2[\"reviews.rating\"].round()\n",
    "\n",
    "print(df_2[\"reviews.rating\"].value_counts())"
   ]
  },
  {
   "cell_type": "code",
   "execution_count": 16,
   "metadata": {},
   "outputs": [
    {
     "name": "stdout",
     "output_type": "stream",
     "text": [
      "count    9999.000000\n",
      "mean      324.666367\n",
      "std       295.447557\n",
      "min         1.000000\n",
      "25%       201.000000\n",
      "50%       298.000000\n",
      "75%       344.000000\n",
      "max      5939.000000\n",
      "Name: reviews.length, dtype: float64\n"
     ]
    },
    {
     "data": {
      "text/plain": [
       "<matplotlib.axes._subplots.AxesSubplot at 0x200e34bd3c8>"
      ]
     },
     "execution_count": 16,
     "metadata": {},
     "output_type": "execute_result"
    },
    {
     "data": {
      "image/png": "[encoded data removed]",
      "text/plain": [
       "<Figure size 432x288 with 1 Axes>"
      ]
     },
     "metadata": {
      "needs_background": "light"
     },
     "output_type": "display_data"
    }
   ],
   "source": [
    "df_2[\"reviews.length\"] = df_2[\"reviews.text\"].str.len()\n",
    "\n",
    "print(df_2[\"reviews.length\"].describe())\n",
    "\n",
    "df_2.boxplot(column=\"reviews.length\")"
   ]
  },
  {
   "cell_type": "code",
   "execution_count": 17,
   "metadata": {},
   "outputs": [
    {
     "data": {
      "text/plain": [
       "<matplotlib.axes._subplots.AxesSubplot at 0x200e34fbb00>"
      ]
     },
     "execution_count": 17,
     "metadata": {},
     "output_type": "execute_result"
    },
    {
     "data": {
      "image/png": "[encoded data removed]",
      "text/plain": [
       "<Figure size 432x288 with 1 Axes>"
      ]
     },
     "metadata": {
      "needs_background": "light"
     },
     "output_type": "display_data"
    }
   ],
   "source": [
    "df_2[\"reviews.length\"].hist(bins=100)"
   ]
  },
  {
   "cell_type": "code",
   "execution_count": 18,
   "metadata": {},
   "outputs": [
    {
     "data": {
      "text/plain": [
       "<matplotlib.axes._subplots.AxesSubplot at 0x200e47988d0>"
      ]
     },
     "execution_count": 18,
     "metadata": {},
     "output_type": "execute_result"
    },
    {
     "data": {
      "image/png": "[encoded data removed]",
      "text/plain": [
       "<Figure size 432x288 with 1 Axes>"
      ]
     },
     "metadata": {
      "needs_background": "light"
     },
     "output_type": "display_data"
    }
   ],
   "source": [
    "df_2.boxplot(column=\"reviews.length\", by=\"reviews.rating\")"
   ]
  },
  {
   "cell_type": "code",
   "execution_count": 19,
   "metadata": {},
   "outputs": [
    {
     "name": "stdout",
     "output_type": "stream",
     "text": [
      "Number of records in pruned dataset: {} 7474\n",
      "Percentage of records kept: %{} 74.74747474747475\n"
     ]
    }
   ],
   "source": [
    "orig_size = df_2[\"reviews.text\"].count()\n",
    "\n",
    "df_2 = df_2[df_2[\"reviews.length\"].between(LOWER_BOUND, UPPER_BOUND)]\n",
    "\n",
    "\n",
    "new_size = df_2[\"reviews.text\"].count()\n",
    "\n",
    "print(\"Number of records in pruned dataset: {}\", new_size)\n",
    "print(\"Percentage of records kept: %{}\", (new_size/orig_size * 100))"
   ]
  },
  {
   "cell_type": "markdown",
   "metadata": {},
   "source": [
    "### 2.3 Dataset 3"
   ]
  },
  {
   "cell_type": "code",
   "execution_count": 20,
   "metadata": {},
   "outputs": [
    {
     "name": "stdout",
     "output_type": "stream",
     "text": [
      "5    4840\n",
      "4    2849\n",
      "3    1190\n",
      "1     567\n",
      "2     554\n",
      "Name: reviews.rating, dtype: int64\n"
     ]
    },
    {
     "data": {
      "image/png": "[encoded data removed]",
      "text/plain": [
       "<Figure size 432x288 with 1 Axes>"
      ]
     },
     "metadata": {
      "needs_background": "light"
     },
     "output_type": "display_data"
    }
   ],
   "source": [
    "df_3 = load_dataset(DATASET_3)\n",
    "\n",
    "df_3.head()\n",
    "\n",
    "df_3.boxplot(column=\"reviews.rating\")\n",
    "print(df_3[\"reviews.rating\"].value_counts())"
   ]
  },
  {
   "cell_type": "markdown",
   "metadata": {},
   "source": [
    "In DATASET_3, all of the reviews are already on the integer 1-5 scale, so there is nothing that needs to be done."
   ]
  },
  {
   "cell_type": "code",
   "execution_count": 21,
   "metadata": {},
   "outputs": [
    {
     "name": "stdout",
     "output_type": "stream",
     "text": [
      "count    10000.000000\n",
      "mean       651.899600\n",
      "std        593.559418\n",
      "min          8.000000\n",
      "25%        302.000000\n",
      "50%        462.000000\n",
      "75%        812.250000\n",
      "max      14254.000000\n",
      "Name: reviews.length, dtype: float64\n"
     ]
    },
    {
     "data": {
      "text/plain": [
       "<matplotlib.axes._subplots.AxesSubplot at 0x200e49f62e8>"
      ]
     },
     "execution_count": 21,
     "metadata": {},
     "output_type": "execute_result"
    },
    {
     "data": {
      "image/png": "[encoded data removed]",
      "text/plain": [
       "<Figure size 432x288 with 1 Axes>"
      ]
     },
     "metadata": {
      "needs_background": "light"
     },
     "output_type": "display_data"
    }
   ],
   "source": [
    "df_3[\"reviews.length\"] = df_3[\"reviews.text\"].str.len()\n",
    "\n",
    "print(df_3[\"reviews.length\"].describe())\n",
    "\n",
    "df_3.boxplot(column=\"reviews.length\")\n"
   ]
  },
  {
   "cell_type": "code",
   "execution_count": 22,
   "metadata": {},
   "outputs": [
    {
     "data": {
      "text/plain": [
       "<matplotlib.axes._subplots.AxesSubplot at 0x200e49a2400>"
      ]
     },
     "execution_count": 22,
     "metadata": {},
     "output_type": "execute_result"
    },
    {
     "data": {
      "image/png": "[encoded data removed]",
      "text/plain": [
       "<Figure size 432x288 with 1 Axes>"
      ]
     },
     "metadata": {
      "needs_background": "light"
     },
     "output_type": "display_data"
    }
   ],
   "source": [
    "df_3[\"reviews.length\"].hist(bins=100)"
   ]
  },
  {
   "cell_type": "code",
   "execution_count": 23,
   "metadata": {},
   "outputs": [
    {
     "data": {
      "text/plain": [
       "<matplotlib.axes._subplots.AxesSubplot at 0x200e49f6240>"
      ]
     },
     "execution_count": 23,
     "metadata": {},
     "output_type": "execute_result"
    },
    {
     "data": {
      "image/png": "[encoded data removed]",
      "text/plain": [
       "<Figure size 432x288 with 1 Axes>"
      ]
     },
     "metadata": {
      "needs_background": "light"
     },
     "output_type": "display_data"
    }
   ],
   "source": [
    "df_3.boxplot(column=\"reviews.length\", by=\"reviews.rating\")"
   ]
  },
  {
   "cell_type": "code",
   "execution_count": 24,
   "metadata": {},
   "outputs": [
    {
     "name": "stdout",
     "output_type": "stream",
     "text": [
      "Number of records in pruned dataset: 4871\n",
      "Percentage of records kept: 48.71%\n"
     ]
    }
   ],
   "source": [
    "orig_size = df_3[\"reviews.text\"].count()\n",
    "\n",
    "df_3 = df_3[df_3[\"reviews.length\"].between(LOWER_BOUND, UPPER_BOUND)]\n",
    "\n",
    "\n",
    "new_size = df_3[\"reviews.text\"].count()\n",
    "\n",
    "print(\"Number of records in pruned dataset: {}\".format(new_size))\n",
    "print(\"Percentage of records kept: {}%\".format(new_size/orig_size * 100))"
   ]
  },
  {
   "cell_type": "markdown",
   "metadata": {},
   "source": [
    "Using the Upper and Lower length bounds for Dataset 1 here have resulted in a significantly larger number of records being eliminated. This suggests that this set of reviews is obtained from a different source, or using a different scraper system, and so may have different underlying properties (eg. if these reviews are obtained from a different website, the users of that website may have a different interpretation of the review scale).\n",
    "\n",
    "While I have decided to simply include the dataset as is, a more robust analysis to properly understand the differences between this dataset and the others could be very useful in improving any statistical models trained."
   ]
  },
  {
   "cell_type": "markdown",
   "metadata": {},
   "source": [
    "### 2.4 Combining the Three Datasets"
   ]
  },
  {
   "cell_type": "code",
   "execution_count": 25,
   "metadata": {},
   "outputs": [
    {
     "name": "stdout",
     "output_type": "stream",
     "text": [
      "{'reviews.date', 'longitude', 'reviews.userProvince', 'reviews.rating', 'categories', 'postalCode', 'latitude', 'reviews.length', 'reviews.username', 'name', 'city', 'province', 'reviews.title', 'address', 'reviews.text', 'reviews.userCity', 'country'}\n"
     ]
    }
   ],
   "source": [
    "#Find the columns that are present in each of the three datasets, and make sure that there aren't any important columns\n",
    "# (review text, title, rating, etc.) that are functionally identical, but named differently\n",
    "columns_intersection = set.intersection(set(df_1.columns.values),set(df_2.columns.values), set(df_3.columns.values))\n",
    "print(columns_intersection)"
   ]
  },
  {
   "cell_type": "code",
   "execution_count": 26,
   "metadata": {},
   "outputs": [
    {
     "name": "stdout",
     "output_type": "stream",
     "text": [
      "   reviews.rating                                       reviews.text  \\\n",
      "0             4.0  b\"Pleasant 10 min walk along the sea front to ...   \n",
      "1             5.0  b\"Really lovely hotel. Stayed on the very top ...   \n",
      "2             5.0  b'Ett mycket bra hotell. Det som drog ner bety...   \n",
      "3             5.0  b'We stayed here for four nights in October. T...   \n",
      "4             5.0  b'We loved staying on the island of Lido! You ...   \n",
      "\n",
      "   reviews.length  \n",
      "0             194  \n",
      "1             252  \n",
      "2             136  \n",
      "3             354  \n",
      "4             326  \n",
      "34223\n"
     ]
    }
   ],
   "source": [
    "#now concatenate the chosen data sources on the schema intersection\n",
    "\n",
    "df = pd.concat([df_1,df_2,df_3], join=\"inner\")\n",
    "\n",
    "#remove unnecessary columns\n",
    "df = df[[\"reviews.rating\", \"reviews.text\", \"reviews.length\"]]\n",
    "\n",
    "\n",
    "#remove reviews with the same rating and text\n",
    "df = df.drop_duplicates()\n",
    "\n",
    "df = df.reset_index(drop=True)\n",
    "\n",
    "print(df.head())\n",
    "\n",
    "print(len(df))"
   ]
  },
  {
   "cell_type": "code",
   "execution_count": 27,
   "metadata": {},
   "outputs": [
    {
     "name": "stdout",
     "output_type": "stream",
     "text": [
      "reviews.rating                                                    5\n",
      "reviews.text      b'Americinn on the Au Sable river is a gem! Ve...\n",
      "reviews.length                                                  327\n",
      "Name: 789, dtype: object\n"
     ]
    }
   ],
   "source": [
    "print(df.loc[789,:])"
   ]
  },
  {
   "cell_type": "code",
   "execution_count": 28,
   "metadata": {},
   "outputs": [
    {
     "data": {
      "text/plain": [
       "reviews.rating    34223\n",
       "reviews.text      34223\n",
       "reviews.length    34223\n",
       "dtype: int64"
      ]
     },
     "execution_count": 28,
     "metadata": {},
     "output_type": "execute_result"
    }
   ],
   "source": [
    "df.count()"
   ]
  },
  {
   "cell_type": "code",
   "execution_count": 29,
   "metadata": {},
   "outputs": [
    {
     "data": {
      "text/html": [
       "<div>\n",
       "<style scoped>\n",
       "    .dataframe tbody tr th:only-of-type {\n",
       "        vertical-align: middle;\n",
       "    }\n",
       "\n",
       "    .dataframe tbody tr th {\n",
       "        vertical-align: top;\n",
       "    }\n",
       "\n",
       "    .dataframe thead th {\n",
       "        text-align: right;\n",
       "    }\n",
       "</style>\n",
       "<table border=\"1\" class=\"dataframe\">\n",
       "  <thead>\n",
       "    <tr style=\"text-align: right;\">\n",
       "      <th></th>\n",
       "      <th>reviews.rating</th>\n",
       "      <th>reviews.text</th>\n",
       "      <th>reviews.length</th>\n",
       "    </tr>\n",
       "  </thead>\n",
       "  <tbody>\n",
       "  </tbody>\n",
       "</table>\n",
       "</div>"
      ],
      "text/plain": [
       "Empty DataFrame\n",
       "Columns: [reviews.rating, reviews.text, reviews.length]\n",
       "Index: []"
      ]
     },
     "execution_count": 29,
     "metadata": {},
     "output_type": "execute_result"
    }
   ],
   "source": [
    "df[df[\"reviews.text\"] == \"\"]\n"
   ]
  },
  {
   "cell_type": "markdown",
   "metadata": {},
   "source": [
    "## 3. Translation of non-English reviews "
   ]
  },
  {
   "cell_type": "code",
   "execution_count": 31,
   "metadata": {},
   "outputs": [
    {
     "name": "stdout",
     "output_type": "stream",
     "text": [
      "Total number of characters in dataset: 9,075,527\n",
      "At $20 per million characters, using google cloud translate would cost $181.51\n"
     ]
    }
   ],
   "source": [
    "print(\"Total number of characters in dataset: {:,.0f}\".format(df[\"reviews.length\"].sum()))\n",
    "print(\"At $20 per million characters, using google cloud translate would cost ${:,.2f}\".format(df[\"reviews.length\"].sum() / 1000000 * 20))"
   ]
  },
  {
   "cell_type": "markdown",
   "metadata": {},
   "source": [
    "Given the cost of detecting and translating the languages of each review, it is unfeasible for me to use this in any data analytics pipeline in this project. However, to examine the usefullness of translation as a pre-processing step, I will create a smaller dataset (1000 records) which will be translated and used in each sentiment analysis approach."
   ]
  },
  {
   "cell_type": "code",
   "execution_count": 32,
   "metadata": {},
   "outputs": [
    {
     "name": "stdout",
     "output_type": "stream",
     "text": [
      "   reviews.rating                                       reviews.text  \\\n",
      "0             4.0  b\"Pleasant 10 min walk along the sea front to ...   \n",
      "1             5.0  b\"Really lovely hotel. Stayed on the very top ...   \n",
      "2             5.0  b'Ett mycket bra hotell. Det som drog ner bety...   \n",
      "3             5.0  b'We stayed here for four nights in October. T...   \n",
      "4             5.0  b'We loved staying on the island of Lido! You ...   \n",
      "\n",
      "   reviews.length  \n",
      "0             194  \n",
      "1             252  \n",
      "2             136  \n",
      "3             354  \n",
      "4             326  \n",
      "1000\n",
      "Total number of characters in dataset: 254,655\n",
      "At $20 per million characters, using google cloud translate would cost at least $5.09\n"
     ]
    }
   ],
   "source": [
    "df_small = df.loc[0:999, :]\n",
    "\n",
    "print(df_small.head())\n",
    "\n",
    "print(len(df_small))\n",
    "print(\"Total number of characters in dataset: {:,.0f}\".format(df_small[\"reviews.length\"].sum()))\n",
    "print(\"At $20 per million characters, using google cloud translate would cost at least ${:,.2f}\".format(df_small[\"reviews.length\"].sum() / 1000000 * 20))"
   ]
  },
  {
   "cell_type": "code",
   "execution_count": 34,
   "metadata": {},
   "outputs": [],
   "source": [
    "client = translate.Client()\n",
    "\n",
    "#uses the google cloud translate API to detect the text language, returning the language and the confidence\n",
    "def detect_language(text):\n",
    "\n",
    "    #get the translation from the API (allowing for a few seconds to breathe when at the rate limit)\n",
    "    while(True):\n",
    "        try:\n",
    "            detection = client.detect_language(text.decode(\"utf-8\"))\n",
    "        except Forbidden as e:\n",
    "            #print(e.message)\n",
    "            \n",
    "            #if we're hitting the rate limit, wait a second and try again\n",
    "            if e.message == \"POST https://translation.googleapis.com/language/translate/v2/detect: User Rate Limit Exceeded\":\n",
    "                time.sleep(1)\n",
    "                continue\n",
    "            else: raise #otherwise, throw the error as usual\n",
    "        break\n",
    "        \n",
    "    language = detection[\"language\"]\n",
    "    \n",
    "    #because the API says that the confidence value is not always available, give a confidence value of 1 \n",
    "    # (full confidence) if the confidence is not given to us\n",
    "    \n",
    "    confidence = detection[\"confidence\"] if \"confidence\" in detection else 1\n",
    "    \n",
    "    return language, confidence\n",
    "    \n",
    "#uses the google cloud translate API to\n",
    "#print(detect_language(\"aaaaaaa\"))\n",
    "\n",
    "def translate_text(text, source_lang=\"en\", target_lang=\"en\"):\n",
    "    \n",
    "    while(True):\n",
    "        try:\n",
    "            translation = client.translate(text.decode(\"utf-8\"), source_language=source_lang, target_language=target_lang)\n",
    "        except Forbidden as e:\n",
    "            #if we're hitting the rate limit, wait a second and try again\n",
    "            if e.message == \"POST https://translation.googleapis.com/language/translate/v2/detect: User Rate Limit Exceeded\":\n",
    "                time.sleep(1)\n",
    "                continue\n",
    "            else: raise #otherwise, throw the error as usual\n",
    "        except BadRequest as e:\n",
    "                print(text.decode(\"utf-8\"), \" \", source_lang, \"-\", target_lang)\n",
    "                raise\n",
    "        break\n",
    "    \n",
    "    return translation[\"translatedText\"].encode(\"utf-8\")\n",
    "\n"
   ]
  },
  {
   "cell_type": "code",
   "execution_count": 35,
   "metadata": {},
   "outputs": [],
   "source": [
    "def translate_dataframe(frame, redetect_languages=False, translator_functionality=TRANSLATOR_FUNCTIONALITY):\n",
    "    \n",
    "    #if selected, skip translating by just copying the untranslated text to the translated text column\n",
    "    if USE_TRANSLATOR == False:\n",
    "        frame[\"translated_text\"] = frame[\"reviews.text\"]\n",
    "        return frame\n",
    "    \n",
    "    #skip if we already have detected languages and are not explicitly re-collecting them\n",
    "    if (\"detected_language\" not in frame.columns) or (redetect_languages==True): \n",
    "        frame.loc[:,\"detected_language\"] = frame[\"reviews.text\"].progress_map(detect_language)\n",
    "        \n",
    "    #save the detected languages so further testing and work doesn't require going through the process of\n",
    "    #requesting language detection again\n",
    "    df.to_csv(\"reviewratings_withlanguagedetection.csv\")\n",
    "    \n",
    "    \n",
    "    #now take all the reviews not in the source language and deal with them according to the functionality option set\n",
    "    \n",
    "    if translator_functionality == TRANSLATOR_OPTIONS.TRANSLATE:\n",
    "        pass\n",
    "        \n",
    "        frame.loc[:,\"translated_text\"] = frame.progress_apply(lambda x: translate_text(x[\"reviews.text\"], \n",
    "                                                                                 source_lang=x[\"detected_language\"][0])\n",
    "                                                            if x[\"detected_language\"][0] != \"en\"\n",
    "                                                            else x[\"reviews.text\"]\n",
    "                                                        ,axis=1) \n",
    "        \n",
    "    elif translator_functionality == TRANSLATOR_OPTIONS.REMOVE:\n",
    "        \n",
    "        frame = frame[frame[\"detected_language\"][0] == \"en\"]\n",
    "        frame = frame.reset_index(drop=True)\n",
    "        frame.loc[:,\"translated_text\"] = frame[\"reviews.text\"]\n",
    "        \n",
    "    elif translator_functionality == TRANSLATOR_OPTIONS.THRESHOLD:\n",
    "        \n",
    "        frame = frame[frame[\"detected_language\"][0] == \"en\" or frame[\"detected_language\"][1] > TRANSLATOR_THRESHOLD]\n",
    "        frame = frame.reset_index(drop=True)\n",
    "        frame[\"translated_text\"] = [row[\"reviews.text\"] if row[\"detected_language\"][0] == \"en\" \n",
    "                                    else translate_text(row[\"reviews.text\"], source_lang=row[\"detected_language\"][0])\n",
    "                                    for row in frame]\n",
    "        pass\n",
    "    \n",
    "    \n",
    "    return frame\n",
    "\n",
    "#test_df = df.head().copy()\n",
    "#df_detected = translate_dataframe(test_df)\n",
    "#print(df_detected[\"detected_language\"].head())\n"
   ]
  },
  {
   "cell_type": "code",
   "execution_count": null,
   "metadata": {},
   "outputs": [],
   "source": []
  },
  {
   "cell_type": "code",
   "execution_count": 70,
   "metadata": {},
   "outputs": [
    {
     "data": {
      "application/vnd.jupyter.widget-view+json": {
       "model_id": "a4406aa7b113451897044f0f1930a2aa",
       "version_major": 2,
       "version_minor": 0
      },
      "text/plain": [
       "HBox(children=(IntProgress(value=0, max=5), HTML(value='')))"
      ]
     },
     "metadata": {},
     "output_type": "display_data"
    },
    {
     "data": {
      "application/vnd.jupyter.widget-view+json": {
       "model_id": "1bb3e929a1314efcbed03ac134a16729",
       "version_major": 2,
       "version_minor": 0
      },
      "text/plain": [
       "HBox(children=(IntProgress(value=0, max=5), HTML(value='')))"
      ]
     },
     "metadata": {},
     "output_type": "display_data"
    },
    {
     "name": "stdout",
     "output_type": "stream",
     "text": [
      "   reviews.rating                                       reviews.text  \\\n",
      "0             4.0  b\"Pleasant 10 min walk along the sea front to ...   \n",
      "1             5.0  b\"Really lovely hotel. Stayed on the very top ...   \n",
      "2             5.0  b'Ett mycket bra hotell. Det som drog ner bety...   \n",
      "3             5.0  b'We stayed here for four nights in October. T...   \n",
      "4             5.0  b'We loved staying on the island of Lido! You ...   \n",
      "\n",
      "   reviews.length detected_language  \\\n",
      "0             194           (en, 1)   \n",
      "1             252           (en, 1)   \n",
      "2             136           (sv, 1)   \n",
      "3             354           (en, 1)   \n",
      "4             326           (en, 1)   \n",
      "\n",
      "                                     translated_text  \n",
      "0  b\"Pleasant 10 min walk along the sea front to ...  \n",
      "1  b\"Really lovely hotel. Stayed on the very top ...  \n",
      "2  b'A very good hotel. What pulled down the grad...  \n",
      "3  b'We stayed here for four nights in October. T...  \n",
      "4  b'We loved staying on the island of Lido! You ...  \n"
     ]
    }
   ],
   "source": [
    "\n",
    "#first test using the first 5 records (of which one is in swedish)\n",
    "\n",
    "df_tiny = df.head().copy()\n",
    "\n",
    "df_tiny = translate_dataframe(df_tiny)\n",
    "\n",
    "print(df_tiny)\n"
   ]
  },
  {
   "cell_type": "code",
   "execution_count": 41,
   "metadata": {
    "scrolled": true
   },
   "outputs": [
    {
     "data": {
      "application/vnd.jupyter.widget-view+json": {
       "model_id": "021effacb9944d3f8d9e4d31b245fe66",
       "version_major": 2,
       "version_minor": 0
      },
      "text/plain": [
       "HBox(children=(IntProgress(value=0, max=1000), HTML(value='')))"
      ]
     },
     "metadata": {},
     "output_type": "display_data"
    },
    {
     "name": "stdout",
     "output_type": "stream",
     "text": [
      "\n"
     ]
    },
    {
     "name": "stderr",
     "output_type": "stream",
     "text": [
      "C:\\Users\\lenovo\\Anaconda3\\lib\\site-packages\\pandas\\core\\indexing.py:362: SettingWithCopyWarning: \n",
      "A value is trying to be set on a copy of a slice from a DataFrame.\n",
      "Try using .loc[row_indexer,col_indexer] = value instead\n",
      "\n",
      "See the caveats in the documentation: http://pandas.pydata.org/pandas-docs/stable/indexing.html#indexing-view-versus-copy\n",
      "  self.obj[key] = _infer_fill_value(value)\n",
      "C:\\Users\\lenovo\\Anaconda3\\lib\\site-packages\\pandas\\core\\indexing.py:543: SettingWithCopyWarning: \n",
      "A value is trying to be set on a copy of a slice from a DataFrame.\n",
      "Try using .loc[row_indexer,col_indexer] = value instead\n",
      "\n",
      "See the caveats in the documentation: http://pandas.pydata.org/pandas-docs/stable/indexing.html#indexing-view-versus-copy\n",
      "  self.obj[item] = s\n"
     ]
    },
    {
     "data": {
      "application/vnd.jupyter.widget-view+json": {
       "model_id": "0521b0274eeb40d7a6a0007276e812a8",
       "version_major": 2,
       "version_minor": 0
      },
      "text/plain": [
       "HBox(children=(IntProgress(value=0, max=1000), HTML(value='')))"
      ]
     },
     "metadata": {},
     "output_type": "display_data"
    },
    {
     "name": "stdout",
     "output_type": "stream",
     "text": [
      "\n"
     ]
    }
   ],
   "source": [
    "#load_dataset(\"df_small.csv\") # skip translating by loading a pre-translated dataframe\n",
    "\n",
    "#detecting and translating the truncated dataset\n",
    "df_small = translate_dataframe(df_small)"
   ]
  },
  {
   "cell_type": "code",
   "execution_count": 42,
   "metadata": {},
   "outputs": [
    {
     "name": "stdout",
     "output_type": "stream",
     "text": [
      "     reviews.rating                                       reviews.text  \\\n",
      "0               4.0  b\"Pleasant 10 min walk along the sea front to ...   \n",
      "1               5.0  b\"Really lovely hotel. Stayed on the very top ...   \n",
      "2               5.0  b'Ett mycket bra hotell. Det som drog ner bety...   \n",
      "3               5.0  b'We stayed here for four nights in October. T...   \n",
      "4               5.0  b'We loved staying on the island of Lido! You ...   \n",
      "5               4.0  b'ottimo soggiorno e ottima sistemazione nei g...   \n",
      "6               3.0  b'Gnstiger Ausgangspunkt fr Venedig Besuche. R...   \n",
      "7               4.0  b'Lidoen er perfekt til et par dages ro og afs...   \n",
      "8               4.0  b'Accueil chaleureux, en franais Changement du...   \n",
      "9               3.0  b'It was ok hotel is nice from in and out but ...   \n",
      "10              4.0  b'Klasse Frhstck, freundliches und aufmerksame...   \n",
      "11              4.0  b'Bardzo sympatyczna obsuga, klimat hotelu. wi...   \n",
      "12              4.0  b'Bra o lugnt lge. Stor terrass. Nra till den ...   \n",
      "13              4.0  b'The hotel staff was very friendly and helpfu...   \n",
      "14              4.0  b'Nice hotel , with very friendly staff and he...   \n",
      "15              4.0  b'Wir hatten leider Pech mit unserem Zimmer,wa...   \n",
      "16              1.0  b'Hotellihuone oli ullakolla, jossa ei pystyny...   \n",
      "17              5.0  b'Lovely hotel, 10 min walk to the water bus s...   \n",
      "18              4.0  b'Hotel ist sehr gut , wir waren zum zweiten m...   \n",
      "19              4.0  b'Nous avons pass 4 jours dans cet htel situ 5...   \n",
      "20              4.0  b'This hotel is in Lido which is a better choi...   \n",
      "21              4.0  b'It was a 10 min+ walk to water bus, would ha...   \n",
      "22              3.0  b\"Room was tiny-bed saggy-bAthroom door didn't...   \n",
      "23              5.0  b'VERY FRIENDLY AND HELPFUL WITH DIRECTIONS, K...   \n",
      "24              4.0  b'Hotel sympathique et silencieux sur l ile du...   \n",
      "25              5.0  b'Havde 7 overnatninger i april 2015 p Hotel R...   \n",
      "26              5.0  b'Really enjoyed the stay, about a 10min walk ...   \n",
      "27              2.0  b'Walls extremely thin, you can hear everythin...   \n",
      "28              4.0  b'Hotel facilities are good and breakfast ampl...   \n",
      "29              4.0  b'Friendly reception very helpful. Hotel has p...   \n",
      "..              ...                                                ...   \n",
      "970             5.0  b'My man and I wanted a weekend away so we cam...   \n",
      "971             4.0  b'My wife and I stayed here 3/4/16 to attend a...   \n",
      "972             5.0  b'This is our the fourth time we have stayed a...   \n",
      "973             5.0  b'I need to be clear - I have never stayed at ...   \n",
      "974             5.0  b'The room we stayed in was in the main buildi...   \n",
      "975             5.0  b\"We stayed in the Pheasant Room for three nig...   \n",
      "976             5.0  b'I would highly recommend the Mt. Gardner Inn...   \n",
      "977             5.0  b\"I ski in Winthrop every Christmas and love s...   \n",
      "978             5.0  b'We stayed in room 2 which was a pet friendly...   \n",
      "979             5.0  b'The staff were extremely helpful and friendl...   \n",
      "980             5.0  b\"Alison and Greg are wonderful hosts! We have...   \n",
      "981             5.0  b'We stayed in their least expensive room and ...   \n",
      "982             5.0  b\"Have stayed at Alison and Greg's inn for ove...   \n",
      "983             5.0  b'When we asked if they had a vine opener to b...   \n",
      "984             5.0  b'This property is very well maintained and th...   \n",
      "985             5.0  b'Our run club rented 2 rooms at Mt Gardner In...   \n",
      "986             5.0  b\"I haven't stayed at a small family owned mot...   \n",
      "987             5.0  b'This is the perfect place to stay for a visi...   \n",
      "988             5.0  b'Fantastic! Our hosts Allison and Greg greete...   \n",
      "989             5.0  b\"My husband and I love this place! Comfortabl...   \n",
      "990             5.0  b'Wonderful accommodations...super clean, beds...   \n",
      "991             5.0  b'We were warmly welcomed, and given great din...   \n",
      "992             5.0  b'My bestfriend and I took a short trip to Win...   \n",
      "993             4.0  b'My family stayed in the Pheasant room at the...   \n",
      "994             5.0  b'This is such a nice, clean place. We walked ...   \n",
      "995             5.0  b'I gave three nights at Mt. Gardner to my hus...   \n",
      "996             5.0  b'We stayed 2 nights in the Grouse room (2nd f...   \n",
      "997             5.0  b\"I almost never write reviews, but our experi...   \n",
      "998             5.0  b'We have stayed in numerous places in the Met...   \n",
      "999             5.0  b\"We drove up to Winthrop for their Christmas ...   \n",
      "\n",
      "     reviews.length         detected_language  \\\n",
      "0               194                   (en, 1)   \n",
      "1               252                   (en, 1)   \n",
      "2               136                   (sv, 1)   \n",
      "3               354                   (en, 1)   \n",
      "4               326                   (en, 1)   \n",
      "5               224                   (it, 1)   \n",
      "6               311                   (de, 1)   \n",
      "7               130                   (da, 1)   \n",
      "8               166  (fr, 0.9191928505897522)   \n",
      "9               112                   (en, 1)   \n",
      "10              171                   (de, 1)   \n",
      "11              117                   (pl, 1)   \n",
      "12              147                   (sv, 1)   \n",
      "13              241                   (en, 1)   \n",
      "14              104                   (en, 1)   \n",
      "15              125                   (de, 1)   \n",
      "16              381                   (fi, 1)   \n",
      "17              143                   (en, 1)   \n",
      "18              204                   (de, 1)   \n",
      "19              260  (fr, 0.9786085486412048)   \n",
      "20              272                   (en, 1)   \n",
      "21              129                   (en, 1)   \n",
      "22              120                   (en, 1)   \n",
      "23              274                   (en, 1)   \n",
      "24              223  (fr, 0.8936119675636292)   \n",
      "25              290                   (da, 1)   \n",
      "26              137                   (en, 1)   \n",
      "27              137                   (en, 1)   \n",
      "28              205                   (en, 1)   \n",
      "29              275                   (en, 1)   \n",
      "..              ...                       ...   \n",
      "970             311                   (en, 1)   \n",
      "971             315                   (en, 1)   \n",
      "972             340                   (en, 1)   \n",
      "973             326                   (en, 1)   \n",
      "974             335                   (en, 1)   \n",
      "975             276                   (en, 1)   \n",
      "976             316                   (en, 1)   \n",
      "977             301                   (en, 1)   \n",
      "978             313                   (en, 1)   \n",
      "979             241                   (en, 1)   \n",
      "980             339                   (en, 1)   \n",
      "981             324                   (en, 1)   \n",
      "982             313                   (en, 1)   \n",
      "983             221                   (en, 1)   \n",
      "984             329                   (en, 1)   \n",
      "985             326                   (en, 1)   \n",
      "986             291                   (en, 1)   \n",
      "987             338                   (en, 1)   \n",
      "988             360                   (en, 1)   \n",
      "989             314                   (en, 1)   \n",
      "990             209                   (en, 1)   \n",
      "991             284                   (en, 1)   \n",
      "992             304                   (en, 1)   \n",
      "993             306                   (en, 1)   \n",
      "994             304                   (en, 1)   \n",
      "995             318                   (en, 1)   \n",
      "996             348                   (en, 1)   \n",
      "997             357                   (en, 1)   \n",
      "998             349                   (en, 1)   \n",
      "999             306                   (en, 1)   \n",
      "\n",
      "                                       translated_text  \n",
      "0    b\"Pleasant 10 min walk along the sea front to ...  \n",
      "1    b\"Really lovely hotel. Stayed on the very top ...  \n",
      "2    b'A very good hotel. What pulled down the grad...  \n",
      "3    b'We stayed here for four nights in October. T...  \n",
      "4    b'We loved staying on the island of Lido! You ...  \n",
      "5    b'excellent stay and excellent accommodation i...  \n",
      "6    b'Favorable starting point for visits to Venic...  \n",
      "7    b'The lido is perfect for a couple of days of ...  \n",
      "8    b'Warm welcome, in French Change of bed linen ...  \n",
      "9    b'It was ok hotel is nice from in and out but ...  \n",
      "10   b'Great breakfast, friendly and attentive staf...  \n",
      "11   b'Very nice staff, the atmosphere of the hotel...  \n",
      "12   b'Good and quiet. Large terrace. Close to the ...  \n",
      "13   b'The hotel staff was very friendly and helpfu...  \n",
      "14   b'Nice hotel , with very friendly staff and he...  \n",
      "15   b'Unfortunately we were unlucky with our room,...  \n",
      "16   b'The hotel room was in the attic, where one c...  \n",
      "17   b'Lovely hotel, 10 min walk to the water bus s...  \n",
      "18   b'Hotel is very good, it was our second time i...  \n",
      "19   b'We spent 4 days in this hotel located 5 mins...  \n",
      "20   b'This hotel is in Lido which is a better choi...  \n",
      "21   b'It was a 10 min+ walk to water bus, would ha...  \n",
      "22   b\"Room was tiny-bed saggy-bAthroom door didn't...  \n",
      "23   b'VERY FRIENDLY AND HELPFUL WITH DIRECTIONS, K...  \n",
      "24   b'Friendly and quiet hotel on the Lido Island ...  \n",
      "25   b'Had 7 nights in April 2015 at Hotel Russo Pa...  \n",
      "26   b'Really enjoyed the stay, about a 10min walk ...  \n",
      "27   b'Walls extremely thin, you can hear everythin...  \n",
      "28   b'Hotel facilities are good and breakfast ampl...  \n",
      "29   b'Friendly reception very helpful. Hotel has p...  \n",
      "..                                                 ...  \n",
      "970  b'My man and I wanted a weekend away so we cam...  \n",
      "971  b'My wife and I stayed here 3/4/16 to attend a...  \n",
      "972  b'This is our the fourth time we have stayed a...  \n",
      "973  b'I need to be clear - I have never stayed at ...  \n",
      "974  b'The room we stayed in was in the main buildi...  \n",
      "975  b\"We stayed in the Pheasant Room for three nig...  \n",
      "976  b'I would highly recommend the Mt. Gardner Inn...  \n",
      "977  b\"I ski in Winthrop every Christmas and love s...  \n",
      "978  b'We stayed in room 2 which was a pet friendly...  \n",
      "979  b'The staff were extremely helpful and friendl...  \n",
      "980  b\"Alison and Greg are wonderful hosts! We have...  \n",
      "981  b'We stayed in their least expensive room and ...  \n",
      "982  b\"Have stayed at Alison and Greg's inn for ove...  \n",
      "983  b'When we asked if they had a vine opener to b...  \n",
      "984  b'This property is very well maintained and th...  \n",
      "985  b'Our run club rented 2 rooms at Mt Gardner In...  \n",
      "986  b\"I haven't stayed at a small family owned mot...  \n",
      "987  b'This is the perfect place to stay for a visi...  \n",
      "988  b'Fantastic! Our hosts Allison and Greg greete...  \n",
      "989  b\"My husband and I love this place! Comfortabl...  \n",
      "990  b'Wonderful accommodations...super clean, beds...  \n",
      "991  b'We were warmly welcomed, and given great din...  \n",
      "992  b'My bestfriend and I took a short trip to Win...  \n",
      "993  b'My family stayed in the Pheasant room at the...  \n",
      "994  b'This is such a nice, clean place. We walked ...  \n",
      "995  b'I gave three nights at Mt. Gardner to my hus...  \n",
      "996  b'We stayed 2 nights in the Grouse room (2nd f...  \n",
      "997  b\"I almost never write reviews, but our experi...  \n",
      "998  b'We have stayed in numerous places in the Met...  \n",
      "999  b\"We drove up to Winthrop for their Christmas ...  \n",
      "\n"
     ]
    },
    {
     "name": "stdout",
     "output_type": "stream",
     "text": [
      "[1000 rows x 5 columns]\n"
     ]
    }
   ],
   "source": [
    "print(df_small)\n",
    "save_dataset(df_small, \"df_small.csv\")\n"
   ]
  },
  {
   "cell_type": "markdown",
   "metadata": {},
   "source": [
    "## 4. Sentiment Analysis"
   ]
  },
  {
   "cell_type": "markdown",
   "metadata": {},
   "source": [
    "### 4.1 Pros and Cons of Various Approaches"
   ]
  },
  {
   "cell_type": "markdown",
   "metadata": {},
   "source": [
    "As with all Data Science problems, there are many possible solutions, each with different benefits and drawbacks specific to the nature of the approaches used and the assumptions underlying each model. For the purposes of this project, I have decided to implement four different approaches, and will evaluate the effectiveness of each (in terms of accuracy, time, cost, etc.).\n",
    "\n",
    "The approaches I have chosen are as follows:\n",
    "\n",
    "\n",
    "##### Google Natural Language API\n",
    "\n",
    "This approach uses the Google Natural Language API to obtain a sentiment score for each review in the dataset.\n",
    "\n",
    "Pros:\n",
    "- Gold Standard Sentiment Scores trained on a large amount of data\n",
    "- Able to handle complex sentence structure, negations, etc.\n",
    "- Automatic Language Translation (for some languages)\n",
    "\n",
    "Cons:\n",
    "- Expensive - not viable for extremely large datasets\n",
    "- Dependent on external APIs that may change of cease to exist\n",
    "\n",
    "##### SentiWordNet Average Sentiment Scores\n",
    "\n",
    "This approach looks up the SentiWordNet sentiment scores for each word in each review in the dataset, and assigns a score to each review using the average sentiment of each word.\n",
    "\n",
    "Pros:\n",
    "- Conceptually simple - models each word in the review as positive negative or neutral, and scores each review as the ratio of positive to negative words\n",
    "- Word scores are not trained on the dataset, so no chance of overfitting and focussing on noise in the dataset\n",
    "\n",
    "Cons:\n",
    "- Unable to handle negations and complex sentence structure\n",
    "- SentiWordNet scores are different for different definitions of the same word (ie. Great as in \"large\" has a different sentiment to Great as in \"good\"), and without manual tagging for definitions of each word, we have to default to one score, which may not be for the correct definition\n",
    "\n",
    "##### Naive Bayes Classifier Sentiment Scores\n",
    "\n",
    "This approach trains a Naive Bayes classifier to predict the rating of each review from the review text, and then assigns to each review a sentiment score using the class probabilities of the prediction (ie. a review that is given a 100% probability of having a 1.0 rating is assigned a score of -1, a review with a 100% probability of having a 5.0 rating is given a score of 1, and all reviews in between are placed in that range.\n",
    "\n",
    "Pros:\n",
    "- Quick to train\n",
    "- Trained on the dataset, so word sentiments are more domain specific than models trained on other data sources\n",
    "\n",
    "Cons:\n",
    "- Trained on the dataset, so is reliant on the quality of the dataset - ie. wrongly labelled reviews may influence the results\n",
    "- Assumes that each word in a review is independent of other words (completely false, but not always a problem)\n",
    "\n",
    "##### LSTM Neural Network Classifier Sentiment Scores\n",
    "\n",
    "This approach uses a Long Short Term Memory (LSTM) Neural Network - a Neural Network structure trained on a series of data points (in this case, each word in a review in order) that is informed by the memory of previous data points in the series, allowing it to make better use of the word's context in the review. This Neural Network is trained to predict the rating of the review based on the review text \n",
    "\n",
    "Pros:\n",
    "- Should be able to capture negations and more complex sentence structure (ie. \"this is not a good hotel\" vs \"this is a good hotel\")\n",
    "- Trained on the dataset, so reiew sentiments are more domain specific\n",
    "\n",
    "Cons:\n",
    "- Trained on the dataset, so is reliant on the quality of the dataset\n",
    "- Complex Model Which will take much longer to train (than Naive Bayes, for example)\n",
    "- Assumes linear relationship between text sentiment and "
   ]
  },
  {
   "cell_type": "markdown",
   "metadata": {},
   "source": [
    "### 4.2 Approach 1: Google Natural Language API"
   ]
  },
  {
   "cell_type": "markdown",
   "metadata": {},
   "source": [
    "#### 4.2.1 Getting Google Sentiment Scores"
   ]
  },
  {
   "cell_type": "code",
   "execution_count": 73,
   "metadata": {},
   "outputs": [
    {
     "name": "stdout",
     "output_type": "stream",
     "text": [
      "Price to calculate sentiment scores for the entire cleaned dataset: $30.00\n",
      "Price to calculate sentiment scores for the truncated cleaned dataset: $0.00\n"
     ]
    }
   ],
   "source": [
    "# estimates the price for runnning sentiment analysis on a dataframe's reviews. This function assumes that this is\n",
    "# the only use of the sentiment analysis API for the billing month, so actual prices may differ (as the first \n",
    "# 5000 units are free, and discounts are applied to units used after cetain thresholds are met on a monthly basis, not\n",
    "# per use case), but this serves as a useful estimate when deciding whether to use this approach\n",
    "def estimate_sentiment_price(frame):\n",
    "    \n",
    "    units = 0\n",
    "    \n",
    "    #print(len(frame[\"reviews.length\"]))\n",
    "    \n",
    "    for i in frame[\"reviews.length\"]:\n",
    "        \n",
    "        #print(i)\n",
    "        #one unit for every 1000 characters in the text (rounded up)\n",
    "        #\n",
    "        #note: given that I have culled all reviews above 450 characters, all reviews here are worth 1 unit,\n",
    "        # but this method will work to calculate units if I decide in future to include longer reviews\n",
    "        units += math.ceil(i / 1000.0)\n",
    "        \n",
    "    price = 0\n",
    "        \n",
    "    while (units > 5000000):\n",
    "        print(units)\n",
    "        units -= 1000\n",
    "        price += 0.25\n",
    "            \n",
    "    while units > 1000000:\n",
    "        units -= 1000\n",
    "        price += 0.5\n",
    "            \n",
    "    while units > 5000:\n",
    "        units -= 1000\n",
    "        price += 1\n",
    "    \n",
    "    return price    \n",
    "    \n",
    "print(\"Price to calculate sentiment scores for the entire cleaned dataset: ${:,.2f}\".format(estimate_sentiment_price(df)))\n",
    "print(\"Price to calculate sentiment scores for the truncated cleaned dataset: ${:,.2f}\".format(estimate_sentiment_price(df_small)))\n",
    "\n",
    "\n",
    "\n",
    "\n"
   ]
  },
  {
   "cell_type": "markdown",
   "metadata": {},
   "source": [
    "Given the costs estimated above, it is not feasible to test this approach on the full dataset. However, like the Translation system, I will test the approach on the smaller dataset to see if the approach would be worth further examination if funds were available."
   ]
  },
  {
   "cell_type": "code",
   "execution_count": 735,
   "metadata": {},
   "outputs": [
    {
     "name": "stdout",
     "output_type": "stream",
     "text": [
      "0.8999999761581421\n",
      "-0.8999999761581421\n",
      "-0.30000001192092896\n",
      "0.8999999761581421\n"
     ]
    }
   ],
   "source": [
    "lang_client = language.LanguageServiceClient()\n",
    "\n",
    "def get_google_sentiment_score(text):\n",
    "    \n",
    "    #print(text.decode(\"utf-8\"))\n",
    "    \n",
    "    document = gc_types.Document(content=text.decode(\"utf-8\"), type=\"PLAIN_TEXT\")\n",
    "    \n",
    "    #make sure we dont hit against any rate limits\n",
    "    while(True):\n",
    "        try:\n",
    "            response = lang_client.analyze_sentiment(document=document)\n",
    "        except Forbidden as e:\n",
    "            time.sleep(1)\n",
    "            continue\n",
    "        break\n",
    "\n",
    "    \n",
    "    sentiment = response.document_sentiment\n",
    "\n",
    "    return sentiment.score\n",
    "    \n",
    "print(get_google_sentiment_score(b\"This is Great!\"))\n",
    "    \n",
    "print(get_google_sentiment_score(b\"This sucks!\"))\n",
    "\n",
    "print(get_google_sentiment_score(b\"I'm ambivalent about this!\"))\n",
    "\n",
    "print(get_google_sentiment_score(b\"Tres bon!\"))"
   ]
  },
  {
   "cell_type": "markdown",
   "metadata": {},
   "source": [
    "#### 4.2.2 Scoring Each Review in the Dataset"
   ]
  },
  {
   "cell_type": "code",
   "execution_count": 77,
   "metadata": {},
   "outputs": [],
   "source": [
    "def get_google_cloud_sentiment_scores_dataframe(frame):\n",
    "    \n",
    "    frame.loc[:,:][\"gc_sentiment\"] = frame[\"translated_text\"].progress_map(get_google_sentiment_score)\n",
    "    \n",
    "    return frame\n",
    "    \n",
    "    \n",
    "    "
   ]
  },
  {
   "cell_type": "code",
   "execution_count": 78,
   "metadata": {},
   "outputs": [
    {
     "name": "stdout",
     "output_type": "stream",
     "text": [
      "   Unnamed: 0  reviews.rating  \\\n",
      "0           0             4.0   \n",
      "1           1             5.0   \n",
      "2           2             5.0   \n",
      "3           3             5.0   \n",
      "4           4             5.0   \n",
      "\n",
      "                                        reviews.text  reviews.length  \\\n",
      "0  b\"Pleasant 10 min walk along the sea front to ...             194   \n",
      "1  b\"Really lovely hotel. Stayed on the very top ...             252   \n",
      "2  b'Ett mycket bra hotell. Det som drog ner bety...             136   \n",
      "3  b'We stayed here for four nights in October. T...             354   \n",
      "4  b'We loved staying on the island of Lido! You ...             326   \n",
      "\n",
      "  detected_language                                    translated_text  \\\n",
      "0         ('en', 1)  b\"Pleasant 10 min walk along the sea front to ...   \n",
      "1         ('en', 1)  b\"Really lovely hotel. Stayed on the very top ...   \n",
      "2         ('sv', 1)  b'A very good hotel. What pulled down the grad...   \n",
      "3         ('en', 1)  b'We stayed here for four nights in October. T...   \n",
      "4         ('en', 1)  b'We loved staying on the island of Lido! You ...   \n",
      "\n",
      "   gc_sentiment  \n",
      "0           0.2  \n",
      "1           0.6  \n",
      "2           0.3  \n",
      "3           0.6  \n",
      "4           0.7  \n"
     ]
    },
    {
     "data": {
      "application/vnd.jupyter.widget-view+json": {
       "model_id": "d8d5aa7f060744f1a3c98d6fcaaef0ce",
       "version_major": 2,
       "version_minor": 0
      },
      "text/plain": [
       "HBox(children=(IntProgress(value=0, max=5), HTML(value='')))"
      ]
     },
     "metadata": {},
     "output_type": "display_data"
    },
    {
     "name": "stdout",
     "output_type": "stream",
     "text": [
      "   Unnamed: 0  reviews.rating  \\\n",
      "0           0             4.0   \n",
      "1           1             5.0   \n",
      "2           2             5.0   \n",
      "3           3             5.0   \n",
      "4           4             5.0   \n",
      "\n",
      "                                        reviews.text  reviews.length  \\\n",
      "0  b\"Pleasant 10 min walk along the sea front to ...             194   \n",
      "1  b\"Really lovely hotel. Stayed on the very top ...             252   \n",
      "2  b'Ett mycket bra hotell. Det som drog ner bety...             136   \n",
      "3  b'We stayed here for four nights in October. T...             354   \n",
      "4  b'We loved staying on the island of Lido! You ...             326   \n",
      "\n",
      "  detected_language                                    translated_text  \\\n",
      "0         ('en', 1)  b\"Pleasant 10 min walk along the sea front to ...   \n",
      "1         ('en', 1)  b\"Really lovely hotel. Stayed on the very top ...   \n",
      "2         ('sv', 1)  b'A very good hotel. What pulled down the grad...   \n",
      "3         ('en', 1)  b'We stayed here for four nights in October. T...   \n",
      "4         ('en', 1)  b'We loved staying on the island of Lido! You ...   \n",
      "\n",
      "   gc_sentiment  \n",
      "0           0.2  \n",
      "1           0.6  \n",
      "2           0.3  \n",
      "3           0.6  \n",
      "4           0.7  \n"
     ]
    }
   ],
   "source": [
    "#test on the tiny dataset first to ensure that the API calls work\n",
    "\n",
    "print(df_tiny)\n",
    "\n",
    "df_tiny = get_google_cloud_sentiment_scores_dataframe(df_tiny)\n",
    "\n",
    "print(df_tiny)"
   ]
  },
  {
   "cell_type": "code",
   "execution_count": 79,
   "metadata": {},
   "outputs": [
    {
     "data": {
      "application/vnd.jupyter.widget-view+json": {
       "model_id": "d181afe9a6f241e18b75c0e04d6fbf47",
       "version_major": 2,
       "version_minor": 0
      },
      "text/plain": [
       "HBox(children=(IntProgress(value=0, max=1000), HTML(value='')))"
      ]
     },
     "metadata": {},
     "output_type": "display_data"
    },
    {
     "name": "stderr",
     "output_type": "stream",
     "text": [
      "C:\\Users\\lenovo\\Anaconda3\\lib\\site-packages\\ipykernel_launcher.py:3: SettingWithCopyWarning: \n",
      "A value is trying to be set on a copy of a slice from a DataFrame.\n",
      "Try using .loc[row_indexer,col_indexer] = value instead\n",
      "\n",
      "See the caveats in the documentation: http://pandas.pydata.org/pandas-docs/stable/indexing.html#indexing-view-versus-copy\n",
      "  This is separate from the ipykernel package so we can avoid doing imports until\n"
     ]
    }
   ],
   "source": [
    "df_small = get_google_cloud_sentiment_scores_dataframe(df_small)\n",
    "\n",
    "\n",
    "\n"
   ]
  },
  {
   "cell_type": "markdown",
   "metadata": {},
   "source": [
    "#### 4.2.3 Evaluating Resultant Sentiment Scores"
   ]
  },
  {
   "cell_type": "code",
   "execution_count": 82,
   "metadata": {},
   "outputs": [
    {
     "name": "stdout",
     "output_type": "stream",
     "text": [
      "reviews.rating                                                       3\n",
      "reviews.text         b'It was ok hotel is nice from in and out but ...\n",
      "reviews.length                                                     112\n",
      "detected_language                                              (en, 1)\n",
      "translated_text      b'It was ok hotel is nice from in and out but ...\n",
      "gc_sentiment                                                      -0.2\n",
      "Name: 9, dtype: object\n"
     ]
    }
   ],
   "source": [
    "print(df_small.loc[9,:])"
   ]
  },
  {
   "cell_type": "code",
   "execution_count": 91,
   "metadata": {},
   "outputs": [
    {
     "name": "stdout",
     "output_type": "stream",
     "text": [
      "Pearson co-efficient:  0.6544873197926278\n",
      "Spearman co-efficient:  0.5898236866015896\n"
     ]
    }
   ],
   "source": [
    "print(\"Pearson co-efficient: \",df_small[\"reviews.rating\"].corr(df_small[\"gc_sentiment\"]))\n",
    "print(\"Spearman co-efficient: \",df_small[\"reviews.rating\"].corr(df_small[\"gc_sentiment\"], method=\"spearman\"))"
   ]
  },
  {
   "cell_type": "code",
   "execution_count": 97,
   "metadata": {},
   "outputs": [
    {
     "data": {
      "text/plain": [
       "<matplotlib.axes._subplots.AxesSubplot at 0x200ec68db38>"
      ]
     },
     "execution_count": 97,
     "metadata": {},
     "output_type": "execute_result"
    },
    {
     "data": {
      "image/png": "[encoded data removed]",
      "text/plain": [
       "<Figure size 432x288 with 1 Axes>"
      ]
     },
     "metadata": {
      "needs_background": "light"
     },
     "output_type": "display_data"
    }
   ],
   "source": [
    "df_small.boxplot(column=\"gc_sentiment\", by=\"reviews.rating\")\n"
   ]
  },
  {
   "cell_type": "markdown",
   "metadata": {},
   "source": [
    "With a correlation coefficient of ~+0.65, this method of obtaining sentiment scores seems to be very highly correlated "
   ]
  },
  {
   "cell_type": "code",
   "execution_count": 933,
   "metadata": {},
   "outputs": [
    {
     "data": {
      "text/plain": [
       "<Figure size 432x288 with 0 Axes>"
      ]
     },
     "execution_count": 933,
     "metadata": {},
     "output_type": "execute_result"
    },
    {
     "data": {
      "image/png": "[encoded data removed]",
      "text/plain": [
       "<Figure size 432x288 with 1 Axes>"
      ]
     },
     "metadata": {
      "needs_background": "light"
     },
     "output_type": "display_data"
    },
    {
     "data": {
      "image/png": "[encoded data removed]",
      "text/plain": [
       "<Figure size 432x288 with 1 Axes>"
      ]
     },
     "metadata": {
      "needs_background": "light"
     },
     "output_type": "display_data"
    },
    {
     "data": {
      "image/png": "[encoded data removed]",
      "text/plain": [
       "<Figure size 432x288 with 1 Axes>"
      ]
     },
     "metadata": {
      "needs_background": "light"
     },
     "output_type": "display_data"
    },
    {
     "data": {
      "image/png": "[encoded data removed]",
      "text/plain": [
       "<Figure size 432x288 with 1 Axes>"
      ]
     },
     "metadata": {
      "needs_background": "light"
     },
     "output_type": "display_data"
    },
    {
     "data": {
      "image/png": "[encoded data removed]",
      "text/plain": [
       "<Figure size 432x288 with 1 Axes>"
      ]
     },
     "metadata": {
      "needs_background": "light"
     },
     "output_type": "display_data"
    },
    {
     "data": {
      "text/plain": [
       "<Figure size 432x288 with 0 Axes>"
      ]
     },
     "metadata": {},
     "output_type": "display_data"
    }
   ],
   "source": [
    "df_small[df_small[\"reviews.rating\"] == 1.0][\"gc_sentiment\"].hist()\n",
    "plt.figure()\n",
    "df_small[df_small[\"reviews.rating\"] == 2.0][\"gc_sentiment\"].hist()\n",
    "plt.figure()\n",
    "df_small[df_small[\"reviews.rating\"] == 3.0][\"gc_sentiment\"].hist()\n",
    "plt.figure()\n",
    "df_small[df_small[\"reviews.rating\"] == 4.0][\"gc_sentiment\"].hist()\n",
    "plt.figure()\n",
    "df_small[df_small[\"reviews.rating\"] == 5.0][\"gc_sentiment\"].hist()\n",
    "plt.figure()"
   ]
  },
  {
   "cell_type": "markdown",
   "metadata": {},
   "source": [
    "The distributions of scores for each rating, as shown in the histograms above, show a clear difference in the sentiments for reviews of different ratings - 5.0 rated reviews on average have a higher sentiment score than 3.0 rated scores, and a much higher sentiment than 1.0 rated scores. However, the small number of scores available (particularly for the lower-rated reviews) makes it difficult to properly evaluate the distributions"
   ]
  },
  {
   "cell_type": "markdown",
   "metadata": {},
   "source": [
    "#### 4.2.4 Calculating Difference between Sentiment Score and Rating"
   ]
  },
  {
   "cell_type": "markdown",
   "metadata": {},
   "source": [
    "To generate scores representing a the difference between the obtained sentiment scores and the given ratings, I will remap the sentiment scores from the range -1.0 to +1.0 to 1.0-5.0, and calculate the absolute difference between that and the review rating "
   ]
  },
  {
   "cell_type": "code",
   "execution_count": 146,
   "metadata": {},
   "outputs": [],
   "source": [
    "def remap_range(input, input_range=(-1.0,1.0),output_range=(1.0,5.0)):\n",
    "    return ( (input - input_range[0]) / (input_range[1] - input_range[0]) ) * (output_range[1] - output_range[0]) + output_range[0]    \n",
    "\n",
    "def remap_sentiment_score(input):\n",
    "    \n",
    "    return remap_range(input, input_range=(-1.0,1.0), output_range=(1.0,5.0)) \n",
    "\n",
    "\n",
    "#print(remap_sentiment_rating(-1))\n",
    "\n",
    "def get_sentiment_difference_score(sentiment_score,rating):\n",
    "\n",
    "    #remap the sentiment scores to the rating range (ie. 1.0-5.0)\n",
    "    remapped_sentiment_score = remap_sentiment_score(sentiment_score)\n",
    "    #print(remapped_sentiment_score)\n",
    "    \n",
    "    \n",
    "    #get the absolute difference between the two and reverse it\n",
    "    score_difference = 4 - abs(remapped_sentiment_score - rating)\n",
    "    \n",
    "    #print(score_difference)\n",
    "\n",
    "    return remap_range(score_difference, input_range=(0.0,4.0), output_range=(0.0,1.0))\n",
    "\n",
    "\n",
    "#make sure these functions do as they are expected\n",
    "assert remap_sentiment_score(1.0) == 5\n",
    "assert remap_sentiment_score(-1.0) == 1\n",
    "\n",
    "assert get_sentiment_difference_score(1,5) == 1\n",
    "assert get_sentiment_difference_score(-1,5) == 0\n"
   ]
  },
  {
   "cell_type": "markdown",
   "metadata": {},
   "source": []
  },
  {
   "cell_type": "code",
   "execution_count": 669,
   "metadata": {},
   "outputs": [],
   "source": [
    "df_small[\"gc_sentiment_difference_rating\"] = df_small.apply(lambda x: \n",
    "                                                            get_sentiment_difference_score(x[\"gc_sentiment\"],\n",
    "                                                                                          x[\"reviews.rating\"]),\n",
    "                                                           axis=1)\n",
    "\n",
    "\n"
   ]
  },
  {
   "cell_type": "code",
   "execution_count": 671,
   "metadata": {},
   "outputs": [
    {
     "data": {
      "text/plain": [
       "<Figure size 432x288 with 0 Axes>"
      ]
     },
     "execution_count": 671,
     "metadata": {},
     "output_type": "execute_result"
    },
    {
     "data": {
      "image/png": "[encoded data removed]",
      "text/plain": [
       "<Figure size 432x288 with 1 Axes>"
      ]
     },
     "metadata": {
      "needs_background": "light"
     },
     "output_type": "display_data"
    },
    {
     "data": {
      "image/png": "[encoded data removed]",
      "text/plain": [
       "<Figure size 432x288 with 1 Axes>"
      ]
     },
     "metadata": {
      "needs_background": "light"
     },
     "output_type": "display_data"
    },
    {
     "data": {
      "image/png": "[encoded data removed]",
      "text/plain": [
       "<Figure size 432x288 with 1 Axes>"
      ]
     },
     "metadata": {
      "needs_background": "light"
     },
     "output_type": "display_data"
    },
    {
     "data": {
      "text/plain": [
       "<Figure size 432x288 with 0 Axes>"
      ]
     },
     "metadata": {},
     "output_type": "display_data"
    }
   ],
   "source": [
    "\n",
    "df_small[\"gc_sentiment_difference_rating\"].hist(bins=20)\n",
    "plt.suptitle(\"Histogram for distribution of sentiment difference ratings\")\n",
    "plt.figure()\n",
    "\n",
    "df_small[df_small[\"detected_language\"].str[0] != \"en\"][\"gc_sentiment_difference_rating\"].hist(bins=20)\n",
    "plt.suptitle(\"Histogram for distribution of sentiment difference ratings\\n(Non-english reviews only)\")\n",
    "plt.figure()\n",
    "\n",
    "df_small[df_small[\"detected_language\"].str[0] == \"en\"][\"gc_sentiment_difference_rating\"].hist(bins=20)\n",
    "plt.suptitle(\"Histogram for distribution of sentiment difference ratings\\n(English reviews only)\")\n",
    "plt.figure()"
   ]
  },
  {
   "cell_type": "markdown",
   "metadata": {},
   "source": [
    "Looking at the histograms for sentiment difference ratings, we can see that most reviews are given a very high score, indicating that there is a very high correlation between sentiment score and rating. This seems to be only slightly affected by whether the reviews were translated from a non-english language, suggesting that the Google translate system does well at keeping relevant sentiment informtion when translating.\n",
    "\n",
    "Hoewver, there are a small number where the sentiment score and the given review rating are very discordant, and it would be worthwhile to drill into those reviews to examine where the discrepancy lies."
   ]
  },
  {
   "cell_type": "code",
   "execution_count": 165,
   "metadata": {},
   "outputs": [
    {
     "data": {
      "text/html": [
       "<div>\n",
       "<style scoped>\n",
       "    .dataframe tbody tr th:only-of-type {\n",
       "        vertical-align: middle;\n",
       "    }\n",
       "\n",
       "    .dataframe tbody tr th {\n",
       "        vertical-align: top;\n",
       "    }\n",
       "\n",
       "    .dataframe thead th {\n",
       "        text-align: right;\n",
       "    }\n",
       "</style>\n",
       "<table border=\"1\" class=\"dataframe\">\n",
       "  <thead>\n",
       "    <tr style=\"text-align: right;\">\n",
       "      <th></th>\n",
       "      <th>translated_text</th>\n",
       "      <th>reviews.rating</th>\n",
       "      <th>gc_sentiment</th>\n",
       "      <th>detected_language</th>\n",
       "      <th>gc_sentiment_difference_rating</th>\n",
       "    </tr>\n",
       "  </thead>\n",
       "  <tbody>\n",
       "    <tr>\n",
       "      <th>755</th>\n",
       "      <td>b'the free wifii was very slow -- had to pay f...</td>\n",
       "      <td>5.0</td>\n",
       "      <td>-0.8</td>\n",
       "      <td>(en, 1)</td>\n",
       "      <td>0.10</td>\n",
       "    </tr>\n",
       "    <tr>\n",
       "      <th>777</th>\n",
       "      <td>b'The hotel was on the whole okay, only the su...</td>\n",
       "      <td>5.0</td>\n",
       "      <td>-0.7</td>\n",
       "      <td>(de, 1)</td>\n",
       "      <td>0.15</td>\n",
       "    </tr>\n",
       "    <tr>\n",
       "      <th>86</th>\n",
       "      <td>b\"Let's face it, this is NOT in the Livermore ...</td>\n",
       "      <td>5.0</td>\n",
       "      <td>-0.7</td>\n",
       "      <td>(en, 1)</td>\n",
       "      <td>0.15</td>\n",
       "    </tr>\n",
       "    <tr>\n",
       "      <th>911</th>\n",
       "      <td>b'It was terrible. Would never stayhere agian....</td>\n",
       "      <td>5.0</td>\n",
       "      <td>-0.7</td>\n",
       "      <td>(en, 1)</td>\n",
       "      <td>0.15</td>\n",
       "    </tr>\n",
       "    <tr>\n",
       "      <th>793</th>\n",
       "      <td>b'We had our family reunion there and it was a...</td>\n",
       "      <td>1.0</td>\n",
       "      <td>0.6</td>\n",
       "      <td>(en, 1)</td>\n",
       "      <td>0.20</td>\n",
       "    </tr>\n",
       "    <tr>\n",
       "      <th>177</th>\n",
       "      <td>b'The rooms were OK, but there was no insulati...</td>\n",
       "      <td>5.0</td>\n",
       "      <td>-0.6</td>\n",
       "      <td>(en, 1)</td>\n",
       "      <td>0.20</td>\n",
       "    </tr>\n",
       "    <tr>\n",
       "      <th>827</th>\n",
       "      <td>b'Great break but tv channels were not availab...</td>\n",
       "      <td>5.0</td>\n",
       "      <td>-0.5</td>\n",
       "      <td>(en, 1)</td>\n",
       "      <td>0.25</td>\n",
       "    </tr>\n",
       "    <tr>\n",
       "      <th>428</th>\n",
       "      <td>b'The food at breakfast was good but we had to...</td>\n",
       "      <td>4.0</td>\n",
       "      <td>-0.8</td>\n",
       "      <td>(en, 1)</td>\n",
       "      <td>0.35</td>\n",
       "    </tr>\n",
       "    <tr>\n",
       "      <th>810</th>\n",
       "      <td>b\"We've lived in the area for twelve years but...</td>\n",
       "      <td>1.0</td>\n",
       "      <td>0.3</td>\n",
       "      <td>(en, 1)</td>\n",
       "      <td>0.35</td>\n",
       "    </tr>\n",
       "    <tr>\n",
       "      <th>892</th>\n",
       "      <td>b'After 22hrs. of driving all I was looking fo...</td>\n",
       "      <td>1.0</td>\n",
       "      <td>0.2</td>\n",
       "      <td>(en, 1)</td>\n",
       "      <td>0.40</td>\n",
       "    </tr>\n",
       "    <tr>\n",
       "      <th>851</th>\n",
       "      <td>b\"Rooms: cell block size and feel Bedding: old...</td>\n",
       "      <td>1.0</td>\n",
       "      <td>0.2</td>\n",
       "      <td>(en, 1)</td>\n",
       "      <td>0.40</td>\n",
       "    </tr>\n",
       "    <tr>\n",
       "      <th>183</th>\n",
       "      <td>b'My husband and I had been making a trip to C...</td>\n",
       "      <td>1.0</td>\n",
       "      <td>0.2</td>\n",
       "      <td>(en, 1)</td>\n",
       "      <td>0.40</td>\n",
       "    </tr>\n",
       "    <tr>\n",
       "      <th>494</th>\n",
       "      <td>b'Pool staff do not enforce rules. Many adults...</td>\n",
       "      <td>1.0</td>\n",
       "      <td>0.2</td>\n",
       "      <td>(en, 1)</td>\n",
       "      <td>0.40</td>\n",
       "    </tr>\n",
       "    <tr>\n",
       "      <th>924</th>\n",
       "      <td>b'we had a nonsmoking room that was apparently...</td>\n",
       "      <td>5.0</td>\n",
       "      <td>-0.2</td>\n",
       "      <td>(en, 1)</td>\n",
       "      <td>0.40</td>\n",
       "    </tr>\n",
       "    <tr>\n",
       "      <th>775</th>\n",
       "      <td>b'The hotel was on the whole okay, only the su...</td>\n",
       "      <td>4.0</td>\n",
       "      <td>-0.7</td>\n",
       "      <td>(de, 1)</td>\n",
       "      <td>0.40</td>\n",
       "    </tr>\n",
       "    <tr>\n",
       "      <th>867</th>\n",
       "      <td>b'You can learn your way around with the green...</td>\n",
       "      <td>2.0</td>\n",
       "      <td>0.6</td>\n",
       "      <td>(en, 1)</td>\n",
       "      <td>0.45</td>\n",
       "    </tr>\n",
       "    <tr>\n",
       "      <th>670</th>\n",
       "      <td>b'Expedia really screwed up our reservations a...</td>\n",
       "      <td>4.0</td>\n",
       "      <td>-0.6</td>\n",
       "      <td>(en, 1)</td>\n",
       "      <td>0.45</td>\n",
       "    </tr>\n",
       "    <tr>\n",
       "      <th>324</th>\n",
       "      <td>b\"Free breakfast was great dinner not so much....</td>\n",
       "      <td>5.0</td>\n",
       "      <td>-0.1</td>\n",
       "      <td>(en, 1)</td>\n",
       "      <td>0.45</td>\n",
       "    </tr>\n",
       "    <tr>\n",
       "      <th>761</th>\n",
       "      <td>b'We have been to this hotel very often so far...</td>\n",
       "      <td>5.0</td>\n",
       "      <td>-0.1</td>\n",
       "      <td>(de, 1)</td>\n",
       "      <td>0.45</td>\n",
       "    </tr>\n",
       "    <tr>\n",
       "      <th>888</th>\n",
       "      <td>b\"I'm not sure why this hotel has so many grea...</td>\n",
       "      <td>1.0</td>\n",
       "      <td>0.1</td>\n",
       "      <td>(en, 1)</td>\n",
       "      <td>0.45</td>\n",
       "    </tr>\n",
       "  </tbody>\n",
       "</table>\n",
       "</div>"
      ],
      "text/plain": [
       "                                       translated_text  reviews.rating  \\\n",
       "755  b'the free wifii was very slow -- had to pay f...             5.0   \n",
       "777  b'The hotel was on the whole okay, only the su...             5.0   \n",
       "86   b\"Let's face it, this is NOT in the Livermore ...             5.0   \n",
       "911  b'It was terrible. Would never stayhere agian....             5.0   \n",
       "793  b'We had our family reunion there and it was a...             1.0   \n",
       "177  b'The rooms were OK, but there was no insulati...             5.0   \n",
       "827  b'Great break but tv channels were not availab...             5.0   \n",
       "428  b'The food at breakfast was good but we had to...             4.0   \n",
       "810  b\"We've lived in the area for twelve years but...             1.0   \n",
       "892  b'After 22hrs. of driving all I was looking fo...             1.0   \n",
       "851  b\"Rooms: cell block size and feel Bedding: old...             1.0   \n",
       "183  b'My husband and I had been making a trip to C...             1.0   \n",
       "494  b'Pool staff do not enforce rules. Many adults...             1.0   \n",
       "924  b'we had a nonsmoking room that was apparently...             5.0   \n",
       "775  b'The hotel was on the whole okay, only the su...             4.0   \n",
       "867  b'You can learn your way around with the green...             2.0   \n",
       "670  b'Expedia really screwed up our reservations a...             4.0   \n",
       "324  b\"Free breakfast was great dinner not so much....             5.0   \n",
       "761  b'We have been to this hotel very often so far...             5.0   \n",
       "888  b\"I'm not sure why this hotel has so many grea...             1.0   \n",
       "\n",
       "     gc_sentiment detected_language  gc_sentiment_difference_rating  \n",
       "755          -0.8           (en, 1)                            0.10  \n",
       "777          -0.7           (de, 1)                            0.15  \n",
       "86           -0.7           (en, 1)                            0.15  \n",
       "911          -0.7           (en, 1)                            0.15  \n",
       "793           0.6           (en, 1)                            0.20  \n",
       "177          -0.6           (en, 1)                            0.20  \n",
       "827          -0.5           (en, 1)                            0.25  \n",
       "428          -0.8           (en, 1)                            0.35  \n",
       "810           0.3           (en, 1)                            0.35  \n",
       "892           0.2           (en, 1)                            0.40  \n",
       "851           0.2           (en, 1)                            0.40  \n",
       "183           0.2           (en, 1)                            0.40  \n",
       "494           0.2           (en, 1)                            0.40  \n",
       "924          -0.2           (en, 1)                            0.40  \n",
       "775          -0.7           (de, 1)                            0.40  \n",
       "867           0.6           (en, 1)                            0.45  \n",
       "670          -0.6           (en, 1)                            0.45  \n",
       "324          -0.1           (en, 1)                            0.45  \n",
       "761          -0.1           (de, 1)                            0.45  \n",
       "888           0.1           (en, 1)                            0.45  "
      ]
     },
     "execution_count": 165,
     "metadata": {},
     "output_type": "execute_result"
    }
   ],
   "source": [
    "#sort the df by sentiment difference rating, and get the lowest 20 reviews to examine individually\n",
    "df_worst_scores = df_small.sort_values(\"gc_sentiment_difference_rating\").head(20)\n",
    "\n",
    "df_worst_scores.loc[:,[\"translated_text\", \"reviews.rating\", \"gc_sentiment\", \"detected_language\", \"gc_sentiment_difference_rating\"]]"
   ]
  },
  {
   "cell_type": "code",
   "execution_count": 171,
   "metadata": {},
   "outputs": [
    {
     "name": "stdout",
     "output_type": "stream",
     "text": [
      "the free wifii was very slow -- had to pay for wifii (price was ok) one can only get 3 devices online - they should increase the number of devices now that everyone carries at least a smart phone, ipad and maybe a laptop \n",
      "\n",
      "The hotel was on the whole okay, only the surrounding area with the construction site was not so exciting \n",
      "\n",
      "The hotel was on the whole okay, only the surrounding area with the construction site was not so exciting \n",
      "\n",
      "You can learn your way around with the green QR code tour. Use SCVNGR on property to get 1/2 off an appetizer or write a review online to win a $100 gift card! \n",
      "\n"
     ]
    }
   ],
   "source": [
    "print(df_worst_scores.loc[755,:][\"translated_text\"].decode(\"utf-8\"), \"\\n\")\n",
    "\n",
    "print(df_worst_scores.loc[777,:][\"translated_text\"].decode(\"utf-8\"), \"\\n\")\n",
    "\n",
    "print(df_worst_scores.loc[775,:][\"translated_text\"].decode(\"utf-8\"), \"\\n\")\n",
    "\n",
    "print(df_worst_scores.loc[867,:][\"translated_text\"].decode(\"utf-8\"), \"\\n\")"
   ]
  },
  {
   "cell_type": "markdown",
   "metadata": {},
   "source": [
    "Examining these reviews in closer detail shows that for most of these, the sentiment scores seem to align with a naive understanding of the text of the review (if a review *seems* negative, that is reflected in the sentiment score). This suggests that maybe the scraper used to create the dataset is occasionally asssigning the wrong review text to each rating. This hypothesis is given further creedence by the fact that two of the reviews (namely reviews 775 and 777) in the selection above have the exact same text.   "
   ]
  },
  {
   "cell_type": "markdown",
   "metadata": {},
   "source": [
    "### 4.3 Approach 2: SentiWordNet Average Sentiment Scores"
   ]
  },
  {
   "cell_type": "code",
   "execution_count": 206,
   "metadata": {},
   "outputs": [
    {
     "name": "stderr",
     "output_type": "stream",
     "text": [
      "[nltk_data] Downloading package punkt to\n",
      "[nltk_data]     C:\\Users\\lenovo\\AppData\\Roaming\\nltk_data...\n",
      "[nltk_data]   Package punkt is already up-to-date!\n",
      "[nltk_data] Downloading package averaged_perceptron_tagger to\n",
      "[nltk_data]     C:\\Users\\lenovo\\AppData\\Roaming\\nltk_data...\n",
      "[nltk_data]   Package averaged_perceptron_tagger is already up-to-\n",
      "[nltk_data]       date!\n",
      "[nltk_data] Downloading package sentiwordnet to\n",
      "[nltk_data]     C:\\Users\\lenovo\\AppData\\Roaming\\nltk_data...\n",
      "[nltk_data]   Package sentiwordnet is already up-to-date!\n",
      "[nltk_data] Downloading package wordnet to\n",
      "[nltk_data]     C:\\Users\\lenovo\\AppData\\Roaming\\nltk_data...\n",
      "[nltk_data]   Unzipping corpora\\wordnet.zip.\n"
     ]
    },
    {
     "data": {
      "text/plain": [
       "True"
      ]
     },
     "execution_count": 206,
     "metadata": {},
     "output_type": "execute_result"
    }
   ],
   "source": [
    "nltk.download(\"punkt\")\n",
    "nltk.download('averaged_perceptron_tagger')\n",
    "nltk.download('sentiwordnet')\n",
    "nltk.download('wordnet')\n",
    "    "
   ]
  },
  {
   "cell_type": "markdown",
   "metadata": {},
   "source": [
    "#### 4.3.1 Defining the Scoring Function"
   ]
  },
  {
   "cell_type": "code",
   "execution_count": 730,
   "metadata": {},
   "outputs": [
    {
     "name": "stdout",
     "output_type": "stream",
     "text": [
      "0.25\n",
      "-0.625\n",
      "-0.05\n",
      "-0.2916666666666667\n",
      "0.59375\n"
     ]
    }
   ],
   "source": [
    "\n",
    "def penn_tag_to_wn_tag(tag):\n",
    "    \n",
    "    wn_tag = \"\"\n",
    "    \n",
    "    if tag.startswith(\"NN\"): \n",
    "        wn_tag = wn.NOUN\n",
    "    elif tag.startswith(\"VB\"):\n",
    "        wn_tag = wn.VERB\n",
    "    elif tag.startswith(\"JJ\"):\n",
    "        wn_tag = wn.ADJ\n",
    "    elif tag.startswith(\"RB\"):\n",
    "        wn_tag = wn.ADV\n",
    "    \n",
    "    return wn_tag\n",
    "    \n",
    "\n",
    "def get_swn_sentiment_scores(text):\n",
    "    \n",
    "    #tokenise \n",
    "    words = nltk.word_tokenize(text)\n",
    "    \n",
    "    pos_tags = nltk.pos_tag(words)\n",
    "    \n",
    "    \n",
    "    pos_tags = [(i[0], penn_tag_to_wn_tag(i[1])) for i in pos_tags if penn_tag_to_wn_tag(i[1]) != \"\"]\n",
    "    \n",
    "    \n",
    "    lem = WordNetLemmatizer()\n",
    "    \n",
    "    \n",
    "    synsets = [(lem.lemmatize(i[0], i[1]), i[1]) for i in pos_tags]\n",
    "    synsets = [list(swn.senti_synsets(i[0],i[1])) for i in synsets]\n",
    "    \n",
    "    #print(len(senti_scores))\n",
    "    \n",
    "    scores = []\n",
    "    for i in range(0, len(synsets)):\n",
    "        \n",
    "        if (len(synsets[i]) == 0):\n",
    "            continue #ignore words which dont have a synset\n",
    "        \n",
    "        synset = synsets[i][0]\n",
    "        \n",
    "        scores.append({\"pos_score\" : synset.pos_score(),\n",
    "                       \"neg_score\" : synset.neg_score()})\n",
    "    \n",
    "    return scores\n",
    "\n",
    "#print(list(swn.senti_synsets(\"good\", \"n\")))\n",
    "\n",
    "def get_average_swn_sentiment_score(text):\n",
    "    \n",
    "    scores = get_swn_sentiment_scores(text)\n",
    "    \n",
    "    score = 0\n",
    "    emotive_words = 0\n",
    "    \n",
    "    #if there arent any synsets in the text, return neutral\n",
    "    if len(scores) == 0:\n",
    "        return 0\n",
    "    \n",
    "    for i in scores:\n",
    "        #print(i)\n",
    "        if ((i[\"pos_score\"] != 0) or (i[\"neg_score\"] != 0)):\n",
    "            emotive_words += 1\n",
    "            \n",
    "        \n",
    "        score += i[\"pos_score\"]\n",
    "        score -= i[\"neg_score\"]\n",
    "            \n",
    "    if (emotive_words == 0):\n",
    "        return 0 #if there were no words with emotive content in the review return neutral\n",
    "\n",
    "    return score / emotive_words\n",
    "\n",
    "scores1 = \"this is a bad hotel with good wifi and wonderful ambience\"\n",
    "scores2 = \"this isnt a bad hotel\"\n",
    "scores3 = \"I am ambivalent about this hotel and wish it was better\"\n",
    "scores4 = \"...no problems with this hotel exept that the pool was small\"\n",
    "scores5 = \"good hotel good fun. loved it\"\n",
    "        \n",
    "print(get_average_swn_sentiment_score(scores1))\n",
    "print(get_average_swn_sentiment_score(scores2))\n",
    "print(get_average_swn_sentiment_score(scores3))\n",
    "print(get_average_swn_sentiment_score(scores4))\n",
    "print(get_average_swn_sentiment_score(scores5))\n",
    "\n",
    "\n"
   ]
  },
  {
   "cell_type": "markdown",
   "metadata": {},
   "source": [
    "#### 4.3.2 Scoring Each Review in the Dataset"
   ]
  },
  {
   "cell_type": "code",
   "execution_count": 731,
   "metadata": {},
   "outputs": [
    {
     "data": {
      "application/vnd.jupyter.widget-view+json": {
       "model_id": "20bdcbddfdde4214914a219fafa676a9",
       "version_major": 2,
       "version_minor": 0
      },
      "text/plain": [
       "HBox(children=(IntProgress(value=0, max=34223), HTML(value='')))"
      ]
     },
     "metadata": {},
     "output_type": "display_data"
    }
   ],
   "source": [
    "df[\"swn_sentiment_score\"] = [get_average_swn_sentiment_score(text.decode(\"utf-8\")) \n",
    "                             for text in tqdm(df[\"reviews.text\"].values)]"
   ]
  },
  {
   "cell_type": "markdown",
   "metadata": {},
   "source": [
    "#### 4.3.3 Evaluating Resultant Sentiment Scores"
   ]
  },
  {
   "cell_type": "code",
   "execution_count": 732,
   "metadata": {},
   "outputs": [
    {
     "data": {
      "text/plain": [
       "<matplotlib.axes._subplots.AxesSubplot at 0x200b557e4a8>"
      ]
     },
     "execution_count": 732,
     "metadata": {},
     "output_type": "execute_result"
    },
    {
     "data": {
      "image/png": "[encoded data removed]",
      "text/plain": [
       "<Figure size 432x288 with 1 Axes>"
      ]
     },
     "metadata": {
      "needs_background": "light"
     },
     "output_type": "display_data"
    }
   ],
   "source": [
    "df.boxplot(column=\"swn_sentiment_score\", by=\"reviews.rating\")"
   ]
  },
  {
   "cell_type": "code",
   "execution_count": 939,
   "metadata": {},
   "outputs": [
    {
     "data": {
      "text/plain": [
       "<Figure size 432x288 with 0 Axes>"
      ]
     },
     "execution_count": 939,
     "metadata": {},
     "output_type": "execute_result"
    },
    {
     "data": {
      "image/png": "[encoded data removed]",
      "text/plain": [
       "<Figure size 432x288 with 1 Axes>"
      ]
     },
     "metadata": {
      "needs_background": "light"
     },
     "output_type": "display_data"
    },
    {
     "data": {
      "image/png": "[encoded data removed]",
      "text/plain": [
       "<Figure size 432x288 with 1 Axes>"
      ]
     },
     "metadata": {
      "needs_background": "light"
     },
     "output_type": "display_data"
    },
    {
     "data": {
      "image/png": "[encoded data removed]",
      "text/plain": [
       "<Figure size 432x288 with 1 Axes>"
      ]
     },
     "metadata": {
      "needs_background": "light"
     },
     "output_type": "display_data"
    },
    {
     "data": {
      "image/png": "[encoded data removed]",
      "text/plain": [
       "<Figure size 432x288 with 1 Axes>"
      ]
     },
     "metadata": {
      "needs_background": "light"
     },
     "output_type": "display_data"
    },
    {
     "data": {
      "image/png": "[encoded data removed]",
      "text/plain": [
       "<Figure size 432x288 with 1 Axes>"
      ]
     },
     "metadata": {
      "needs_background": "light"
     },
     "output_type": "display_data"
    },
    {
     "data": {
      "text/plain": [
       "<Figure size 432x288 with 0 Axes>"
      ]
     },
     "metadata": {},
     "output_type": "display_data"
    }
   ],
   "source": [
    "df[df[\"reviews.rating\"] == 1.0][\"swn_sentiment_score\"].hist(bins=50, range=(-1, 1))\n",
    "#draw a line at the mean value in the histogram\n",
    "plt.axvline(df[df[\"reviews.rating\"] == 1.0][\"swn_sentiment_score\"].mean(), color='k', linestyle='dashed', linewidth=1)\n",
    "plt.suptitle(\"Histogram of Sentiment Score Distrbution (1.0-rated reviews)\")\n",
    "plt.figure()\n",
    "df[df[\"reviews.rating\"] == 2.0][\"swn_sentiment_score\"].hist(bins=50, range=(-1, 1))\n",
    "plt.axvline(df[df[\"reviews.rating\"] == 2.0][\"swn_sentiment_score\"].mean(), color='k', linestyle='dashed', linewidth=1)\n",
    "plt.suptitle(\"Histogram of Sentiment Score Distrbution (2.0-rated reviews)\")\n",
    "plt.figure()\n",
    "df[df[\"reviews.rating\"] == 3.0][\"swn_sentiment_score\"].hist(bins=50, range=(-1, 1))\n",
    "plt.axvline(df[df[\"reviews.rating\"] == 3.0][\"swn_sentiment_score\"].mean(), color='k', linestyle='dashed', linewidth=1)\n",
    "plt.suptitle(\"Histogram of Sentiment Score Distrbution (3.0-rated reviews)\")\n",
    "plt.figure()\n",
    "df[df[\"reviews.rating\"] == 4.0][\"swn_sentiment_score\"].hist(bins=50, range=(-1, 1))\n",
    "plt.axvline(df[df[\"reviews.rating\"] == 4.0][\"swn_sentiment_score\"].mean(), color='k', linestyle='dashed', linewidth=1)\n",
    "plt.suptitle(\"Histogram of Sentiment Score Distrbution (4.0-rated reviews)\")\n",
    "plt.figure()\n",
    "df[df[\"reviews.rating\"] == 5.0][\"swn_sentiment_score\"].hist(bins=50, range=(-1, 1))\n",
    "plt.axvline(df[df[\"reviews.rating\"] == 5.0][\"swn_sentiment_score\"].mean(), color='k', linestyle='dashed', linewidth=1)\n",
    "plt.suptitle(\"Histogram of Sentiment Score Distrbution (5.0-rated reviews)\")\n",
    "plt.figure()"
   ]
  },
  {
   "cell_type": "markdown",
   "metadata": {},
   "source": [
    "Here, the boxplot distribution histograms show a very slight increase in mean sentiment score as the rating of the review increases. Howeer, these means are very tightly packed around zero, suggesting that "
   ]
  },
  {
   "cell_type": "code",
   "execution_count": 747,
   "metadata": {},
   "outputs": [
    {
     "data": {
      "text/html": [
       "<div>\n",
       "<style scoped>\n",
       "    .dataframe tbody tr th:only-of-type {\n",
       "        vertical-align: middle;\n",
       "    }\n",
       "\n",
       "    .dataframe tbody tr th {\n",
       "        vertical-align: top;\n",
       "    }\n",
       "\n",
       "    .dataframe thead th {\n",
       "        text-align: right;\n",
       "    }\n",
       "</style>\n",
       "<table border=\"1\" class=\"dataframe\">\n",
       "  <thead>\n",
       "    <tr style=\"text-align: right;\">\n",
       "      <th></th>\n",
       "      <th>reviews.rating</th>\n",
       "      <th>swn_sentiment_score</th>\n",
       "    </tr>\n",
       "  </thead>\n",
       "  <tbody>\n",
       "    <tr>\n",
       "      <th>reviews.rating</th>\n",
       "      <td>1.000000</td>\n",
       "      <td>0.388954</td>\n",
       "    </tr>\n",
       "    <tr>\n",
       "      <th>swn_sentiment_score</th>\n",
       "      <td>0.388954</td>\n",
       "      <td>1.000000</td>\n",
       "    </tr>\n",
       "  </tbody>\n",
       "</table>\n",
       "</div>"
      ],
      "text/plain": [
       "                     reviews.rating  swn_sentiment_score\n",
       "reviews.rating             1.000000             0.388954\n",
       "swn_sentiment_score        0.388954             1.000000"
      ]
     },
     "execution_count": 747,
     "metadata": {},
     "output_type": "execute_result"
    }
   ],
   "source": [
    "df.loc[:,[\"reviews.rating\", \"swn_sentiment_score\"]].corr()"
   ]
  },
  {
   "cell_type": "markdown",
   "metadata": {},
   "source": [
    "#### 4.3.4 Calculating Difference between Sentiment Score and Rating"
   ]
  },
  {
   "cell_type": "code",
   "execution_count": 960,
   "metadata": {},
   "outputs": [
    {
     "name": "stdout",
     "output_type": "stream",
     "text": [
      "<pandas.core.groupby.groupby.SeriesGroupBy object at 0x00000200D0D9AC18>\n"
     ]
    },
    {
     "data": {
      "text/plain": [
       "<Figure size 432x288 with 0 Axes>"
      ]
     },
     "execution_count": 960,
     "metadata": {},
     "output_type": "execute_result"
    },
    {
     "data": {
      "image/png": "[encoded data removed]",
      "text/plain": [
       "<Figure size 432x288 with 1 Axes>"
      ]
     },
     "metadata": {
      "needs_background": "light"
     },
     "output_type": "display_data"
    },
    {
     "data": {
      "text/plain": [
       "<Figure size 432x288 with 0 Axes>"
      ]
     },
     "metadata": {},
     "output_type": "display_data"
    }
   ],
   "source": [
    "scores_grouped = df.groupby(\"reviews.rating\")[\"swn_sentiment_score\"]\n",
    "\n",
    "pd.DataFrame({\"Mean\" : scores_grouped.mean(), \n",
    "              \"Upper Quartile\": scores_grouped.quantile(0.75),\n",
    "              \"Lower Quartile\": scores_grouped.quantile(0.25),\n",
    "              \"95th percentile\": scores_grouped.quantile(0.95),\n",
    "              \"5th percentile\": scores_grouped.quantile(0.05),\n",
    "             }).plot()\n",
    "print(quantiles)\n",
    "plt.suptitle(\"Plot of mean sentiment scores for each rating\")\n",
    "plt.figure()"
   ]
  },
  {
   "cell_type": "markdown",
   "metadata": {},
   "source": [
    "Because there is a much greater range of scores within each rating compared to the inter-rating ranges, I have decided to use a Decision Tree regressor to rescale the sentiment scores into the 1.0-5.0 rating scale. This should prevent problems such as unusually high or low sentiment scores being rescaled into ratings higher or lower than the maximum or minimum, and thus being given a poor difference score even though the sentiment corresponds well to the given rating."
   ]
  },
  {
   "cell_type": "code",
   "execution_count": 955,
   "metadata": {},
   "outputs": [
    {
     "name": "stdout",
     "output_type": "stream",
     "text": [
      "Linear Regressor Score: 0.15\n",
      "Decision Tree Score: 0.20\n"
     ]
    }
   ],
   "source": [
    "reg = LinearRegression().fit(df[\"swn_sentiment_score\"].values.reshape(-1,1), df[\"reviews.rating\"].values)\n",
    "\n",
    "dt = DecisionTreeRegressor().fit(df[\"swn_sentiment_score\"].values.reshape(-1,1), df[\"reviews.rating\"].values)\n",
    "\n",
    "print(\"Linear Regressor Score: {:.2f}\".format(reg.score(df[\"swn_sentiment_score\"].values.reshape(-1,1), df[\"reviews.rating\"].values)))\n",
    "print(\"Decision Tree Score: {:.2f}\".format(dt.score(df[\"swn_sentiment_score\"].values.reshape(-1,1), df[\"reviews.rating\"].values)))\n"
   ]
  },
  {
   "cell_type": "markdown",
   "metadata": {},
   "source": [
    "Immediately, the poor accuracy scores for both regressors (though the Decision Tree regressor fares slightly better) suggests that this approach is not effective for accurately gauging the sentiment of reviews. Still, it is worthwhile to examine the reviews for which the scorer fares worst to see exactly why this approach isn't effective, and possibly glean insight into how this or other approaches could be improved."
   ]
  },
  {
   "cell_type": "code",
   "execution_count": 956,
   "metadata": {},
   "outputs": [],
   "source": [
    "predicted_ratings = dt.predict(df[\"swn_sentiment_score\"].values.reshape(-1,1))\n",
    "\n",
    "df[\"swn_score_difference\"] = abs(df[\"reviews.rating\"] - predicted_ratings)"
   ]
  },
  {
   "cell_type": "code",
   "execution_count": 957,
   "metadata": {},
   "outputs": [],
   "source": [
    "worst_performers = (df.sort_values(\"swn_score_difference\", ascending=False).head(20))"
   ]
  },
  {
   "cell_type": "code",
   "execution_count": 959,
   "metadata": {},
   "outputs": [
    {
     "name": "stdout",
     "output_type": "stream",
     "text": [
      "reviews.rating\n",
      "25050 \t Rating: 1.0 \t Sentiment Score: 0.35 \t Difference Score: 3.69\n",
      "Nice location and convenient to the beach. The property is pretty old and outdated. The room had to many cockroaches. Cockroaches were on the desk and in the furniture. Would be nice if the rooms were pest free.\n",
      "reviews.rating\n",
      "9106 \t Rating: 1.0 \t Sentiment Score: 0.34 \t Difference Score: 3.63\n",
      "I wont stay there again, I will next time pay for better hotel just sucked that everywhere else was booked. Asked 3 times for towels.\n",
      "reviews.rating\n",
      "16950 \t Rating: 1.0 \t Sentiment Score: 0.48 \t Difference Score: 3.56\n",
      "Don't stay here ! Checked in and 15 min later was on the phone looking for a decent hotel, an hour later I checked out. .The sign they had at the front desk said .....No Refunds... found out really fast why !!!\n",
      "reviews.rating\n",
      "12539 \t Rating: 1.0 \t Sentiment Score: 0.26 \t Difference Score: 3.55\n",
      "We had booked this hotel for a long weekend from March 6 thru 8. It was a family getaway. We had booked a two bedroom suite for four adults and two children. We had stayed here previously and it was very nice. We drove 5 hours from our home in Michigan. We walked into the lobby to a curtain of... More\n",
      "reviews.rating\n",
      "78 \t Rating: 5.0 \t Sentiment Score: -0.27 \t Difference Score: 3.55\n",
      "Great stay for our night downtown Livermore at Bankhead Theater concert. Birthday celebration for friend. The most comfortable bed ever! Nice patio where we spent our morning catching up. Hotel under construction did not bother us.\n",
      "reviews.rating\n",
      "33569 \t Rating: 1.0 \t Sentiment Score: 0.31 \t Difference Score: 3.54\n",
      "So I've actually written good reviews about this hotel before. I first started going here 7 years ago and back then it was great. During the years they kept getting bought out by new companies and every time it went under new management it would be more and more cheap and the quality would go down each time I visited... More\n",
      "reviews.rating\n",
      "17002 \t Rating: 1.0 \t Sentiment Score: 0.35 \t Difference Score: 3.52\n",
      "When looking at pictures online the hotel looks nice but once you get there and get in your room it's two very different places.\n",
      "reviews.rating\n",
      "6955 \t Rating: 1.0 \t Sentiment Score: 0.33 \t Difference Score: 3.52\n",
      "Stood in line for 30 minutes to check in. Dirty carpet, room hot. Could have turned on air since I did have a reservation. Bugs in room. Ew.\n",
      "reviews.rating\n",
      "738 \t Rating: 1.0 \t Sentiment Score: 0.33 \t Difference Score: 3.52\n",
      "Needs some tlc. It was a good room for a great price. It was only for one night and to be honest wouldn't do it again.\n",
      "reviews.rating\n",
      "13848 \t Rating: 1.0 \t Sentiment Score: 0.28 \t Difference Score: 3.52\n",
      "Ive worked in hotels for 15 years and the BnB experience is always a welcome change during my travels. I opted for a last minute getaway before returning school and work. I was fortunate enough to find a two-night stay at the Bailey House and looked forward to my first Lake Geneva experience. Our confirmation email stated a 3AM check... More\n",
      "reviews.rating\n",
      "12230 \t Rating: 1.0 \t Sentiment Score: 0.26 \t Difference Score: 3.52\n",
      "The Hotel itself was very nice and the staff of the 4 seasons very professional. The rooms are very nice as well and the views are really good. But whatever you do, do not Valet your vehicle. My vehicle was left in the care of their Valet Service overnight and now I have a 3,000 bill to have the vehicle... More\n",
      "reviews.rating\n",
      "8985 \t Rating: 1.0 \t Sentiment Score: 0.27 \t Difference Score: 3.50\n",
      "Well it is a nice hotel but it is too expensive and for the price we pay Breakfast should be included.\n",
      "reviews.rating\n",
      "20597 \t Rating: 1.0 \t Sentiment Score: 0.27 \t Difference Score: 3.50\n",
      "nice size rooms. reasonably priced. courteous hotel staff. overall, a pleasant experience so far. recommended.\n",
      "reviews.rating\n",
      "23975 \t Rating: 1.0 \t Sentiment Score: 0.27 \t Difference Score: 3.50\n",
      "We made reservations a day prior to arrival, they put us in the room right next to the office. When we arrived, around 8:00 pm, after being on the road all day we expected at least a decent room to crash for the night. The bathtub faucet was leaking and the tub had at least two inches of water in... More\n",
      "reviews.rating\n",
      "6802 \t Rating: 1.0 \t Sentiment Score: 0.16 \t Difference Score: 3.50\n",
      "While I agree that the staff is friendly, I caution travelers about staying at this location. First the good...rooms are clean and sufficient for a night or two stay. Staff is friendly. Now the caution...we were quoted a price if 54 for our one night stay. I received a receipt for my stay and felt satisfied. Upon my return home,... More\n",
      "reviews.rating\n",
      "15830 \t Rating: 1.0 \t Sentiment Score: 0.22 \t Difference Score: 3.50\n",
      "We checked in around 7 P.M. after a long, demanding day and were so looking forward to a restful evening and night. When we opened the door to our room, we noticed a fairly strong smell but thought it was probably just some cleaning agent that had been used and thought that once we turned on the fan to the... More\n",
      "reviews.rating\n",
      "21369 \t Rating: 1.0 \t Sentiment Score: 0.22 \t Difference Score: 3.50\n",
      "Saw some ants in the room but the thing that irked me the most was that the pool was closed. We booked this hotel specifically for its indoor pool. I was looking forward to spending some quality time with my daughter after being away on business and she loves pools.\n",
      "reviews.rating\n",
      "27706 \t Rating: 1.0 \t Sentiment Score: 0.29 \t Difference Score: 3.50\n",
      "We came here on our wedding night we figured we would save money on the hotel so we would have more for fun in the city. We didn't expect AMAZING but we did expect comfortable. When we walked in the building the man working the desk was to busy watching the game to really greet us. He checked us in... More\n",
      "reviews.rating\n",
      "10521 \t Rating: 1.0 \t Sentiment Score: 0.16 \t Difference Score: 3.50\n",
      "This motel is mediocre at best. Customer service is almost non existent. Screen door fell off our patio door located basically in front of the office and no one considered repairing it for 3 days. Empty beer bottles left in elevator lobby fot two days, were still there when we checked out. Less than helpful front desk staff.\n",
      "reviews.rating\n",
      "23743 \t Rating: 1.0 \t Sentiment Score: 0.20 \t Difference Score: 3.49\n",
      "You get what you pay for. The rooms were old and beat up. I slept all of 2 hours the whole night as I felt like there were bugs crawling on me in the bed. I couldn't wait to get out of there. Breakfast was....a joke. Spend the extra and stay at a better hotel.\n"
     ]
    }
   ],
   "source": [
    "for idx, row in worst_performers.iterrows():\n",
    "    print(i)\n",
    "    print(idx, \"\\t\", \n",
    "          \"Rating: {}\".format(row[\"reviews.rating\"]), \"\\t\",\n",
    "          \"Sentiment Score: {:,.2f}\".format(row[\"swn_sentiment_score\"]), \"\\t\",\n",
    "          \"Difference Score: {:,.2f}\".format(row[\"swn_score_difference\"])) \n",
    "    print(row[\"reviews.text\"].decode(\"utf-8\"))"
   ]
  },
  {
   "cell_type": "markdown",
   "metadata": {},
   "source": [
    "Looking at the worst performing reviews in terms of the difference between the sentiment score and the rating, we can see that this approach has major shortcomings. For nearly all of these reviews, it is clear that the sentiment of the reviews is in accordance with the rating, but the scorer is unable to see this. This seems to be mostly because of the context of the positive and negative words in the review - for example, review 16950 uses the phrase \"15 min later was on the phone looking for a decent hotel\", and review 25050 uses \"Would be nice if the rooms were pest free.\", both clearly negative phrases but ones which the scorer would score as positive because of the word choices used (\"decent\", \"nice\", \"free\")."
   ]
  },
  {
   "cell_type": "markdown",
   "metadata": {},
   "source": [
    "### 4.4 Approach 3: Naive Bayes Classifier Sentiment Scores"
   ]
  },
  {
   "cell_type": "markdown",
   "metadata": {},
   "source": [
    "#### 4.4.1 Text Preprocessing"
   ]
  },
  {
   "cell_type": "code",
   "execution_count": 775,
   "metadata": {},
   "outputs": [
    {
     "name": "stderr",
     "output_type": "stream",
     "text": [
      "[nltk_data] Downloading package stopwords to\n",
      "[nltk_data]     C:\\Users\\lenovo\\AppData\\Roaming\\nltk_data...\n",
      "[nltk_data]   Package stopwords is already up-to-date!\n"
     ]
    },
    {
     "data": {
      "text/plain": [
       "True"
      ]
     },
     "execution_count": 775,
     "metadata": {},
     "output_type": "execute_result"
    }
   ],
   "source": [
    "nltk.download(\"stopwords\")"
   ]
  },
  {
   "cell_type": "code",
   "execution_count": 997,
   "metadata": {},
   "outputs": [
    {
     "name": "stdout",
     "output_type": "stream",
     "text": [
      "Ri Ben Guo \n",
      "['ri', 'ben', 'guo', 'careen', 'isnt', 'carpet', 'archaeologist', 'gener']\n",
      "['fue', 'muy', 'agrad', 'mi', 'estancia', 'en', 'el', 'hotel', 'el', 'person', 'muy', 'profesion', 'amabl', 'la', 'instalacion', 'muy', 'limpia', 'cmoda', 'el', 'servicio', 'excelent', 'el', 'desayuno', 'muy', 'rico', 'tambin', 'todo', 'el', 'person', 'muy', 'servici', 'tuve', 'muy', 'buena', 'experiencia', 'adem', 'de', 'que', 'se', 'encuentra', 'muy', 'bien', 'ubicado', 'ya', 'que', 'est', 'enfrent', 'una', 'plaza', 'comerci']\n",
      "['isnt']\n"
     ]
    }
   ],
   "source": [
    "ps = PorterStemmer()\n",
    "\n",
    "stoplist = set(stopwords.words(\"english\"))\n",
    "\n",
    "#preprocessor\n",
    "def preprocessor(text):\n",
    "    \n",
    "    #transliterate non-unicode characters\n",
    "    text = unidecode(text)\n",
    "    \n",
    "    #replace apostrophes with \"\"\n",
    "    text = text.replace(\"'\", \"\")\n",
    "    \n",
    "    #and all other punctuation with a space\n",
    "    text = text.translate(str.maketrans(string.punctuation, \" \"*len(string.punctuation)))\n",
    "    \n",
    "    #lowercase it\n",
    "    text = text.lower()\n",
    "    \n",
    "    return text\n",
    "    \n",
    "def tokenizer(text):\n",
    "    \n",
    "    #split on whitespace\n",
    "    tokens = text.split(\" \")\n",
    "    \n",
    "    #remove empty tokens\n",
    "    tokens = [token for token in tokens if token != \"\"]\n",
    "    \n",
    "    #get rid of extremely common words using a stoplist\n",
    "    tokens = [token for token in tokens if token not in stoplist]\n",
    "    \n",
    "    \n",
    "    #use a porter stemmer to reduce all tokens to a representation of their base form    \n",
    "    tokens = [ps.stem(token) for token in tokens]\n",
    "    \n",
    "    return tokens\n",
    "\n",
    "print(unidecode(\"日本国\"))\n",
    "\n",
    "print(tokenizer(preprocessor(\"日本国..' careening' isn't a carpets.the.archaeologists generously \")))\n",
    "print(tokenizer(preprocessor(\"Fue muy agradable mi estancia en el hotel, el personal muy profesional y amable, las instalaciones muy limpias y cmodas, el servicio excelente!!! el desayuno muy rico tambin, todo el personal muy servicial, tuve muy buena experiencia, adems de que se encuentra muy bien ubicado, ya que est enfrente una plaza comercial\")))\n",
    "\n",
    "print(tokenizer(preprocessor(\"isn’t\"))) #different apostrophe - not '"
   ]
  },
  {
   "cell_type": "code",
   "execution_count": 1001,
   "metadata": {},
   "outputs": [],
   "source": [
    "texts = [x.decode() for x in df[\"reviews.text\"].values]\n",
    "\n",
    "\n",
    "cv = CountVectorizer(preprocessor=preprocessor, tokenizer=tokenizer)\n",
    "\n",
    "X = cv.fit_transform(texts)"
   ]
  },
  {
   "cell_type": "code",
   "execution_count": 1002,
   "metadata": {},
   "outputs": [
    {
     "name": "stdout",
     "output_type": "stream",
     "text": [
      "  (0, 21031)\t1\n",
      "  (0, 13470)\t1\n",
      "  (0, 18598)\t1\n",
      "  (0, 4191)\t1\n",
      "  (0, 15264)\t1\n",
      "  (0, 2562)\t1\n",
      "  (0, 22035)\t1\n",
      "  (0, 14206)\t1\n",
      "  (0, 5016)\t1\n",
      "  (0, 22090)\t1\n",
      "  (0, 1264)\t1\n",
      "  (0, 11686)\t1\n",
      "  (0, 17985)\t1\n",
      "  (0, 4334)\t1\n",
      "  (0, 14209)\t1\n",
      "  (0, 19963)\t1\n",
      "  (0, 3064)\t1\n",
      "  (0, 1966)\t1\n",
      "  (0, 21886)\t1\n",
      "  (0, 14032)\t1\n",
      "  (0, 13667)\t1\n",
      "  (0, 8103)\t1\n",
      "  (0, 9435)\t1\n",
      "  (0, 8231)\t1\n",
      "  (0, 18818)\t1\n",
      "  (0, 18910)\t1\n",
      "  (0, 17050)\t2\n",
      "  (0, 8832)\t1\n",
      "  (0, 3207)\t1\n",
      "  (0, 4577)\t2\n",
      "  (0, 9764)\t2\n"
     ]
    }
   ],
   "source": [
    "print(X[3])"
   ]
  },
  {
   "cell_type": "markdown",
   "metadata": {},
   "source": [
    "#### 4.4.2 Train-Test Split"
   ]
  },
  {
   "cell_type": "code",
   "execution_count": 1003,
   "metadata": {},
   "outputs": [
    {
     "name": "stdout",
     "output_type": "stream",
     "text": [
      "2557\n"
     ]
    }
   ],
   "source": [
    "sentiments =  df[\"reviews.rating\"]\n",
    "#print(sentiments[0:5])\n",
    "\n",
    "le = LabelEncoder()\n",
    "le.fit([1,2,3,4,5])\n",
    "\n",
    "Y = le.transform(sentiments)\n",
    "\n",
    "print(len(Y[Y == 0]))"
   ]
  },
  {
   "cell_type": "code",
   "execution_count": 1004,
   "metadata": {},
   "outputs": [
    {
     "name": "stdout",
     "output_type": "stream",
     "text": [
      "(25667, 22574)\n"
     ]
    }
   ],
   "source": [
    "X_train, X_test, Y_train, Y_test, ratings_train, ratings_test = train_test_split(X, Y, ratings,\n",
    "                                                                                 test_size=TEST_PROPORTION)\n",
    "\n",
    "print(X_train.shape)"
   ]
  },
  {
   "cell_type": "markdown",
   "metadata": {},
   "source": [
    "#### 4.4.3 Fitting and Evaluating the Model"
   ]
  },
  {
   "cell_type": "code",
   "execution_count": 1005,
   "metadata": {},
   "outputs": [],
   "source": [
    "bayes = MultinomialNB()\n",
    "\n",
    "bayes.fit(X_train, Y_train)\n",
    "\n",
    "pred_y = bayes.predict(X_test)"
   ]
  },
  {
   "cell_type": "code",
   "execution_count": 1006,
   "metadata": {},
   "outputs": [
    {
     "name": "stdout",
     "output_type": "stream",
     "text": [
      "[4 4 3 ... 3 4 3]\n",
      "[4 4 3 ... 3 3 3]\n"
     ]
    }
   ],
   "source": [
    "print(Y_test)\n",
    "print(pred_y)\n",
    "\n",
    "conf = confusion_matrix(Y_test, pred_y)"
   ]
  },
  {
   "cell_type": "code",
   "execution_count": 1007,
   "metadata": {},
   "outputs": [
    {
     "name": "stdout",
     "output_type": "stream",
     "text": [
      "Train Set Accuracy: 0.67\n"
     ]
    }
   ],
   "source": [
    "train_preds = bayes.predict(X_train)\n",
    "\n",
    "accuracy = accuracy_score(Y_train, train_preds)\n",
    "print(\"Train Set Accuracy: {:.2f}\".format(accuracy))\n"
   ]
  },
  {
   "cell_type": "code",
   "execution_count": 1008,
   "metadata": {},
   "outputs": [
    {
     "name": "stdout",
     "output_type": "stream",
     "text": [
      "Test Set Accuracy: 0.54\n"
     ]
    }
   ],
   "source": [
    "accuracy = accuracy_score(Y_test, pred_y)\n",
    "print(\"Test Set Accuracy: {:.2f}\".format(accuracy))"
   ]
  },
  {
   "cell_type": "code",
   "execution_count": 1009,
   "metadata": {},
   "outputs": [
    {
     "name": "stdout",
     "output_type": "stream",
     "text": [
      "[[5.39055916e-08 9.00477554e-05 1.26629838e-02 3.22329308e-01\n",
      "  6.64917607e-01]\n",
      " [1.20158819e-08 2.75728303e-08 1.50183142e-04 1.12790029e-01\n",
      "  8.87059748e-01]\n",
      " [6.46331315e-15 1.64434146e-08 3.22965599e-02 9.66345770e-01\n",
      "  1.35765361e-03]\n",
      " ...\n",
      " [3.66813104e-05 1.27608879e-04 1.50413249e-02 8.97757610e-01\n",
      "  8.70367750e-02]\n",
      " [3.86494187e-07 4.78841270e-05 2.05422507e-02 8.93003473e-01\n",
      "  8.64060055e-02]\n",
      " [8.52651092e-02 3.82637331e-03 9.37534595e-05 9.10814742e-01\n",
      "  2.16133055e-08]]\n"
     ]
    }
   ],
   "source": [
    "probs = bayes.predict_proba(X_test)\n",
    "print(probs)"
   ]
  },
  {
   "cell_type": "markdown",
   "metadata": {},
   "source": [
    "This model seems to be slightly overfit, as the accuracy of predictions for the training set is a fair bit higher than the accuraacy for the test set."
   ]
  },
  {
   "cell_type": "markdown",
   "metadata": {},
   "source": [
    "#### 4.4.4 Scoring Each Text in the Dataset"
   ]
  },
  {
   "cell_type": "code",
   "execution_count": 1010,
   "metadata": {},
   "outputs": [],
   "source": [
    "def get_naive_bayes_score(probs):\n",
    "    \n",
    "    return (-1*probs[:,0]) + (-0.5*probs[:,1]) + (0.5*probs[:,3]) + (1*probs[:,4])\n",
    "\n",
    "probs = bayes.predict_proba(X)\n",
    "\n",
    "df[\"naive_bayes_sentiment_score\"] = get_naive_bayes_score(probs)"
   ]
  },
  {
   "cell_type": "markdown",
   "metadata": {},
   "source": [
    "#### 4.4.5 Evaluating Resultant Sentiment Scores "
   ]
  },
  {
   "cell_type": "code",
   "execution_count": 1011,
   "metadata": {},
   "outputs": [
    {
     "data": {
      "text/plain": [
       "<matplotlib.axes._subplots.AxesSubplot at 0x2010734f2e8>"
      ]
     },
     "execution_count": 1011,
     "metadata": {},
     "output_type": "execute_result"
    },
    {
     "data": {
      "image/png": "[encoded data removed]",
      "text/plain": [
       "<Figure size 432x288 with 1 Axes>"
      ]
     },
     "metadata": {
      "needs_background": "light"
     },
     "output_type": "display_data"
    }
   ],
   "source": [
    "df.boxplot(column=\"naive_bayes_sentiment_score\", by=\"reviews.rating\")"
   ]
  },
  {
   "cell_type": "code",
   "execution_count": 1012,
   "metadata": {},
   "outputs": [
    {
     "data": {
      "text/plain": [
       "<Figure size 432x288 with 0 Axes>"
      ]
     },
     "execution_count": 1012,
     "metadata": {},
     "output_type": "execute_result"
    },
    {
     "data": {
      "image/png": "[encoded data removed]",
      "text/plain": [
       "<Figure size 432x288 with 1 Axes>"
      ]
     },
     "metadata": {
      "needs_background": "light"
     },
     "output_type": "display_data"
    },
    {
     "data": {
      "image/png": "[encoded data removed]",
      "text/plain": [
       "<Figure size 432x288 with 1 Axes>"
      ]
     },
     "metadata": {
      "needs_background": "light"
     },
     "output_type": "display_data"
    },
    {
     "data": {
      "image/png": "[encoded data removed]",
      "text/plain": [
       "<Figure size 432x288 with 1 Axes>"
      ]
     },
     "metadata": {
      "needs_background": "light"
     },
     "output_type": "display_data"
    },
    {
     "data": {
      "image/png": "[encoded data removed]",
      "text/plain": [
       "<Figure size 432x288 with 1 Axes>"
      ]
     },
     "metadata": {
      "needs_background": "light"
     },
     "output_type": "display_data"
    },
    {
     "data": {
      "image/png": "[encoded data removed]",
      "text/plain": [
       "<Figure size 432x288 with 1 Axes>"
      ]
     },
     "metadata": {
      "needs_background": "light"
     },
     "output_type": "display_data"
    },
    {
     "data": {
      "text/plain": [
       "<Figure size 432x288 with 0 Axes>"
      ]
     },
     "metadata": {},
     "output_type": "display_data"
    }
   ],
   "source": [
    "df[df[\"reviews.rating\"] == 1.0][\"naive_bayes_sentiment_score\"].hist(bins=50)\n",
    "plt.suptitle(\"Histogram of Naive Bayes Sentiment Scores (For reviews with a 1.0 rating)\")\n",
    "plt.figure()\n",
    "df[df[\"reviews.rating\"] == 2.0][\"naive_bayes_sentiment_score\"].hist(bins=50)\n",
    "plt.suptitle(\"Histogram of Naive Bayes Sentiment Scores (For reviews with a 2.0 rating)\")\n",
    "plt.figure()\n",
    "df[df[\"reviews.rating\"] == 3.0][\"naive_bayes_sentiment_score\"].hist(bins=50)\n",
    "plt.suptitle(\"Histogram of Naive Bayes Sentiment Scores (For reviews with a 3.0 rating)\")\n",
    "plt.figure()\n",
    "df[df[\"reviews.rating\"] == 4.0][\"naive_bayes_sentiment_score\"].hist(bins=50)\n",
    "plt.suptitle(\"Histogram of Naive Bayes Sentiment Scores (For reviews with a 4.0 rating)\")\n",
    "plt.figure()\n",
    "df[df[\"reviews.rating\"] == 5.0][\"naive_bayes_sentiment_score\"].hist(bins=50)\n",
    "plt.suptitle(\"Histogram of Naive Bayes Sentiment Scores (For reviews with a 5.0 rating)\")\n",
    "plt.figure()"
   ]
  },
  {
   "cell_type": "markdown",
   "metadata": {},
   "source": [
    "From the histograms, we can see that the sentiment scores are highly correlated with the review ratings (as expected, given that the Naive Bayes model is trained using a large portion of them). However, the fact that the distributions for each review rating have very large peaks at the corresponding sentiment scores for each rating, rather than a smooth curve centred around the corresponding score as all the other approaches lead to, indicates that the model may be overfitting to the rating, and isn't properly embodying the sentiment of the text - we would expect, given that each review writer has their own idea of how their opinion of a place translates to a score rating, a higher variation of scores for each rating - ie. 4.0-rated reviews with text that, for most people, would be grounds to give a 5.0."
   ]
  },
  {
   "cell_type": "markdown",
   "metadata": {},
   "source": [
    "#### 4.4.6 Calculating Difference between Sentiment Score and Rating"
   ]
  },
  {
   "cell_type": "code",
   "execution_count": 1013,
   "metadata": {},
   "outputs": [
    {
     "name": "stdout",
     "output_type": "stream",
     "text": [
      "<pandas.core.groupby.groupby.SeriesGroupBy object at 0x00000200D0D9AC18>\n"
     ]
    },
    {
     "data": {
      "text/plain": [
       "Text(0.5,0.98,'Plot of mean sentiment scores for each rating')"
      ]
     },
     "execution_count": 1013,
     "metadata": {},
     "output_type": "execute_result"
    },
    {
     "data": {
      "image/png": "[encoded data removed]",
      "text/plain": [
       "<Figure size 432x288 with 1 Axes>"
      ]
     },
     "metadata": {
      "needs_background": "light"
     },
     "output_type": "display_data"
    }
   ],
   "source": [
    "scores_grouped = df.groupby(\"reviews.rating\")[\"naive_bayes_sentiment_score\"]\n",
    "\n",
    "pd.DataFrame({\"Mean\" : scores_grouped.mean(), \n",
    "              \"Upper Quartile\": scores_grouped.quantile(0.75),\n",
    "              \"Lower Quartile\": scores_grouped.quantile(0.25),\n",
    "#              \"95th percentile\": scores_grouped.quantile(0.95),\n",
    "#              \"5th percentile\": scores_grouped.quantile(0.05),\n",
    "             }).plot()\n",
    "print(quantiles)\n",
    "plt.suptitle(\"Plot of mean sentiment scores for each rating\")"
   ]
  },
  {
   "cell_type": "code",
   "execution_count": 1014,
   "metadata": {},
   "outputs": [
    {
     "name": "stdout",
     "output_type": "stream",
     "text": [
      "Score: 0.56\n"
     ]
    }
   ],
   "source": [
    "reg = LinearRegression().fit(df[\"naive_bayes_sentiment_score\"].values.reshape(-1,1), df[\"reviews.rating\"].values)\n",
    "\n",
    "print(\"Score: {:.2f}\".format(reg.score(df[\"naive_bayes_sentiment_score\"].values.reshape(-1,1), df[\"reviews.rating\"].values)))"
   ]
  },
  {
   "cell_type": "code",
   "execution_count": 1015,
   "metadata": {},
   "outputs": [],
   "source": [
    "predicted_ratings = reg.predict(df[\"naive_bayes_sentiment_score\"].values.reshape(-1,1))\n",
    "\n",
    "df[\"naive_bayes_score_difference\"] = abs(df[\"reviews.rating\"] - predicted_ratings)"
   ]
  },
  {
   "cell_type": "code",
   "execution_count": 1016,
   "metadata": {},
   "outputs": [],
   "source": [
    "worst_performers = (df.sort_values(\"naive_bayes_score_difference\", ascending=False).head(20))"
   ]
  },
  {
   "cell_type": "code",
   "execution_count": 1017,
   "metadata": {},
   "outputs": [
    {
     "name": "stdout",
     "output_type": "stream",
     "text": [
      "5509 \t Rating: 1.0 \t Sentiment Score: 1.00 \t Difference Score: 3.69\n",
      "Recently my wife Diana and I visited this hotel was wonderfully taken care of by the top-notch receptionist Scott. He even found a little treat for our dog Spencer. Also the hotel was immaculate we love all the amenities. David Allport\n",
      "22090 \t Rating: 1.0 \t Sentiment Score: 1.00 \t Difference Score: 3.69\n",
      "Elk Springs We went with 3 children.As soon as you walk in you feel like you're at home. It has all the perks of home and is extremely affordable. I highly reccomend a stay at elk springs.\n",
      "5115 \t Rating: 1.0 \t Sentiment Score: 1.00 \t Difference Score: 3.69\n",
      "Classic Style Grace This is a wonderful hotel and we would recommend it highly to anyone staying in Portland. Beautifully appointed lobby and rooms, friendly professional staff, comfortable and cozy - from the fireplace in the lobby to the private balcony and view of the City.\n",
      "22023 \t Rating: 1.0 \t Sentiment Score: 1.00 \t Difference Score: 3.69\n",
      "We recently revisited Elk Springs after A wonderful trip last year. We worked with Katie via email at first to locate a cabin that was pet friendly and available for the days we were looking at. After staying last year we were offered a discount or upgrade on a repeat visit and we're looking forward to using this opportunity to... More\n",
      "10277 \t Rating: 1.0 \t Sentiment Score: 1.00 \t Difference Score: 3.69\n",
      "This restaurant was one of my wife's and I favorite in the North Conway area. We had reservations to go back there for my 50th birthday dinner only to find out the owner shut the restaurant down. We both will miss this place for the fabulous cuisine they had and pray it will open back up again.\n",
      "33569 \t Rating: 1.0 \t Sentiment Score: 1.00 \t Difference Score: 3.69\n",
      "So I've actually written good reviews about this hotel before. I first started going here 7 years ago and back then it was great. During the years they kept getting bought out by new companies and every time it went under new management it would be more and more cheap and the quality would go down each time I visited... More\n",
      "9859 \t Rating: 1.0 \t Sentiment Score: 1.00 \t Difference Score: 3.69\n",
      "From the warm greeting at check-in to the service at the breakfast, the visit was superb! We received our requested room number it was clean and quiet as usual. Plans are to return this fall. Overall, highly recommended.\n",
      "883 \t Rating: 1.0 \t Sentiment Score: 1.00 \t Difference Score: 3.69\n",
      "After staying in this hotel for years as we go down every two years for a family reunion, I will never ever stay at this hotel again even if I have to stay all the way in Knoxville and drive down for the festivities. I walked in while my husband and kids were unloading the luggage from the car. I... More\n",
      "17996 \t Rating: 1.0 \t Sentiment Score: 1.00 \t Difference Score: 3.69\n",
      "My personal favorite It was really much more than I expected. Great service, very conveniently located, great food, and great price. If you are in the neighborhood and looking for a very luxurious stay, no matter how long, you have to stay here! You should see these elevators a great addition to this already enjoyable stay. Walk outside and see it all attractions for everybody, tourists and businessmen.\n",
      "793 \t Rating: 1.0 \t Sentiment Score: 1.00 \t Difference Score: 3.69\n",
      "We had our family reunion there and it was a great overall trip.Everything was clean and people were friendly and helpful. They were tolerant of small children and teens.There was rooms for everybody and plenty of space for gathering and eating. The kids and adults loved the pool and hot tub. We were impressed at the ability for my cousin... More\n",
      "13848 \t Rating: 1.0 \t Sentiment Score: 1.00 \t Difference Score: 3.69\n",
      "Ive worked in hotels for 15 years and the BnB experience is always a welcome change during my travels. I opted for a last minute getaway before returning school and work. I was fortunate enough to find a two-night stay at the Bailey House and looked forward to my first Lake Geneva experience. Our confirmation email stated a 3AM check... More\n",
      "3689 \t Rating: 1.0 \t Sentiment Score: 1.00 \t Difference Score: 3.69\n",
      "We stayed for 2 nights and loved our room and location of the hotel. Room had a colonial feel and was roomy. Hotel is right on King st in old town Alexandria. Surrounded by cute shops and easy access to the trolly which goes to the metro. Can't wait to stay again!\n",
      "2558 \t Rating: 1.0 \t Sentiment Score: 1.00 \t Difference Score: 3.69\n",
      "We first stumbled on this motel while taking a long ride to investigate somewhere new. We tripped over PURE GOLD!! The first time we stayed there we were in an older room and we had such a wonderful time, that we decided to go back again three months later! Our second stay absolutely amazing. We are both handicapped, and the... More\n",
      "25941 \t Rating: 1.0 \t Sentiment Score: 1.00 \t Difference Score: 3.69\n",
      "First let me say what was good at the hotel. When I checked in the gentlemen at the front desk were very friendly but never saw them again. Second, the lady that did breakfast service every morning was very sweet and always treated us well. The bed in my room was also one of the most comfortable hotel beds I... More\n",
      "10611 \t Rating: 1.0 \t Sentiment Score: 1.00 \t Difference Score: 3.68\n",
      "I'll begin by saying there are no chain hotel/motels in Oakland. Oakland is a lovely town close to Deep Creek Lake. The landscape all around Oakland is beautiful too especially on 219 S. and route 50. However, there are very few places to stay. We were up for a family reunion and the county fair was going on and The... More\n",
      "3920 \t Rating: 1.0 \t Sentiment Score: 0.99 \t Difference Score: 3.68\n",
      "This resort claimed to be a ski-in, ski-out property. I am a professional researcher (a tenured professor) and called the hotel twice, after reading about it online. Both times, I was promised it was ski-in, ski-out, which was important to me. It was not true. I had to take: 1) a van to the gondola 2) a gondola ride to... More\n",
      "17998 \t Rating: 1.0 \t Sentiment Score: 0.99 \t Difference Score: 3.68\n",
      "Attending the high quality annual KPMG insurance industry conference. Great seminar and great venue with superb facilities!\n",
      "23612 \t Rating: 1.0 \t Sentiment Score: 0.99 \t Difference Score: 3.68\n",
      "Stayed in the hotel to try it out after very fond memories of staying in the Staybridge Suites in Ballantyne, NC (I did a company relo and my family lived in this hotel for 6 months - just a great place). I travel to Virginia for business quite frequently and wanted to try out a new hotel. I typically stay... More\n",
      "23290 \t Rating: 1.0 \t Sentiment Score: 0.99 \t Difference Score: 3.68\n",
      "I usually not write reviews that often and especially don't give any bad review to ARIA at all since my husband totally loves ARIA. My husband and I always love to stay here and we come minimum 3 times a year but the last 2 stays of ours were very unsatisfactory and all due to unprofessional staff at Mlife. My... More\n",
      "28871 \t Rating: 1.0 \t Sentiment Score: 0.99 \t Difference Score: 3.68\n",
      "We arrived for our first family vacation only to find out they lost our reservation. I had the print out of our hotel confirmation but that made no difference. Staff was friendly but not helpful in finding us new accomodations.\n"
     ]
    }
   ],
   "source": [
    "for idx, row in worst_performers.iterrows():\n",
    "    print(idx, \"\\t\", \n",
    "          \"Rating: {}\".format(row[\"reviews.rating\"]), \"\\t\",\n",
    "          \"Sentiment Score: {:,.2f}\".format(row[\"naive_bayes_sentiment_score\"]), \"\\t\",\n",
    "          \"Difference Score: {:,.2f}\".format(row[\"naive_bayes_score_difference\"])) \n",
    "    print(row[\"reviews.text\"].decode(\"utf-8\"))"
   ]
  },
  {
   "cell_type": "code",
   "execution_count": 1018,
   "metadata": {},
   "outputs": [],
   "source": [
    "worst_performers_five_stars = (df[df[\"reviews.rating\"] == 5.0].sort_values(\"naive_bayes_score_difference\", ascending=False).head(20))"
   ]
  },
  {
   "cell_type": "code",
   "execution_count": 1019,
   "metadata": {},
   "outputs": [
    {
     "name": "stdout",
     "output_type": "stream",
     "text": [
      "7474 \t Rating: 5.0 \t Sentiment Score: -1.00 \t Difference Score: 3.57\n",
      "Mycket bra hotell, med fantastisk service. Bodde ven ngra dagar p systerhotellet Villa Ducale, men Carlotta var nog snppet bttre pga lget. Bara ngra minuters promenad direkt till restauranger och huvudgata. Fin trdgrd med pool, samt mysig restaurang/frukost/drinkbar i toppen av hotellet. Utsikt ver havet och omgivande stad, med mjlighet att sitta ven p terass utomhus.\n",
      "12105 \t Rating: 5.0 \t Sentiment Score: -1.00 \t Difference Score: 3.57\n",
      "This Hotel is HORRIBLE. When we went to bed we pulled back the sheets and there was dried blood all over the sheets. We were so disgusted. We had to fight and fight for our money back and the manager didn't even care. Do NOT stay here.\n",
      "17005 \t Rating: 5.0 \t Sentiment Score: -1.00 \t Difference Score: 3.57\n",
      "Do not waste your time! Theres no way aNY living thing could stay here comfortably. Room was dirty smelled overwhelmingly like Raid cigarettes!! No towels, toliet paper or soap. Furniture was falling apart. The girl at the front desk was rude told me I'd be refunded for the days I had booked.. However, I was not.\n",
      "14682 \t Rating: 5.0 \t Sentiment Score: -1.00 \t Difference Score: 3.57\n",
      "I really regret that I have chosen to stay at this hotel. I was bitten by bedbugs and still feel itchy now two days after I left. I even scratched my arm to bleed! I told the receptionist about the bedbug and showed her the bites in my hands and arm, but nothing was done. Terrible experience!\n",
      "911 \t Rating: 5.0 \t Sentiment Score: -1.00 \t Difference Score: 3.57\n",
      "It was terrible. Would never stayhere agian. So bad i didnt even go back for my 2nd night. Worst place i have ever staid at. Very nasty needs o be closed down\n",
      "20040 \t Rating: 5.0 \t Sentiment Score: -1.00 \t Difference Score: 3.57\n",
      "Mi esposa y yo fuimos a festejar los 20 aos de matrimonio y nos llevamos una agradable sorpresa con el hotel en todos aspectos Mil gracias por todo y seguro regresaremos pronto Atentamente Silvia y Lorenzo\n",
      "20034 \t Rating: 5.0 \t Sentiment Score: -1.00 \t Difference Score: 3.57\n",
      "Con distribucin descendente, todas sus habitaciones cuentan con vista al mar. Desde que llegas te reciben con bellos detalles.... una toalla helada con olor a ans y una deliciosa nieve de coco. La amabilidad y buena disposicin de todos sus empleados es un plus maravilloso. Los chicos del valet sper amables y honestos.\n",
      "17011 \t Rating: 5.0 \t Sentiment Score: -1.00 \t Difference Score: 3.57\n",
      "Un hotel con dos camas c��modas ba��os y todo bien lo ��nico que falto fumigar hab��a cucarachas porque la gente deja alimentos abiertos y ten��a cocineta esta bien para el precio esta excelente\n",
      "21083 \t Rating: 5.0 \t Sentiment Score: -1.00 \t Difference Score: 3.57\n",
      "Muy contenta porque ya tienen almohadas nuevas y confortables y cobijas en el cuarto. La ultima vez que me hosped ah, fueron mis sugerencias. De hecho yo haba llevado mi propia almohada.\n",
      "5849 \t Rating: 5.0 \t Sentiment Score: -1.00 \t Difference Score: 3.57\n",
      "Vi stannade bara en natt men det var helt underbart stlle. Fantastiskt rum med balkong och en otrolig utsikt. Maten p restaurangen var ocks otroligt god. Mycket vnlig personal!\n",
      "9219 \t Rating: 5.0 \t Sentiment Score: -1.00 \t Difference Score: 3.57\n",
      "The bathroom floor and shower wall were covered in someone's long black hair. The tub dripped constantly. The floor had not been vacuumed and someone's fingernail clippings were on the floor by the desk. The sliding door was unlocked and the back door to enter the hotel didn't lock after hours. The whole place except the lobby is in disrepair.\n",
      "23641 \t Rating: 5.0 \t Sentiment Score: -1.00 \t Difference Score: 3.57\n",
      "We had a reservation last month. On our way to this hotel, my daughter got sick in the car. And we made the choice to return home and cancel our vacation (we had Sesame Place and Dutch Wonderland in mind). We called Comfort Inn and explained our situation. Our hotel booking was non refundable and obviously we called with less... More\n",
      "15241 \t Rating: 5.0 \t Sentiment Score: -1.00 \t Difference Score: 3.57\n",
      "I arrived late evening on July 31,2016 to find out I did not have a reservation like I thought I did. I was insistent I did and I showed my confirmation number. (Which I realized later on that I had cancelled it) Turns out the staff, Keith and Nallely were the most patient and polite front desk workers in the... More\n",
      "20022 \t Rating: 5.0 \t Sentiment Score: -1.00 \t Difference Score: 3.57\n",
      "El hotel esta muy bonito. Por su ubicacin en la montaa tiene una gran vista, pero tambin muchas escaleras que pueden complicar a las personas con alguna discapacidad. Las habitaciones amplias, cmodas y limpias...\n",
      "24843 \t Rating: 5.0 \t Sentiment Score: -1.00 \t Difference Score: 3.57\n",
      "The front desk man was very rude. If I didn't like the indoor pool I would never go back again. He was very arrogant and acted as if he didn't care if our stay was enjoyable. Told me false information and made it difficult for me to check in.They need to rehire a new front desk person if I ever see him again I'm turning the other way.\n",
      "25835 \t Rating: 5.0 \t Sentiment Score: -1.00 \t Difference Score: 3.56\n",
      "Der har ikke vret noget at klage over. Virginian Suites har indeholdtog budt p de tjenesteydelser, vi selv har fordret. Derfor har vi vret srdeles godt tilfreds. Derfor faldt valget ogs p Virginian Suites, da vi p tilbagevejen p vores rejse skulle finde logi for de sidste 2 dage.\n",
      "21288 \t Rating: 5.0 \t Sentiment Score: -1.00 \t Difference Score: 3.56\n",
      "el hotel esta bien aunque le hace falta una mano de pintura. esta un poco dejado. lo peor si dormís tres en la habitación imposible dormir en el sofá.\n",
      "7316 \t Rating: 5.0 \t Sentiment Score: -1.00 \t Difference Score: 3.56\n",
      "Found this on groupon. Checked in on July 5th. After reading some questionable reviews, we decided to give it a shot. We checked in and were given keys to room 8. I walked in and instantly lifted up the mattress. In addition to a musty, dirty smell we were not surprised to find a family of baby cockroaches under the... More\n",
      "1923 \t Rating: 5.0 \t Sentiment Score: -1.00 \t Difference Score: 3.56\n",
      "Stay was good very clean just 2 hiccups that was very frustrating The carpet on our floor either had a flood or something and it smelled awful. Toilet backed up had to not only go to desk and get plunger ourselves, plunge ourselves and return plunger. Not exactly walking to walk around with a very stinky plunger\n",
      "3017 \t Rating: 5.0 \t Sentiment Score: -1.00 \t Difference Score: 3.56\n",
      "Front desk Even with the frustration, you do not show your frustration/scroll/point out your co-worker's mistake in front of customers. With your experience, few more steps/calling,asking,it was a fixable mistake. It was unpleasant to hear waiting.\n"
     ]
    }
   ],
   "source": [
    "for idx, row in worst_performers_five_stars.iterrows():\n",
    "    print(idx, \"\\t\", \n",
    "          \"Rating: {}\".format(row[\"reviews.rating\"]), \"\\t\",\n",
    "          \"Sentiment Score: {:,.2f}\".format(row[\"naive_bayes_sentiment_score\"]), \"\\t\",\n",
    "          \"Difference Score: {:,.2f}\".format(row[\"naive_bayes_score_difference\"])) \n",
    "    print(row[\"reviews.text\"].decode(\"utf-8\"))"
   ]
  },
  {
   "cell_type": "code",
   "execution_count": 1020,
   "metadata": {},
   "outputs": [],
   "source": [
    "worst_performers_three_stars = (df[df[\"reviews.rating\"] == 3.0].sort_values(\"naive_bayes_score_difference\", ascending=False).head(20))"
   ]
  },
  {
   "cell_type": "code",
   "execution_count": 1021,
   "metadata": {},
   "outputs": [
    {
     "name": "stdout",
     "output_type": "stream",
     "text": [
      "446 \t Rating: 3.0 \t Sentiment Score: 1.00 \t Difference Score: 1.69\n",
      "Excellent value, nice clean room , quiet, had fun at the bar our bartender was REALY nice and friendly. For sure this would be my second home if it wasn't so far away from my Massachusetts home. Would definitely recommend this Hotel to anyone staying in the area.Dear T2359WMstephenb - Thanks so much for the kind words! We are glad you enjoyed your stay, and we look forward to having you back with us on your next trip to the area :)\n",
      "21988 \t Rating: 3.0 \t Sentiment Score: 1.00 \t Difference Score: 1.69\n",
      "This was our third stay through Elk Springs Resort. We have never had a problem with Elk Springs Resort. This time we stayed at the Mountain Laurel cabin. The main reason for choosing this cabin was the bedroom layout. We required a cabin that had a main level bedroom for my husband who walks with a cane. My son had... More\n",
      "24296 \t Rating: 3.0 \t Sentiment Score: 1.00 \t Difference Score: 1.69\n",
      "Having just returned from a week long vacation at the Honua Kai I am torn at what to say. The service was great, everyone person we encountered was very polite and very helpful and courteous. The rooms, lobby and gardens are very very clean and really beautiful. We had a Studio Ocean View and a 2 Bedroom Resort View. The... More\n",
      "5128 \t Rating: 3.0 \t Sentiment Score: 1.00 \t Difference Score: 1.69\n",
      "As train and history buffs, we enjoy train travel (and liked the Amtrak long-distance train trips we took right before and after our Pullman trip). Based on our one-way trip on the Pullman train from Chicago to New Orleans, we think Pullman Rail Journeys is a great idea poorly executed. We love the idea of vintage rail cars on an... More\n",
      "4458 \t Rating: 3.0 \t Sentiment Score: 1.00 \t Difference Score: 1.69\n",
      "We planned a weekend trip to White Cliff for our 10 year anniversary with high hopes. Reviews were very high on the property and its caretaker. We have stayed at over a dozen BB's and feel we have a reasonable opinion of what makes a BB above average. The manor itself has a history that you can feel as soon... More\n",
      "14478 \t Rating: 3.0 \t Sentiment Score: 1.00 \t Difference Score: 1.69\n",
      "It is obvious that Byron's, Karen's and Doane's passion is hospitality. During our stay they listened, facilitated and helped us to find our way in the BB, Cambridge, and the surroundings. We had booked the West-room which is on the back of the house next to the kitchen and in front of the bathroom. The rooms were very clean and... More\n",
      "27215 \t Rating: 3.0 \t Sentiment Score: 1.00 \t Difference Score: 1.69\n",
      "My fiancee,are pet dog(Oliver) and I were very excited on are pick of the The Westin Poinsett Hotel on Christmas day. We packed and went on a great long road trip from Miami,Florida to Greenville,S.C. when we arrived we were amazed how fabulous the city is including The Poinsett Hotel.When we pulled up our expectations went down hill. The valet... More\n",
      "26762 \t Rating: 3.0 \t Sentiment Score: 1.00 \t Difference Score: 1.69\n",
      "I stayed at the Grand Hyatt Kauai for two weeks in March 2016. The good: The architecture of the hotel is beautiful. The grounds are stunning. Best resort pool I've ever seen. The spa was very nice, yoga was top notch, staff was very attentive. Elevators were speedy. Tidepools restaurant was exceptionally good. The not so good: The food, with... More\n",
      "27968 \t Rating: 3.0 \t Sentiment Score: 1.00 \t Difference Score: 1.69\n",
      "My review of this hotel is very bitter sweet... First of all beautiful place for a beach wedding! Private beach access and hotel has beautiful ocean views. I stayed there as a kid and was very excited to share this experience with my children and had full intentions of returning each year for our anniversary.. However, the management was so... More\n",
      "14170 \t Rating: 3.0 \t Sentiment Score: 1.00 \t Difference Score: 1.69\n",
      "This was my second visit to Webster Manor. For southern home cooking, it's pretty good. I've had the fried chicken both times. My mom loves the chicken but frankly hers is better - she doesn't have a restaurant though. The desert table is better than the main course, I think. Everyone I have meet thinks it's great and that is... More\n",
      "30586 \t Rating: 3.0 \t Sentiment Score: 1.00 \t Difference Score: 1.69\n",
      "Perfect location great food staff is wonderful very kind and will to go the extent mile with in walking distance of shopping beautiful view of the lake from balconies. Beach bar is a nice touch restraint over the water perfect for sunset dinner\n",
      "15408 \t Rating: 3.0 \t Sentiment Score: 1.00 \t Difference Score: 1.69\n",
      "Our family used to be members and it was always one of our favorite places for special occasions because of the breathtaking location, impecible service and wonderful food. This trip was a mixed bag. Our room had a beautiful view and very comfortable amenities. Dinner and breakfast experiences... service was SO slow and staff so inattentive that both meals were... More\n",
      "24233 \t Rating: 3.0 \t Sentiment Score: 1.00 \t Difference Score: 1.69\n",
      "Myself and my wife just returned from a week long trip to Maui. Here is an accurate review. Pros - This resort is beautiful It is practically brand new, has a great location with amazing views. We stayed in a one bedroom studio ocean view and our room was amazing. Great kitchen, spectacular views, and a comfortable bed. Cons -... More\n",
      "22095 \t Rating: 3.0 \t Sentiment Score: 1.00 \t Difference Score: 1.69\n",
      "Stayed at the basswood lodge over the summer and had a blast. The cabin was amazing and check-in and check-out could not have been easier. The cabin far exceeded our expectations and can't wait to take a return trip.\n",
      "194 \t Rating: 3.0 \t Sentiment Score: 1.00 \t Difference Score: 1.69\n",
      "We would really like to give five stars to that place, because the house is really beautiful and well renovated, the garden is wonderful, peaceful, and the vegetation is great, our host was very kind and helpful and gave us a lot of advices about where to eat and what to see, the place is well located and easy to... More\n",
      "6904 \t Rating: 3.0 \t Sentiment Score: 1.00 \t Difference Score: 1.69\n",
      "Pam (waitress) is OUTSTANDING. She knew me by name and knew exactly what I wanted every morning. She provided phenomenal service. Harry and Jim (shuttle drivers) were very nice and offered to show us around town and take us to different places because they knew we were uncomfortable driving in unfamiliar areas. How thoughtful. The maid did leave my door... More\n",
      "16301 \t Rating: 3.0 \t Sentiment Score: 1.00 \t Difference Score: 1.69\n",
      "I stay at the McCamly Plaza a few times a year for business travel and during my last visit, I had the pleasure of meeting Executive Chef Rafael Vallejo. He went the extra mile to address my dietary restrictions, is a terrific and talented chef and very personable. The hotel is fortunate to have him and I look forward to... More\n",
      "24259 \t Rating: 3.0 \t Sentiment Score: 1.00 \t Difference Score: 1.69\n",
      "I stayed at Honua Kai with my family for a week in late December. The rooms are very nice - contemporary, clean and well-maintained... though I would have appreciated a few more Hawaiian touches. The resort grounds and pool area are beautiful (but the beach is too rocky to fully enjoy). Having the fantastic Duke's restaurant on property is another... More\n",
      "33489 \t Rating: 3.0 \t Sentiment Score: 1.00 \t Difference Score: 1.69\n",
      "The front desk staff was so nice and helpful. The rooms are all suites and are spacious, clean and comfortable. The best thing about this hotel is the location. You are working distance to EVERYTHING.Thank you for your review and business. I am thrilled you enjoyed our unbeatable location, friendly staff and spacious suites. Please visit us again soon!\n",
      "17831 \t Rating: 3.0 \t Sentiment Score: 1.00 \t Difference Score: 1.69\n",
      "We booked this hotel as part of a locals special that was going on. First and foremost I must say that every single employee that was encountered were absolutely wonderful. They all are very friendly helpful.We arrived about an hour before check in were able to go to our room. Unfortunately we had a couple of problems. We... More\n"
     ]
    }
   ],
   "source": [
    "for idx, row in worst_performers_three_stars.iterrows():\n",
    "    print(idx, \"\\t\", \n",
    "          \"Rating: {}\".format(row[\"reviews.rating\"]), \"\\t\",\n",
    "          \"Sentiment Score: {:,.2f}\".format(row[\"naive_bayes_sentiment_score\"]), \"\\t\",\n",
    "          \"Difference Score: {:,.2f}\".format(row[\"naive_bayes_score_difference\"])) \n",
    "    print(row[\"reviews.text\"].decode(\"utf-8\"))"
   ]
  },
  {
   "cell_type": "markdown",
   "metadata": {},
   "source": [
    "Here, the biggest problem seen is the fact that the model seems completely incapable of anayzing the sentiment of non-english reviews. This is not entirely unsurprising, given that the vast majority of the training data is in english, but as each word is a feature that the model is trained on, I *am* surprised that the model couldn't at least pick up, for example, the fact that \"bueno\" and \"excelente\" are positive words and assign sentiment scores accordingly. However, given that there are already methods available within this project to effectively (albeit expensively) translate non-English reviews, this is not too major a problem.\n",
    "\n",
    "Other than that, the model seems fairly good at accurately revealing the sentiment of the reviews, although there were a few examples where it was obvious that the model was making errors due to not being able to taking into account the context of words in the review (eg., in review 28871, the reviewer describes the hotel staff as \"not helpful\", but the review is scored very positively)\n"
   ]
  },
  {
   "cell_type": "markdown",
   "metadata": {},
   "source": [
    "### 4.5 Approach 4: LSTM Neural Network Classifier Sentiment Scores"
   ]
  },
  {
   "cell_type": "markdown",
   "metadata": {},
   "source": [
    "#### 4.5.1 Text Preprocessing"
   ]
  },
  {
   "cell_type": "code",
   "execution_count": 850,
   "metadata": {},
   "outputs": [],
   "source": [
    "#Model hyperparameters\n",
    "\n",
    "TK_INDEX_SIZE = 1000\n",
    "EMBEDDING_OUTPUT_SIZE = 32\n",
    "LSTM_OUTPUT_SIZE = 16"
   ]
  },
  {
   "cell_type": "code",
   "execution_count": 851,
   "metadata": {},
   "outputs": [
    {
     "name": "stdout",
     "output_type": "stream",
     "text": [
      "[  0   0   0   0   0   0  89 304  12  43  28   1  14 359 134   2  17 493\n",
      "  85   4 811 548   8 113 336   8  17 469  20  17  41   2  59   2   1 366\n",
      "  29   3  25  25  49   2  25 253  11 343 113 267   5 545]\n"
     ]
    }
   ],
   "source": [
    "texts = [x.decode() for x in df[\"reviews.text\"].values]\n",
    "ratings = [x for x in df[\"reviews.rating\"].values]\n",
    "\n",
    "#one-hot encode the rating values\n",
    "Y = pd.get_dummies(df[\"reviews.rating\"].values)\n",
    "\n",
    "tk = Tokenizer(num_words=TK_INDEX_SIZE,split=\" \")\n",
    "\n",
    "tk.fit_on_texts(texts)\n",
    "X = tk.texts_to_sequences(texts)\n",
    "\n",
    "X = keras.preprocessing.sequence.pad_sequences(X, maxlen=50)\n",
    "\n",
    "print(X[1])"
   ]
  },
  {
   "cell_type": "markdown",
   "metadata": {},
   "source": [
    "#### 4.5.2 Train-Test Split"
   ]
  },
  {
   "cell_type": "code",
   "execution_count": 852,
   "metadata": {},
   "outputs": [
    {
     "name": "stdout",
     "output_type": "stream",
     "text": [
      "25667\n",
      "8556\n",
      "1.0    0\n",
      "2.0    0\n",
      "3.0    0\n",
      "4.0    1\n",
      "5.0    0\n",
      "Name: 0, dtype: uint8\n",
      "(array([0, 1], dtype=uint8), array([102668,  25667], dtype=int64))\n",
      "(array([0, 1], dtype=uint8), array([34224,  8556], dtype=int64))\n"
     ]
    },
    {
     "name": "stdout",
     "output_type": "stream",
     "text": [
      "[5.0, 5.0, 5.0, 5.0, 5.0, 3.0, 5.0, 4.0, 5.0, 5.0, 4.0, 4.0, 5.0, 5.0, 4.0, 3.0, 1.0, 5.0, 5.0, 3.0, 4.0, 4.0, 4.0, 5.0, 5.0, 4.0, 5.0, 4.0, 5.0, 5.0, 5.0, 3.0, 5.0, 5.0, 5.0, 4.0, 5.0, 4.0, 3.0, 5.0, 5.0, 4.0, 2.0, 1.0, 3.0, 5.0, 5.0, 2.0, 2.0, 1.0, 3.0, 5.0, 4.0, 4.0, 2.0, 4.0, 4.0, 4.0, 3.0, 4.0, 5.0, 5.0, 4.0, 3.0, 5.0, 5.0, 4.0, 3.0, 5.0, 1.0, 4.0, 4.0, 3.0, 5.0, 1.0, 3.0, 4.0, 1.0, 5.0, 5.0, 3.0, 5.0, 3.0, 1.0, 4.0, 4.0, 5.0, 1.0, 5.0, 5.0, 1.0, 3.0, 3.0, 4.0, 4.0, 1.0, 4.0, 4.0, 5.0, 5.0, 5.0, 5.0, 5.0, 4.0, 1.0, 4.0, 4.0, 5.0, 4.0, 2.0, 4.0, 4.0, 5.0, 3.0, 5.0, 5.0, 4.0, 2.0, 5.0, 2.0, 3.0, 5.0, 3.0, 4.0, 5.0, 2.0, 5.0, 4.0, 5.0, 4.0, 5.0, 4.0, 4.0, 4.0, 1.0, 5.0, 5.0, 4.0, 1.0, 5.0, 4.0, 5.0, 5.0, 3.0, 2.0, 5.0, 5.0, 1.0, 5.0, 2.0, 5.0, 5.0, 5.0, 1.0, 4.0, 5.0, 5.0, 5.0, 5.0, 4.0, 5.0, 5.0, 1.0, 4.0, 5.0, 4.0, 5.0, 4.0, 4.0, 4.0, 4.0, 4.0, 5.0, 5.0, 4.0, 5.0, 4.0, 2.0, 3.0, 4.0, 5.0, 3.0, 4.0, 5.0, 1.0, 1.0, 5.0, 5.0, 5.0, 5.0, 5.0, 5.0, 4.0, 1.0, 4.0, 4.0, 5.0, 5.0, 5.0, 3.0, 2.0, 1.0, 1.0, 4.0, 1.0, 4.0, 3.0, 3.0, 4.0, 3.0, 2.0, 5.0, 5.0, 4.0, 1.0, 1.0, 5.0, 5.0, 4.0, 5.0, 5.0, 3.0, 5.0, 5.0, 4.0, 3.0, 4.0, 5.0, 4.0, 1.0, 5.0, 4.0, 5.0, 3.0, 5.0, 5.0, 5.0, 4.0, 5.0, 4.0, 4.0, 5.0, 4.0, 3.0, 5.0, 5.0, 3.0, 5.0, 5.0, 4.0, 4.0, 5.0, 4.0, 5.0, 5.0, 3.0, 5.0, 2.0, 5.0, 5.0, 5.0, 5.0, 4.0, 3.0, 5.0, 4.0, 5.0, 5.0, 3.0, 5.0, 5.0, 5.0, 5.0, 4.0, 5.0, 4.0, 5.0, 4.0, 5.0, 3.0, 5.0, 3.0, 5.0, 3.0, 5.0, 5.0, 4.0, 4.0, 3.0, 4.0, 3.0, 3.0, 4.0, 5.0, 4.0, 3.0, 4.0, 5.0, 1.0, 5.0, 1.0, 3.0, 5.0, 1.0, 5.0, 3.0, 5.0, 5.0, 3.0, 5.0, 2.0, 5.0, 5.0, 5.0, 4.0, 3.0, 2.0, 3.0, 5.0, 3.0, 4.0, 5.0, 1.0, 3.0, 5.0, 5.0, 5.0, 3.0, 3.0, 2.0, 5.0, 5.0, 5.0, 3.0, 4.0, 4.0, 5.0, 5.0, 5.0, 5.0, 5.0, 5.0, 5.0, 4.0, 2.0, 4.0, 5.0, 5.0, 4.0, 2.0, 1.0, 4.0, 5.0, 4.0, 1.0, 5.0, 5.0, 5.0, 5.0, 3.0, 3.0, 4.0, 5.0, 5.0, 5.0, 4.0, 3.0, 3.0, 5.0, 2.0, 2.0, 5.0, 5.0, 3.0, 3.0, 4.0, 1.0, 3.0, 1.0, 5.0, 5.0, 5.0, 5.0, 4.0, 5.0, 5.0, 5.0, 4.0, 5.0, 1.0, 5.0, 4.0, 4.0, 3.0, 5.0, 5.0, 2.0, 4.0, 5.0, 5.0, 4.0, 5.0, 3.0, 2.0, 4.0, 5.0, 5.0, 5.0, 2.0, 2.0, 2.0, 4.0, 5.0, 5.0, 4.0, 3.0, 4.0, 5.0, 5.0, 5.0, 4.0, 5.0, 5.0, 2.0, 1.0, 3.0, 5.0, 5.0, 4.0, 2.0, 3.0, 2.0, 4.0, 5.0, 4.0, 5.0, 4.0, 4.0, 1.0, 5.0, 5.0, 4.0, 4.0, 5.0, 5.0, 1.0, 5.0, 2.0, 2.0, 5.0, 5.0, 5.0, 1.0, 5.0, 5.0, 5.0, 5.0, 4.0, 4.0, 5.0, 5.0, 5.0, 5.0, 2.0, 5.0, 4.0, 3.0, 5.0, 2.0, 1.0, 2.0, 5.0, 4.0, 5.0, 2.0, 5.0, 4.0, 4.0, 3.0, 5.0, 5.0, 1.0, 5.0, 3.0, 5.0, 1.0, 5.0, 5.0, 5.0, 5.0, 4.0, 5.0, 4.0, 5.0, 5.0, 5.0, 5.0, 5.0, 2.0, 3.0, 2.0, 5.0, 4.0, 4.0, 5.0, 5.0, 3.0, 5.0, 4.0, 4.0, 4.0, 4.0, 4.0, 5.0, 4.0, 4.0, 3.0, 5.0, 5.0, 2.0, 1.0, 3.0, 3.0, 5.0, 2.0, 4.0, 2.0, 3.0, 5.0, 5.0, 2.0, 4.0, 1.0, 4.0, 4.0, 1.0, 4.0, 5.0, 5.0, 4.0, 4.0, 3.0, 4.0, 3.0, 5.0, 2.0, 5.0, 4.0, 3.0, 4.0, 5.0, 3.0, 3.0, 5.0, 5.0, 4.0, 5.0, 4.0, 5.0, 4.0, 4.0, 2.0, 5.0, 5.0, 1.0, 4.0, 5.0, 5.0, 5.0, 4.0, 4.0, 4.0, 1.0, 4.0, 3.0, 5.0, 5.0, 5.0, 3.0, 3.0, 5.0, 5.0, 2.0, 4.0, 4.0, 5.0, 2.0, 5.0, 5.0, 3.0, 4.0, 4.0, 4.0, 3.0, 3.0, 5.0, 5.0, 5.0, 3.0, 5.0, 5.0, 1.0, 5.0, 4.0, 5.0, 5.0, 3.0, 5.0, 1.0, 4.0, 4.0, 5.0, 2.0, 5.0, 2.0, 1.0, 3.0, 5.0, 1.0, 3.0, 1.0, 3.0, 3.0, 5.0, 5.0, 3.0, 2.0, 3.0, 5.0, 4.0, 5.0, 5.0, 1.0, 2.0, 4.0, 4.0, 3.0, 2.0, 3.0, 5.0, 4.0, 5.0, 5.0, 5.0, 4.0, 1.0, 2.0, 5.0, 5.0, 4.0, 5.0, 4.0, 4.0, 5.0, 5.0, 5.0, 4.0, 5.0, 3.0, 5.0, 2.0, 4.0, 4.0, 4.0, 5.0, 3.0, 4.0, 3.0, 4.0, 4.0, 5.0, 2.0, 1.0, 1.0, 2.0, 4.0, 2.0, 5.0, 4.0, 3.0, 4.0, 1.0, 1.0, 4.0, 3.0, 1.0, 2.0, 4.0, 3.0, 4.0, 4.0, 4.0, 4.0, 1.0, 5.0, 4.0, 2.0, 4.0, 4.0, 5.0, 4.0, 5.0, 5.0, 5.0, 4.0, 5.0, 5.0, 4.0, 4.0, 5.0, 5.0, 1.0, 5.0, 3.0, 3.0, 1.0, 5.0, 5.0, 3.0, 5.0, 5.0, 5.0, 5.0, 4.0, 5.0, 4.0, 5.0, 5.0, 2.0, 5.0, 5.0, 3.0, 4.0, 5.0, 3.0, 4.0, 4.0, 5.0, 5.0, 4.0, 3.0, 3.0, 2.0, 5.0, 4.0, 4.0, 5.0, 5.0, 5.0, 4.0, 4.0, 3.0, 5.0, 5.0, 3.0, 4.0, 3.0, 4.0, 2.0, 4.0, 5.0, 4.0, 3.0, 4.0, 5.0, 3.0, 4.0, 3.0, 3.0, 3.0, 4.0, 4.0, 2.0, 1.0, 5.0, 5.0, 1.0, 5.0, 5.0, 4.0, 5.0, 4.0, 4.0, 3.0, 5.0, 4.0, 4.0, 5.0, 4.0, 4.0, 5.0, 2.0, 5.0, 5.0, 1.0, 5.0, 5.0, 5.0, 5.0, 2.0, 5.0, 4.0, 2.0, 5.0, 4.0, 5.0, 5.0, 1.0, 2.0, 4.0, 3.0, 3.0, 5.0, 5.0, 1.0, 5.0, 5.0, 4.0, 3.0, 4.0, 2.0, 2.0, 5.0, 5.0, 2.0, 5.0, 3.0, 4.0, 4.0, 4.0, 5.0, 5.0, 3.0, 4.0, 5.0, 2.0, 5.0, 5.0, 4.0, 3.0, 2.0, 4.0, 5.0, 5.0, 5.0, 4.0, 5.0, 4.0, 4.0, 4.0, 5.0, 4.0, 3.0, 4.0, 4.0, 5.0, 3.0, 3.0, 3.0, 4.0, 3.0, 5.0, 1.0, 4.0, 2.0, 5.0, 3.0, 4.0, 4.0, 5.0, 4.0, 4.0, 4.0, 2.0, 4.0, 3.0, 5.0, 5.0, 4.0, 4.0, 5.0, 4.0, 5.0, 5.0, 4.0, 5.0, 4.0, 5.0, 3.0, 4.0, 3.0, 4.0, 3.0, 2.0, 4.0, 4.0, 4.0, 3.0, 4.0, 4.0, 5.0, 4.0, 1.0, 5.0, 1.0, 5.0, 5.0, 5.0, 3.0, 4.0, 2.0, 1.0, 5.0, 2.0, 5.0, 4.0, 5.0, 5.0, 5.0, 5.0, 5.0, 3.0, 4.0, 3.0, 5.0, 4.0, 5.0, 5.0, 5.0, 1.0, 4.0, 4.0, 1.0, 3.0, 5.0, 2.0, 4.0, 5.0, 2.0, 1.0, 1.0, 5.0, 4.0, 5.0, 2.0, 5.0, 1.0, 5.0, 4.0, 1.0, 2.0, 5.0, 3.0, 5.0, 4.0, 5.0, 3.0, 5.0, 3.0, 3.0, 3.0, 2.0, 5.0, 4.0, 4.0, 3.0, 5.0, 1.0, 1.0, 5.0, 5.0, 4.0, 5.0, 5.0, 2.0, 5.0, 1.0, 4.0, 5.0, 5.0, 5.0, 5.0, 5.0, 5.0, 5.0, 4.0, 4.0, 5.0, 1.0, 5.0, 2.0, 4.0, 4.0, 4.0, 4.0, 4.0, 1.0, 5.0, 4.0, 5.0, 4.0, 4.0, 1.0, 5.0, 5.0, 5.0, 4.0, 1.0, 4.0, 5.0, 4.0, 5.0, 4.0, 5.0, 5.0, 5.0, 5.0, 5.0, 5.0, 5.0, 4.0, 4.0, 5.0, 5.0, 3.0, 4.0, 5.0, 5.0, 4.0, 1.0, 2.0, 4.0, 5.0, 4.0, 2.0, 5.0, 5.0, 4.0, 5.0, 5.0, 4.0, 3.0, 1.0, 5.0, 5.0, 5.0, 4.0, 3.0, 5.0, 5.0, 4.0, 4.0, 1.0, 4.0, 5.0, 4.0, 5.0, 5.0, 5.0, 5.0, 3.0, 4.0, 4.0, 3.0, 3.0, 5.0, 5.0, 5.0, 3.0, 5.0, 4.0, 5.0, 1.0, 4.0, 5.0, 5.0, 3.0, 2.0, 5.0, 3.0, 4.0, 2.0, 5.0, 5.0, 2.0, 4.0, 4.0, 5.0, 5.0, 4.0, 4.0, 1.0, 5.0, 4.0, 5.0, 5.0, 5.0, 4.0, 4.0, 5.0, 4.0, 5.0, 5.0, 1.0, 5.0, 5.0, 3.0, 5.0, 4.0, 5.0, 5.0, 2.0, 5.0, 3.0, 5.0, 3.0, 4.0, 4.0, 3.0, 3.0, 5.0, 5.0, 5.0, 5.0, 3.0, 4.0, 4.0, 5.0, 4.0, 5.0, 5.0, 4.0, 4.0, 4.0, 5.0, 2.0, 1.0, 4.0, 5.0, 5.0, 5.0, 3.0, 3.0, 5.0, 5.0, 5.0, 4.0, 4.0, 5.0, 5.0, 4.0, 3.0, 3.0, 4.0, 4.0, 4.0, 2.0, 3.0, 3.0, 3.0, 1.0, 4.0, 4.0, 1.0, 4.0, 4.0, 4.0, 5.0, 4.0, 5.0, 3.0, 5.0, 4.0, 3.0, 4.0, 4.0, 5.0, 4.0, 2.0, 5.0, 5.0, 4.0, 5.0, 4.0, 2.0, 3.0, 4.0, 2.0, 4.0, 5.0, 2.0, 1.0, 1.0, 5.0, 1.0, 5.0, 2.0, 1.0, 5.0, 5.0, 5.0, 5.0, 5.0, 4.0, 5.0, 1.0, 5.0, 3.0, 5.0, 5.0, 2.0, 5.0, 5.0, 5.0, 2.0, 4.0, 5.0, 4.0, 4.0, 5.0, 5.0, 1.0, 5.0, 4.0, 5.0, 1.0, 5.0, 2.0, 4.0, 5.0, 5.0, 5.0, 3.0, 4.0, 5.0, 4.0, 5.0, 5.0, 3.0, 2.0, 3.0, 5.0, 5.0, 4.0, 5.0, 5.0, 5.0, 5.0, 5.0, 3.0, 3.0, 1.0, 5.0, 5.0, 5.0, 4.0, 5.0, 3.0, 1.0, 1.0, 1.0, 5.0, 5.0, 3.0, 2.0, 3.0, 5.0, 4.0, 5.0, 3.0, 3.0, 1.0, 3.0, 5.0, 4.0, 3.0, 4.0, 2.0, 4.0, 2.0, 5.0, 2.0, 4.0, 5.0, 3.0, 4.0, 5.0, 4.0, 3.0, 5.0, 5.0, 5.0, 4.0, 5.0, 5.0, 4.0, 5.0, 4.0, 1.0, 2.0, 5.0, 4.0, 4.0, 5.0, 5.0, 4.0, 1.0, 5.0, 4.0, 2.0, 5.0, 5.0, 4.0, 5.0, 5.0, 5.0, 5.0, 3.0, 4.0, 4.0, 4.0, 1.0, 5.0, 3.0, 5.0, 5.0, 5.0, 4.0, 5.0, 5.0, 4.0, 5.0, 3.0, 4.0, 5.0, 5.0, 5.0, 1.0, 4.0, 4.0, 4.0, 4.0, 5.0, 4.0, 1.0, 4.0, 4.0, 4.0, 5.0, 4.0, 3.0, 1.0, 5.0, 4.0, 4.0, 5.0, 5.0, 4.0, 4.0, 3.0, 5.0, 5.0, 3.0, 5.0, 3.0, 4.0, 3.0, 2.0, 4.0, 5.0, 4.0, 5.0, 3.0, 5.0, 4.0, 5.0, 5.0, 4.0, 5.0, 3.0, 4.0, 5.0, 2.0, 3.0, 4.0, 4.0, 3.0, 4.0, 3.0, 4.0, 5.0, 5.0, 4.0, 2.0, 5.0, 5.0, 4.0, 2.0, 5.0, 5.0, 5.0, 5.0, 3.0, 1.0, 4.0, 2.0, 4.0, 5.0, 4.0, 4.0, 4.0, 4.0, 5.0, 4.0, 5.0, 5.0, 5.0, 4.0, 5.0, 5.0, 5.0, 4.0, 5.0, 5.0, 5.0, 2.0, 4.0, 5.0, 5.0, 4.0, 5.0, 5.0, 3.0, 2.0, 5.0, 4.0, 5.0, 3.0, 4.0, 5.0, 3.0, 5.0, 3.0, 5.0, 2.0, 4.0, 5.0, 4.0, 4.0, 4.0, 5.0, 4.0, 1.0, 2.0, 4.0, 4.0, 4.0, 2.0, 5.0, 5.0, 5.0, 5.0, 1.0, 4.0, 5.0, 4.0, 5.0, 3.0, 4.0, 4.0, 1.0, 3.0, 5.0, 5.0, 4.0, 5.0, 3.0, 5.0, 4.0, 5.0, 5.0, 5.0, 1.0, 5.0, 5.0, 3.0, 2.0, 5.0, 5.0, 5.0, 5.0, 5.0, 2.0, 4.0, 5.0, 5.0, 5.0, 4.0, 4.0, 3.0, 5.0, 5.0, 5.0, 1.0, 5.0, 4.0, 5.0, 2.0, 5.0, 4.0, 4.0, 1.0, 5.0, 4.0, 5.0, 5.0, 4.0, 4.0, 1.0, 3.0, 1.0, 5.0, 4.0, 2.0, 1.0, 5.0, 5.0, 5.0, 4.0, 1.0, 5.0, 5.0, 3.0, 3.0, 3.0, 5.0, 5.0, 4.0, 5.0, 5.0, 5.0, 4.0, 4.0, 4.0, 4.0, 2.0, 2.0, 5.0, 5.0, 5.0, 5.0, 2.0, 5.0, 5.0, 5.0, 5.0, 4.0, 4.0, 4.0, 3.0, 4.0, 3.0, 5.0, 4.0, 3.0, 4.0, 1.0, 5.0, 3.0, 5.0, 5.0, 5.0, 5.0, 1.0, 5.0, 5.0, 5.0, 3.0, 5.0, 2.0, 3.0, 5.0, 5.0, 3.0, 5.0, 1.0, 1.0, 1.0, 5.0, 5.0, 3.0, 4.0, 4.0, 5.0, 4.0, 5.0, 5.0, 4.0, 1.0, 4.0, 4.0, 4.0, 5.0, 5.0, 5.0, 4.0, 1.0, 3.0, 4.0, 2.0, 5.0, 5.0, 3.0, 5.0, 5.0, 4.0, 1.0, 3.0, 3.0, 1.0, 3.0, 5.0, 5.0, 3.0, 4.0, 4.0, 4.0, 1.0, 4.0, 4.0, 4.0, 5.0, 5.0, 5.0, 3.0, 5.0, 5.0, 5.0, 4.0, 4.0, 5.0, 5.0, 5.0, 4.0, 5.0, 3.0, 5.0, 5.0, 2.0, 4.0, 5.0, 5.0, 3.0, 1.0, 1.0, 5.0, 2.0, 5.0, 3.0, 1.0, 3.0, 4.0, 1.0, 4.0, 5.0, 3.0, 4.0, 3.0, 3.0, 5.0, 4.0, 1.0, 5.0, 4.0, 5.0, 5.0, 1.0, 2.0, 5.0, 5.0, 4.0, 2.0, 5.0, 5.0, 5.0, 2.0, 5.0, 4.0, 4.0, 5.0, 5.0, 5.0, 3.0, 3.0, 3.0, 5.0, 5.0, 3.0, 5.0, 5.0, 3.0, 3.0, 3.0, 4.0, 4.0, 5.0, 5.0, 1.0, 4.0, 1.0, 4.0, 5.0, 5.0, 4.0, 1.0, 4.0, 4.0, 4.0, 3.0, 4.0, 2.0, 5.0, 4.0, 4.0, 2.0, 5.0, 2.0, 5.0, 5.0, 3.0, 5.0, 4.0, 3.0, 4.0, 5.0, 3.0, 5.0, 5.0, 4.0, 4.0, 4.0, 5.0, 2.0, 1.0, 5.0, 4.0, 4.0, 5.0, 5.0, 1.0, 4.0, 5.0, 4.0, 5.0, 2.0, 4.0, 4.0, 2.0, 5.0, 5.0, 4.0, 5.0, 4.0, 4.0, 5.0, 1.0, 2.0, 4.0, 4.0, 1.0, 5.0, 1.0, 5.0, 5.0, 5.0, 3.0, 4.0, 5.0, 4.0, 5.0, 5.0, 3.0, 5.0, 5.0, 5.0, 1.0, 4.0, 4.0, 3.0, 5.0, 4.0, 5.0, 5.0, 3.0, 4.0, 5.0, 4.0, 1.0, 5.0, 1.0, 5.0, 1.0, 5.0, 5.0, 4.0, 4.0, 3.0, 4.0, 1.0, 3.0, 5.0, 5.0, 4.0, 5.0, 5.0, 5.0, 5.0, 1.0, 5.0, 1.0, 4.0, 4.0, 5.0, 3.0, 5.0, 2.0, 4.0, 5.0, 5.0, 1.0, 4.0, 5.0, 4.0, 4.0, 5.0, 5.0, 4.0, 4.0, 4.0, 5.0, 1.0, 4.0, 5.0, 5.0, 4.0, 4.0, 4.0, 1.0, 2.0, 4.0, 3.0, 4.0, 1.0, 5.0, 5.0, 5.0, 5.0, 4.0, 5.0, 5.0, 3.0, 4.0, 5.0, 5.0, 5.0, 3.0, 3.0, 5.0, 1.0, 4.0, 5.0, 3.0, 3.0, 3.0, 5.0, 4.0, 2.0, 5.0, 5.0, 5.0, 5.0, 3.0, 4.0, 3.0, 5.0, 5.0, 4.0, 5.0, 5.0, 5.0, 4.0, 4.0, 4.0, 4.0, 5.0, 4.0, 4.0, 4.0, 4.0, 2.0, 2.0, 5.0, 3.0, 3.0, 2.0, 5.0, 5.0, 5.0, 4.0, 4.0, 5.0, 5.0, 5.0, 3.0, 5.0, 3.0, 3.0, 5.0, 4.0, 2.0, 4.0, 3.0, 1.0, 5.0, 3.0, 5.0, 3.0, 5.0, 3.0, 3.0, 5.0, 4.0, 3.0, 1.0, 2.0, 5.0, 5.0, 4.0, 5.0, 1.0, 3.0, 5.0, 4.0, 5.0, 2.0, 2.0, 5.0, 5.0, 5.0, 3.0, 2.0, 5.0, 4.0, 3.0, 5.0, 3.0, 5.0, 3.0, 5.0, 4.0, 5.0, 5.0, 5.0, 5.0, 5.0, 1.0, 4.0, 4.0, 4.0, 5.0, 5.0, 4.0, 3.0, 5.0, 5.0, 1.0, 4.0, 3.0, 2.0, 5.0, 5.0, 4.0, 4.0, 5.0, 5.0, 5.0, 5.0, 4.0, 5.0, 3.0, 4.0, 5.0, 1.0, 5.0, 4.0, 3.0, 4.0, 1.0, 4.0, 3.0, 3.0, 5.0, 4.0, 4.0, 5.0, 3.0, 2.0, 5.0, 5.0, 5.0, 5.0, 2.0, 4.0, 5.0, 4.0, 5.0, 5.0, 5.0, 4.0, 2.0, 4.0, 5.0, 1.0, 4.0, 5.0, 3.0, 5.0, 5.0, 4.0, 4.0, 4.0, 4.0, 4.0, 5.0, 4.0, 2.0, 5.0, 1.0, 4.0, 2.0, 5.0, 5.0, 5.0, 5.0, 5.0, 5.0, 5.0, 5.0, 4.0, 4.0, 5.0, 5.0, 5.0, 5.0, 4.0, 4.0, 2.0, 5.0, 4.0, 2.0, 4.0, 5.0, 3.0, 4.0, 4.0, 5.0, 3.0, 5.0, 2.0, 5.0, 5.0, 5.0, 4.0, 5.0, 5.0, 5.0, 5.0, 1.0, 4.0, 3.0, 1.0, 4.0, 3.0, 5.0, 4.0, 5.0, 5.0, 4.0, 5.0, 2.0, 5.0, 4.0, 5.0, 4.0, 3.0, 5.0, 4.0, 5.0, 5.0, 2.0, 5.0, 5.0, 5.0, 3.0, 3.0, 2.0, 5.0, 5.0, 5.0, 5.0, 5.0, 5.0, 5.0, 1.0, 4.0, 5.0, 5.0, 5.0, 4.0, 4.0, 5.0, 5.0, 5.0, 3.0, 4.0, 5.0, 4.0, 5.0, 4.0, 5.0, 5.0, 5.0, 4.0, 5.0, 4.0, 2.0, 5.0, 4.0, 4.0, 1.0, 5.0, 1.0, 3.0, 5.0, 5.0, 3.0, 4.0, 1.0, 5.0, 5.0, 3.0, 1.0, 5.0, 5.0, 5.0, 3.0, 5.0, 4.0, 4.0, 5.0, 4.0, 1.0, 5.0, 5.0, 5.0, 4.0, 2.0, 1.0, 3.0, 4.0, 2.0, 5.0, 4.0, 3.0, 5.0, 2.0, 4.0, 1.0, 2.0, 4.0, 5.0, 4.0, 5.0, 5.0, 5.0, 5.0, 5.0, 2.0, 4.0, 4.0, 5.0, 4.0, 5.0, 3.0, 4.0, 5.0, 4.0, 4.0, 5.0, 5.0, 3.0, 3.0, 3.0, 1.0, 5.0, 5.0, 5.0, 5.0, 4.0, 2.0, 4.0, 1.0, 4.0, 4.0, 5.0, 4.0, 5.0, 5.0, 4.0, 5.0, 3.0, 5.0, 4.0, 5.0, 3.0, 4.0, 4.0, 3.0, 5.0, 4.0, 4.0, 5.0, 4.0, 5.0, 4.0, 5.0, 5.0, 5.0, 5.0, 3.0, 4.0, 5.0, 2.0, 2.0, 5.0, 5.0, 5.0, 5.0, 2.0, 5.0, 5.0, 5.0, 2.0, 3.0, 4.0, 5.0, 4.0, 5.0, 5.0, 2.0, 3.0, 4.0, 2.0, 4.0, 1.0, 4.0, 4.0, 5.0, 5.0, 5.0, 3.0, 4.0, 4.0, 5.0, 3.0, 3.0, 5.0, 5.0, 5.0, 4.0, 4.0, 5.0, 2.0, 2.0, 3.0, 5.0, 4.0, 5.0, 4.0, 5.0, 2.0, 4.0, 5.0, 3.0, 4.0, 3.0, 5.0, 5.0, 5.0, 5.0, 5.0, 4.0, 5.0, 5.0, 2.0, 4.0, 5.0, 3.0, 5.0, 5.0, 5.0, 1.0, 5.0, 4.0, 4.0, 3.0, 5.0, 3.0, 5.0, 4.0, 4.0, 5.0, 4.0, 4.0, 4.0, 5.0, 3.0, 5.0, 4.0, 5.0, 4.0, 2.0, 5.0, 5.0, 5.0, 4.0, 5.0, 4.0, 2.0, 3.0, 5.0, 4.0, 4.0, 5.0, 2.0, 5.0, 4.0, 3.0, 3.0, 5.0, 5.0, 3.0, 4.0, 5.0, 2.0, 4.0, 4.0, 4.0, 4.0, 5.0, 4.0, 4.0, 4.0, 3.0, 4.0, 4.0, 5.0, 2.0, 1.0, 1.0, 4.0, 4.0, 5.0, 4.0, 4.0, 5.0, 5.0, 5.0, 5.0, 4.0, 5.0, 5.0, 4.0, 5.0, 3.0, 1.0, 4.0, 4.0, 5.0, 5.0, 5.0, 5.0, 5.0, 5.0, 4.0, 5.0, 3.0, 2.0, 5.0, 3.0, 5.0, 5.0, 5.0, 2.0, 5.0, 4.0, 4.0, 4.0, 4.0, 4.0, 5.0, 4.0, 5.0, 5.0, 2.0, 5.0, 3.0, 4.0, 5.0, 5.0, 4.0, 4.0, 2.0, 1.0, 5.0, 3.0, 5.0, 4.0, 5.0, 5.0, 5.0, 4.0, 3.0, 2.0, 5.0, 5.0, 5.0, 3.0, 3.0, 5.0, 4.0, 4.0, 5.0, 1.0, 4.0, 3.0, 3.0, 3.0, 4.0, 4.0, 2.0, 5.0, 4.0, 4.0, 5.0, 5.0, 5.0, 5.0, 5.0, 5.0, 5.0, 3.0, 3.0, 3.0, 2.0, 3.0, 4.0, 4.0, 5.0, 5.0, 4.0, 5.0, 5.0, 2.0, 1.0, 5.0, 5.0, 5.0, 5.0, 1.0, 4.0, 4.0, 5.0, 5.0, 3.0, 4.0, 4.0, 1.0, 5.0, 3.0, 5.0, 5.0, 5.0, 3.0, 5.0, 5.0, 5.0, 5.0, 5.0, 4.0, 1.0, 3.0, 1.0, 3.0, 5.0, 3.0, 5.0, 5.0, 5.0, 5.0, 4.0, 4.0, 5.0, 5.0, 5.0, 4.0, 4.0, 5.0, 5.0, 4.0, 4.0, 5.0, 4.0, 1.0, 4.0, 5.0, 4.0, 5.0, 4.0, 4.0, 5.0, 3.0, 5.0, 4.0, 1.0, 4.0, 5.0, 5.0, 1.0, 4.0, 5.0, 2.0, 5.0, 4.0, 5.0, 5.0, 4.0, 3.0, 5.0, 3.0, 4.0, 4.0, 5.0, 4.0, 5.0, 3.0, 3.0, 4.0, 5.0, 5.0, 2.0, 5.0, 5.0, 5.0, 5.0, 5.0, 4.0, 3.0, 3.0, 2.0, 3.0, 4.0, 4.0, 4.0, 3.0, 3.0, 1.0, 5.0, 5.0, 3.0, 1.0, 1.0, 5.0, 2.0, 3.0, 5.0, 5.0, 3.0, 5.0, 3.0, 4.0, 4.0, 4.0, 1.0, 2.0, 4.0, 5.0, 1.0, 5.0, 5.0, 5.0, 5.0, 5.0, 5.0, 4.0, 4.0, 4.0, 2.0, 5.0, 2.0, 5.0, 5.0, 3.0, 5.0, 5.0, 5.0, 5.0, 5.0, 4.0, 4.0, 2.0, 1.0, 1.0, 2.0, 5.0, 4.0, 4.0, 1.0, 4.0, 5.0, 4.0, 1.0, 4.0, 5.0, 3.0, 1.0, 4.0, 5.0, 5.0, 4.0, 3.0, 5.0, 2.0, 4.0, 1.0, 4.0, 4.0, 5.0, 5.0, 5.0, 5.0, 5.0, 5.0, 5.0, 3.0, 4.0, 2.0, 1.0, 2.0, 3.0, 5.0, 5.0, 2.0, 5.0, 5.0, 5.0, 3.0, 5.0, 5.0, 5.0, 5.0, 5.0, 1.0, 3.0, 4.0, 5.0, 1.0, 5.0, 5.0, 5.0, 5.0, 5.0, 5.0, 3.0, 1.0, 4.0, 3.0, 1.0, 4.0, 5.0, 5.0, 4.0, 3.0, 5.0, 5.0, 5.0, 1.0, 5.0, 1.0, 4.0, 3.0, 3.0, 5.0, 2.0, 5.0, 3.0, 2.0, 5.0, 1.0, 4.0, 5.0, 2.0, 3.0, 5.0, 3.0, 2.0, 5.0, 3.0, 5.0, 5.0, 5.0, 5.0, 5.0, 5.0, 5.0, 1.0, 4.0, 1.0, 5.0, 4.0, 3.0, 5.0, 5.0, 5.0, 3.0, 3.0, 4.0, 4.0, 5.0, 5.0, 2.0, 4.0, 3.0, 5.0, 4.0, 4.0, 5.0, 4.0, 5.0, 5.0, 3.0, 5.0, 5.0, 3.0, 5.0, 2.0, 4.0, 5.0, 5.0, 5.0, 5.0, 1.0, 1.0, 5.0, 5.0, 4.0, 3.0, 4.0, 3.0, 4.0, 3.0, 5.0, 5.0, 5.0, 3.0, 5.0, 4.0, 2.0, 4.0, 3.0, 4.0, 3.0, 5.0, 5.0, 5.0, 4.0, 5.0, 5.0, 5.0, 5.0, 5.0, 4.0, 4.0, 4.0, 3.0, 3.0, 5.0, 5.0, 5.0, 2.0, 1.0, 5.0, 3.0, 2.0, 3.0, 4.0, 5.0, 4.0, 4.0, 5.0, 3.0, 4.0, 5.0, 5.0, 5.0, 3.0, 1.0, 5.0, 5.0, 3.0, 4.0, 4.0, 4.0, 5.0, 4.0, 1.0, 5.0, 1.0, 2.0, 5.0, 4.0, 4.0, 2.0, 5.0, 5.0, 5.0, 4.0, 5.0, 4.0, 4.0, 5.0, 3.0, 4.0, 5.0, 5.0, 2.0, 5.0, 5.0, 2.0, 5.0, 2.0, 5.0, 1.0, 3.0, 5.0, 2.0, 4.0, 4.0, 4.0, 2.0, 2.0, 2.0, 3.0, 4.0, 5.0, 1.0, 4.0, 5.0, 5.0, 5.0, 5.0, 3.0, 4.0, 5.0, 5.0, 5.0, 4.0, 5.0, 2.0, 3.0, 3.0, 2.0, 5.0, 2.0, 2.0, 3.0, 5.0, 3.0, 3.0, 3.0, 4.0, 3.0, 5.0, 1.0, 4.0, 1.0, 3.0, 5.0, 5.0, 4.0, 4.0, 2.0, 4.0, 4.0, 2.0, 5.0, 5.0, 2.0, 4.0, 3.0, 2.0, 5.0, 4.0, 1.0, 4.0, 4.0, 3.0, 4.0, 3.0, 4.0, 4.0, 4.0, 3.0, 5.0, 4.0, 3.0, 1.0, 4.0, 1.0, 5.0, 3.0, 5.0, 4.0, 4.0, 4.0, 5.0, 5.0, 5.0, 3.0, 3.0, 4.0, 5.0, 4.0, 5.0, 4.0, 5.0, 1.0, 4.0, 5.0, 5.0, 4.0, 3.0, 5.0, 5.0, 3.0, 4.0, 5.0, 4.0, 5.0, 5.0, 4.0, 1.0, 3.0, 5.0, 4.0, 1.0, 4.0, 5.0, 1.0, 4.0, 5.0, 4.0, 5.0, 4.0, 4.0, 4.0, 3.0, 5.0, 5.0, 4.0, 5.0, 4.0, 5.0, 4.0, 2.0, 3.0, 4.0, 4.0, 3.0, 3.0, 4.0, 5.0, 4.0, 5.0, 5.0, 3.0, 1.0, 5.0, 5.0, 5.0, 4.0, 4.0, 5.0, 3.0, 2.0, 5.0, 5.0, 5.0, 1.0, 4.0, 4.0, 4.0, 5.0, 4.0, 4.0, 4.0, 2.0, 4.0, 5.0, 5.0, 1.0, 5.0, 5.0, 1.0, 5.0, 5.0, 5.0, 5.0, 3.0, 4.0, 1.0, 1.0, 4.0, 3.0, 3.0, 5.0, 3.0, 5.0, 1.0, 5.0, 4.0, 4.0, 4.0, 4.0, 4.0, 5.0, 5.0, 5.0, 4.0, 5.0, 5.0, 3.0, 5.0, 3.0, 4.0, 5.0, 4.0, 4.0, 4.0, 5.0, 3.0, 5.0, 4.0, 5.0, 4.0, 5.0, 5.0, 3.0, 5.0, 1.0, 1.0, 5.0, 2.0, 4.0, 4.0, 5.0, 5.0, 4.0, 4.0, 3.0, 4.0, 4.0, 5.0, 5.0, 5.0, 4.0, 5.0, 4.0, 5.0, 4.0, 3.0, 5.0, 3.0, 4.0, 3.0, 5.0, 5.0, 3.0, 5.0, 2.0, 4.0, 4.0, 5.0, 4.0, 5.0, 4.0, 5.0, 4.0, 5.0, 4.0, 5.0, 5.0, 2.0, 5.0, 4.0, 5.0, 3.0, 5.0, 5.0, 2.0, 1.0, 4.0, 1.0, 5.0, 1.0, 3.0, 5.0, 5.0, 3.0, 4.0, 5.0, 5.0, 3.0, 4.0, 4.0, 4.0, 3.0, 1.0, 5.0, 5.0, 5.0, 4.0, 4.0, 5.0, 4.0, 5.0, 3.0, 5.0, 4.0, 4.0, 5.0, 4.0, 1.0, 5.0, 2.0, 1.0, 5.0, 5.0, 5.0, 3.0, 3.0, 3.0, 5.0, 5.0, 2.0, 5.0, 5.0, 5.0, 5.0, 3.0, 4.0, 5.0, 4.0, 3.0, 4.0, 2.0, 3.0, 4.0, 4.0, 5.0, 4.0, 5.0, 2.0, 5.0, 3.0, 1.0, 4.0, 3.0, 1.0, 4.0, 4.0, 5.0, 4.0, 1.0, 3.0, 2.0, 4.0, 5.0, 3.0, 5.0, 5.0, 5.0, 5.0, 4.0, 5.0, 5.0, 5.0, 1.0, 5.0, 1.0, 2.0, 4.0, 3.0, 5.0, 2.0, 4.0, 1.0, 3.0, 4.0, 3.0, 3.0, 2.0, 5.0, 5.0, 5.0, 1.0, 5.0, 5.0, 5.0, 5.0, 3.0, 5.0, 4.0, 5.0, 5.0, 3.0, 5.0, 5.0, 4.0, 5.0, 5.0, 2.0, 4.0, 5.0, 5.0, 3.0, 5.0, 4.0, 1.0, 4.0, 5.0, 5.0, 4.0, 3.0, 5.0, 5.0, 1.0, 5.0, 5.0, 2.0, 3.0, 1.0, 5.0, 4.0, 5.0, 2.0, 4.0, 3.0, 5.0, 5.0, 5.0, 5.0, 5.0, 5.0, 5.0, 4.0, 1.0, 4.0, 4.0, 4.0, 3.0, 5.0, 4.0, 4.0, 5.0, 4.0, 4.0, 5.0, 1.0, 1.0, 4.0, 5.0, 2.0, 5.0, 3.0, 4.0, 4.0, 4.0, 5.0, 4.0, 3.0, 3.0, 2.0, 2.0, 4.0, 3.0, 5.0, 4.0, 5.0, 1.0, 5.0, 5.0, 4.0, 2.0, 1.0, 2.0, 5.0, 5.0, 5.0, 3.0, 1.0, 2.0, 5.0, 5.0, 1.0, 5.0, 5.0, 5.0, 3.0, 5.0, 2.0, 5.0, 5.0, 4.0, 3.0, 4.0, 5.0, 3.0, 4.0, 3.0, 5.0, 4.0, 4.0, 3.0, 5.0, 5.0, 5.0, 1.0, 4.0, 5.0, 5.0, 4.0, 4.0, 1.0, 5.0, 5.0, 5.0, 1.0, 2.0, 4.0, 4.0, 3.0, 4.0, 5.0, 4.0, 5.0, 3.0, 1.0, 4.0, 5.0, 3.0, 5.0, 4.0, 5.0, 5.0, 5.0, 5.0, 4.0, 5.0, 5.0, 4.0, 4.0, 1.0, 5.0, 2.0, 5.0, 4.0, 5.0, 2.0, 5.0, 4.0, 4.0, 5.0, 5.0, 5.0, 4.0, 5.0, 5.0, 4.0, 5.0, 5.0, 4.0, 4.0, 5.0, 4.0, 5.0, 1.0, 1.0, 3.0, 4.0, 2.0, 5.0, 5.0, 1.0, 2.0, 5.0, 3.0, 2.0, 4.0, 3.0, 3.0, 4.0, 4.0, 4.0, 4.0, 5.0, 5.0, 4.0, 2.0, 1.0, 4.0, 4.0, 5.0, 4.0, 5.0, 5.0, 2.0, 1.0, 3.0, 4.0, 3.0, 5.0, 3.0, 3.0, 1.0, 4.0, 1.0, 2.0, 4.0, 3.0, 1.0, 4.0, 5.0, 5.0, 2.0, 5.0, 5.0, 4.0, 4.0, 4.0, 5.0, 3.0, 5.0, 2.0, 5.0, 4.0, 5.0, 2.0, 3.0, 5.0, 4.0, 5.0, 4.0, 3.0, 4.0, 5.0, 3.0, 2.0, 3.0, 5.0, 4.0, 3.0, 5.0, 5.0, 5.0, 4.0, 3.0, 5.0, 4.0, 4.0, 4.0, 5.0, 5.0, 4.0, 5.0, 5.0, 3.0, 5.0, 5.0, 4.0, 4.0, 5.0, 2.0, 4.0, 4.0, 5.0, 5.0, 4.0, 4.0, 4.0, 5.0, 1.0, 2.0, 5.0, 3.0, 4.0, 5.0, 5.0, 4.0, 5.0, 3.0, 3.0, 4.0, 4.0, 1.0, 5.0, 5.0, 1.0, 5.0, 5.0, 1.0, 5.0, 5.0, 5.0, 3.0, 4.0, 5.0, 5.0, 5.0, 4.0, 2.0, 5.0, 5.0, 4.0, 5.0, 5.0, 1.0, 5.0, 4.0, 3.0, 4.0, 5.0, 5.0, 1.0, 4.0, 1.0, 4.0, 4.0, 3.0, 4.0, 5.0, 5.0, 4.0, 4.0, 1.0, 4.0, 2.0, 4.0, 5.0, 5.0, 3.0, 5.0, 1.0, 4.0, 5.0, 3.0, 2.0, 2.0, 5.0, 3.0, 4.0, 5.0, 5.0, 1.0, 3.0, 4.0, 4.0, 4.0, 5.0, 5.0, 4.0, 3.0, 2.0, 5.0, 5.0, 3.0, 1.0, 4.0, 5.0, 4.0, 4.0, 3.0, 5.0, 4.0, 5.0, 4.0, 5.0, 5.0, 5.0, 1.0, 5.0, 4.0, 4.0, 3.0, 4.0, 4.0, 4.0, 4.0, 3.0, 4.0, 5.0, 4.0, 2.0, 4.0, 5.0, 1.0, 4.0, 1.0, 4.0, 5.0, 1.0, 1.0, 4.0, 4.0, 5.0, 5.0, 4.0, 5.0, 4.0, 5.0, 5.0, 1.0, 5.0, 4.0, 1.0, 5.0, 4.0, 2.0, 1.0, 5.0, 4.0, 4.0, 4.0, 5.0, 3.0, 2.0, 5.0, 4.0, 3.0, 5.0, 5.0, 4.0, 5.0, 3.0, 4.0, 1.0, 4.0, 5.0, 4.0, 3.0, 5.0, 1.0, 4.0, 5.0, 3.0, 1.0, 5.0, 5.0, 5.0, 5.0, 4.0, 5.0, 5.0, 3.0, 2.0, 3.0, 5.0, 5.0, 5.0, 4.0, 5.0, 4.0, 2.0, 3.0, 2.0, 5.0, 1.0, 5.0, 4.0, 3.0, 5.0, 3.0, 3.0, 5.0, 4.0, 4.0, 5.0, 5.0, 3.0, 4.0, 4.0, 4.0, 5.0, 4.0, 5.0, 2.0, 3.0, 5.0, 5.0, 3.0, 4.0, 2.0, 3.0, 5.0, 5.0, 5.0, 4.0, 5.0, 3.0, 4.0, 2.0, 4.0, 5.0, 4.0, 5.0, 5.0, 3.0, 5.0, 3.0, 5.0, 1.0, 5.0, 3.0, 5.0, 5.0, 4.0, 5.0, 5.0, 4.0, 5.0, 5.0, 5.0, 2.0, 3.0, 1.0, 4.0, 1.0, 3.0, 1.0, 4.0, 3.0, 5.0, 5.0, 5.0, 3.0, 4.0, 4.0, 5.0, 1.0, 4.0, 5.0, 4.0, 5.0, 5.0, 5.0, 1.0, 1.0, 5.0, 4.0, 2.0, 5.0, 5.0, 5.0, 3.0, 2.0, 5.0, 5.0, 2.0, 4.0, 4.0, 2.0, 2.0, 5.0, 5.0, 3.0, 5.0, 5.0, 3.0, 4.0, 2.0, 1.0, 3.0, 2.0, 4.0, 3.0, 4.0, 5.0, 3.0, 3.0, 3.0, 4.0, 4.0, 3.0, 5.0, 1.0, 1.0, 5.0, 4.0, 4.0, 3.0, 5.0, 1.0, 4.0, 4.0, 5.0, 4.0, 2.0, 1.0, 5.0, 4.0, 5.0, 5.0, 5.0, 1.0, 2.0, 5.0, 3.0, 3.0, 5.0, 2.0, 5.0, 4.0, 1.0, 5.0, 2.0, 5.0, 4.0, 3.0, 5.0, 5.0, 3.0, 5.0, 3.0, 4.0, 5.0, 5.0, 3.0, 5.0, 5.0, 4.0, 3.0, 5.0, 5.0, 5.0, 4.0, 5.0, 4.0, 2.0, 3.0, 5.0, 5.0, 3.0, 4.0, 3.0, 2.0, 4.0, 1.0, 5.0, 3.0, 5.0, 5.0, 4.0, 5.0, 5.0, 4.0, 4.0, 5.0, 4.0, 4.0, 4.0, 5.0, 2.0, 5.0, 3.0, 4.0, 3.0, 4.0, 2.0, 2.0, 4.0, 5.0, 4.0, 5.0, 1.0, 5.0, 4.0, 1.0, 5.0, 1.0, 4.0, 5.0, 3.0, 3.0, 5.0, 4.0, 1.0, 5.0, 4.0, 5.0, 3.0, 3.0, 3.0, 4.0, 5.0, 4.0, 5.0, 4.0, 3.0, 5.0, 5.0, 3.0, 4.0, 3.0, 5.0, 4.0, 5.0, 5.0, 5.0, 4.0, 5.0, 3.0, 5.0, 5.0, 5.0, 5.0, 3.0, 4.0, 1.0, 3.0, 1.0, 5.0, 4.0, 3.0, 5.0, 1.0, 4.0, 4.0, 3.0, 5.0, 5.0, 5.0, 3.0, 4.0, 4.0, 3.0, 5.0, 3.0, 3.0, 5.0, 2.0, 2.0, 3.0, 4.0, 5.0, 5.0, 5.0, 2.0, 4.0, 5.0, 4.0, 5.0, 5.0, 4.0, 5.0, 5.0, 5.0, 4.0, 3.0, 4.0, 4.0, 3.0, 1.0, 3.0, 5.0, 5.0, 3.0, 5.0, 5.0, 4.0, 2.0, 4.0, 1.0, 5.0, 4.0, 4.0, 5.0, 4.0, 2.0, 2.0, 3.0, 5.0, 3.0, 4.0, 5.0, 5.0, 5.0, 5.0, 1.0, 1.0, 3.0, 3.0, 5.0, 4.0, 3.0, 3.0, 1.0, 5.0, 3.0, 3.0, 4.0, 5.0, 5.0, 5.0, 5.0, 5.0, 5.0, 3.0, 4.0, 5.0, 4.0, 4.0, 3.0, 4.0, 5.0, 1.0, 4.0, 3.0, 3.0, 4.0, 5.0, 4.0, 4.0, 5.0, 5.0, 5.0, 3.0, 5.0, 1.0, 4.0, 5.0, 5.0, 4.0, 4.0, 5.0, 5.0, 2.0, 3.0, 3.0, 2.0, 4.0, 5.0, 4.0, 5.0, 5.0, 4.0, 4.0, 3.0, 4.0, 2.0, 3.0, 4.0, 4.0, 4.0, 5.0, 5.0, 5.0, 5.0, 5.0, 4.0, 2.0, 4.0, 5.0, 4.0, 5.0, 5.0, 5.0, 3.0, 5.0, 4.0, 3.0, 5.0, 1.0, 4.0, 5.0, 2.0, 1.0, 4.0, 5.0, 2.0, 5.0, 4.0, 5.0, 5.0, 5.0, 2.0, 3.0, 4.0, 5.0, 5.0, 5.0, 5.0, 4.0, 5.0, 5.0, 3.0, 5.0, 3.0, 5.0, 5.0, 5.0, 5.0, 5.0, 2.0, 2.0, 5.0, 3.0, 4.0, 5.0, 2.0, 5.0, 3.0, 5.0, 4.0, 1.0, 3.0, 2.0, 5.0, 2.0, 5.0, 5.0, 5.0, 1.0, 5.0, 5.0, 4.0, 1.0, 5.0, 5.0, 4.0, 4.0, 3.0, 5.0, 5.0, 5.0, 3.0, 4.0, 5.0, 5.0, 4.0, 4.0, 3.0, 4.0, 3.0, 5.0, 4.0, 5.0, 4.0, 5.0, 5.0, 5.0, 5.0, 4.0, 4.0, 3.0, 5.0, 5.0, 2.0, 5.0, 4.0, 3.0, 5.0, 4.0, 3.0, 2.0, 2.0, 4.0, 5.0, 5.0, 5.0, 3.0, 5.0, 1.0, 4.0, 4.0, 5.0, 5.0, 2.0, 4.0, 2.0, 5.0, 5.0, 5.0, 2.0, 1.0, 4.0, 5.0, 5.0, 3.0, 3.0, 5.0, 4.0, 4.0, 3.0, 5.0, 3.0, 4.0, 3.0, 4.0, 5.0, 5.0, 5.0, 2.0, 4.0, 3.0, 4.0, 4.0, 1.0, 2.0, 4.0, 5.0, 4.0, 5.0, 3.0, 5.0, 3.0, 5.0, 5.0, 3.0, 5.0, 1.0, 4.0, 5.0, 4.0, 4.0, 5.0, 5.0, 5.0, 5.0, 4.0, 4.0, 5.0, 4.0, 5.0, 3.0, 3.0, 3.0, 1.0, 4.0, 2.0, 5.0, 4.0, 5.0, 1.0, 4.0, 5.0, 1.0, 5.0, 1.0, 2.0, 3.0, 2.0, 5.0, 5.0, 2.0, 4.0, 5.0, 1.0, 5.0, 4.0, 5.0, 5.0, 5.0, 4.0, 2.0, 4.0, 5.0, 3.0, 5.0, 5.0, 2.0, 5.0, 4.0, 5.0, 4.0, 3.0, 5.0, 5.0, 4.0, 5.0, 5.0, 5.0, 3.0, 5.0, 4.0, 2.0, 4.0, 3.0, 4.0, 4.0, 5.0, 4.0, 5.0, 3.0, 4.0, 1.0, 3.0, 3.0, 4.0, 4.0, 2.0, 3.0, 2.0, 5.0, 3.0, 5.0, 5.0, 5.0, 5.0, 5.0, 2.0, 5.0, 4.0, 3.0, 5.0, 5.0, 2.0, 2.0, 2.0, 1.0, 5.0, 5.0, 3.0, 5.0, 5.0, 5.0, 4.0, 1.0, 5.0, 2.0, 4.0, 1.0, 4.0, 4.0, 4.0, 5.0, 3.0, 4.0, 5.0, 2.0, 5.0, 4.0, 5.0, 4.0, 5.0, 4.0, 5.0, 5.0, 4.0, 4.0, 5.0, 2.0, 3.0, 5.0, 1.0, 5.0, 4.0, 5.0, 5.0, 5.0, 4.0, 3.0, 4.0, 5.0, 2.0, 3.0, 5.0, 2.0, 2.0, 3.0, 2.0, 1.0, 2.0, 5.0, 4.0, 5.0, 5.0, 4.0, 5.0, 2.0, 5.0, 4.0, 4.0, 4.0, 4.0, 2.0, 5.0, 5.0, 4.0, 3.0, 4.0, 5.0, 5.0, 4.0, 1.0, 3.0, 5.0, 4.0, 4.0, 4.0, 3.0, 4.0, 2.0, 5.0, 5.0, 5.0, 4.0, 3.0, 5.0, 5.0, 4.0, 4.0, 4.0, 5.0, 2.0, 5.0, 5.0, 5.0, 5.0, 5.0, 2.0, 4.0, 5.0, 4.0, 4.0, 3.0, 4.0, 4.0, 1.0, 5.0, 4.0, 5.0, 3.0, 2.0, 3.0, 3.0, 2.0, 3.0, 4.0, 5.0, 5.0, 5.0, 3.0, 2.0, 5.0, 1.0, 5.0, 2.0, 4.0, 1.0, 5.0, 5.0, 5.0, 4.0, 3.0, 3.0, 5.0, 1.0, 5.0, 3.0, 2.0, 4.0, 5.0, 4.0, 1.0, 1.0, 4.0, 4.0, 5.0, 5.0, 4.0, 4.0, 4.0, 5.0, 4.0, 4.0, 5.0, 5.0, 4.0, 4.0, 4.0, 4.0, 5.0, 1.0, 5.0, 2.0, 5.0, 2.0, 1.0, 4.0, 4.0, 3.0, 3.0, 5.0, 3.0, 5.0, 3.0, 3.0, 5.0, 5.0, 4.0, 5.0, 1.0, 4.0, 4.0, 5.0, 3.0, 5.0, 4.0, 4.0, 5.0, 5.0, 5.0, 5.0, 1.0, 5.0, 2.0, 2.0, 5.0, 4.0, 3.0, 3.0, 4.0, 4.0, 4.0, 3.0, 4.0, 3.0, 3.0, 5.0, 5.0, 5.0, 4.0, 4.0, 4.0, 2.0, 1.0, 5.0, 4.0, 1.0, 4.0, 2.0, 1.0, 2.0, 4.0, 5.0, 5.0, 2.0, 3.0, 3.0, 2.0, 5.0, 5.0, 1.0, 5.0, 5.0, 5.0, 5.0, 3.0, 2.0, 4.0, 5.0, 4.0, 5.0, 1.0, 5.0, 3.0, 5.0, 3.0, 1.0, 5.0, 4.0, 4.0, 4.0, 1.0, 2.0, 5.0, 1.0, 5.0, 1.0, 3.0, 4.0, 5.0, 3.0, 5.0, 4.0, 5.0, 5.0, 5.0, 4.0, 4.0, 4.0, 5.0, 3.0, 3.0, 5.0, 4.0, 5.0, 4.0, 1.0, 5.0, 5.0, 4.0, 5.0, 5.0, 3.0, 1.0, 5.0, 5.0, 5.0, 5.0, 2.0, 5.0, 5.0, 5.0, 4.0, 5.0, 3.0, 4.0, 3.0, 1.0, 5.0, 3.0, 3.0, 2.0, 3.0, 5.0, 5.0, 3.0, 1.0, 5.0, 5.0, 5.0, 3.0, 4.0, 5.0, 1.0, 5.0, 5.0, 4.0, 5.0, 4.0, 4.0, 5.0, 4.0, 5.0, 4.0, 5.0, 5.0, 3.0, 4.0, 4.0, 4.0, 4.0, 5.0, 4.0, 3.0, 3.0, 5.0, 3.0, 1.0, 1.0, 5.0, 4.0, 5.0, 4.0, 4.0, 5.0, 5.0, 5.0, 5.0, 4.0, 5.0, 1.0, 2.0, 4.0, 5.0, 2.0, 4.0, 5.0, 5.0, 4.0, 5.0, 1.0, 4.0, 5.0, 1.0, 4.0, 4.0, 2.0, 3.0, 4.0, 3.0, 4.0, 4.0, 5.0, 4.0, 3.0, 3.0, 4.0, 5.0, 5.0, 5.0, 3.0, 5.0, 5.0, 5.0, 1.0, 5.0, 4.0, 4.0, 2.0, 4.0, 3.0, 2.0, 5.0, 4.0, 5.0, 5.0, 5.0, 4.0, 4.0, 2.0, 4.0, 5.0, 4.0, 5.0, 4.0, 5.0, 5.0, 5.0, 4.0, 3.0, 4.0, 5.0, 5.0, 4.0, 5.0, 5.0, 5.0, 4.0, 4.0, 5.0, 4.0, 5.0, 5.0, 2.0, 5.0, 5.0, 2.0, 5.0, 4.0, 5.0, 5.0, 5.0, 3.0, 5.0, 1.0, 4.0, 5.0, 4.0, 5.0, 2.0, 1.0, 5.0, 5.0, 3.0, 3.0, 5.0, 2.0, 5.0, 1.0, 3.0, 2.0, 4.0, 3.0, 1.0, 2.0, 5.0, 1.0, 4.0, 3.0, 3.0, 3.0, 4.0, 2.0, 2.0, 5.0, 5.0, 5.0, 4.0, 5.0, 5.0, 5.0, 1.0, 3.0, 5.0, 5.0, 4.0, 5.0, 5.0, 4.0, 3.0, 5.0, 5.0, 5.0, 5.0, 4.0, 5.0, 5.0, 3.0, 5.0, 4.0, 3.0, 5.0, 3.0, 4.0, 3.0, 4.0, 2.0, 5.0, 5.0, 3.0, 5.0, 3.0, 3.0, 2.0, 3.0, 4.0, 4.0, 1.0, 3.0, 3.0, 5.0, 5.0, 5.0, 3.0, 4.0, 3.0, 4.0, 3.0, 4.0, 1.0, 1.0, 4.0, 2.0, 4.0, 5.0, 5.0, 4.0, 5.0, 3.0, 1.0, 5.0, 5.0, 2.0, 5.0, 5.0, 4.0, 1.0, 5.0, 5.0, 5.0, 4.0, 5.0, 4.0, 5.0, 5.0, 5.0, 4.0, 5.0, 3.0, 3.0, 1.0, 4.0, 4.0, 5.0, 4.0, 3.0, 5.0, 5.0, 5.0, 4.0, 5.0, 4.0, 4.0, 5.0, 5.0, 5.0, 2.0, 5.0, 5.0, 5.0, 5.0, 2.0, 2.0, 5.0, 5.0, 5.0, 5.0, 5.0, 4.0, 5.0, 3.0, 4.0, 4.0, 5.0, 5.0, 5.0, 5.0, 5.0, 4.0, 5.0, 1.0, 4.0, 5.0, 1.0, 5.0, 5.0, 1.0, 5.0, 5.0, 3.0, 4.0, 4.0, 4.0, 5.0, 1.0, 5.0, 5.0, 4.0, 4.0, 2.0, 4.0, 4.0, 5.0, 2.0, 1.0, 3.0, 5.0, 5.0, 4.0, 4.0, 2.0, 3.0, 4.0, 5.0, 1.0, 3.0, 3.0, 5.0, 3.0, 5.0, 4.0, 4.0, 4.0, 5.0, 2.0, 5.0, 5.0, 4.0, 4.0, 4.0, 5.0, 3.0, 5.0, 5.0, 5.0, 4.0, 5.0, 5.0, 4.0, 5.0, 5.0, 2.0, 3.0, 4.0, 2.0, 1.0, 3.0, 4.0, 4.0, 4.0, 4.0, 1.0, 4.0, 2.0, 3.0, 5.0, 3.0, 5.0, 1.0, 5.0, 5.0, 1.0, 5.0, 3.0, 5.0, 5.0, 4.0, 5.0, 2.0, 5.0, 1.0, 2.0, 5.0, 4.0, 2.0, 4.0, 1.0, 4.0, 4.0, 5.0, 2.0, 4.0, 4.0, 3.0, 5.0, 4.0, 4.0, 4.0, 5.0, 5.0, 5.0, 5.0, 3.0, 4.0, 5.0, 4.0, 3.0, 2.0, 5.0, 3.0, 4.0, 4.0, 4.0, 2.0, 4.0, 3.0, 5.0, 2.0, 5.0, 5.0, 5.0, 5.0, 1.0, 5.0, 4.0, 5.0, 4.0, 4.0, 5.0, 5.0, 4.0, 4.0, 5.0, 4.0, 5.0, 4.0, 4.0, 5.0, 5.0, 4.0, 5.0, 1.0, 2.0, 5.0, 5.0, 3.0, 3.0, 3.0, 3.0, 5.0, 2.0, 5.0, 5.0, 5.0, 4.0, 5.0, 4.0, 1.0, 5.0, 4.0, 3.0, 4.0, 5.0, 4.0, 5.0, 5.0, 2.0, 5.0, 4.0, 2.0, 4.0, 5.0, 4.0, 4.0, 5.0, 5.0, 3.0, 5.0, 5.0, 5.0, 5.0, 4.0, 4.0, 5.0, 1.0, 5.0, 5.0, 5.0, 5.0, 2.0, 4.0, 3.0, 5.0, 4.0, 5.0, 2.0, 5.0, 4.0, 1.0, 3.0, 5.0, 2.0, 5.0, 3.0, 3.0, 2.0, 5.0, 4.0, 5.0, 3.0, 5.0, 2.0, 3.0, 2.0, 1.0, 4.0, 4.0, 4.0, 3.0, 4.0, 3.0, 2.0, 5.0, 5.0, 4.0, 5.0, 1.0, 2.0, 5.0, 5.0, 5.0, 4.0, 2.0, 4.0, 5.0, 5.0, 5.0, 4.0, 5.0, 5.0, 5.0, 4.0, 3.0, 4.0, 3.0, 2.0, 1.0, 4.0, 1.0, 4.0, 5.0, 5.0, 4.0, 5.0, 2.0, 1.0, 5.0, 4.0, 4.0, 5.0, 4.0, 5.0, 3.0, 4.0, 5.0, 1.0, 5.0, 5.0, 5.0, 1.0, 4.0, 5.0, 1.0, 3.0, 3.0, 5.0, 4.0, 2.0, 2.0, 5.0, 5.0, 3.0, 4.0, 5.0, 5.0, 5.0, 5.0, 5.0, 5.0, 5.0, 4.0, 4.0, 4.0, 3.0, 5.0, 5.0, 5.0, 2.0, 3.0, 4.0, 5.0, 2.0, 3.0, 4.0, 1.0, 1.0, 3.0, 4.0, 5.0, 2.0, 3.0, 4.0, 4.0, 5.0, 3.0, 4.0, 3.0, 5.0, 1.0, 5.0, 5.0, 4.0, 2.0, 4.0, 5.0, 2.0, 4.0, 3.0, 5.0, 5.0, 5.0, 5.0, 4.0, 3.0, 4.0, 4.0, 3.0, 4.0, 4.0, 4.0, 4.0, 5.0, 5.0, 4.0, 3.0, 4.0, 5.0, 3.0, 3.0, 5.0, 5.0, 1.0, 1.0, 4.0, 4.0, 3.0, 5.0, 5.0, 5.0, 5.0, 3.0, 4.0, 5.0, 3.0, 5.0, 5.0, 3.0, 5.0, 3.0, 4.0, 4.0, 5.0, 4.0, 4.0, 5.0, 5.0, 5.0, 4.0, 3.0, 4.0, 3.0, 5.0, 5.0, 5.0, 5.0, 5.0, 5.0, 3.0, 2.0, 4.0, 2.0, 5.0, 4.0, 3.0, 2.0, 3.0, 3.0, 1.0, 5.0, 3.0, 2.0, 5.0, 4.0, 5.0, 2.0, 5.0, 5.0, 4.0, 4.0, 4.0, 3.0, 4.0, 3.0, 5.0, 5.0, 5.0, 5.0, 4.0, 4.0, 5.0, 5.0, 4.0, 3.0, 5.0, 1.0, 4.0, 5.0, 5.0, 3.0, 5.0, 5.0, 2.0, 4.0, 4.0, 4.0, 5.0, 2.0, 3.0, 3.0, 4.0, 4.0, 5.0, 5.0, 5.0, 5.0, 4.0, 3.0, 3.0, 5.0, 5.0, 2.0, 4.0, 5.0, 5.0, 5.0, 5.0, 1.0, 5.0, 5.0, 5.0, 4.0, 4.0, 5.0, 3.0, 5.0, 2.0, 5.0, 5.0, 5.0, 4.0, 5.0, 4.0, 1.0, 5.0, 1.0, 1.0, 1.0, 5.0, 5.0, 3.0, 4.0, 1.0, 3.0, 5.0, 5.0, 1.0, 3.0, 4.0, 3.0, 2.0, 5.0, 5.0, 5.0, 4.0, 4.0, 3.0, 3.0, 5.0, 5.0, 4.0, 1.0, 4.0, 4.0, 5.0, 3.0, 5.0, 4.0, 4.0, 5.0, 3.0, 1.0, 3.0, 1.0, 5.0, 1.0, 3.0, 5.0, 3.0, 1.0, 5.0, 2.0, 2.0, 5.0, 4.0, 4.0, 4.0, 4.0, 5.0, 5.0, 1.0, 4.0, 4.0, 4.0, 5.0, 2.0, 2.0, 4.0, 5.0, 1.0, 5.0, 5.0, 5.0, 4.0, 3.0, 1.0, 5.0, 2.0, 5.0, 4.0, 4.0, 4.0, 5.0, 4.0, 5.0, 4.0, 5.0, 4.0, 2.0, 4.0, 5.0, 5.0, 2.0, 5.0, 4.0, 5.0, 3.0, 4.0, 3.0, 4.0, 4.0, 4.0, 5.0, 5.0, 4.0, 5.0, 5.0, 5.0, 5.0, 5.0, 1.0, 1.0, 3.0, 5.0, 2.0, 4.0, 5.0, 4.0, 4.0, 1.0, 4.0, 4.0, 4.0, 2.0, 5.0, 5.0, 2.0, 3.0, 5.0, 5.0, 5.0, 5.0, 4.0, 5.0, 5.0, 5.0, 5.0, 5.0, 4.0, 5.0, 5.0, 5.0, 4.0, 5.0, 2.0, 5.0, 3.0, 4.0, 5.0, 5.0, 3.0, 1.0, 5.0, 5.0, 5.0, 5.0, 5.0, 1.0, 3.0, 5.0, 4.0, 4.0, 3.0, 4.0, 4.0, 3.0, 5.0, 5.0, 5.0, 3.0, 5.0, 5.0, 3.0, 4.0, 5.0, 5.0, 3.0, 5.0, 5.0, 3.0, 4.0, 5.0, 4.0, 5.0, 4.0, 5.0, 4.0, 5.0, 4.0, 3.0, 5.0, 5.0, 4.0, 5.0, 5.0, 5.0, 3.0, 4.0, 5.0, 5.0, 1.0, 5.0, 4.0, 4.0, 5.0, 4.0, 3.0, 4.0, 5.0, 4.0, 5.0, 5.0, 4.0, 5.0, 3.0, 5.0, 1.0, 5.0, 5.0, 5.0, 4.0, 3.0, 5.0, 4.0, 3.0, 5.0, 5.0, 5.0, 5.0, 3.0, 5.0, 4.0, 5.0, 5.0, 5.0, 5.0, 5.0, 4.0, 4.0, 5.0, 3.0, 3.0, 5.0, 4.0, 5.0, 4.0, 5.0, 4.0, 1.0, 5.0, 3.0, 2.0, 4.0, 4.0, 4.0, 5.0, 3.0, 4.0, 2.0, 4.0, 3.0, 3.0, 5.0, 4.0, 5.0, 5.0, 4.0, 5.0, 3.0, 4.0, 5.0, 3.0, 5.0, 3.0, 4.0, 5.0, 4.0, 1.0, 5.0, 5.0, 5.0, 3.0, 5.0, 1.0, 4.0, 5.0, 2.0, 5.0, 4.0, 2.0, 3.0, 4.0, 5.0, 3.0, 3.0, 5.0, 4.0, 5.0, 5.0, 5.0, 5.0, 4.0, 4.0, 5.0, 5.0, 2.0, 4.0, 5.0, 5.0, 4.0, 3.0, 5.0, 5.0, 2.0, 5.0, 4.0, 5.0, 3.0, 4.0, 5.0, 5.0, 3.0, 4.0, 3.0, 5.0, 5.0, 4.0, 5.0, 5.0, 3.0, 1.0, 5.0, 3.0, 5.0, 2.0, 5.0, 3.0, 5.0, 3.0, 2.0, 4.0, 5.0, 2.0, 5.0, 5.0, 4.0, 5.0, 4.0, 5.0, 1.0, 4.0, 5.0, 5.0, 5.0, 5.0, 5.0, 5.0, 5.0, 4.0, 4.0, 2.0, 4.0, 4.0, 4.0, 4.0, 4.0, 2.0, 5.0, 3.0, 5.0, 4.0, 5.0, 4.0, 5.0, 4.0, 4.0, 5.0, 3.0, 5.0, 4.0, 3.0, 4.0, 3.0, 1.0, 3.0, 3.0, 4.0, 1.0, 5.0, 3.0, 1.0, 5.0, 5.0, 5.0, 5.0, 5.0, 3.0, 5.0, 3.0, 4.0, 5.0, 2.0, 5.0, 2.0, 2.0, 5.0, 5.0, 2.0, 4.0, 4.0, 2.0, 1.0, 5.0, 5.0, 3.0, 5.0, 5.0, 3.0, 4.0, 4.0, 5.0, 4.0, 4.0, 3.0, 3.0, 4.0, 4.0, 5.0, 4.0, 1.0, 5.0, 5.0, 5.0, 5.0, 4.0, 4.0, 5.0, 4.0, 4.0, 4.0, 5.0, 3.0, 4.0, 5.0, 5.0, 4.0, 3.0, 2.0, 5.0, 5.0, 4.0, 1.0, 5.0, 4.0, 5.0, 4.0, 4.0, 5.0, 5.0, 5.0, 2.0, 4.0, 5.0, 5.0, 5.0, 5.0, 4.0, 4.0, 3.0, 1.0, 4.0, 4.0, 5.0, 5.0, 3.0, 4.0, 5.0, 1.0, 4.0, 4.0, 5.0, 5.0, 4.0, 5.0, 5.0, 4.0, 5.0, 4.0, 5.0, 3.0, 4.0, 5.0, 3.0, 5.0, 5.0, 1.0, 5.0, 3.0, 4.0, 4.0, 5.0, 3.0, 4.0, 5.0, 5.0, 5.0, 5.0, 1.0, 5.0, 3.0, 5.0, 4.0, 2.0, 3.0, 3.0, 4.0, 4.0, 1.0, 3.0, 5.0, 4.0, 5.0, 5.0, 3.0, 5.0, 4.0, 3.0, 5.0, 5.0, 4.0, 2.0, 5.0, 3.0, 5.0, 5.0, 2.0, 5.0, 3.0, 1.0, 5.0, 2.0, 5.0, 5.0, 1.0, 5.0, 5.0, 3.0, 4.0, 5.0, 5.0, 5.0, 2.0, 4.0, 5.0, 5.0, 4.0, 5.0, 5.0, 5.0, 4.0, 1.0, 5.0, 5.0, 2.0, 4.0, 5.0, 1.0, 4.0, 1.0, 4.0, 5.0, 3.0, 1.0, 4.0, 5.0, 5.0, 5.0, 2.0, 4.0, 2.0, 5.0, 3.0, 1.0, 4.0, 5.0, 1.0, 4.0, 5.0, 5.0, 3.0, 4.0, 2.0, 3.0, 3.0, 5.0, 5.0, 4.0, 1.0, 1.0, 5.0, 4.0, 4.0, 3.0, 3.0, 5.0, 5.0, 3.0, 5.0, 4.0, 4.0, 3.0, 5.0, 4.0, 5.0, 4.0, 4.0, 5.0, 3.0, 4.0, 5.0, 3.0, 5.0, 5.0, 5.0, 5.0, 5.0, 4.0, 5.0, 3.0, 5.0, 3.0, 3.0, 5.0, 5.0, 5.0, 5.0, 4.0, 5.0, 3.0, 1.0, 5.0, 3.0, 3.0, 4.0, 4.0, 5.0, 4.0, 5.0, 5.0, 5.0, 5.0, 4.0, 5.0, 3.0, 5.0, 5.0, 5.0, 5.0, 3.0, 5.0, 3.0, 4.0, 5.0, 1.0, 5.0, 2.0, 1.0, 5.0, 5.0, 3.0, 3.0, 5.0, 5.0, 4.0, 5.0, 5.0, 2.0, 5.0, 4.0, 2.0, 4.0, 5.0, 4.0, 4.0, 5.0, 4.0, 5.0, 1.0, 5.0, 4.0, 5.0, 3.0, 5.0, 5.0, 3.0, 4.0, 5.0, 3.0, 5.0, 4.0, 3.0, 5.0, 5.0, 5.0, 5.0, 2.0, 5.0, 4.0, 2.0, 5.0, 5.0, 3.0, 3.0, 4.0, 1.0, 2.0, 2.0, 5.0, 1.0, 1.0, 4.0, 4.0, 1.0, 4.0, 5.0, 2.0, 4.0, 5.0, 4.0, 2.0, 5.0, 4.0, 5.0, 5.0, 5.0, 2.0, 3.0, 3.0, 4.0, 5.0, 1.0, 4.0, 5.0, 5.0, 4.0, 2.0, 5.0, 4.0, 5.0, 4.0, 5.0, 3.0, 4.0, 5.0, 5.0, 4.0, 4.0, 1.0, 4.0, 5.0, 2.0, 2.0, 3.0, 5.0, 5.0, 4.0, 4.0, 5.0, 3.0, 3.0, 5.0, 3.0, 5.0, 3.0, 5.0, 4.0, 5.0, 4.0, 5.0, 5.0, 5.0, 4.0, 4.0, 4.0, 4.0, 3.0, 4.0, 3.0, 5.0, 5.0, 4.0, 3.0, 5.0, 5.0, 4.0, 4.0, 5.0, 5.0, 1.0, 5.0, 5.0, 4.0, 1.0, 1.0, 5.0, 4.0, 4.0, 2.0, 5.0, 5.0, 3.0, 3.0, 1.0, 4.0, 3.0, 5.0, 4.0, 1.0, 5.0, 4.0, 4.0, 4.0, 4.0, 4.0, 1.0, 4.0, 4.0, 5.0, 3.0, 4.0, 5.0, 5.0, 1.0, 5.0, 5.0, 5.0, 4.0, 3.0, 2.0, 1.0, 5.0, 5.0, 5.0, 3.0, 5.0, 4.0, 5.0, 4.0, 5.0, 1.0, 5.0, 4.0, 4.0, 5.0, 3.0, 5.0, 1.0, 2.0, 5.0, 4.0, 4.0, 5.0, 4.0, 3.0, 5.0, 5.0, 5.0, 2.0, 5.0, 5.0, 4.0, 5.0, 2.0, 5.0, 4.0, 5.0, 5.0, 5.0, 4.0, 5.0, 5.0, 2.0, 5.0, 5.0, 4.0, 1.0, 2.0, 5.0, 4.0, 1.0, 1.0, 5.0, 5.0, 5.0, 4.0, 5.0, 5.0, 5.0, 5.0, 3.0, 2.0, 4.0, 5.0, 5.0, 5.0, 4.0, 5.0, 4.0, 4.0, 1.0, 4.0, 5.0, 5.0, 5.0, 4.0, 5.0, 2.0, 5.0, 5.0, 5.0, 5.0, 5.0, 2.0, 5.0, 5.0, 4.0, 3.0, 2.0, 1.0, 5.0, 5.0, 5.0, 4.0, 5.0, 5.0, 5.0, 5.0, 2.0, 4.0, 3.0, 5.0, 5.0, 3.0, 5.0, 5.0, 4.0, 4.0, 4.0, 2.0, 5.0, 4.0, 5.0, 3.0, 3.0, 5.0, 4.0, 3.0, 5.0, 1.0, 5.0, 5.0, 4.0, 1.0, 4.0, 5.0, 4.0, 4.0, 5.0, 3.0, 5.0, 4.0, 3.0, 4.0, 5.0, 5.0, 4.0, 3.0, 5.0, 4.0, 2.0, 4.0, 3.0, 4.0, 5.0, 4.0, 5.0, 4.0, 1.0, 3.0, 2.0, 1.0, 5.0, 3.0, 5.0, 3.0, 4.0, 4.0, 4.0, 4.0, 5.0, 2.0, 5.0, 3.0, 5.0, 5.0, 5.0, 1.0, 5.0, 5.0, 4.0, 4.0, 1.0, 5.0, 2.0, 1.0, 5.0, 3.0, 1.0, 4.0, 5.0, 1.0, 5.0, 1.0, 5.0, 2.0, 3.0, 2.0, 5.0, 4.0, 4.0, 3.0, 2.0, 2.0, 5.0, 4.0, 4.0, 5.0, 5.0, 5.0, 4.0, 5.0, 5.0, 3.0, 5.0, 4.0, 5.0, 5.0, 3.0, 4.0, 2.0, 1.0, 1.0, 3.0, 4.0, 5.0, 4.0, 4.0, 4.0, 1.0, 4.0, 4.0, 2.0, 3.0, 3.0, 4.0, 3.0, 4.0, 5.0, 4.0, 3.0, 3.0, 2.0, 3.0, 5.0, 5.0, 4.0, 5.0, 5.0, 2.0, 5.0, 5.0, 1.0, 1.0, 1.0, 5.0, 3.0, 4.0, 4.0, 4.0, 3.0, 4.0, 4.0, 5.0, 4.0, 5.0, 4.0, 3.0, 2.0, 3.0, 5.0, 3.0, 4.0, 2.0, 1.0, 3.0, 5.0, 1.0, 5.0, 1.0, 5.0, 3.0, 4.0, 2.0, 2.0, 3.0, 5.0, 5.0, 5.0, 5.0, 5.0, 5.0, 5.0, 2.0, 5.0, 3.0, 4.0, 1.0, 1.0, 4.0, 1.0, 5.0, 3.0, 5.0, 3.0, 5.0, 2.0, 5.0, 3.0, 4.0, 5.0, 4.0, 4.0, 4.0, 4.0, 4.0, 3.0, 3.0, 4.0, 4.0, 3.0, 4.0, 5.0, 3.0, 4.0, 5.0, 5.0, 1.0, 4.0, 2.0, 4.0, 4.0, 3.0, 4.0, 3.0, 1.0, 5.0, 5.0, 4.0, 5.0, 5.0, 4.0, 2.0, 1.0, 3.0, 5.0, 4.0, 5.0, 5.0, 5.0, 4.0, 5.0, 5.0, 4.0, 4.0, 5.0, 5.0, 4.0, 5.0, 4.0, 5.0, 3.0, 5.0, 4.0, 4.0, 4.0, 5.0, 1.0, 4.0, 5.0, 5.0, 4.0, 3.0, 5.0, 4.0, 5.0, 3.0, 3.0, 5.0, 5.0, 3.0, 5.0, 5.0, 3.0, 4.0, 4.0, 3.0, 5.0, 5.0, 5.0, 5.0, 5.0, 5.0, 1.0, 4.0, 1.0, 5.0, 4.0, 3.0, 2.0, 4.0, 1.0, 4.0, 5.0, 3.0, 5.0, 5.0, 5.0, 5.0, 3.0, 5.0, 5.0, 3.0, 5.0, 4.0, 4.0, 5.0, 2.0, 4.0, 1.0, 5.0, 5.0, 5.0, 2.0, 3.0, 5.0, 3.0, 5.0, 4.0, 2.0, 3.0, 5.0, 4.0, 4.0, 1.0, 4.0, 4.0, 3.0, 4.0, 5.0, 3.0, 4.0, 5.0, 4.0, 3.0, 5.0, 1.0, 5.0, 5.0, 5.0, 5.0, 3.0, 4.0, 4.0, 5.0, 4.0, 5.0, 5.0, 5.0, 5.0, 4.0, 4.0, 4.0, 4.0, 3.0, 5.0, 5.0, 4.0, 4.0, 5.0, 3.0, 5.0, 4.0, 4.0, 5.0, 3.0, 5.0, 1.0, 4.0, 4.0, 4.0, 4.0, 3.0, 3.0, 5.0, 5.0, 5.0, 5.0, 5.0, 1.0, 4.0, 5.0, 3.0, 5.0, 4.0, 2.0, 5.0, 5.0, 5.0, 4.0, 3.0, 4.0, 4.0, 4.0, 4.0, 4.0, 5.0, 3.0, 4.0, 5.0, 2.0, 3.0, 4.0, 4.0, 5.0, 3.0, 5.0, 5.0, 5.0, 4.0, 5.0, 5.0, 5.0, 3.0, 1.0, 2.0, 5.0, 2.0, 4.0, 4.0, 2.0, 3.0, 4.0, 4.0, 2.0, 3.0, 4.0, 5.0, 5.0, 5.0, 2.0, 5.0, 4.0, 4.0, 5.0, 4.0, 5.0, 4.0, 4.0, 5.0, 4.0, 4.0, 5.0, 5.0, 1.0, 5.0, 4.0, 4.0, 1.0, 5.0, 4.0, 5.0, 5.0, 4.0, 4.0, 1.0, 3.0, 4.0, 4.0, 5.0, 1.0, 5.0, 4.0, 5.0, 5.0, 4.0, 5.0, 3.0, 4.0, 3.0, 5.0, 5.0, 4.0, 5.0, 5.0, 2.0, 4.0, 4.0, 5.0, 5.0, 5.0, 5.0, 4.0, 4.0, 5.0, 4.0, 1.0, 1.0, 5.0, 5.0, 2.0, 4.0, 2.0, 3.0, 3.0, 5.0, 5.0, 3.0, 5.0, 3.0, 1.0, 5.0, 4.0, 3.0, 3.0, 2.0, 5.0, 4.0, 4.0, 3.0, 3.0, 5.0, 5.0, 4.0, 4.0, 5.0, 1.0, 5.0, 1.0, 5.0, 5.0, 4.0, 5.0, 4.0, 5.0, 3.0, 5.0, 4.0, 3.0, 5.0, 5.0, 5.0, 4.0, 5.0, 5.0, 5.0, 5.0, 4.0, 5.0, 5.0, 2.0, 4.0, 3.0, 5.0, 4.0, 1.0, 5.0, 3.0, 4.0, 4.0, 4.0, 2.0, 2.0, 2.0, 2.0, 5.0, 5.0, 5.0, 5.0, 2.0, 3.0, 5.0, 3.0, 4.0, 4.0, 5.0, 5.0, 4.0, 5.0, 4.0, 3.0, 4.0, 2.0, 4.0, 4.0, 5.0, 5.0, 3.0, 3.0, 4.0, 4.0, 4.0, 5.0, 4.0, 5.0, 5.0, 5.0, 4.0, 3.0, 5.0, 4.0, 4.0, 4.0, 5.0, 1.0, 1.0, 5.0, 4.0, 5.0, 2.0, 5.0, 5.0, 5.0, 2.0, 5.0, 3.0, 5.0, 5.0, 3.0, 2.0, 3.0, 5.0, 4.0, 4.0, 5.0, 4.0, 3.0, 4.0, 5.0, 3.0, 3.0, 3.0, 5.0, 5.0, 5.0, 5.0, 5.0, 5.0, 5.0, 1.0, 5.0, 4.0, 5.0, 5.0, 5.0, 3.0, 5.0, 4.0, 5.0, 3.0, 2.0, 4.0, 4.0, 4.0, 3.0, 5.0, 5.0, 5.0, 3.0, 5.0, 4.0, 2.0, 5.0, 1.0, 3.0, 5.0, 1.0, 5.0, 5.0, 1.0, 5.0, 5.0, 2.0, 2.0, 3.0, 5.0, 4.0, 3.0, 3.0, 3.0, 3.0, 5.0, 5.0, 5.0, 1.0, 4.0, 5.0, 5.0, 4.0, 4.0, 5.0, 1.0, 5.0, 5.0, 4.0, 3.0, 5.0, 4.0, 2.0, 5.0, 5.0, 5.0, 4.0, 2.0, 4.0, 3.0, 4.0, 5.0, 4.0, 4.0, 4.0, 5.0, 5.0, 5.0, 5.0, 1.0, 5.0, 3.0, 3.0, 5.0, 4.0, 4.0, 4.0, 4.0, 5.0, 4.0, 4.0, 1.0, 4.0, 1.0, 5.0, 5.0, 4.0, 3.0, 2.0, 4.0, 4.0, 4.0, 2.0, 5.0, 4.0, 5.0, 4.0, 5.0, 4.0, 4.0, 5.0, 4.0, 3.0, 5.0, 3.0, 4.0, 2.0, 5.0, 4.0, 3.0, 5.0, 3.0, 5.0, 5.0, 2.0, 4.0, 1.0, 5.0, 5.0, 2.0, 3.0, 3.0, 5.0, 5.0, 5.0, 4.0, 5.0, 1.0, 5.0, 5.0, 5.0, 5.0, 1.0, 3.0, 4.0, 5.0, 3.0, 4.0, 2.0, 1.0, 5.0, 3.0, 4.0, 4.0, 4.0, 1.0, 1.0, 4.0, 3.0, 3.0, 1.0, 5.0, 5.0, 2.0, 3.0, 2.0, 4.0, 5.0, 5.0, 3.0, 1.0, 1.0, 3.0, 5.0, 3.0, 4.0, 5.0, 5.0, 5.0, 5.0, 5.0, 4.0, 4.0, 5.0, 5.0, 1.0, 3.0, 4.0, 5.0, 5.0, 5.0, 4.0, 3.0, 4.0, 4.0, 4.0, 3.0, 5.0, 5.0, 5.0, 5.0, 4.0, 4.0, 5.0, 1.0, 5.0, 4.0, 4.0, 5.0, 5.0, 5.0, 4.0, 5.0, 4.0, 4.0, 4.0, 3.0, 5.0, 3.0, 4.0, 5.0, 5.0, 4.0, 5.0, 4.0, 5.0, 4.0, 3.0, 4.0, 2.0, 5.0, 3.0, 2.0, 5.0, 4.0, 3.0, 4.0, 5.0, 2.0, 3.0, 1.0, 5.0, 1.0, 4.0, 4.0, 5.0, 1.0, 3.0, 4.0, 5.0, 2.0, 3.0, 5.0, 5.0, 4.0, 5.0, 5.0, 5.0, 4.0, 5.0, 4.0, 4.0, 5.0, 3.0, 5.0, 5.0, 1.0, 4.0, 5.0, 2.0, 4.0, 4.0, 4.0, 3.0, 3.0, 4.0, 3.0, 4.0, 1.0, 3.0, 2.0, 5.0, 5.0, 3.0, 2.0, 5.0, 3.0, 5.0, 5.0, 5.0, 5.0, 2.0, 3.0, 3.0, 5.0, 5.0, 1.0, 4.0, 2.0, 5.0, 5.0, 5.0, 1.0, 5.0, 5.0, 5.0, 3.0, 5.0, 4.0, 4.0, 3.0, 3.0, 2.0, 4.0, 3.0, 3.0, 5.0, 5.0, 4.0, 4.0, 5.0, 1.0, 4.0, 5.0, 1.0, 3.0, 1.0, 3.0, 3.0, 5.0, 5.0, 5.0, 4.0, 3.0, 5.0, 5.0, 4.0, 4.0, 4.0, 3.0, 3.0, 4.0, 5.0, 5.0, 3.0, 5.0, 5.0, 5.0, 1.0, 4.0, 5.0, 5.0, 5.0, 4.0, 4.0, 4.0, 5.0, 5.0, 5.0, 1.0, 4.0, 5.0, 4.0, 5.0, 4.0, 2.0, 5.0, 2.0, 4.0, 4.0, 5.0, 5.0, 3.0, 5.0, 5.0, 5.0, 5.0, 5.0, 5.0, 4.0, 5.0, 4.0, 5.0, 5.0, 3.0, 4.0, 1.0, 5.0, 5.0, 3.0, 5.0, 3.0, 3.0, 4.0, 4.0, 4.0, 5.0, 5.0, 2.0, 1.0, 4.0, 5.0, 5.0, 5.0, 4.0, 4.0, 5.0, 4.0, 4.0, 5.0, 3.0, 1.0, 3.0, 3.0, 4.0, 1.0, 5.0, 3.0, 5.0, 4.0, 4.0, 5.0, 4.0, 5.0, 4.0, 4.0, 5.0, 5.0, 4.0, 5.0, 3.0, 5.0, 4.0, 4.0, 5.0, 5.0, 4.0, 4.0, 5.0, 5.0, 5.0, 5.0, 4.0, 1.0, 4.0, 5.0, 5.0, 5.0, 4.0, 5.0, 3.0, 1.0, 5.0, 5.0, 5.0, 5.0, 5.0, 5.0, 5.0, 5.0, 5.0, 2.0, 5.0, 5.0, 5.0, 5.0, 5.0, 5.0, 2.0, 3.0, 5.0, 3.0, 5.0, 5.0, 3.0, 2.0, 4.0, 5.0, 3.0, 5.0, 4.0, 5.0, 5.0, 3.0, 3.0, 5.0, 5.0, 5.0, 4.0, 3.0, 5.0, 2.0, 5.0, 3.0, 4.0, 1.0, 3.0, 3.0, 4.0, 4.0, 5.0, 5.0, 5.0, 5.0, 5.0, 3.0, 4.0, 5.0, 5.0, 4.0, 3.0, 5.0, 3.0, 3.0, 5.0, 1.0, 4.0, 4.0, 4.0, 5.0, 5.0, 5.0, 3.0, 5.0, 5.0, 5.0, 4.0, 5.0, 5.0, 5.0, 2.0, 4.0, 3.0, 5.0, 5.0, 4.0, 3.0, 4.0, 5.0, 4.0, 5.0, 5.0, 5.0, 5.0, 3.0, 1.0, 1.0, 5.0, 3.0, 4.0, 5.0, 5.0, 1.0, 4.0, 5.0, 3.0, 5.0, 4.0, 5.0, 5.0, 3.0, 5.0, 5.0, 4.0, 4.0, 2.0, 4.0, 1.0, 2.0, 3.0, 5.0, 5.0, 4.0, 5.0, 1.0, 5.0, 3.0, 4.0, 2.0, 5.0, 5.0, 5.0, 5.0, 2.0, 5.0, 5.0, 5.0, 5.0, 5.0, 5.0, 5.0, 5.0, 1.0, 5.0, 4.0, 2.0, 4.0, 3.0, 5.0, 1.0, 3.0, 5.0, 3.0, 5.0, 4.0, 3.0, 5.0, 4.0, 3.0, 5.0, 4.0, 4.0, 2.0, 5.0, 4.0, 5.0, 5.0, 5.0, 5.0, 4.0, 1.0, 3.0, 1.0, 5.0, 4.0, 5.0, 3.0, 5.0, 5.0, 3.0, 1.0, 5.0, 4.0, 2.0, 5.0, 5.0, 3.0, 4.0, 5.0, 5.0, 4.0, 5.0, 4.0, 1.0, 5.0, 5.0, 5.0, 1.0, 3.0, 5.0, 1.0, 1.0, 4.0, 3.0, 3.0, 3.0, 4.0, 5.0, 4.0, 4.0, 5.0, 4.0, 3.0, 4.0, 1.0, 5.0, 4.0, 5.0, 4.0, 5.0, 3.0, 4.0, 5.0, 5.0, 4.0, 5.0, 4.0, 3.0, 5.0, 4.0, 5.0, 4.0, 4.0, 4.0, 5.0, 4.0, 4.0, 5.0, 5.0, 5.0, 5.0, 2.0, 4.0, 5.0, 5.0, 3.0, 1.0, 4.0, 5.0, 4.0, 4.0, 4.0, 5.0, 3.0, 3.0, 2.0, 5.0, 4.0, 3.0, 4.0, 3.0, 2.0, 5.0, 5.0, 3.0, 3.0, 3.0, 1.0, 5.0, 5.0, 5.0, 5.0, 4.0, 5.0, 5.0, 2.0, 4.0, 4.0, 4.0, 4.0, 3.0, 5.0, 5.0, 1.0, 4.0, 5.0, 4.0, 5.0, 5.0, 5.0, 5.0, 4.0, 5.0, 2.0, 1.0, 5.0, 5.0, 3.0, 3.0, 3.0, 5.0, 4.0, 4.0, 1.0, 4.0, 5.0, 5.0, 4.0, 5.0, 5.0, 5.0, 5.0, 5.0, 5.0, 5.0, 2.0, 3.0, 5.0, 5.0, 5.0, 5.0, 2.0, 5.0, 5.0, 5.0, 5.0, 3.0, 5.0, 3.0, 4.0, 4.0, 4.0, 5.0, 4.0, 5.0, 5.0, 5.0, 4.0, 5.0, 5.0, 5.0, 5.0, 5.0, 5.0, 4.0, 4.0, 2.0, 5.0, 5.0, 5.0, 5.0, 3.0, 4.0, 4.0, 4.0, 5.0, 5.0, 3.0, 1.0, 2.0, 3.0, 4.0, 4.0, 4.0, 5.0, 5.0, 5.0, 4.0, 4.0, 2.0, 5.0, 5.0, 5.0, 3.0, 5.0, 1.0, 5.0, 2.0, 5.0, 3.0, 4.0, 3.0, 2.0, 2.0, 4.0, 5.0, 4.0, 5.0, 5.0, 2.0, 4.0, 4.0, 5.0, 5.0, 1.0, 3.0, 4.0, 4.0, 5.0, 5.0, 3.0, 5.0, 3.0, 3.0, 3.0, 3.0, 3.0, 4.0, 3.0, 2.0, 5.0, 5.0, 5.0, 5.0, 4.0, 3.0, 4.0, 5.0, 4.0, 4.0, 3.0, 5.0, 4.0, 4.0, 2.0, 5.0, 3.0, 4.0, 5.0, 4.0, 3.0, 3.0, 2.0, 2.0, 4.0, 5.0, 4.0, 4.0, 4.0, 5.0, 3.0, 2.0, 3.0, 2.0, 5.0, 4.0, 5.0, 1.0, 3.0, 5.0, 4.0, 4.0, 5.0, 4.0, 5.0, 5.0, 4.0, 5.0, 5.0, 5.0, 5.0, 5.0, 4.0, 5.0, 4.0, 4.0, 5.0, 4.0, 5.0, 4.0, 5.0, 4.0, 5.0, 3.0, 5.0, 1.0, 3.0, 3.0, 5.0, 5.0, 4.0, 2.0, 4.0, 5.0, 4.0, 4.0, 4.0, 5.0, 5.0, 1.0, 3.0, 5.0, 5.0, 2.0, 4.0, 5.0, 5.0, 5.0, 3.0, 4.0, 5.0, 5.0, 1.0, 4.0, 1.0, 4.0, 5.0, 2.0, 3.0, 5.0, 4.0, 4.0, 2.0, 2.0, 4.0, 3.0, 5.0, 2.0, 3.0, 5.0, 5.0, 5.0, 3.0, 5.0, 5.0, 4.0, 5.0, 4.0, 4.0, 5.0, 4.0, 4.0, 5.0, 5.0, 5.0, 5.0, 4.0, 5.0, 3.0, 5.0, 5.0, 1.0, 4.0, 3.0, 3.0, 5.0, 4.0, 3.0, 4.0, 5.0, 4.0, 3.0, 5.0, 5.0, 5.0, 1.0, 3.0, 3.0, 5.0, 4.0, 5.0, 5.0, 4.0, 1.0, 5.0, 1.0, 1.0, 5.0, 1.0, 4.0, 5.0, 5.0, 5.0, 1.0, 4.0, 5.0, 2.0, 5.0, 1.0, 4.0, 5.0, 5.0, 5.0, 5.0, 4.0, 5.0, 3.0, 5.0, 2.0, 5.0, 5.0, 1.0, 1.0, 5.0, 5.0, 5.0, 5.0, 5.0, 4.0, 3.0, 5.0, 3.0, 5.0, 5.0, 1.0, 4.0, 5.0, 5.0, 3.0, 5.0, 4.0, 5.0, 5.0, 5.0, 3.0, 1.0, 5.0, 5.0, 4.0, 5.0, 3.0, 4.0, 5.0, 3.0, 5.0, 5.0, 2.0, 5.0, 4.0, 4.0, 5.0, 4.0, 4.0, 5.0, 4.0, 3.0, 1.0, 2.0, 5.0, 2.0, 5.0, 1.0, 5.0, 5.0, 5.0, 2.0, 4.0, 5.0, 5.0, 5.0, 5.0, 5.0, 4.0, 4.0, 5.0, 5.0, 3.0, 1.0, 5.0, 4.0, 4.0, 5.0, 5.0, 5.0, 4.0, 5.0, 5.0, 2.0, 1.0, 3.0, 2.0, 3.0, 4.0, 5.0, 5.0, 4.0, 5.0, 1.0, 3.0, 4.0, 4.0, 3.0, 1.0, 5.0, 5.0, 4.0, 2.0, 5.0, 3.0, 4.0, 4.0, 5.0, 1.0, 1.0, 3.0, 5.0, 1.0, 1.0, 3.0, 4.0, 4.0, 3.0, 4.0, 5.0, 3.0, 4.0, 4.0, 5.0, 3.0, 5.0, 5.0, 5.0, 3.0, 5.0, 5.0, 5.0, 4.0, 5.0, 5.0, 5.0, 1.0, 4.0, 5.0, 5.0, 4.0, 1.0, 5.0, 4.0, 4.0, 5.0, 1.0, 2.0, 5.0, 5.0, 5.0, 4.0, 5.0, 5.0, 3.0, 4.0, 4.0, 5.0, 3.0, 5.0, 4.0, 5.0, 1.0, 3.0, 4.0, 3.0, 5.0, 5.0, 5.0, 1.0, 5.0, 5.0, 5.0, 3.0, 4.0, 4.0, 5.0, 5.0, 5.0, 5.0, 5.0, 3.0, 5.0, 5.0, 5.0, 2.0, 5.0, 1.0, 5.0, 3.0, 5.0, 5.0, 3.0, 5.0, 4.0, 5.0, 2.0, 5.0, 1.0, 5.0, 1.0, 1.0, 4.0, 5.0, 5.0, 1.0, 5.0, 3.0, 3.0, 3.0, 4.0, 5.0, 5.0, 4.0, 5.0, 5.0, 1.0, 4.0, 5.0, 4.0, 4.0, 3.0, 2.0, 5.0, 4.0, 4.0, 4.0, 4.0, 5.0, 5.0, 4.0, 5.0, 2.0, 2.0, 4.0, 4.0, 4.0, 4.0, 2.0, 3.0, 4.0, 4.0, 4.0, 5.0, 1.0, 5.0, 3.0, 4.0, 5.0, 4.0, 5.0, 5.0, 5.0, 5.0, 4.0, 5.0, 4.0, 1.0, 3.0, 4.0, 1.0, 5.0, 3.0, 4.0, 4.0, 4.0, 5.0, 5.0, 5.0, 5.0, 5.0, 5.0, 3.0, 2.0, 5.0, 5.0, 5.0, 5.0, 4.0, 3.0, 5.0, 4.0, 3.0, 4.0, 4.0, 5.0, 5.0, 5.0, 3.0, 4.0, 1.0, 5.0, 5.0, 1.0, 5.0, 4.0, 5.0, 4.0, 5.0, 3.0, 5.0, 5.0, 4.0, 5.0, 5.0, 5.0, 5.0, 5.0, 5.0, 4.0, 2.0, 5.0, 5.0, 1.0, 5.0, 5.0, 5.0, 4.0, 3.0, 5.0, 4.0, 3.0, 1.0, 5.0, 4.0, 3.0, 5.0, 1.0, 5.0, 5.0, 1.0, 5.0, 5.0, 3.0, 3.0, 2.0, 5.0, 1.0, 5.0, 5.0, 4.0, 3.0, 2.0, 1.0, 5.0, 4.0, 5.0, 4.0, 5.0, 2.0, 5.0, 1.0, 5.0, 5.0, 4.0, 4.0, 5.0, 3.0, 4.0, 5.0, 5.0, 1.0, 5.0, 1.0, 5.0, 2.0, 4.0, 5.0, 5.0, 2.0, 5.0, 5.0, 1.0, 1.0, 3.0, 4.0, 5.0, 5.0, 4.0, 3.0, 4.0, 1.0, 4.0, 4.0, 2.0, 1.0, 5.0, 4.0, 3.0, 5.0, 5.0, 5.0, 5.0, 5.0, 5.0, 4.0, 2.0, 5.0, 3.0, 5.0, 5.0, 5.0, 5.0, 5.0, 1.0, 5.0, 1.0, 5.0, 4.0, 5.0, 4.0, 5.0, 2.0, 5.0, 5.0, 4.0, 3.0, 4.0, 5.0, 5.0, 5.0, 3.0, 5.0, 4.0, 4.0, 1.0, 5.0, 2.0, 4.0, 5.0, 4.0, 5.0, 1.0, 5.0, 4.0, 2.0, 4.0, 1.0, 2.0, 5.0, 4.0, 4.0, 1.0, 5.0, 5.0, 3.0, 4.0, 4.0, 5.0, 3.0, 4.0, 2.0, 4.0, 5.0, 2.0, 5.0, 1.0, 4.0, 3.0, 4.0, 5.0, 4.0, 4.0, 5.0, 4.0, 4.0, 4.0, 5.0, 4.0, 1.0, 4.0, 1.0, 5.0, 3.0, 3.0, 5.0, 4.0, 4.0, 1.0, 5.0, 3.0, 5.0, 5.0, 4.0, 1.0, 1.0, 4.0, 5.0, 5.0, 1.0, 1.0, 3.0, 4.0, 4.0, 4.0, 4.0, 5.0, 4.0, 4.0, 5.0, 1.0, 5.0, 5.0, 4.0, 2.0, 1.0, 5.0, 1.0, 1.0, 5.0, 5.0, 4.0, 5.0, 5.0, 3.0, 5.0, 4.0, 5.0, 3.0, 2.0, 5.0, 5.0, 2.0, 3.0, 2.0, 5.0, 4.0, 5.0, 5.0, 3.0, 5.0, 5.0, 2.0, 3.0, 3.0, 5.0, 1.0, 5.0, 1.0, 4.0, 4.0, 5.0, 5.0, 5.0, 2.0, 5.0, 5.0, 4.0, 1.0, 5.0, 5.0, 4.0, 5.0, 3.0, 5.0, 5.0, 3.0, 5.0, 4.0, 5.0, 3.0, 5.0, 3.0, 4.0, 5.0, 1.0, 5.0, 5.0, 3.0, 2.0, 3.0, 4.0, 1.0, 5.0, 5.0, 5.0, 3.0, 4.0, 5.0, 2.0, 3.0, 4.0, 4.0, 3.0, 5.0, 5.0, 5.0, 5.0, 4.0, 3.0, 5.0, 5.0, 4.0, 5.0, 4.0, 2.0, 4.0, 5.0, 4.0, 4.0, 5.0, 4.0, 5.0, 4.0, 5.0, 3.0, 1.0, 5.0, 1.0, 5.0, 4.0, 1.0, 4.0, 3.0, 5.0, 3.0, 3.0, 2.0, 4.0, 3.0, 5.0, 1.0, 3.0, 5.0, 5.0, 4.0, 5.0, 4.0, 3.0, 2.0, 4.0, 5.0, 2.0, 5.0, 2.0, 1.0, 5.0, 5.0, 4.0, 3.0, 5.0, 2.0, 2.0, 5.0, 5.0, 4.0, 5.0, 4.0, 4.0, 5.0, 2.0, 4.0, 4.0, 3.0, 5.0, 4.0, 4.0, 5.0, 5.0, 2.0, 5.0, 5.0, 2.0, 5.0, 5.0, 5.0, 5.0, 5.0, 4.0, 4.0, 5.0, 5.0, 4.0, 2.0, 1.0, 5.0, 5.0, 5.0, 4.0, 4.0, 4.0, 2.0, 2.0, 3.0, 4.0, 5.0, 2.0, 4.0, 5.0, 1.0, 3.0, 4.0, 5.0, 2.0, 1.0, 5.0, 3.0, 5.0, 5.0, 5.0, 2.0, 3.0, 3.0, 4.0, 4.0, 5.0, 5.0, 4.0, 3.0, 3.0, 4.0, 4.0, 5.0, 4.0, 5.0, 5.0, 5.0, 4.0, 5.0, 5.0, 5.0, 5.0, 5.0, 2.0, 1.0, 5.0, 3.0, 4.0, 5.0, 5.0, 2.0, 3.0, 5.0, 2.0, 4.0, 5.0, 5.0, 5.0, 2.0, 4.0, 5.0, 5.0, 3.0, 3.0, 5.0, 4.0, 5.0, 5.0, 2.0, 2.0, 5.0, 3.0, 5.0, 5.0, 4.0, 5.0, 4.0, 2.0, 4.0, 4.0, 5.0, 1.0, 4.0, 3.0, 3.0, 5.0, 5.0, 4.0, 5.0, 4.0, 3.0, 5.0, 4.0, 5.0, 3.0, 4.0, 5.0, 4.0, 3.0, 5.0, 5.0, 2.0, 2.0, 5.0, 3.0, 1.0, 4.0, 5.0, 4.0, 1.0, 4.0, 5.0, 4.0, 4.0, 5.0, 4.0, 2.0, 1.0, 5.0, 3.0, 3.0, 5.0, 5.0, 5.0, 1.0, 5.0, 4.0, 4.0, 2.0, 3.0, 4.0, 5.0, 4.0, 5.0, 5.0, 3.0, 3.0, 3.0, 3.0, 2.0, 4.0, 4.0, 5.0, 4.0, 4.0, 5.0, 3.0, 1.0, 5.0, 5.0, 5.0, 5.0, 2.0, 5.0, 4.0, 4.0, 4.0, 5.0, 4.0, 3.0, 4.0, 5.0, 4.0, 5.0, 4.0, 5.0, 3.0, 1.0, 4.0, 5.0, 5.0, 4.0, 3.0, 5.0, 3.0, 4.0, 5.0, 1.0, 5.0, 5.0, 4.0, 1.0, 5.0, 5.0, 5.0, 4.0, 2.0, 4.0, 2.0, 3.0, 4.0, 5.0, 4.0, 4.0, 5.0, 3.0, 5.0, 4.0, 5.0, 2.0, 3.0, 4.0, 5.0, 2.0, 5.0, 5.0, 1.0, 4.0, 5.0, 3.0, 5.0, 5.0, 4.0, 1.0, 3.0, 4.0, 4.0, 3.0, 4.0, 5.0, 5.0, 4.0, 5.0, 4.0, 5.0, 5.0, 2.0, 3.0, 5.0, 5.0, 5.0, 1.0, 4.0, 5.0, 5.0, 1.0, 3.0, 5.0, 4.0, 3.0, 5.0, 5.0, 1.0, 3.0, 4.0, 1.0, 5.0, 5.0, 5.0, 3.0, 3.0, 5.0, 5.0, 4.0, 3.0, 4.0, 5.0, 5.0, 5.0, 4.0, 5.0, 3.0, 5.0, 2.0, 5.0, 5.0, 5.0, 4.0, 3.0, 5.0, 4.0, 3.0, 5.0, 5.0, 5.0, 1.0, 5.0, 5.0, 5.0, 4.0, 5.0, 5.0, 4.0, 5.0, 4.0, 4.0, 3.0, 5.0, 5.0, 3.0, 3.0, 3.0, 4.0, 5.0, 3.0, 5.0, 5.0, 5.0, 5.0, 3.0, 1.0, 5.0, 5.0, 5.0, 5.0, 4.0, 5.0, 5.0, 5.0, 5.0, 4.0, 5.0, 2.0, 5.0, 4.0, 4.0, 4.0, 5.0, 5.0, 4.0, 5.0, 3.0, 4.0, 5.0, 3.0, 5.0, 5.0, 3.0, 2.0, 5.0, 4.0, 4.0, 5.0, 5.0, 2.0, 4.0, 2.0, 2.0, 5.0, 5.0, 3.0, 3.0, 4.0, 4.0, 4.0, 5.0, 4.0, 5.0, 3.0, 4.0, 3.0, 5.0, 3.0, 4.0, 1.0, 5.0, 5.0, 4.0, 5.0, 5.0, 5.0, 3.0, 4.0, 5.0, 5.0, 3.0, 4.0, 4.0, 4.0, 5.0, 5.0, 4.0, 4.0, 5.0, 5.0, 4.0, 4.0, 1.0, 3.0, 5.0, 3.0, 4.0, 5.0, 3.0, 3.0, 4.0, 4.0, 4.0, 4.0, 5.0, 5.0, 5.0, 5.0, 4.0, 5.0, 2.0, 4.0, 2.0, 5.0, 4.0, 5.0, 1.0, 2.0, 4.0, 5.0, 1.0, 1.0, 5.0, 5.0, 2.0, 4.0, 5.0, 5.0, 1.0, 2.0, 3.0, 3.0, 5.0, 5.0, 2.0, 4.0, 4.0, 5.0, 5.0, 4.0, 4.0, 5.0, 4.0, 5.0, 5.0, 5.0, 3.0, 2.0, 2.0, 4.0, 5.0, 3.0, 5.0, 3.0, 5.0, 4.0, 5.0, 4.0, 2.0, 5.0, 5.0, 5.0, 5.0, 5.0, 4.0, 5.0, 5.0, 2.0, 4.0, 3.0, 3.0, 4.0, 1.0, 5.0, 5.0, 5.0, 3.0, 5.0, 3.0, 1.0, 5.0, 2.0, 3.0, 2.0, 2.0, 4.0, 4.0, 3.0, 4.0, 5.0, 5.0, 2.0, 5.0, 4.0, 4.0, 2.0, 4.0, 3.0, 5.0, 3.0, 5.0, 5.0, 5.0, 4.0, 5.0, 1.0, 4.0, 4.0, 5.0, 4.0, 5.0, 5.0, 4.0, 1.0, 4.0, 2.0, 4.0, 4.0, 1.0, 5.0, 4.0, 5.0, 4.0, 2.0, 4.0, 5.0, 5.0, 1.0, 5.0, 4.0, 5.0, 4.0, 5.0, 5.0, 3.0, 4.0, 5.0, 4.0, 4.0, 5.0, 2.0, 5.0, 5.0, 5.0, 5.0, 4.0, 3.0, 5.0, 2.0, 5.0, 4.0, 2.0, 5.0, 3.0, 5.0, 5.0, 4.0, 3.0, 5.0, 5.0, 5.0, 1.0, 1.0, 5.0, 3.0, 2.0, 4.0, 3.0, 5.0, 5.0, 5.0, 4.0, 5.0, 5.0, 4.0, 5.0, 1.0, 1.0, 4.0, 3.0, 5.0, 1.0, 5.0, 4.0, 5.0, 5.0, 4.0, 5.0, 4.0, 5.0, 5.0, 5.0, 3.0, 4.0, 5.0, 4.0, 5.0, 5.0, 2.0, 2.0, 5.0, 1.0, 5.0, 1.0, 4.0, 5.0, 4.0, 4.0, 5.0, 5.0, 5.0, 3.0, 5.0, 3.0, 3.0, 5.0, 4.0, 5.0, 5.0, 1.0, 4.0, 4.0, 5.0, 4.0, 5.0, 2.0, 4.0, 4.0, 5.0, 1.0, 5.0, 3.0, 1.0, 1.0, 4.0, 5.0, 5.0, 4.0, 5.0, 5.0, 4.0, 4.0, 5.0, 5.0, 5.0, 5.0, 5.0, 5.0, 5.0, 1.0, 4.0, 5.0, 5.0, 5.0, 2.0, 5.0, 5.0, 4.0, 5.0, 5.0, 3.0, 5.0, 2.0, 4.0, 3.0, 5.0, 5.0, 1.0, 5.0, 5.0, 5.0, 5.0, 5.0, 3.0, 3.0, 4.0, 5.0, 4.0, 3.0, 1.0, 1.0, 3.0, 5.0, 5.0, 5.0, 4.0, 4.0, 5.0, 1.0, 3.0, 3.0, 4.0, 5.0, 4.0, 5.0, 4.0, 5.0, 2.0, 4.0, 5.0, 3.0, 5.0, 5.0, 5.0, 5.0, 5.0, 5.0, 5.0, 1.0, 5.0, 4.0, 5.0, 5.0, 5.0, 3.0, 3.0, 5.0, 2.0, 5.0, 5.0, 4.0, 5.0, 4.0, 3.0, 5.0, 5.0, 5.0, 2.0, 5.0, 4.0, 5.0, 4.0, 4.0, 5.0, 5.0, 4.0, 5.0, 2.0, 5.0, 5.0, 5.0, 4.0, 3.0, 5.0, 4.0, 5.0, 2.0, 5.0, 4.0, 5.0, 3.0, 4.0, 1.0, 1.0, 3.0, 4.0, 5.0, 5.0, 4.0, 1.0, 3.0, 2.0, 5.0, 5.0, 4.0, 5.0, 2.0, 3.0, 2.0, 4.0, 5.0, 4.0, 5.0, 2.0, 5.0, 5.0, 4.0, 5.0, 3.0, 2.0, 5.0, 4.0, 5.0, 5.0, 4.0, 5.0, 5.0, 5.0, 5.0, 5.0, 4.0, 5.0, 4.0, 1.0, 4.0, 2.0, 4.0, 4.0, 4.0, 3.0, 4.0, 3.0, 4.0, 4.0, 5.0, 5.0, 4.0, 3.0, 4.0, 5.0, 5.0, 5.0, 5.0, 5.0, 4.0, 5.0, 5.0, 5.0, 2.0, 5.0, 5.0, 5.0, 4.0, 5.0, 3.0, 4.0, 5.0, 1.0, 5.0, 5.0, 1.0, 5.0, 5.0, 5.0, 5.0, 4.0, 5.0, 5.0, 1.0, 3.0, 4.0, 5.0, 4.0, 5.0, 5.0, 2.0, 5.0, 4.0, 5.0, 4.0, 5.0, 5.0, 3.0, 3.0, 3.0, 5.0, 3.0, 4.0, 5.0, 2.0, 5.0, 3.0, 5.0, 4.0, 5.0, 5.0, 5.0, 3.0, 5.0, 3.0, 3.0, 5.0, 4.0, 1.0, 3.0, 4.0, 4.0, 2.0, 4.0, 4.0, 3.0, 3.0, 3.0, 5.0, 1.0, 4.0, 4.0, 4.0, 2.0, 5.0, 3.0, 2.0, 4.0, 5.0, 4.0, 1.0, 5.0, 4.0, 3.0, 4.0, 2.0, 5.0, 4.0, 4.0, 5.0, 3.0, 4.0, 4.0, 5.0, 4.0, 4.0, 4.0, 3.0, 4.0, 5.0, 4.0, 5.0, 1.0, 5.0, 2.0, 5.0, 4.0, 5.0, 3.0, 3.0, 5.0, 5.0, 5.0, 4.0, 5.0, 3.0, 5.0, 3.0, 3.0, 4.0, 5.0, 5.0, 5.0, 3.0, 4.0, 2.0, 5.0, 5.0, 5.0, 4.0, 2.0, 3.0, 1.0, 4.0, 3.0, 4.0, 4.0, 4.0, 4.0, 3.0, 3.0, 1.0, 5.0, 4.0, 3.0, 5.0, 4.0, 5.0, 5.0, 5.0, 4.0, 5.0, 5.0, 5.0, 3.0, 5.0, 1.0, 5.0, 4.0, 5.0, 4.0, 5.0, 5.0, 5.0, 1.0, 5.0, 4.0, 5.0, 4.0, 5.0, 5.0, 5.0, 5.0, 2.0, 4.0, 5.0, 4.0, 3.0, 4.0, 5.0, 1.0, 5.0, 3.0, 4.0, 5.0, 4.0, 3.0, 5.0, 1.0, 2.0, 3.0, 5.0, 4.0, 4.0, 3.0, 5.0, 5.0, 5.0, 4.0, 5.0, 5.0, 3.0, 2.0, 1.0, 5.0, 4.0, 2.0, 1.0, 5.0, 5.0, 1.0, 3.0, 5.0, 5.0, 5.0, 3.0, 2.0, 5.0, 3.0, 2.0, 3.0, 4.0, 4.0, 4.0, 3.0, 4.0, 4.0, 5.0, 1.0, 5.0, 4.0, 5.0, 4.0, 5.0, 4.0, 5.0, 4.0, 5.0, 4.0, 1.0, 5.0, 3.0, 5.0, 5.0, 5.0, 5.0, 4.0, 2.0, 5.0, 2.0, 4.0, 4.0, 5.0, 2.0, 5.0, 5.0, 4.0, 5.0, 5.0, 4.0, 1.0, 3.0, 5.0, 5.0, 5.0, 3.0, 4.0, 3.0, 5.0, 5.0, 5.0, 1.0, 4.0, 3.0, 5.0, 5.0, 5.0, 4.0, 5.0, 5.0, 5.0, 3.0, 4.0, 1.0, 1.0, 3.0, 4.0, 2.0, 5.0, 5.0, 4.0, 3.0, 5.0, 4.0, 4.0, 4.0, 1.0, 5.0, 1.0, 4.0, 5.0, 5.0, 4.0, 5.0, 4.0, 3.0, 3.0, 5.0, 3.0, 4.0, 5.0, 4.0, 4.0, 5.0, 3.0, 4.0, 5.0, 5.0, 4.0, 5.0, 4.0, 1.0, 2.0, 4.0, 5.0, 2.0, 4.0, 4.0, 5.0, 1.0, 1.0, 3.0, 5.0, 4.0, 4.0, 3.0, 3.0, 5.0, 3.0, 3.0, 2.0, 2.0, 5.0, 5.0, 2.0, 5.0, 5.0, 5.0, 5.0, 4.0, 3.0, 4.0, 5.0, 3.0, 4.0, 4.0, 4.0, 5.0, 5.0, 5.0, 4.0, 4.0, 4.0, 5.0, 4.0, 5.0, 3.0, 5.0, 5.0, 5.0, 5.0, 5.0, 5.0, 4.0, 1.0, 3.0, 4.0, 3.0, 3.0, 5.0, 5.0, 1.0, 5.0, 4.0, 4.0, 5.0, 5.0, 5.0, 4.0, 4.0, 4.0, 5.0, 5.0, 5.0, 5.0, 4.0, 5.0, 3.0, 5.0, 3.0, 5.0, 5.0, 5.0, 2.0, 4.0, 4.0, 4.0, 4.0, 5.0, 5.0, 5.0, 5.0, 5.0, 4.0, 5.0, 4.0, 4.0, 5.0, 3.0, 1.0, 1.0, 4.0, 3.0, 5.0, 3.0, 4.0, 3.0, 3.0, 5.0, 3.0, 5.0, 4.0, 4.0, 5.0, 3.0, 2.0, 5.0, 5.0, 3.0, 5.0, 4.0, 5.0, 5.0, 5.0, 4.0, 5.0, 3.0, 1.0, 5.0, 2.0, 4.0, 5.0, 5.0, 4.0, 5.0, 4.0, 1.0, 4.0, 5.0, 4.0, 4.0, 5.0, 4.0, 4.0, 5.0, 4.0, 3.0, 2.0, 5.0, 5.0, 5.0, 3.0, 1.0, 5.0, 5.0, 2.0, 5.0, 4.0, 5.0, 4.0, 4.0, 4.0, 4.0, 3.0, 3.0, 5.0, 5.0, 5.0, 5.0, 4.0, 1.0, 3.0, 5.0, 4.0, 3.0, 4.0, 5.0, 5.0, 2.0, 5.0, 5.0, 5.0, 5.0, 3.0, 3.0, 5.0, 5.0, 3.0, 4.0, 2.0, 5.0, 5.0, 5.0, 5.0, 5.0, 5.0, 5.0, 2.0, 4.0, 2.0, 5.0, 5.0, 2.0, 4.0, 5.0, 4.0, 1.0, 5.0, 4.0, 5.0, 4.0, 3.0, 5.0, 4.0, 1.0, 1.0, 5.0, 4.0, 5.0, 5.0, 4.0, 2.0, 5.0, 5.0, 3.0, 4.0, 5.0, 2.0, 4.0, 5.0, 5.0, 3.0, 5.0, 5.0, 4.0, 4.0, 5.0, 5.0, 4.0, 4.0, 4.0, 5.0, 1.0, 2.0, 5.0, 5.0, 5.0, 3.0, 5.0, 4.0, 5.0, 5.0, 5.0, 5.0, 4.0, 5.0, 5.0, 5.0, 5.0, 4.0, 4.0, 4.0, 5.0, 5.0, 5.0, 3.0, 5.0, 5.0, 5.0, 3.0, 2.0, 4.0, 5.0, 4.0, 5.0, 4.0, 5.0, 5.0, 4.0, 5.0, 5.0, 4.0, 4.0, 4.0, 5.0, 5.0, 4.0, 4.0, 4.0, 4.0, 5.0, 4.0, 5.0, 4.0, 4.0, 1.0, 2.0, 4.0, 4.0, 5.0, 5.0, 5.0, 5.0, 3.0, 1.0, 5.0, 4.0, 5.0, 1.0, 4.0, 5.0, 5.0, 4.0, 2.0, 3.0, 5.0, 5.0, 3.0, 4.0, 5.0, 5.0, 5.0, 4.0, 3.0, 2.0, 5.0, 4.0, 5.0, 4.0, 4.0, 2.0, 4.0, 5.0, 4.0, 5.0, 5.0, 4.0, 4.0, 1.0, 4.0, 5.0, 5.0, 4.0, 4.0, 5.0, 1.0, 4.0, 5.0, 5.0, 2.0, 5.0, 5.0, 1.0, 5.0, 3.0, 3.0, 3.0, 5.0, 2.0, 3.0, 4.0, 5.0, 3.0, 1.0, 5.0, 3.0, 5.0, 4.0, 4.0, 3.0, 2.0, 4.0, 3.0, 5.0, 4.0, 4.0, 4.0, 4.0, 5.0, 3.0, 5.0, 1.0, 1.0, 3.0, 5.0, 5.0, 5.0, 4.0, 2.0, 3.0, 4.0, 4.0, 4.0, 4.0, 5.0, 4.0, 3.0, 3.0, 5.0, 4.0, 2.0, 3.0, 1.0, 5.0, 1.0, 5.0, 4.0, 5.0, 5.0, 4.0, 2.0, 3.0, 4.0, 5.0, 5.0, 4.0, 4.0, 1.0, 5.0, 4.0, 5.0, 5.0, 5.0, 4.0, 5.0, 3.0, 4.0, 4.0, 5.0, 4.0, 4.0, 3.0, 5.0, 5.0, 1.0, 4.0, 4.0, 4.0, 5.0, 2.0, 5.0, 4.0, 4.0, 3.0, 2.0, 3.0, 3.0, 5.0, 3.0, 1.0, 1.0, 4.0, 3.0, 2.0, 4.0, 4.0, 1.0, 5.0, 1.0, 5.0, 4.0, 2.0, 5.0, 5.0, 5.0, 4.0, 3.0, 3.0, 3.0, 3.0, 4.0, 5.0, 2.0, 5.0, 4.0, 4.0, 3.0, 5.0, 5.0, 5.0, 4.0, 4.0, 2.0, 3.0, 4.0, 5.0, 1.0, 2.0, 5.0, 5.0, 3.0, 1.0, 3.0, 5.0, 3.0, 5.0, 5.0, 4.0, 3.0, 4.0, 4.0, 3.0, 3.0, 5.0, 4.0, 1.0, 3.0, 3.0, 3.0, 4.0, 4.0, 4.0, 5.0, 5.0, 4.0, 5.0, 5.0, 5.0, 5.0, 5.0, 5.0, 5.0, 4.0, 4.0, 5.0, 5.0, 4.0, 1.0, 1.0, 5.0, 4.0, 4.0, 4.0, 3.0, 4.0, 4.0, 3.0, 2.0, 1.0, 2.0, 4.0, 5.0, 4.0, 5.0, 3.0, 3.0, 4.0, 4.0, 5.0, 3.0, 5.0, 3.0, 4.0, 4.0, 4.0, 4.0, 5.0, 5.0, 5.0, 4.0, 3.0, 5.0, 1.0, 5.0, 5.0, 1.0, 5.0, 3.0, 5.0, 2.0, 4.0, 5.0, 5.0, 5.0, 5.0, 5.0, 5.0, 5.0, 4.0, 4.0, 5.0, 5.0, 4.0, 5.0, 3.0, 4.0, 1.0, 5.0, 4.0, 1.0, 3.0, 5.0, 5.0, 4.0, 5.0, 3.0, 5.0, 2.0, 4.0, 3.0, 4.0, 3.0, 1.0, 3.0, 3.0, 4.0, 4.0, 1.0, 3.0, 5.0, 5.0, 2.0, 5.0, 2.0, 2.0, 5.0, 4.0, 4.0, 5.0, 2.0, 5.0, 5.0, 5.0, 3.0, 4.0, 5.0, 3.0, 4.0, 1.0, 5.0, 3.0, 5.0, 4.0, 4.0, 2.0, 5.0, 4.0, 3.0, 5.0, 3.0, 4.0, 3.0, 5.0, 4.0, 4.0, 3.0, 5.0, 2.0, 4.0, 3.0, 5.0, 5.0, 5.0, 3.0, 1.0, 4.0, 3.0, 5.0, 5.0, 1.0, 4.0, 5.0, 5.0, 5.0, 4.0, 5.0, 4.0, 4.0, 5.0, 5.0, 5.0, 5.0, 4.0, 4.0, 2.0, 5.0, 4.0, 5.0, 4.0, 5.0, 5.0, 5.0, 4.0, 3.0, 4.0, 5.0, 5.0, 5.0, 5.0, 1.0, 5.0, 5.0, 5.0, 2.0, 3.0, 4.0, 3.0, 5.0, 5.0, 5.0, 4.0, 3.0, 4.0, 5.0, 4.0, 3.0, 4.0, 3.0, 5.0, 4.0, 5.0, 4.0, 5.0, 3.0, 5.0, 5.0, 1.0, 5.0, 5.0, 3.0, 4.0, 5.0, 4.0, 5.0, 4.0, 5.0, 5.0, 4.0, 4.0, 5.0, 5.0, 5.0, 2.0, 5.0, 3.0, 5.0, 4.0, 5.0, 5.0, 2.0, 4.0, 4.0, 4.0, 4.0, 5.0, 5.0, 5.0, 3.0, 1.0, 5.0, 3.0, 2.0, 4.0, 4.0, 5.0, 4.0, 3.0, 3.0, 2.0, 4.0, 5.0, 1.0, 4.0, 5.0, 4.0, 4.0, 5.0, 1.0, 5.0, 5.0, 1.0, 5.0, 4.0, 3.0, 2.0, 5.0, 4.0, 4.0, 1.0, 4.0, 5.0, 5.0, 2.0, 3.0, 3.0, 5.0, 5.0, 5.0, 5.0, 4.0, 1.0, 4.0, 4.0, 5.0, 5.0, 5.0, 1.0, 3.0, 5.0, 4.0, 5.0, 5.0, 4.0, 4.0, 1.0, 5.0, 2.0, 5.0, 4.0, 3.0, 3.0, 4.0, 5.0, 5.0, 4.0, 5.0, 5.0, 4.0, 3.0, 3.0, 5.0, 4.0, 5.0, 3.0, 4.0, 4.0, 1.0, 5.0, 5.0, 5.0, 5.0, 5.0, 4.0, 5.0, 5.0, 5.0, 3.0, 5.0, 4.0, 4.0, 1.0, 5.0, 5.0, 5.0, 4.0, 5.0, 3.0, 5.0, 5.0, 4.0, 5.0, 3.0, 5.0, 4.0, 5.0, 4.0, 4.0, 5.0, 4.0, 4.0, 4.0, 5.0, 5.0, 3.0, 1.0, 2.0, 5.0, 1.0, 5.0, 4.0, 4.0, 3.0, 5.0, 5.0, 3.0, 4.0, 5.0, 5.0, 4.0, 5.0, 3.0, 4.0, 5.0, 4.0, 2.0, 3.0, 3.0, 4.0, 4.0, 5.0, 4.0, 4.0, 5.0, 4.0, 4.0, 4.0, 2.0, 5.0, 4.0, 4.0, 1.0, 4.0, 3.0, 4.0, 3.0, 3.0, 5.0, 4.0, 2.0, 5.0, 5.0, 4.0, 5.0, 5.0, 4.0, 5.0, 5.0, 4.0, 4.0, 5.0, 5.0, 5.0, 5.0, 3.0, 5.0, 2.0, 3.0, 4.0, 5.0, 5.0, 5.0, 4.0, 3.0, 5.0, 5.0, 3.0, 3.0, 4.0, 1.0, 3.0, 5.0, 5.0, 3.0, 1.0, 4.0, 4.0, 5.0, 5.0, 5.0, 5.0, 5.0, 5.0, 5.0, 3.0, 4.0, 1.0, 3.0, 3.0, 1.0, 3.0, 5.0, 5.0, 5.0, 5.0, 3.0, 3.0, 3.0, 4.0, 5.0, 4.0, 4.0, 4.0, 4.0, 1.0, 5.0, 3.0, 4.0, 5.0, 5.0, 5.0, 1.0, 5.0, 5.0, 5.0, 4.0, 5.0, 4.0, 3.0, 4.0, 4.0, 1.0, 5.0, 5.0, 5.0, 4.0, 5.0, 4.0, 3.0, 1.0, 4.0, 3.0, 5.0, 3.0, 3.0, 4.0, 3.0, 4.0, 3.0, 3.0, 4.0, 5.0, 4.0, 3.0, 1.0, 1.0, 5.0, 5.0, 5.0, 5.0, 2.0, 5.0, 3.0, 3.0, 5.0, 5.0, 3.0, 3.0, 5.0, 4.0, 5.0, 4.0, 3.0, 4.0, 5.0, 3.0, 2.0, 4.0, 5.0, 5.0, 4.0, 3.0, 5.0, 5.0, 5.0, 3.0, 5.0, 1.0, 3.0, 2.0, 5.0, 3.0, 5.0, 5.0, 4.0, 5.0, 4.0, 5.0, 4.0, 5.0, 5.0, 3.0, 4.0, 5.0, 5.0, 5.0, 3.0, 3.0, 2.0, 4.0, 5.0, 2.0, 4.0, 4.0, 5.0, 1.0, 3.0, 1.0, 1.0, 5.0, 5.0, 4.0, 4.0, 2.0, 5.0, 4.0, 3.0, 5.0, 5.0, 5.0, 5.0, 3.0, 5.0, 5.0, 5.0, 4.0, 5.0, 2.0, 1.0, 5.0, 4.0, 2.0, 5.0, 5.0, 4.0, 4.0, 2.0, 1.0, 4.0, 3.0, 3.0, 5.0, 4.0, 2.0, 3.0, 5.0, 2.0, 1.0, 4.0, 4.0, 5.0, 4.0, 4.0, 5.0, 5.0, 5.0, 1.0, 4.0, 2.0, 4.0, 4.0, 4.0, 3.0, 4.0, 1.0, 3.0, 5.0, 5.0, 4.0, 3.0, 3.0, 5.0, 5.0, 5.0, 3.0, 3.0, 5.0, 4.0, 4.0, 5.0, 3.0, 5.0, 4.0, 5.0, 2.0, 5.0, 5.0, 3.0, 1.0, 5.0, 5.0, 4.0, 5.0, 3.0, 5.0, 4.0, 5.0, 5.0, 5.0, 3.0, 4.0, 5.0, 2.0, 5.0, 4.0, 4.0, 5.0, 4.0, 5.0, 1.0, 5.0, 5.0, 4.0, 1.0, 3.0, 4.0, 5.0, 5.0, 5.0, 5.0, 3.0, 3.0, 5.0, 5.0, 3.0, 3.0, 4.0, 5.0, 3.0, 2.0, 5.0, 4.0, 4.0, 5.0, 2.0, 5.0, 4.0, 5.0, 5.0, 1.0, 5.0, 1.0, 4.0, 5.0, 5.0, 5.0, 2.0, 5.0, 5.0, 5.0, 5.0, 5.0, 5.0, 1.0, 5.0, 4.0, 5.0, 2.0, 4.0, 5.0, 5.0, 5.0, 2.0, 2.0, 3.0, 5.0, 5.0, 4.0, 3.0, 5.0, 5.0, 5.0, 2.0, 5.0, 5.0, 5.0, 5.0, 5.0, 4.0, 5.0, 4.0, 5.0, 5.0, 4.0, 4.0, 4.0, 5.0, 4.0, 4.0, 3.0, 4.0, 5.0, 4.0, 3.0, 3.0, 5.0, 5.0, 4.0, 5.0, 4.0, 2.0, 4.0, 1.0, 4.0, 4.0, 5.0, 4.0, 5.0, 4.0, 4.0, 4.0, 3.0, 5.0, 4.0, 2.0, 5.0, 4.0, 4.0, 5.0, 5.0, 5.0, 5.0, 5.0, 5.0, 4.0, 5.0, 5.0, 4.0, 5.0, 5.0, 3.0, 5.0, 5.0, 3.0, 3.0, 4.0, 2.0, 5.0, 5.0, 5.0, 4.0, 5.0, 1.0, 5.0, 5.0, 4.0, 4.0, 3.0, 5.0, 2.0, 5.0, 4.0, 3.0, 5.0, 5.0, 5.0, 3.0, 3.0, 5.0, 4.0, 1.0, 3.0, 2.0, 4.0, 3.0, 1.0, 5.0, 4.0, 2.0, 5.0, 5.0, 4.0, 3.0, 2.0, 4.0, 5.0, 4.0, 3.0, 5.0, 2.0, 1.0, 4.0, 5.0, 5.0, 3.0, 5.0, 5.0, 5.0, 5.0, 1.0, 5.0, 4.0, 1.0, 5.0, 5.0, 5.0, 5.0, 4.0, 5.0, 3.0, 5.0, 1.0, 4.0, 4.0, 3.0, 5.0, 5.0, 3.0, 4.0, 4.0, 5.0, 5.0, 3.0, 1.0, 3.0, 2.0, 5.0, 5.0, 3.0, 5.0, 4.0, 2.0, 4.0, 2.0, 5.0, 3.0, 3.0, 4.0, 5.0, 5.0, 2.0, 5.0, 4.0, 5.0, 5.0, 5.0, 5.0, 5.0, 5.0, 5.0, 5.0, 5.0, 2.0, 4.0, 4.0, 5.0, 5.0, 5.0, 3.0, 4.0, 5.0, 5.0, 3.0, 4.0, 2.0, 5.0, 5.0, 4.0, 3.0, 4.0, 5.0, 5.0, 1.0, 4.0, 5.0, 3.0, 4.0, 3.0, 5.0, 4.0, 1.0, 2.0, 4.0, 4.0, 4.0, 2.0, 5.0, 3.0, 3.0, 4.0, 5.0, 4.0, 1.0, 5.0, 5.0, 1.0, 5.0, 5.0, 4.0, 4.0, 5.0, 3.0, 5.0, 5.0, 3.0, 5.0, 4.0, 4.0, 5.0, 1.0, 3.0, 4.0, 1.0, 3.0, 4.0, 1.0, 3.0, 5.0, 5.0, 4.0, 4.0, 1.0, 5.0, 5.0, 4.0, 4.0, 5.0, 5.0, 1.0, 5.0, 2.0, 4.0, 5.0, 5.0, 4.0, 5.0, 1.0, 5.0, 3.0, 4.0, 5.0, 3.0, 5.0, 5.0, 5.0, 3.0, 2.0, 5.0, 5.0, 4.0, 5.0, 3.0, 5.0, 5.0, 1.0, 4.0, 5.0, 5.0, 5.0, 3.0, 4.0, 4.0, 4.0, 3.0, 4.0, 5.0, 3.0, 3.0, 5.0, 1.0, 4.0, 2.0, 4.0, 2.0, 1.0, 5.0, 5.0, 3.0, 1.0, 4.0, 4.0, 4.0, 3.0, 3.0, 4.0, 5.0, 3.0, 5.0, 3.0, 5.0, 3.0, 5.0, 5.0, 2.0, 4.0, 4.0, 5.0, 4.0, 1.0, 4.0, 3.0, 5.0, 5.0, 4.0, 4.0, 5.0, 5.0, 3.0, 4.0, 5.0, 4.0, 1.0, 5.0, 3.0, 5.0, 4.0, 5.0, 4.0, 4.0, 3.0, 5.0, 4.0, 3.0, 2.0, 5.0, 1.0, 3.0, 4.0, 4.0, 2.0, 5.0, 3.0, 4.0, 4.0, 2.0, 2.0, 4.0, 4.0, 5.0, 4.0, 4.0, 5.0, 5.0, 3.0, 3.0, 5.0, 5.0, 4.0, 4.0, 5.0, 4.0, 5.0, 5.0, 2.0, 4.0, 5.0, 5.0, 5.0, 4.0, 4.0, 3.0, 5.0, 4.0, 5.0, 5.0, 5.0, 5.0, 5.0, 4.0, 3.0, 3.0, 2.0, 4.0, 5.0, 1.0, 5.0, 4.0, 5.0, 5.0, 5.0, 3.0, 4.0, 5.0, 4.0, 5.0, 2.0, 3.0, 5.0, 4.0, 5.0, 4.0, 5.0, 4.0, 5.0, 4.0, 5.0, 5.0, 5.0, 5.0, 5.0, 5.0, 5.0, 4.0, 5.0, 3.0, 4.0, 3.0, 4.0, 5.0, 5.0, 4.0, 2.0, 4.0, 5.0, 4.0, 5.0, 5.0, 4.0, 5.0, 1.0, 5.0, 4.0, 5.0, 3.0, 4.0, 3.0, 5.0, 5.0, 4.0, 4.0, 5.0, 5.0, 1.0, 4.0, 3.0, 5.0, 4.0, 1.0, 5.0, 3.0, 4.0, 5.0, 4.0, 5.0, 4.0, 5.0, 5.0, 5.0, 4.0, 4.0, 5.0, 5.0, 5.0, 4.0, 3.0, 4.0, 4.0, 4.0, 4.0, 5.0, 2.0, 5.0, 3.0, 5.0, 2.0, 5.0, 4.0, 4.0, 4.0, 4.0, 5.0, 5.0, 5.0, 3.0, 1.0, 5.0, 3.0, 5.0, 4.0, 3.0, 4.0, 1.0, 5.0, 5.0, 2.0, 4.0, 2.0, 2.0, 4.0, 3.0, 4.0, 5.0, 5.0, 5.0, 5.0, 4.0, 5.0, 5.0, 3.0, 2.0, 4.0, 5.0, 3.0, 5.0, 5.0, 4.0, 4.0, 4.0, 5.0, 5.0, 3.0, 5.0, 4.0, 3.0, 5.0, 2.0, 5.0, 3.0, 5.0, 4.0, 4.0, 5.0, 5.0, 3.0, 4.0, 4.0, 5.0, 5.0, 5.0, 1.0, 1.0, 3.0, 2.0, 5.0, 1.0, 3.0, 3.0, 4.0, 4.0, 4.0, 2.0, 4.0, 5.0, 5.0, 4.0, 5.0, 5.0, 4.0, 1.0, 5.0, 4.0, 3.0, 5.0, 4.0, 5.0, 5.0, 3.0, 5.0, 4.0, 2.0, 4.0, 4.0, 5.0, 5.0, 4.0, 4.0, 5.0, 5.0, 5.0, 4.0, 4.0, 4.0, 5.0, 5.0, 5.0, 5.0, 5.0, 1.0, 5.0, 4.0, 4.0, 5.0, 4.0, 5.0, 4.0, 5.0, 5.0, 5.0, 5.0, 4.0, 4.0, 3.0, 3.0, 4.0, 5.0, 5.0, 2.0, 3.0, 4.0, 5.0, 2.0, 3.0, 5.0, 5.0, 1.0, 5.0, 5.0, 4.0, 5.0, 5.0, 5.0, 4.0, 4.0, 1.0, 5.0, 2.0, 3.0, 5.0, 5.0, 4.0, 5.0, 4.0, 5.0, 5.0, 4.0, 3.0, 5.0, 5.0, 3.0, 5.0, 5.0, 3.0, 5.0, 3.0, 5.0, 2.0, 5.0, 4.0, 5.0, 4.0, 5.0, 3.0, 4.0, 5.0, 4.0, 4.0, 3.0, 2.0, 4.0, 4.0, 5.0, 5.0, 1.0, 5.0, 5.0, 5.0, 4.0, 5.0, 5.0, 5.0, 5.0, 5.0, 5.0, 5.0, 3.0, 5.0, 2.0, 3.0, 4.0, 2.0, 5.0, 1.0, 2.0, 4.0, 4.0, 4.0, 5.0, 5.0, 5.0, 2.0, 2.0, 5.0, 1.0, 4.0, 3.0, 1.0, 2.0, 1.0, 3.0, 3.0, 3.0, 4.0, 1.0, 4.0, 4.0, 5.0, 4.0, 4.0, 4.0, 1.0, 5.0, 5.0, 5.0, 5.0, 5.0, 4.0, 5.0, 2.0, 3.0, 4.0, 5.0, 4.0, 3.0, 5.0, 5.0, 2.0, 5.0, 4.0, 4.0, 4.0, 3.0, 4.0, 4.0, 4.0, 5.0, 4.0, 4.0, 1.0, 2.0, 2.0, 4.0, 4.0, 3.0, 5.0, 2.0, 5.0, 5.0, 5.0, 4.0, 5.0, 5.0, 4.0, 4.0, 5.0, 4.0, 2.0, 5.0, 5.0, 5.0, 5.0, 3.0, 4.0, 2.0, 5.0, 5.0, 5.0, 4.0, 5.0, 1.0, 5.0, 1.0, 3.0, 4.0, 4.0, 1.0, 5.0, 3.0, 5.0, 4.0, 5.0, 5.0, 4.0, 2.0, 5.0, 5.0, 4.0, 4.0, 1.0, 4.0, 5.0, 5.0, 5.0, 4.0, 2.0, 1.0, 3.0, 4.0, 4.0, 5.0, 5.0, 1.0, 4.0, 5.0, 5.0, 5.0, 2.0, 4.0, 5.0, 1.0, 3.0, 5.0, 4.0, 5.0, 5.0, 5.0, 5.0, 4.0, 5.0, 4.0, 3.0, 5.0, 4.0, 1.0, 3.0, 1.0, 2.0, 5.0, 2.0, 3.0, 5.0, 1.0, 4.0, 5.0, 2.0, 4.0, 5.0, 5.0, 4.0, 3.0, 3.0, 3.0, 2.0, 4.0, 5.0, 5.0, 4.0, 4.0, 4.0, 2.0, 5.0, 5.0, 1.0, 5.0, 4.0, 2.0, 2.0, 1.0, 5.0, 5.0, 4.0, 5.0, 4.0, 5.0, 2.0, 5.0, 5.0, 5.0, 2.0, 5.0, 4.0, 3.0, 3.0, 5.0, 5.0, 4.0, 2.0, 4.0, 4.0, 3.0, 4.0, 5.0, 3.0, 3.0, 5.0, 3.0, 2.0, 3.0, 5.0, 5.0, 2.0, 4.0, 5.0, 1.0, 4.0, 1.0, 4.0, 4.0, 4.0, 2.0, 5.0, 4.0, 3.0, 4.0, 1.0, 5.0, 5.0, 3.0, 4.0, 5.0, 4.0, 3.0, 3.0, 5.0, 5.0, 4.0, 5.0, 4.0, 1.0, 1.0, 5.0, 5.0, 4.0, 3.0, 4.0, 2.0, 5.0, 5.0, 5.0, 5.0, 2.0, 1.0, 5.0, 4.0, 5.0, 5.0, 5.0, 5.0, 3.0, 4.0, 5.0, 5.0, 4.0, 1.0, 3.0, 5.0, 5.0, 4.0, 3.0, 5.0, 5.0, 5.0, 2.0, 5.0, 5.0, 3.0, 5.0, 3.0, 5.0, 4.0, 5.0, 4.0, 4.0, 5.0, 3.0, 4.0, 2.0, 5.0, 5.0, 1.0, 5.0, 4.0, 5.0, 3.0, 4.0, 5.0, 3.0, 4.0, 5.0, 4.0, 2.0, 4.0, 4.0, 4.0, 4.0, 1.0, 5.0, 5.0, 1.0, 2.0, 4.0, 5.0, 5.0, 3.0, 4.0, 5.0, 3.0, 2.0, 5.0, 5.0, 1.0, 5.0, 2.0, 3.0, 1.0, 4.0, 5.0, 1.0, 4.0, 4.0, 3.0, 5.0, 5.0, 4.0, 4.0, 5.0, 5.0, 3.0, 4.0, 2.0, 4.0, 5.0, 5.0, 5.0, 5.0, 5.0, 4.0, 3.0, 5.0, 4.0, 5.0, 4.0, 2.0, 5.0, 4.0, 4.0, 5.0, 3.0, 5.0, 5.0, 5.0, 5.0, 2.0, 5.0, 5.0, 4.0, 5.0, 5.0, 5.0, 1.0, 5.0, 5.0, 3.0, 4.0, 5.0, 3.0, 2.0, 3.0, 3.0, 3.0, 5.0, 4.0, 4.0, 5.0, 5.0, 2.0, 1.0, 5.0, 5.0, 2.0, 5.0, 5.0, 4.0, 1.0, 5.0, 5.0, 4.0, 4.0, 5.0, 4.0, 5.0, 5.0, 2.0, 5.0, 4.0, 3.0, 4.0, 5.0, 3.0, 5.0, 4.0, 5.0, 5.0, 4.0, 1.0, 5.0, 3.0, 3.0, 4.0, 4.0, 4.0, 5.0, 4.0, 2.0, 5.0, 4.0, 3.0, 5.0, 5.0, 5.0, 4.0, 2.0, 1.0, 5.0, 5.0, 5.0, 5.0, 5.0, 2.0, 5.0, 2.0, 3.0, 5.0, 5.0, 5.0, 4.0, 5.0, 2.0, 2.0, 3.0, 4.0, 5.0, 5.0, 2.0, 5.0, 5.0, 3.0, 5.0, 5.0, 5.0, 5.0, 2.0, 3.0, 5.0, 5.0, 5.0, 4.0, 5.0, 5.0, 4.0, 2.0, 5.0, 3.0, 5.0, 5.0, 5.0, 5.0, 3.0, 2.0, 5.0, 4.0, 5.0, 5.0, 4.0, 5.0, 4.0, 5.0, 3.0, 3.0, 5.0, 5.0, 3.0, 4.0, 5.0, 5.0, 3.0, 2.0, 4.0, 3.0, 5.0, 3.0, 4.0, 5.0, 2.0, 5.0, 3.0, 5.0, 4.0, 5.0, 4.0, 5.0, 3.0, 5.0, 2.0, 4.0, 3.0, 5.0, 5.0, 4.0, 5.0, 2.0, 3.0, 4.0, 4.0, 4.0, 4.0, 5.0, 5.0, 5.0, 3.0, 5.0, 5.0, 4.0, 5.0, 4.0, 4.0, 5.0, 5.0, 4.0, 5.0, 5.0, 4.0, 3.0, 4.0, 5.0, 5.0, 4.0, 3.0, 5.0, 5.0, 5.0, 5.0, 4.0, 4.0, 5.0, 5.0, 4.0, 5.0, 5.0, 5.0, 3.0, 5.0, 4.0, 3.0, 2.0, 5.0, 2.0, 5.0, 5.0, 4.0, 4.0, 5.0, 3.0, 2.0, 3.0, 5.0, 5.0, 4.0, 5.0, 1.0, 5.0, 5.0, 5.0, 3.0, 5.0, 1.0, 5.0, 5.0, 5.0, 5.0, 2.0, 5.0, 5.0, 5.0, 1.0, 4.0, 4.0, 3.0, 5.0, 3.0, 5.0, 5.0, 5.0, 5.0, 1.0, 5.0, 4.0, 4.0, 4.0, 5.0, 4.0, 2.0, 4.0, 5.0, 4.0, 2.0, 5.0, 4.0, 2.0, 5.0, 4.0, 5.0, 4.0, 3.0, 5.0, 2.0, 4.0, 5.0, 5.0, 5.0, 4.0, 4.0, 4.0, 5.0, 2.0, 4.0, 4.0, 4.0, 5.0, 4.0, 3.0, 4.0, 4.0, 4.0, 1.0, 5.0, 4.0, 4.0, 4.0, 4.0, 4.0, 4.0, 1.0, 1.0, 5.0, 5.0, 4.0, 4.0, 4.0, 4.0, 5.0, 3.0, 3.0, 1.0, 4.0, 1.0, 5.0, 4.0, 4.0, 4.0, 5.0, 5.0, 4.0, 4.0, 5.0, 4.0, 4.0, 5.0, 5.0, 5.0, 4.0, 2.0, 3.0, 5.0, 5.0, 3.0, 4.0, 5.0, 5.0, 4.0, 5.0, 4.0, 4.0, 5.0, 5.0, 5.0, 3.0, 4.0, 5.0, 5.0, 5.0, 2.0, 5.0, 4.0, 3.0, 2.0, 5.0, 3.0, 5.0, 4.0, 3.0, 5.0, 5.0, 4.0, 5.0, 5.0, 4.0, 5.0, 5.0, 4.0, 5.0, 5.0, 4.0, 5.0, 5.0, 4.0, 5.0, 4.0, 5.0, 4.0, 2.0, 2.0, 2.0, 4.0, 4.0, 5.0, 2.0, 4.0, 4.0, 5.0, 3.0, 4.0, 4.0, 5.0, 3.0, 5.0, 4.0, 5.0, 4.0, 4.0, 5.0, 2.0, 2.0, 2.0, 5.0, 5.0, 5.0, 5.0, 3.0, 4.0, 3.0, 5.0, 5.0, 5.0, 5.0, 3.0, 4.0, 4.0, 1.0, 4.0, 3.0, 5.0, 5.0, 3.0, 3.0, 4.0, 4.0, 5.0, 1.0, 5.0, 5.0, 1.0, 5.0, 5.0, 5.0, 5.0, 4.0, 4.0, 5.0, 1.0, 5.0, 3.0, 2.0, 2.0, 5.0, 5.0, 4.0, 2.0, 5.0, 5.0, 4.0, 4.0, 4.0, 1.0, 4.0, 4.0, 5.0, 5.0, 1.0, 4.0, 4.0, 4.0, 3.0, 5.0, 5.0, 5.0, 3.0, 3.0, 5.0, 3.0, 3.0, 4.0, 3.0, 5.0, 5.0, 5.0, 5.0, 4.0, 3.0, 5.0, 3.0, 5.0, 5.0, 5.0, 5.0, 3.0, 5.0, 5.0, 4.0, 3.0, 4.0, 4.0, 2.0, 5.0, 4.0, 4.0, 4.0, 5.0, 5.0, 2.0, 3.0, 4.0, 4.0, 5.0, 3.0, 4.0, 5.0, 5.0, 1.0, 4.0, 4.0, 5.0, 1.0, 4.0, 5.0, 3.0, 3.0, 5.0, 5.0, 5.0, 5.0, 4.0, 5.0, 5.0, 5.0, 5.0, 5.0, 3.0, 4.0, 2.0, 5.0, 4.0, 5.0, 3.0, 4.0, 1.0, 5.0, 2.0, 5.0, 2.0, 3.0, 5.0, 3.0, 1.0, 4.0, 3.0, 5.0, 4.0, 3.0, 5.0, 5.0, 4.0, 2.0, 4.0, 5.0, 5.0, 3.0, 5.0, 3.0, 1.0, 3.0, 4.0, 5.0, 4.0, 5.0, 4.0, 5.0, 4.0, 4.0, 1.0, 1.0, 3.0, 3.0, 3.0, 3.0, 3.0, 4.0, 4.0, 4.0, 5.0, 3.0, 3.0, 2.0, 4.0, 3.0, 3.0, 4.0, 5.0, 5.0, 5.0, 4.0, 2.0, 4.0, 2.0, 4.0, 1.0, 4.0, 4.0, 1.0, 5.0, 4.0, 3.0, 1.0, 4.0, 5.0, 4.0, 3.0, 5.0, 5.0, 3.0, 1.0, 5.0, 5.0, 4.0, 4.0, 1.0, 4.0, 4.0, 4.0, 3.0, 5.0, 4.0, 3.0, 5.0, 4.0, 2.0, 5.0, 2.0, 5.0, 3.0, 5.0, 5.0, 5.0, 4.0, 3.0, 1.0, 4.0, 1.0, 4.0, 1.0, 1.0, 3.0, 2.0, 2.0, 4.0, 4.0, 2.0, 5.0, 4.0, 4.0, 5.0, 5.0, 4.0, 4.0, 4.0, 3.0, 5.0, 3.0, 2.0, 5.0, 1.0, 5.0, 5.0, 5.0, 5.0, 2.0, 5.0, 5.0, 5.0, 3.0, 5.0, 4.0, 5.0, 4.0, 4.0, 1.0, 4.0, 5.0, 4.0, 4.0, 3.0, 5.0, 5.0, 5.0, 5.0, 4.0, 3.0, 5.0, 5.0, 5.0, 5.0, 2.0, 1.0, 1.0, 5.0, 5.0, 4.0, 5.0, 1.0, 5.0, 3.0, 5.0, 4.0, 1.0, 3.0, 2.0, 4.0, 2.0, 4.0, 5.0, 4.0, 4.0, 5.0, 5.0, 2.0, 5.0, 3.0, 4.0, 5.0, 4.0, 4.0, 1.0, 4.0, 3.0, 4.0, 3.0, 5.0, 5.0, 5.0, 4.0, 4.0, 3.0, 4.0, 3.0, 5.0, 1.0, 5.0, 4.0, 1.0, 5.0, 1.0, 3.0, 5.0, 5.0, 5.0, 4.0, 3.0, 4.0, 3.0, 1.0, 5.0, 4.0, 5.0, 3.0, 4.0, 5.0, 4.0, 4.0, 3.0, 5.0, 4.0, 3.0, 4.0, 5.0, 3.0, 4.0, 4.0, 2.0, 3.0, 1.0, 4.0, 5.0, 5.0, 5.0, 1.0, 5.0, 5.0, 4.0, 3.0, 4.0, 3.0, 5.0, 4.0, 5.0, 1.0, 5.0, 2.0, 5.0, 3.0, 4.0, 3.0, 4.0, 1.0, 4.0, 4.0, 4.0, 4.0, 5.0, 3.0, 5.0, 1.0, 4.0, 3.0, 4.0, 3.0, 5.0, 5.0, 3.0, 2.0, 5.0, 1.0, 5.0, 3.0, 5.0, 1.0, 5.0, 5.0, 5.0, 3.0, 4.0, 5.0, 4.0, 1.0, 5.0, 4.0, 5.0, 4.0, 5.0, 5.0, 1.0, 5.0, 3.0, 3.0, 5.0, 5.0, 5.0, 5.0, 1.0, 4.0, 1.0, 4.0, 5.0, 5.0, 3.0, 5.0, 3.0, 3.0, 5.0, 5.0, 4.0, 3.0, 5.0, 3.0, 3.0, 2.0, 3.0, 1.0, 1.0, 3.0, 1.0, 4.0, 3.0, 3.0, 4.0, 5.0, 3.0, 4.0, 4.0, 5.0, 3.0, 5.0, 5.0, 5.0, 5.0, 5.0, 1.0, 2.0, 5.0, 5.0, 5.0, 2.0, 5.0, 5.0, 4.0, 5.0, 5.0, 4.0, 5.0, 5.0, 5.0, 5.0, 4.0, 4.0, 5.0, 4.0, 5.0, 4.0, 4.0, 5.0, 3.0, 5.0, 4.0, 4.0, 5.0, 4.0, 3.0, 3.0, 5.0, 5.0, 1.0, 5.0, 4.0, 1.0, 5.0, 2.0, 4.0, 4.0, 3.0, 5.0, 5.0, 4.0, 5.0, 4.0, 4.0, 1.0, 5.0, 5.0, 5.0, 5.0, 4.0, 5.0, 4.0, 4.0, 5.0, 4.0, 5.0, 5.0, 5.0, 2.0, 4.0, 3.0, 5.0, 5.0, 5.0, 3.0, 5.0, 5.0, 5.0, 2.0, 4.0, 1.0, 4.0, 5.0, 5.0, 5.0, 5.0, 4.0, 5.0, 5.0, 5.0, 3.0, 3.0, 4.0, 4.0, 5.0, 3.0, 3.0, 4.0, 4.0, 5.0, 4.0, 5.0, 5.0, 5.0, 1.0, 4.0, 4.0, 4.0, 5.0, 2.0, 4.0, 5.0, 3.0, 5.0, 5.0, 1.0, 3.0, 5.0, 3.0, 4.0, 4.0, 4.0, 1.0, 4.0, 5.0, 5.0, 5.0, 4.0, 1.0, 3.0, 3.0, 4.0, 5.0, 1.0, 1.0, 5.0, 4.0, 3.0, 5.0, 3.0, 5.0, 5.0, 1.0, 5.0, 4.0, 4.0, 3.0, 5.0, 4.0, 4.0, 1.0, 3.0, 5.0, 5.0, 4.0, 5.0, 5.0, 3.0, 1.0, 5.0, 4.0, 5.0, 2.0, 4.0, 4.0, 4.0, 4.0, 3.0, 4.0, 3.0, 1.0, 5.0, 5.0, 5.0, 4.0, 5.0, 4.0, 2.0, 5.0, 5.0, 3.0, 4.0, 3.0, 4.0, 3.0, 5.0, 5.0, 5.0, 4.0, 5.0, 3.0, 1.0, 1.0, 2.0, 2.0, 4.0, 5.0, 3.0, 4.0, 3.0, 4.0, 5.0, 4.0, 1.0, 4.0, 4.0, 1.0, 5.0, 5.0, 3.0, 4.0, 5.0, 5.0, 2.0, 3.0, 3.0, 4.0, 5.0, 5.0, 5.0, 4.0, 4.0, 5.0, 5.0, 4.0, 4.0, 1.0, 4.0, 2.0, 1.0, 3.0, 1.0, 5.0, 3.0, 4.0, 5.0, 4.0, 5.0, 5.0, 5.0, 4.0, 4.0, 4.0, 5.0, 4.0, 3.0, 4.0, 4.0, 2.0, 5.0, 5.0, 5.0, 4.0, 2.0, 5.0, 5.0, 3.0, 5.0, 1.0, 3.0, 5.0, 5.0, 3.0, 3.0, 5.0, 1.0, 5.0, 4.0, 4.0, 5.0, 5.0, 5.0, 5.0, 1.0, 3.0, 5.0, 5.0, 3.0, 4.0, 3.0, 4.0, 4.0, 4.0, 5.0, 3.0, 2.0, 5.0, 5.0, 4.0, 4.0, 5.0, 5.0, 1.0, 5.0, 4.0, 5.0, 3.0, 5.0, 5.0, 1.0, 5.0, 4.0, 4.0, 4.0, 5.0, 3.0, 3.0, 5.0, 3.0, 4.0, 2.0, 4.0, 4.0, 5.0, 4.0, 5.0, 4.0, 4.0, 2.0, 4.0, 4.0, 4.0, 3.0, 4.0, 4.0, 4.0, 5.0, 5.0, 5.0, 1.0, 3.0, 4.0, 5.0, 5.0, 4.0, 3.0, 4.0, 2.0, 4.0, 5.0, 4.0, 1.0, 3.0, 5.0, 1.0, 4.0, 3.0, 4.0, 4.0, 5.0, 4.0, 4.0, 4.0, 4.0, 2.0, 3.0, 4.0, 3.0, 5.0, 4.0, 1.0, 3.0, 5.0, 5.0, 4.0, 5.0, 5.0, 5.0, 5.0, 5.0, 4.0, 5.0, 5.0, 5.0, 5.0, 4.0, 4.0, 5.0, 4.0, 5.0, 5.0, 5.0, 4.0, 4.0, 5.0, 5.0, 5.0, 3.0, 4.0, 4.0, 2.0, 5.0, 5.0, 5.0, 5.0, 4.0, 5.0, 2.0, 4.0, 5.0, 3.0, 3.0, 1.0, 4.0, 3.0, 4.0, 5.0, 1.0, 4.0, 5.0, 5.0, 4.0, 5.0, 4.0, 2.0, 5.0, 4.0, 4.0, 4.0, 5.0, 3.0, 4.0, 2.0, 3.0, 5.0, 1.0, 4.0, 5.0, 5.0, 2.0, 5.0, 4.0, 2.0, 4.0, 5.0, 1.0, 5.0, 5.0, 5.0, 1.0, 3.0, 5.0, 5.0, 4.0, 4.0, 5.0, 5.0, 4.0, 4.0, 4.0, 3.0, 5.0, 4.0, 5.0, 4.0, 1.0, 5.0, 4.0, 3.0, 5.0, 4.0, 4.0, 5.0, 1.0, 2.0, 5.0, 4.0, 5.0, 5.0, 1.0, 3.0, 5.0, 5.0, 5.0, 5.0, 5.0, 3.0, 5.0, 4.0, 5.0, 5.0, 3.0, 3.0, 5.0, 2.0, 5.0, 4.0, 4.0, 5.0, 5.0, 3.0, 5.0, 5.0, 5.0, 4.0, 3.0, 5.0, 1.0, 4.0, 5.0, 4.0, 4.0, 3.0, 4.0, 3.0, 5.0, 2.0, 5.0, 5.0, 1.0, 4.0, 4.0, 2.0, 5.0, 4.0, 5.0, 5.0, 5.0, 4.0, 1.0, 4.0, 5.0, 3.0, 4.0, 3.0, 4.0, 5.0, 4.0, 5.0, 5.0, 4.0, 4.0, 3.0, 1.0, 4.0, 1.0, 4.0, 4.0, 5.0, 5.0, 3.0, 4.0, 4.0, 5.0, 4.0, 3.0, 3.0, 5.0, 5.0, 3.0, 5.0, 3.0, 2.0, 5.0, 1.0, 2.0, 4.0, 3.0, 1.0, 4.0, 3.0, 5.0, 2.0, 4.0, 2.0, 3.0, 5.0, 5.0, 4.0, 5.0, 5.0, 3.0, 5.0, 5.0, 3.0, 5.0, 5.0, 5.0, 5.0, 5.0, 2.0, 5.0, 3.0, 3.0, 4.0, 3.0, 5.0, 4.0, 4.0, 5.0, 5.0, 5.0, 5.0, 4.0, 1.0, 5.0, 1.0, 5.0, 5.0, 4.0, 3.0, 4.0, 5.0, 5.0, 3.0, 4.0, 5.0, 5.0, 3.0, 5.0, 2.0, 5.0, 3.0, 4.0, 4.0, 1.0, 5.0, 3.0, 2.0, 5.0, 5.0, 5.0, 5.0, 4.0, 5.0, 1.0, 3.0, 4.0, 3.0, 5.0, 4.0, 3.0, 4.0, 4.0, 1.0, 3.0, 3.0, 4.0, 2.0, 2.0, 5.0, 4.0, 4.0, 5.0, 3.0, 5.0, 3.0, 5.0, 5.0, 5.0, 4.0, 5.0, 4.0, 5.0, 5.0, 2.0, 5.0, 4.0, 4.0, 4.0, 4.0, 4.0, 5.0, 1.0, 5.0, 5.0, 5.0, 4.0, 5.0, 2.0, 3.0, 3.0, 4.0, 4.0, 5.0, 4.0, 5.0, 1.0, 3.0, 4.0, 3.0, 3.0, 3.0, 5.0, 4.0, 3.0, 5.0, 4.0, 5.0, 5.0, 5.0, 5.0, 5.0, 5.0, 2.0, 1.0, 4.0, 5.0, 5.0, 2.0, 4.0, 4.0, 5.0, 4.0, 5.0, 2.0, 5.0, 3.0, 4.0, 2.0, 5.0, 5.0, 4.0, 4.0, 3.0, 5.0, 5.0, 3.0, 3.0, 1.0, 3.0, 5.0, 5.0, 5.0, 4.0, 5.0, 4.0, 4.0, 2.0, 5.0, 5.0, 3.0, 4.0, 4.0, 5.0, 4.0, 2.0, 3.0, 5.0, 3.0, 4.0, 3.0, 2.0, 4.0, 5.0, 4.0, 3.0, 5.0, 4.0, 3.0, 5.0, 2.0, 4.0, 1.0, 5.0, 5.0, 2.0, 3.0, 5.0, 5.0, 4.0, 3.0, 1.0, 5.0, 4.0, 3.0, 5.0, 3.0, 2.0, 5.0, 2.0, 4.0, 1.0, 1.0, 2.0, 5.0, 4.0, 2.0, 4.0, 5.0, 4.0, 4.0, 1.0, 3.0, 4.0, 1.0, 5.0, 5.0, 3.0, 5.0, 5.0, 5.0, 5.0, 4.0, 5.0, 4.0, 5.0, 4.0, 5.0, 3.0, 5.0, 2.0, 5.0, 4.0, 4.0, 5.0, 4.0, 4.0, 3.0, 5.0, 5.0, 5.0, 5.0, 1.0, 5.0, 3.0, 3.0, 1.0, 3.0, 5.0, 1.0, 3.0, 4.0, 1.0, 5.0, 5.0, 3.0, 5.0, 5.0, 4.0, 5.0, 4.0, 5.0, 5.0, 3.0, 5.0, 4.0, 3.0, 4.0, 5.0, 5.0, 2.0, 5.0, 4.0, 4.0, 5.0, 1.0, 3.0, 5.0, 3.0, 5.0, 4.0, 3.0, 4.0, 5.0, 3.0, 1.0, 4.0, 2.0, 3.0, 4.0, 2.0, 4.0, 4.0, 4.0, 5.0, 4.0, 1.0, 5.0, 4.0, 5.0, 4.0, 5.0, 4.0, 4.0, 5.0, 4.0, 5.0, 5.0, 5.0, 4.0, 3.0, 5.0, 5.0, 5.0, 5.0, 4.0, 4.0, 5.0, 3.0, 4.0, 5.0, 1.0, 5.0, 3.0, 4.0, 5.0, 4.0, 1.0, 4.0, 3.0, 4.0, 5.0, 3.0, 2.0, 1.0, 5.0, 4.0, 4.0, 5.0, 3.0, 5.0, 2.0, 4.0, 4.0, 5.0, 4.0, 3.0, 4.0, 2.0, 5.0, 5.0, 5.0, 3.0, 3.0, 1.0, 2.0, 3.0, 4.0, 4.0, 4.0, 5.0, 3.0, 4.0, 4.0, 2.0, 4.0, 5.0, 5.0, 5.0, 4.0, 5.0, 1.0, 4.0, 5.0, 4.0, 3.0, 4.0, 4.0, 4.0, 5.0, 4.0, 4.0, 3.0, 3.0, 5.0, 5.0, 4.0, 3.0, 4.0, 5.0, 4.0, 5.0, 5.0, 4.0, 4.0, 5.0, 5.0, 5.0, 3.0, 5.0, 5.0, 5.0, 5.0, 5.0, 1.0, 5.0, 4.0, 4.0, 3.0, 4.0, 1.0, 2.0, 5.0, 5.0, 5.0, 4.0, 5.0, 2.0, 3.0, 4.0, 4.0, 2.0, 2.0, 4.0, 5.0, 3.0, 5.0, 2.0, 3.0, 5.0, 5.0, 3.0, 4.0, 4.0, 4.0, 5.0, 3.0, 5.0, 4.0, 4.0, 5.0, 5.0, 5.0, 5.0, 5.0, 5.0, 5.0, 4.0, 4.0, 1.0, 4.0, 5.0, 5.0, 4.0, 3.0, 3.0, 2.0, 5.0, 4.0, 5.0, 4.0, 5.0, 3.0, 5.0, 2.0, 5.0, 1.0, 4.0, 4.0, 3.0, 4.0, 4.0, 5.0, 4.0, 5.0, 5.0, 2.0, 3.0, 5.0, 4.0, 5.0, 2.0, 5.0, 4.0, 4.0, 4.0, 5.0, 5.0, 3.0, 3.0, 5.0, 1.0, 4.0, 5.0, 3.0, 5.0, 5.0, 1.0, 5.0, 5.0, 2.0, 3.0, 3.0, 5.0, 5.0, 4.0, 4.0, 3.0, 3.0, 4.0, 5.0, 5.0, 4.0, 5.0, 5.0, 5.0, 4.0, 3.0, 1.0, 5.0, 5.0, 5.0, 2.0, 2.0, 2.0, 5.0, 5.0, 1.0, 5.0, 4.0, 5.0, 1.0, 5.0, 3.0, 4.0, 5.0, 3.0, 5.0, 5.0, 2.0, 5.0, 5.0, 3.0, 4.0, 4.0, 5.0, 2.0, 1.0, 5.0, 5.0, 2.0, 5.0, 5.0, 5.0, 4.0, 3.0, 1.0, 4.0, 2.0, 4.0, 5.0, 4.0, 5.0, 4.0, 2.0, 2.0, 4.0, 2.0, 5.0, 5.0, 5.0, 4.0, 4.0, 2.0, 1.0, 4.0, 5.0, 5.0, 2.0, 3.0, 2.0, 4.0, 5.0, 5.0, 5.0, 4.0, 5.0, 5.0, 4.0, 5.0, 4.0, 5.0, 5.0, 5.0, 3.0, 1.0, 1.0, 4.0, 4.0, 4.0, 4.0, 5.0, 4.0, 3.0, 5.0, 2.0, 4.0, 5.0, 2.0, 5.0, 5.0, 4.0, 2.0, 2.0, 5.0, 2.0, 4.0, 5.0, 5.0, 4.0, 5.0, 5.0, 5.0, 5.0, 3.0, 2.0, 3.0, 3.0, 3.0, 5.0, 4.0, 5.0, 3.0, 5.0, 2.0, 4.0, 4.0, 2.0, 5.0, 4.0, 4.0, 4.0, 5.0, 5.0, 5.0, 3.0, 3.0, 5.0, 5.0, 3.0, 5.0, 3.0, 5.0, 5.0, 5.0, 5.0, 5.0, 4.0, 5.0, 5.0, 1.0, 5.0, 5.0, 1.0, 2.0, 5.0, 5.0, 5.0, 4.0, 5.0, 5.0, 5.0, 5.0, 4.0, 4.0, 5.0, 4.0, 3.0, 5.0, 3.0, 5.0, 5.0, 5.0, 4.0, 3.0, 5.0, 4.0, 5.0, 1.0, 5.0, 5.0, 1.0, 5.0, 3.0, 5.0, 2.0, 4.0, 5.0, 5.0, 5.0, 5.0, 4.0, 2.0, 1.0, 4.0, 3.0, 5.0, 5.0, 5.0, 5.0, 4.0, 1.0, 3.0, 5.0, 1.0, 5.0, 2.0, 1.0, 5.0, 5.0, 5.0, 5.0, 4.0, 5.0, 4.0, 4.0, 2.0, 4.0, 5.0, 1.0, 1.0, 4.0, 5.0, 5.0, 4.0, 2.0, 4.0, 2.0, 1.0, 2.0, 5.0, 4.0, 4.0, 5.0, 5.0, 5.0, 1.0, 2.0, 4.0, 3.0, 4.0, 4.0, 4.0, 3.0, 2.0, 5.0, 4.0, 5.0, 5.0, 5.0, 1.0, 4.0, 5.0, 2.0, 5.0, 5.0, 5.0, 4.0, 4.0, 5.0, 5.0, 4.0, 5.0, 1.0, 4.0, 4.0, 4.0, 4.0, 5.0, 4.0, 2.0, 4.0, 4.0, 1.0, 5.0, 5.0, 5.0, 5.0, 5.0, 3.0, 2.0, 2.0, 4.0, 5.0, 3.0, 4.0, 4.0, 5.0, 4.0, 3.0, 5.0, 4.0, 5.0, 4.0, 1.0, 4.0, 5.0, 3.0, 2.0, 5.0, 4.0, 5.0, 5.0, 5.0, 4.0, 4.0, 5.0, 4.0, 5.0, 5.0, 5.0, 5.0, 4.0, 4.0, 5.0, 4.0, 1.0, 5.0, 4.0, 5.0, 3.0, 5.0, 5.0, 4.0, 3.0, 4.0, 4.0, 5.0, 5.0, 5.0, 5.0, 5.0, 1.0, 5.0, 5.0, 4.0, 1.0, 3.0, 5.0, 5.0, 4.0, 5.0, 5.0, 4.0, 5.0, 4.0, 3.0, 5.0, 5.0, 5.0, 4.0, 5.0, 5.0, 4.0, 2.0, 5.0, 4.0, 5.0, 5.0, 3.0, 5.0, 4.0, 5.0, 5.0, 4.0, 4.0, 4.0, 1.0, 5.0, 1.0, 1.0, 2.0, 4.0, 4.0, 5.0, 5.0, 2.0, 5.0, 1.0, 4.0, 2.0, 2.0, 4.0, 4.0, 4.0, 5.0, 1.0, 4.0, 5.0, 4.0, 4.0, 4.0, 1.0, 5.0, 5.0, 4.0, 3.0, 4.0, 4.0, 5.0, 3.0, 5.0, 5.0, 1.0, 5.0, 4.0, 3.0, 5.0, 1.0, 4.0, 5.0, 1.0, 5.0, 1.0, 3.0, 4.0, 3.0, 5.0, 2.0, 4.0, 5.0, 4.0, 4.0, 3.0, 5.0, 5.0, 5.0, 5.0, 5.0, 2.0, 2.0, 5.0, 5.0, 3.0, 3.0, 4.0, 5.0, 4.0, 2.0, 4.0, 5.0, 5.0, 5.0, 5.0, 1.0, 5.0, 5.0, 5.0, 5.0, 5.0, 3.0, 5.0, 4.0, 3.0, 3.0, 4.0, 5.0, 5.0, 2.0, 5.0, 5.0, 4.0, 5.0, 5.0, 1.0, 4.0, 1.0, 2.0, 4.0, 5.0, 4.0, 5.0, 4.0, 1.0, 5.0, 4.0, 5.0, 5.0, 5.0, 2.0, 4.0, 2.0, 5.0, 5.0, 5.0, 3.0, 4.0, 4.0, 1.0, 5.0, 4.0, 1.0, 2.0, 4.0, 5.0, 2.0, 5.0, 5.0, 4.0, 4.0, 5.0, 5.0, 4.0, 2.0, 3.0, 1.0, 5.0, 1.0, 3.0, 2.0, 4.0, 5.0, 2.0, 3.0, 4.0, 4.0, 3.0, 2.0, 1.0, 2.0, 1.0, 1.0, 4.0, 4.0, 5.0, 1.0, 2.0, 5.0, 5.0, 5.0, 1.0, 5.0, 5.0, 2.0, 4.0, 4.0, 5.0, 3.0, 4.0, 1.0, 5.0, 3.0, 4.0, 5.0, 2.0, 3.0, 5.0, 3.0, 5.0, 5.0, 5.0, 4.0, 5.0, 4.0, 4.0, 4.0, 5.0, 4.0, 5.0, 3.0, 3.0, 5.0, 5.0, 5.0, 5.0, 4.0, 5.0, 4.0, 1.0, 4.0, 1.0, 2.0, 2.0, 3.0, 4.0, 1.0, 5.0, 4.0, 4.0, 5.0, 5.0, 3.0, 2.0, 5.0, 3.0, 5.0, 4.0, 4.0, 1.0, 4.0, 4.0, 4.0, 5.0, 5.0, 2.0, 5.0, 2.0, 5.0, 2.0, 5.0, 2.0, 5.0, 3.0, 4.0, 4.0, 3.0, 4.0, 5.0, 1.0, 5.0, 5.0, 4.0, 5.0, 2.0, 4.0, 3.0, 4.0, 5.0, 2.0, 5.0, 4.0, 5.0, 5.0, 1.0, 3.0, 5.0, 5.0, 3.0, 4.0, 3.0, 5.0, 5.0, 5.0, 3.0, 5.0, 5.0, 4.0, 4.0, 4.0, 4.0, 3.0, 3.0, 4.0, 5.0, 3.0, 1.0, 5.0, 4.0, 1.0, 5.0, 3.0, 5.0, 5.0, 5.0, 3.0, 2.0, 5.0, 5.0, 4.0, 3.0, 5.0, 4.0, 5.0, 4.0, 4.0, 4.0, 1.0, 5.0, 5.0, 4.0, 5.0, 4.0, 4.0, 5.0, 5.0, 5.0, 4.0, 5.0, 3.0, 4.0, 5.0, 2.0, 1.0, 3.0, 4.0, 5.0, 5.0, 4.0, 5.0, 3.0, 5.0, 2.0, 3.0, 5.0, 4.0, 5.0, 5.0, 3.0, 5.0, 5.0, 1.0, 5.0, 5.0, 4.0, 4.0, 1.0, 4.0, 5.0, 3.0, 5.0, 5.0, 5.0, 4.0, 3.0, 4.0, 5.0, 4.0, 3.0, 3.0, 5.0, 4.0, 5.0, 5.0, 5.0, 5.0, 3.0, 5.0, 5.0, 4.0, 3.0, 5.0, 1.0, 5.0, 5.0, 5.0, 3.0, 3.0, 1.0, 1.0, 5.0, 5.0, 3.0, 4.0, 2.0, 2.0, 5.0, 5.0, 5.0, 4.0, 4.0, 5.0, 5.0, 1.0, 1.0, 4.0, 1.0, 4.0, 4.0, 1.0, 5.0, 5.0, 5.0, 5.0, 4.0, 5.0, 4.0, 5.0, 5.0, 3.0, 4.0, 1.0, 3.0, 5.0, 4.0, 4.0, 4.0, 3.0, 3.0, 4.0, 5.0, 3.0, 2.0, 5.0, 5.0, 3.0, 5.0, 1.0, 4.0, 3.0, 5.0, 4.0, 4.0, 4.0, 5.0, 4.0, 2.0, 5.0, 5.0, 3.0, 4.0, 4.0, 2.0, 3.0, 5.0, 5.0, 5.0, 4.0, 5.0, 4.0, 5.0, 4.0, 5.0, 3.0, 4.0, 4.0, 4.0, 2.0, 5.0, 4.0, 4.0, 4.0, 2.0, 3.0, 5.0, 3.0, 3.0, 4.0, 3.0, 5.0, 4.0, 5.0, 1.0, 4.0, 4.0, 4.0, 4.0, 5.0, 5.0, 5.0, 4.0, 4.0, 5.0, 5.0, 3.0, 5.0, 5.0, 5.0, 4.0, 4.0, 4.0, 3.0, 5.0, 5.0, 4.0, 2.0, 4.0, 5.0, 4.0, 5.0, 2.0, 3.0, 5.0, 5.0, 5.0, 1.0, 5.0, 4.0, 4.0, 1.0, 5.0, 5.0, 3.0, 5.0, 5.0, 5.0, 1.0, 1.0, 4.0, 3.0, 4.0, 1.0, 1.0, 5.0, 5.0, 2.0, 4.0, 5.0, 4.0, 5.0, 4.0, 5.0, 5.0, 5.0, 5.0, 4.0, 4.0, 3.0, 2.0, 4.0, 5.0, 5.0, 4.0, 5.0, 5.0, 1.0, 3.0, 5.0, 3.0, 2.0, 1.0, 5.0, 4.0, 5.0, 3.0, 2.0, 3.0, 5.0, 5.0, 4.0, 4.0, 5.0, 3.0, 5.0, 1.0, 5.0, 4.0, 4.0, 4.0, 1.0, 2.0, 5.0, 5.0, 3.0, 5.0, 1.0, 4.0, 5.0, 2.0, 5.0, 4.0, 4.0, 4.0, 4.0, 3.0, 5.0, 1.0, 5.0, 5.0, 1.0, 5.0, 5.0, 4.0, 5.0, 5.0, 1.0, 4.0, 3.0, 4.0, 5.0, 4.0, 5.0, 1.0, 1.0, 5.0, 5.0, 3.0, 4.0, 5.0, 5.0, 4.0, 2.0, 5.0, 1.0, 5.0, 3.0, 5.0, 3.0, 1.0, 4.0, 5.0, 1.0, 5.0, 4.0, 5.0, 5.0, 4.0, 1.0, 2.0, 4.0, 5.0, 5.0, 5.0, 3.0, 3.0, 4.0, 5.0, 4.0, 5.0, 1.0, 2.0, 3.0, 3.0, 5.0, 4.0, 4.0, 5.0, 4.0, 5.0, 1.0, 5.0, 4.0, 5.0, 2.0, 2.0, 4.0, 3.0, 5.0, 3.0, 5.0, 2.0, 1.0, 4.0, 5.0, 4.0, 4.0, 5.0, 5.0, 4.0, 5.0, 4.0, 5.0, 3.0, 5.0, 3.0, 5.0, 5.0, 1.0, 5.0, 4.0, 4.0, 5.0, 3.0, 5.0, 3.0, 4.0, 5.0, 5.0, 1.0, 5.0, 5.0, 4.0, 1.0, 5.0, 4.0, 3.0, 5.0, 4.0, 5.0, 5.0, 1.0, 2.0, 5.0, 4.0, 4.0, 4.0, 4.0, 5.0, 5.0, 4.0, 4.0, 3.0, 5.0, 4.0, 4.0, 5.0, 1.0, 5.0, 2.0, 4.0, 4.0, 5.0, 4.0, 5.0, 4.0, 4.0, 4.0, 3.0, 4.0, 4.0, 3.0, 5.0, 2.0, 3.0, 1.0, 3.0, 1.0, 5.0, 5.0, 4.0, 3.0, 5.0, 5.0, 1.0, 4.0, 5.0, 2.0, 2.0, 2.0, 3.0, 5.0, 5.0, 4.0, 1.0, 3.0, 5.0, 5.0, 2.0, 5.0, 3.0, 5.0, 5.0, 5.0, 4.0, 5.0, 3.0, 5.0, 4.0, 3.0, 1.0, 4.0, 5.0, 3.0, 5.0, 4.0, 1.0, 5.0, 4.0, 3.0, 5.0, 5.0, 5.0, 5.0, 3.0, 5.0, 5.0, 5.0, 4.0, 5.0, 2.0, 4.0, 5.0, 5.0, 5.0, 4.0, 4.0, 2.0, 5.0, 5.0, 4.0, 5.0, 5.0, 5.0, 4.0, 3.0, 4.0, 4.0, 5.0, 4.0, 5.0, 4.0, 5.0, 4.0, 3.0, 4.0, 5.0, 5.0, 4.0, 1.0, 5.0, 4.0, 4.0, 4.0, 3.0, 5.0, 5.0, 5.0, 5.0, 5.0, 5.0, 3.0, 5.0, 5.0, 5.0, 5.0, 4.0, 3.0, 4.0, 1.0, 5.0, 4.0, 4.0, 3.0, 4.0, 5.0, 5.0, 4.0, 1.0, 5.0, 5.0, 5.0, 5.0, 5.0, 4.0, 4.0, 5.0, 5.0, 3.0, 4.0, 5.0, 5.0, 5.0, 4.0, 5.0, 4.0, 5.0, 3.0, 1.0, 5.0, 2.0, 5.0, 4.0, 4.0, 4.0, 5.0, 4.0, 2.0, 5.0, 5.0, 5.0, 3.0, 3.0, 4.0, 1.0, 5.0, 5.0, 5.0, 5.0, 5.0, 4.0, 5.0, 5.0, 5.0, 4.0, 3.0, 5.0, 5.0, 3.0, 5.0, 4.0, 4.0, 3.0, 4.0, 3.0, 5.0, 5.0, 2.0, 4.0, 5.0, 4.0, 1.0, 1.0, 3.0, 5.0, 5.0, 4.0, 5.0, 2.0, 4.0, 5.0, 5.0, 1.0, 1.0, 5.0, 4.0, 3.0, 5.0, 5.0, 5.0, 3.0, 3.0, 2.0, 5.0, 3.0, 3.0, 4.0, 5.0, 2.0, 2.0, 4.0, 5.0, 1.0, 5.0, 4.0, 5.0, 3.0, 1.0, 3.0, 1.0, 4.0, 4.0, 4.0, 4.0, 1.0, 3.0, 4.0, 3.0, 1.0, 5.0, 3.0, 2.0, 5.0, 5.0, 5.0, 3.0, 1.0, 5.0, 2.0, 4.0, 3.0, 4.0, 3.0, 3.0, 5.0, 5.0, 5.0, 5.0, 3.0, 1.0, 5.0, 3.0, 3.0, 4.0, 1.0, 5.0, 5.0, 4.0, 4.0, 5.0, 3.0, 4.0, 5.0, 3.0, 4.0, 2.0, 5.0, 2.0, 4.0, 4.0, 5.0, 5.0, 5.0, 3.0, 5.0, 4.0, 2.0, 5.0, 5.0, 4.0, 3.0, 5.0, 4.0, 3.0, 5.0, 2.0, 5.0, 3.0, 5.0, 5.0, 5.0, 5.0, 5.0, 4.0, 5.0, 5.0, 4.0, 5.0, 5.0, 5.0, 5.0, 3.0, 5.0, 4.0, 2.0, 4.0, 1.0, 1.0, 5.0, 1.0, 5.0, 4.0, 1.0, 5.0, 2.0, 1.0, 1.0, 4.0, 5.0, 4.0, 5.0, 4.0, 5.0, 5.0, 5.0, 4.0, 4.0, 2.0, 5.0, 5.0, 5.0, 5.0, 3.0, 4.0, 4.0, 4.0, 4.0, 5.0, 5.0, 5.0, 4.0, 5.0, 5.0, 5.0, 4.0, 2.0, 4.0, 5.0, 5.0, 5.0, 4.0, 4.0, 3.0, 5.0, 5.0, 3.0, 5.0, 3.0, 5.0, 1.0, 5.0, 5.0, 5.0, 4.0, 2.0, 5.0, 4.0, 4.0, 5.0, 2.0, 5.0, 5.0, 4.0, 5.0, 5.0, 1.0, 5.0, 4.0, 4.0, 2.0, 5.0, 5.0, 3.0, 4.0, 3.0, 1.0, 5.0, 3.0, 5.0, 5.0, 5.0, 5.0, 1.0, 3.0, 5.0, 4.0, 5.0, 2.0, 2.0, 5.0, 4.0, 5.0, 5.0, 5.0, 5.0, 4.0, 5.0, 5.0, 1.0, 2.0, 4.0, 5.0, 5.0, 5.0, 1.0, 4.0, 5.0, 4.0, 2.0, 4.0, 5.0, 5.0, 4.0, 5.0, 2.0, 5.0, 2.0, 3.0, 5.0, 1.0, 4.0, 1.0, 5.0, 4.0, 5.0, 3.0, 4.0, 5.0, 2.0, 2.0, 4.0, 2.0, 4.0, 5.0, 1.0, 4.0, 5.0, 5.0, 3.0, 1.0, 5.0, 5.0, 5.0, 5.0, 5.0, 5.0, 4.0, 4.0, 5.0, 4.0, 3.0, 5.0, 4.0, 4.0, 5.0, 5.0, 5.0, 1.0, 5.0, 5.0, 4.0, 4.0, 5.0, 1.0, 4.0, 5.0, 3.0, 4.0, 5.0, 4.0, 5.0, 4.0, 5.0, 5.0, 5.0, 4.0, 1.0, 4.0, 2.0, 5.0, 4.0, 5.0, 5.0, 4.0, 4.0, 5.0, 4.0, 3.0, 4.0, 4.0, 5.0, 2.0, 5.0, 3.0, 1.0, 1.0, 5.0, 2.0, 3.0, 4.0, 5.0, 5.0, 5.0, 5.0, 5.0, 5.0, 3.0, 5.0, 5.0, 4.0, 2.0, 5.0, 4.0, 4.0, 5.0, 5.0, 5.0, 5.0, 5.0, 5.0, 4.0, 5.0, 4.0, 5.0, 3.0, 3.0, 2.0, 5.0, 4.0, 5.0, 5.0, 5.0, 5.0, 5.0, 4.0, 3.0, 1.0, 5.0, 5.0, 4.0, 5.0, 5.0, 4.0, 1.0, 4.0, 2.0, 4.0, 3.0, 1.0, 2.0, 5.0, 5.0, 5.0, 5.0, 4.0, 5.0, 5.0, 5.0, 4.0, 4.0, 5.0, 2.0, 4.0, 4.0, 4.0, 5.0, 4.0, 5.0, 5.0, 1.0, 5.0, 3.0, 5.0, 4.0, 1.0, 4.0, 5.0, 5.0, 4.0, 5.0, 4.0, 4.0, 5.0, 4.0, 5.0, 4.0, 5.0, 5.0, 1.0, 3.0, 1.0, 4.0, 5.0, 4.0, 1.0, 5.0, 3.0, 4.0, 3.0, 5.0, 1.0, 4.0, 4.0, 3.0, 5.0, 5.0, 1.0, 5.0, 5.0, 5.0, 4.0, 4.0, 4.0, 3.0, 5.0, 5.0, 5.0, 3.0, 4.0, 4.0, 1.0, 5.0, 4.0, 3.0, 2.0, 4.0, 4.0, 5.0, 1.0, 4.0, 3.0, 4.0, 5.0, 3.0, 5.0, 5.0, 5.0, 2.0, 2.0, 4.0, 1.0, 4.0, 4.0, 5.0, 5.0, 5.0, 5.0, 5.0, 5.0, 5.0, 2.0, 3.0, 4.0, 5.0, 4.0, 4.0, 5.0, 2.0, 2.0, 4.0, 5.0, 5.0, 1.0, 5.0, 5.0, 4.0, 4.0, 3.0, 5.0, 4.0, 5.0, 5.0, 5.0, 5.0, 5.0, 4.0, 1.0, 4.0, 3.0, 2.0, 2.0, 5.0, 5.0, 4.0, 5.0, 5.0, 3.0, 4.0, 5.0, 5.0, 2.0, 3.0, 5.0, 2.0, 4.0, 1.0, 3.0, 3.0, 5.0, 5.0, 5.0, 5.0, 5.0, 5.0, 5.0, 5.0, 5.0, 4.0, 3.0, 3.0, 5.0, 5.0, 1.0, 5.0, 5.0, 5.0, 1.0, 5.0, 4.0, 5.0, 4.0, 4.0, 4.0, 4.0, 5.0, 3.0, 5.0, 4.0, 4.0, 5.0, 5.0, 4.0, 3.0, 4.0, 5.0, 4.0, 5.0, 5.0, 4.0, 4.0, 4.0, 5.0, 4.0, 4.0, 4.0, 5.0, 5.0, 5.0, 2.0, 5.0, 4.0, 5.0, 3.0, 5.0, 4.0, 2.0, 5.0, 3.0, 1.0, 4.0, 5.0, 5.0, 5.0, 4.0, 2.0, 4.0, 5.0, 3.0, 5.0, 5.0, 4.0, 2.0, 4.0, 3.0, 1.0, 5.0, 5.0, 5.0, 5.0, 5.0, 4.0, 4.0, 5.0, 5.0, 3.0, 3.0, 5.0, 4.0, 5.0, 5.0, 4.0, 4.0, 5.0, 4.0, 3.0, 5.0, 4.0, 5.0, 4.0, 5.0, 4.0, 3.0, 5.0, 4.0, 4.0, 5.0, 3.0, 4.0, 4.0, 4.0, 5.0, 5.0, 4.0, 3.0, 3.0, 3.0, 5.0, 4.0, 5.0, 2.0, 5.0, 5.0, 3.0, 3.0, 5.0, 4.0, 3.0, 5.0, 4.0, 4.0, 5.0, 5.0, 5.0, 3.0, 5.0, 4.0, 5.0, 4.0, 5.0, 4.0, 5.0, 3.0, 5.0, 5.0, 4.0, 3.0, 5.0, 4.0, 5.0, 4.0, 3.0, 3.0, 5.0, 2.0, 3.0, 4.0, 5.0, 3.0, 4.0, 3.0, 4.0, 4.0, 2.0, 4.0, 4.0, 4.0, 3.0, 3.0, 2.0, 3.0, 5.0, 4.0, 4.0, 4.0, 3.0, 2.0, 1.0, 4.0, 3.0, 1.0, 2.0, 5.0, 5.0, 4.0, 5.0, 5.0, 3.0, 4.0, 5.0, 4.0, 4.0, 4.0, 4.0, 2.0, 3.0, 4.0, 4.0, 4.0, 5.0, 5.0, 4.0, 5.0, 1.0, 3.0, 4.0, 5.0, 4.0, 5.0, 4.0, 5.0, 4.0, 4.0, 1.0, 5.0, 5.0, 1.0, 3.0, 5.0, 4.0, 4.0, 5.0, 1.0, 4.0, 4.0, 2.0, 4.0, 2.0, 4.0, 4.0, 5.0, 5.0, 4.0, 5.0, 4.0, 2.0, 5.0, 4.0, 4.0, 5.0, 5.0, 4.0, 5.0, 3.0, 5.0, 4.0, 4.0, 3.0, 5.0, 5.0, 5.0, 5.0, 2.0, 5.0, 5.0, 1.0, 5.0, 4.0, 4.0, 4.0, 5.0, 5.0, 5.0, 5.0, 5.0, 3.0, 5.0, 4.0, 5.0, 5.0, 1.0, 3.0, 3.0, 1.0, 5.0, 2.0, 3.0, 4.0, 4.0, 5.0, 5.0, 4.0, 3.0, 4.0, 3.0, 1.0, 4.0, 1.0, 5.0, 5.0, 4.0, 4.0, 5.0, 5.0, 4.0, 5.0, 5.0, 5.0, 3.0, 2.0, 4.0, 5.0, 4.0, 4.0, 4.0, 3.0, 5.0, 4.0, 5.0, 3.0, 4.0, 4.0, 4.0, 4.0, 3.0, 5.0, 4.0, 5.0, 5.0, 5.0, 4.0, 5.0, 5.0, 4.0, 5.0, 5.0, 4.0, 4.0, 4.0, 4.0, 5.0, 3.0, 4.0, 2.0, 4.0, 5.0, 5.0, 5.0, 5.0, 3.0, 5.0, 3.0, 5.0, 4.0, 3.0, 5.0, 5.0, 3.0, 5.0, 4.0, 5.0, 3.0, 3.0, 4.0, 5.0, 3.0, 4.0, 5.0, 4.0, 5.0, 1.0, 5.0, 2.0, 5.0, 4.0, 5.0, 5.0, 4.0, 5.0, 1.0, 4.0, 4.0, 5.0, 1.0, 4.0, 4.0, 2.0, 5.0, 4.0, 1.0, 5.0, 4.0, 4.0, 4.0, 5.0, 4.0, 2.0, 5.0, 1.0, 4.0, 5.0, 3.0, 5.0, 5.0, 3.0, 5.0, 5.0, 4.0, 5.0, 5.0, 4.0, 5.0, 3.0, 5.0, 2.0, 5.0, 5.0, 5.0, 3.0, 2.0, 5.0, 2.0, 5.0, 5.0, 5.0, 5.0, 4.0, 4.0, 5.0, 5.0, 5.0, 3.0, 4.0, 4.0, 3.0, 5.0, 5.0, 4.0, 5.0, 3.0, 5.0, 1.0, 4.0, 4.0, 2.0, 5.0, 3.0, 4.0, 5.0, 1.0, 4.0, 5.0, 5.0, 5.0, 5.0, 2.0, 1.0, 3.0, 5.0, 5.0, 3.0, 4.0, 4.0, 5.0, 5.0, 4.0, 5.0, 5.0, 4.0, 4.0, 4.0, 4.0, 2.0, 4.0, 5.0, 3.0, 5.0, 3.0, 4.0, 2.0, 2.0, 3.0, 3.0, 5.0, 5.0, 4.0, 4.0, 5.0, 4.0, 5.0, 5.0, 4.0, 4.0, 4.0, 5.0, 3.0, 5.0, 5.0, 5.0, 5.0, 5.0, 3.0, 5.0, 4.0, 5.0, 4.0, 5.0, 4.0, 3.0, 5.0, 5.0, 5.0, 5.0, 5.0, 5.0, 5.0, 3.0, 4.0, 5.0, 2.0, 2.0, 3.0, 3.0, 5.0, 4.0, 1.0, 5.0, 5.0, 4.0, 5.0, 3.0, 4.0, 5.0, 5.0, 3.0, 2.0, 2.0, 5.0, 4.0, 2.0, 5.0, 5.0, 1.0, 5.0, 3.0, 5.0, 3.0, 3.0, 5.0, 4.0, 1.0, 4.0, 3.0, 4.0, 5.0, 2.0, 5.0, 5.0, 5.0, 4.0, 4.0, 3.0, 4.0, 5.0, 5.0, 5.0, 4.0, 4.0, 5.0, 1.0, 5.0, 2.0, 5.0, 5.0, 2.0, 4.0, 2.0, 5.0, 1.0, 5.0, 4.0, 3.0, 3.0, 2.0, 4.0, 3.0, 5.0, 3.0, 5.0, 5.0, 4.0, 4.0, 5.0, 5.0, 5.0, 4.0, 5.0, 4.0, 3.0, 5.0, 4.0, 3.0, 4.0, 5.0, 4.0, 2.0, 5.0, 4.0, 4.0, 3.0, 4.0, 3.0, 5.0, 3.0, 5.0, 3.0, 4.0, 4.0, 5.0, 5.0, 1.0, 5.0, 4.0, 3.0, 4.0, 5.0, 5.0, 3.0, 5.0, 4.0, 4.0, 5.0, 3.0, 3.0, 2.0, 4.0, 1.0, 3.0, 4.0, 5.0, 2.0, 5.0, 5.0, 2.0, 4.0, 5.0, 3.0, 4.0, 1.0, 2.0, 5.0, 5.0, 5.0, 5.0, 3.0, 3.0, 4.0, 5.0, 2.0, 5.0, 5.0, 5.0, 5.0, 1.0, 3.0, 4.0, 1.0, 4.0, 2.0, 3.0, 5.0, 5.0, 5.0, 5.0, 1.0, 4.0, 4.0, 4.0, 4.0, 4.0, 5.0, 4.0, 5.0, 3.0, 5.0, 1.0, 4.0, 4.0, 5.0, 2.0, 3.0, 4.0, 1.0, 3.0, 1.0, 5.0, 3.0, 1.0, 5.0, 4.0, 5.0, 5.0, 5.0, 4.0, 4.0, 1.0, 3.0, 1.0, 5.0, 4.0, 5.0, 4.0, 5.0, 2.0, 4.0, 2.0, 4.0, 5.0, 4.0, 5.0, 5.0, 5.0, 5.0, 5.0, 4.0, 3.0, 5.0, 5.0, 2.0, 5.0, 4.0, 5.0, 5.0, 2.0, 2.0, 2.0, 5.0, 5.0, 3.0, 2.0, 5.0, 4.0, 5.0, 5.0, 5.0, 4.0, 4.0, 4.0, 4.0, 5.0, 4.0, 5.0, 5.0, 4.0, 3.0, 5.0, 4.0, 3.0, 2.0, 5.0, 5.0, 5.0, 5.0, 4.0, 3.0, 1.0, 4.0, 5.0, 4.0, 5.0, 5.0, 4.0, 5.0, 2.0, 5.0, 3.0, 5.0, 5.0, 5.0, 4.0, 5.0, 5.0, 4.0, 3.0, 5.0, 5.0, 5.0, 5.0, 5.0, 5.0, 3.0, 2.0, 2.0, 5.0, 1.0, 5.0, 2.0, 5.0, 5.0, 5.0, 4.0, 5.0, 1.0, 4.0, 5.0, 4.0, 2.0, 3.0, 5.0, 5.0, 5.0, 5.0, 4.0, 5.0, 3.0, 2.0, 5.0, 3.0, 5.0, 5.0, 5.0, 4.0, 3.0, 5.0, 3.0, 3.0, 4.0, 5.0, 5.0, 2.0, 5.0, 3.0, 5.0, 5.0, 5.0, 4.0, 1.0, 3.0, 5.0, 4.0, 3.0, 5.0, 5.0, 4.0, 4.0, 5.0, 3.0, 2.0, 5.0, 3.0, 5.0, 2.0, 5.0, 2.0, 2.0, 4.0, 4.0, 5.0, 5.0, 4.0, 5.0, 3.0, 3.0, 4.0, 4.0, 5.0, 5.0, 4.0, 2.0, 5.0, 4.0, 5.0, 2.0, 5.0, 4.0, 2.0, 5.0, 4.0, 5.0, 4.0, 4.0, 4.0, 5.0, 4.0, 1.0, 4.0, 4.0, 4.0, 1.0, 4.0, 5.0, 2.0, 1.0, 3.0, 5.0, 4.0, 5.0, 3.0, 5.0, 5.0, 5.0, 5.0, 3.0, 4.0, 4.0, 5.0, 1.0, 4.0, 5.0, 4.0, 5.0, 5.0, 3.0, 3.0, 5.0, 3.0, 4.0, 3.0, 5.0, 5.0, 3.0, 5.0, 5.0, 4.0, 5.0, 4.0, 3.0, 5.0, 4.0, 3.0, 5.0, 2.0, 4.0, 5.0, 2.0, 4.0, 4.0, 3.0, 4.0, 3.0, 4.0, 4.0, 4.0, 4.0, 5.0, 5.0, 4.0, 4.0, 5.0, 5.0, 4.0, 4.0, 2.0, 5.0, 5.0, 4.0, 4.0, 3.0, 5.0, 5.0, 5.0, 5.0, 1.0, 5.0, 3.0, 5.0, 3.0, 4.0, 5.0, 3.0, 2.0, 5.0, 5.0, 5.0, 4.0, 1.0, 5.0, 4.0, 4.0, 4.0, 5.0, 5.0, 4.0, 5.0, 4.0, 5.0, 4.0, 2.0, 3.0, 2.0, 2.0, 3.0, 5.0, 3.0, 5.0, 5.0, 3.0, 4.0, 5.0, 3.0, 3.0, 3.0, 4.0, 3.0, 5.0, 5.0, 5.0, 4.0, 4.0, 4.0, 4.0, 4.0, 5.0, 2.0, 3.0, 4.0, 4.0, 5.0, 5.0, 3.0, 4.0, 4.0, 5.0, 2.0, 4.0, 5.0, 4.0, 5.0, 5.0, 2.0, 3.0, 5.0, 4.0, 3.0, 5.0, 3.0, 2.0, 4.0, 5.0, 5.0, 5.0, 5.0, 5.0, 5.0, 5.0, 4.0, 1.0, 4.0, 5.0, 1.0, 4.0, 3.0, 5.0, 4.0, 5.0, 3.0, 5.0, 2.0, 5.0, 3.0, 5.0, 5.0, 4.0, 3.0, 3.0, 5.0, 4.0, 5.0, 4.0, 5.0, 4.0, 4.0, 3.0, 5.0, 5.0, 4.0, 2.0, 5.0, 5.0, 4.0, 3.0, 5.0, 2.0, 4.0, 3.0, 5.0, 4.0, 4.0, 5.0, 2.0, 5.0, 1.0, 3.0, 2.0, 5.0, 4.0, 5.0, 4.0, 2.0, 5.0, 2.0, 5.0, 5.0, 2.0, 5.0, 3.0, 5.0, 5.0, 2.0, 5.0, 5.0, 3.0, 5.0, 5.0, 3.0, 4.0, 5.0, 5.0, 4.0, 4.0, 5.0, 5.0, 5.0, 5.0, 5.0, 5.0, 3.0, 5.0, 1.0, 3.0, 1.0, 4.0, 5.0, 5.0, 5.0, 5.0, 4.0, 5.0, 4.0, 4.0, 4.0, 3.0, 5.0, 5.0, 2.0, 4.0, 3.0, 5.0, 2.0, 5.0, 2.0, 5.0, 4.0, 5.0, 1.0, 4.0, 5.0, 1.0, 4.0, 2.0, 4.0, 2.0, 1.0, 2.0, 3.0, 3.0, 2.0, 4.0, 5.0, 5.0, 5.0, 5.0, 5.0, 5.0, 4.0, 5.0, 4.0, 5.0, 3.0, 2.0, 4.0, 5.0, 5.0, 5.0, 5.0, 4.0, 5.0, 2.0, 5.0, 3.0, 1.0, 4.0, 3.0, 5.0, 4.0, 5.0, 4.0, 4.0, 5.0, 2.0, 4.0, 3.0, 5.0, 5.0, 2.0, 1.0, 5.0, 5.0, 4.0, 4.0, 5.0, 3.0, 3.0, 5.0, 3.0, 4.0, 5.0, 3.0, 5.0, 5.0, 2.0, 5.0, 4.0, 4.0, 5.0, 5.0, 3.0, 5.0, 3.0, 5.0, 3.0, 4.0, 5.0, 1.0, 5.0, 1.0, 5.0, 5.0, 1.0, 5.0, 5.0, 5.0, 1.0, 5.0, 5.0, 5.0, 3.0, 4.0, 5.0, 4.0, 4.0, 4.0, 1.0, 5.0, 5.0, 4.0, 4.0, 5.0, 5.0, 5.0, 5.0, 5.0, 2.0, 3.0, 5.0, 4.0, 5.0, 3.0, 4.0, 1.0, 4.0, 5.0, 4.0, 4.0, 4.0, 5.0, 5.0, 3.0, 4.0, 4.0, 3.0, 5.0, 4.0, 4.0, 4.0, 5.0, 4.0, 2.0, 1.0, 4.0, 3.0, 5.0, 5.0, 5.0, 4.0, 5.0, 2.0, 5.0, 5.0, 4.0, 5.0, 2.0, 1.0, 1.0, 4.0, 5.0, 4.0, 4.0, 4.0, 5.0, 4.0, 3.0, 1.0, 3.0, 4.0, 5.0, 4.0, 4.0, 5.0, 4.0, 5.0, 3.0, 4.0, 1.0, 5.0, 5.0, 1.0, 4.0, 5.0, 5.0, 5.0, 4.0, 4.0, 5.0, 4.0, 3.0, 5.0, 4.0, 3.0, 3.0, 5.0, 3.0, 2.0, 5.0, 1.0, 5.0, 3.0, 5.0, 1.0, 4.0, 2.0, 5.0, 4.0, 4.0, 5.0, 5.0, 4.0, 4.0, 4.0, 3.0, 2.0, 5.0, 4.0, 2.0, 5.0, 2.0, 4.0, 5.0, 5.0, 5.0, 2.0, 4.0, 1.0, 3.0, 5.0, 4.0, 4.0, 2.0, 5.0, 4.0, 5.0, 5.0, 5.0, 4.0, 4.0, 2.0, 3.0, 5.0, 5.0, 3.0, 5.0, 2.0, 1.0, 3.0, 5.0, 5.0, 5.0, 5.0, 3.0, 4.0, 4.0, 5.0, 3.0, 1.0, 2.0, 3.0, 4.0, 1.0, 1.0, 2.0, 3.0, 5.0, 4.0, 3.0, 1.0, 3.0, 5.0, 4.0, 5.0, 5.0, 1.0, 5.0, 4.0, 5.0, 4.0, 4.0, 5.0, 5.0, 4.0, 2.0, 5.0, 5.0, 5.0, 5.0, 2.0, 5.0, 5.0, 1.0, 4.0, 4.0, 4.0, 4.0, 4.0, 4.0, 3.0, 5.0, 3.0, 4.0, 5.0, 5.0, 5.0, 4.0, 5.0, 5.0, 3.0, 4.0, 3.0, 3.0, 5.0, 5.0, 5.0, 4.0, 4.0, 4.0, 3.0, 2.0, 5.0, 5.0, 5.0, 5.0, 3.0, 3.0, 5.0, 5.0, 4.0, 5.0, 5.0, 5.0, 2.0, 5.0, 5.0, 3.0, 2.0, 1.0, 5.0, 5.0, 5.0, 4.0, 5.0, 5.0, 4.0, 1.0, 1.0, 4.0, 5.0, 4.0, 4.0, 5.0, 5.0, 4.0, 5.0, 5.0, 4.0, 4.0, 4.0, 5.0, 4.0, 5.0, 4.0, 5.0, 3.0, 3.0, 5.0, 5.0, 3.0, 4.0, 5.0, 5.0, 5.0, 2.0, 4.0, 4.0, 5.0, 5.0, 5.0, 4.0, 4.0, 3.0, 2.0, 4.0, 4.0, 3.0, 3.0, 2.0, 5.0, 5.0, 3.0, 5.0, 5.0, 5.0, 1.0, 1.0, 5.0, 5.0, 5.0, 3.0, 4.0, 5.0, 5.0, 5.0, 4.0, 3.0, 4.0, 5.0, 5.0, 4.0, 5.0, 3.0, 4.0, 5.0, 2.0, 5.0, 4.0, 4.0, 4.0, 5.0, 5.0, 4.0, 1.0, 5.0, 3.0, 3.0, 1.0, 5.0, 5.0, 4.0, 4.0, 5.0, 3.0, 5.0, 3.0, 4.0, 2.0, 4.0, 5.0, 5.0, 5.0, 4.0, 2.0, 5.0, 1.0, 5.0, 5.0, 5.0, 4.0, 4.0, 4.0, 2.0, 2.0, 4.0, 3.0, 5.0, 4.0, 3.0, 3.0, 3.0, 4.0, 3.0, 5.0, 4.0, 4.0, 3.0, 3.0, 2.0, 3.0, 5.0, 3.0, 3.0, 5.0, 4.0, 5.0, 5.0, 4.0, 5.0, 4.0, 3.0, 4.0, 2.0, 4.0, 5.0, 1.0, 5.0, 5.0, 5.0, 4.0, 3.0, 5.0, 3.0, 5.0, 2.0, 5.0, 5.0, 4.0, 3.0, 5.0, 1.0, 5.0, 5.0, 1.0, 5.0, 4.0, 4.0, 5.0, 5.0, 4.0, 4.0, 2.0, 5.0, 5.0, 2.0, 5.0, 2.0, 5.0, 4.0, 3.0, 5.0, 5.0, 1.0, 2.0, 4.0, 4.0, 4.0, 1.0, 4.0, 4.0, 4.0, 3.0, 5.0, 4.0, 3.0, 5.0, 5.0, 5.0, 4.0, 5.0, 3.0, 5.0, 3.0, 5.0, 5.0, 4.0, 2.0, 5.0, 4.0, 3.0, 1.0, 4.0, 5.0, 4.0, 4.0, 5.0, 4.0, 5.0, 4.0, 5.0, 4.0, 5.0, 1.0, 5.0, 3.0, 5.0, 5.0, 2.0, 4.0, 4.0, 1.0, 3.0, 5.0, 5.0, 5.0, 5.0, 3.0, 4.0, 4.0, 4.0, 5.0, 5.0, 4.0, 5.0, 3.0, 4.0, 5.0, 1.0, 2.0, 5.0, 5.0, 1.0, 4.0, 5.0, 5.0, 4.0, 2.0, 1.0, 5.0, 4.0, 3.0, 2.0, 5.0, 2.0, 5.0, 5.0, 2.0, 4.0, 3.0, 1.0, 5.0, 1.0, 4.0, 5.0, 5.0, 3.0, 3.0, 3.0, 5.0, 4.0, 5.0, 4.0, 3.0, 5.0, 1.0, 3.0, 3.0, 4.0, 3.0, 2.0, 4.0, 4.0, 4.0, 4.0, 5.0, 4.0, 4.0, 4.0, 5.0, 4.0, 5.0, 2.0, 1.0, 3.0, 5.0, 4.0, 5.0, 5.0, 4.0, 3.0, 4.0, 4.0, 1.0, 5.0, 2.0, 3.0, 4.0, 3.0, 5.0, 5.0, 5.0, 4.0, 2.0, 3.0, 3.0, 2.0, 4.0, 5.0, 4.0, 5.0, 4.0, 5.0, 5.0, 3.0, 3.0, 2.0, 3.0, 4.0, 4.0, 5.0, 5.0, 4.0, 4.0, 5.0, 3.0, 3.0, 3.0, 5.0, 3.0, 5.0, 1.0, 5.0, 5.0, 5.0, 5.0, 4.0, 3.0, 4.0, 3.0, 3.0, 5.0, 5.0, 4.0, 4.0, 5.0, 4.0, 4.0, 1.0, 5.0, 5.0, 4.0, 1.0, 3.0, 4.0, 4.0, 5.0, 5.0, 4.0, 3.0, 5.0, 1.0, 5.0, 1.0, 4.0, 5.0, 2.0, 5.0, 4.0, 5.0, 5.0, 1.0, 3.0, 5.0, 5.0, 5.0, 4.0, 1.0, 2.0, 5.0, 5.0, 2.0, 5.0, 5.0, 4.0, 5.0, 5.0, 5.0, 1.0, 5.0, 4.0, 5.0, 5.0, 5.0, 4.0, 4.0, 5.0, 5.0, 5.0, 5.0, 5.0, 5.0, 4.0, 5.0, 5.0, 5.0, 4.0, 5.0, 3.0, 5.0, 4.0, 5.0, 2.0, 5.0, 5.0, 5.0, 2.0, 5.0, 3.0, 5.0, 5.0, 5.0, 4.0, 4.0, 2.0, 3.0, 3.0, 4.0, 1.0, 5.0, 2.0, 1.0, 2.0, 4.0, 5.0, 4.0, 5.0, 4.0, 1.0, 3.0, 5.0, 5.0, 5.0, 4.0, 5.0, 4.0, 5.0, 4.0, 4.0, 5.0, 5.0, 1.0, 3.0, 4.0, 4.0, 5.0, 3.0, 3.0, 5.0, 5.0, 4.0, 2.0, 4.0, 5.0, 5.0, 4.0, 4.0, 5.0, 5.0, 4.0, 1.0, 5.0, 2.0, 5.0, 4.0, 5.0, 5.0, 4.0, 5.0, 3.0, 4.0, 4.0, 3.0, 5.0, 4.0, 4.0, 2.0, 4.0, 5.0, 5.0, 3.0, 5.0, 5.0, 4.0, 5.0, 4.0, 5.0, 5.0, 5.0, 4.0, 5.0, 5.0, 2.0, 1.0, 5.0, 5.0, 3.0, 5.0, 4.0, 4.0, 5.0, 5.0, 3.0, 4.0, 5.0, 5.0, 5.0, 3.0, 2.0, 3.0, 5.0, 5.0, 4.0, 4.0, 5.0, 5.0, 5.0, 5.0, 3.0, 2.0, 4.0, 4.0, 5.0, 5.0, 4.0, 4.0, 4.0, 2.0, 5.0, 3.0, 5.0, 2.0, 5.0, 4.0, 5.0, 4.0, 4.0, 5.0, 3.0, 5.0, 4.0, 5.0, 5.0, 4.0, 5.0, 4.0, 5.0, 5.0, 3.0, 5.0, 4.0, 5.0, 5.0, 4.0, 1.0, 5.0, 5.0, 3.0, 4.0, 4.0, 3.0, 5.0, 4.0, 5.0, 5.0, 3.0, 4.0, 3.0, 5.0, 5.0, 2.0, 5.0, 5.0, 4.0, 3.0, 5.0, 4.0, 5.0, 3.0, 5.0, 5.0, 5.0, 4.0, 5.0, 5.0, 4.0, 1.0, 5.0, 5.0, 5.0, 5.0, 3.0, 4.0, 3.0, 4.0, 4.0, 4.0, 5.0, 1.0, 5.0, 4.0, 5.0, 4.0, 5.0, 3.0, 3.0, 5.0, 4.0, 3.0, 4.0, 4.0, 4.0, 4.0, 5.0, 5.0, 5.0, 3.0, 5.0, 4.0, 3.0, 4.0, 5.0, 5.0, 2.0, 4.0, 4.0, 5.0, 4.0, 1.0, 2.0, 4.0, 5.0, 3.0, 5.0, 3.0, 3.0, 5.0, 5.0, 5.0, 5.0, 5.0, 5.0, 4.0, 5.0, 5.0, 5.0, 5.0, 3.0, 4.0, 5.0, 1.0, 3.0, 4.0, 4.0, 5.0, 5.0, 5.0, 4.0, 5.0, 1.0, 4.0, 3.0, 5.0, 1.0, 2.0, 3.0, 4.0, 5.0, 5.0, 5.0, 5.0, 5.0, 5.0, 4.0, 4.0, 4.0, 5.0, 5.0, 3.0, 4.0, 1.0, 1.0, 1.0, 4.0, 1.0, 5.0, 4.0, 3.0, 5.0, 1.0, 4.0, 3.0, 4.0, 5.0, 5.0, 5.0, 5.0, 3.0, 4.0, 5.0, 4.0, 4.0, 5.0, 5.0, 5.0, 2.0, 3.0, 4.0, 3.0, 4.0, 4.0, 5.0, 5.0, 3.0, 2.0, 5.0, 3.0, 1.0, 5.0, 4.0, 3.0, 4.0, 3.0, 5.0, 3.0, 4.0, 5.0, 4.0, 4.0, 5.0, 3.0, 5.0, 4.0, 4.0, 5.0, 4.0, 4.0, 5.0, 5.0, 3.0, 5.0, 5.0, 4.0, 3.0, 5.0, 5.0, 5.0, 4.0, 5.0, 5.0, 4.0, 4.0, 3.0, 5.0, 4.0, 5.0, 3.0, 4.0, 3.0, 2.0, 1.0, 5.0, 4.0, 4.0, 4.0, 4.0, 4.0, 5.0, 1.0, 3.0, 5.0, 4.0, 3.0, 4.0, 5.0, 4.0, 4.0, 5.0, 5.0, 5.0, 5.0, 4.0, 4.0, 5.0, 4.0, 4.0, 4.0, 4.0, 1.0, 1.0, 5.0, 4.0, 4.0, 2.0, 2.0, 3.0, 4.0, 5.0, 3.0, 5.0, 4.0, 2.0, 3.0, 3.0, 3.0, 4.0, 5.0, 4.0, 5.0, 4.0, 3.0, 5.0, 2.0, 3.0, 3.0, 5.0, 4.0, 4.0, 4.0, 4.0, 5.0, 5.0, 4.0, 4.0, 4.0, 5.0, 3.0, 4.0, 5.0, 5.0, 5.0, 5.0, 5.0, 4.0, 5.0, 3.0, 5.0, 4.0, 5.0, 3.0, 4.0, 5.0, 3.0, 4.0, 5.0, 5.0, 4.0, 5.0, 5.0, 5.0, 2.0, 3.0, 4.0, 5.0, 5.0, 5.0, 3.0, 4.0, 5.0, 4.0, 4.0, 2.0, 3.0, 4.0, 4.0, 4.0, 4.0, 5.0, 5.0, 3.0, 3.0, 5.0, 5.0, 4.0, 5.0, 5.0, 4.0, 4.0, 2.0, 4.0, 5.0, 3.0, 2.0, 5.0, 4.0, 5.0, 3.0, 5.0, 5.0, 4.0, 5.0, 5.0, 5.0, 2.0, 3.0, 5.0, 2.0, 5.0, 5.0, 4.0, 5.0, 5.0, 4.0, 1.0, 3.0, 4.0, 3.0, 4.0, 1.0, 4.0, 4.0, 5.0, 5.0, 4.0, 5.0, 5.0, 4.0, 2.0, 4.0, 4.0, 5.0, 4.0, 3.0, 5.0, 5.0, 1.0, 4.0, 2.0, 3.0, 3.0, 5.0, 5.0, 5.0, 1.0, 3.0, 3.0, 4.0, 5.0, 4.0, 5.0, 5.0, 5.0, 5.0, 3.0, 3.0, 1.0, 3.0, 4.0, 1.0, 5.0, 3.0, 1.0, 5.0, 2.0, 5.0, 2.0, 5.0, 5.0, 5.0, 3.0, 5.0, 5.0, 4.0, 5.0, 1.0, 4.0, 1.0, 5.0, 2.0, 5.0, 3.0, 2.0, 4.0, 4.0, 5.0, 5.0, 3.0, 5.0, 5.0, 4.0, 2.0, 5.0, 5.0, 5.0, 3.0, 3.0, 4.0, 4.0, 4.0, 3.0, 4.0, 2.0, 5.0, 5.0, 5.0, 5.0, 5.0, 4.0, 4.0, 4.0, 1.0, 5.0, 5.0, 5.0, 5.0, 3.0, 1.0, 4.0, 3.0, 5.0, 5.0, 4.0, 5.0, 4.0, 1.0, 4.0, 5.0, 5.0, 3.0, 5.0, 5.0, 5.0, 3.0, 4.0, 4.0, 5.0, 2.0, 2.0, 4.0, 5.0, 4.0, 3.0, 5.0, 5.0, 4.0, 4.0, 4.0, 3.0, 5.0, 5.0, 1.0, 5.0, 5.0, 3.0, 2.0, 4.0, 5.0, 4.0, 5.0, 5.0, 3.0, 4.0, 2.0, 4.0, 4.0, 5.0, 1.0, 5.0, 4.0, 1.0, 4.0, 5.0, 4.0, 4.0, 5.0, 4.0, 3.0, 4.0, 5.0, 4.0, 3.0, 2.0, 5.0, 1.0, 4.0, 3.0, 2.0, 5.0, 5.0, 5.0, 4.0, 3.0, 5.0, 1.0, 5.0, 5.0, 2.0, 5.0, 5.0, 3.0, 4.0, 3.0, 2.0, 1.0, 4.0, 1.0, 5.0, 1.0, 4.0, 4.0, 4.0, 3.0, 3.0, 5.0, 2.0, 4.0, 3.0, 4.0, 5.0, 5.0, 1.0, 4.0, 4.0, 4.0, 3.0, 5.0, 5.0, 5.0, 3.0, 4.0, 2.0, 5.0, 5.0, 5.0, 5.0, 3.0, 5.0, 5.0, 4.0, 5.0, 4.0, 1.0, 5.0, 1.0, 5.0, 1.0, 5.0, 5.0, 5.0, 5.0, 5.0, 3.0, 5.0, 5.0, 4.0, 5.0, 3.0, 4.0, 5.0, 5.0, 5.0, 5.0, 5.0, 4.0, 4.0, 2.0, 5.0, 4.0, 3.0, 4.0, 5.0, 3.0, 5.0, 3.0, 3.0, 5.0, 1.0, 5.0, 4.0, 2.0, 4.0, 4.0, 3.0, 5.0, 3.0, 2.0, 5.0, 4.0, 5.0, 4.0, 4.0, 4.0, 4.0, 5.0, 5.0, 3.0, 5.0, 4.0, 5.0, 5.0, 4.0, 2.0, 4.0, 5.0, 5.0, 1.0, 3.0, 5.0, 3.0, 3.0, 3.0, 5.0, 4.0, 5.0, 4.0, 3.0, 5.0, 5.0, 4.0, 5.0, 3.0, 5.0, 5.0, 5.0, 2.0, 5.0, 4.0, 4.0, 5.0, 4.0, 5.0, 4.0, 4.0, 5.0, 5.0, 1.0, 5.0, 3.0, 4.0, 3.0, 4.0, 5.0, 3.0, 5.0, 3.0, 5.0, 4.0, 3.0, 4.0, 2.0, 5.0, 4.0, 4.0, 5.0, 5.0, 1.0, 5.0, 5.0, 5.0, 5.0, 5.0, 1.0, 4.0, 5.0, 5.0, 2.0, 5.0, 5.0, 2.0, 5.0, 1.0, 5.0, 3.0, 5.0, 1.0, 4.0, 4.0, 5.0, 5.0, 5.0, 4.0, 5.0, 5.0, 5.0, 5.0, 5.0, 2.0, 1.0, 5.0, 5.0, 4.0, 2.0, 4.0, 5.0, 4.0, 3.0, 1.0, 4.0, 5.0, 5.0, 5.0, 3.0, 5.0, 5.0, 4.0, 4.0, 2.0, 5.0, 4.0, 5.0, 1.0, 4.0, 5.0, 2.0, 5.0, 3.0, 4.0, 5.0, 5.0, 5.0, 5.0, 3.0, 4.0, 4.0, 5.0, 5.0, 3.0, 1.0, 5.0, 3.0, 5.0, 5.0, 3.0, 3.0, 5.0, 4.0, 5.0, 2.0, 5.0, 5.0, 2.0, 5.0, 5.0, 4.0, 4.0, 5.0, 1.0, 5.0, 5.0, 3.0, 3.0, 5.0, 5.0, 4.0, 5.0, 5.0, 4.0, 5.0, 4.0, 4.0, 1.0, 3.0, 5.0, 5.0, 5.0, 3.0, 5.0, 4.0, 3.0, 5.0, 4.0, 4.0, 5.0, 5.0, 5.0, 5.0, 1.0, 3.0, 4.0, 4.0, 4.0, 5.0, 4.0, 2.0, 2.0, 1.0, 5.0, 5.0, 4.0, 1.0, 5.0, 1.0, 5.0, 4.0, 5.0, 4.0, 3.0, 5.0, 4.0, 5.0, 5.0, 4.0, 5.0, 2.0, 3.0, 5.0, 4.0, 4.0, 5.0, 5.0, 4.0, 4.0, 3.0, 2.0, 2.0, 3.0, 5.0, 5.0, 5.0, 5.0, 1.0, 5.0, 5.0, 4.0, 5.0, 1.0, 5.0, 5.0, 5.0, 1.0, 3.0, 5.0, 4.0, 4.0, 4.0, 4.0, 3.0, 3.0, 5.0, 4.0, 4.0, 4.0, 5.0, 4.0, 5.0, 5.0, 3.0, 1.0, 5.0, 3.0, 5.0, 5.0, 5.0, 5.0, 5.0, 4.0, 4.0, 1.0, 2.0, 5.0, 4.0, 5.0, 5.0, 5.0, 3.0, 5.0, 4.0, 5.0, 3.0, 4.0, 5.0, 5.0, 5.0, 4.0, 4.0, 5.0, 5.0, 5.0, 3.0, 5.0, 5.0, 5.0, 3.0, 4.0, 5.0, 4.0, 5.0, 3.0, 5.0, 5.0, 5.0, 5.0, 5.0, 4.0, 4.0, 4.0, 5.0, 4.0, 5.0, 2.0, 5.0, 5.0, 4.0, 1.0, 2.0, 5.0, 5.0, 2.0, 5.0, 5.0, 3.0, 5.0, 4.0, 5.0, 4.0, 3.0, 4.0, 5.0, 2.0, 2.0, 3.0, 5.0, 3.0, 3.0, 4.0, 4.0, 4.0, 1.0, 5.0, 2.0, 1.0, 5.0, 4.0, 4.0, 4.0, 4.0, 4.0, 5.0, 5.0, 3.0, 5.0, 5.0, 2.0, 5.0, 5.0, 3.0, 5.0, 5.0, 1.0, 3.0, 5.0, 5.0, 4.0, 5.0, 4.0, 4.0, 5.0, 5.0, 1.0, 4.0, 4.0, 5.0, 4.0, 5.0, 1.0, 5.0, 4.0, 3.0, 3.0, 5.0, 4.0, 3.0, 3.0, 5.0, 5.0, 4.0, 5.0, 5.0, 3.0, 5.0, 5.0, 4.0, 2.0, 2.0, 3.0, 5.0, 5.0, 2.0, 4.0, 3.0, 3.0, 4.0, 1.0, 4.0, 3.0, 4.0, 4.0, 5.0, 3.0, 3.0, 4.0, 5.0, 2.0, 5.0, 5.0, 5.0, 2.0, 5.0, 2.0, 2.0, 4.0, 2.0, 5.0, 1.0, 5.0, 5.0, 4.0, 3.0, 4.0, 5.0, 3.0, 4.0, 1.0, 4.0, 1.0, 4.0, 5.0, 3.0, 3.0, 4.0, 5.0, 5.0, 3.0, 3.0, 5.0, 5.0, 4.0, 5.0, 3.0, 3.0, 2.0, 5.0, 5.0, 4.0, 5.0, 1.0, 5.0, 3.0, 5.0, 4.0, 4.0, 1.0, 1.0, 4.0, 5.0, 4.0, 4.0, 1.0, 5.0, 5.0, 5.0, 5.0, 5.0, 5.0, 3.0, 4.0, 5.0, 4.0, 5.0, 4.0, 4.0, 5.0, 2.0, 2.0, 5.0, 2.0, 4.0, 5.0, 2.0, 3.0, 3.0, 5.0, 3.0, 4.0, 1.0, 5.0, 4.0, 4.0, 1.0, 4.0, 5.0, 5.0, 3.0, 4.0, 3.0, 5.0, 5.0, 4.0, 5.0, 4.0, 2.0, 5.0, 4.0, 4.0, 3.0, 4.0, 3.0, 3.0, 5.0, 3.0, 3.0, 5.0, 4.0, 1.0, 3.0, 5.0, 4.0, 4.0, 5.0, 3.0, 4.0, 5.0, 5.0, 4.0, 1.0, 5.0, 5.0, 3.0, 5.0, 5.0, 3.0, 4.0, 5.0, 5.0, 5.0, 5.0, 4.0, 2.0, 2.0, 4.0, 4.0, 4.0, 5.0, 3.0, 3.0, 2.0, 5.0, 3.0, 5.0, 5.0, 4.0, 4.0, 4.0, 1.0, 5.0, 3.0, 4.0, 5.0, 5.0, 5.0, 3.0, 4.0, 3.0, 4.0, 5.0, 4.0, 3.0, 5.0, 5.0, 4.0, 2.0, 4.0, 3.0, 5.0, 5.0, 5.0, 5.0, 4.0, 2.0, 5.0, 4.0, 2.0, 5.0, 4.0, 5.0, 5.0, 5.0, 5.0, 2.0, 2.0, 2.0, 1.0, 5.0, 5.0, 5.0, 3.0, 5.0, 3.0, 3.0, 5.0, 5.0, 3.0, 1.0, 2.0, 4.0, 5.0, 1.0, 3.0, 1.0, 5.0, 5.0, 3.0, 4.0, 4.0, 2.0, 5.0, 5.0, 5.0, 3.0, 4.0, 4.0, 3.0, 4.0, 4.0, 4.0, 4.0, 4.0, 3.0, 4.0, 4.0, 4.0, 5.0, 4.0, 5.0, 4.0, 4.0, 4.0, 5.0, 3.0, 3.0, 5.0, 3.0, 5.0, 5.0, 3.0, 3.0, 4.0, 5.0, 1.0, 1.0, 4.0, 4.0, 3.0, 3.0, 5.0, 4.0, 5.0, 3.0, 4.0, 5.0, 3.0, 5.0, 5.0, 5.0, 3.0, 5.0, 5.0, 5.0, 3.0, 3.0, 1.0, 5.0, 5.0, 5.0, 5.0, 1.0, 5.0, 1.0, 5.0, 5.0, 2.0, 2.0, 4.0, 4.0, 1.0, 4.0, 2.0, 5.0, 4.0, 5.0, 1.0, 1.0, 5.0, 5.0, 5.0, 4.0, 1.0, 4.0, 5.0, 4.0, 5.0, 5.0, 4.0, 3.0, 4.0, 5.0, 4.0, 5.0, 5.0, 3.0, 1.0, 5.0, 4.0, 4.0, 5.0, 5.0, 5.0, 4.0, 5.0, 4.0, 4.0, 4.0, 5.0, 5.0, 1.0, 3.0, 5.0, 5.0, 4.0, 5.0, 5.0, 5.0, 4.0, 4.0, 1.0, 4.0, 4.0, 5.0, 4.0, 5.0, 4.0, 5.0, 3.0, 5.0, 4.0, 2.0, 1.0, 5.0, 2.0, 4.0, 5.0, 5.0, 3.0, 5.0, 4.0, 5.0, 3.0, 2.0, 4.0, 4.0, 5.0, 3.0, 5.0, 2.0, 4.0, 5.0, 1.0, 5.0, 4.0, 5.0, 5.0, 4.0, 4.0, 2.0, 3.0, 3.0, 4.0, 1.0, 5.0, 4.0, 4.0, 3.0, 3.0, 5.0, 5.0, 5.0, 5.0, 5.0, 3.0, 3.0, 4.0, 5.0, 5.0, 2.0, 4.0, 5.0, 5.0, 4.0, 5.0, 4.0, 5.0, 4.0, 5.0, 3.0, 5.0, 5.0, 5.0, 5.0, 3.0, 5.0, 4.0, 4.0, 3.0, 4.0, 3.0, 3.0, 5.0, 4.0, 5.0, 5.0, 5.0, 4.0, 5.0, 2.0, 5.0, 5.0, 5.0, 3.0, 4.0, 5.0, 4.0, 5.0, 5.0, 5.0, 5.0, 4.0, 5.0, 4.0, 5.0, 4.0, 5.0, 4.0, 4.0, 5.0, 5.0, 5.0, 3.0, 5.0, 5.0, 4.0, 3.0, 3.0, 3.0, 3.0, 5.0, 5.0, 5.0, 4.0, 5.0, 5.0, 5.0, 4.0, 5.0, 4.0, 4.0, 4.0, 1.0, 5.0, 3.0, 3.0, 3.0, 5.0, 3.0, 4.0, 3.0, 3.0, 5.0, 3.0, 5.0, 4.0, 4.0, 5.0, 5.0, 4.0, 4.0, 5.0, 4.0, 3.0, 4.0, 4.0, 3.0, 5.0, 3.0, 1.0, 5.0, 4.0, 5.0, 4.0, 1.0, 4.0, 3.0, 5.0, 3.0, 3.0, 5.0, 5.0, 4.0, 5.0, 4.0, 5.0, 2.0, 4.0, 1.0, 5.0, 4.0, 2.0, 4.0, 3.0, 5.0, 5.0, 3.0, 2.0, 2.0, 3.0, 2.0, 5.0, 2.0, 4.0, 4.0, 2.0, 5.0, 5.0, 4.0, 4.0, 3.0, 5.0, 3.0, 5.0, 4.0, 4.0, 5.0, 4.0, 5.0, 4.0, 4.0, 4.0, 1.0, 4.0, 3.0, 4.0, 5.0, 4.0, 1.0, 4.0, 4.0, 4.0, 2.0, 3.0, 3.0, 1.0, 5.0, 5.0, 5.0, 1.0, 5.0, 2.0, 3.0, 2.0, 5.0, 5.0, 5.0, 5.0, 5.0, 4.0, 5.0, 4.0, 4.0, 5.0, 5.0, 3.0, 5.0, 5.0, 5.0, 4.0, 5.0, 1.0, 2.0, 4.0, 1.0, 3.0, 4.0, 5.0, 3.0, 5.0, 4.0, 5.0, 5.0, 3.0, 5.0, 5.0, 5.0, 2.0, 5.0, 3.0, 4.0, 3.0, 3.0, 5.0, 5.0, 5.0, 2.0, 1.0, 5.0, 5.0, 4.0, 1.0, 3.0, 4.0, 4.0, 2.0, 5.0, 5.0, 2.0, 5.0, 1.0, 3.0, 3.0, 3.0, 3.0, 4.0, 3.0, 5.0, 4.0, 3.0, 5.0, 5.0, 4.0, 2.0, 2.0, 4.0, 4.0, 5.0, 5.0, 5.0, 4.0, 3.0, 5.0, 5.0, 3.0, 5.0, 3.0, 2.0, 5.0, 4.0, 1.0, 1.0, 4.0, 1.0, 1.0, 5.0, 5.0, 5.0, 4.0, 5.0, 5.0, 2.0, 5.0, 4.0, 5.0, 3.0, 5.0, 5.0, 5.0, 5.0, 1.0, 1.0, 2.0, 4.0, 5.0, 4.0, 1.0, 5.0, 5.0, 3.0, 4.0, 5.0, 5.0, 3.0, 5.0, 5.0, 3.0, 5.0, 4.0, 5.0, 5.0, 2.0, 3.0, 5.0, 4.0, 1.0, 3.0, 4.0, 4.0, 5.0, 2.0, 3.0, 4.0, 5.0, 5.0, 2.0, 5.0, 5.0, 4.0, 5.0, 2.0, 5.0, 5.0, 3.0, 5.0, 1.0, 5.0, 5.0, 3.0, 4.0, 1.0, 4.0, 5.0, 5.0, 1.0, 5.0, 4.0, 5.0, 5.0, 5.0, 5.0, 4.0, 5.0, 3.0, 2.0, 5.0, 4.0, 5.0, 5.0, 3.0, 2.0, 2.0, 4.0, 5.0, 3.0, 5.0, 5.0, 3.0, 5.0, 2.0, 5.0, 3.0, 4.0, 3.0, 5.0, 5.0, 5.0, 4.0, 5.0, 4.0, 5.0, 5.0, 5.0, 3.0, 5.0, 5.0, 4.0, 4.0, 4.0, 5.0, 5.0, 5.0, 1.0, 5.0, 5.0, 5.0, 4.0, 1.0, 1.0, 4.0, 1.0, 4.0, 4.0, 2.0, 5.0, 3.0, 5.0, 4.0, 3.0, 2.0, 4.0, 2.0, 5.0, 5.0, 2.0, 5.0, 4.0, 5.0, 2.0, 3.0, 5.0, 3.0, 5.0, 4.0, 5.0, 4.0, 4.0, 4.0, 4.0, 4.0, 5.0, 5.0, 4.0, 5.0, 5.0, 4.0, 5.0, 5.0, 4.0, 4.0, 2.0, 2.0, 4.0, 5.0, 4.0, 4.0, 5.0, 4.0, 5.0, 5.0, 5.0, 5.0, 3.0, 4.0, 4.0, 2.0, 2.0, 3.0, 5.0, 2.0, 4.0, 2.0, 5.0, 4.0, 5.0, 5.0, 4.0, 1.0, 3.0, 2.0, 4.0, 1.0, 5.0, 3.0, 5.0, 5.0, 2.0, 5.0, 5.0, 5.0, 4.0, 4.0, 5.0, 4.0, 3.0, 3.0, 5.0, 5.0, 4.0, 4.0, 5.0, 3.0, 5.0, 5.0, 4.0, 4.0, 5.0, 5.0, 3.0, 5.0, 5.0, 5.0, 3.0, 3.0, 5.0, 5.0, 5.0, 5.0, 5.0, 5.0, 5.0, 5.0, 3.0, 5.0, 1.0, 4.0, 5.0, 1.0, 5.0, 4.0, 5.0, 1.0, 4.0, 2.0, 3.0, 2.0, 5.0, 4.0, 5.0, 5.0, 3.0, 2.0, 5.0, 4.0, 5.0, 4.0, 5.0, 4.0, 3.0, 5.0, 3.0, 5.0, 4.0, 4.0, 3.0, 5.0, 5.0, 4.0, 1.0, 5.0, 5.0, 2.0, 4.0, 4.0, 5.0, 5.0, 1.0, 4.0, 5.0, 3.0, 5.0, 4.0, 4.0, 2.0, 4.0, 5.0, 3.0, 2.0, 4.0, 5.0, 5.0, 5.0, 5.0, 4.0, 3.0, 4.0, 4.0, 4.0, 3.0, 5.0, 5.0, 4.0, 4.0, 1.0, 5.0, 4.0, 5.0, 4.0, 5.0, 5.0, 4.0, 4.0, 3.0, 1.0, 5.0, 4.0, 3.0, 3.0, 5.0, 5.0, 5.0, 5.0, 4.0, 3.0, 5.0, 4.0, 4.0, 5.0, 5.0, 5.0, 2.0, 5.0, 3.0, 4.0, 4.0, 3.0, 5.0, 5.0, 3.0, 2.0, 1.0, 5.0, 4.0, 4.0, 3.0, 3.0, 5.0, 4.0, 4.0, 3.0, 5.0, 3.0, 3.0, 5.0, 5.0, 4.0, 2.0, 1.0, 5.0, 4.0, 3.0, 4.0, 5.0, 3.0, 5.0, 5.0, 1.0, 3.0, 5.0, 4.0, 5.0, 5.0, 5.0, 5.0, 4.0, 5.0, 5.0, 5.0, 1.0, 5.0, 3.0, 3.0, 5.0, 5.0, 4.0, 4.0, 5.0, 5.0, 5.0, 3.0, 5.0, 4.0, 4.0, 4.0, 5.0, 2.0, 4.0, 5.0, 4.0, 5.0, 5.0, 4.0, 1.0, 2.0, 5.0, 5.0, 5.0, 5.0, 4.0, 5.0, 5.0, 3.0, 5.0, 2.0, 5.0, 5.0, 5.0, 5.0, 4.0, 4.0, 5.0, 4.0, 2.0, 3.0, 4.0, 5.0, 2.0, 5.0, 1.0, 3.0, 2.0, 4.0, 3.0, 5.0, 3.0, 3.0, 1.0, 1.0, 4.0, 4.0, 5.0, 5.0, 5.0, 4.0, 5.0, 3.0, 5.0, 5.0, 5.0, 3.0, 5.0, 4.0, 4.0, 5.0, 5.0, 4.0, 5.0, 1.0, 3.0, 5.0, 5.0, 5.0, 5.0, 4.0, 4.0, 4.0, 5.0, 5.0, 5.0, 4.0, 2.0, 3.0, 5.0, 1.0, 4.0, 4.0, 5.0, 4.0, 5.0, 5.0, 5.0, 4.0, 5.0, 4.0, 5.0, 4.0, 3.0, 4.0, 4.0, 5.0, 5.0, 5.0, 5.0, 1.0, 5.0, 5.0, 5.0, 3.0, 5.0, 4.0, 4.0, 2.0, 1.0, 4.0, 4.0, 5.0, 5.0, 5.0, 5.0, 5.0, 2.0, 4.0, 5.0, 1.0, 1.0, 5.0, 5.0, 1.0, 4.0, 5.0, 5.0, 3.0, 1.0, 1.0, 1.0, 3.0, 3.0, 5.0, 5.0, 3.0, 4.0, 2.0, 5.0, 4.0, 5.0, 3.0, 5.0, 3.0, 4.0, 5.0, 5.0, 5.0, 5.0, 4.0, 5.0, 5.0, 4.0, 5.0, 4.0, 5.0, 5.0, 5.0, 3.0, 5.0, 1.0, 3.0, 2.0, 2.0, 4.0, 5.0, 4.0, 1.0, 5.0, 5.0, 3.0, 3.0, 4.0, 5.0, 3.0, 3.0, 5.0, 5.0, 5.0, 3.0, 5.0, 3.0, 4.0, 3.0, 3.0, 5.0, 5.0, 4.0, 5.0, 5.0, 4.0, 3.0, 4.0, 4.0, 3.0, 4.0, 4.0, 5.0, 4.0, 5.0, 1.0, 4.0, 3.0, 5.0, 4.0, 4.0, 4.0, 2.0, 3.0, 4.0, 5.0, 3.0, 2.0, 5.0, 4.0, 5.0, 3.0, 5.0, 4.0, 5.0, 5.0, 5.0, 5.0, 4.0, 4.0, 2.0, 5.0, 2.0, 5.0, 5.0, 5.0, 2.0, 3.0, 4.0, 5.0, 3.0, 1.0, 2.0, 1.0, 4.0, 5.0, 5.0, 4.0, 4.0, 4.0, 3.0, 1.0, 2.0, 4.0, 5.0, 5.0, 4.0, 4.0, 5.0, 4.0, 4.0, 5.0, 4.0, 2.0, 4.0, 4.0, 5.0, 5.0, 2.0, 4.0, 4.0, 5.0, 4.0, 4.0, 5.0, 5.0, 1.0, 4.0, 3.0, 4.0, 2.0, 3.0, 2.0, 5.0, 2.0, 5.0, 5.0, 4.0, 5.0, 5.0, 3.0, 4.0, 2.0, 4.0, 4.0, 5.0, 1.0, 4.0, 4.0, 5.0, 5.0, 3.0, 5.0, 4.0, 5.0, 3.0, 4.0, 5.0, 1.0, 5.0, 4.0, 5.0, 5.0, 4.0, 5.0, 3.0, 5.0, 5.0, 3.0, 5.0, 3.0, 5.0, 5.0, 3.0, 4.0, 3.0, 4.0, 1.0, 4.0, 5.0, 4.0, 5.0, 3.0, 2.0, 4.0, 2.0, 4.0, 3.0, 5.0, 5.0, 5.0, 5.0, 5.0, 1.0, 5.0, 4.0, 2.0, 1.0, 5.0, 2.0, 5.0, 4.0, 3.0, 5.0, 4.0, 4.0, 5.0, 5.0, 4.0, 4.0, 4.0, 5.0, 3.0, 4.0, 5.0, 2.0, 5.0, 4.0, 5.0, 5.0, 5.0, 4.0, 4.0, 5.0, 4.0, 2.0, 4.0, 3.0, 3.0, 5.0, 4.0, 4.0, 4.0, 3.0, 4.0, 5.0, 5.0, 4.0, 1.0, 5.0, 4.0, 4.0, 4.0, 5.0, 5.0, 5.0, 3.0, 4.0, 3.0, 5.0, 5.0, 5.0, 4.0, 5.0, 5.0, 3.0, 5.0, 1.0, 4.0, 4.0, 5.0, 1.0, 4.0, 5.0, 4.0, 4.0, 5.0, 4.0, 4.0, 3.0, 4.0, 5.0, 5.0, 5.0, 4.0, 4.0, 5.0, 5.0, 5.0, 5.0, 5.0, 5.0, 5.0, 5.0, 4.0, 2.0, 5.0, 2.0, 4.0, 4.0, 3.0, 5.0, 2.0, 4.0, 1.0, 1.0, 4.0, 4.0, 1.0, 5.0, 5.0, 3.0, 5.0, 5.0, 4.0, 5.0, 3.0, 5.0, 3.0, 5.0, 2.0, 5.0, 5.0, 2.0, 5.0, 5.0, 1.0, 5.0, 4.0, 3.0, 1.0, 5.0, 4.0, 5.0, 5.0, 2.0, 2.0, 5.0, 3.0, 5.0, 3.0, 4.0, 3.0, 5.0, 4.0, 5.0, 4.0, 4.0, 5.0, 4.0, 2.0, 5.0, 5.0, 5.0, 5.0, 5.0, 4.0, 5.0, 3.0, 5.0, 5.0, 5.0, 2.0, 5.0, 5.0, 5.0, 5.0, 5.0, 4.0, 3.0, 4.0, 4.0, 5.0, 4.0, 4.0, 3.0, 5.0, 4.0, 4.0, 3.0, 4.0, 4.0, 5.0, 3.0, 4.0, 3.0, 5.0, 5.0, 1.0, 1.0, 4.0, 1.0, 5.0, 4.0, 1.0, 5.0, 5.0, 4.0, 1.0, 5.0, 4.0, 3.0, 5.0, 5.0, 5.0, 4.0, 4.0, 5.0, 5.0, 5.0, 4.0, 4.0, 2.0, 2.0, 3.0, 4.0, 3.0, 4.0, 1.0, 5.0, 5.0, 4.0, 4.0, 5.0, 4.0, 1.0, 5.0, 5.0, 4.0, 2.0, 5.0, 1.0, 4.0, 4.0, 4.0, 5.0, 5.0, 4.0, 5.0, 4.0, 2.0, 5.0, 5.0, 3.0, 5.0, 3.0, 3.0, 4.0, 4.0, 4.0, 4.0, 4.0, 3.0, 5.0, 5.0, 5.0, 5.0, 1.0, 2.0, 5.0, 3.0, 5.0, 5.0, 3.0, 1.0, 4.0, 2.0, 4.0, 2.0, 5.0, 5.0, 5.0, 5.0, 1.0, 3.0, 4.0, 3.0, 5.0, 1.0, 1.0, 5.0, 1.0, 5.0, 5.0, 2.0, 5.0, 4.0, 3.0, 4.0, 3.0, 5.0, 4.0, 1.0, 4.0, 1.0, 4.0, 4.0, 5.0, 2.0, 4.0, 5.0, 4.0, 4.0, 5.0, 4.0, 4.0, 5.0, 5.0, 5.0, 5.0, 4.0, 1.0, 4.0, 4.0, 5.0, 5.0, 2.0, 5.0, 5.0, 5.0, 4.0, 5.0, 4.0, 3.0, 4.0, 5.0, 3.0, 5.0, 5.0, 5.0, 4.0, 5.0, 5.0, 2.0, 5.0, 5.0, 4.0, 3.0, 4.0, 5.0, 5.0, 5.0, 1.0, 3.0, 5.0, 3.0, 1.0, 5.0, 5.0, 4.0, 3.0, 5.0, 5.0, 4.0, 5.0, 5.0, 5.0, 4.0, 5.0, 1.0, 4.0, 1.0, 4.0, 5.0, 5.0, 5.0, 4.0, 5.0, 4.0, 4.0, 5.0, 1.0, 3.0, 5.0, 5.0, 5.0, 5.0, 2.0, 3.0, 5.0, 4.0, 5.0, 2.0, 4.0, 3.0, 3.0, 5.0, 1.0, 5.0, 1.0, 1.0, 3.0, 5.0, 4.0, 2.0, 2.0, 4.0, 3.0, 5.0, 2.0, 4.0, 4.0, 1.0, 5.0, 4.0, 2.0, 3.0, 3.0, 4.0, 3.0, 2.0, 4.0, 1.0, 4.0, 3.0, 5.0, 2.0, 5.0, 1.0, 3.0, 5.0, 5.0, 1.0, 4.0, 5.0, 4.0, 4.0, 4.0, 5.0, 5.0, 3.0, 4.0, 3.0, 2.0, 3.0, 3.0, 4.0, 5.0, 4.0, 3.0, 5.0, 5.0, 5.0, 3.0, 5.0, 5.0, 5.0, 4.0, 1.0, 4.0, 1.0, 5.0, 1.0, 5.0, 4.0, 5.0, 5.0, 5.0, 5.0, 3.0, 5.0, 5.0, 5.0, 5.0, 5.0, 3.0, 3.0, 4.0, 4.0, 4.0, 5.0, 4.0, 3.0, 5.0, 5.0, 5.0, 3.0, 5.0, 4.0, 5.0, 2.0, 5.0, 1.0, 5.0, 5.0, 3.0, 5.0, 4.0, 1.0, 5.0, 4.0, 5.0, 5.0, 1.0, 5.0, 5.0, 5.0, 5.0, 3.0, 5.0, 1.0, 4.0, 5.0, 2.0, 5.0, 3.0, 4.0, 5.0, 1.0, 1.0, 1.0, 4.0, 4.0, 4.0, 5.0, 4.0, 4.0, 5.0, 4.0, 5.0, 3.0, 5.0, 5.0, 3.0, 4.0, 5.0, 4.0, 5.0, 5.0, 5.0, 4.0, 5.0, 3.0, 4.0, 4.0, 4.0, 4.0, 1.0, 4.0, 5.0, 4.0, 5.0, 3.0, 5.0, 2.0, 3.0, 3.0, 5.0, 5.0, 4.0, 4.0, 5.0, 4.0, 4.0, 5.0, 4.0, 4.0, 1.0, 1.0, 4.0, 2.0, 4.0, 5.0, 4.0, 3.0, 4.0, 5.0, 5.0, 5.0, 5.0, 2.0, 5.0, 5.0, 5.0, 1.0, 3.0, 4.0, 3.0, 5.0, 4.0, 4.0, 3.0, 1.0, 1.0, 4.0, 5.0, 5.0, 5.0, 4.0, 5.0, 3.0, 2.0, 4.0, 2.0, 3.0, 5.0, 3.0, 5.0, 5.0, 4.0, 5.0, 5.0, 3.0, 4.0, 5.0, 5.0, 2.0, 5.0, 5.0, 5.0, 3.0, 5.0, 3.0, 4.0, 5.0, 5.0, 5.0, 5.0, 3.0, 5.0, 4.0, 1.0, 5.0, 5.0, 4.0, 2.0, 5.0, 4.0, 5.0, 5.0, 3.0, 5.0, 2.0, 2.0, 4.0, 1.0, 4.0, 5.0, 4.0, 4.0, 4.0, 5.0, 5.0, 4.0, 4.0, 5.0, 5.0, 2.0, 1.0, 5.0, 4.0, 5.0, 5.0, 3.0, 5.0, 5.0, 5.0, 4.0, 5.0, 1.0, 5.0, 3.0, 5.0, 5.0, 1.0, 5.0, 2.0, 3.0, 4.0, 4.0, 3.0, 4.0, 5.0, 4.0, 4.0, 1.0, 5.0, 5.0, 5.0, 5.0, 5.0, 5.0, 3.0, 4.0, 5.0, 4.0, 4.0, 5.0, 3.0, 4.0, 4.0, 4.0, 5.0, 5.0, 3.0, 5.0, 2.0, 4.0, 5.0, 1.0, 4.0, 5.0, 5.0, 3.0, 4.0, 5.0, 1.0, 5.0, 3.0, 4.0, 2.0, 5.0, 5.0, 3.0, 5.0, 4.0, 2.0, 5.0, 5.0, 5.0, 2.0, 2.0, 3.0, 4.0, 2.0, 3.0, 3.0, 5.0, 4.0, 5.0, 3.0, 4.0, 4.0, 5.0, 5.0, 3.0, 4.0, 4.0, 4.0, 4.0, 4.0, 4.0, 4.0, 4.0, 4.0, 3.0, 5.0, 3.0, 2.0, 3.0, 5.0, 5.0, 5.0, 5.0, 5.0, 5.0, 4.0, 4.0, 5.0, 4.0, 5.0, 2.0, 3.0, 3.0, 4.0, 3.0, 4.0, 5.0, 5.0, 5.0, 4.0, 5.0, 5.0, 4.0, 5.0, 5.0, 3.0, 5.0, 5.0, 4.0, 4.0, 5.0, 4.0, 3.0, 5.0, 4.0, 4.0, 2.0, 5.0, 5.0, 5.0, 1.0, 2.0, 2.0, 5.0, 1.0, 5.0, 4.0, 5.0, 2.0, 4.0, 4.0, 3.0, 3.0, 5.0, 3.0, 3.0, 5.0, 2.0, 3.0, 4.0, 5.0, 3.0, 2.0, 5.0, 5.0, 3.0, 5.0, 5.0, 3.0, 5.0, 3.0, 5.0, 3.0, 3.0, 4.0, 5.0, 3.0, 4.0, 5.0, 4.0, 5.0, 1.0, 5.0, 5.0, 4.0, 4.0, 1.0, 2.0, 4.0, 3.0, 5.0, 4.0, 5.0, 2.0, 2.0, 5.0, 3.0, 3.0, 4.0, 3.0, 5.0, 3.0, 5.0, 5.0, 4.0, 4.0, 5.0, 5.0, 4.0, 4.0, 1.0, 1.0, 4.0, 4.0, 5.0, 5.0, 4.0, 4.0, 4.0, 5.0, 5.0, 3.0, 4.0, 5.0, 2.0, 4.0, 5.0, 4.0, 1.0, 4.0, 5.0, 2.0, 5.0, 5.0, 4.0, 5.0, 5.0, 3.0, 5.0, 1.0, 5.0, 2.0, 5.0, 5.0, 5.0, 5.0, 5.0, 3.0, 5.0, 5.0, 5.0, 4.0, 4.0, 4.0, 4.0, 4.0, 5.0, 5.0, 4.0, 5.0, 4.0, 5.0, 4.0, 5.0, 4.0, 5.0, 5.0, 4.0, 2.0, 4.0, 5.0, 5.0, 4.0, 2.0, 4.0, 4.0, 3.0, 5.0, 5.0, 3.0, 5.0, 4.0, 5.0, 5.0, 4.0, 3.0, 3.0, 3.0, 4.0, 5.0, 3.0, 4.0, 5.0, 5.0, 4.0, 5.0, 3.0, 2.0, 1.0, 5.0, 5.0, 2.0, 5.0, 2.0, 4.0, 2.0, 1.0, 3.0, 4.0, 5.0, 4.0, 5.0, 5.0, 5.0, 5.0, 3.0, 5.0, 5.0, 5.0, 4.0, 5.0, 5.0, 5.0, 5.0, 2.0, 4.0, 4.0, 4.0, 5.0, 5.0, 5.0, 5.0, 4.0, 5.0, 1.0, 4.0, 2.0, 5.0, 5.0, 2.0, 5.0, 2.0, 1.0, 4.0, 5.0, 1.0, 5.0, 5.0, 5.0, 5.0, 4.0, 1.0, 1.0, 4.0, 4.0, 5.0, 4.0, 4.0, 4.0, 4.0, 5.0, 5.0, 5.0, 5.0, 5.0, 4.0, 5.0, 5.0, 5.0, 4.0, 3.0, 4.0, 5.0, 4.0, 3.0, 4.0, 5.0, 4.0, 3.0, 3.0, 4.0, 2.0, 2.0, 5.0, 4.0, 4.0, 5.0, 5.0, 5.0, 5.0, 4.0, 4.0, 1.0, 4.0, 5.0, 5.0, 3.0, 5.0, 4.0, 5.0, 5.0, 5.0, 5.0, 5.0, 5.0, 3.0, 5.0, 4.0, 4.0, 2.0, 4.0, 5.0, 5.0, 5.0, 4.0, 5.0, 3.0, 5.0, 4.0, 1.0, 5.0, 5.0, 1.0, 5.0, 5.0, 5.0, 5.0, 5.0, 4.0, 4.0, 3.0, 4.0, 1.0, 3.0, 5.0, 1.0, 5.0, 5.0, 1.0, 4.0, 3.0, 2.0, 5.0, 4.0, 5.0, 4.0, 5.0, 3.0, 5.0, 5.0, 3.0, 4.0, 2.0, 4.0, 1.0, 3.0, 5.0, 4.0, 1.0, 4.0, 4.0, 3.0, 5.0, 3.0, 3.0, 5.0, 3.0, 5.0, 1.0, 2.0, 2.0, 5.0, 5.0, 5.0, 1.0, 2.0, 5.0, 1.0, 1.0, 2.0, 4.0, 4.0, 5.0, 5.0, 5.0, 1.0, 5.0, 5.0, 2.0, 2.0, 5.0, 5.0, 4.0, 4.0, 1.0, 4.0, 1.0, 5.0, 4.0, 5.0, 3.0, 5.0, 4.0, 3.0, 4.0, 5.0, 5.0, 3.0, 5.0, 4.0, 5.0, 2.0, 5.0, 4.0, 4.0, 3.0, 4.0, 5.0, 5.0, 2.0, 5.0, 4.0, 5.0, 5.0, 2.0, 4.0, 4.0, 5.0, 1.0, 4.0, 4.0, 4.0, 3.0, 3.0, 4.0, 4.0, 4.0, 5.0, 3.0, 5.0, 5.0, 5.0, 4.0, 4.0, 4.0, 4.0, 3.0, 1.0, 2.0, 5.0, 4.0, 4.0, 2.0, 5.0, 5.0, 4.0, 4.0, 4.0, 5.0, 5.0, 4.0, 5.0, 5.0, 4.0, 4.0, 4.0, 3.0, 2.0, 5.0, 5.0, 5.0, 3.0, 5.0, 5.0, 5.0, 5.0, 5.0, 2.0, 4.0, 5.0, 4.0, 4.0, 4.0, 3.0, 4.0, 2.0, 1.0, 5.0, 4.0, 2.0, 2.0, 4.0, 3.0, 5.0, 3.0, 5.0, 5.0, 4.0, 5.0, 3.0, 4.0, 4.0, 4.0, 3.0, 5.0, 4.0, 4.0, 3.0, 5.0, 3.0, 5.0, 3.0, 5.0, 5.0, 1.0, 5.0, 2.0, 5.0, 4.0, 4.0, 4.0, 4.0, 4.0, 2.0, 3.0, 5.0, 5.0, 1.0, 2.0, 4.0, 5.0, 5.0, 5.0, 2.0, 4.0, 4.0, 1.0, 5.0, 5.0, 4.0, 4.0, 2.0, 4.0, 5.0, 5.0, 3.0, 5.0, 3.0, 5.0, 4.0, 5.0, 5.0, 4.0, 5.0, 3.0, 5.0, 5.0, 3.0, 3.0, 5.0, 1.0, 5.0, 5.0, 1.0, 3.0, 3.0, 4.0, 5.0, 5.0, 2.0, 5.0, 3.0, 3.0, 4.0, 3.0, 3.0, 5.0, 5.0, 5.0, 3.0, 5.0, 3.0, 4.0, 3.0, 3.0, 4.0, 3.0, 5.0, 5.0, 5.0, 4.0, 5.0, 1.0, 5.0, 3.0, 5.0, 4.0, 5.0, 3.0, 5.0, 4.0, 4.0, 2.0, 2.0, 3.0, 5.0, 1.0, 4.0, 5.0, 5.0, 2.0, 5.0, 5.0, 4.0, 4.0, 5.0, 5.0, 4.0, 3.0, 3.0, 4.0, 5.0, 5.0, 5.0, 2.0, 4.0, 4.0, 3.0, 3.0, 4.0, 4.0, 5.0, 2.0, 3.0, 4.0, 3.0, 2.0, 5.0, 3.0, 4.0, 3.0, 5.0, 3.0, 1.0, 5.0, 3.0, 3.0, 1.0, 4.0, 4.0, 2.0, 5.0, 2.0, 5.0, 5.0, 5.0, 5.0, 4.0, 5.0, 4.0, 3.0, 5.0, 4.0, 4.0, 4.0, 2.0, 5.0, 5.0, 5.0, 5.0, 3.0, 2.0, 4.0, 4.0, 2.0, 1.0, 5.0, 5.0, 3.0, 5.0, 5.0, 5.0, 3.0, 2.0, 5.0, 4.0, 5.0, 2.0, 4.0, 5.0, 5.0, 3.0, 4.0, 4.0, 4.0, 3.0, 5.0, 5.0, 5.0, 5.0, 4.0, 3.0, 4.0, 5.0, 5.0, 5.0, 4.0, 5.0, 4.0, 5.0, 5.0, 2.0, 4.0, 5.0, 3.0, 5.0, 3.0, 3.0, 5.0, 1.0, 5.0, 4.0, 3.0, 1.0, 3.0, 5.0, 5.0, 5.0, 1.0, 5.0, 5.0, 4.0, 4.0, 3.0, 2.0, 5.0, 2.0, 3.0, 3.0, 5.0, 5.0, 5.0, 3.0, 4.0, 5.0, 3.0, 5.0, 5.0, 4.0, 5.0, 1.0, 5.0, 3.0, 3.0, 5.0, 3.0, 3.0, 5.0, 4.0, 4.0, 5.0, 3.0, 4.0, 5.0, 5.0, 5.0, 3.0, 3.0, 1.0, 5.0, 4.0, 5.0, 4.0, 1.0, 3.0, 5.0, 4.0, 4.0, 5.0, 4.0, 5.0, 5.0, 3.0, 5.0, 5.0, 2.0, 1.0, 5.0, 5.0, 5.0, 4.0, 5.0, 5.0, 4.0, 4.0, 1.0, 4.0, 5.0, 5.0, 5.0, 5.0, 1.0, 5.0, 2.0, 5.0, 4.0, 5.0, 3.0, 4.0, 4.0, 5.0, 4.0, 5.0, 5.0, 4.0, 4.0, 4.0, 4.0, 4.0, 2.0, 4.0, 4.0, 4.0, 4.0, 4.0, 4.0, 4.0, 4.0, 5.0, 3.0, 4.0, 4.0, 5.0, 5.0, 3.0, 4.0, 3.0, 5.0, 2.0, 4.0, 2.0, 4.0, 5.0, 2.0, 4.0, 4.0, 4.0, 3.0, 5.0, 5.0, 5.0, 5.0, 5.0, 5.0, 5.0, 5.0, 4.0, 5.0, 3.0, 5.0, 4.0, 4.0, 3.0, 2.0, 5.0, 5.0, 5.0, 4.0, 5.0, 2.0, 5.0, 3.0, 5.0, 4.0, 2.0, 5.0, 3.0, 2.0, 5.0, 5.0, 4.0, 5.0, 4.0, 3.0, 4.0, 5.0, 5.0, 1.0, 2.0, 3.0, 1.0, 2.0, 4.0, 5.0, 1.0, 2.0, 4.0, 4.0, 2.0, 5.0, 5.0, 3.0, 2.0, 5.0, 5.0, 1.0, 4.0, 5.0, 4.0, 2.0, 3.0, 4.0, 4.0, 1.0, 3.0, 5.0, 1.0, 1.0, 5.0, 5.0, 4.0, 3.0, 4.0, 1.0, 3.0, 4.0, 3.0, 5.0, 5.0, 5.0, 5.0, 4.0, 3.0, 4.0, 1.0, 5.0, 3.0, 5.0, 2.0, 5.0, 2.0, 5.0, 3.0, 5.0, 5.0, 4.0, 5.0, 4.0, 1.0, 4.0, 4.0, 3.0, 5.0, 5.0, 4.0, 5.0, 3.0, 5.0, 5.0, 4.0, 3.0, 3.0, 4.0, 5.0, 2.0, 5.0, 4.0, 5.0, 5.0, 5.0, 3.0, 4.0, 5.0, 1.0, 3.0, 4.0, 5.0, 3.0, 5.0, 3.0, 5.0, 4.0, 3.0, 4.0, 4.0, 4.0, 4.0, 4.0, 3.0, 5.0, 5.0, 4.0, 4.0, 5.0, 5.0, 5.0, 4.0, 5.0, 3.0, 3.0, 5.0, 5.0, 3.0, 4.0, 4.0, 5.0, 5.0, 3.0, 2.0, 5.0, 4.0, 4.0, 5.0, 5.0, 5.0, 4.0, 4.0, 4.0, 4.0, 4.0, 4.0, 5.0, 3.0, 2.0, 4.0, 5.0, 5.0, 3.0, 5.0, 5.0, 3.0, 2.0, 5.0, 3.0, 4.0, 1.0, 5.0, 5.0, 5.0, 3.0, 5.0, 5.0, 3.0, 5.0, 4.0, 3.0, 3.0, 4.0, 5.0, 3.0, 3.0, 3.0, 4.0, 5.0, 3.0, 3.0, 5.0, 5.0, 3.0, 4.0, 5.0, 1.0, 5.0, 4.0, 4.0, 1.0, 2.0, 5.0, 4.0, 5.0, 5.0, 5.0, 5.0, 5.0, 5.0, 4.0, 3.0, 1.0, 5.0, 5.0, 5.0, 5.0, 4.0, 3.0, 5.0, 5.0, 4.0, 5.0, 2.0, 4.0, 5.0, 5.0, 3.0, 4.0, 3.0, 3.0, 5.0, 2.0, 4.0, 5.0, 4.0, 4.0, 3.0, 2.0, 4.0, 4.0, 5.0, 3.0, 5.0, 5.0, 3.0, 2.0, 4.0, 3.0, 3.0, 5.0, 3.0, 4.0, 4.0, 5.0, 4.0, 5.0, 5.0, 2.0, 5.0, 3.0, 5.0, 4.0, 4.0, 5.0, 4.0, 5.0, 4.0, 5.0, 4.0, 3.0, 5.0, 5.0, 5.0, 3.0, 3.0, 5.0, 4.0, 5.0, 5.0, 5.0, 5.0, 5.0, 5.0, 2.0, 1.0, 4.0, 5.0, 5.0, 5.0, 4.0, 5.0, 5.0, 5.0, 4.0, 4.0, 1.0, 5.0, 4.0, 2.0, 5.0, 5.0, 3.0, 2.0, 5.0, 2.0, 5.0, 2.0, 5.0, 5.0, 5.0, 3.0, 2.0, 3.0, 5.0, 5.0, 4.0, 4.0, 3.0, 4.0, 5.0, 5.0, 3.0, 4.0, 3.0, 4.0, 5.0, 5.0, 3.0, 3.0, 4.0, 5.0, 2.0, 5.0, 4.0, 5.0, 1.0, 1.0, 5.0, 5.0, 5.0, 3.0, 4.0, 3.0, 4.0, 3.0, 3.0, 5.0, 5.0, 5.0, 4.0, 5.0, 2.0, 5.0, 1.0, 5.0, 5.0, 5.0, 5.0, 5.0, 4.0, 4.0, 5.0, 4.0, 5.0, 5.0, 5.0, 4.0, 4.0, 1.0, 3.0, 5.0, 1.0, 1.0, 3.0, 2.0, 1.0, 1.0, 5.0, 1.0, 3.0, 5.0, 1.0, 4.0, 5.0, 5.0, 5.0, 3.0, 5.0, 4.0, 2.0, 5.0, 4.0, 5.0, 5.0, 2.0, 1.0, 2.0, 2.0, 4.0, 4.0, 5.0, 3.0, 5.0, 2.0, 5.0, 5.0, 4.0, 3.0, 4.0, 3.0, 4.0, 4.0, 4.0, 3.0, 4.0, 5.0, 3.0, 5.0, 3.0, 1.0, 2.0, 3.0, 3.0, 3.0, 4.0, 4.0, 5.0, 4.0, 5.0, 5.0, 3.0, 5.0, 2.0, 5.0, 4.0, 4.0, 4.0, 5.0, 5.0, 5.0, 5.0, 4.0, 3.0, 5.0, 5.0, 5.0, 1.0, 5.0, 4.0, 4.0, 5.0, 5.0, 5.0, 3.0, 5.0, 5.0, 3.0, 4.0, 5.0, 5.0, 4.0, 4.0, 5.0, 5.0, 4.0, 3.0, 5.0, 3.0, 1.0, 2.0, 3.0, 5.0, 4.0, 1.0, 5.0, 1.0, 5.0, 5.0, 4.0, 5.0, 5.0, 5.0, 4.0, 3.0, 3.0, 3.0, 5.0, 5.0, 5.0, 4.0, 5.0, 5.0, 5.0, 3.0, 4.0, 4.0, 5.0, 5.0, 5.0, 2.0, 5.0, 5.0, 4.0, 5.0, 4.0, 1.0, 5.0, 1.0, 5.0, 5.0, 4.0, 5.0, 5.0, 3.0, 5.0, 4.0, 5.0, 1.0, 2.0, 4.0, 5.0, 2.0, 3.0, 5.0, 5.0, 4.0, 3.0, 5.0, 3.0, 5.0, 5.0, 4.0, 4.0, 4.0, 2.0, 5.0, 4.0, 5.0, 4.0, 5.0, 4.0, 5.0, 1.0, 4.0, 2.0, 3.0, 2.0, 5.0, 4.0, 5.0, 5.0, 3.0, 4.0, 5.0, 4.0, 5.0, 5.0, 3.0, 5.0, 4.0, 4.0, 5.0, 5.0, 4.0, 5.0, 1.0, 2.0, 4.0, 4.0, 4.0, 5.0, 3.0, 4.0, 4.0, 3.0, 4.0, 3.0, 4.0, 3.0, 4.0, 5.0, 5.0, 3.0, 3.0, 4.0, 4.0, 5.0, 4.0, 1.0, 5.0, 4.0, 5.0, 5.0, 4.0, 5.0, 1.0, 5.0, 5.0, 5.0, 5.0, 5.0, 4.0, 4.0, 2.0, 3.0, 4.0, 5.0, 4.0, 4.0, 5.0, 2.0, 5.0, 3.0, 5.0, 4.0, 3.0, 5.0, 3.0, 3.0, 3.0, 5.0, 5.0, 5.0, 5.0, 5.0, 5.0, 2.0, 2.0, 1.0, 3.0, 5.0, 5.0, 5.0, 5.0, 4.0, 4.0, 4.0, 4.0, 5.0, 4.0, 3.0, 5.0, 4.0, 4.0, 5.0, 2.0, 5.0, 5.0, 4.0, 5.0, 5.0, 4.0, 5.0, 3.0, 4.0, 2.0, 5.0, 4.0, 2.0, 3.0, 3.0, 5.0, 5.0, 5.0, 4.0, 4.0, 2.0, 5.0, 4.0, 3.0, 5.0, 4.0, 5.0, 4.0, 3.0, 4.0, 4.0, 1.0, 5.0, 5.0, 2.0, 5.0, 4.0, 5.0, 5.0, 5.0, 5.0, 5.0, 2.0, 1.0, 5.0, 4.0, 5.0, 5.0, 3.0, 1.0, 5.0, 3.0, 3.0, 3.0, 5.0, 4.0, 3.0, 5.0, 3.0, 5.0, 2.0, 4.0, 3.0, 5.0, 5.0, 5.0, 4.0, 5.0, 2.0, 4.0, 5.0, 5.0, 1.0, 5.0, 3.0, 4.0, 5.0, 1.0, 5.0, 5.0, 5.0, 4.0, 1.0, 5.0, 4.0, 4.0, 5.0, 5.0, 5.0, 3.0, 5.0, 4.0, 3.0, 5.0, 4.0, 4.0, 5.0, 4.0, 5.0, 3.0, 4.0, 2.0, 5.0, 5.0, 4.0, 2.0, 2.0, 3.0, 4.0, 3.0, 4.0, 2.0, 4.0, 3.0, 5.0, 5.0, 5.0, 5.0, 3.0, 5.0, 3.0, 5.0, 4.0, 5.0, 2.0, 3.0, 5.0, 5.0, 3.0, 4.0, 1.0, 5.0, 4.0, 5.0, 4.0, 1.0, 2.0, 5.0, 3.0, 4.0, 1.0, 4.0, 1.0, 5.0, 5.0, 5.0, 5.0, 1.0, 1.0, 1.0, 4.0, 5.0, 5.0, 5.0, 4.0, 4.0, 5.0, 4.0, 1.0, 4.0, 5.0, 5.0, 4.0, 3.0, 4.0, 5.0, 5.0, 5.0, 5.0, 5.0, 4.0, 5.0, 5.0, 1.0, 4.0, 5.0, 2.0, 5.0, 4.0, 4.0, 5.0, 5.0, 5.0, 5.0, 2.0, 5.0, 5.0, 3.0, 4.0, 4.0, 3.0, 5.0, 3.0, 1.0, 4.0, 5.0, 4.0, 3.0, 3.0, 2.0, 3.0, 5.0, 5.0, 5.0, 3.0, 4.0, 4.0, 4.0, 5.0, 4.0, 5.0, 5.0, 4.0, 5.0, 2.0, 5.0, 2.0, 5.0, 4.0, 4.0, 5.0, 2.0, 5.0, 4.0, 5.0, 4.0, 2.0, 5.0, 3.0, 4.0, 3.0, 3.0, 5.0, 5.0, 3.0, 5.0, 5.0, 3.0, 3.0, 4.0, 5.0, 4.0, 4.0, 5.0, 2.0, 4.0, 5.0, 4.0, 3.0, 5.0, 4.0, 5.0, 4.0, 4.0, 5.0, 2.0, 2.0, 4.0, 3.0, 3.0, 5.0, 5.0, 2.0, 5.0, 5.0, 4.0, 3.0, 4.0, 2.0, 4.0, 5.0, 5.0, 4.0, 5.0, 5.0, 5.0, 4.0, 5.0, 4.0, 4.0, 5.0, 5.0, 4.0, 3.0, 5.0, 5.0, 4.0, 3.0, 5.0, 5.0, 1.0, 5.0, 3.0, 2.0, 4.0, 5.0, 5.0, 5.0, 5.0, 5.0, 5.0, 5.0, 5.0, 5.0, 5.0, 5.0, 4.0, 4.0, 4.0, 5.0, 5.0, 4.0, 1.0, 4.0, 4.0, 5.0, 1.0, 5.0, 5.0, 1.0, 5.0, 3.0, 2.0, 5.0, 2.0, 2.0, 5.0, 3.0, 5.0, 3.0, 4.0, 5.0, 3.0, 3.0, 5.0, 2.0, 2.0, 4.0, 4.0, 4.0, 5.0, 5.0, 5.0, 5.0, 3.0, 4.0, 5.0, 3.0, 4.0, 5.0, 4.0, 4.0, 2.0, 5.0, 5.0, 4.0, 5.0, 3.0, 5.0, 1.0, 4.0, 3.0, 5.0, 1.0, 5.0, 5.0, 3.0, 3.0, 5.0, 5.0, 3.0, 5.0, 4.0, 5.0, 1.0, 4.0, 4.0, 4.0, 5.0, 4.0, 5.0, 4.0, 5.0, 5.0, 4.0, 5.0, 3.0, 1.0, 3.0, 5.0, 5.0, 5.0, 4.0, 5.0, 2.0, 2.0, 1.0, 5.0, 5.0, 5.0, 2.0, 5.0, 3.0, 4.0, 5.0, 1.0, 4.0, 5.0, 4.0, 5.0, 5.0, 5.0, 5.0, 5.0, 3.0, 1.0, 5.0, 4.0, 4.0, 5.0, 3.0, 4.0, 5.0, 5.0, 4.0, 4.0, 5.0, 5.0, 1.0, 5.0, 4.0, 5.0, 5.0, 5.0, 3.0, 2.0, 5.0, 5.0, 5.0, 4.0, 4.0, 2.0, 2.0, 5.0, 1.0, 4.0, 4.0, 5.0, 4.0, 5.0, 5.0, 5.0, 3.0, 4.0, 5.0, 5.0, 5.0, 4.0, 4.0, 4.0, 2.0, 4.0, 5.0, 1.0, 5.0, 2.0, 5.0, 3.0, 3.0, 2.0, 1.0, 5.0, 2.0, 4.0, 4.0, 4.0, 5.0, 5.0, 4.0, 5.0, 5.0, 4.0, 5.0, 3.0, 3.0, 5.0, 5.0, 5.0, 2.0, 1.0, 3.0, 5.0, 4.0, 5.0, 2.0, 4.0, 5.0, 1.0, 1.0, 5.0, 5.0, 4.0, 5.0, 2.0, 1.0, 4.0, 3.0, 1.0, 5.0, 1.0, 2.0, 1.0, 5.0, 3.0, 4.0, 5.0, 3.0, 1.0, 4.0, 4.0, 5.0, 3.0, 3.0, 5.0, 5.0, 2.0, 4.0, 2.0, 5.0, 5.0, 3.0, 2.0, 4.0, 4.0, 5.0, 4.0, 3.0, 4.0, 4.0, 5.0, 3.0, 3.0, 5.0, 3.0, 5.0, 5.0, 4.0, 5.0, 5.0, 5.0, 4.0, 4.0, 4.0, 5.0, 5.0, 5.0, 3.0, 3.0, 3.0, 5.0, 5.0, 5.0, 2.0, 1.0, 5.0, 4.0, 2.0, 4.0, 5.0, 4.0, 3.0, 5.0, 3.0, 5.0, 5.0, 4.0, 2.0, 5.0, 5.0, 5.0, 5.0, 5.0, 5.0, 5.0, 3.0, 3.0, 2.0, 5.0, 5.0, 4.0, 5.0, 3.0, 5.0, 4.0, 3.0, 4.0, 4.0, 5.0, 5.0, 5.0, 4.0, 1.0, 5.0, 5.0, 5.0, 5.0, 5.0, 4.0, 5.0, 5.0, 5.0, 3.0, 4.0, 4.0, 5.0, 4.0, 5.0, 4.0, 1.0, 5.0, 3.0, 5.0, 5.0, 3.0, 2.0, 3.0, 5.0, 5.0, 4.0, 5.0, 5.0, 5.0, 1.0, 5.0, 4.0, 5.0, 3.0, 5.0, 3.0, 5.0, 2.0, 5.0, 4.0, 5.0, 3.0, 5.0, 4.0, 2.0, 5.0, 4.0, 2.0, 5.0, 4.0, 3.0, 5.0, 5.0, 5.0, 5.0, 5.0, 5.0, 5.0, 5.0, 4.0, 3.0, 5.0, 5.0, 5.0, 5.0, 5.0, 4.0, 5.0, 4.0, 4.0, 5.0, 1.0, 5.0, 4.0, 5.0, 4.0, 4.0, 1.0, 4.0, 4.0, 5.0, 5.0, 3.0, 5.0, 2.0, 5.0, 5.0, 1.0, 5.0, 5.0, 5.0, 5.0, 4.0, 5.0, 5.0, 4.0, 5.0, 5.0, 5.0, 1.0, 5.0, 3.0, 4.0, 5.0, 3.0, 5.0, 5.0, 1.0, 3.0, 1.0, 5.0, 4.0, 5.0, 4.0, 3.0, 4.0, 4.0, 4.0, 5.0, 5.0, 3.0, 4.0, 5.0, 5.0, 4.0, 5.0, 4.0, 4.0, 4.0, 2.0, 2.0, 5.0, 4.0, 1.0, 5.0, 4.0, 3.0, 1.0, 4.0, 5.0, 4.0, 5.0, 5.0, 2.0, 5.0, 5.0, 3.0, 4.0, 4.0, 5.0, 2.0, 4.0, 5.0, 5.0, 5.0, 5.0, 4.0, 3.0, 4.0, 5.0, 4.0, 5.0, 5.0, 3.0, 4.0, 3.0, 3.0, 5.0, 2.0, 5.0, 4.0, 5.0, 4.0, 3.0, 3.0, 5.0, 3.0, 5.0, 5.0, 4.0, 4.0, 5.0, 5.0, 4.0, 4.0, 4.0, 5.0, 4.0, 5.0, 5.0, 4.0, 5.0, 5.0, 4.0, 3.0, 4.0, 4.0, 4.0, 2.0, 3.0, 5.0, 5.0, 5.0, 4.0, 4.0, 5.0, 2.0, 4.0, 4.0, 4.0, 2.0, 5.0, 4.0, 4.0, 5.0, 5.0, 5.0, 4.0, 4.0, 4.0, 1.0, 4.0, 5.0, 5.0, 5.0, 5.0, 2.0, 5.0, 1.0, 1.0, 5.0, 5.0, 4.0, 4.0, 5.0, 5.0, 3.0, 4.0, 4.0, 4.0, 5.0, 5.0, 5.0, 4.0, 4.0, 2.0, 4.0, 5.0, 5.0, 2.0, 5.0, 5.0, 4.0, 5.0, 5.0, 5.0, 5.0, 3.0, 3.0, 4.0, 2.0, 4.0, 5.0, 5.0, 4.0, 5.0, 2.0, 3.0, 4.0, 4.0, 4.0, 4.0, 3.0, 5.0, 4.0, 4.0, 5.0, 5.0, 4.0, 5.0, 5.0, 5.0, 4.0, 3.0, 4.0, 4.0, 3.0, 5.0, 5.0, 4.0, 5.0, 5.0, 4.0, 2.0, 2.0, 5.0, 5.0, 4.0, 5.0, 2.0, 4.0, 4.0, 5.0, 5.0, 5.0, 5.0, 5.0, 5.0, 1.0, 4.0, 5.0, 5.0, 5.0, 2.0, 5.0, 4.0, 3.0, 3.0, 4.0, 2.0, 4.0, 3.0, 5.0, 5.0, 5.0, 5.0, 4.0, 4.0, 3.0, 4.0, 3.0, 5.0, 4.0, 5.0, 5.0, 1.0, 1.0, 1.0, 4.0, 2.0, 5.0, 1.0, 4.0, 5.0, 1.0, 4.0, 5.0, 1.0, 2.0, 4.0, 2.0, 4.0, 5.0, 4.0, 4.0, 5.0, 4.0, 5.0, 3.0, 1.0, 5.0, 5.0, 4.0, 4.0, 1.0, 4.0, 5.0, 4.0, 5.0, 5.0, 4.0, 1.0, 3.0, 5.0, 1.0, 5.0, 4.0, 4.0, 5.0, 5.0, 3.0, 2.0, 5.0, 5.0, 4.0, 5.0, 5.0, 4.0, 5.0, 4.0, 4.0, 5.0, 3.0, 2.0, 5.0, 5.0, 5.0, 5.0, 5.0, 4.0, 5.0, 5.0, 5.0, 4.0, 5.0, 5.0, 5.0, 5.0, 2.0, 3.0, 5.0, 5.0, 5.0, 4.0, 3.0, 5.0, 5.0, 2.0, 5.0, 5.0, 2.0, 5.0, 4.0, 4.0, 5.0, 3.0, 4.0, 3.0, 4.0, 5.0, 5.0, 5.0, 5.0, 4.0, 5.0, 5.0, 1.0, 4.0, 5.0, 4.0, 4.0, 3.0, 4.0, 5.0, 3.0, 1.0, 5.0, 5.0, 5.0, 2.0, 1.0, 4.0, 4.0, 2.0, 4.0, 5.0, 5.0, 5.0, 3.0, 2.0, 5.0, 3.0, 5.0, 5.0, 5.0, 5.0, 5.0, 5.0, 5.0, 5.0, 5.0, 4.0, 4.0, 4.0, 4.0, 3.0, 5.0, 4.0, 4.0, 1.0, 5.0, 3.0, 2.0, 5.0, 5.0, 4.0, 4.0, 3.0, 2.0, 5.0, 4.0, 4.0, 4.0, 2.0, 5.0, 5.0, 5.0, 5.0, 1.0, 4.0, 5.0, 3.0, 2.0, 4.0, 5.0, 1.0, 3.0, 1.0, 3.0, 4.0, 3.0, 4.0, 5.0, 4.0, 3.0, 5.0, 1.0, 3.0, 5.0, 3.0, 5.0, 3.0, 5.0, 2.0, 1.0, 1.0, 5.0, 5.0, 4.0, 4.0, 4.0, 1.0, 1.0, 5.0, 5.0, 4.0, 3.0, 4.0, 5.0, 4.0, 2.0, 4.0, 1.0, 4.0, 5.0, 5.0, 5.0, 4.0, 5.0, 3.0, 4.0, 5.0, 2.0, 5.0, 2.0, 5.0, 1.0, 4.0, 5.0, 5.0, 1.0, 5.0, 5.0, 1.0, 5.0, 2.0, 5.0, 5.0, 4.0, 2.0, 5.0, 4.0, 5.0, 4.0, 4.0, 4.0, 5.0, 3.0, 4.0, 4.0, 5.0, 3.0, 5.0, 1.0, 1.0, 4.0, 5.0, 4.0, 5.0, 5.0, 3.0, 4.0, 5.0, 4.0, 5.0, 5.0, 4.0, 1.0, 5.0, 4.0, 5.0, 5.0, 5.0, 3.0, 2.0, 4.0, 4.0, 4.0, 3.0, 4.0, 1.0, 4.0, 5.0, 1.0, 4.0, 4.0, 5.0, 1.0, 5.0, 4.0, 5.0, 4.0, 4.0, 5.0, 4.0, 3.0, 4.0, 1.0, 3.0, 4.0, 4.0, 3.0, 5.0, 1.0, 4.0, 5.0, 4.0, 4.0, 5.0, 5.0, 5.0, 1.0, 5.0, 4.0, 5.0, 2.0, 5.0, 3.0, 5.0, 5.0, 5.0, 4.0, 2.0, 3.0, 4.0, 2.0, 5.0, 4.0, 4.0, 3.0, 4.0, 1.0, 1.0, 1.0, 3.0, 4.0, 5.0, 3.0, 3.0, 2.0, 5.0, 5.0, 4.0, 5.0, 4.0, 5.0, 5.0, 4.0, 5.0, 2.0, 5.0, 1.0, 2.0, 1.0, 5.0, 5.0, 5.0, 5.0, 4.0, 3.0, 5.0, 2.0, 5.0, 4.0, 4.0, 5.0, 4.0, 2.0, 5.0, 4.0, 2.0, 3.0, 5.0, 5.0, 4.0, 4.0, 5.0, 3.0, 2.0, 5.0, 4.0, 4.0, 4.0, 4.0, 5.0, 3.0, 4.0, 4.0, 5.0, 3.0, 4.0, 5.0, 5.0, 2.0, 5.0, 1.0, 1.0, 1.0, 5.0, 3.0, 3.0, 5.0, 3.0, 4.0, 1.0, 5.0, 4.0, 5.0, 5.0, 3.0, 1.0, 1.0, 4.0, 4.0, 5.0, 3.0, 4.0, 1.0, 5.0, 4.0, 5.0, 4.0, 4.0, 5.0, 5.0, 5.0, 5.0, 5.0, 4.0, 5.0, 1.0, 4.0, 4.0, 4.0, 5.0, 4.0, 4.0, 4.0, 4.0, 5.0, 5.0, 4.0, 5.0, 5.0, 5.0, 4.0, 4.0, 4.0, 4.0, 4.0, 5.0, 4.0, 5.0, 4.0, 3.0, 4.0, 5.0, 5.0, 4.0, 4.0, 5.0, 4.0, 4.0, 4.0, 1.0, 4.0, 4.0, 5.0, 1.0, 5.0, 5.0, 5.0, 5.0, 5.0, 3.0, 5.0, 4.0, 4.0, 1.0, 1.0, 4.0, 4.0, 3.0, 1.0, 5.0, 5.0, 5.0, 5.0, 4.0, 5.0, 5.0, 2.0, 3.0, 4.0, 4.0, 4.0, 5.0, 2.0, 2.0, 3.0, 4.0, 4.0, 4.0, 1.0, 5.0, 3.0, 5.0, 5.0, 4.0, 5.0, 4.0, 5.0, 4.0, 5.0, 5.0, 3.0, 5.0, 2.0, 4.0, 5.0, 5.0, 3.0, 2.0, 4.0, 2.0, 1.0, 5.0, 4.0, 4.0, 1.0, 4.0, 5.0, 2.0, 3.0, 4.0, 4.0, 4.0, 3.0, 5.0, 1.0, 1.0, 4.0, 3.0, 1.0, 3.0, 5.0, 5.0, 3.0, 5.0, 3.0, 4.0, 5.0, 5.0, 2.0, 3.0, 1.0, 5.0, 4.0, 3.0, 4.0, 5.0, 4.0, 1.0, 4.0, 5.0, 4.0, 4.0, 5.0, 4.0, 3.0, 4.0, 5.0, 4.0, 5.0, 4.0, 5.0, 3.0, 5.0, 3.0, 5.0, 2.0, 5.0, 5.0, 5.0, 5.0, 5.0, 5.0, 4.0, 5.0, 4.0, 5.0, 4.0, 4.0, 5.0, 4.0, 5.0, 5.0, 5.0, 3.0, 4.0, 3.0, 1.0, 1.0, 4.0, 3.0, 3.0, 2.0, 5.0, 5.0, 5.0, 4.0, 3.0, 1.0, 5.0, 2.0, 3.0, 5.0, 5.0, 5.0, 5.0, 5.0, 4.0, 2.0, 5.0, 5.0, 4.0, 5.0, 3.0, 1.0, 5.0, 5.0, 5.0, 5.0, 5.0, 5.0, 4.0, 3.0, 5.0, 4.0, 4.0, 1.0, 1.0, 1.0, 3.0, 3.0, 4.0, 5.0, 4.0, 4.0, 5.0, 2.0, 2.0, 3.0, 4.0, 1.0, 5.0, 5.0, 5.0, 4.0, 2.0, 3.0, 5.0, 4.0, 2.0, 4.0, 2.0, 4.0, 4.0, 1.0, 5.0, 5.0, 2.0, 5.0, 4.0, 5.0, 3.0, 3.0, 4.0, 5.0, 2.0, 1.0, 3.0, 5.0, 1.0, 1.0, 5.0, 5.0, 4.0, 2.0, 2.0, 4.0, 3.0, 2.0, 5.0, 4.0, 5.0, 2.0, 5.0, 2.0, 5.0, 5.0, 5.0, 4.0, 3.0, 5.0, 5.0, 5.0, 2.0, 5.0, 4.0, 1.0, 5.0, 3.0, 3.0, 3.0, 5.0, 1.0, 5.0, 4.0, 1.0, 5.0, 5.0, 5.0, 5.0, 5.0, 5.0, 4.0, 5.0, 5.0, 4.0, 5.0, 3.0, 2.0, 3.0, 4.0, 3.0, 3.0, 5.0, 3.0, 5.0, 4.0, 5.0, 4.0, 4.0, 1.0, 3.0, 5.0, 5.0, 5.0, 5.0, 1.0, 5.0, 3.0, 5.0, 2.0, 5.0, 4.0, 5.0, 2.0, 4.0, 5.0, 5.0, 5.0, 5.0, 5.0, 5.0, 5.0, 4.0, 4.0, 5.0, 5.0, 5.0, 3.0, 4.0, 5.0, 5.0, 4.0, 3.0, 1.0, 5.0, 5.0, 5.0, 1.0, 5.0, 5.0, 2.0, 1.0, 4.0, 3.0, 3.0, 4.0, 3.0, 5.0, 4.0, 5.0, 3.0, 4.0, 5.0, 5.0, 4.0, 1.0, 5.0, 5.0, 4.0, 4.0, 5.0, 4.0, 3.0, 4.0, 3.0, 5.0, 4.0, 3.0, 3.0, 5.0, 3.0, 5.0, 5.0, 3.0, 4.0, 2.0, 5.0, 3.0, 5.0, 5.0, 3.0, 5.0, 5.0, 4.0, 2.0, 5.0, 2.0, 5.0, 5.0, 4.0, 3.0, 4.0, 5.0, 2.0, 4.0, 4.0, 4.0, 3.0, 5.0, 1.0, 4.0, 3.0, 5.0, 2.0, 3.0, 5.0, 4.0, 4.0, 5.0, 4.0, 5.0, 4.0, 5.0, 5.0, 5.0, 5.0, 5.0, 3.0, 4.0, 5.0, 5.0, 4.0, 4.0, 2.0, 3.0, 4.0, 1.0, 5.0, 4.0, 4.0, 2.0, 5.0, 5.0, 3.0, 4.0, 5.0, 3.0, 2.0, 3.0, 4.0, 4.0, 4.0, 4.0, 5.0, 1.0, 3.0, 4.0, 3.0, 1.0, 3.0, 5.0, 3.0, 3.0, 3.0, 4.0, 5.0, 1.0, 5.0, 4.0, 5.0, 4.0, 4.0, 4.0, 5.0, 5.0, 4.0, 4.0, 5.0, 3.0, 2.0, 4.0, 3.0, 5.0, 3.0, 5.0, 5.0, 1.0, 5.0, 5.0, 4.0, 5.0, 5.0, 4.0, 4.0, 5.0, 3.0, 4.0, 5.0, 2.0, 5.0, 1.0, 4.0, 4.0, 5.0, 5.0, 5.0, 5.0, 4.0, 5.0, 4.0, 4.0, 4.0, 4.0, 5.0, 5.0, 3.0, 5.0, 5.0, 4.0, 3.0, 5.0, 5.0, 4.0, 4.0, 5.0, 3.0, 5.0, 5.0, 1.0, 5.0, 4.0, 5.0, 3.0, 5.0, 3.0, 5.0, 3.0, 5.0, 5.0, 5.0, 4.0, 5.0, 5.0, 3.0, 3.0, 3.0, 5.0, 4.0, 4.0, 3.0, 3.0, 3.0, 5.0, 5.0, 3.0, 5.0, 2.0, 5.0, 5.0, 5.0, 5.0, 1.0, 3.0, 5.0, 5.0, 5.0, 4.0, 4.0, 4.0, 1.0, 3.0, 4.0, 4.0, 5.0, 5.0, 4.0, 5.0, 5.0, 5.0, 3.0, 3.0, 5.0, 5.0, 3.0, 3.0, 5.0, 4.0, 5.0, 4.0, 5.0, 4.0, 4.0, 4.0, 5.0, 5.0, 4.0, 5.0, 4.0, 4.0, 3.0, 3.0, 5.0, 4.0, 5.0, 5.0, 5.0, 3.0, 4.0, 3.0, 2.0, 4.0, 4.0, 5.0, 5.0, 5.0, 4.0, 4.0, 4.0, 5.0, 5.0, 3.0, 5.0, 3.0, 2.0, 4.0, 5.0, 4.0, 1.0, 5.0, 4.0, 4.0, 5.0, 4.0, 2.0, 5.0, 5.0, 4.0, 5.0, 3.0, 5.0, 2.0, 4.0, 5.0, 5.0, 3.0, 4.0, 3.0, 5.0, 4.0, 5.0, 5.0, 5.0, 5.0, 4.0, 5.0, 4.0, 3.0, 4.0, 4.0, 5.0, 5.0, 5.0, 3.0, 3.0, 5.0, 1.0, 4.0, 5.0, 5.0, 1.0, 2.0, 3.0, 3.0, 1.0, 5.0, 2.0, 1.0, 5.0, 3.0, 4.0, 3.0, 4.0, 4.0, 2.0, 3.0, 5.0, 2.0, 4.0, 4.0, 5.0, 4.0, 4.0, 2.0, 5.0, 1.0, 1.0, 2.0, 3.0, 1.0, 4.0, 4.0, 4.0, 4.0, 4.0, 3.0, 3.0, 5.0, 5.0, 5.0, 5.0, 5.0, 1.0, 4.0, 4.0, 5.0, 4.0, 5.0, 5.0, 3.0, 5.0, 3.0, 5.0, 5.0, 4.0, 5.0, 2.0, 4.0, 4.0, 5.0, 5.0, 5.0, 5.0, 5.0, 5.0, 3.0, 5.0, 1.0, 3.0, 3.0, 4.0, 4.0, 5.0, 1.0, 3.0, 4.0, 1.0, 2.0, 4.0, 5.0, 4.0, 4.0, 4.0, 3.0, 5.0, 4.0, 4.0, 4.0, 5.0, 2.0, 4.0, 5.0, 5.0, 2.0, 5.0, 5.0, 5.0, 1.0, 1.0, 5.0, 4.0, 3.0, 3.0, 5.0, 3.0, 5.0, 3.0, 5.0, 5.0, 4.0, 3.0, 4.0, 5.0, 4.0, 5.0, 4.0, 5.0, 5.0, 4.0, 4.0, 5.0, 5.0, 4.0, 5.0, 1.0, 4.0, 4.0, 4.0, 5.0, 3.0, 5.0, 2.0, 4.0, 5.0, 4.0, 1.0, 4.0, 5.0, 5.0, 3.0, 5.0, 5.0, 4.0, 5.0, 4.0, 2.0, 5.0, 5.0, 4.0, 5.0, 3.0, 3.0, 3.0, 5.0, 5.0, 5.0, 5.0, 5.0, 4.0, 4.0, 5.0, 4.0, 4.0, 4.0, 4.0, 5.0, 4.0, 4.0, 4.0, 4.0, 4.0, 5.0, 4.0, 5.0, 5.0, 5.0, 4.0, 5.0, 4.0, 2.0, 4.0, 5.0, 2.0, 3.0, 5.0, 3.0, 5.0, 4.0, 4.0, 5.0, 2.0, 4.0, 3.0, 4.0, 5.0, 2.0, 4.0, 5.0, 1.0, 4.0, 5.0, 4.0, 2.0, 4.0, 4.0, 4.0, 2.0, 3.0, 5.0, 5.0, 5.0, 4.0, 3.0, 5.0, 3.0, 4.0, 4.0, 4.0, 5.0, 4.0, 4.0, 4.0, 4.0, 5.0, 5.0, 4.0, 4.0, 5.0, 4.0, 5.0, 4.0, 5.0, 3.0, 4.0, 1.0, 5.0, 4.0, 5.0, 5.0, 3.0, 3.0, 1.0, 4.0, 3.0, 5.0, 2.0, 4.0, 5.0, 1.0, 2.0, 5.0, 3.0, 4.0, 4.0, 3.0, 1.0, 1.0, 2.0, 5.0, 4.0, 3.0, 4.0, 3.0, 5.0, 3.0, 4.0, 5.0, 2.0, 5.0, 5.0, 4.0, 3.0, 5.0, 5.0, 5.0, 5.0, 5.0, 4.0, 1.0, 4.0, 5.0, 4.0, 5.0, 3.0, 4.0, 3.0, 3.0, 3.0, 5.0, 1.0, 5.0, 4.0, 4.0, 5.0, 1.0, 4.0, 4.0, 5.0, 5.0, 3.0, 5.0, 5.0, 5.0, 2.0, 4.0, 5.0, 5.0, 3.0, 5.0, 1.0, 5.0, 4.0, 2.0, 5.0, 5.0, 5.0, 4.0, 3.0, 4.0, 3.0, 2.0, 5.0, 2.0, 4.0, 3.0, 3.0, 5.0, 5.0, 5.0, 3.0, 5.0, 5.0, 4.0, 4.0, 4.0, 5.0, 3.0, 3.0, 5.0, 5.0, 5.0, 5.0, 5.0, 5.0, 5.0, 3.0, 5.0, 5.0, 5.0, 5.0, 4.0, 3.0, 5.0, 1.0, 4.0, 3.0, 5.0, 4.0, 4.0, 4.0, 4.0, 2.0, 4.0, 5.0, 5.0, 4.0, 5.0, 3.0, 1.0, 4.0, 4.0, 4.0, 4.0, 5.0, 5.0, 5.0, 4.0, 4.0, 5.0, 5.0, 5.0, 5.0, 3.0, 1.0, 5.0, 1.0, 3.0, 5.0, 5.0, 3.0, 2.0, 5.0, 2.0, 2.0, 5.0, 1.0, 4.0, 5.0, 3.0, 5.0, 4.0, 4.0, 3.0, 3.0, 5.0, 5.0, 5.0, 5.0, 5.0, 4.0, 5.0, 1.0, 5.0, 5.0, 4.0, 5.0, 4.0, 3.0, 3.0, 5.0, 5.0, 3.0, 4.0, 3.0, 4.0, 5.0, 4.0, 4.0, 3.0, 5.0, 5.0, 4.0, 5.0, 5.0, 5.0, 2.0, 3.0, 5.0, 5.0, 5.0, 4.0, 4.0, 5.0, 5.0, 4.0, 4.0, 5.0, 5.0, 5.0, 4.0, 5.0, 3.0, 4.0, 5.0, 4.0, 3.0, 5.0, 4.0, 3.0, 5.0, 5.0, 3.0, 5.0, 3.0, 5.0, 4.0, 5.0, 5.0, 5.0, 5.0, 2.0, 1.0, 5.0, 5.0, 3.0, 4.0, 4.0, 3.0, 5.0, 1.0, 1.0, 5.0, 5.0, 5.0, 5.0, 5.0, 2.0, 5.0, 5.0, 5.0, 5.0, 4.0, 2.0, 4.0, 1.0, 4.0, 5.0, 4.0, 5.0, 1.0, 5.0, 5.0, 5.0, 3.0, 5.0, 4.0, 5.0, 5.0, 5.0, 1.0, 4.0, 5.0, 1.0, 1.0, 3.0, 5.0, 5.0, 2.0, 1.0, 3.0, 4.0, 2.0, 4.0, 5.0, 5.0, 4.0, 1.0, 2.0, 4.0, 3.0, 5.0, 5.0, 2.0, 2.0, 1.0, 5.0, 5.0, 1.0, 4.0, 1.0, 4.0, 3.0, 4.0, 5.0, 3.0, 1.0, 4.0, 5.0, 5.0, 3.0, 1.0, 2.0, 4.0, 4.0, 5.0, 5.0, 5.0, 3.0, 1.0, 5.0, 5.0, 1.0, 3.0, 4.0, 4.0, 4.0, 4.0, 4.0, 1.0, 1.0, 3.0, 5.0, 5.0, 4.0, 5.0, 5.0, 4.0, 5.0, 5.0, 5.0, 5.0, 3.0, 2.0, 3.0, 5.0, 4.0, 4.0, 2.0, 4.0, 1.0, 4.0, 5.0, 4.0, 3.0, 5.0, 4.0, 4.0, 4.0, 1.0, 1.0, 5.0, 2.0, 5.0, 5.0, 5.0, 4.0, 5.0, 3.0, 4.0, 5.0, 4.0, 4.0, 4.0, 5.0, 4.0, 3.0, 4.0, 4.0, 5.0, 5.0, 4.0, 4.0, 5.0, 4.0, 4.0, 4.0, 1.0, 5.0, 5.0, 5.0, 1.0, 4.0, 2.0, 3.0, 3.0, 2.0, 5.0, 4.0, 2.0, 3.0, 5.0, 3.0, 5.0, 4.0, 5.0, 5.0, 4.0, 5.0, 1.0, 1.0, 5.0, 3.0, 4.0, 5.0, 4.0, 4.0, 5.0, 5.0, 4.0, 5.0, 4.0, 3.0, 3.0, 1.0, 5.0, 3.0, 3.0, 4.0, 3.0, 5.0, 4.0, 3.0, 5.0, 5.0, 3.0, 5.0, 5.0, 4.0, 3.0, 1.0, 3.0, 2.0, 2.0, 4.0, 3.0, 4.0, 1.0, 4.0, 4.0, 4.0, 3.0, 5.0, 5.0, 4.0, 4.0, 4.0, 4.0, 5.0, 3.0, 5.0, 2.0, 1.0, 3.0, 5.0, 5.0, 5.0, 4.0, 5.0, 2.0, 5.0, 4.0, 3.0, 5.0, 3.0, 5.0, 5.0, 5.0, 4.0, 2.0, 1.0, 1.0, 4.0, 3.0, 4.0, 1.0, 5.0, 3.0, 5.0, 5.0, 4.0, 4.0, 4.0, 3.0, 5.0, 4.0, 3.0, 5.0, 5.0, 5.0, 1.0, 3.0, 3.0, 2.0, 4.0, 5.0, 5.0, 4.0, 4.0, 5.0, 5.0, 4.0, 4.0, 4.0, 4.0, 5.0, 1.0, 4.0, 3.0, 2.0, 3.0, 1.0, 4.0, 4.0, 4.0, 2.0, 5.0, 4.0, 5.0, 5.0, 5.0, 3.0, 4.0, 5.0, 4.0, 4.0, 5.0, 5.0, 4.0, 3.0, 1.0, 5.0, 5.0, 4.0, 5.0, 4.0, 4.0, 2.0, 3.0, 4.0, 5.0, 4.0, 3.0, 5.0, 5.0, 2.0, 5.0, 4.0, 5.0, 3.0, 5.0, 5.0, 4.0, 4.0, 4.0, 5.0, 5.0, 5.0, 5.0, 5.0, 4.0, 5.0, 4.0, 4.0, 5.0, 5.0, 5.0, 5.0, 4.0, 5.0, 3.0, 3.0, 4.0, 3.0, 1.0, 5.0, 5.0, 4.0, 5.0, 4.0, 4.0, 2.0, 5.0, 4.0, 5.0, 5.0, 1.0, 5.0, 2.0, 5.0, 5.0, 5.0, 4.0, 5.0, 4.0, 5.0, 5.0, 5.0, 3.0, 4.0, 1.0, 4.0, 5.0, 4.0, 5.0, 4.0, 5.0, 4.0, 5.0, 5.0, 4.0, 5.0, 5.0, 3.0, 5.0, 4.0, 4.0, 5.0, 4.0, 5.0, 5.0, 4.0, 5.0, 4.0, 5.0, 4.0, 5.0, 3.0, 5.0, 4.0, 4.0, 5.0, 1.0, 5.0, 3.0, 1.0, 4.0, 5.0, 5.0, 4.0, 4.0, 5.0, 5.0, 5.0, 5.0, 3.0, 5.0, 5.0, 5.0, 5.0, 1.0, 1.0, 4.0, 4.0, 2.0, 5.0, 3.0, 4.0, 5.0, 4.0, 4.0, 4.0, 3.0, 5.0, 4.0, 5.0, 4.0, 4.0, 5.0, 5.0, 1.0, 5.0, 2.0, 4.0, 5.0, 5.0, 4.0, 2.0, 5.0, 3.0, 3.0, 4.0, 4.0, 5.0, 5.0, 4.0, 4.0, 5.0, 5.0, 5.0, 2.0, 3.0, 1.0, 5.0, 3.0, 3.0, 5.0, 4.0, 1.0, 4.0, 4.0, 4.0, 5.0, 3.0, 4.0, 4.0, 3.0, 4.0, 3.0, 4.0, 4.0, 4.0, 2.0, 3.0, 3.0, 4.0, 4.0, 4.0, 5.0, 1.0, 5.0, 4.0, 5.0, 5.0, 5.0, 5.0, 4.0, 5.0, 2.0, 5.0, 5.0, 3.0, 4.0, 4.0, 3.0, 5.0, 5.0, 4.0, 5.0, 5.0, 4.0, 4.0, 5.0, 3.0, 3.0, 3.0, 4.0, 5.0, 5.0, 5.0, 3.0, 3.0, 4.0, 4.0, 1.0, 5.0, 2.0, 2.0, 4.0, 5.0, 4.0, 4.0, 4.0, 2.0, 2.0, 4.0, 4.0, 3.0, 5.0, 5.0, 3.0, 5.0, 3.0, 5.0, 5.0, 4.0, 5.0, 1.0, 2.0, 5.0, 5.0, 5.0, 4.0, 4.0, 5.0]\n"
     ]
    }
   ],
   "source": [
    "X_train, X_test, y_train, y_test, ratings_train, ratings_test = train_test_split(X, Y, ratings,\n",
    "                                                                                 test_size=TEST_PROPORTION)\n",
    "\n",
    "print(len(X_train))\n",
    "print(len(X_test))\n",
    "\n",
    "print(y_train.loc[0,:])\n",
    "\n",
    "print(np.unique(y_train, return_counts=True))\n",
    "print(np.unique(y_test, return_counts=True))\n",
    "\n",
    "print(ratings_train)"
   ]
  },
  {
   "cell_type": "markdown",
   "metadata": {},
   "source": [
    "#### 4.5.3 Fitting and Evaluating the Model"
   ]
  },
  {
   "cell_type": "code",
   "execution_count": 853,
   "metadata": {},
   "outputs": [
    {
     "name": "stdout",
     "output_type": "stream",
     "text": [
      "_________________________________________________________________\n",
      "Layer (type)                 Output Shape              Param #   \n",
      "=================================================================\n",
      "embedding_33 (Embedding)     (None, 50, 32)            32000     \n",
      "_________________________________________________________________\n",
      "dropout_24 (Dropout)         (None, 50, 32)            0         \n",
      "_________________________________________________________________\n",
      "lstm_26 (LSTM)               (None, 16)                3136      \n",
      "_________________________________________________________________\n",
      "dense_44 (Dense)             (None, 16)                272       \n",
      "_________________________________________________________________\n",
      "dropout_25 (Dropout)         (None, 16)                0         \n",
      "_________________________________________________________________\n",
      "dense_45 (Dense)             (None, 5)                 85        \n",
      "=================================================================\n",
      "Total params: 35,493\n",
      "Trainable params: 35,493\n",
      "Non-trainable params: 0\n",
      "_________________________________________________________________\n"
     ]
    }
   ],
   "source": [
    "\n",
    "model = Sequential()\n",
    "\n",
    "model.add(Embedding(TK_INDEX_SIZE, EMBEDDING_OUTPUT_SIZE, input_length=X_train.shape[1]))\n",
    "model.add(Dropout(0.2))\n",
    "model.add(LSTM(LSTM_OUTPUT_SIZE, dropout=0.2))\n",
    "model.add(Dense(16, activation=\"relu\"))\n",
    "model.add(Dropout(0.4))\n",
    "model.add(Dense(5, activation=\"softmax\"))\n",
    "\n",
    "model.summary()\n",
    "\n",
    "model.compile(\"adam\", loss=\"categorical_crossentropy\", metrics=[\"accuracy\"])\n"
   ]
  },
  {
   "cell_type": "code",
   "execution_count": 854,
   "metadata": {
    "scrolled": true
   },
   "outputs": [
    {
     "data": {
      "application/vnd.jupyter.widget-view+json": {
       "model_id": "29dbb119592040318e643747206abc5f",
       "version_major": 2,
       "version_minor": 0
      },
      "text/plain": [
       "HBox(children=(IntProgress(value=0, description='Training', max=10, style=ProgressStyle(description_width='ini…"
      ]
     },
     "metadata": {},
     "output_type": "display_data"
    },
    {
     "data": {
      "application/vnd.jupyter.widget-view+json": {
       "model_id": "",
       "version_major": 2,
       "version_minor": 0
      },
      "text/plain": [
       "HBox(children=(IntProgress(value=0, description='Epoch 0', max=23100, style=ProgressStyle(description_width='i…"
      ]
     },
     "metadata": {},
     "output_type": "display_data"
    },
    {
     "data": {
      "application/vnd.jupyter.widget-view+json": {
       "model_id": "",
       "version_major": 2,
       "version_minor": 0
      },
      "text/plain": [
       "HBox(children=(IntProgress(value=0, description='Epoch 1', max=23100, style=ProgressStyle(description_width='i…"
      ]
     },
     "metadata": {},
     "output_type": "display_data"
    },
    {
     "data": {
      "application/vnd.jupyter.widget-view+json": {
       "model_id": "",
       "version_major": 2,
       "version_minor": 0
      },
      "text/plain": [
       "HBox(children=(IntProgress(value=0, description='Epoch 2', max=23100, style=ProgressStyle(description_width='i…"
      ]
     },
     "metadata": {},
     "output_type": "display_data"
    },
    {
     "data": {
      "application/vnd.jupyter.widget-view+json": {
       "model_id": "",
       "version_major": 2,
       "version_minor": 0
      },
      "text/plain": [
       "HBox(children=(IntProgress(value=0, description='Epoch 3', max=23100, style=ProgressStyle(description_width='i…"
      ]
     },
     "metadata": {},
     "output_type": "display_data"
    },
    {
     "data": {
      "application/vnd.jupyter.widget-view+json": {
       "model_id": "",
       "version_major": 2,
       "version_minor": 0
      },
      "text/plain": [
       "HBox(children=(IntProgress(value=0, description='Epoch 4', max=23100, style=ProgressStyle(description_width='i…"
      ]
     },
     "metadata": {},
     "output_type": "display_data"
    },
    {
     "data": {
      "application/vnd.jupyter.widget-view+json": {
       "model_id": "",
       "version_major": 2,
       "version_minor": 0
      },
      "text/plain": [
       "HBox(children=(IntProgress(value=0, description='Epoch 5', max=23100, style=ProgressStyle(description_width='i…"
      ]
     },
     "metadata": {},
     "output_type": "display_data"
    },
    {
     "data": {
      "application/vnd.jupyter.widget-view+json": {
       "model_id": "",
       "version_major": 2,
       "version_minor": 0
      },
      "text/plain": [
       "HBox(children=(IntProgress(value=0, description='Epoch 6', max=23100, style=ProgressStyle(description_width='i…"
      ]
     },
     "metadata": {},
     "output_type": "display_data"
    },
    {
     "data": {
      "application/vnd.jupyter.widget-view+json": {
       "model_id": "",
       "version_major": 2,
       "version_minor": 0
      },
      "text/plain": [
       "HBox(children=(IntProgress(value=0, description='Epoch 7', max=23100, style=ProgressStyle(description_width='i…"
      ]
     },
     "metadata": {},
     "output_type": "display_data"
    },
    {
     "data": {
      "application/vnd.jupyter.widget-view+json": {
       "model_id": "",
       "version_major": 2,
       "version_minor": 0
      },
      "text/plain": [
       "HBox(children=(IntProgress(value=0, description='Epoch 8', max=23100, style=ProgressStyle(description_width='i…"
      ]
     },
     "metadata": {},
     "output_type": "display_data"
    },
    {
     "data": {
      "application/vnd.jupyter.widget-view+json": {
       "model_id": "",
       "version_major": 2,
       "version_minor": 0
      },
      "text/plain": [
       "HBox(children=(IntProgress(value=0, description='Epoch 9', max=23100, style=ProgressStyle(description_width='i…"
      ]
     },
     "metadata": {},
     "output_type": "display_data"
    }
   ],
   "source": [
    "history = model.fit(X_train, y_train, epochs=10, verbose=0, validation_split=0.1, callbacks=[TQDMNotebookCallback()])"
   ]
  },
  {
   "cell_type": "code",
   "execution_count": 855,
   "metadata": {},
   "outputs": [
    {
     "data": {
      "image/png": "[encoded data removed]",
      "text/plain": [
       "<Figure size 432x288 with 1 Axes>"
      ]
     },
     "metadata": {
      "needs_background": "light"
     },
     "output_type": "display_data"
    }
   ],
   "source": [
    "# Plot training & validation accuracy values\n",
    "plt.plot(history.history['acc'])\n",
    "plt.plot(history.history['val_acc'])\n",
    "plt.title('Model accuracy')\n",
    "plt.ylabel('Accuracy')\n",
    "plt.xlabel('Epoch')\n",
    "plt.legend(['Train', 'Test'], loc='upper left')\n",
    "plt.show()"
   ]
  },
  {
   "cell_type": "code",
   "execution_count": 856,
   "metadata": {},
   "outputs": [
    {
     "name": "stdout",
     "output_type": "stream",
     "text": [
      "8556/8556 [==============================] - ETA:  - ETA:  - ETA:  - ETA:  - ETA:  - ETA:  - ETA:  - ETA:  - ETA:  - ETA:  - ETA:  - ETA:  - ETA:  - ETA:  - ETA:  - ETA:  - ETA:  - ETA:  - ETA:  - ETA:  - ETA:  - ETA:  - ETA:  - ETA:  - ETA:  - ETA:  - ETA:  - ETA:  - ETA:  - ETA:  - ETA:  - ETA:  - ETA:  - ETA:  - ETA:  - ETA:  - ETA:  - ETA:  - ETA:  - ETA:  - ETA:  - ETA:  - ETA:  - ETA:  - 2s 286us/step\n"
     ]
    }
   ],
   "source": [
    "score, acc = model.evaluate(X_test, y_test)"
   ]
  },
  {
   "cell_type": "code",
   "execution_count": 810,
   "metadata": {},
   "outputs": [
    {
     "name": "stdout",
     "output_type": "stream",
     "text": [
      "Score: 1.03\n",
      "Accuracy: 0.55\n"
     ]
    }
   ],
   "source": [
    "print(\"Score: {:.2f}\".format(score))\n",
    "print(\"Accuracy: {:.2f}\".format(acc))"
   ]
  },
  {
   "cell_type": "markdown",
   "metadata": {},
   "source": [
    "It is important to note that training the model took almost 5 minutes to train (on a very small number of epochs), compared to a few seconds for the Naive Bayes model, and returned equal accuracy when predicting the rating. However, the actual predictions are not particularly important - rather, we are looking for a sentiment score that accurately reflects the opinion in the text (using the score as a crude proxy)"
   ]
  },
  {
   "cell_type": "code",
   "execution_count": 857,
   "metadata": {},
   "outputs": [
    {
     "name": "stdout",
     "output_type": "stream",
     "text": [
      "(50,)\n",
      "[  0   0   0   0   0   0   0   0   0   0   0   0   0  31  41   2  22 110\n",
      "  35  45 433  43  21 264 112 237  28 203   2  20  89  31   5   1 264 144\n",
      " 271  13 357 333   5 207   2   5 146  45  23  50  60 121]\n"
     ]
    }
   ],
   "source": [
    "print(X_test[0,:].shape)\n",
    "\n",
    "print(X_test[0,:])\n",
    "\n",
    "predictions = model.predict(X_test)\n",
    "\n",
    "\n",
    "    "
   ]
  },
  {
   "cell_type": "markdown",
   "metadata": {},
   "source": [
    "#### 4.5.4 Scoring each Review in the Dataset"
   ]
  },
  {
   "cell_type": "code",
   "execution_count": 964,
   "metadata": {},
   "outputs": [],
   "source": [
    "def get_lstm_sentiment_score(preds):\n",
    "    return (-1*preds[:,0]) + (-0.5*preds[:,1]) + (0.5*preds[:,3]) + (1*preds[:,4])\n",
    "\n",
    "\n",
    "df[\"lstm_sentiment_score\"] = get_lstm_sentiment_score(model.predict(X))\n",
    "\n"
   ]
  },
  {
   "cell_type": "markdown",
   "metadata": {},
   "source": [
    "#### 4.5.5 Evaluating Resultant Sentiment Scores"
   ]
  },
  {
   "cell_type": "code",
   "execution_count": 965,
   "metadata": {},
   "outputs": [
    {
     "data": {
      "text/plain": [
       "<matplotlib.axes._subplots.AxesSubplot at 0x20101f82fd0>"
      ]
     },
     "execution_count": 965,
     "metadata": {},
     "output_type": "execute_result"
    },
    {
     "data": {
      "image/png": "[encoded data removed]",
      "text/plain": [
       "<Figure size 432x288 with 1 Axes>"
      ]
     },
     "metadata": {
      "needs_background": "light"
     },
     "output_type": "display_data"
    }
   ],
   "source": [
    "df.boxplot(column=\"lstm_sentiment_score\", by=\"reviews.rating\")"
   ]
  },
  {
   "cell_type": "code",
   "execution_count": 861,
   "metadata": {},
   "outputs": [
    {
     "data": {
      "text/plain": [
       "<Figure size 432x288 with 0 Axes>"
      ]
     },
     "execution_count": 861,
     "metadata": {},
     "output_type": "execute_result"
    },
    {
     "data": {
      "image/png": "[encoded data removed]",
      "text/plain": [
       "<Figure size 432x288 with 1 Axes>"
      ]
     },
     "metadata": {
      "needs_background": "light"
     },
     "output_type": "display_data"
    },
    {
     "data": {
      "image/png": "[encoded data removed]",
      "text/plain": [
       "<Figure size 432x288 with 1 Axes>"
      ]
     },
     "metadata": {
      "needs_background": "light"
     },
     "output_type": "display_data"
    },
    {
     "data": {
      "image/png": "[encoded data removed]",
      "text/plain": [
       "<Figure size 432x288 with 1 Axes>"
      ]
     },
     "metadata": {
      "needs_background": "light"
     },
     "output_type": "display_data"
    },
    {
     "data": {
      "image/png": "[encoded data removed]",
      "text/plain": [
       "<Figure size 432x288 with 1 Axes>"
      ]
     },
     "metadata": {
      "needs_background": "light"
     },
     "output_type": "display_data"
    },
    {
     "data": {
      "image/png": "[encoded data removed]",
      "text/plain": [
       "<Figure size 432x288 with 1 Axes>"
      ]
     },
     "metadata": {
      "needs_background": "light"
     },
     "output_type": "display_data"
    },
    {
     "data": {
      "text/plain": [
       "<Figure size 432x288 with 0 Axes>"
      ]
     },
     "metadata": {},
     "output_type": "display_data"
    }
   ],
   "source": [
    "df[df[\"reviews.rating\"] == 1.0][\"lstm_sentiment_score\"].hist(bins=50)\n",
    "plt.suptitle(\"Histogram of Sentiment Score Distrbution (1.0-rated reviews)\")\n",
    "plt.figure()\n",
    "df[df[\"reviews.rating\"] == 2.0][\"lstm_sentiment_score\"].hist(bins=50)\n",
    "plt.suptitle(\"Histogram of Sentiment Score Distrbution (2.0-rated reviews)\")\n",
    "plt.figure()\n",
    "df[df[\"reviews.rating\"] == 3.0][\"lstm_sentiment_score\"].hist(bins=50)\n",
    "plt.suptitle(\"Histogram of Sentiment Score Distrbution (3.0-rated reviews)\")\n",
    "plt.figure()\n",
    "df[df[\"reviews.rating\"] == 4.0][\"lstm_sentiment_score\"].hist(bins=50)\n",
    "plt.suptitle(\"Histogram of Sentiment Score Distrbution (4.0-rated reviews)\")\n",
    "plt.figure()\n",
    "df[df[\"reviews.rating\"] == 5.0][\"lstm_sentiment_score\"].hist(bins=50)\n",
    "plt.suptitle(\"Histogram of Sentiment Score Distrbution (5.0-rated reviews)\")\n",
    "plt.figure()"
   ]
  },
  {
   "cell_type": "markdown",
   "metadata": {},
   "source": [
    "Here, the histograms again are clustered around points corresponding to the given review ratings - unlike the naive bayes histograms, however, there is a much greater variance. This could be because the system is better than the Naive Bayes model at understanding the underlying senitment of the text.\n",
    "\n",
    "Interestingly, the histogram for 3.0-rated reviews, rather than being centered around 0, as would be expected, is instead centered on 0.25 (between the score for a perfectly predicted 3.0 and 4.0 review), possible indicating that, in general, when a reviewer gives a 3.0 review, it indicates a higher opinion of a place than would be expected if the rating scale were perfectly linear (that is, if the difference between each score in terms of sentiment towards the place was exactly the same at all points on the rating)"
   ]
  },
  {
   "cell_type": "markdown",
   "metadata": {},
   "source": [
    "#### 4.5.6 Calculating Difference between Sentiment Score and Rating"
   ]
  },
  {
   "cell_type": "code",
   "execution_count": 948,
   "metadata": {},
   "outputs": [
    {
     "data": {
      "text/plain": [
       "<Figure size 432x288 with 0 Axes>"
      ]
     },
     "execution_count": 948,
     "metadata": {},
     "output_type": "execute_result"
    },
    {
     "data": {
      "image/png": "[encoded data removed]",
      "text/plain": [
       "<Figure size 432x288 with 1 Axes>"
      ]
     },
     "metadata": {
      "needs_background": "light"
     },
     "output_type": "display_data"
    },
    {
     "data": {
      "text/plain": [
       "<Figure size 432x288 with 0 Axes>"
      ]
     },
     "metadata": {},
     "output_type": "display_data"
    }
   ],
   "source": [
    "scores_grouped = df.groupby(\"reviews.rating\")[\"lstm_sentiment_score\"]\n",
    "\n",
    "pd.DataFrame({\"mean\" : quantiles.mean(), \n",
    "              \"upper quartile\": scores_grouped.quantile(0.75),\n",
    "              \"lower quartile\": scores_grouped.quantile(0.25),\n",
    "              \"95th percentile\": scores_grouped.quantile(0.95),\n",
    "              \"5th percentile\": scores_grouped.quantile(0.05),\n",
    "             }).plot()\n",
    "plt.suptitle(\"Plot of sentiment scores for each rating\")\n",
    "plt.figure()"
   ]
  },
  {
   "cell_type": "markdown",
   "metadata": {},
   "source": [
    "To calculate the difference between the sentiment score and the rating, I will use a Linear Regressor to effectively rescale the review scores into the rating range, and then calculate the absolute difference between the rescaled scores and the actual ratings"
   ]
  },
  {
   "cell_type": "code",
   "execution_count": 891,
   "metadata": {},
   "outputs": [
    {
     "name": "stdout",
     "output_type": "stream",
     "text": [
      "Score: 0.62\n"
     ]
    }
   ],
   "source": [
    "\n",
    "reg = LinearRegression().fit(df[\"lstm_sentiment_score\"].values.reshape(-1,1), df[\"reviews.rating\"].values)\n",
    "\n",
    "print(\"Score: {:.2f}\".format(reg.score(df[\"lstm_sentiment_score\"].values.reshape(-1,1), df[\"reviews.rating\"].values)))"
   ]
  },
  {
   "cell_type": "code",
   "execution_count": 926,
   "metadata": {},
   "outputs": [],
   "source": [
    "predicted_ratings = reg.predict(df[\"lstm_sentiment_score\"].values.reshape(-1,1))\n",
    "\n",
    "df[\"lstm_score_difference\"] = abs(df[\"reviews.rating\"] - predicted_ratings)"
   ]
  },
  {
   "cell_type": "markdown",
   "metadata": {},
   "source": [
    "Now we have a score representing the difference between the rating and the calculated sentiment score, we can drill down on the reviews for which the sentiment scorer seems to perform badly, to see where the model is going wrong."
   ]
  },
  {
   "cell_type": "code",
   "execution_count": 928,
   "metadata": {},
   "outputs": [],
   "source": [
    "worst_performers = (df.sort_values(\"lstm_score_difference\", ascending=False).head(20))"
   ]
  },
  {
   "cell_type": "code",
   "execution_count": 929,
   "metadata": {},
   "outputs": [
    {
     "name": "stdout",
     "output_type": "stream",
     "text": [
      "reviews.rating\n",
      "2558 \t Rating: 1.0 \t Sentiment Score: 0.91 \t Difference Score: 3.92\n",
      "We first stumbled on this motel while taking a long ride to investigate somewhere new. We tripped over PURE GOLD!! The first time we stayed there we were in an older room and we had such a wonderful time, that we decided to go back again three months later! Our second stay absolutely amazing. We are both handicapped, and the... More\n",
      "reviews.rating\n",
      "5509 \t Rating: 1.0 \t Sentiment Score: 0.91 \t Difference Score: 3.91\n",
      "Recently my wife Diana and I visited this hotel was wonderfully taken care of by the top-notch receptionist Scott. He even found a little treat for our dog Spencer. Also the hotel was immaculate we love all the amenities. David Allport\n",
      "reviews.rating\n",
      "5973 \t Rating: 1.0 \t Sentiment Score: 0.91 \t Difference Score: 3.91\n",
      "I booked a room at the Hotel Deca for 3 adults and was disappointed to get a room with only one bed. But the staff at the front desk was helpful and brought us a rollaway. The staff was excellent, actually. Friendly, helpful and fun. The decor is funky and edgy. I loved the hotel and our stay. I had... More\n",
      "reviews.rating\n",
      "6784 \t Rating: 1.0 \t Sentiment Score: 0.90 \t Difference Score: 3.89\n",
      "We had a problem with the Hotels.com booking at check in, but the hotel staff were excellent, very accommodating and fixed the room reservation at no additional fee without hesitation. The manager was absolutely great- very welcoming and helpful. The breakfast staff was very friendly also.\n",
      "reviews.rating\n",
      "5785 \t Rating: 1.0 \t Sentiment Score: 0.89 \t Difference Score: 3.87\n",
      "Very Helpful The staff was very helpful and engaging. They frequently asked us if everything was alright and if we needed anything. Any request was immediately acted on.\n",
      "reviews.rating\n",
      "12105 \t Rating: 5.0 \t Sentiment Score: -0.82 \t Difference Score: 3.85\n",
      "This Hotel is HORRIBLE. When we went to bed we pulled back the sheets and there was dried blood all over the sheets. We were so disgusted. We had to fight and fight for our money back and the manager didn't even care. Do NOT stay here.\n",
      "reviews.rating\n",
      "17998 \t Rating: 1.0 \t Sentiment Score: 0.88 \t Difference Score: 3.85\n",
      "Attending the high quality annual KPMG insurance industry conference. Great seminar and great venue with superb facilities!\n",
      "reviews.rating\n",
      "5115 \t Rating: 1.0 \t Sentiment Score: 0.87 \t Difference Score: 3.82\n",
      "Classic Style Grace This is a wonderful hotel and we would recommend it highly to anyone staying in Portland. Beautifully appointed lobby and rooms, friendly professional staff, comfortable and cozy - from the fireplace in the lobby to the private balcony and view of the City.\n",
      "reviews.rating\n",
      "25818 \t Rating: 1.0 \t Sentiment Score: 0.85 \t Difference Score: 3.78\n",
      "Hotel is under renovations and you would not know it the way the staff, front desk and sales treated you. The room was great, much space. I stayed with my son and daughtger in a studio suite and were very comfortable. the hotel is located ina excellent location with easy acess to all surrondings. I would stay they again,\n",
      "reviews.rating\n",
      "22090 \t Rating: 1.0 \t Sentiment Score: 0.84 \t Difference Score: 3.75\n",
      "Elk Springs We went with 3 children.As soon as you walk in you feel like you're at home. It has all the perks of home and is extremely affordable. I highly reccomend a stay at elk springs.\n",
      "reviews.rating\n",
      "34008 \t Rating: 1.0 \t Sentiment Score: 0.83 \t Difference Score: 3.74\n",
      "The place is in an absolutely secluded area, made me extremely nervous to leave my vehicle in such a place.The rooms..... Absolutely disgusting, there was a roach crawling on the bathroom floor. Mirrors were disgusting as well.I would dodge this hotel like roaches dodge light.\n",
      "reviews.rating\n",
      "11919 \t Rating: 1.0 \t Sentiment Score: 0.83 \t Difference Score: 3.73\n",
      "I Recommend the Suite with the whirlpool bath in the room and the Fireplace. Nice Pool with a water slide and a Jacuzzi as well. Breakfast is Excellent.\n",
      "reviews.rating\n",
      "793 \t Rating: 1.0 \t Sentiment Score: 0.83 \t Difference Score: 3.73\n",
      "We had our family reunion there and it was a great overall trip.Everything was clean and people were friendly and helpful. They were tolerant of small children and teens.There was rooms for everybody and plenty of space for gathering and eating. The kids and adults loved the pool and hot tub. We were impressed at the ability for my cousin... More\n",
      "reviews.rating\n",
      "13848 \t Rating: 1.0 \t Sentiment Score: 0.82 \t Difference Score: 3.72\n",
      "Ive worked in hotels for 15 years and the BnB experience is always a welcome change during my travels. I opted for a last minute getaway before returning school and work. I was fortunate enough to find a two-night stay at the Bailey House and looked forward to my first Lake Geneva experience. Our confirmation email stated a 3AM check... More\n",
      "reviews.rating\n",
      "16097 \t Rating: 1.0 \t Sentiment Score: 0.82 \t Difference Score: 3.71\n",
      "Excellent facilities. Free breakfast with fresh waffles. Wifi is free but sometimes a pain to get connected. Excellent location near I-87 & I-90.\n",
      "reviews.rating\n",
      "31144 \t Rating: 1.0 \t Sentiment Score: 0.82 \t Difference Score: 3.71\n",
      "Nice place to stay. It is at walking distance to SDSU, about 20 minutes, where you can take the trolley to downtown San Diego.The personal is very kind. The rooms are big and the place is quiet. Nearby you can find restaurants and shops.\n",
      "reviews.rating\n",
      "27706 \t Rating: 1.0 \t Sentiment Score: 0.80 \t Difference Score: 3.68\n",
      "We came here on our wedding night we figured we would save money on the hotel so we would have more for fun in the city. We didn't expect AMAZING but we did expect comfortable. When we walked in the building the man working the desk was to busy watching the game to really greet us. He checked us in... More\n",
      "reviews.rating\n",
      "9859 \t Rating: 1.0 \t Sentiment Score: 0.80 \t Difference Score: 3.67\n",
      "From the warm greeting at check-in to the service at the breakfast, the visit was superb! We received our requested room number it was clean and quiet as usual. Plans are to return this fall. Overall, highly recommended.\n",
      "reviews.rating\n",
      "911 \t Rating: 5.0 \t Sentiment Score: -0.74 \t Difference Score: 3.67\n",
      "It was terrible. Would never stayhere agian. So bad i didnt even go back for my 2nd night. Worst place i have ever staid at. Very nasty needs o be closed down\n",
      "reviews.rating\n",
      "5377 \t Rating: 5.0 \t Sentiment Score: -0.73 \t Difference Score: 3.66\n",
      "I have been a guest of this hotel between 40-50 times over the past 9 years. No one continues to return to the same place year after year if it does not meet exceed all their needs. Can I say more The food, cleanliness, price, service, management, comfort and absolutely everything is superb! I cannot recommend this place more.\n"
     ]
    }
   ],
   "source": [
    "for idx, row in worst_performers.iterrows():\n",
    "    print(i)\n",
    "    print(idx, \"\\t\", \n",
    "          \"Rating: {}\".format(row[\"reviews.rating\"]), \"\\t\",\n",
    "          \"Sentiment Score: {:,.2f}\".format(row[\"lstm_sentiment_score\"]), \"\\t\",\n",
    "          \"Difference Score: {:,.2f}\".format(row[\"lstm_score_difference\"])) \n",
    "    print(row[\"reviews.text\"].decode(\"utf-8\"))"
   ]
  },
  {
   "cell_type": "code",
   "execution_count": 992,
   "metadata": {},
   "outputs": [],
   "source": [
    "worst_performers_five_stars = (df[df[\"reviews.rating\"] == 5.0].sort_values(\"lstm_score_difference\", ascending=False).head(20))"
   ]
  },
  {
   "cell_type": "code",
   "execution_count": 993,
   "metadata": {},
   "outputs": [
    {
     "name": "stdout",
     "output_type": "stream",
     "text": [
      "reviews.rating\n",
      "12105 \t Rating: 5.0 \t Sentiment Score: -0.82 \t Difference Score: 3.27\n",
      "This Hotel is HORRIBLE. When we went to bed we pulled back the sheets and there was dried blood all over the sheets. We were so disgusted. We had to fight and fight for our money back and the manager didn't even care. Do NOT stay here.\n",
      "reviews.rating\n",
      "911 \t Rating: 5.0 \t Sentiment Score: -0.74 \t Difference Score: 3.14\n",
      "It was terrible. Would never stayhere agian. So bad i didnt even go back for my 2nd night. Worst place i have ever staid at. Very nasty needs o be closed down\n",
      "reviews.rating\n",
      "5377 \t Rating: 5.0 \t Sentiment Score: -0.73 \t Difference Score: 3.14\n",
      "I have been a guest of this hotel between 40-50 times over the past 9 years. No one continues to return to the same place year after year if it does not meet exceed all their needs. Can I say more The food, cleanliness, price, service, management, comfort and absolutely everything is superb! I cannot recommend this place more.\n",
      "reviews.rating\n",
      "19497 \t Rating: 5.0 \t Sentiment Score: -0.71 \t Difference Score: 3.11\n",
      "really can't recommend this hotel. dirty towels. room wasn't serviced. no key needed for the pool, so anyone can go in. staff was very unhelpful.\n",
      "reviews.rating\n",
      "18015 \t Rating: 5.0 \t Sentiment Score: -0.71 \t Difference Score: 3.10\n",
      "Worst hotel experience in my whole life! Ad by far, the worst customer experience you can ever expect it see from a hotel! Is this really a Marriott!?!?!? Only thing good about this place is location!\n",
      "reviews.rating\n",
      "5436 \t Rating: 5.0 \t Sentiment Score: -0.71 \t Difference Score: 3.10\n",
      "we were very disappointed with hotels.ie..what you offer us and we paid wasn't what we got in port aventura..we had a big discussion with the manager at the hotel...he told us that your offer what we paid they didn't have at the hotel...so you should check in your web what you are offering is what they have...very disappointed with hotels.com for the first time\n",
      "reviews.rating\n",
      "17061 \t Rating: 5.0 \t Sentiment Score: -0.70 \t Difference Score: 3.09\n",
      "we ended up not staying due to it mean under construction the rooms were horrible looking I don't recommend anybody to stay\n",
      "reviews.rating\n",
      "13956 \t Rating: 5.0 \t Sentiment Score: -0.69 \t Difference Score: 3.07\n",
      "Despite reservation, this hotel was overbooked. They sent me next door to quality in, which was a cheap suite with motel 6 feel. It felt unsafe, and unclean. Even with my best effort I could not locate another hotel. The next day I was able to go to Comfort in, but because of the area, and being bumped. I will never return.\n",
      "reviews.rating\n",
      "7685 \t Rating: 5.0 \t Sentiment Score: -0.68 \t Difference Score: 3.05\n",
      "friendly staff, ok for the money. found bites on my arm/face, turned on light found 3 bed bugs!!!  manager apologized a lot and refunded part of my money. reassured it would be taken care of.\n",
      "reviews.rating\n",
      "7672 \t Rating: 5.0 \t Sentiment Score: -0.68 \t Difference Score: 3.05\n",
      "Friendly staff, ok for the money. Found bites on my arm/face, turned on light found 3 bed bugs!!!  Manager apologized a lot and refunded part of my money. Reassured it would be taken care of.\n",
      "reviews.rating\n",
      "11565 \t Rating: 5.0 \t Sentiment Score: -0.66 \t Difference Score: 3.02\n",
      "This hotel sucks!  No laundry, construction on the floor we're on, filthy old bathroom in the room and lousy service.\n",
      "reviews.rating\n",
      "14853 \t Rating: 5.0 \t Sentiment Score: -0.66 \t Difference Score: 3.02\n",
      "Entire building wing of the hotel smelled terrible and the room smelled worse. Everything was damp and musty. The window was broken so could not be opened and the air conditioner barely worked.\n",
      "reviews.rating\n",
      "7316 \t Rating: 5.0 \t Sentiment Score: -0.65 \t Difference Score: 3.01\n",
      "Found this on groupon. Checked in on July 5th. After reading some questionable reviews, we decided to give it a shot. We checked in and were given keys to room 8. I walked in and instantly lifted up the mattress. In addition to a musty, dirty smell we were not surprised to find a family of baby cockroaches under the... More\n",
      "reviews.rating\n",
      "21126 \t Rating: 5.0 \t Sentiment Score: -0.65 \t Difference Score: 3.00\n",
      "My fianc booked this motel off of Groupon. When we checked in, they had issues saying no payment was made. Fear not, the motel manager said not to worry and took care of it all, even recommending that next time to call her directly and she'll match the Groupon price. The motel may seem moderate quality, but the rooms were... More\n",
      "reviews.rating\n",
      "17005 \t Rating: 5.0 \t Sentiment Score: -0.64 \t Difference Score: 2.98\n",
      "Do not waste your time! Theres no way aNY living thing could stay here comfortably. Room was dirty smelled overwhelmingly like Raid cigarettes!! No towels, toliet paper or soap. Furniture was falling apart. The girl at the front desk was rude told me I'd be refunded for the days I had booked.. However, I was not.\n",
      "reviews.rating\n",
      "7880 \t Rating: 5.0 \t Sentiment Score: -0.62 \t Difference Score: 2.95\n",
      "This place sucks .. My last stay at any extended America .. They don't even have b'fast n it smells like last week in here.. Horrible\n",
      "reviews.rating\n",
      "7885 \t Rating: 5.0 \t Sentiment Score: -0.62 \t Difference Score: 2.95\n",
      "this place sucks .. my last stay at any extended america .. they don't even have b'fast n it smells like last week in here.. horrible\n",
      "reviews.rating\n",
      "5768 \t Rating: 5.0 \t Sentiment Score: -0.60 \t Difference Score: 2.93\n",
      "Excellent stay, but lost my backpack on the shuttle run by the hotel front desk lady and people on the shuttle van all said they saw the backpack given to the van driver when we got off the shuttle bus and when I checked back at the hotel they said they never say it and didn't have it.\n",
      "reviews.rating\n",
      "16887 \t Rating: 5.0 \t Sentiment Score: -0.59 \t Difference Score: 2.90\n",
      "Fully disappointed,  got a full size bed for two people  when I booked a queen. The air-conditioning did not work . I also booked a room that said microwave and refrigerator only to not have either. Rooms are beyond dated in my opinion\n",
      "reviews.rating\n",
      "6340 \t Rating: 5.0 \t Sentiment Score: -0.57 \t Difference Score: 2.88\n",
      "I loved it here, went with my boyfriends family. I loved the size of the room as well, the only things i didn't like was the bad smell at the bottom of the elevator. It smelled like BO. Another thing is when checking out to get an elevator takes like 30 mins to an hour and the stairs isn't an option when you're on the 12th floor. Everything else was good. I didn't like that our bed sheets had some dirty spots on them.\n"
     ]
    }
   ],
   "source": [
    "for idx, row in worst_performers_five_stars.iterrows():\n",
    "    print(i)\n",
    "    print(idx, \"\\t\", \n",
    "          \"Rating: {}\".format(row[\"reviews.rating\"]), \"\\t\",\n",
    "          \"Sentiment Score: {:,.2f}\".format(row[\"lstm_sentiment_score\"]), \"\\t\",\n",
    "          \"Difference Score: {:,.2f}\".format(row[\"lstm_score_difference\"])) \n",
    "    print(row[\"reviews.text\"].decode(\"utf-8\"))"
   ]
  },
  {
   "cell_type": "code",
   "execution_count": 994,
   "metadata": {},
   "outputs": [],
   "source": [
    "worst_performers_three_stars = (df[df[\"reviews.rating\"] == 3.0].sort_values(\"lstm_score_difference\", ascending=False).head(20))"
   ]
  },
  {
   "cell_type": "code",
   "execution_count": 995,
   "metadata": {},
   "outputs": [
    {
     "name": "stdout",
     "output_type": "stream",
     "text": [
      "reviews.rating\n",
      "20145 \t Rating: 3.0 \t Sentiment Score: 0.93 \t Difference Score: 1.58\n",
      "excellent hotel, great full bkfst (free) and evening appetizers w/ 2 drinks (also free) - close to lots of event venues & nightlife. clean rooms, great service. couldn't ask for more!\n",
      "reviews.rating\n",
      "24233 \t Rating: 3.0 \t Sentiment Score: 0.93 \t Difference Score: 1.58\n",
      "Myself and my wife just returned from a week long trip to Maui. Here is an accurate review. Pros - This resort is beautiful It is practically brand new, has a great location with amazing views. We stayed in a one bedroom studio ocean view and our room was amazing. Great kitchen, spectacular views, and a comfortable bed. Cons -... More\n",
      "reviews.rating\n",
      "1856 \t Rating: 3.0 \t Sentiment Score: 0.93 \t Difference Score: 1.58\n",
      "The guy we who worked the front desk was awesome! He gave us tips for our trip about road closures that helped us out a lot. He was super friendly and has a beautiful family. Thank you again for your help!\n",
      "reviews.rating\n",
      "16073 \t Rating: 3.0 \t Sentiment Score: 0.93 \t Difference Score: 1.58\n",
      "I would like to take this opportunity to express my gratitude and appreciation to the staff at TPS. I have been in this hotel 20 months working on a project in Albany, NY and the staff has made my stay very comfortable and have accommodate for me and my sheltie (Shelby). The staff is wonderful, and treat every client like... More\n",
      "reviews.rating\n",
      "194 \t Rating: 3.0 \t Sentiment Score: 0.92 \t Difference Score: 1.57\n",
      "We would really like to give five stars to that place, because the house is really beautiful and well renovated, the garden is wonderful, peaceful, and the vegetation is great, our host was very kind and helpful and gave us a lot of advices about where to eat and what to see, the place is well located and easy to... More\n",
      "reviews.rating\n",
      "11889 \t Rating: 3.0 \t Sentiment Score: 0.92 \t Difference Score: 1.57\n",
      "Great place....breakfast is terrific..pool, slide .Hot Tub!!!awesome!!!  We have been coming here for 10 years...:)\n",
      "reviews.rating\n",
      "6074 \t Rating: 3.0 \t Sentiment Score: 0.92 \t Difference Score: 1.56\n",
      "Clean room & great location if you are doing UW activities. Great staff too. Highly recommend staying here.\n",
      "reviews.rating\n",
      "20089 \t Rating: 3.0 \t Sentiment Score: 0.91 \t Difference Score: 1.54\n",
      "Came in for a wedding. Honestly, it was beautiful. One of my favorites I've attended. I would highly recommend. They put up a white tent strung with lights and it was surrounded with lush greenery a fountain. Beautiful. Check it out for an event. Worth the look.\n",
      "reviews.rating\n",
      "5111 \t Rating: 3.0 \t Sentiment Score: 0.91 \t Difference Score: 1.54\n",
      "Great Jacuzzi tubs Great staff, really nice customer service. I really felt like I was being taken care of. I got a a penthouse suite for a regular room rate one night. Beautiful balcony views, great jacuzzi tub. My fireplace wasnt working so they sent up a bottle of wine! Great bar downstairs-Jake's grill, they have an excellent happy hour.\n",
      "reviews.rating\n",
      "22799 \t Rating: 3.0 \t Sentiment Score: 0.91 \t Difference Score: 1.54\n",
      "housekeeping staff said some very rude ugly words when we weren't ready to check out at 8:50 am !!! check out time is supposed to be at 11 am. everything else was awesome and everyone else was also awesome !\n",
      "reviews.rating\n",
      "5376 \t Rating: 3.0 \t Sentiment Score: 0.90 \t Difference Score: 1.54\n",
      "I have been a reviewer for many years now. I try to just state facts. We stayed here last weekend. The owner is very nice and accommodating. He greeted us and even said hello and welcomed our two small dogs. Checking in was easy. The hotel walls are decorated with all sorts of interesting antique pictures. Even the rooms have... More\n",
      "reviews.rating\n",
      "10798 \t Rating: 3.0 \t Sentiment Score: 0.90 \t Difference Score: 1.54\n",
      "Wow great service and imagine my surprise when checking in and was told I got a free upgrade to a suite! GREAT way to start vacation ! Thank you BW\n",
      "reviews.rating\n",
      "14481 \t Rating: 3.0 \t Sentiment Score: 0.90 \t Difference Score: 1.54\n",
      "This place was a great, quirky little hotel. Byron the innkeeper was great. His crepes were fantastic. Nice back porch. Perfect weekend cambridge spot!\n",
      "reviews.rating\n",
      "31407 \t Rating: 3.0 \t Sentiment Score: 0.90 \t Difference Score: 1.53\n",
      "We stayed on our way home from winter in AZ. We are snowbirds. The desk staff were very helpful, the sausage gravy and biscuits were delicious (free breakfast). The bed was comfy and clean. Thank you!\n",
      "reviews.rating\n",
      "6783 \t Rating: 3.0 \t Sentiment Score: 0.90 \t Difference Score: 1.53\n",
      "We had a problem with the Hotels.com booking at check in, but the hotel staff were excellent, very accommodating and fixed the room reservation at no additional fee without hesitation. The manager was absolutely great- very welcoming and helpful. The breakfast staff was very friendly also.\n",
      "reviews.rating\n",
      "5272 \t Rating: 3.0 \t Sentiment Score: 0.90 \t Difference Score: 1.53\n",
      "Have stayed here many times and really like this place. The staff - particularly in the restaurants - is wonderful.\n",
      "reviews.rating\n",
      "12848 \t Rating: 3.0 \t Sentiment Score: 0.90 \t Difference Score: 1.53\n",
      "fantastic place to stay, the rooms are fun & the staff was beyond helpful. can't wait for my next visit.\n",
      "reviews.rating\n",
      "17801 \t Rating: 3.0 \t Sentiment Score: 0.90 \t Difference Score: 1.52\n",
      "Views great, staff helpful, and breakfast tasty. If you wanted lunch or dinner you will have to leave the hotel and parking was terrible.\n",
      "reviews.rating\n",
      "20611 \t Rating: 3.0 \t Sentiment Score: 0.90 \t Difference Score: 1.52\n",
      "remodeled rooms make you feel like you are at home. all personel are professional. ms. cherly who is the manager runs a awesome hotel. shes the best.\n",
      "reviews.rating\n",
      "11170 \t Rating: 3.0 \t Sentiment Score: 0.89 \t Difference Score: 1.52\n",
      "Right by the Cathedral, about 3 minutes walk from the HBF, very comfortable and quiet--also very close to the river and lots of lovely restaurants and shops. Really amazing location! A modest, pleasant hotel. Highly recommend it!\n"
     ]
    }
   ],
   "source": [
    "for idx, row in worst_performers_three_stars.iterrows():\n",
    "    print(i)\n",
    "    print(idx, \"\\t\", \n",
    "          \"Rating: {}\".format(row[\"reviews.rating\"]), \"\\t\",\n",
    "          \"Sentiment Score: {:,.2f}\".format(row[\"lstm_sentiment_score\"]), \"\\t\",\n",
    "          \"Difference Score: {:,.2f}\".format(row[\"lstm_score_difference\"])) \n",
    "    print(row[\"reviews.text\"].decode(\"utf-8\"))"
   ]
  },
  {
   "cell_type": "markdown",
   "metadata": {},
   "source": [
    "Looking at the reviews with the worst difference scores, we see that for the most part, the text accords with the determined sentiment value, and that the reviews seem to be simply mislabelled in the dataset.\n",
    "\n",
    "For a few reviews where this isnt the case, the problem seems to be that the scraper for the dataset truncated the review before the reviewer managed to articulate their actual feelings about the hotel. In one particularly egregious example, review 24233, the scraper seems to truncate the reviewer's review just before she enumerates the bad points of the stay that undoubtedly led her to give a 3.0 rating, leaving only the positives in the text.\n",
    "\n",
    "Reviews 34008 and 5377 are two of very few examples shown where the scorer seems to genuinely make an error, as the reviews are clearly aligned with the rating but are scored completely wrong. I can only speculate as to why the scorer seems to view these reviews as they are, but it seems like the reviews use particular word choices to make their points (eg. \"I cannot recommend this more\" for a positive review, and \"secluded area\" for a negative review), which could be interpreted strangely by the scorer.\n",
    "\n",
    "Looking at the 3.0 ratings in particular, it seems like the writers of these reviews are operating on a completely different review scale to most reviewers - review ID 20145 specifically says \"couldn't ask for more!\", yet gives a 3.0 rating (one must wonder what a hotel would need to do to deserve a 5.0).\n"
   ]
  },
  {
   "cell_type": "markdown",
   "metadata": {},
   "source": [
    "## 5. Conclusion"
   ]
  },
  {
   "cell_type": "markdown",
   "metadata": {},
   "source": [
    "Overall, of the four approaches used in this project, only one - the SentiWordNet Average sentiment scorer - seemed completely inadequate for the task of determining the sentiment of the text. This was not unexpected, as the model underpinning the approach was extremely simple, not taking into account sentence structure, negation, or any of a number of features of the text that could have helped improve the accuracy of the sentiment analysis. That is not to say that an improved version of the model *couldn't* include aspects of these - it would be possible, for example, for a pre-processor to find words accompanied by a negation and replace with its antonym - and further work on such an approach may prove fruitful.\n",
    "\n",
    "More unexpected, considering the simplicity of the underlying model, was the effectiveness of the Naive Bayes classifier approach (at least for english reviews). Despite taking orders of magnitude less time to train, the Naive Bayes classifier was only very slightly worse at determining the underlying sentiment than the far more complex LSTM model. This could be because the LSTM model is sub-optimal - maybe, further tuning the structure of the Neural Network and its various hyperparameters could result in a far superior model - but one would have to consider whether the added time and effort required in improving the LSTM model would be worth it.\n",
    "\n",
    "Of the four approaches, The Google Cloud Sentiment Scorer approach fared best as accurately determining the sentiment of the review texts, and one can be certain that it is not responding to noise in the dataset (as it was not trained on the dataset at all). However, given its cost, and that the other models were not exceptionally worse, I would be reticent in recommending it as the best method to use, except in situations where price is no object. "
   ]
  },
  {
   "cell_type": "code",
   "execution_count": null,
   "metadata": {},
   "outputs": [],
   "source": []
  }
 ],
 "metadata": {
  "kernelspec": {
   "display_name": "Python 3",
   "language": "python",
   "name": "python3"
  },
  "language_info": {
   "codemirror_mode": {
    "name": "ipython",
    "version": 3
   },
   "file_extension": ".py",
   "mimetype": "text/x-python",
   "name": "python",
   "nbconvert_exporter": "python",
   "pygments_lexer": "ipython3",
   "version": "3.7.1"
  }
 },
 "nbformat": 4,
 "nbformat_minor": 2
}
