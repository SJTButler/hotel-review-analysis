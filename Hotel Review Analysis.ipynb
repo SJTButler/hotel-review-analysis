{
 "cells": [
  {
   "cell_type": "code",
   "execution_count": 2,
   "metadata": {},
   "outputs": [
    {
     "name": "stdout",
     "output_type": "stream",
     "text": [
      "env: GOOGLE_APPLICATION_CREDENTIALS=translationKeys.json\n"
     ]
    }
   ],
   "source": [
    "from enum import Enum\n",
    "import time\n",
    "\n",
    "import numpy as np\n",
    "import pandas as pd\n",
    "\n",
    "import matplotlib.pyplot as plt\n",
    "\n",
    "from google.cloud import translate_v2 as translate\n",
    "from google.cloud.exceptions import Forbidden\n",
    "\n",
    "from tqdm.auto import tqdm\n",
    "tqdm.pandas() #allows progress bar support for pandas mapping functions\n",
    "\n",
    "%matplotlib inline\n",
    "\n",
    "%env GOOGLE_APPLICATION_CREDENTIALS translationKeys.json"
   ]
  },
  {
   "cell_type": "code",
   "execution_count": 3,
   "metadata": {},
   "outputs": [],
   "source": [
    "#The dataset provided consists of three csv files, each with slightly different schema\n",
    "DATASET_1 = \"dataset/7282_1.csv\"\n",
    "DATASET_2 = \"dataset/Datafiniti_Hotel_Reviews.csv\"\n",
    "DATASET_3 = \"dataset/Datafiniti_Hotel_Reviews_Jun19.csv\"\n",
    "\n",
    "TRAIN_PROPORTION = 0.1\n",
    "\n",
    "USE_TRANSLATOR = True\n",
    "\n",
    "TRANSLATOR_OPTIONS = Enum(\"OPTIONS\", \"TRANSLATE REMOVE THRESHOLD\")\n",
    "TRANSLATOR_FUNCTIONALITY = TRANSLATOR_OPTIONS.TRANSLATE #options are \"translate\", which translates non-english text to english, and \n",
    "                                        # \"remove\", which drops records with non-english text from the training set\n",
    "TRANSLATOR_THRESHOLD=0.05"
   ]
  },
  {
   "cell_type": "markdown",
   "metadata": {},
   "source": [
    "## 1. Exploratory Analysis and Data Cleaning"
   ]
  },
  {
   "cell_type": "code",
   "execution_count": null,
   "metadata": {},
   "outputs": [],
   "source": []
  },
  {
   "cell_type": "markdown",
   "metadata": {},
   "source": [
    "### Dataset 1"
   ]
  },
  {
   "cell_type": "code",
   "execution_count": 4,
   "metadata": {
    "scrolled": true
   },
   "outputs": [
    {
     "data": {
      "text/plain": [
       "<matplotlib.axes._subplots.AxesSubplot at 0x1e41d424748>"
      ]
     },
     "execution_count": 4,
     "metadata": {},
     "output_type": "execute_result"
    },
    {
     "data": {
      "image/png": "[encoded data removed]",
      "text/plain": [
       "<Figure size 432x288 with 1 Axes>"
      ]
     },
     "metadata": {
      "needs_background": "light"
     },
     "output_type": "display_data"
    }
   ],
   "source": [
    "df_1 = pd.read_csv(DATASET_1)\n",
    "\n",
    "#print(df)\n",
    "#df_1.head()\n",
    "\n",
    "df_1.boxplot(column=\"reviews.rating\")\n"
   ]
  },
  {
   "cell_type": "code",
   "execution_count": 5,
   "metadata": {},
   "outputs": [
    {
     "name": "stdout",
     "output_type": "stream",
     "text": [
      "5.0     12671\n",
      "4.0      9755\n",
      "3.0      5708\n",
      "1.0      3068\n",
      "2.0      2979\n",
      "0.0       337\n",
      "10.0      101\n",
      "9.6        53\n",
      "9.2        49\n",
      "4.3        26\n",
      "4.8        25\n",
      "8.3        25\n",
      "7.9        24\n",
      "7.5        24\n",
      "8.8        24\n",
      "4.2        22\n",
      "3.4        17\n",
      "4.1        14\n",
      "6.3        14\n",
      "7.1        13\n",
      "4.5        13\n",
      "6.7        12\n",
      "5.4         9\n",
      "4.6         7\n",
      "3.1         7\n",
      "5.8         6\n",
      "4.4         6\n",
      "3.3         6\n",
      "4.7         6\n",
      "4.9         6\n",
      "2.4         4\n",
      "2.5         3\n",
      "3.8         3\n",
      "3.7         2\n",
      "3.2         2\n",
      "3.9         2\n",
      "2.8         1\n",
      "1.3         1\n",
      "9.5         1\n",
      "1.5         1\n",
      "6.0         1\n",
      "2.9         1\n",
      "7.0         1\n",
      "Name: reviews.rating, dtype: int64\n"
     ]
    }
   ],
   "source": [
    "print(df_1[\"reviews.rating\"].value_counts())"
   ]
  },
  {
   "cell_type": "code",
   "execution_count": 6,
   "metadata": {},
   "outputs": [
    {
     "name": "stdout",
     "output_type": "stream",
     "text": [
      "              address categories      city country  latitude  longitude  \\\n",
      "4448  Taragaon Boudha     Hotels  Alliance      US   27.7216  85.355959   \n",
      "4449  Taragaon Boudha     Hotels  Alliance      US   27.7216  85.355959   \n",
      "4450  Taragaon Boudha     Hotels  Alliance      US   27.7216  85.355959   \n",
      "4451  Taragaon Boudha     Hotels  Alliance      US   27.7216  85.355959   \n",
      "4452  Taragaon Boudha     Hotels  Alliance      US   27.7216  85.355959   \n",
      "\n",
      "                         name postalCode province          reviews.date  \\\n",
      "4448  Hyatt Regency Kathmandu      44601       OH  2015-08-11T00:00:00Z   \n",
      "4449  Hyatt Regency Kathmandu      44601       OH  2016-01-12T00:00:00Z   \n",
      "4450  Hyatt Regency Kathmandu      44601       OH  2015-06-22T00:00:00Z   \n",
      "4451  Hyatt Regency Kathmandu      44601       OH  2016-05-17T00:00:00Z   \n",
      "4452  Hyatt Regency Kathmandu      44601       OH  2016-07-09T00:00:00Z   \n",
      "\n",
      "         reviews.dateAdded  reviews.doRecommend  reviews.id  reviews.rating  \\\n",
      "4448  2016-11-11T23:48:28Z                  NaN         NaN             9.6   \n",
      "4449  2016-11-11T23:48:28Z                  NaN         NaN            10.0   \n",
      "4450  2016-11-11T23:48:28Z                  NaN         NaN            10.0   \n",
      "4451  2016-11-11T23:48:28Z                  NaN         NaN             8.3   \n",
      "4452  2016-11-11T23:48:28Z                  NaN         NaN             8.8   \n",
      "\n",
      "                                           reviews.text  \\\n",
      "4448     The wifi signal was too low Loved The location   \n",
      "4449  None what so ever. The staff were all friendly...   \n",
      "4450  Friendly staff in a beautiful setting combined...   \n",
      "4451                                       nil location   \n",
      "4452  room cooling, wifi connection slow, certain el...   \n",
      "\n",
      "                                          reviews.title reviews.userCity  \\\n",
      "4448                                           Location              NaN   \n",
      "4449  The staff were all friendly whether at the 6th...              NaN   \n",
      "4450                Lovely place and business as usual.              NaN   \n",
      "4451                                           location              NaN   \n",
      "4452                           it was really enjoyable.              NaN   \n",
      "\n",
      "     reviews.username reviews.userProvince  \n",
      "4448           Mohsin                  NaN  \n",
      "4449           Hassan                  NaN  \n",
      "4450        Anonymous                  NaN  \n",
      "4451           Davide                  NaN  \n",
      "4452          Khurram                  NaN  \n"
     ]
    }
   ],
   "source": [
    "print(df_1[df_1[\"reviews.rating\"] > 5].head())\n"
   ]
  },
  {
   "cell_type": "code",
   "execution_count": 7,
   "metadata": {},
   "outputs": [
    {
     "name": "stdout",
     "output_type": "stream",
     "text": [
      "                                      address  \\\n",
      "57                      2113 Sapp Brothers Dr   \n",
      "58                             2860 Grand Ave   \n",
      "59  142 Park Place Us 181 Business At Park Pl   \n",
      "79                      435 E Avenida Olancha   \n",
      "97                              316 N Main St   \n",
      "\n",
      "                                          categories          city country  \\\n",
      "57                             Lodging,Hotels,Motels      Percival      US   \n",
      "58                                Hotels,Restaurants    Los Olivos      US   \n",
      "59                                            Hotels        Kenedy      US   \n",
      "79                                      Hotels,Hotel  Palm Springs      US   \n",
      "97  Motels,Hotels,Restaurants,Bed & Breakfast & Inns       Neihart      US   \n",
      "\n",
      "     latitude   longitude                     name postalCode province  \\\n",
      "57  40.689730  -95.788826  Americas Best Value Inn      51648       IA   \n",
      "58  34.664684 -120.115036               Intermezzo      93441       CA   \n",
      "59  28.793795  -97.849655                 Studio 6      78119       TX   \n",
      "79  33.802822 -116.542690    Little Paradise Hotel      92264       CA   \n",
      "97  46.933598 -110.735886  Little Belt Inn Neihart      59465       MT   \n",
      "\n",
      "            reviews.date     reviews.dateAdded  reviews.doRecommend  \\\n",
      "57                   NaN  2016-04-06T13:03:08Z                  NaN   \n",
      "58                   NaN  2016-05-06T14:12:01Z                  NaN   \n",
      "59                   NaN  2016-05-07T01:34:14Z                  NaN   \n",
      "79  2016-07-12T00:00:00Z  2015-10-21T17:46:10Z                  NaN   \n",
      "97                   NaN  2016-06-16T21:25:59Z                  NaN   \n",
      "\n",
      "    reviews.id  reviews.rating  \\\n",
      "57         NaN             0.0   \n",
      "58         NaN             0.0   \n",
      "59         NaN             0.0   \n",
      "79         NaN             0.0   \n",
      "97         NaN             0.0   \n",
      "\n",
      "                                         reviews.text         reviews.title  \\\n",
      "57  to share your opinion of this businesswith YP ...                   NaN   \n",
      "58  to share your opinion of this businesswith YP ...                   NaN   \n",
      "59  to share your opinion of this businesswith YP ...                   NaN   \n",
      "79  to share your opinion of this businesswith YP ...  Lovely oasis of rest   \n",
      "97  to share your opinion of this businesswith YP ...                   NaN   \n",
      "\n",
      "   reviews.userCity reviews.username reviews.userProvince  \n",
      "57              NaN   write a review                  NaN  \n",
      "58              NaN   write a review                  NaN  \n",
      "59              NaN   write a review                  NaN  \n",
      "79         Brussels   write a review                   CA  \n",
      "97              NaN   write a review                  NaN  \n"
     ]
    }
   ],
   "source": [
    "print(df_1[df_1[\"reviews.rating\"] == 0].head())"
   ]
  },
  {
   "cell_type": "markdown",
   "metadata": {},
   "source": [
    "From the unique values in DATASET_1, it seems that, while most of the reviews are rated on an integer scale between 1 and 5, at least some of the reviews are rated from 1.0-10.0. These reviews should be removed or re-scaled (I have chosen to remove them, as there are comparatively very few of them and there may be differences between what a user means by choosing two equivalent ratings on the two scales - ie. a 8/10 rating may have different connotations on average to a 4/5 rating.)\n",
    "\n",
    "Note: It is impossible to tell which of the remaining reviews are actually rated out of 10 rather than 5 - however, assuming the distribution of ratings out of 10 is similar to the distribution for ratings out of 5, there should be very few of these and their effect on any statistical analysis should be minor.\n",
    "\n",
    "Additionally, a quick glance at the 0 ratings suggests that these are not real reviews, but some artifact of the scraping process, and so should be removed as well."
   ]
  },
  {
   "cell_type": "code",
   "execution_count": 8,
   "metadata": {},
   "outputs": [
    {
     "name": "stdout",
     "output_type": "stream",
     "text": [
      "5.0    12671\n",
      "4.0     9755\n",
      "3.0     5708\n",
      "1.0     3068\n",
      "2.0     2979\n",
      "Name: reviews.rating, dtype: int64\n"
     ]
    }
   ],
   "source": [
    "df_1 = df_1[df_1[\"reviews.rating\"].isin([1.0,2.0,3.0,4.0,5.0])]\n",
    "\n",
    "print(df_1[\"reviews.rating\"].value_counts())"
   ]
  },
  {
   "cell_type": "code",
   "execution_count": 19,
   "metadata": {},
   "outputs": [
    {
     "name": "stdout",
     "output_type": "stream",
     "text": [
      "count    34159.000000\n",
      "mean       255.501420\n",
      "std        217.420684\n",
      "min          1.000000\n",
      "25%        103.000000\n",
      "50%        226.000000\n",
      "75%        330.000000\n",
      "max       3772.000000\n",
      "Name: reviews.length, dtype: float64\n"
     ]
    },
    {
     "data": {
      "text/plain": [
       "<matplotlib.axes._subplots.AxesSubplot at 0x1e41f323978>"
      ]
     },
     "execution_count": 19,
     "metadata": {},
     "output_type": "execute_result"
    },
    {
     "data": {
      "image/png": "[encoded data removed]",
      "text/plain": [
       "<Figure size 432x288 with 1 Axes>"
      ]
     },
     "metadata": {
      "needs_background": "light"
     },
     "output_type": "display_data"
    }
   ],
   "source": [
    "df_1[\"reviews.length\"] = df_1[\"reviews.text\"].str.len()\n",
    "\n",
    "print(df_1[\"reviews.length\"].describe())\n",
    "\n",
    "df_1.boxplot(column=\"reviews.length\")\n"
   ]
  },
  {
   "cell_type": "code",
   "execution_count": 16,
   "metadata": {},
   "outputs": [
    {
     "data": {
      "text/plain": [
       "<matplotlib.axes._subplots.AxesSubplot at 0x1e41e84a6a0>"
      ]
     },
     "execution_count": 16,
     "metadata": {},
     "output_type": "execute_result"
    },
    {
     "data": {
      "image/png": "[encoded data removed]",
      "text/plain": [
       "<Figure size 432x288 with 1 Axes>"
      ]
     },
     "metadata": {
      "needs_background": "light"
     },
     "output_type": "display_data"
    }
   ],
   "source": [
    "df_1[\"reviews.length\"].hist(bins=100)"
   ]
  },
  {
   "cell_type": "code",
   "execution_count": 22,
   "metadata": {},
   "outputs": [
    {
     "data": {
      "text/plain": [
       "<matplotlib.axes._subplots.AxesSubplot at 0x1e41f3542e8>"
      ]
     },
     "execution_count": 22,
     "metadata": {},
     "output_type": "execute_result"
    },
    {
     "data": {
      "image/png": "[encoded data removed]",
      "text/plain": [
       "<Figure size 432x288 with 1 Axes>"
      ]
     },
     "metadata": {
      "needs_background": "light"
     },
     "output_type": "display_data"
    }
   ],
   "source": [
    "df_1.boxplot(column=\"reviews.length\", by=\"reviews.rating\")"
   ]
  },
  {
   "cell_type": "markdown",
   "metadata": {},
   "source": [
    "Beacuse there is a large drop off at around 450 characters, I have decided to remove all reviews longer than that, as their outlier status may negatively affect their usefulness in creating accurate sentiment analysis methodologies\n",
    "\n",
    "To remove reviews that are too small to be of use in determining sentiment, I have decided to use the 25th percentile length value (~100) as the minimum cutoff point."
   ]
  },
  {
   "cell_type": "code",
   "execution_count": 28,
   "metadata": {},
   "outputs": [
    {
     "name": "stdout",
     "output_type": "stream",
     "text": [
      "22398\n",
      "Number of records in pruned dataset: {} 22398\n",
      "Percentage of records kept: %{} 100.0\n"
     ]
    }
   ],
   "source": [
    "orig_size = df_1[\"reviews.text\"].count()\n",
    "\n",
    "df_1 = df_1[df_1[\"reviews.length\"].between(100, 450)]\n",
    "\n",
    "\n",
    "new_size = df_1[\"reviews.text\"].count()\n",
    "\n",
    "print(\"Number of records in pruned dataset: {}\", new_size)\n",
    "print(\"Percentage of records kept: %{}\", (new_size/orig_size * 100))\n"
   ]
  },
  {
   "cell_type": "markdown",
   "metadata": {},
   "source": [
    "### Dataset 2"
   ]
  },
  {
   "cell_type": "code",
   "execution_count": null,
   "metadata": {},
   "outputs": [],
   "source": [
    "df_2 = pd.read_csv(DATASET_2)\n",
    "df_2.head()\n",
    "\n",
    "df_2.boxplot(column=\"reviews.rating\")"
   ]
  },
  {
   "cell_type": "code",
   "execution_count": null,
   "metadata": {},
   "outputs": [],
   "source": [
    "print(df_2[\"reviews.rating\"].value_counts())"
   ]
  },
  {
   "cell_type": "markdown",
   "metadata": {},
   "source": [
    "For DATASET_2, all reviews are rated on the 1-5 scale, but a small minority are non-integer ratings. Here, it makes sense to round these ratings to the nearest integer"
   ]
  },
  {
   "cell_type": "code",
   "execution_count": null,
   "metadata": {},
   "outputs": [],
   "source": [
    "df_2[\"reviews.rating\"] = df_2[\"reviews.rating\"].round()\n",
    "\n",
    "print(df_2[\"reviews.rating\"].value_counts())"
   ]
  },
  {
   "cell_type": "markdown",
   "metadata": {},
   "source": [
    "### Dataset 3"
   ]
  },
  {
   "cell_type": "code",
   "execution_count": null,
   "metadata": {},
   "outputs": [],
   "source": [
    "df_3 = pd.read_csv(DATASET_3)\n",
    "df_3.head()\n",
    "\n",
    "df_3.boxplot(column=\"reviews.rating\")\n",
    "print(df_3[\"reviews.rating\"].value_counts())"
   ]
  },
  {
   "cell_type": "markdown",
   "metadata": {},
   "source": [
    "### Combining the Three Datasets"
   ]
  },
  {
   "cell_type": "code",
   "execution_count": null,
   "metadata": {},
   "outputs": [],
   "source": [
    "#Find the columns that are present in each of the three datasets, and make sure that there aren't any important columns\n",
    "# (review text, title, rating, etc.) that are functionally identical, but named differently\n",
    "columns_intersection = set.intersection(set(df_1.columns.values),set(df_2.columns.values), set(df_3.columns.values))\n",
    "print(columns_intersection)"
   ]
  },
  {
   "cell_type": "code",
   "execution_count": null,
   "metadata": {},
   "outputs": [],
   "source": [
    "#now concatenate the chosen data sources on the schema intersection\n",
    "\n",
    "df = pd.concat(DATASETS_USED, join=\"inner\")\n",
    "\n",
    "print(df.head())"
   ]
  },
  {
   "cell_type": "code",
   "execution_count": null,
   "metadata": {},
   "outputs": [],
   "source": [
    "df.count()"
   ]
  },
  {
   "cell_type": "code",
   "execution_count": null,
   "metadata": {},
   "outputs": [],
   "source": [
    "df[df[\"reviews.text\"].isnull()]\n"
   ]
  },
  {
   "cell_type": "code",
   "execution_count": null,
   "metadata": {},
   "outputs": [],
   "source": [
    "def clean_df(frame):\n",
    "    \n",
    "    #remove unnecessary columns, leaving only reviews.text and reviews.rating\n",
    "    frame = frame[[\"reviews.rating\", \"reviews.text\"]]\n",
    "    \n",
    "    #and keep only ratings that have a review attached\n",
    "    frame = frame[~frame[\"reviews.text\"].isnull()]\n",
    "    \n",
    "    frame = frame.reset_index(drop=True)\n",
    "    \n",
    "    return frame\n",
    "\n",
    "df = clean_df(df)\n",
    "\n",
    "print(df.head())"
   ]
  },
  {
   "cell_type": "code",
   "execution_count": null,
   "metadata": {},
   "outputs": [],
   "source": []
  },
  {
   "cell_type": "markdown",
   "metadata": {},
   "source": [
    "## 2. Translation of non-English reviews "
   ]
  },
  {
   "cell_type": "code",
   "execution_count": null,
   "metadata": {},
   "outputs": [],
   "source": [
    "# Uncomment if you don't want to re-detect language\n",
    "#df = pd.read_csv(\"reviewratings_withlanguagedetection.csv\") #sets the df to a state where the languages have already been detected for each review\n"
   ]
  },
  {
   "cell_type": "code",
   "execution_count": null,
   "metadata": {},
   "outputs": [],
   "source": [
    "client = translate.Client()\n",
    "\n",
    "#uses the google cloud translate API to detect the text language, returning the language and the confidence\n",
    "def detect_language(text):\n",
    "\n",
    "    #get the translation from the API (allowing for a few seconds to breathe when at the rate limit)\n",
    "    while(True):\n",
    "        try:\n",
    "            detection = client.detect_language(text)\n",
    "        except Forbidden as e:\n",
    "            #print(e.message)\n",
    "            \n",
    "            #if we're hitting the rate limit, wait a second and try again\n",
    "            if e.message == \"POST https://translation.googleapis.com/language/translate/v2/detect: User Rate Limit Exceeded\":\n",
    "                time.sleep(1)\n",
    "                continue\n",
    "            else: raise #otherwise, throw the error as usual\n",
    "        break\n",
    "        \n",
    "    language = detection[\"language\"]\n",
    "    \n",
    "    #because the API says that the confidence value is not always available, give a confidence value of 1 \n",
    "    # (full confidence) if the confidence is not given to us\n",
    "    \n",
    "    confidence = detection[\"confidence\"] if \"confidence\" in detection else 1\n",
    "    \n",
    "    return language, confidence\n",
    "\n",
    "\n",
    "def detect_langage_batch(batch):\n",
    "    \n",
    "    \n",
    "#uses the google cloud translate API to\n",
    "print(detect_language(\"aaaaaaa\"))\n",
    "\n",
    "def translate_text(text, source_lang=\"en\", target_lang=\"en\"):\n",
    "    \n",
    "    translation = client.translate(text, source_language=source_lang, target_language=target_lang)\n",
    "    \n",
    "    return translation[\"translatedText\"]\n",
    "    \n",
    "print(translate_text(\"aaaaaaa\", source_lang=\"vi\"))\n"
   ]
  },
  {
   "cell_type": "code",
   "execution_count": null,
   "metadata": {},
   "outputs": [],
   "source": [
    "def translate_dataframe(frame, redetect_languages=False, translator_functionality=TRANSLATOR_FUNCTIONALITY):\n",
    "    \n",
    "    #if selected, skip translating by just copying the untranslated text to the translated text column\n",
    "    if USE_TRANSLATOR == False:\n",
    "        frame[\"translated_text\"] = frame[\"reviews.text\"]\n",
    "        return frame\n",
    "    \n",
    "    #skip if we already have detected languages and are not explicitly re-collecting them\n",
    "    if (\"detected_language\" not in frame.columns) or (redetect_languages==True): \n",
    "        frame[\"detected_language\"] = frame[\"reviews.text\"].progress_map(detect_language)\n",
    "        \n",
    "        #save the detected languages so further testing and work doesn't require going through the process of\n",
    "        #requesting language detection again\n",
    "        df.to_csv(\"reviewratings_withlanguagedetection.csv\")\n",
    "    \n",
    "    \n",
    "    #now take all the reviews not in the source language and deal with them according to the functionality option set\n",
    "    \n",
    "    if translator_functionality == TRANSLATOR_OPTIONS.TRANSLATE:\n",
    "        \n",
    "        frame[\"translated_text\"] = [row[\"reviews.text\"] if row[\"detected_language\"][0] == \"en\" \n",
    "                                    else translate_text(row[\"reviews.text\"], source_lang=row[\"detected_language\"][0])\n",
    "                                    for row in frame]\n",
    "        \n",
    "        \n",
    "    elif translator_functionality == TRANSLATOR_OPTIONS.REMOVE:\n",
    "        \n",
    "        frame = frame[frame[\"detected_language\"][0] != \"en\"]\n",
    "        frame = frame.reset_index(drop=True)\n",
    "        frame[\"translated_text\"] = frame[\"reviews.text\"]\n",
    "        \n",
    "    elif translator_functionality == TRANSLATOR_OPTIONS.THRESHOLD:\n",
    "        \n",
    "        frame = frame[frame[\"detected_language\"][0] != \"en\" and frame[\"detected_language\"][1] > TRANSLATOR_THRESHOLD]\n",
    "        frame = frame.reset_index(drop=True)\n",
    "        frame[\"translated_text\"] = [row[\"reviews.text\"] if row[\"detected_language\"][0] == \"en\" \n",
    "                                    else translate_text(row[\"reviews.text\"], source_lang=row[\"detected_language\"][0])\n",
    "                                    for row in frame]\n",
    "        pass\n",
    "    \n",
    "    \n",
    "    return frame\n",
    "\n",
    "#test_df = df.head().copy()\n",
    "#df_detected = translate_dataframe(test_df)\n",
    "#print(df_detected[\"detected_language\"].head())\n",
    "\n",
    "\n",
    "\n",
    "df = translate_dataframe(df)"
   ]
  },
  {
   "cell_type": "code",
   "execution_count": null,
   "metadata": {},
   "outputs": [],
   "source": [
    "\n",
    "\n"
   ]
  },
  {
   "cell_type": "markdown",
   "metadata": {},
   "source": [
    "## 3. Sentiment Analysis\n",
    "\n",
    "### Approach 1: Google Natural Language API"
   ]
  },
  {
   "cell_type": "code",
   "execution_count": null,
   "metadata": {},
   "outputs": [],
   "source": []
  },
  {
   "cell_type": "markdown",
   "metadata": {},
   "source": [
    "### Approach 2: Word-Level Sentiment Classifier (Naive Bayes)"
   ]
  },
  {
   "cell_type": "code",
   "execution_count": null,
   "metadata": {},
   "outputs": [],
   "source": []
  },
  {
   "cell_type": "markdown",
   "metadata": {},
   "source": [
    "### Approach 3: Review Level Sentiment Classifier (LSTM Neural Network)"
   ]
  },
  {
   "cell_type": "code",
   "execution_count": null,
   "metadata": {},
   "outputs": [],
   "source": []
  }
 ],
 "metadata": {
  "kernelspec": {
   "display_name": "Python 3",
   "language": "python",
   "name": "python3"
  },
  "language_info": {
   "codemirror_mode": {
    "name": "ipython",
    "version": 3
   },
   "file_extension": ".py",
   "mimetype": "text/x-python",
   "name": "python",
   "nbconvert_exporter": "python",
   "pygments_lexer": "ipython3",
   "version": "3.7.1"
  }
 },
 "nbformat": 4,
 "nbformat_minor": 2
}
