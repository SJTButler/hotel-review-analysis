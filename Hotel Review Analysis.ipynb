{
 "cells": [
  {
   "cell_type": "markdown",
   "metadata": {},
   "source": [
    "# Hotel Review Sentiment Analysis"
   ]
  },
  {
   "cell_type": "markdown",
   "metadata": {},
   "source": [
    "- [1. Imports and Constants](#1.-Imports-and-Constants)\n",
    "- [2. Exploratory Analysis and Data Cleaning](#2.-Exploratory-Analysis-and-Data-Cleaning)\n",
    "    - [2.1 Dataset 1](#2.1-Dataset-1)\n",
    "    - [2.2 Dataset 2](#2.2-Dataset-2)\n",
    "    - [2.3 Dataset 3](#2.3-Dataset-3)\n",
    "    - [2.4 Combining the Three Datasets](#2.4-Combining-the-Three-Datasets)\n",
    "- [3. Translation of non-English Reviews](#3.-Translation-of-non-English-reviews)\n",
    "- [4. Sentiment Analysis](#4.-Sentiment-Analysis)\n",
    "    - [4.1 Pros and Cons of Various Approaches](#4.1-Pros-and-Cons-of-Various-Approaches)\n",
    "    - [4.2 Approach 1: Google Natural Language API](#4.2-Approach-1:-Google-Natural-Language-API)\n",
    "        - [4.2.1 Getting Google Sentiment Scores](#4.2.1-Getting-Google-Sentiment-Scores)\n",
    "        - [4.2.2 Scoring Each Review in the Dataset](#4.2.2-Scoring-Each-Review-in-the-Dataset)\n",
    "        - [4.1.3 Evaluating Resultant Sentiment Scores](#4.2.2-Evaluating-Resultant-Sentiment-Scores)\n",
    "    - [4.3 Approach 2: SentiWordNet Average Sentiment Scores](#4.3-Approach-2:-SentiWordNet-Average-Sentiment-Scores)\n",
    "        - [4.3.1 Defining the Scoring Function](#4.3.1-Defining-the-Scoring-Function)\n",
    "        - [4.3.2 Scoring Each Review in the Dataset](#4.3.2-Scoring-Each-Review-in-the-Dataset)\n",
    "        - [4.3.3 Evaluating Resultant Sentiment Scores](#4.3.3-Evaluating-Resultant-Sentiment-Scores)\n",
    "    - [4.4 Approach 3: Naive Bayes Classifier Sentiment Scores](#4.4-Approach-3:-Naive-Bayes-Classifier-Sentiment-Scores)\n",
    "        - [4.4.1 Text Preprocessing](#4.4.1-Text-Preprocessing)\n",
    "        - [4.4.2 Train-Test Split](#4.4.2-Train-Test-Split)\n",
    "        - [4.4.3 Fitting and Evaluating the Model](#4.4.3-Fitting-and-Evaluating-the-Model)\n",
    "        - [4.4.4 Scoring Each Review in the Dataset](#4.4.4-Scoring-Each-Text-in-the-Dataset)\n",
    "        - [4.4.5 Evaluating Resultant Sentiment Scores](#4.4.5-Evaluating-Resultant-Sentiment-Scores)\n",
    "    - [4.5 Approach 4: LSTM Neural Network Classifier Sentiment Scores](#4.5-Approach-4:-LSTM-Neural-Network-Classifier-Sentiment-Scores)\n",
    "        - [4.5.1 Text Preprocessing](#4.5.1-Text-Preprocessing)\n",
    "        - [4.5.2 Train-Test Split](#4.5.2-Train-Test-Split)\n",
    "        - [4.5.3 Fitting and Evaluating the Model](#4.5.3-Fitting-and-Evaluating-the-Model)\n",
    "        - [4.5.4 Scoring Each Review in the Dataset](#4.5.4-Scoring-each-Review-in-the-Dataset)\n",
    "        - [4.5.5 Evaluating Resultant Sentiment Scores](#4.5.5-Evaluating-Resultant-Sentiment-Scores)"
   ]
  },
  {
   "cell_type": "markdown",
   "metadata": {},
   "source": [
    "## 1. Imports and Constants"
   ]
  },
  {
   "cell_type": "code",
   "execution_count": 711,
   "metadata": {},
   "outputs": [
    {
     "name": "stdout",
     "output_type": "stream",
     "text": [
      "env: GOOGLE_APPLICATION_CREDENTIALS=translationKeys.json\n"
     ]
    }
   ],
   "source": [
    "from enum import Enum\n",
    "from string import printable\n",
    "import time\n",
    "import math\n",
    "\n",
    "import numpy as np\n",
    "import pandas as pd\n",
    "\n",
    "import matplotlib.pyplot as plt\n",
    "\n",
    "#Google cloud API imports\n",
    "from google.cloud import translate_v2 as translate\n",
    "from google.cloud.exceptions import Forbidden\n",
    "from google.cloud.exceptions import BadRequest\n",
    "\n",
    "from google.cloud import language\n",
    "from google.cloud.language import enums as gc_enums\n",
    "from google.cloud.language import types as gc_types\n",
    "\n",
    "import nltk\n",
    "from nltk.corpus import sentiwordnet as swn\n",
    "from nltk.corpus import wordnet as wn\n",
    "from nltk.stem import WordNetLemmatizer\n",
    "from nltk.stem import PorterStemmer\n",
    "from nltk.corpus import stopwords\n",
    "\n",
    "from unidecode import unidecode\n",
    "import string\n",
    "\n",
    "from sklearn.feature_extraction.text import CountVectorizer\n",
    "from sklearn.naive_bayes import MultinomialNB, GaussianNB\n",
    "from sklearn.preprocessing import LabelEncoder\n",
    "from sklearn.metrics import confusion_matrix\n",
    "from sklearn.metrics import accuracy_score\n",
    "\n",
    "from keras.preprocessing.text import Tokenizer\n",
    "import keras.preprocessing.sequence\n",
    "\n",
    "import tensorflow as tf\n",
    "\n",
    "from keras import Sequential\n",
    "from keras.layers import Embedding, LSTM, Dense, Dropout\n",
    "\n",
    "from sklearn.model_selection import train_test_split\n",
    "\n",
    "from tqdm.auto import tqdm\n",
    "tqdm.pandas() #allows progress bar support for pandas mapping functions\n",
    "from keras_tqdm import TQDMNotebookCallback #tqdm progress bars for keras \n",
    "\n",
    "pd.options.mode.chained_assignment = None  # default='warn'\n",
    "\n",
    "%matplotlib inline\n",
    "%env GOOGLE_APPLICATION_CREDENTIALS translationKeys.json"
   ]
  },
  {
   "cell_type": "code",
   "execution_count": 342,
   "metadata": {},
   "outputs": [],
   "source": [
    "#The dataset provided consists of three csv files, each with slightly different schema\n",
    "DATASET_1 = \"dataset/7282_1.csv\"\n",
    "DATASET_2 = \"dataset/Datafiniti_Hotel_Reviews.csv\"\n",
    "DATASET_3 = \"dataset/Datafiniti_Hotel_Reviews_Jun19.csv\"\n",
    "\n",
    "TEST_PROPORTION = 0.25\n",
    "\n",
    "USE_TRANSLATOR = True\n",
    "\n",
    "TRANSLATOR_OPTIONS = Enum(\"OPTIONS\", \"TRANSLATE REMOVE THRESHOLD\")\n",
    "TRANSLATOR_FUNCTIONALITY = TRANSLATOR_OPTIONS.TRANSLATE #options are \"translate\", which translates non-english text to english, and \n",
    "                                        # \"remove\", which drops records with non-english text from the training set\n",
    "TRANSLATOR_THRESHOLD=0.05"
   ]
  },
  {
   "cell_type": "markdown",
   "metadata": {},
   "source": [
    "## 2. Exploratory Analysis and Data Cleaning"
   ]
  },
  {
   "cell_type": "code",
   "execution_count": 69,
   "metadata": {},
   "outputs": [],
   "source": [
    "#first run at cleaning the dataset - more specific data cleaning will be done as I learn more about the\n",
    "# dataset structure\n",
    "def clean_df(frame):\n",
    "    \n",
    "    #because I was having trouble with non-latin characters in strings (Japanese charsets, etc.) this project\n",
    "    # encodes all strings as utf-8 codepoints and decodes to strings as necessary. This feels sub-optimal, but\n",
    "    # as it works, I will keep it like this at this stage\n",
    "    frame[\"reviews.text\"] = frame[\"reviews.text\"].str.encode(\"utf-8\")\n",
    "\n",
    "    if (\"translated_text\" in frame.columns):\n",
    "        frame[\"translated_text\"] = frame[\"translated_text\"].str.encode(\"utf-8\")\n",
    "    \n",
    "    #keep only ratings that have a review attached (that is, not Na or empty or only whitespace)\n",
    "    frame = frame[~frame[\"reviews.text\"].isnull()] \n",
    "    frame = frame[frame[\"reviews.text\"] != \"\"]\n",
    "    frame = frame[~frame[\"reviews.text\"].str.isspace()]\n",
    "    \n",
    "    frame = frame.reset_index(drop=True)\n",
    "    \n",
    "    return frame\n",
    "\n",
    "def load_dataset(filename):\n",
    "    frame = pd.read_csv(filename)\n",
    "    frame = clean_df(frame)\n",
    "    return frame\n",
    "\n",
    "def save_dataset(frame, filename):\n",
    "    \n",
    "    frame = frame.copy()\n",
    "    \n",
    "    frame[\"reviews.text\"] = frame[\"reviews.text\"].map(lambda x: x.decode(\"utf-8\"))\n",
    "    \n",
    "    if (\"translated_text\" in frame.columns):\n",
    "        frame[\"translated_text\"] = frame[\"translated_text\"].map(lambda x: x.decode(\"utf-8\"))\n",
    "        \n",
    "    frame.to_csv(filename, encoding=\"utf-8\")\n",
    "    "
   ]
  },
  {
   "cell_type": "markdown",
   "metadata": {},
   "source": [
    "### 2.1 Dataset 1"
   ]
  },
  {
   "cell_type": "code",
   "execution_count": 4,
   "metadata": {
    "scrolled": true
   },
   "outputs": [
    {
     "data": {
      "text/plain": [
       "<matplotlib.axes._subplots.AxesSubplot at 0x200e2f36470>"
      ]
     },
     "execution_count": 4,
     "metadata": {},
     "output_type": "execute_result"
    },
    {
     "data": {
      "image/png": "[encoded data removed]",
      "text/plain": [
       "<Figure size 432x288 with 1 Axes>"
      ]
     },
     "metadata": {
      "needs_background": "light"
     },
     "output_type": "display_data"
    }
   ],
   "source": [
    "df_1 = load_dataset(DATASET_1)\n",
    "#print(df)\n",
    "#df_1.head()\n",
    "\n",
    "df_1.boxplot(column=\"reviews.rating\")\n"
   ]
  },
  {
   "cell_type": "code",
   "execution_count": 5,
   "metadata": {},
   "outputs": [
    {
     "name": "stdout",
     "output_type": "stream",
     "text": [
      "5.0     12664\n",
      "4.0      9747\n",
      "3.0      5705\n",
      "1.0      3065\n",
      "2.0      2978\n",
      "0.0       337\n",
      "10.0      101\n",
      "9.6        53\n",
      "9.2        49\n",
      "4.3        26\n",
      "4.8        25\n",
      "8.3        25\n",
      "7.9        24\n",
      "7.5        24\n",
      "8.8        24\n",
      "4.2        22\n",
      "3.4        17\n",
      "4.1        14\n",
      "6.3        14\n",
      "7.1        13\n",
      "4.5        13\n",
      "6.7        12\n",
      "5.4         9\n",
      "4.6         7\n",
      "3.1         7\n",
      "5.8         6\n",
      "4.4         6\n",
      "3.3         6\n",
      "4.7         6\n",
      "4.9         6\n",
      "2.4         4\n",
      "2.5         3\n",
      "3.8         3\n",
      "3.7         2\n",
      "3.2         2\n",
      "3.9         2\n",
      "2.8         1\n",
      "1.3         1\n",
      "9.5         1\n",
      "1.5         1\n",
      "6.0         1\n",
      "2.9         1\n",
      "7.0         1\n",
      "Name: reviews.rating, dtype: int64\n"
     ]
    }
   ],
   "source": [
    "print(df_1[\"reviews.rating\"].value_counts())"
   ]
  },
  {
   "cell_type": "code",
   "execution_count": 6,
   "metadata": {},
   "outputs": [
    {
     "name": "stdout",
     "output_type": "stream",
     "text": [
      "              address categories      city country  latitude  longitude  \\\n",
      "4448  Taragaon Boudha     Hotels  Alliance      US   27.7216  85.355959   \n",
      "4449  Taragaon Boudha     Hotels  Alliance      US   27.7216  85.355959   \n",
      "4450  Taragaon Boudha     Hotels  Alliance      US   27.7216  85.355959   \n",
      "4451  Taragaon Boudha     Hotels  Alliance      US   27.7216  85.355959   \n",
      "4452  Taragaon Boudha     Hotels  Alliance      US   27.7216  85.355959   \n",
      "\n",
      "                         name postalCode province          reviews.date  \\\n",
      "4448  Hyatt Regency Kathmandu      44601       OH  2015-08-11T00:00:00Z   \n",
      "4449  Hyatt Regency Kathmandu      44601       OH  2016-01-12T00:00:00Z   \n",
      "4450  Hyatt Regency Kathmandu      44601       OH  2015-06-22T00:00:00Z   \n",
      "4451  Hyatt Regency Kathmandu      44601       OH  2016-05-17T00:00:00Z   \n",
      "4452  Hyatt Regency Kathmandu      44601       OH  2016-07-09T00:00:00Z   \n",
      "\n",
      "         reviews.dateAdded  reviews.doRecommend  reviews.id  reviews.rating  \\\n",
      "4448  2016-11-11T23:48:28Z                  NaN         NaN             9.6   \n",
      "4449  2016-11-11T23:48:28Z                  NaN         NaN            10.0   \n",
      "4450  2016-11-11T23:48:28Z                  NaN         NaN            10.0   \n",
      "4451  2016-11-11T23:48:28Z                  NaN         NaN             8.3   \n",
      "4452  2016-11-11T23:48:28Z                  NaN         NaN             8.8   \n",
      "\n",
      "                                           reviews.text  \\\n",
      "4448  b'The wifi signal was too low Loved The location'   \n",
      "4449  b'None what so ever. The staff were all friend...   \n",
      "4450  b'Friendly staff in a beautiful setting combin...   \n",
      "4451                                    b'nil location'   \n",
      "4452  b'room cooling, wifi connection slow, certain ...   \n",
      "\n",
      "                                          reviews.title reviews.userCity  \\\n",
      "4448                                           Location              NaN   \n",
      "4449  The staff were all friendly whether at the 6th...              NaN   \n",
      "4450                Lovely place and business as usual.              NaN   \n",
      "4451                                           location              NaN   \n",
      "4452                           it was really enjoyable.              NaN   \n",
      "\n",
      "     reviews.username reviews.userProvince  \n",
      "4448           Mohsin                  NaN  \n",
      "4449           Hassan                  NaN  \n",
      "4450        Anonymous                  NaN  \n",
      "4451           Davide                  NaN  \n",
      "4452          Khurram                  NaN  \n"
     ]
    }
   ],
   "source": [
    "print(df_1[df_1[\"reviews.rating\"] > 5].head())\n"
   ]
  },
  {
   "cell_type": "code",
   "execution_count": 7,
   "metadata": {},
   "outputs": [
    {
     "name": "stdout",
     "output_type": "stream",
     "text": [
      "                                      address  \\\n",
      "57                      2113 Sapp Brothers Dr   \n",
      "58                             2860 Grand Ave   \n",
      "59  142 Park Place Us 181 Business At Park Pl   \n",
      "79                      435 E Avenida Olancha   \n",
      "97                              316 N Main St   \n",
      "\n",
      "                                          categories          city country  \\\n",
      "57                             Lodging,Hotels,Motels      Percival      US   \n",
      "58                                Hotels,Restaurants    Los Olivos      US   \n",
      "59                                            Hotels        Kenedy      US   \n",
      "79                                      Hotels,Hotel  Palm Springs      US   \n",
      "97  Motels,Hotels,Restaurants,Bed & Breakfast & Inns       Neihart      US   \n",
      "\n",
      "     latitude   longitude                     name postalCode province  \\\n",
      "57  40.689730  -95.788826  Americas Best Value Inn      51648       IA   \n",
      "58  34.664684 -120.115036               Intermezzo      93441       CA   \n",
      "59  28.793795  -97.849655                 Studio 6      78119       TX   \n",
      "79  33.802822 -116.542690    Little Paradise Hotel      92264       CA   \n",
      "97  46.933598 -110.735886  Little Belt Inn Neihart      59465       MT   \n",
      "\n",
      "            reviews.date     reviews.dateAdded  reviews.doRecommend  \\\n",
      "57                   NaN  2016-04-06T13:03:08Z                  NaN   \n",
      "58                   NaN  2016-05-06T14:12:01Z                  NaN   \n",
      "59                   NaN  2016-05-07T01:34:14Z                  NaN   \n",
      "79  2016-07-12T00:00:00Z  2015-10-21T17:46:10Z                  NaN   \n",
      "97                   NaN  2016-06-16T21:25:59Z                  NaN   \n",
      "\n",
      "    reviews.id  reviews.rating  \\\n",
      "57         NaN             0.0   \n",
      "58         NaN             0.0   \n",
      "59         NaN             0.0   \n",
      "79         NaN             0.0   \n",
      "97         NaN             0.0   \n",
      "\n",
      "                                         reviews.text         reviews.title  \\\n",
      "57  b'to share your opinion of this businesswith Y...                   NaN   \n",
      "58  b'to share your opinion of this businesswith Y...                   NaN   \n",
      "59  b'to share your opinion of this businesswith Y...                   NaN   \n",
      "79  b'to share your opinion of this businesswith Y...  Lovely oasis of rest   \n",
      "97  b'to share your opinion of this businesswith Y...                   NaN   \n",
      "\n",
      "   reviews.userCity reviews.username reviews.userProvince  \n",
      "57              NaN   write a review                  NaN  \n",
      "58              NaN   write a review                  NaN  \n",
      "59              NaN   write a review                  NaN  \n",
      "79         Brussels   write a review                   CA  \n",
      "97              NaN   write a review                  NaN  \n"
     ]
    }
   ],
   "source": [
    "print(df_1[df_1[\"reviews.rating\"] == 0].head())"
   ]
  },
  {
   "cell_type": "markdown",
   "metadata": {},
   "source": [
    "From the unique values in DATASET_1, it seems that, while most of the reviews are rated on an integer scale between 1 and 5, at least some of the reviews are rated from 1.0-10.0. These reviews should be removed or re-scaled (I have chosen to remove them, as there are comparatively very few of them and there may be differences between what a user means by choosing two equivalent ratings on the two scales - ie. a 8/10 rating may have different connotations on average to a 4/5 rating.)\n",
    "\n",
    "Note: It is impossible to tell which of the remaining reviews are actually rated out of 10 rather than 5 - however, assuming the distribution of ratings out of 10 is similar to the distribution for ratings out of 5, there should be very few of these and their effect on any statistical analysis should be minor.\n",
    "\n",
    "Additionally, a quick glance at the 0 ratings suggests that these are not real reviews, but some artifact of the scraping process, and so should be removed as well."
   ]
  },
  {
   "cell_type": "code",
   "execution_count": 8,
   "metadata": {},
   "outputs": [
    {
     "name": "stdout",
     "output_type": "stream",
     "text": [
      "5.0    12664\n",
      "4.0     9747\n",
      "3.0     5705\n",
      "1.0     3065\n",
      "2.0     2978\n",
      "Name: reviews.rating, dtype: int64\n"
     ]
    }
   ],
   "source": [
    "df_1 = df_1[df_1[\"reviews.rating\"].isin([1.0,2.0,3.0,4.0,5.0])]\n",
    "\n",
    "print(df_1[\"reviews.rating\"].value_counts())"
   ]
  },
  {
   "cell_type": "code",
   "execution_count": 9,
   "metadata": {},
   "outputs": [
    {
     "name": "stdout",
     "output_type": "stream",
     "text": [
      "count    34159.000000\n",
      "mean       256.185544\n",
      "std        219.689435\n",
      "min          1.000000\n",
      "25%        103.000000\n",
      "50%        227.000000\n",
      "75%        330.000000\n",
      "max       3827.000000\n",
      "Name: reviews.length, dtype: float64\n"
     ]
    },
    {
     "data": {
      "text/plain": [
       "<matplotlib.axes._subplots.AxesSubplot at 0x200e4b4c940>"
      ]
     },
     "execution_count": 9,
     "metadata": {},
     "output_type": "execute_result"
    },
    {
     "data": {
      "image/png": "[encoded data removed]",
      "text/plain": [
       "<Figure size 432x288 with 1 Axes>"
      ]
     },
     "metadata": {
      "needs_background": "light"
     },
     "output_type": "display_data"
    }
   ],
   "source": [
    "df_1[\"reviews.length\"] = df_1[\"reviews.text\"].str.len()\n",
    "\n",
    "print(df_1[\"reviews.length\"].describe())\n",
    "\n",
    "df_1.boxplot(column=\"reviews.length\")\n"
   ]
  },
  {
   "cell_type": "code",
   "execution_count": 10,
   "metadata": {},
   "outputs": [
    {
     "data": {
      "text/plain": [
       "<matplotlib.axes._subplots.AxesSubplot at 0x200e3613860>"
      ]
     },
     "execution_count": 10,
     "metadata": {},
     "output_type": "execute_result"
    },
    {
     "data": {
      "image/png": "[encoded data removed]",
      "text/plain": [
       "<Figure size 432x288 with 1 Axes>"
      ]
     },
     "metadata": {
      "needs_background": "light"
     },
     "output_type": "display_data"
    }
   ],
   "source": [
    "df_1[\"reviews.length\"].hist(bins=100)"
   ]
  },
  {
   "cell_type": "code",
   "execution_count": 11,
   "metadata": {},
   "outputs": [
    {
     "data": {
      "text/plain": [
       "<matplotlib.axes._subplots.AxesSubplot at 0x200e2f2c828>"
      ]
     },
     "execution_count": 11,
     "metadata": {},
     "output_type": "execute_result"
    },
    {
     "data": {
      "image/png": "[encoded data removed]",
      "text/plain": [
       "<Figure size 432x288 with 1 Axes>"
      ]
     },
     "metadata": {
      "needs_background": "light"
     },
     "output_type": "display_data"
    }
   ],
   "source": [
    "df_1.boxplot(column=\"reviews.length\", by=\"reviews.rating\")"
   ]
  },
  {
   "cell_type": "markdown",
   "metadata": {},
   "source": [
    "Beacuse there is a large drop off in the number of reviews at around 450 characters, I have decided to remove all reviews longer than that, as their outlier status may negatively affect their usefulness in creating accurate sentiment analysis methodologies\n",
    "\n",
    "To remove reviews that are too small to be of use in determining sentiment, I have decided to use the 25th percentile length value (~100) as the minimum cutoff point."
   ]
  },
  {
   "cell_type": "code",
   "execution_count": 12,
   "metadata": {},
   "outputs": [
    {
     "name": "stdout",
     "output_type": "stream",
     "text": [
      "Number of records in pruned dataset: {} 22395\n",
      "Percentage of records kept: %{} 65.56105272402588\n"
     ]
    }
   ],
   "source": [
    "LOWER_BOUND = 100\n",
    "UPPER_BOUND = 450\n",
    "\n",
    "orig_size = df_1[\"reviews.text\"].count()\n",
    "\n",
    "df_1 = df_1[df_1[\"reviews.length\"].between(LOWER_BOUND, UPPER_BOUND)]\n",
    "\n",
    "\n",
    "new_size = df_1[\"reviews.text\"].count()\n",
    "\n",
    "print(\"Number of records in pruned dataset: {}\", new_size)\n",
    "print(\"Percentage of records kept: %{}\", (new_size/orig_size * 100))\n"
   ]
  },
  {
   "cell_type": "markdown",
   "metadata": {},
   "source": [
    "With around 65% of records kept from the dataset, I feel that these upper and lower bounds for length strike a good balance between removing outliers and keeping a large enough corpus to train any sentiment analysis models with."
   ]
  },
  {
   "cell_type": "markdown",
   "metadata": {},
   "source": [
    "### 2.2 Dataset 2"
   ]
  },
  {
   "cell_type": "code",
   "execution_count": 13,
   "metadata": {},
   "outputs": [
    {
     "data": {
      "text/plain": [
       "<matplotlib.axes._subplots.AxesSubplot at 0x200e308d278>"
      ]
     },
     "execution_count": 13,
     "metadata": {},
     "output_type": "execute_result"
    },
    {
     "data": {
      "image/png": "[encoded data removed]",
      "text/plain": [
       "<Figure size 432x288 with 1 Axes>"
      ]
     },
     "metadata": {
      "needs_background": "light"
     },
     "output_type": "display_data"
    }
   ],
   "source": [
    "df_2 = load_dataset(DATASET_2)\n",
    "df_2.head()\n",
    "\n",
    "df_2.boxplot(column=\"reviews.rating\")"
   ]
  },
  {
   "cell_type": "code",
   "execution_count": 14,
   "metadata": {},
   "outputs": [
    {
     "name": "stdout",
     "output_type": "stream",
     "text": [
      "5.00    4384\n",
      "4.00    2397\n",
      "3.00    1186\n",
      "1.00     572\n",
      "2.00     561\n",
      "4.80     162\n",
      "4.60     155\n",
      "4.40     102\n",
      "3.75      91\n",
      "4.15      78\n",
      "3.95      52\n",
      "3.55      50\n",
      "3.35      40\n",
      "3.15      37\n",
      "2.90      34\n",
      "2.70      23\n",
      "2.50      19\n",
      "2.30      12\n",
      "2.10      11\n",
      "1.65       8\n",
      "1.45       6\n",
      "4.50       4\n",
      "1.90       4\n",
      "3.25       2\n",
      "3.50       2\n",
      "1.25       2\n",
      "4.25       2\n",
      "2.75       1\n",
      "4.75       1\n",
      "3.45       1\n",
      "Name: reviews.rating, dtype: int64\n"
     ]
    }
   ],
   "source": [
    "print(df_2[\"reviews.rating\"].value_counts())"
   ]
  },
  {
   "cell_type": "markdown",
   "metadata": {},
   "source": [
    "For DATASET_2, all reviews are rated on the 1-5 scale, but a small minority are non-integer ratings. Here, it makes sense to round these ratings to the nearest integer"
   ]
  },
  {
   "cell_type": "code",
   "execution_count": 15,
   "metadata": {},
   "outputs": [
    {
     "name": "stdout",
     "output_type": "stream",
     "text": [
      "5.0    4702\n",
      "4.0    2778\n",
      "3.0    1324\n",
      "2.0     615\n",
      "1.0     580\n",
      "Name: reviews.rating, dtype: int64\n"
     ]
    }
   ],
   "source": [
    "df_2[\"reviews.rating\"] = df_2[\"reviews.rating\"].round()\n",
    "\n",
    "print(df_2[\"reviews.rating\"].value_counts())"
   ]
  },
  {
   "cell_type": "code",
   "execution_count": 16,
   "metadata": {},
   "outputs": [
    {
     "name": "stdout",
     "output_type": "stream",
     "text": [
      "count    9999.000000\n",
      "mean      324.666367\n",
      "std       295.447557\n",
      "min         1.000000\n",
      "25%       201.000000\n",
      "50%       298.000000\n",
      "75%       344.000000\n",
      "max      5939.000000\n",
      "Name: reviews.length, dtype: float64\n"
     ]
    },
    {
     "data": {
      "text/plain": [
       "<matplotlib.axes._subplots.AxesSubplot at 0x200e34bd3c8>"
      ]
     },
     "execution_count": 16,
     "metadata": {},
     "output_type": "execute_result"
    },
    {
     "data": {
      "image/png": "[encoded data removed]",
      "text/plain": [
       "<Figure size 432x288 with 1 Axes>"
      ]
     },
     "metadata": {
      "needs_background": "light"
     },
     "output_type": "display_data"
    }
   ],
   "source": [
    "df_2[\"reviews.length\"] = df_2[\"reviews.text\"].str.len()\n",
    "\n",
    "print(df_2[\"reviews.length\"].describe())\n",
    "\n",
    "df_2.boxplot(column=\"reviews.length\")"
   ]
  },
  {
   "cell_type": "code",
   "execution_count": 17,
   "metadata": {},
   "outputs": [
    {
     "data": {
      "text/plain": [
       "<matplotlib.axes._subplots.AxesSubplot at 0x200e34fbb00>"
      ]
     },
     "execution_count": 17,
     "metadata": {},
     "output_type": "execute_result"
    },
    {
     "data": {
      "image/png": "[encoded data removed]",
      "text/plain": [
       "<Figure size 432x288 with 1 Axes>"
      ]
     },
     "metadata": {
      "needs_background": "light"
     },
     "output_type": "display_data"
    }
   ],
   "source": [
    "df_2[\"reviews.length\"].hist(bins=100)"
   ]
  },
  {
   "cell_type": "code",
   "execution_count": 18,
   "metadata": {},
   "outputs": [
    {
     "data": {
      "text/plain": [
       "<matplotlib.axes._subplots.AxesSubplot at 0x200e47988d0>"
      ]
     },
     "execution_count": 18,
     "metadata": {},
     "output_type": "execute_result"
    },
    {
     "data": {
      "image/png": "[encoded data removed]",
      "text/plain": [
       "<Figure size 432x288 with 1 Axes>"
      ]
     },
     "metadata": {
      "needs_background": "light"
     },
     "output_type": "display_data"
    }
   ],
   "source": [
    "df_2.boxplot(column=\"reviews.length\", by=\"reviews.rating\")"
   ]
  },
  {
   "cell_type": "code",
   "execution_count": 19,
   "metadata": {},
   "outputs": [
    {
     "name": "stdout",
     "output_type": "stream",
     "text": [
      "Number of records in pruned dataset: {} 7474\n",
      "Percentage of records kept: %{} 74.74747474747475\n"
     ]
    }
   ],
   "source": [
    "orig_size = df_2[\"reviews.text\"].count()\n",
    "\n",
    "df_2 = df_2[df_2[\"reviews.length\"].between(LOWER_BOUND, UPPER_BOUND)]\n",
    "\n",
    "\n",
    "new_size = df_2[\"reviews.text\"].count()\n",
    "\n",
    "print(\"Number of records in pruned dataset: {}\", new_size)\n",
    "print(\"Percentage of records kept: %{}\", (new_size/orig_size * 100))"
   ]
  },
  {
   "cell_type": "markdown",
   "metadata": {},
   "source": [
    "### 2.3 Dataset 3"
   ]
  },
  {
   "cell_type": "code",
   "execution_count": 20,
   "metadata": {},
   "outputs": [
    {
     "name": "stdout",
     "output_type": "stream",
     "text": [
      "5    4840\n",
      "4    2849\n",
      "3    1190\n",
      "1     567\n",
      "2     554\n",
      "Name: reviews.rating, dtype: int64\n"
     ]
    },
    {
     "data": {
      "image/png": "[encoded data removed]",
      "text/plain": [
       "<Figure size 432x288 with 1 Axes>"
      ]
     },
     "metadata": {
      "needs_background": "light"
     },
     "output_type": "display_data"
    }
   ],
   "source": [
    "df_3 = load_dataset(DATASET_3)\n",
    "\n",
    "df_3.head()\n",
    "\n",
    "df_3.boxplot(column=\"reviews.rating\")\n",
    "print(df_3[\"reviews.rating\"].value_counts())"
   ]
  },
  {
   "cell_type": "markdown",
   "metadata": {},
   "source": [
    "In DATASET_3, all of the reviews are already on the integer 1-5 scale, so there is nothing that needs to be done."
   ]
  },
  {
   "cell_type": "code",
   "execution_count": 21,
   "metadata": {},
   "outputs": [
    {
     "name": "stdout",
     "output_type": "stream",
     "text": [
      "count    10000.000000\n",
      "mean       651.899600\n",
      "std        593.559418\n",
      "min          8.000000\n",
      "25%        302.000000\n",
      "50%        462.000000\n",
      "75%        812.250000\n",
      "max      14254.000000\n",
      "Name: reviews.length, dtype: float64\n"
     ]
    },
    {
     "data": {
      "text/plain": [
       "<matplotlib.axes._subplots.AxesSubplot at 0x200e49f62e8>"
      ]
     },
     "execution_count": 21,
     "metadata": {},
     "output_type": "execute_result"
    },
    {
     "data": {
      "image/png": "[encoded data removed]",
      "text/plain": [
       "<Figure size 432x288 with 1 Axes>"
      ]
     },
     "metadata": {
      "needs_background": "light"
     },
     "output_type": "display_data"
    }
   ],
   "source": [
    "df_3[\"reviews.length\"] = df_3[\"reviews.text\"].str.len()\n",
    "\n",
    "print(df_3[\"reviews.length\"].describe())\n",
    "\n",
    "df_3.boxplot(column=\"reviews.length\")\n"
   ]
  },
  {
   "cell_type": "code",
   "execution_count": 22,
   "metadata": {},
   "outputs": [
    {
     "data": {
      "text/plain": [
       "<matplotlib.axes._subplots.AxesSubplot at 0x200e49a2400>"
      ]
     },
     "execution_count": 22,
     "metadata": {},
     "output_type": "execute_result"
    },
    {
     "data": {
      "image/png": "[encoded data removed]",
      "text/plain": [
       "<Figure size 432x288 with 1 Axes>"
      ]
     },
     "metadata": {
      "needs_background": "light"
     },
     "output_type": "display_data"
    }
   ],
   "source": [
    "df_3[\"reviews.length\"].hist(bins=100)"
   ]
  },
  {
   "cell_type": "code",
   "execution_count": 23,
   "metadata": {},
   "outputs": [
    {
     "data": {
      "text/plain": [
       "<matplotlib.axes._subplots.AxesSubplot at 0x200e49f6240>"
      ]
     },
     "execution_count": 23,
     "metadata": {},
     "output_type": "execute_result"
    },
    {
     "data": {
      "image/png": "[encoded data removed]",
      "text/plain": [
       "<Figure size 432x288 with 1 Axes>"
      ]
     },
     "metadata": {
      "needs_background": "light"
     },
     "output_type": "display_data"
    }
   ],
   "source": [
    "df_3.boxplot(column=\"reviews.length\", by=\"reviews.rating\")"
   ]
  },
  {
   "cell_type": "code",
   "execution_count": 24,
   "metadata": {},
   "outputs": [
    {
     "name": "stdout",
     "output_type": "stream",
     "text": [
      "Number of records in pruned dataset: 4871\n",
      "Percentage of records kept: 48.71%\n"
     ]
    }
   ],
   "source": [
    "orig_size = df_3[\"reviews.text\"].count()\n",
    "\n",
    "df_3 = df_3[df_3[\"reviews.length\"].between(LOWER_BOUND, UPPER_BOUND)]\n",
    "\n",
    "\n",
    "new_size = df_3[\"reviews.text\"].count()\n",
    "\n",
    "print(\"Number of records in pruned dataset: {}\".format(new_size))\n",
    "print(\"Percentage of records kept: {}%\".format(new_size/orig_size * 100))"
   ]
  },
  {
   "cell_type": "markdown",
   "metadata": {},
   "source": [
    "Using the Upper and Lower length bounds for Dataset 1 here have resulted in a significantly larger number of records being eliminated"
   ]
  },
  {
   "cell_type": "markdown",
   "metadata": {},
   "source": [
    "### 2.4 Combining the Three Datasets"
   ]
  },
  {
   "cell_type": "code",
   "execution_count": 25,
   "metadata": {},
   "outputs": [
    {
     "name": "stdout",
     "output_type": "stream",
     "text": [
      "{'reviews.date', 'longitude', 'reviews.userProvince', 'reviews.rating', 'categories', 'postalCode', 'latitude', 'reviews.length', 'reviews.username', 'name', 'city', 'province', 'reviews.title', 'address', 'reviews.text', 'reviews.userCity', 'country'}\n"
     ]
    }
   ],
   "source": [
    "#Find the columns that are present in each of the three datasets, and make sure that there aren't any important columns\n",
    "# (review text, title, rating, etc.) that are functionally identical, but named differently\n",
    "columns_intersection = set.intersection(set(df_1.columns.values),set(df_2.columns.values), set(df_3.columns.values))\n",
    "print(columns_intersection)"
   ]
  },
  {
   "cell_type": "code",
   "execution_count": 26,
   "metadata": {},
   "outputs": [
    {
     "name": "stdout",
     "output_type": "stream",
     "text": [
      "   reviews.rating                                       reviews.text  \\\n",
      "0             4.0  b\"Pleasant 10 min walk along the sea front to ...   \n",
      "1             5.0  b\"Really lovely hotel. Stayed on the very top ...   \n",
      "2             5.0  b'Ett mycket bra hotell. Det som drog ner bety...   \n",
      "3             5.0  b'We stayed here for four nights in October. T...   \n",
      "4             5.0  b'We loved staying on the island of Lido! You ...   \n",
      "\n",
      "   reviews.length  \n",
      "0             194  \n",
      "1             252  \n",
      "2             136  \n",
      "3             354  \n",
      "4             326  \n",
      "34223\n"
     ]
    }
   ],
   "source": [
    "#now concatenate the chosen data sources on the schema intersection\n",
    "\n",
    "df = pd.concat([df_1,df_2,df_3], join=\"inner\")\n",
    "\n",
    "#remove unnecessary columns\n",
    "df = df[[\"reviews.rating\", \"reviews.text\", \"reviews.length\"]]\n",
    "\n",
    "\n",
    "#remove reviews with the same rating and text\n",
    "df = df.drop_duplicates()\n",
    "\n",
    "df = df.reset_index(drop=True)\n",
    "\n",
    "print(df.head())\n",
    "\n",
    "print(len(df))"
   ]
  },
  {
   "cell_type": "code",
   "execution_count": 27,
   "metadata": {},
   "outputs": [
    {
     "name": "stdout",
     "output_type": "stream",
     "text": [
      "reviews.rating                                                    5\n",
      "reviews.text      b'Americinn on the Au Sable river is a gem! Ve...\n",
      "reviews.length                                                  327\n",
      "Name: 789, dtype: object\n"
     ]
    }
   ],
   "source": [
    "print(df.loc[789,:])"
   ]
  },
  {
   "cell_type": "code",
   "execution_count": 28,
   "metadata": {},
   "outputs": [
    {
     "data": {
      "text/plain": [
       "reviews.rating    34223\n",
       "reviews.text      34223\n",
       "reviews.length    34223\n",
       "dtype: int64"
      ]
     },
     "execution_count": 28,
     "metadata": {},
     "output_type": "execute_result"
    }
   ],
   "source": [
    "df.count()"
   ]
  },
  {
   "cell_type": "code",
   "execution_count": 29,
   "metadata": {},
   "outputs": [
    {
     "data": {
      "text/html": [
       "<div>\n",
       "<style scoped>\n",
       "    .dataframe tbody tr th:only-of-type {\n",
       "        vertical-align: middle;\n",
       "    }\n",
       "\n",
       "    .dataframe tbody tr th {\n",
       "        vertical-align: top;\n",
       "    }\n",
       "\n",
       "    .dataframe thead th {\n",
       "        text-align: right;\n",
       "    }\n",
       "</style>\n",
       "<table border=\"1\" class=\"dataframe\">\n",
       "  <thead>\n",
       "    <tr style=\"text-align: right;\">\n",
       "      <th></th>\n",
       "      <th>reviews.rating</th>\n",
       "      <th>reviews.text</th>\n",
       "      <th>reviews.length</th>\n",
       "    </tr>\n",
       "  </thead>\n",
       "  <tbody>\n",
       "  </tbody>\n",
       "</table>\n",
       "</div>"
      ],
      "text/plain": [
       "Empty DataFrame\n",
       "Columns: [reviews.rating, reviews.text, reviews.length]\n",
       "Index: []"
      ]
     },
     "execution_count": 29,
     "metadata": {},
     "output_type": "execute_result"
    }
   ],
   "source": [
    "df[df[\"reviews.text\"] == \"\"]\n"
   ]
  },
  {
   "cell_type": "markdown",
   "metadata": {},
   "source": [
    "## 3. Translation of non-English reviews "
   ]
  },
  {
   "cell_type": "code",
   "execution_count": 31,
   "metadata": {},
   "outputs": [
    {
     "name": "stdout",
     "output_type": "stream",
     "text": [
      "Total number of characters in dataset: 9,075,527\n",
      "At $20 per million characters, using google cloud translate would cost $181.51\n"
     ]
    }
   ],
   "source": [
    "print(\"Total number of characters in dataset: {:,.0f}\".format(df[\"reviews.length\"].sum()))\n",
    "print(\"At $20 per million characters, using google cloud translate would cost ${:,.2f}\".format(df[\"reviews.length\"].sum() / 1000000 * 20))"
   ]
  },
  {
   "cell_type": "markdown",
   "metadata": {},
   "source": [
    "Given the cost of detecting and translating the languages of each review, it is unfeasible for me to use this in any data analytics pipeline in this project. However, to examine the usefullness of translation as a pre-processing step, I will create a smaller dataset (1000 records) which will be translated and used in each sentiment analysis approach."
   ]
  },
  {
   "cell_type": "code",
   "execution_count": 32,
   "metadata": {},
   "outputs": [
    {
     "name": "stdout",
     "output_type": "stream",
     "text": [
      "   reviews.rating                                       reviews.text  \\\n",
      "0             4.0  b\"Pleasant 10 min walk along the sea front to ...   \n",
      "1             5.0  b\"Really lovely hotel. Stayed on the very top ...   \n",
      "2             5.0  b'Ett mycket bra hotell. Det som drog ner bety...   \n",
      "3             5.0  b'We stayed here for four nights in October. T...   \n",
      "4             5.0  b'We loved staying on the island of Lido! You ...   \n",
      "\n",
      "   reviews.length  \n",
      "0             194  \n",
      "1             252  \n",
      "2             136  \n",
      "3             354  \n",
      "4             326  \n",
      "1000\n",
      "Total number of characters in dataset: 254,655\n",
      "At $20 per million characters, using google cloud translate would cost at least $5.09\n"
     ]
    }
   ],
   "source": [
    "df_small = df.loc[0:999, :]\n",
    "\n",
    "print(df_small.head())\n",
    "\n",
    "print(len(df_small))\n",
    "print(\"Total number of characters in dataset: {:,.0f}\".format(df_small[\"reviews.length\"].sum()))\n",
    "print(\"At $20 per million characters, using google cloud translate would cost at least ${:,.2f}\".format(df_small[\"reviews.length\"].sum() / 1000000 * 20))"
   ]
  },
  {
   "cell_type": "code",
   "execution_count": 34,
   "metadata": {},
   "outputs": [],
   "source": [
    "client = translate.Client()\n",
    "\n",
    "#uses the google cloud translate API to detect the text language, returning the language and the confidence\n",
    "def detect_language(text):\n",
    "\n",
    "    #get the translation from the API (allowing for a few seconds to breathe when at the rate limit)\n",
    "    while(True):\n",
    "        try:\n",
    "            detection = client.detect_language(text.decode(\"utf-8\"))\n",
    "        except Forbidden as e:\n",
    "            #print(e.message)\n",
    "            \n",
    "            #if we're hitting the rate limit, wait a second and try again\n",
    "            if e.message == \"POST https://translation.googleapis.com/language/translate/v2/detect: User Rate Limit Exceeded\":\n",
    "                time.sleep(1)\n",
    "                continue\n",
    "            else: raise #otherwise, throw the error as usual\n",
    "        break\n",
    "        \n",
    "    language = detection[\"language\"]\n",
    "    \n",
    "    #because the API says that the confidence value is not always available, give a confidence value of 1 \n",
    "    # (full confidence) if the confidence is not given to us\n",
    "    \n",
    "    confidence = detection[\"confidence\"] if \"confidence\" in detection else 1\n",
    "    \n",
    "    return language, confidence\n",
    "    \n",
    "#uses the google cloud translate API to\n",
    "#print(detect_language(\"aaaaaaa\"))\n",
    "\n",
    "def translate_text(text, source_lang=\"en\", target_lang=\"en\"):\n",
    "    \n",
    "    while(True):\n",
    "        try:\n",
    "            translation = client.translate(text.decode(\"utf-8\"), source_language=source_lang, target_language=target_lang)\n",
    "        except Forbidden as e:\n",
    "            #if we're hitting the rate limit, wait a second and try again\n",
    "            if e.message == \"POST https://translation.googleapis.com/language/translate/v2/detect: User Rate Limit Exceeded\":\n",
    "                time.sleep(1)\n",
    "                continue\n",
    "            else: raise #otherwise, throw the error as usual\n",
    "        except BadRequest as e:\n",
    "                print(text.decode(\"utf-8\"), \" \", source_lang, \"-\", target_lang)\n",
    "                raise\n",
    "        break\n",
    "    \n",
    "    return translation[\"translatedText\"].encode(\"utf-8\")\n",
    "\n"
   ]
  },
  {
   "cell_type": "code",
   "execution_count": 35,
   "metadata": {},
   "outputs": [],
   "source": [
    "def translate_dataframe(frame, redetect_languages=False, translator_functionality=TRANSLATOR_FUNCTIONALITY):\n",
    "    \n",
    "    #if selected, skip translating by just copying the untranslated text to the translated text column\n",
    "    if USE_TRANSLATOR == False:\n",
    "        frame[\"translated_text\"] = frame[\"reviews.text\"]\n",
    "        return frame\n",
    "    \n",
    "    #skip if we already have detected languages and are not explicitly re-collecting them\n",
    "    if (\"detected_language\" not in frame.columns) or (redetect_languages==True): \n",
    "        frame.loc[:,\"detected_language\"] = frame[\"reviews.text\"].progress_map(detect_language)\n",
    "        \n",
    "    #save the detected languages so further testing and work doesn't require going through the process of\n",
    "    #requesting language detection again\n",
    "    df.to_csv(\"reviewratings_withlanguagedetection.csv\")\n",
    "    \n",
    "    \n",
    "    #now take all the reviews not in the source language and deal with them according to the functionality option set\n",
    "    \n",
    "    if translator_functionality == TRANSLATOR_OPTIONS.TRANSLATE:\n",
    "        pass\n",
    "        \n",
    "        frame.loc[:,\"translated_text\"] = frame.progress_apply(lambda x: translate_text(x[\"reviews.text\"], \n",
    "                                                                                 source_lang=x[\"detected_language\"][0])\n",
    "                                                            if x[\"detected_language\"][0] != \"en\"\n",
    "                                                            else x[\"reviews.text\"]\n",
    "                                                        ,axis=1) \n",
    "        \n",
    "    elif translator_functionality == TRANSLATOR_OPTIONS.REMOVE:\n",
    "        \n",
    "        frame = frame[frame[\"detected_language\"][0] != \"en\"]\n",
    "        frame = frame.reset_index(drop=True)\n",
    "        frame.loc[:,\"translated_text\"] = frame[\"reviews.text\"]\n",
    "        \n",
    "    elif translator_functionality == TRANSLATOR_OPTIONS.THRESHOLD:\n",
    "        \n",
    "        frame = frame[frame[\"detected_language\"][0] != \"en\" and frame[\"detected_language\"][1] > TRANSLATOR_THRESHOLD]\n",
    "        frame = frame.reset_index(drop=True)\n",
    "        frame[\"translated_text\"] = [row[\"reviews.text\"] if row[\"detected_language\"][0] == \"en\" \n",
    "                                    else translate_text(row[\"reviews.text\"], source_lang=row[\"detected_language\"][0])\n",
    "                                    for row in frame]\n",
    "        pass\n",
    "    \n",
    "    \n",
    "    return frame\n",
    "\n",
    "#test_df = df.head().copy()\n",
    "#df_detected = translate_dataframe(test_df)\n",
    "#print(df_detected[\"detected_language\"].head())\n"
   ]
  },
  {
   "cell_type": "code",
   "execution_count": null,
   "metadata": {},
   "outputs": [],
   "source": []
  },
  {
   "cell_type": "code",
   "execution_count": 70,
   "metadata": {},
   "outputs": [
    {
     "data": {
      "application/vnd.jupyter.widget-view+json": {
       "model_id": "a4406aa7b113451897044f0f1930a2aa",
       "version_major": 2,
       "version_minor": 0
      },
      "text/plain": [
       "HBox(children=(IntProgress(value=0, max=5), HTML(value='')))"
      ]
     },
     "metadata": {},
     "output_type": "display_data"
    },
    {
     "data": {
      "application/vnd.jupyter.widget-view+json": {
       "model_id": "1bb3e929a1314efcbed03ac134a16729",
       "version_major": 2,
       "version_minor": 0
      },
      "text/plain": [
       "HBox(children=(IntProgress(value=0, max=5), HTML(value='')))"
      ]
     },
     "metadata": {},
     "output_type": "display_data"
    },
    {
     "name": "stdout",
     "output_type": "stream",
     "text": [
      "   reviews.rating                                       reviews.text  \\\n",
      "0             4.0  b\"Pleasant 10 min walk along the sea front to ...   \n",
      "1             5.0  b\"Really lovely hotel. Stayed on the very top ...   \n",
      "2             5.0  b'Ett mycket bra hotell. Det som drog ner bety...   \n",
      "3             5.0  b'We stayed here for four nights in October. T...   \n",
      "4             5.0  b'We loved staying on the island of Lido! You ...   \n",
      "\n",
      "   reviews.length detected_language  \\\n",
      "0             194           (en, 1)   \n",
      "1             252           (en, 1)   \n",
      "2             136           (sv, 1)   \n",
      "3             354           (en, 1)   \n",
      "4             326           (en, 1)   \n",
      "\n",
      "                                     translated_text  \n",
      "0  b\"Pleasant 10 min walk along the sea front to ...  \n",
      "1  b\"Really lovely hotel. Stayed on the very top ...  \n",
      "2  b'A very good hotel. What pulled down the grad...  \n",
      "3  b'We stayed here for four nights in October. T...  \n",
      "4  b'We loved staying on the island of Lido! You ...  \n"
     ]
    }
   ],
   "source": [
    "\n",
    "#first test using the first 5 records (of which one is in swedish)\n",
    "\n",
    "df_tiny = df.head().copy()\n",
    "\n",
    "df_tiny = translate_dataframe(df_tiny)\n",
    "\n",
    "print(df_tiny)\n"
   ]
  },
  {
   "cell_type": "code",
   "execution_count": 71,
   "metadata": {},
   "outputs": [
    {
     "name": "stdout",
     "output_type": "stream",
     "text": [
      "   reviews.rating                                       reviews.text  \\\n",
      "0             4.0  b\"Pleasant 10 min walk along the sea front to ...   \n",
      "1             5.0  b\"Really lovely hotel. Stayed on the very top ...   \n",
      "2             5.0  b'Ett mycket bra hotell. Det som drog ner bety...   \n",
      "3             5.0  b'We stayed here for four nights in October. T...   \n",
      "4             5.0  b'We loved staying on the island of Lido! You ...   \n",
      "\n",
      "   reviews.length detected_language  \\\n",
      "0             194           (en, 1)   \n",
      "1             252           (en, 1)   \n",
      "2             136           (sv, 1)   \n",
      "3             354           (en, 1)   \n",
      "4             326           (en, 1)   \n",
      "\n",
      "                                     translated_text  \n",
      "0  b\"Pleasant 10 min walk along the sea front to ...  \n",
      "1  b\"Really lovely hotel. Stayed on the very top ...  \n",
      "2  b'A very good hotel. What pulled down the grad...  \n",
      "3  b'We stayed here for four nights in October. T...  \n",
      "4  b'We loved staying on the island of Lido! You ...  \n",
      "   Unnamed: 0  reviews.rating  \\\n",
      "0           0             4.0   \n",
      "1           1             5.0   \n",
      "2           2             5.0   \n",
      "3           3             5.0   \n",
      "4           4             5.0   \n",
      "\n",
      "                                        reviews.text  reviews.length  \\\n",
      "0  b\"Pleasant 10 min walk along the sea front to ...             194   \n",
      "1  b\"Really lovely hotel. Stayed on the very top ...             252   \n",
      "2  b'Ett mycket bra hotell. Det som drog ner bety...             136   \n",
      "3  b'We stayed here for four nights in October. T...             354   \n",
      "4  b'We loved staying on the island of Lido! You ...             326   \n",
      "\n",
      "  detected_language                                    translated_text  \n",
      "0         ('en', 1)  b\"Pleasant 10 min walk along the sea front to ...  \n",
      "1         ('en', 1)  b\"Really lovely hotel. Stayed on the very top ...  \n",
      "2         ('sv', 1)  b'A very good hotel. What pulled down the grad...  \n",
      "3         ('en', 1)  b'We stayed here for four nights in October. T...  \n",
      "4         ('en', 1)  b'We loved staying on the island of Lido! You ...  \n"
     ]
    }
   ],
   "source": [
    "print(df_tiny)\n",
    "\n",
    "save_dataset(df_tiny, \"df_tiny.csv\")\n",
    "\n",
    "df_tiny = load_dataset(\"df_tiny.csv\")\n",
    "print(df_tiny)"
   ]
  },
  {
   "cell_type": "code",
   "execution_count": 41,
   "metadata": {
    "scrolled": true
   },
   "outputs": [
    {
     "data": {
      "application/vnd.jupyter.widget-view+json": {
       "model_id": "021effacb9944d3f8d9e4d31b245fe66",
       "version_major": 2,
       "version_minor": 0
      },
      "text/plain": [
       "HBox(children=(IntProgress(value=0, max=1000), HTML(value='')))"
      ]
     },
     "metadata": {},
     "output_type": "display_data"
    },
    {
     "name": "stdout",
     "output_type": "stream",
     "text": [
      "\n"
     ]
    },
    {
     "name": "stderr",
     "output_type": "stream",
     "text": [
      "C:\\Users\\lenovo\\Anaconda3\\lib\\site-packages\\pandas\\core\\indexing.py:362: SettingWithCopyWarning: \n",
      "A value is trying to be set on a copy of a slice from a DataFrame.\n",
      "Try using .loc[row_indexer,col_indexer] = value instead\n",
      "\n",
      "See the caveats in the documentation: http://pandas.pydata.org/pandas-docs/stable/indexing.html#indexing-view-versus-copy\n",
      "  self.obj[key] = _infer_fill_value(value)\n",
      "C:\\Users\\lenovo\\Anaconda3\\lib\\site-packages\\pandas\\core\\indexing.py:543: SettingWithCopyWarning: \n",
      "A value is trying to be set on a copy of a slice from a DataFrame.\n",
      "Try using .loc[row_indexer,col_indexer] = value instead\n",
      "\n",
      "See the caveats in the documentation: http://pandas.pydata.org/pandas-docs/stable/indexing.html#indexing-view-versus-copy\n",
      "  self.obj[item] = s\n"
     ]
    },
    {
     "data": {
      "application/vnd.jupyter.widget-view+json": {
       "model_id": "0521b0274eeb40d7a6a0007276e812a8",
       "version_major": 2,
       "version_minor": 0
      },
      "text/plain": [
       "HBox(children=(IntProgress(value=0, max=1000), HTML(value='')))"
      ]
     },
     "metadata": {},
     "output_type": "display_data"
    },
    {
     "name": "stdout",
     "output_type": "stream",
     "text": [
      "\n"
     ]
    }
   ],
   "source": [
    "#load_dataset(\"df_small.csv\") # skip translating by loading a pre-translated dataframe\n",
    "\n",
    "#detecting and translating the truncated dataset\n",
    "df_small = translate_dataframe(df_small)"
   ]
  },
  {
   "cell_type": "code",
   "execution_count": 42,
   "metadata": {},
   "outputs": [
    {
     "name": "stdout",
     "output_type": "stream",
     "text": [
      "     reviews.rating                                       reviews.text  \\\n",
      "0               4.0  b\"Pleasant 10 min walk along the sea front to ...   \n",
      "1               5.0  b\"Really lovely hotel. Stayed on the very top ...   \n",
      "2               5.0  b'Ett mycket bra hotell. Det som drog ner bety...   \n",
      "3               5.0  b'We stayed here for four nights in October. T...   \n",
      "4               5.0  b'We loved staying on the island of Lido! You ...   \n",
      "5               4.0  b'ottimo soggiorno e ottima sistemazione nei g...   \n",
      "6               3.0  b'Gnstiger Ausgangspunkt fr Venedig Besuche. R...   \n",
      "7               4.0  b'Lidoen er perfekt til et par dages ro og afs...   \n",
      "8               4.0  b'Accueil chaleureux, en franais Changement du...   \n",
      "9               3.0  b'It was ok hotel is nice from in and out but ...   \n",
      "10              4.0  b'Klasse Frhstck, freundliches und aufmerksame...   \n",
      "11              4.0  b'Bardzo sympatyczna obsuga, klimat hotelu. wi...   \n",
      "12              4.0  b'Bra o lugnt lge. Stor terrass. Nra till den ...   \n",
      "13              4.0  b'The hotel staff was very friendly and helpfu...   \n",
      "14              4.0  b'Nice hotel , with very friendly staff and he...   \n",
      "15              4.0  b'Wir hatten leider Pech mit unserem Zimmer,wa...   \n",
      "16              1.0  b'Hotellihuone oli ullakolla, jossa ei pystyny...   \n",
      "17              5.0  b'Lovely hotel, 10 min walk to the water bus s...   \n",
      "18              4.0  b'Hotel ist sehr gut , wir waren zum zweiten m...   \n",
      "19              4.0  b'Nous avons pass 4 jours dans cet htel situ 5...   \n",
      "20              4.0  b'This hotel is in Lido which is a better choi...   \n",
      "21              4.0  b'It was a 10 min+ walk to water bus, would ha...   \n",
      "22              3.0  b\"Room was tiny-bed saggy-bAthroom door didn't...   \n",
      "23              5.0  b'VERY FRIENDLY AND HELPFUL WITH DIRECTIONS, K...   \n",
      "24              4.0  b'Hotel sympathique et silencieux sur l ile du...   \n",
      "25              5.0  b'Havde 7 overnatninger i april 2015 p Hotel R...   \n",
      "26              5.0  b'Really enjoyed the stay, about a 10min walk ...   \n",
      "27              2.0  b'Walls extremely thin, you can hear everythin...   \n",
      "28              4.0  b'Hotel facilities are good and breakfast ampl...   \n",
      "29              4.0  b'Friendly reception very helpful. Hotel has p...   \n",
      "..              ...                                                ...   \n",
      "970             5.0  b'My man and I wanted a weekend away so we cam...   \n",
      "971             4.0  b'My wife and I stayed here 3/4/16 to attend a...   \n",
      "972             5.0  b'This is our the fourth time we have stayed a...   \n",
      "973             5.0  b'I need to be clear - I have never stayed at ...   \n",
      "974             5.0  b'The room we stayed in was in the main buildi...   \n",
      "975             5.0  b\"We stayed in the Pheasant Room for three nig...   \n",
      "976             5.0  b'I would highly recommend the Mt. Gardner Inn...   \n",
      "977             5.0  b\"I ski in Winthrop every Christmas and love s...   \n",
      "978             5.0  b'We stayed in room 2 which was a pet friendly...   \n",
      "979             5.0  b'The staff were extremely helpful and friendl...   \n",
      "980             5.0  b\"Alison and Greg are wonderful hosts! We have...   \n",
      "981             5.0  b'We stayed in their least expensive room and ...   \n",
      "982             5.0  b\"Have stayed at Alison and Greg's inn for ove...   \n",
      "983             5.0  b'When we asked if they had a vine opener to b...   \n",
      "984             5.0  b'This property is very well maintained and th...   \n",
      "985             5.0  b'Our run club rented 2 rooms at Mt Gardner In...   \n",
      "986             5.0  b\"I haven't stayed at a small family owned mot...   \n",
      "987             5.0  b'This is the perfect place to stay for a visi...   \n",
      "988             5.0  b'Fantastic! Our hosts Allison and Greg greete...   \n",
      "989             5.0  b\"My husband and I love this place! Comfortabl...   \n",
      "990             5.0  b'Wonderful accommodations...super clean, beds...   \n",
      "991             5.0  b'We were warmly welcomed, and given great din...   \n",
      "992             5.0  b'My bestfriend and I took a short trip to Win...   \n",
      "993             4.0  b'My family stayed in the Pheasant room at the...   \n",
      "994             5.0  b'This is such a nice, clean place. We walked ...   \n",
      "995             5.0  b'I gave three nights at Mt. Gardner to my hus...   \n",
      "996             5.0  b'We stayed 2 nights in the Grouse room (2nd f...   \n",
      "997             5.0  b\"I almost never write reviews, but our experi...   \n",
      "998             5.0  b'We have stayed in numerous places in the Met...   \n",
      "999             5.0  b\"We drove up to Winthrop for their Christmas ...   \n",
      "\n",
      "     reviews.length         detected_language  \\\n",
      "0               194                   (en, 1)   \n",
      "1               252                   (en, 1)   \n",
      "2               136                   (sv, 1)   \n",
      "3               354                   (en, 1)   \n",
      "4               326                   (en, 1)   \n",
      "5               224                   (it, 1)   \n",
      "6               311                   (de, 1)   \n",
      "7               130                   (da, 1)   \n",
      "8               166  (fr, 0.9191928505897522)   \n",
      "9               112                   (en, 1)   \n",
      "10              171                   (de, 1)   \n",
      "11              117                   (pl, 1)   \n",
      "12              147                   (sv, 1)   \n",
      "13              241                   (en, 1)   \n",
      "14              104                   (en, 1)   \n",
      "15              125                   (de, 1)   \n",
      "16              381                   (fi, 1)   \n",
      "17              143                   (en, 1)   \n",
      "18              204                   (de, 1)   \n",
      "19              260  (fr, 0.9786085486412048)   \n",
      "20              272                   (en, 1)   \n",
      "21              129                   (en, 1)   \n",
      "22              120                   (en, 1)   \n",
      "23              274                   (en, 1)   \n",
      "24              223  (fr, 0.8936119675636292)   \n",
      "25              290                   (da, 1)   \n",
      "26              137                   (en, 1)   \n",
      "27              137                   (en, 1)   \n",
      "28              205                   (en, 1)   \n",
      "29              275                   (en, 1)   \n",
      "..              ...                       ...   \n",
      "970             311                   (en, 1)   \n",
      "971             315                   (en, 1)   \n",
      "972             340                   (en, 1)   \n",
      "973             326                   (en, 1)   \n",
      "974             335                   (en, 1)   \n",
      "975             276                   (en, 1)   \n",
      "976             316                   (en, 1)   \n",
      "977             301                   (en, 1)   \n",
      "978             313                   (en, 1)   \n",
      "979             241                   (en, 1)   \n",
      "980             339                   (en, 1)   \n",
      "981             324                   (en, 1)   \n",
      "982             313                   (en, 1)   \n",
      "983             221                   (en, 1)   \n",
      "984             329                   (en, 1)   \n",
      "985             326                   (en, 1)   \n",
      "986             291                   (en, 1)   \n",
      "987             338                   (en, 1)   \n",
      "988             360                   (en, 1)   \n",
      "989             314                   (en, 1)   \n",
      "990             209                   (en, 1)   \n",
      "991             284                   (en, 1)   \n",
      "992             304                   (en, 1)   \n",
      "993             306                   (en, 1)   \n",
      "994             304                   (en, 1)   \n",
      "995             318                   (en, 1)   \n",
      "996             348                   (en, 1)   \n",
      "997             357                   (en, 1)   \n",
      "998             349                   (en, 1)   \n",
      "999             306                   (en, 1)   \n",
      "\n",
      "                                       translated_text  \n",
      "0    b\"Pleasant 10 min walk along the sea front to ...  \n",
      "1    b\"Really lovely hotel. Stayed on the very top ...  \n",
      "2    b'A very good hotel. What pulled down the grad...  \n",
      "3    b'We stayed here for four nights in October. T...  \n",
      "4    b'We loved staying on the island of Lido! You ...  \n",
      "5    b'excellent stay and excellent accommodation i...  \n",
      "6    b'Favorable starting point for visits to Venic...  \n",
      "7    b'The lido is perfect for a couple of days of ...  \n",
      "8    b'Warm welcome, in French Change of bed linen ...  \n",
      "9    b'It was ok hotel is nice from in and out but ...  \n",
      "10   b'Great breakfast, friendly and attentive staf...  \n",
      "11   b'Very nice staff, the atmosphere of the hotel...  \n",
      "12   b'Good and quiet. Large terrace. Close to the ...  \n",
      "13   b'The hotel staff was very friendly and helpfu...  \n",
      "14   b'Nice hotel , with very friendly staff and he...  \n",
      "15   b'Unfortunately we were unlucky with our room,...  \n",
      "16   b'The hotel room was in the attic, where one c...  \n",
      "17   b'Lovely hotel, 10 min walk to the water bus s...  \n",
      "18   b'Hotel is very good, it was our second time i...  \n",
      "19   b'We spent 4 days in this hotel located 5 mins...  \n",
      "20   b'This hotel is in Lido which is a better choi...  \n",
      "21   b'It was a 10 min+ walk to water bus, would ha...  \n",
      "22   b\"Room was tiny-bed saggy-bAthroom door didn't...  \n",
      "23   b'VERY FRIENDLY AND HELPFUL WITH DIRECTIONS, K...  \n",
      "24   b'Friendly and quiet hotel on the Lido Island ...  \n",
      "25   b'Had 7 nights in April 2015 at Hotel Russo Pa...  \n",
      "26   b'Really enjoyed the stay, about a 10min walk ...  \n",
      "27   b'Walls extremely thin, you can hear everythin...  \n",
      "28   b'Hotel facilities are good and breakfast ampl...  \n",
      "29   b'Friendly reception very helpful. Hotel has p...  \n",
      "..                                                 ...  \n",
      "970  b'My man and I wanted a weekend away so we cam...  \n",
      "971  b'My wife and I stayed here 3/4/16 to attend a...  \n",
      "972  b'This is our the fourth time we have stayed a...  \n",
      "973  b'I need to be clear - I have never stayed at ...  \n",
      "974  b'The room we stayed in was in the main buildi...  \n",
      "975  b\"We stayed in the Pheasant Room for three nig...  \n",
      "976  b'I would highly recommend the Mt. Gardner Inn...  \n",
      "977  b\"I ski in Winthrop every Christmas and love s...  \n",
      "978  b'We stayed in room 2 which was a pet friendly...  \n",
      "979  b'The staff were extremely helpful and friendl...  \n",
      "980  b\"Alison and Greg are wonderful hosts! We have...  \n",
      "981  b'We stayed in their least expensive room and ...  \n",
      "982  b\"Have stayed at Alison and Greg's inn for ove...  \n",
      "983  b'When we asked if they had a vine opener to b...  \n",
      "984  b'This property is very well maintained and th...  \n",
      "985  b'Our run club rented 2 rooms at Mt Gardner In...  \n",
      "986  b\"I haven't stayed at a small family owned mot...  \n",
      "987  b'This is the perfect place to stay for a visi...  \n",
      "988  b'Fantastic! Our hosts Allison and Greg greete...  \n",
      "989  b\"My husband and I love this place! Comfortabl...  \n",
      "990  b'Wonderful accommodations...super clean, beds...  \n",
      "991  b'We were warmly welcomed, and given great din...  \n",
      "992  b'My bestfriend and I took a short trip to Win...  \n",
      "993  b'My family stayed in the Pheasant room at the...  \n",
      "994  b'This is such a nice, clean place. We walked ...  \n",
      "995  b'I gave three nights at Mt. Gardner to my hus...  \n",
      "996  b'We stayed 2 nights in the Grouse room (2nd f...  \n",
      "997  b\"I almost never write reviews, but our experi...  \n",
      "998  b'We have stayed in numerous places in the Met...  \n",
      "999  b\"We drove up to Winthrop for their Christmas ...  \n",
      "\n"
     ]
    },
    {
     "name": "stdout",
     "output_type": "stream",
     "text": [
      "[1000 rows x 5 columns]\n"
     ]
    }
   ],
   "source": [
    "print(df_small)\n",
    "save_dataset(df_small, \"df_small.csv\")\n"
   ]
  },
  {
   "cell_type": "code",
   "execution_count": null,
   "metadata": {},
   "outputs": [],
   "source": []
  },
  {
   "cell_type": "markdown",
   "metadata": {},
   "source": [
    "## 4. Sentiment Analysis"
   ]
  },
  {
   "cell_type": "markdown",
   "metadata": {},
   "source": [
    "### 4.1 Pros and Cons of Various Approaches"
   ]
  },
  {
   "cell_type": "markdown",
   "metadata": {},
   "source": [
    "### 4.2 Approach 1: Google Natural Language API"
   ]
  },
  {
   "cell_type": "markdown",
   "metadata": {},
   "source": [
    "#### 4.2.1 Getting Google Sentiment Scores"
   ]
  },
  {
   "cell_type": "code",
   "execution_count": 73,
   "metadata": {},
   "outputs": [
    {
     "name": "stdout",
     "output_type": "stream",
     "text": [
      "Price to calculate sentiment scores for the entire cleaned dataset: $30.00\n",
      "Price to calculate sentiment scores for the truncated cleaned dataset: $0.00\n"
     ]
    }
   ],
   "source": [
    "# estimates the price for runnning sentiment analysis on a dataframe's reviews. This function assumes that this is\n",
    "# the only use of the sentiment analysis API for the billing month, so actual prices may differ (as the first \n",
    "# 5000 units are free, and discounts are applied to units used after cetain thresholds are met on a monthly basis, not\n",
    "# per use case), but this serves as a useful estimate when deciding whether to use this approach\n",
    "def estimate_sentiment_price(frame):\n",
    "    \n",
    "    units = 0\n",
    "    \n",
    "    #print(len(frame[\"reviews.length\"]))\n",
    "    \n",
    "    for i in frame[\"reviews.length\"]:\n",
    "        \n",
    "        #print(i)\n",
    "        #one unit for every 1000 characters in the text (rounded up)\n",
    "        #\n",
    "        #note: given that I have culled all reviews above 450 characters, all reviews here are worth 1 unit,\n",
    "        # but this method will work to calculate units if I decide in future to include longer reviews\n",
    "        units += math.ceil(i / 1000.0)\n",
    "        \n",
    "    price = 0\n",
    "        \n",
    "    while (units > 5000000):\n",
    "        print(units)\n",
    "        units -= 1000\n",
    "        price += 0.25\n",
    "            \n",
    "    while units > 1000000:\n",
    "        units -= 1000\n",
    "        price += 0.5\n",
    "            \n",
    "    while units > 5000:\n",
    "        units -= 1000\n",
    "        price += 1\n",
    "    \n",
    "    return price    \n",
    "    \n",
    "print(\"Price to calculate sentiment scores for the entire cleaned dataset: ${:,.2f}\".format(estimate_sentiment_price(df)))\n",
    "print(\"Price to calculate sentiment scores for the truncated cleaned dataset: ${:,.2f}\".format(estimate_sentiment_price(df_small)))\n",
    "\n",
    "\n",
    "\n",
    "\n"
   ]
  },
  {
   "cell_type": "code",
   "execution_count": 735,
   "metadata": {},
   "outputs": [
    {
     "name": "stdout",
     "output_type": "stream",
     "text": [
      "0.8999999761581421\n",
      "-0.8999999761581421\n",
      "-0.30000001192092896\n",
      "0.8999999761581421\n"
     ]
    }
   ],
   "source": [
    "lang_client = language.LanguageServiceClient()\n",
    "\n",
    "def get_google_sentiment_score(text):\n",
    "    \n",
    "    #print(text.decode(\"utf-8\"))\n",
    "    \n",
    "    document = gc_types.Document(content=text.decode(\"utf-8\"), type=\"PLAIN_TEXT\")\n",
    "    \n",
    "    #make sure we dont hit against any rate limits\n",
    "    while(True):\n",
    "        try:\n",
    "            response = lang_client.analyze_sentiment(document=document)\n",
    "        except Forbidden as e:\n",
    "            time.sleep(1)\n",
    "            continue\n",
    "        break\n",
    "\n",
    "    \n",
    "    sentiment = response.document_sentiment\n",
    "\n",
    "    return sentiment.score\n",
    "    \n",
    "print(get_google_sentiment_score(b\"This is Great!\"))\n",
    "    \n",
    "print(get_google_sentiment_score(b\"This sucks!\"))\n",
    "\n",
    "print(get_google_sentiment_score(b\"I'm ambivalent about this!\"))\n",
    "\n",
    "print(get_google_sentiment_score(b\"Tres bon!\"))"
   ]
  },
  {
   "cell_type": "markdown",
   "metadata": {},
   "source": [
    "#### 4.2.2 Scoring Each Review in the Dataset"
   ]
  },
  {
   "cell_type": "code",
   "execution_count": 77,
   "metadata": {},
   "outputs": [],
   "source": [
    "def get_google_cloud_sentiment_scores_dataframe(frame):\n",
    "    \n",
    "    frame.loc[:,:][\"gc_sentiment\"] = frame[\"translated_text\"].progress_map(get_google_sentiment_score)\n",
    "    \n",
    "    return frame\n",
    "    \n",
    "    \n",
    "    "
   ]
  },
  {
   "cell_type": "code",
   "execution_count": 78,
   "metadata": {},
   "outputs": [
    {
     "name": "stdout",
     "output_type": "stream",
     "text": [
      "   Unnamed: 0  reviews.rating  \\\n",
      "0           0             4.0   \n",
      "1           1             5.0   \n",
      "2           2             5.0   \n",
      "3           3             5.0   \n",
      "4           4             5.0   \n",
      "\n",
      "                                        reviews.text  reviews.length  \\\n",
      "0  b\"Pleasant 10 min walk along the sea front to ...             194   \n",
      "1  b\"Really lovely hotel. Stayed on the very top ...             252   \n",
      "2  b'Ett mycket bra hotell. Det som drog ner bety...             136   \n",
      "3  b'We stayed here for four nights in October. T...             354   \n",
      "4  b'We loved staying on the island of Lido! You ...             326   \n",
      "\n",
      "  detected_language                                    translated_text  \\\n",
      "0         ('en', 1)  b\"Pleasant 10 min walk along the sea front to ...   \n",
      "1         ('en', 1)  b\"Really lovely hotel. Stayed on the very top ...   \n",
      "2         ('sv', 1)  b'A very good hotel. What pulled down the grad...   \n",
      "3         ('en', 1)  b'We stayed here for four nights in October. T...   \n",
      "4         ('en', 1)  b'We loved staying on the island of Lido! You ...   \n",
      "\n",
      "   gc_sentiment  \n",
      "0           0.2  \n",
      "1           0.6  \n",
      "2           0.3  \n",
      "3           0.6  \n",
      "4           0.7  \n"
     ]
    },
    {
     "data": {
      "application/vnd.jupyter.widget-view+json": {
       "model_id": "d8d5aa7f060744f1a3c98d6fcaaef0ce",
       "version_major": 2,
       "version_minor": 0
      },
      "text/plain": [
       "HBox(children=(IntProgress(value=0, max=5), HTML(value='')))"
      ]
     },
     "metadata": {},
     "output_type": "display_data"
    },
    {
     "name": "stdout",
     "output_type": "stream",
     "text": [
      "   Unnamed: 0  reviews.rating  \\\n",
      "0           0             4.0   \n",
      "1           1             5.0   \n",
      "2           2             5.0   \n",
      "3           3             5.0   \n",
      "4           4             5.0   \n",
      "\n",
      "                                        reviews.text  reviews.length  \\\n",
      "0  b\"Pleasant 10 min walk along the sea front to ...             194   \n",
      "1  b\"Really lovely hotel. Stayed on the very top ...             252   \n",
      "2  b'Ett mycket bra hotell. Det som drog ner bety...             136   \n",
      "3  b'We stayed here for four nights in October. T...             354   \n",
      "4  b'We loved staying on the island of Lido! You ...             326   \n",
      "\n",
      "  detected_language                                    translated_text  \\\n",
      "0         ('en', 1)  b\"Pleasant 10 min walk along the sea front to ...   \n",
      "1         ('en', 1)  b\"Really lovely hotel. Stayed on the very top ...   \n",
      "2         ('sv', 1)  b'A very good hotel. What pulled down the grad...   \n",
      "3         ('en', 1)  b'We stayed here for four nights in October. T...   \n",
      "4         ('en', 1)  b'We loved staying on the island of Lido! You ...   \n",
      "\n",
      "   gc_sentiment  \n",
      "0           0.2  \n",
      "1           0.6  \n",
      "2           0.3  \n",
      "3           0.6  \n",
      "4           0.7  \n"
     ]
    }
   ],
   "source": [
    "#test on the tiny dataset first to ensure that the API calls work\n",
    "\n",
    "print(df_tiny)\n",
    "\n",
    "df_tiny = get_google_cloud_sentiment_scores_dataframe(df_tiny)\n",
    "\n",
    "print(df_tiny)"
   ]
  },
  {
   "cell_type": "code",
   "execution_count": 79,
   "metadata": {},
   "outputs": [
    {
     "data": {
      "application/vnd.jupyter.widget-view+json": {
       "model_id": "d181afe9a6f241e18b75c0e04d6fbf47",
       "version_major": 2,
       "version_minor": 0
      },
      "text/plain": [
       "HBox(children=(IntProgress(value=0, max=1000), HTML(value='')))"
      ]
     },
     "metadata": {},
     "output_type": "display_data"
    },
    {
     "name": "stderr",
     "output_type": "stream",
     "text": [
      "C:\\Users\\lenovo\\Anaconda3\\lib\\site-packages\\ipykernel_launcher.py:3: SettingWithCopyWarning: \n",
      "A value is trying to be set on a copy of a slice from a DataFrame.\n",
      "Try using .loc[row_indexer,col_indexer] = value instead\n",
      "\n",
      "See the caveats in the documentation: http://pandas.pydata.org/pandas-docs/stable/indexing.html#indexing-view-versus-copy\n",
      "  This is separate from the ipykernel package so we can avoid doing imports until\n"
     ]
    }
   ],
   "source": [
    "df_small = get_google_cloud_sentiment_scores_dataframe(df_small)\n",
    "\n",
    "\n",
    "\n"
   ]
  },
  {
   "cell_type": "markdown",
   "metadata": {},
   "source": [
    "#### 4.2.2 Evaluating Resultant Sentiment Scores"
   ]
  },
  {
   "cell_type": "code",
   "execution_count": 82,
   "metadata": {},
   "outputs": [
    {
     "name": "stdout",
     "output_type": "stream",
     "text": [
      "reviews.rating                                                       3\n",
      "reviews.text         b'It was ok hotel is nice from in and out but ...\n",
      "reviews.length                                                     112\n",
      "detected_language                                              (en, 1)\n",
      "translated_text      b'It was ok hotel is nice from in and out but ...\n",
      "gc_sentiment                                                      -0.2\n",
      "Name: 9, dtype: object\n"
     ]
    }
   ],
   "source": [
    "print(df_small.loc[9,:])"
   ]
  },
  {
   "cell_type": "code",
   "execution_count": 91,
   "metadata": {},
   "outputs": [
    {
     "name": "stdout",
     "output_type": "stream",
     "text": [
      "Pearson co-efficient:  0.6544873197926278\n",
      "Spearman co-efficient:  0.5898236866015896\n"
     ]
    }
   ],
   "source": [
    "print(\"Pearson co-efficient: \",df_small[\"reviews.rating\"].corr(df_small[\"gc_sentiment\"]))\n",
    "print(\"Spearman co-efficient: \",df_small[\"reviews.rating\"].corr(df_small[\"gc_sentiment\"], method=\"spearman\"))"
   ]
  },
  {
   "cell_type": "code",
   "execution_count": 97,
   "metadata": {},
   "outputs": [
    {
     "data": {
      "text/plain": [
       "<matplotlib.axes._subplots.AxesSubplot at 0x200ec68db38>"
      ]
     },
     "execution_count": 97,
     "metadata": {},
     "output_type": "execute_result"
    },
    {
     "data": {
      "image/png": "[encoded data removed]",
      "text/plain": [
       "<Figure size 432x288 with 1 Axes>"
      ]
     },
     "metadata": {
      "needs_background": "light"
     },
     "output_type": "display_data"
    }
   ],
   "source": [
    "df_small.boxplot(column=\"gc_sentiment\", by=\"reviews.rating\")\n"
   ]
  },
  {
   "cell_type": "code",
   "execution_count": null,
   "metadata": {},
   "outputs": [],
   "source": []
  },
  {
   "cell_type": "markdown",
   "metadata": {},
   "source": [
    "With a correlation coefficient of ~+0.65, this method of obtaining sentiment scores seems to be very highly correlated "
   ]
  },
  {
   "cell_type": "markdown",
   "metadata": {},
   "source": [
    "To generate scores representing a the difference between the obtained sentiment scores and the given ratings, I will remap the sentiment scores from the range -1.0 to +1.0 to 1.0-5.0, and calculate the absolute difference between that and the review rating "
   ]
  },
  {
   "cell_type": "code",
   "execution_count": 146,
   "metadata": {},
   "outputs": [],
   "source": [
    "def remap_range(input, input_range=(-1.0,1.0),output_range=(1.0,5.0)):\n",
    "    return ( (input - input_range[0]) / (input_range[1] - input_range[0]) ) * (output_range[1] - output_range[0]) + output_range[0]    \n",
    "\n",
    "def remap_sentiment_score(input):\n",
    "    \n",
    "    return remap_range(input, input_range=(-1.0,1.0), output_range=(1.0,5.0)) \n",
    "\n",
    "\n",
    "#print(remap_sentiment_rating(-1))\n",
    "\n",
    "def get_sentiment_difference_score(sentiment_score,rating):\n",
    "\n",
    "    #remap the sentiment scores to the rating range (ie. 1.0-5.0)\n",
    "    remapped_sentiment_score = remap_sentiment_score(sentiment_score)\n",
    "    #print(remapped_sentiment_score)\n",
    "    \n",
    "    \n",
    "    #get the absolute difference between the two and reverse it\n",
    "    score_difference = 4 - abs(remapped_sentiment_score - rating)\n",
    "    \n",
    "    #print(score_difference)\n",
    "\n",
    "    return remap_range(score_difference, input_range=(0.0,4.0), output_range=(0.0,1.0))\n",
    "\n",
    "\n",
    "#make sure these functions do as they are expected\n",
    "assert remap_sentiment_score(1.0) == 5\n",
    "assert remap_sentiment_score(-1.0) == 1\n",
    "\n",
    "assert get_sentiment_difference_score(1,5) == 1\n",
    "assert get_sentiment_difference_score(-1,5) == 0\n"
   ]
  },
  {
   "cell_type": "code",
   "execution_count": 669,
   "metadata": {},
   "outputs": [],
   "source": [
    "df_small[\"gc_sentiment_difference_rating\"] = df_small.apply(lambda x: \n",
    "                                                            get_sentiment_difference_score(x[\"gc_sentiment\"],\n",
    "                                                                                          x[\"reviews.rating\"]),\n",
    "                                                           axis=1)\n",
    "\n",
    "\n"
   ]
  },
  {
   "cell_type": "code",
   "execution_count": 670,
   "metadata": {},
   "outputs": [
    {
     "data": {
      "text/plain": [
       "<Figure size 432x288 with 0 Axes>"
      ]
     },
     "execution_count": 670,
     "metadata": {},
     "output_type": "execute_result"
    },
    {
     "data": {
      "image/png": "[encoded data removed]",
      "text/plain": [
       "<Figure size 432x288 with 1 Axes>"
      ]
     },
     "metadata": {
      "needs_background": "light"
     },
     "output_type": "display_data"
    },
    {
     "data": {
      "image/png": "[encoded data removed]",
      "text/plain": [
       "<Figure size 432x288 with 1 Axes>"
      ]
     },
     "metadata": {
      "needs_background": "light"
     },
     "output_type": "display_data"
    },
    {
     "data": {
      "image/png": "[encoded data removed]",
      "text/plain": [
       "<Figure size 432x288 with 1 Axes>"
      ]
     },
     "metadata": {
      "needs_background": "light"
     },
     "output_type": "display_data"
    },
    {
     "data": {
      "image/png": "[encoded data removed]",
      "text/plain": [
       "<Figure size 432x288 with 1 Axes>"
      ]
     },
     "metadata": {
      "needs_background": "light"
     },
     "output_type": "display_data"
    },
    {
     "data": {
      "image/png": "[encoded data removed]",
      "text/plain": [
       "<Figure size 432x288 with 1 Axes>"
      ]
     },
     "metadata": {
      "needs_background": "light"
     },
     "output_type": "display_data"
    },
    {
     "data": {
      "text/plain": [
       "<Figure size 432x288 with 0 Axes>"
      ]
     },
     "metadata": {},
     "output_type": "display_data"
    }
   ],
   "source": [
    "df_small[df_small[\"reviews.rating\"] == 1.0][\"gc_sentiment\"].hist()\n",
    "plt.figure()\n",
    "df_small[df_small[\"reviews.rating\"] == 2.0][\"gc_sentiment\"].hist()\n",
    "plt.figure()\n",
    "df_small[df_small[\"reviews.rating\"] == 3.0][\"gc_sentiment\"].hist()\n",
    "plt.figure()\n",
    "df_small[df_small[\"reviews.rating\"] == 4.0][\"gc_sentiment\"].hist()\n",
    "plt.figure()\n",
    "df_small[df_small[\"reviews.rating\"] == 5.0][\"gc_sentiment\"].hist()\n",
    "plt.figure()"
   ]
  },
  {
   "cell_type": "code",
   "execution_count": 671,
   "metadata": {},
   "outputs": [
    {
     "data": {
      "text/plain": [
       "<Figure size 432x288 with 0 Axes>"
      ]
     },
     "execution_count": 671,
     "metadata": {},
     "output_type": "execute_result"
    },
    {
     "data": {
      "image/png": "[encoded data removed]",
      "text/plain": [
       "<Figure size 432x288 with 1 Axes>"
      ]
     },
     "metadata": {
      "needs_background": "light"
     },
     "output_type": "display_data"
    },
    {
     "data": {
      "image/png": "[encoded data removed]",
      "text/plain": [
       "<Figure size 432x288 with 1 Axes>"
      ]
     },
     "metadata": {
      "needs_background": "light"
     },
     "output_type": "display_data"
    },
    {
     "data": {
      "image/png": "[encoded data removed]",
      "text/plain": [
       "<Figure size 432x288 with 1 Axes>"
      ]
     },
     "metadata": {
      "needs_background": "light"
     },
     "output_type": "display_data"
    },
    {
     "data": {
      "text/plain": [
       "<Figure size 432x288 with 0 Axes>"
      ]
     },
     "metadata": {},
     "output_type": "display_data"
    }
   ],
   "source": [
    "\n",
    "df_small[\"gc_sentiment_difference_rating\"].hist(bins=20)\n",
    "plt.suptitle(\"Histogram for distribution of sentiment difference ratings\")\n",
    "plt.figure()\n",
    "\n",
    "df_small[df_small[\"detected_language\"].str[0] != \"en\"][\"gc_sentiment_difference_rating\"].hist(bins=20)\n",
    "plt.suptitle(\"Histogram for distribution of sentiment difference ratings\\n(Non-english reviews only)\")\n",
    "plt.figure()\n",
    "\n",
    "df_small[df_small[\"detected_language\"].str[0] == \"en\"][\"gc_sentiment_difference_rating\"].hist(bins=20)\n",
    "plt.suptitle(\"Histogram for distribution of sentiment difference ratings\\n(English reviews only)\")\n",
    "plt.figure()"
   ]
  },
  {
   "cell_type": "markdown",
   "metadata": {},
   "source": [
    "Looking at the histograms for sentiment difference ratings, we can see that most reviews are given a very high score, indicating that there is a very high correlation between sentiment score and rating. This does not seem to be affected greatly by whether the reviews were translated from a non-english language, suggesting that the Google translate system does well at keeping relevant sentiment informtion when translating.\n",
    "\n",
    "Hoewver, there are a small number where the sentiment score and the given review rating are very discordant, and it would be worthwhile to drill into those reviews to examine where the discrepancy lies."
   ]
  },
  {
   "cell_type": "code",
   "execution_count": 165,
   "metadata": {},
   "outputs": [
    {
     "data": {
      "text/html": [
       "<div>\n",
       "<style scoped>\n",
       "    .dataframe tbody tr th:only-of-type {\n",
       "        vertical-align: middle;\n",
       "    }\n",
       "\n",
       "    .dataframe tbody tr th {\n",
       "        vertical-align: top;\n",
       "    }\n",
       "\n",
       "    .dataframe thead th {\n",
       "        text-align: right;\n",
       "    }\n",
       "</style>\n",
       "<table border=\"1\" class=\"dataframe\">\n",
       "  <thead>\n",
       "    <tr style=\"text-align: right;\">\n",
       "      <th></th>\n",
       "      <th>translated_text</th>\n",
       "      <th>reviews.rating</th>\n",
       "      <th>gc_sentiment</th>\n",
       "      <th>detected_language</th>\n",
       "      <th>gc_sentiment_difference_rating</th>\n",
       "    </tr>\n",
       "  </thead>\n",
       "  <tbody>\n",
       "    <tr>\n",
       "      <th>755</th>\n",
       "      <td>b'the free wifii was very slow -- had to pay f...</td>\n",
       "      <td>5.0</td>\n",
       "      <td>-0.8</td>\n",
       "      <td>(en, 1)</td>\n",
       "      <td>0.10</td>\n",
       "    </tr>\n",
       "    <tr>\n",
       "      <th>777</th>\n",
       "      <td>b'The hotel was on the whole okay, only the su...</td>\n",
       "      <td>5.0</td>\n",
       "      <td>-0.7</td>\n",
       "      <td>(de, 1)</td>\n",
       "      <td>0.15</td>\n",
       "    </tr>\n",
       "    <tr>\n",
       "      <th>86</th>\n",
       "      <td>b\"Let's face it, this is NOT in the Livermore ...</td>\n",
       "      <td>5.0</td>\n",
       "      <td>-0.7</td>\n",
       "      <td>(en, 1)</td>\n",
       "      <td>0.15</td>\n",
       "    </tr>\n",
       "    <tr>\n",
       "      <th>911</th>\n",
       "      <td>b'It was terrible. Would never stayhere agian....</td>\n",
       "      <td>5.0</td>\n",
       "      <td>-0.7</td>\n",
       "      <td>(en, 1)</td>\n",
       "      <td>0.15</td>\n",
       "    </tr>\n",
       "    <tr>\n",
       "      <th>793</th>\n",
       "      <td>b'We had our family reunion there and it was a...</td>\n",
       "      <td>1.0</td>\n",
       "      <td>0.6</td>\n",
       "      <td>(en, 1)</td>\n",
       "      <td>0.20</td>\n",
       "    </tr>\n",
       "    <tr>\n",
       "      <th>177</th>\n",
       "      <td>b'The rooms were OK, but there was no insulati...</td>\n",
       "      <td>5.0</td>\n",
       "      <td>-0.6</td>\n",
       "      <td>(en, 1)</td>\n",
       "      <td>0.20</td>\n",
       "    </tr>\n",
       "    <tr>\n",
       "      <th>827</th>\n",
       "      <td>b'Great break but tv channels were not availab...</td>\n",
       "      <td>5.0</td>\n",
       "      <td>-0.5</td>\n",
       "      <td>(en, 1)</td>\n",
       "      <td>0.25</td>\n",
       "    </tr>\n",
       "    <tr>\n",
       "      <th>428</th>\n",
       "      <td>b'The food at breakfast was good but we had to...</td>\n",
       "      <td>4.0</td>\n",
       "      <td>-0.8</td>\n",
       "      <td>(en, 1)</td>\n",
       "      <td>0.35</td>\n",
       "    </tr>\n",
       "    <tr>\n",
       "      <th>810</th>\n",
       "      <td>b\"We've lived in the area for twelve years but...</td>\n",
       "      <td>1.0</td>\n",
       "      <td>0.3</td>\n",
       "      <td>(en, 1)</td>\n",
       "      <td>0.35</td>\n",
       "    </tr>\n",
       "    <tr>\n",
       "      <th>892</th>\n",
       "      <td>b'After 22hrs. of driving all I was looking fo...</td>\n",
       "      <td>1.0</td>\n",
       "      <td>0.2</td>\n",
       "      <td>(en, 1)</td>\n",
       "      <td>0.40</td>\n",
       "    </tr>\n",
       "    <tr>\n",
       "      <th>851</th>\n",
       "      <td>b\"Rooms: cell block size and feel Bedding: old...</td>\n",
       "      <td>1.0</td>\n",
       "      <td>0.2</td>\n",
       "      <td>(en, 1)</td>\n",
       "      <td>0.40</td>\n",
       "    </tr>\n",
       "    <tr>\n",
       "      <th>183</th>\n",
       "      <td>b'My husband and I had been making a trip to C...</td>\n",
       "      <td>1.0</td>\n",
       "      <td>0.2</td>\n",
       "      <td>(en, 1)</td>\n",
       "      <td>0.40</td>\n",
       "    </tr>\n",
       "    <tr>\n",
       "      <th>494</th>\n",
       "      <td>b'Pool staff do not enforce rules. Many adults...</td>\n",
       "      <td>1.0</td>\n",
       "      <td>0.2</td>\n",
       "      <td>(en, 1)</td>\n",
       "      <td>0.40</td>\n",
       "    </tr>\n",
       "    <tr>\n",
       "      <th>924</th>\n",
       "      <td>b'we had a nonsmoking room that was apparently...</td>\n",
       "      <td>5.0</td>\n",
       "      <td>-0.2</td>\n",
       "      <td>(en, 1)</td>\n",
       "      <td>0.40</td>\n",
       "    </tr>\n",
       "    <tr>\n",
       "      <th>775</th>\n",
       "      <td>b'The hotel was on the whole okay, only the su...</td>\n",
       "      <td>4.0</td>\n",
       "      <td>-0.7</td>\n",
       "      <td>(de, 1)</td>\n",
       "      <td>0.40</td>\n",
       "    </tr>\n",
       "    <tr>\n",
       "      <th>867</th>\n",
       "      <td>b'You can learn your way around with the green...</td>\n",
       "      <td>2.0</td>\n",
       "      <td>0.6</td>\n",
       "      <td>(en, 1)</td>\n",
       "      <td>0.45</td>\n",
       "    </tr>\n",
       "    <tr>\n",
       "      <th>670</th>\n",
       "      <td>b'Expedia really screwed up our reservations a...</td>\n",
       "      <td>4.0</td>\n",
       "      <td>-0.6</td>\n",
       "      <td>(en, 1)</td>\n",
       "      <td>0.45</td>\n",
       "    </tr>\n",
       "    <tr>\n",
       "      <th>324</th>\n",
       "      <td>b\"Free breakfast was great dinner not so much....</td>\n",
       "      <td>5.0</td>\n",
       "      <td>-0.1</td>\n",
       "      <td>(en, 1)</td>\n",
       "      <td>0.45</td>\n",
       "    </tr>\n",
       "    <tr>\n",
       "      <th>761</th>\n",
       "      <td>b'We have been to this hotel very often so far...</td>\n",
       "      <td>5.0</td>\n",
       "      <td>-0.1</td>\n",
       "      <td>(de, 1)</td>\n",
       "      <td>0.45</td>\n",
       "    </tr>\n",
       "    <tr>\n",
       "      <th>888</th>\n",
       "      <td>b\"I'm not sure why this hotel has so many grea...</td>\n",
       "      <td>1.0</td>\n",
       "      <td>0.1</td>\n",
       "      <td>(en, 1)</td>\n",
       "      <td>0.45</td>\n",
       "    </tr>\n",
       "  </tbody>\n",
       "</table>\n",
       "</div>"
      ],
      "text/plain": [
       "                                       translated_text  reviews.rating  \\\n",
       "755  b'the free wifii was very slow -- had to pay f...             5.0   \n",
       "777  b'The hotel was on the whole okay, only the su...             5.0   \n",
       "86   b\"Let's face it, this is NOT in the Livermore ...             5.0   \n",
       "911  b'It was terrible. Would never stayhere agian....             5.0   \n",
       "793  b'We had our family reunion there and it was a...             1.0   \n",
       "177  b'The rooms were OK, but there was no insulati...             5.0   \n",
       "827  b'Great break but tv channels were not availab...             5.0   \n",
       "428  b'The food at breakfast was good but we had to...             4.0   \n",
       "810  b\"We've lived in the area for twelve years but...             1.0   \n",
       "892  b'After 22hrs. of driving all I was looking fo...             1.0   \n",
       "851  b\"Rooms: cell block size and feel Bedding: old...             1.0   \n",
       "183  b'My husband and I had been making a trip to C...             1.0   \n",
       "494  b'Pool staff do not enforce rules. Many adults...             1.0   \n",
       "924  b'we had a nonsmoking room that was apparently...             5.0   \n",
       "775  b'The hotel was on the whole okay, only the su...             4.0   \n",
       "867  b'You can learn your way around with the green...             2.0   \n",
       "670  b'Expedia really screwed up our reservations a...             4.0   \n",
       "324  b\"Free breakfast was great dinner not so much....             5.0   \n",
       "761  b'We have been to this hotel very often so far...             5.0   \n",
       "888  b\"I'm not sure why this hotel has so many grea...             1.0   \n",
       "\n",
       "     gc_sentiment detected_language  gc_sentiment_difference_rating  \n",
       "755          -0.8           (en, 1)                            0.10  \n",
       "777          -0.7           (de, 1)                            0.15  \n",
       "86           -0.7           (en, 1)                            0.15  \n",
       "911          -0.7           (en, 1)                            0.15  \n",
       "793           0.6           (en, 1)                            0.20  \n",
       "177          -0.6           (en, 1)                            0.20  \n",
       "827          -0.5           (en, 1)                            0.25  \n",
       "428          -0.8           (en, 1)                            0.35  \n",
       "810           0.3           (en, 1)                            0.35  \n",
       "892           0.2           (en, 1)                            0.40  \n",
       "851           0.2           (en, 1)                            0.40  \n",
       "183           0.2           (en, 1)                            0.40  \n",
       "494           0.2           (en, 1)                            0.40  \n",
       "924          -0.2           (en, 1)                            0.40  \n",
       "775          -0.7           (de, 1)                            0.40  \n",
       "867           0.6           (en, 1)                            0.45  \n",
       "670          -0.6           (en, 1)                            0.45  \n",
       "324          -0.1           (en, 1)                            0.45  \n",
       "761          -0.1           (de, 1)                            0.45  \n",
       "888           0.1           (en, 1)                            0.45  "
      ]
     },
     "execution_count": 165,
     "metadata": {},
     "output_type": "execute_result"
    }
   ],
   "source": [
    "#sort the df by sentiment difference rating, and get the lowest 20 reviews to examine individually\n",
    "df_worst_scores = df_small.sort_values(\"gc_sentiment_difference_rating\").head(20)\n",
    "\n",
    "df_worst_scores.loc[:,[\"translated_text\", \"reviews.rating\", \"gc_sentiment\", \"detected_language\", \"gc_sentiment_difference_rating\"]]"
   ]
  },
  {
   "cell_type": "code",
   "execution_count": 171,
   "metadata": {},
   "outputs": [
    {
     "name": "stdout",
     "output_type": "stream",
     "text": [
      "the free wifii was very slow -- had to pay for wifii (price was ok) one can only get 3 devices online - they should increase the number of devices now that everyone carries at least a smart phone, ipad and maybe a laptop \n",
      "\n",
      "The hotel was on the whole okay, only the surrounding area with the construction site was not so exciting \n",
      "\n",
      "The hotel was on the whole okay, only the surrounding area with the construction site was not so exciting \n",
      "\n",
      "You can learn your way around with the green QR code tour. Use SCVNGR on property to get 1/2 off an appetizer or write a review online to win a $100 gift card! \n",
      "\n"
     ]
    }
   ],
   "source": [
    "print(df_worst_scores.loc[755,:][\"translated_text\"].decode(\"utf-8\"), \"\\n\")\n",
    "\n",
    "print(df_worst_scores.loc[777,:][\"translated_text\"].decode(\"utf-8\"), \"\\n\")\n",
    "\n",
    "print(df_worst_scores.loc[775,:][\"translated_text\"].decode(\"utf-8\"), \"\\n\")\n",
    "\n",
    "print(df_worst_scores.loc[867,:][\"translated_text\"].decode(\"utf-8\"), \"\\n\")"
   ]
  },
  {
   "cell_type": "markdown",
   "metadata": {},
   "source": [
    "Examining these reviews in closer detail shows that for most of these, the sentiment scores seem to align with a naive understanding of the text of the review (if a review *seems* negative, that is reflected in the sentiment score). This suggests that maybe the scraper used to create the dataset is occasionally asssigning the wrong review text to each rating. This hypothesis is given further creedence by the fact that two of the reviews (namely reviews 775 and 777) in the selection above have the exact same text.   "
   ]
  },
  {
   "cell_type": "markdown",
   "metadata": {},
   "source": [
    "### 4.3 Approach 2: SentiWordNet Average Sentiment Scores"
   ]
  },
  {
   "cell_type": "code",
   "execution_count": 206,
   "metadata": {},
   "outputs": [
    {
     "name": "stderr",
     "output_type": "stream",
     "text": [
      "[nltk_data] Downloading package punkt to\n",
      "[nltk_data]     C:\\Users\\lenovo\\AppData\\Roaming\\nltk_data...\n",
      "[nltk_data]   Package punkt is already up-to-date!\n",
      "[nltk_data] Downloading package averaged_perceptron_tagger to\n",
      "[nltk_data]     C:\\Users\\lenovo\\AppData\\Roaming\\nltk_data...\n",
      "[nltk_data]   Package averaged_perceptron_tagger is already up-to-\n",
      "[nltk_data]       date!\n",
      "[nltk_data] Downloading package sentiwordnet to\n",
      "[nltk_data]     C:\\Users\\lenovo\\AppData\\Roaming\\nltk_data...\n",
      "[nltk_data]   Package sentiwordnet is already up-to-date!\n",
      "[nltk_data] Downloading package wordnet to\n",
      "[nltk_data]     C:\\Users\\lenovo\\AppData\\Roaming\\nltk_data...\n",
      "[nltk_data]   Unzipping corpora\\wordnet.zip.\n"
     ]
    },
    {
     "data": {
      "text/plain": [
       "True"
      ]
     },
     "execution_count": 206,
     "metadata": {},
     "output_type": "execute_result"
    }
   ],
   "source": [
    "nltk.download(\"punkt\")\n",
    "nltk.download('averaged_perceptron_tagger')\n",
    "nltk.download('sentiwordnet')\n",
    "nltk.download('wordnet')\n",
    "    "
   ]
  },
  {
   "cell_type": "markdown",
   "metadata": {},
   "source": [
    "#### 4.3.1 Defining the Scoring Function"
   ]
  },
  {
   "cell_type": "code",
   "execution_count": 730,
   "metadata": {},
   "outputs": [
    {
     "name": "stdout",
     "output_type": "stream",
     "text": [
      "0.25\n",
      "-0.625\n",
      "-0.05\n",
      "-0.2916666666666667\n",
      "0.59375\n"
     ]
    }
   ],
   "source": [
    "\n",
    "def penn_tag_to_wn_tag(tag):\n",
    "    \n",
    "    wn_tag = \"\"\n",
    "    \n",
    "    if tag.startswith(\"NN\"): \n",
    "        wn_tag = wn.NOUN\n",
    "    elif tag.startswith(\"VB\"):\n",
    "        wn_tag = wn.VERB\n",
    "    elif tag.startswith(\"JJ\"):\n",
    "        wn_tag = wn.ADJ\n",
    "    elif tag.startswith(\"RB\"):\n",
    "        wn_tag = wn.ADV\n",
    "    \n",
    "    return wn_tag\n",
    "    \n",
    "\n",
    "def get_swn_sentiment_scores(text):\n",
    "    \n",
    "    #tokenise \n",
    "    words = nltk.word_tokenize(text)\n",
    "    \n",
    "    pos_tags = nltk.pos_tag(words)\n",
    "    \n",
    "    \n",
    "    pos_tags = [(i[0], penn_tag_to_wn_tag(i[1])) for i in pos_tags if penn_tag_to_wn_tag(i[1]) != \"\"]\n",
    "    \n",
    "    \n",
    "    lem = WordNetLemmatizer()\n",
    "    \n",
    "    \n",
    "    synsets = [(lem.lemmatize(i[0], i[1]), i[1]) for i in pos_tags]\n",
    "    synsets = [list(swn.senti_synsets(i[0],i[1])) for i in synsets]\n",
    "    \n",
    "    #print(len(senti_scores))\n",
    "    \n",
    "    scores = []\n",
    "    for i in range(0, len(synsets)):\n",
    "        \n",
    "        if (len(synsets[i]) == 0):\n",
    "            continue #ignore words which dont have a synset\n",
    "        \n",
    "        synset = synsets[i][0]\n",
    "        \n",
    "        scores.append({\"pos_score\" : synset.pos_score(),\n",
    "                       \"neg_score\" : synset.neg_score()})\n",
    "    \n",
    "    return scores\n",
    "\n",
    "#print(list(swn.senti_synsets(\"good\", \"n\")))\n",
    "\n",
    "def get_average_swn_sentiment_score(text):\n",
    "    \n",
    "    scores = get_swn_sentiment_scores(text)\n",
    "    \n",
    "    score = 0\n",
    "    emotive_words = 0\n",
    "    \n",
    "    #if there arent any synsets in the text, return neutral\n",
    "    if len(scores) == 0:\n",
    "        return 0\n",
    "    \n",
    "    for i in scores:\n",
    "        #print(i)\n",
    "        if ((i[\"pos_score\"] != 0) or (i[\"neg_score\"] != 0)):\n",
    "            emotive_words += 1\n",
    "            \n",
    "        \n",
    "        score += i[\"pos_score\"]\n",
    "        score -= i[\"neg_score\"]\n",
    "            \n",
    "    if (emotive_words == 0):\n",
    "        return 0 #if there were no words with emotive content in the review return neutral\n",
    "\n",
    "    return score / emotive_words\n",
    "\n",
    "scores1 = \"this is a bad hotel with good wifi and wonderful ambience\"\n",
    "scores2 = \"this isnt a bad hotel\"\n",
    "scores3 = \"I am ambivalent about this hotel and wish it was better\"\n",
    "scores4 = \"...no problems with this hotel exept that the pool was small\"\n",
    "scores5 = \"good hotel good fun. loved it\"\n",
    "        \n",
    "print(get_average_swn_sentiment_score(scores1))\n",
    "print(get_average_swn_sentiment_score(scores2))\n",
    "print(get_average_swn_sentiment_score(scores3))\n",
    "print(get_average_swn_sentiment_score(scores4))\n",
    "print(get_average_swn_sentiment_score(scores5))\n",
    "\n",
    "\n"
   ]
  },
  {
   "cell_type": "markdown",
   "metadata": {},
   "source": [
    "#### 4.3.2 Scoring Each Review in the Dataset"
   ]
  },
  {
   "cell_type": "code",
   "execution_count": 731,
   "metadata": {},
   "outputs": [
    {
     "data": {
      "application/vnd.jupyter.widget-view+json": {
       "model_id": "20bdcbddfdde4214914a219fafa676a9",
       "version_major": 2,
       "version_minor": 0
      },
      "text/plain": [
       "HBox(children=(IntProgress(value=0, max=34223), HTML(value='')))"
      ]
     },
     "metadata": {},
     "output_type": "display_data"
    }
   ],
   "source": [
    "df[\"swn_sentiment_score\"] = [get_average_swn_sentiment_score(text.decode(\"utf-8\")) \n",
    "                             for text in tqdm(df[\"reviews.text\"].values)]"
   ]
  },
  {
   "cell_type": "markdown",
   "metadata": {},
   "source": [
    "#### 4.3.3 Evaluating Resultant Sentiment Scores"
   ]
  },
  {
   "cell_type": "code",
   "execution_count": 732,
   "metadata": {},
   "outputs": [
    {
     "data": {
      "text/plain": [
       "<matplotlib.axes._subplots.AxesSubplot at 0x200b557e4a8>"
      ]
     },
     "execution_count": 732,
     "metadata": {},
     "output_type": "execute_result"
    },
    {
     "data": {
      "image/png": "[encoded data removed]",
      "text/plain": [
       "<Figure size 432x288 with 1 Axes>"
      ]
     },
     "metadata": {
      "needs_background": "light"
     },
     "output_type": "display_data"
    }
   ],
   "source": [
    "df.boxplot(column=\"swn_sentiment_score\", by=\"reviews.rating\")"
   ]
  },
  {
   "cell_type": "markdown",
   "metadata": {},
   "source": [
    "### 4.4 Approach 3: Naive Bayes Classifier Sentiment Scores"
   ]
  },
  {
   "cell_type": "code",
   "execution_count": null,
   "metadata": {},
   "outputs": [],
   "source": []
  },
  {
   "cell_type": "markdown",
   "metadata": {},
   "source": [
    "#### 4.4.1 Text Preprocessing"
   ]
  },
  {
   "cell_type": "code",
   "execution_count": 519,
   "metadata": {},
   "outputs": [
    {
     "name": "stderr",
     "output_type": "stream",
     "text": [
      "[nltk_data] Downloading package stopwords to\n",
      "[nltk_data]     C:\\Users\\lenovo\\AppData\\Roaming\\nltk_data...\n",
      "[nltk_data]   Unzipping corpora\\stopwords.zip.\n"
     ]
    },
    {
     "data": {
      "text/plain": [
       "True"
      ]
     },
     "execution_count": 519,
     "metadata": {},
     "output_type": "execute_result"
    }
   ],
   "source": [
    "nltk.download(\"stopwords\")"
   ]
  },
  {
   "cell_type": "code",
   "execution_count": 523,
   "metadata": {},
   "outputs": [
    {
     "name": "stdout",
     "output_type": "stream",
     "text": [
      "Ri Ben Guo \n",
      "aaaa\n",
      "['ri', 'ben', 'guo', 'careen', 'isnt', 'carpet', 'archaeologist', 'gener']\n",
      "['isnt']\n"
     ]
    }
   ],
   "source": [
    "ps = PorterStemmer()\n",
    "\n",
    "stoplist = set(stopwords.words(\"english\"))\n",
    "\n",
    "#preprocessor\n",
    "def preprocessor(text):\n",
    "    \n",
    "    #transliterate non-unicode characters\n",
    "    text = unidecode(text)\n",
    "    \n",
    "    #replace apostrophes with \"\"\n",
    "    text = text.replace(\"'\", \"\")\n",
    "    \n",
    "    #and all other punctuation with a space\n",
    "    text = text.translate(str.maketrans(string.punctuation, \" \"*len(string.punctuation)))\n",
    "    \n",
    "    #lowercase it\n",
    "    text = text.lower()\n",
    "    \n",
    "    return text\n",
    "    \n",
    "def tokenizer(text):\n",
    "    \n",
    "    #split on whitespace\n",
    "    tokens = text.split(\" \")\n",
    "    \n",
    "    #remove empty tokens\n",
    "    tokens = [token for token in tokens if token != \"\"]\n",
    "    \n",
    "    #get rid of extremely common words using a stoplist\n",
    "    tokens = [token for token in tokens if token not in stoplist]\n",
    "    \n",
    "    \n",
    "    #use a porter stemmer to reduce all tokens to a representation of their base form    \n",
    "    tokens = [ps.stem(token) for token in tokens]\n",
    "    \n",
    "    return tokens\n",
    "\n",
    "print(unidecode(\"日本国\"))\n",
    "\n",
    "print(\"aaAa\".lower())\n",
    "\n",
    "\";';';\".translate(str.maketrans(string.punctuation, \" \"*len(string.punctuation)))\n",
    "\n",
    "print(tokenizer(preprocessor(\"日本国..' careening' isn't a carpets.the.archaeologists generously \")))\n",
    "\n",
    "print(tokenizer(preprocessor(\"isn’t\"))) #different apostrophe - not '"
   ]
  },
  {
   "cell_type": "code",
   "execution_count": 703,
   "metadata": {},
   "outputs": [],
   "source": [
    "texts = [x.decode() for x in df[\"reviews.text\"].values]\n",
    "\n",
    "\n",
    "cv = CountVectorizer(preprocessor=preprocessor, tokenizer=tokenizer)\n",
    "\n",
    "X = cv.fit_transform(texts)"
   ]
  },
  {
   "cell_type": "code",
   "execution_count": 704,
   "metadata": {},
   "outputs": [
    {
     "name": "stdout",
     "output_type": "stream",
     "text": [
      "  (0, 21031)\t1\n",
      "  (0, 13470)\t1\n",
      "  (0, 18598)\t1\n",
      "  (0, 4191)\t1\n",
      "  (0, 15264)\t1\n",
      "  (0, 2562)\t1\n",
      "  (0, 22035)\t1\n",
      "  (0, 14206)\t1\n",
      "  (0, 5016)\t1\n",
      "  (0, 22090)\t1\n",
      "  (0, 1264)\t1\n",
      "  (0, 11686)\t1\n",
      "  (0, 17985)\t1\n",
      "  (0, 4334)\t1\n",
      "  (0, 14209)\t1\n",
      "  (0, 19963)\t1\n",
      "  (0, 3064)\t1\n",
      "  (0, 1966)\t1\n",
      "  (0, 21886)\t1\n",
      "  (0, 14032)\t1\n",
      "  (0, 13667)\t1\n",
      "  (0, 8103)\t1\n",
      "  (0, 9435)\t1\n",
      "  (0, 8231)\t1\n",
      "  (0, 18818)\t1\n",
      "  (0, 18910)\t1\n",
      "  (0, 17050)\t2\n",
      "  (0, 8832)\t1\n",
      "  (0, 3207)\t1\n",
      "  (0, 4577)\t2\n",
      "  (0, 9764)\t2\n"
     ]
    }
   ],
   "source": [
    "print(X[3])"
   ]
  },
  {
   "cell_type": "markdown",
   "metadata": {},
   "source": [
    "#### 4.4.2 Train-Test Split"
   ]
  },
  {
   "cell_type": "code",
   "execution_count": 705,
   "metadata": {},
   "outputs": [
    {
     "name": "stdout",
     "output_type": "stream",
     "text": [
      "0    4.0\n",
      "1    5.0\n",
      "2    5.0\n",
      "3    5.0\n",
      "4    5.0\n",
      "Name: reviews.rating, dtype: float64\n",
      "2557\n"
     ]
    }
   ],
   "source": [
    "sentiments =  df[\"reviews.rating\"]\n",
    "#print(sentiments[0:5])\n",
    "\n",
    "le = LabelEncoder()\n",
    "le.fit([1,2,3,4,5])\n",
    "\n",
    "Y = le.transform(sentiments)\n",
    "\n",
    "print(len(Y[Y == 0]))"
   ]
  },
  {
   "cell_type": "code",
   "execution_count": 706,
   "metadata": {},
   "outputs": [
    {
     "name": "stdout",
     "output_type": "stream",
     "text": [
      "(25667, 22574)\n"
     ]
    }
   ],
   "source": [
    "X_train, X_test, Y_train, Y_test, ratings_train, ratings_test = train_test_split(X, Y, ratings,\n",
    "                                                                                 test_size=TEST_PROPORTION)\n",
    "\n",
    "print(X_train.shape)"
   ]
  },
  {
   "cell_type": "markdown",
   "metadata": {},
   "source": [
    "#### 4.4.3 Fitting and Evaluating the Model"
   ]
  },
  {
   "cell_type": "code",
   "execution_count": 707,
   "metadata": {},
   "outputs": [],
   "source": [
    "bayes = MultinomialNB()\n",
    "\n",
    "bayes.fit(X_train, Y_train)\n",
    "\n",
    "pred_y = bayes.predict(X_test)"
   ]
  },
  {
   "cell_type": "code",
   "execution_count": 708,
   "metadata": {},
   "outputs": [
    {
     "name": "stdout",
     "output_type": "stream",
     "text": [
      "[2 0 2 ... 3 4 4]\n",
      "[2 2 2 ... 4 4 4]\n"
     ]
    }
   ],
   "source": [
    "print(Y_test)\n",
    "print(pred_y)\n",
    "\n",
    "conf = confusion_matrix(Y_test, pred_y)"
   ]
  },
  {
   "cell_type": "code",
   "execution_count": 709,
   "metadata": {},
   "outputs": [
    {
     "name": "stdout",
     "output_type": "stream",
     "text": [
      "Accuracy: 0.55\n"
     ]
    }
   ],
   "source": [
    "accuracy = accuracy_score(Y_test, pred_y)\n",
    "print(\"Accuracy: {:.2f}\".format(accuracy))"
   ]
  },
  {
   "cell_type": "code",
   "execution_count": 710,
   "metadata": {},
   "outputs": [
    {
     "name": "stdout",
     "output_type": "stream",
     "text": [
      "[[1.91157680e-01 2.45446349e-01 5.57071945e-01 5.10946935e-03\n",
      "  1.21455695e-03]\n",
      " [1.74080123e-01 4.67580525e-02 6.31217047e-01 1.47388869e-01\n",
      "  5.55908168e-04]\n",
      " [1.47822072e-05 1.66871017e-02 8.06614179e-01 1.76669248e-01\n",
      "  1.46893679e-05]\n",
      " ...\n",
      " [1.33029375e-09 1.65264019e-08 1.34721730e-05 2.28087661e-02\n",
      "  9.77177744e-01]\n",
      " [1.70421596e-06 9.77036240e-06 2.44825760e-03 7.90593424e-02\n",
      "  9.18480925e-01]\n",
      " [1.80567066e-09 1.41913423e-08 6.59470405e-06 2.08777228e-03\n",
      "  9.97905617e-01]]\n"
     ]
    }
   ],
   "source": [
    "probs = bayes.predict_proba(X_test)\n",
    "print(probs)"
   ]
  },
  {
   "cell_type": "markdown",
   "metadata": {},
   "source": [
    "#### 4.4.4 Scoring Each Text in the Dataset"
   ]
  },
  {
   "cell_type": "code",
   "execution_count": 648,
   "metadata": {},
   "outputs": [],
   "source": [
    "def get_naive_bayes_score(probs):\n",
    "    \n",
    "    return (-1*probs[:,0]) + (-0.5*probs[:,1]) + (0.5*probs[:,3]) + (1*probs[:,4])\n",
    "\n",
    "probs = bayes.predict_proba(X)\n",
    "\n",
    "df[\"naive_bayes_sentiment_score\"] = get_naive_bayes_score(probs)"
   ]
  },
  {
   "cell_type": "markdown",
   "metadata": {},
   "source": [
    "#### 4.4.5 Evaluating Resultant Sentiment Scores "
   ]
  },
  {
   "cell_type": "code",
   "execution_count": 649,
   "metadata": {},
   "outputs": [
    {
     "data": {
      "text/plain": [
       "<matplotlib.axes._subplots.AxesSubplot at 0x200a7569518>"
      ]
     },
     "execution_count": 649,
     "metadata": {},
     "output_type": "execute_result"
    },
    {
     "data": {
      "image/png": "[encoded data removed]",
      "text/plain": [
       "<Figure size 432x288 with 1 Axes>"
      ]
     },
     "metadata": {
      "needs_background": "light"
     },
     "output_type": "display_data"
    }
   ],
   "source": [
    "df.boxplot(column=\"naive_bayes_sentiment_score\", by=\"reviews.rating\")"
   ]
  },
  {
   "cell_type": "code",
   "execution_count": 656,
   "metadata": {},
   "outputs": [
    {
     "data": {
      "text/plain": [
       "<Figure size 432x288 with 0 Axes>"
      ]
     },
     "execution_count": 656,
     "metadata": {},
     "output_type": "execute_result"
    },
    {
     "data": {
      "image/png": "[encoded data removed]",
      "text/plain": [
       "<Figure size 432x288 with 1 Axes>"
      ]
     },
     "metadata": {
      "needs_background": "light"
     },
     "output_type": "display_data"
    },
    {
     "data": {
      "image/png": "[encoded data removed]",
      "text/plain": [
       "<Figure size 432x288 with 1 Axes>"
      ]
     },
     "metadata": {
      "needs_background": "light"
     },
     "output_type": "display_data"
    },
    {
     "data": {
      "image/png": "[encoded data removed]",
      "text/plain": [
       "<Figure size 432x288 with 1 Axes>"
      ]
     },
     "metadata": {
      "needs_background": "light"
     },
     "output_type": "display_data"
    },
    {
     "data": {
      "image/png": "[encoded data removed]",
      "text/plain": [
       "<Figure size 432x288 with 1 Axes>"
      ]
     },
     "metadata": {
      "needs_background": "light"
     },
     "output_type": "display_data"
    },
    {
     "data": {
      "image/png": "[encoded data removed]",
      "text/plain": [
       "<Figure size 432x288 with 1 Axes>"
      ]
     },
     "metadata": {
      "needs_background": "light"
     },
     "output_type": "display_data"
    },
    {
     "data": {
      "text/plain": [
       "<Figure size 432x288 with 0 Axes>"
      ]
     },
     "metadata": {},
     "output_type": "display_data"
    }
   ],
   "source": [
    "df[df[\"reviews.rating\"] == 1.0][\"naive_bayes_sentiment_score\"].hist()\n",
    "plt.figure()\n",
    "df[df[\"reviews.rating\"] == 2.0][\"naive_bayes_sentiment_score\"].hist()\n",
    "plt.figure()\n",
    "df[df[\"reviews.rating\"] == 3.0][\"naive_bayes_sentiment_score\"].hist()\n",
    "plt.figure()\n",
    "df[df[\"reviews.rating\"] == 4.0][\"naive_bayes_sentiment_score\"].hist()\n",
    "plt.figure()\n",
    "df[df[\"reviews.rating\"] == 5.0][\"naive_bayes_sentiment_score\"].hist()\n",
    "plt.figure()"
   ]
  },
  {
   "cell_type": "markdown",
   "metadata": {},
   "source": [
    "### 4.5 Approach 4: LSTM Neural Network Classifier Sentiment Scores"
   ]
  },
  {
   "cell_type": "markdown",
   "metadata": {},
   "source": [
    "#### 4.5.1 Text Preprocessing"
   ]
  },
  {
   "cell_type": "code",
   "execution_count": 733,
   "metadata": {},
   "outputs": [
    {
     "name": "stdout",
     "output_type": "stream",
     "text": [
      "[  0   0   0   0   0   0   0   0   0   0   0   0   0   0   0   0   0   0\n",
      "   0   0   0   0   0   0   0   0   0   0   0   0   0   0   0   0   0   0\n",
      "   0   0   0   0   0   0   0   0   0   0   0   0   0   0   0   0   0   0\n",
      "   0   0  89 304  12  43  28   1  14 359 134   2  17 493  85   4 811 548\n",
      "   8 113 336   8  17 469  20  17  41   2  59   2   1 366  29   3  25  25\n",
      "  49   2  25 253  11 343 113 267   5 545]\n"
     ]
    }
   ],
   "source": [
    "TK_INDEX_SIZE = 3000\n",
    "EMBEDDING_OUTPUT_SIZE = 256\n",
    "\n",
    "\n",
    "\n",
    "texts = [x.decode() for x in df[\"reviews.text\"].values]\n",
    "ratings = [x for x in df[\"reviews.rating\"].values]\n",
    "Y = pd.get_dummies([\"pos\" if x>3 else \"neg\" for x in df[\"reviews.rating\"].values])\n",
    "Y = pd.get_dummies(df[\"reviews.rating\"].values)\n",
    "tk = Tokenizer(num_words=TK_INDEX_SIZE,split=\" \")\n",
    "\n",
    "tk.fit_on_texts(texts)\n",
    "X = tk.texts_to_sequences(texts)\n",
    "\n",
    "X = keras.preprocessing.sequence.pad_sequences(X, maxlen=100)\n",
    "\n",
    "print(X[1])\n",
    "\n",
    "\n",
    "\n"
   ]
  },
  {
   "cell_type": "markdown",
   "metadata": {},
   "source": [
    "#### 4.5.2 Train-Test Split"
   ]
  },
  {
   "cell_type": "code",
   "execution_count": 653,
   "metadata": {},
   "outputs": [
    {
     "name": "stdout",
     "output_type": "stream",
     "text": [
      "25667\n",
      "8556\n",
      "1.0    0\n",
      "2.0    0\n",
      "3.0    0\n",
      "4.0    1\n",
      "5.0    0\n",
      "Name: 0, dtype: uint8\n",
      "(array([0, 1], dtype=uint8), array([102668,  25667], dtype=int64))\n",
      "(array([0, 1], dtype=uint8), array([34224,  8556], dtype=int64))\n"
     ]
    },
    {
     "name": "stdout",
     "output_type": "stream",
     "text": [
      "[5.0, 4.0, 3.0, 5.0, 5.0, 4.0, 1.0, 5.0, 5.0, 5.0, 5.0, 5.0, 5.0, 4.0, 3.0, 5.0, 3.0, 4.0, 5.0, 4.0, 5.0, 3.0, 5.0, 3.0, 2.0, 3.0, 4.0, 5.0, 1.0, 5.0, 5.0, 4.0, 4.0, 4.0, 5.0, 5.0, 5.0, 5.0, 4.0, 5.0, 4.0, 4.0, 2.0, 3.0, 3.0, 5.0, 4.0, 3.0, 4.0, 3.0, 3.0, 4.0, 1.0, 4.0, 5.0, 1.0, 5.0, 5.0, 4.0, 4.0, 5.0, 4.0, 4.0, 3.0, 5.0, 1.0, 4.0, 3.0, 5.0, 1.0, 4.0, 5.0, 5.0, 3.0, 3.0, 5.0, 5.0, 5.0, 5.0, 4.0, 5.0, 4.0, 5.0, 4.0, 4.0, 3.0, 5.0, 5.0, 5.0, 4.0, 5.0, 2.0, 3.0, 5.0, 5.0, 1.0, 5.0, 4.0, 3.0, 5.0, 5.0, 1.0, 4.0, 1.0, 3.0, 1.0, 5.0, 3.0, 5.0, 1.0, 5.0, 5.0, 3.0, 5.0, 3.0, 5.0, 3.0, 3.0, 4.0, 3.0, 2.0, 3.0, 4.0, 5.0, 5.0, 4.0, 2.0, 1.0, 3.0, 3.0, 2.0, 5.0, 3.0, 4.0, 4.0, 3.0, 4.0, 4.0, 4.0, 4.0, 4.0, 5.0, 5.0, 3.0, 4.0, 3.0, 4.0, 3.0, 3.0, 5.0, 1.0, 5.0, 4.0, 4.0, 5.0, 5.0, 1.0, 4.0, 5.0, 4.0, 2.0, 3.0, 4.0, 2.0, 1.0, 4.0, 5.0, 5.0, 1.0, 4.0, 2.0, 5.0, 3.0, 2.0, 4.0, 5.0, 1.0, 4.0, 5.0, 4.0, 5.0, 1.0, 4.0, 4.0, 4.0, 5.0, 5.0, 5.0, 5.0, 3.0, 3.0, 5.0, 5.0, 1.0, 2.0, 3.0, 4.0, 4.0, 2.0, 4.0, 5.0, 5.0, 4.0, 1.0, 5.0, 4.0, 1.0, 2.0, 4.0, 4.0, 4.0, 4.0, 5.0, 5.0, 3.0, 5.0, 5.0, 4.0, 5.0, 3.0, 1.0, 5.0, 4.0, 5.0, 5.0, 4.0, 4.0, 3.0, 5.0, 4.0, 3.0, 5.0, 5.0, 4.0, 3.0, 4.0, 5.0, 5.0, 4.0, 5.0, 5.0, 1.0, 4.0, 4.0, 4.0, 5.0, 5.0, 4.0, 4.0, 4.0, 3.0, 3.0, 2.0, 3.0, 5.0, 5.0, 5.0, 3.0, 2.0, 3.0, 4.0, 2.0, 5.0, 5.0, 5.0, 2.0, 4.0, 4.0, 3.0, 3.0, 3.0, 4.0, 4.0, 4.0, 1.0, 5.0, 1.0, 4.0, 3.0, 2.0, 5.0, 3.0, 5.0, 4.0, 4.0, 1.0, 5.0, 5.0, 4.0, 3.0, 5.0, 5.0, 1.0, 5.0, 4.0, 4.0, 4.0, 5.0, 4.0, 4.0, 4.0, 1.0, 5.0, 4.0, 4.0, 4.0, 5.0, 3.0, 1.0, 1.0, 2.0, 4.0, 5.0, 4.0, 5.0, 3.0, 3.0, 3.0, 4.0, 4.0, 1.0, 5.0, 2.0, 3.0, 3.0, 5.0, 3.0, 3.0, 5.0, 2.0, 5.0, 5.0, 4.0, 5.0, 5.0, 1.0, 4.0, 5.0, 4.0, 5.0, 4.0, 2.0, 5.0, 5.0, 5.0, 2.0, 5.0, 4.0, 4.0, 4.0, 1.0, 4.0, 1.0, 5.0, 4.0, 4.0, 4.0, 5.0, 2.0, 4.0, 5.0, 1.0, 3.0, 5.0, 3.0, 5.0, 4.0, 3.0, 4.0, 4.0, 3.0, 4.0, 4.0, 5.0, 4.0, 5.0, 5.0, 3.0, 5.0, 5.0, 2.0, 5.0, 5.0, 5.0, 5.0, 4.0, 3.0, 4.0, 5.0, 5.0, 5.0, 3.0, 5.0, 5.0, 5.0, 5.0, 5.0, 4.0, 4.0, 5.0, 4.0, 5.0, 4.0, 2.0, 5.0, 5.0, 3.0, 5.0, 4.0, 5.0, 4.0, 5.0, 4.0, 1.0, 5.0, 3.0, 4.0, 1.0, 4.0, 2.0, 1.0, 3.0, 1.0, 5.0, 3.0, 3.0, 5.0, 5.0, 5.0, 4.0, 5.0, 4.0, 4.0, 5.0, 3.0, 3.0, 5.0, 5.0, 5.0, 3.0, 5.0, 1.0, 4.0, 3.0, 3.0, 3.0, 4.0, 2.0, 2.0, 5.0, 5.0, 1.0, 2.0, 3.0, 5.0, 5.0, 3.0, 3.0, 4.0, 5.0, 4.0, 4.0, 5.0, 4.0, 3.0, 4.0, 5.0, 5.0, 5.0, 5.0, 4.0, 4.0, 3.0, 3.0, 1.0, 2.0, 3.0, 4.0, 3.0, 4.0, 3.0, 5.0, 5.0, 5.0, 1.0, 4.0, 4.0, 3.0, 4.0, 2.0, 5.0, 4.0, 3.0, 4.0, 3.0, 2.0, 4.0, 4.0, 3.0, 3.0, 4.0, 4.0, 1.0, 4.0, 5.0, 2.0, 3.0, 5.0, 2.0, 4.0, 5.0, 2.0, 5.0, 3.0, 1.0, 5.0, 3.0, 4.0, 5.0, 4.0, 4.0, 1.0, 4.0, 2.0, 5.0, 5.0, 4.0, 5.0, 5.0, 5.0, 4.0, 4.0, 5.0, 5.0, 4.0, 5.0, 5.0, 1.0, 4.0, 5.0, 2.0, 5.0, 5.0, 2.0, 5.0, 5.0, 5.0, 2.0, 2.0, 5.0, 5.0, 4.0, 4.0, 3.0, 4.0, 3.0, 5.0, 4.0, 5.0, 5.0, 2.0, 3.0, 5.0, 5.0, 3.0, 5.0, 3.0, 1.0, 4.0, 5.0, 2.0, 5.0, 5.0, 5.0, 1.0, 5.0, 2.0, 4.0, 1.0, 2.0, 5.0, 5.0, 2.0, 4.0, 3.0, 2.0, 5.0, 2.0, 5.0, 2.0, 4.0, 2.0, 5.0, 4.0, 5.0, 3.0, 5.0, 4.0, 4.0, 4.0, 4.0, 3.0, 5.0, 3.0, 4.0, 5.0, 5.0, 2.0, 4.0, 5.0, 4.0, 1.0, 5.0, 4.0, 4.0, 1.0, 4.0, 5.0, 4.0, 3.0, 2.0, 3.0, 4.0, 5.0, 5.0, 5.0, 1.0, 3.0, 5.0, 4.0, 4.0, 5.0, 5.0, 4.0, 5.0, 1.0, 4.0, 4.0, 3.0, 5.0, 5.0, 5.0, 4.0, 5.0, 2.0, 5.0, 5.0, 5.0, 5.0, 2.0, 1.0, 3.0, 4.0, 5.0, 3.0, 4.0, 2.0, 5.0, 2.0, 5.0, 5.0, 5.0, 4.0, 5.0, 5.0, 5.0, 5.0, 3.0, 5.0, 4.0, 1.0, 1.0, 3.0, 5.0, 4.0, 2.0, 4.0, 4.0, 3.0, 4.0, 3.0, 4.0, 4.0, 3.0, 5.0, 4.0, 3.0, 4.0, 5.0, 4.0, 5.0, 5.0, 3.0, 5.0, 4.0, 5.0, 4.0, 5.0, 5.0, 4.0, 5.0, 4.0, 3.0, 4.0, 4.0, 5.0, 5.0, 5.0, 3.0, 5.0, 5.0, 5.0, 1.0, 1.0, 2.0, 5.0, 4.0, 3.0, 1.0, 5.0, 3.0, 4.0, 3.0, 4.0, 4.0, 4.0, 3.0, 4.0, 3.0, 5.0, 2.0, 3.0, 2.0, 5.0, 5.0, 3.0, 5.0, 5.0, 2.0, 3.0, 4.0, 1.0, 5.0, 5.0, 3.0, 5.0, 3.0, 5.0, 1.0, 3.0, 1.0, 4.0, 5.0, 3.0, 4.0, 2.0, 2.0, 4.0, 5.0, 4.0, 5.0, 3.0, 4.0, 5.0, 5.0, 5.0, 5.0, 4.0, 3.0, 1.0, 5.0, 5.0, 3.0, 5.0, 5.0, 5.0, 4.0, 1.0, 2.0, 4.0, 5.0, 4.0, 5.0, 3.0, 5.0, 5.0, 2.0, 3.0, 4.0, 5.0, 5.0, 5.0, 5.0, 2.0, 4.0, 3.0, 4.0, 1.0, 2.0, 4.0, 5.0, 4.0, 4.0, 4.0, 4.0, 1.0, 3.0, 5.0, 5.0, 5.0, 1.0, 5.0, 3.0, 1.0, 3.0, 2.0, 5.0, 5.0, 1.0, 3.0, 4.0, 5.0, 1.0, 2.0, 4.0, 3.0, 4.0, 1.0, 4.0, 4.0, 5.0, 4.0, 2.0, 5.0, 5.0, 5.0, 5.0, 5.0, 3.0, 2.0, 1.0, 3.0, 5.0, 5.0, 5.0, 4.0, 2.0, 4.0, 5.0, 4.0, 3.0, 3.0, 3.0, 5.0, 5.0, 4.0, 5.0, 2.0, 4.0, 2.0, 5.0, 5.0, 5.0, 4.0, 1.0, 3.0, 4.0, 4.0, 4.0, 4.0, 4.0, 4.0, 3.0, 5.0, 4.0, 5.0, 5.0, 4.0, 5.0, 3.0, 4.0, 4.0, 2.0, 4.0, 5.0, 3.0, 5.0, 5.0, 4.0, 4.0, 1.0, 5.0, 2.0, 1.0, 4.0, 3.0, 5.0, 4.0, 4.0, 5.0, 3.0, 5.0, 5.0, 5.0, 4.0, 5.0, 5.0, 3.0, 5.0, 5.0, 5.0, 5.0, 4.0, 5.0, 4.0, 2.0, 5.0, 3.0, 5.0, 5.0, 5.0, 4.0, 5.0, 4.0, 3.0, 4.0, 4.0, 4.0, 5.0, 3.0, 5.0, 4.0, 2.0, 4.0, 4.0, 5.0, 5.0, 5.0, 5.0, 4.0, 5.0, 5.0, 4.0, 5.0, 1.0, 1.0, 5.0, 5.0, 5.0, 4.0, 5.0, 5.0, 2.0, 5.0, 5.0, 4.0, 5.0, 4.0, 4.0, 5.0, 3.0, 4.0, 4.0, 3.0, 5.0, 5.0, 5.0, 5.0, 5.0, 5.0, 5.0, 4.0, 5.0, 5.0, 4.0, 2.0, 3.0, 5.0, 3.0, 5.0, 5.0, 4.0, 5.0, 1.0, 5.0, 4.0, 5.0, 5.0, 2.0, 3.0, 5.0, 1.0, 4.0, 5.0, 4.0, 4.0, 4.0, 5.0, 1.0, 5.0, 2.0, 2.0, 4.0, 4.0, 5.0, 5.0, 4.0, 4.0, 4.0, 5.0, 4.0, 5.0, 5.0, 5.0, 3.0, 4.0, 2.0, 5.0, 4.0, 4.0, 5.0, 5.0, 4.0, 5.0, 4.0, 4.0, 5.0, 4.0, 3.0, 5.0, 5.0, 3.0, 5.0, 5.0, 2.0, 4.0, 4.0, 2.0, 4.0, 1.0, 1.0, 1.0, 5.0, 5.0, 4.0, 5.0, 5.0, 4.0, 3.0, 5.0, 5.0, 2.0, 5.0, 5.0, 5.0, 5.0, 5.0, 2.0, 3.0, 4.0, 5.0, 2.0, 5.0, 5.0, 3.0, 5.0, 2.0, 4.0, 5.0, 5.0, 5.0, 3.0, 3.0, 3.0, 5.0, 5.0, 5.0, 5.0, 2.0, 1.0, 2.0, 1.0, 5.0, 5.0, 5.0, 5.0, 5.0, 4.0, 5.0, 5.0, 2.0, 4.0, 5.0, 5.0, 4.0, 5.0, 4.0, 3.0, 4.0, 3.0, 5.0, 3.0, 4.0, 5.0, 5.0, 5.0, 5.0, 5.0, 3.0, 1.0, 2.0, 4.0, 5.0, 4.0, 3.0, 3.0, 5.0, 4.0, 5.0, 5.0, 2.0, 4.0, 4.0, 5.0, 5.0, 3.0, 1.0, 2.0, 4.0, 4.0, 4.0, 5.0, 4.0, 4.0, 4.0, 3.0, 5.0, 3.0, 4.0, 5.0, 5.0, 3.0, 3.0, 5.0, 4.0, 3.0, 5.0, 3.0, 5.0, 5.0, 5.0, 4.0, 5.0, 4.0, 3.0, 5.0, 5.0, 5.0, 4.0, 5.0, 3.0, 1.0, 4.0, 4.0, 5.0, 5.0, 4.0, 5.0, 5.0, 3.0, 5.0, 1.0, 2.0, 5.0, 5.0, 4.0, 5.0, 5.0, 4.0, 5.0, 4.0, 5.0, 5.0, 5.0, 5.0, 4.0, 1.0, 4.0, 4.0, 1.0, 5.0, 5.0, 2.0, 2.0, 3.0, 4.0, 1.0, 4.0, 4.0, 5.0, 4.0, 4.0, 3.0, 5.0, 5.0, 4.0, 5.0, 5.0, 5.0, 1.0, 3.0, 5.0, 4.0, 4.0, 5.0, 5.0, 1.0, 4.0, 5.0, 5.0, 4.0, 2.0, 3.0, 5.0, 3.0, 5.0, 4.0, 4.0, 4.0, 4.0, 3.0, 1.0, 5.0, 5.0, 3.0, 5.0, 2.0, 4.0, 4.0, 4.0, 4.0, 3.0, 4.0, 5.0, 4.0, 5.0, 3.0, 5.0, 5.0, 5.0, 5.0, 5.0, 2.0, 2.0, 4.0, 5.0, 4.0, 4.0, 4.0, 4.0, 5.0, 5.0, 5.0, 3.0, 1.0, 5.0, 5.0, 5.0, 5.0, 1.0, 4.0, 5.0, 4.0, 5.0, 1.0, 4.0, 5.0, 4.0, 5.0, 4.0, 5.0, 4.0, 5.0, 5.0, 4.0, 5.0, 5.0, 4.0, 2.0, 5.0, 3.0, 5.0, 3.0, 5.0, 5.0, 2.0, 4.0, 5.0, 5.0, 5.0, 5.0, 3.0, 4.0, 2.0, 1.0, 3.0, 4.0, 2.0, 5.0, 2.0, 5.0, 5.0, 4.0, 5.0, 4.0, 5.0, 5.0, 4.0, 5.0, 1.0, 3.0, 5.0, 5.0, 2.0, 3.0, 4.0, 1.0, 4.0, 1.0, 5.0, 5.0, 4.0, 4.0, 4.0, 5.0, 2.0, 5.0, 5.0, 5.0, 4.0, 4.0, 1.0, 1.0, 3.0, 5.0, 4.0, 5.0, 2.0, 2.0, 5.0, 3.0, 5.0, 4.0, 5.0, 5.0, 4.0, 5.0, 5.0, 2.0, 4.0, 5.0, 5.0, 3.0, 5.0, 4.0, 2.0, 1.0, 4.0, 5.0, 4.0, 5.0, 5.0, 5.0, 4.0, 4.0, 5.0, 5.0, 4.0, 5.0, 5.0, 4.0, 3.0, 5.0, 5.0, 5.0, 3.0, 4.0, 3.0, 5.0, 4.0, 4.0, 5.0, 3.0, 5.0, 5.0, 5.0, 5.0, 5.0, 5.0, 3.0, 4.0, 5.0, 1.0, 5.0, 5.0, 5.0, 5.0, 1.0, 4.0, 4.0, 5.0, 5.0, 5.0, 5.0, 4.0, 5.0, 3.0, 5.0, 3.0, 4.0, 1.0, 5.0, 4.0, 5.0, 4.0, 2.0, 5.0, 5.0, 5.0, 5.0, 1.0, 2.0, 5.0, 1.0, 5.0, 5.0, 2.0, 4.0, 1.0, 4.0, 3.0, 5.0, 5.0, 3.0, 5.0, 5.0, 5.0, 5.0, 2.0, 5.0, 5.0, 3.0, 4.0, 5.0, 5.0, 5.0, 5.0, 5.0, 2.0, 3.0, 5.0, 1.0, 3.0, 4.0, 5.0, 5.0, 4.0, 5.0, 4.0, 5.0, 5.0, 4.0, 1.0, 5.0, 5.0, 5.0, 4.0, 3.0, 3.0, 4.0, 3.0, 5.0, 1.0, 3.0, 5.0, 4.0, 3.0, 4.0, 4.0, 3.0, 3.0, 5.0, 2.0, 4.0, 3.0, 5.0, 4.0, 4.0, 2.0, 4.0, 3.0, 1.0, 5.0, 5.0, 4.0, 5.0, 4.0, 5.0, 5.0, 2.0, 1.0, 4.0, 5.0, 5.0, 5.0, 4.0, 5.0, 4.0, 5.0, 3.0, 5.0, 3.0, 5.0, 4.0, 3.0, 3.0, 4.0, 3.0, 1.0, 5.0, 4.0, 4.0, 5.0, 2.0, 2.0, 4.0, 2.0, 5.0, 4.0, 2.0, 4.0, 5.0, 4.0, 3.0, 5.0, 4.0, 5.0, 2.0, 5.0, 2.0, 4.0, 5.0, 4.0, 4.0, 3.0, 5.0, 5.0, 4.0, 4.0, 5.0, 5.0, 1.0, 5.0, 3.0, 5.0, 4.0, 4.0, 3.0, 5.0, 1.0, 5.0, 4.0, 5.0, 4.0, 5.0, 5.0, 3.0, 4.0, 5.0, 4.0, 5.0, 3.0, 5.0, 1.0, 2.0, 4.0, 4.0, 4.0, 5.0, 5.0, 5.0, 4.0, 4.0, 5.0, 1.0, 5.0, 4.0, 5.0, 1.0, 4.0, 4.0, 1.0, 5.0, 3.0, 4.0, 5.0, 2.0, 5.0, 1.0, 5.0, 3.0, 5.0, 4.0, 3.0, 5.0, 2.0, 4.0, 1.0, 1.0, 1.0, 3.0, 5.0, 5.0, 1.0, 2.0, 5.0, 3.0, 5.0, 4.0, 5.0, 2.0, 1.0, 5.0, 4.0, 5.0, 5.0, 5.0, 3.0, 4.0, 5.0, 4.0, 5.0, 5.0, 3.0, 5.0, 5.0, 3.0, 5.0, 5.0, 3.0, 1.0, 2.0, 2.0, 2.0, 1.0, 4.0, 2.0, 5.0, 5.0, 5.0, 4.0, 3.0, 4.0, 5.0, 5.0, 2.0, 3.0, 4.0, 5.0, 5.0, 5.0, 3.0, 4.0, 5.0, 5.0, 5.0, 1.0, 1.0, 5.0, 5.0, 4.0, 1.0, 5.0, 4.0, 5.0, 1.0, 2.0, 4.0, 5.0, 3.0, 4.0, 4.0, 5.0, 4.0, 4.0, 3.0, 5.0, 5.0, 5.0, 5.0, 5.0, 4.0, 1.0, 4.0, 5.0, 4.0, 4.0, 5.0, 3.0, 3.0, 3.0, 1.0, 3.0, 3.0, 5.0, 4.0, 1.0, 2.0, 4.0, 4.0, 4.0, 4.0, 4.0, 5.0, 4.0, 4.0, 5.0, 2.0, 5.0, 5.0, 4.0, 5.0, 4.0, 5.0, 5.0, 5.0, 4.0, 2.0, 3.0, 5.0, 2.0, 1.0, 4.0, 5.0, 5.0, 4.0, 4.0, 5.0, 4.0, 5.0, 3.0, 4.0, 1.0, 5.0, 5.0, 5.0, 5.0, 3.0, 4.0, 3.0, 4.0, 5.0, 4.0, 3.0, 4.0, 4.0, 5.0, 5.0, 3.0, 3.0, 4.0, 5.0, 3.0, 2.0, 5.0, 4.0, 1.0, 5.0, 5.0, 3.0, 4.0, 4.0, 5.0, 4.0, 5.0, 5.0, 5.0, 4.0, 5.0, 5.0, 5.0, 3.0, 5.0, 5.0, 5.0, 1.0, 5.0, 5.0, 3.0, 5.0, 5.0, 5.0, 5.0, 3.0, 4.0, 2.0, 4.0, 5.0, 4.0, 4.0, 5.0, 5.0, 4.0, 4.0, 4.0, 3.0, 5.0, 4.0, 4.0, 3.0, 5.0, 5.0, 4.0, 5.0, 1.0, 5.0, 5.0, 5.0, 3.0, 5.0, 5.0, 4.0, 5.0, 4.0, 4.0, 5.0, 3.0, 4.0, 4.0, 4.0, 4.0, 4.0, 3.0, 5.0, 3.0, 4.0, 4.0, 5.0, 5.0, 5.0, 5.0, 2.0, 3.0, 5.0, 5.0, 5.0, 5.0, 3.0, 4.0, 4.0, 3.0, 5.0, 5.0, 3.0, 1.0, 5.0, 3.0, 5.0, 1.0, 5.0, 5.0, 4.0, 3.0, 2.0, 1.0, 5.0, 5.0, 3.0, 2.0, 5.0, 4.0, 5.0, 5.0, 5.0, 4.0, 3.0, 3.0, 4.0, 3.0, 4.0, 3.0, 5.0, 1.0, 4.0, 4.0, 4.0, 5.0, 1.0, 5.0, 5.0, 5.0, 5.0, 1.0, 5.0, 2.0, 1.0, 5.0, 5.0, 3.0, 5.0, 4.0, 4.0, 5.0, 5.0, 3.0, 4.0, 1.0, 4.0, 1.0, 1.0, 4.0, 4.0, 5.0, 4.0, 2.0, 4.0, 1.0, 5.0, 3.0, 5.0, 4.0, 5.0, 1.0, 5.0, 4.0, 4.0, 4.0, 5.0, 5.0, 1.0, 3.0, 4.0, 4.0, 4.0, 4.0, 4.0, 2.0, 5.0, 1.0, 4.0, 5.0, 5.0, 4.0, 5.0, 5.0, 5.0, 4.0, 1.0, 5.0, 3.0, 4.0, 3.0, 5.0, 4.0, 3.0, 5.0, 4.0, 3.0, 4.0, 4.0, 4.0, 1.0, 5.0, 3.0, 5.0, 4.0, 5.0, 4.0, 4.0, 4.0, 5.0, 4.0, 3.0, 5.0, 1.0, 4.0, 4.0, 4.0, 4.0, 4.0, 5.0, 4.0, 4.0, 5.0, 4.0, 1.0, 4.0, 4.0, 4.0, 5.0, 1.0, 5.0, 4.0, 5.0, 4.0, 5.0, 5.0, 5.0, 5.0, 5.0, 5.0, 5.0, 3.0, 5.0, 2.0, 2.0, 4.0, 4.0, 4.0, 5.0, 5.0, 5.0, 5.0, 1.0, 4.0, 5.0, 2.0, 1.0, 5.0, 1.0, 4.0, 3.0, 5.0, 5.0, 1.0, 5.0, 5.0, 1.0, 5.0, 4.0, 5.0, 4.0, 4.0, 3.0, 4.0, 5.0, 5.0, 4.0, 5.0, 5.0, 4.0, 4.0, 5.0, 4.0, 5.0, 3.0, 5.0, 1.0, 5.0, 5.0, 1.0, 2.0, 4.0, 4.0, 5.0, 4.0, 5.0, 2.0, 3.0, 5.0, 3.0, 5.0, 2.0, 2.0, 5.0, 5.0, 3.0, 4.0, 1.0, 1.0, 5.0, 5.0, 4.0, 4.0, 1.0, 5.0, 4.0, 5.0, 4.0, 5.0, 2.0, 5.0, 5.0, 5.0, 4.0, 5.0, 5.0, 5.0, 4.0, 4.0, 3.0, 5.0, 5.0, 5.0, 3.0, 2.0, 5.0, 5.0, 5.0, 4.0, 3.0, 2.0, 5.0, 5.0, 3.0, 5.0, 3.0, 5.0, 5.0, 5.0, 1.0, 5.0, 5.0, 5.0, 2.0, 4.0, 5.0, 5.0, 4.0, 5.0, 4.0, 1.0, 1.0, 3.0, 4.0, 4.0, 5.0, 1.0, 2.0, 5.0, 5.0, 5.0, 3.0, 4.0, 3.0, 1.0, 3.0, 5.0, 5.0, 1.0, 5.0, 1.0, 5.0, 5.0, 1.0, 2.0, 5.0, 1.0, 1.0, 5.0, 4.0, 4.0, 5.0, 4.0, 1.0, 1.0, 4.0, 5.0, 1.0, 4.0, 3.0, 1.0, 5.0, 5.0, 4.0, 2.0, 5.0, 3.0, 3.0, 5.0, 4.0, 5.0, 4.0, 1.0, 5.0, 5.0, 3.0, 4.0, 3.0, 1.0, 4.0, 4.0, 4.0, 5.0, 2.0, 5.0, 5.0, 5.0, 4.0, 5.0, 4.0, 3.0, 3.0, 4.0, 5.0, 2.0, 4.0, 3.0, 3.0, 5.0, 4.0, 1.0, 4.0, 5.0, 3.0, 5.0, 4.0, 5.0, 5.0, 2.0, 5.0, 3.0, 4.0, 5.0, 1.0, 5.0, 5.0, 4.0, 1.0, 5.0, 5.0, 5.0, 4.0, 4.0, 4.0, 1.0, 5.0, 5.0, 3.0, 4.0, 1.0, 5.0, 5.0, 3.0, 3.0, 5.0, 5.0, 2.0, 4.0, 5.0, 5.0, 4.0, 1.0, 3.0, 5.0, 5.0, 3.0, 5.0, 4.0, 3.0, 4.0, 1.0, 5.0, 5.0, 5.0, 4.0, 5.0, 4.0, 4.0, 5.0, 5.0, 5.0, 2.0, 3.0, 4.0, 5.0, 5.0, 1.0, 1.0, 4.0, 2.0, 4.0, 5.0, 5.0, 5.0, 4.0, 4.0, 3.0, 1.0, 3.0, 5.0, 5.0, 1.0, 5.0, 5.0, 3.0, 3.0, 1.0, 1.0, 4.0, 2.0, 5.0, 5.0, 4.0, 4.0, 1.0, 5.0, 5.0, 3.0, 5.0, 5.0, 5.0, 5.0, 5.0, 5.0, 4.0, 4.0, 2.0, 4.0, 3.0, 1.0, 5.0, 5.0, 4.0, 1.0, 4.0, 3.0, 4.0, 5.0, 3.0, 5.0, 2.0, 3.0, 3.0, 4.0, 4.0, 4.0, 5.0, 5.0, 5.0, 1.0, 3.0, 4.0, 3.0, 4.0, 5.0, 4.0, 4.0, 5.0, 4.0, 4.0, 1.0, 5.0, 5.0, 5.0, 5.0, 2.0, 1.0, 1.0, 1.0, 5.0, 5.0, 4.0, 2.0, 5.0, 3.0, 5.0, 5.0, 3.0, 4.0, 5.0, 2.0, 1.0, 4.0, 2.0, 4.0, 4.0, 4.0, 4.0, 5.0, 4.0, 4.0, 2.0, 3.0, 3.0, 5.0, 5.0, 5.0, 5.0, 5.0, 5.0, 5.0, 5.0, 5.0, 2.0, 4.0, 4.0, 5.0, 4.0, 5.0, 4.0, 5.0, 5.0, 2.0, 5.0, 4.0, 3.0, 5.0, 3.0, 5.0, 2.0, 5.0, 3.0, 4.0, 4.0, 5.0, 3.0, 5.0, 5.0, 4.0, 5.0, 3.0, 5.0, 3.0, 5.0, 3.0, 4.0, 2.0, 5.0, 5.0, 3.0, 5.0, 5.0, 3.0, 5.0, 2.0, 5.0, 2.0, 5.0, 5.0, 5.0, 1.0, 5.0, 4.0, 5.0, 5.0, 4.0, 4.0, 4.0, 5.0, 2.0, 5.0, 4.0, 4.0, 5.0, 5.0, 5.0, 4.0, 5.0, 1.0, 5.0, 4.0, 5.0, 5.0, 4.0, 3.0, 4.0, 5.0, 4.0, 4.0, 4.0, 5.0, 3.0, 2.0, 3.0, 5.0, 4.0, 5.0, 3.0, 4.0, 5.0, 2.0, 5.0, 5.0, 5.0, 5.0, 2.0, 5.0, 4.0, 4.0, 3.0, 4.0, 4.0, 4.0, 4.0, 5.0, 1.0, 4.0, 4.0, 5.0, 4.0, 5.0, 4.0, 5.0, 2.0, 5.0, 5.0, 5.0, 4.0, 4.0, 4.0, 2.0, 5.0, 2.0, 3.0, 5.0, 4.0, 4.0, 5.0, 1.0, 3.0, 5.0, 4.0, 4.0, 5.0, 5.0, 5.0, 3.0, 5.0, 3.0, 5.0, 5.0, 5.0, 2.0, 4.0, 4.0, 5.0, 5.0, 3.0, 5.0, 5.0, 5.0, 4.0, 4.0, 5.0, 5.0, 5.0, 4.0, 5.0, 4.0, 4.0, 4.0, 4.0, 5.0, 5.0, 4.0, 5.0, 1.0, 4.0, 5.0, 4.0, 4.0, 5.0, 5.0, 5.0, 5.0, 1.0, 5.0, 5.0, 4.0, 3.0, 4.0, 2.0, 5.0, 5.0, 2.0, 1.0, 4.0, 3.0, 4.0, 5.0, 1.0, 4.0, 4.0, 4.0, 4.0, 1.0, 1.0, 4.0, 5.0, 3.0, 1.0, 2.0, 5.0, 5.0, 5.0, 5.0, 3.0, 4.0, 4.0, 2.0, 5.0, 4.0, 5.0, 4.0, 4.0, 5.0, 2.0, 1.0, 4.0, 5.0, 4.0, 4.0, 5.0, 1.0, 3.0, 5.0, 2.0, 5.0, 5.0, 4.0, 4.0, 5.0, 2.0, 3.0, 3.0, 4.0, 5.0, 5.0, 5.0, 5.0, 5.0, 4.0, 5.0, 5.0, 1.0, 1.0, 5.0, 4.0, 1.0, 5.0, 4.0, 5.0, 1.0, 2.0, 5.0, 5.0, 4.0, 5.0, 4.0, 2.0, 2.0, 2.0, 5.0, 2.0, 5.0, 4.0, 5.0, 4.0, 2.0, 3.0, 3.0, 4.0, 5.0, 5.0, 5.0, 5.0, 4.0, 2.0, 3.0, 4.0, 2.0, 4.0, 1.0, 5.0, 5.0, 5.0, 4.0, 1.0, 3.0, 5.0, 1.0, 5.0, 4.0, 5.0, 5.0, 4.0, 5.0, 4.0, 5.0, 5.0, 1.0, 3.0, 4.0, 2.0, 3.0, 5.0, 4.0, 5.0, 3.0, 5.0, 5.0, 4.0, 3.0, 1.0, 3.0, 5.0, 3.0, 5.0, 3.0, 2.0, 3.0, 5.0, 1.0, 5.0, 3.0, 1.0, 4.0, 5.0, 2.0, 3.0, 5.0, 3.0, 4.0, 5.0, 5.0, 5.0, 5.0, 5.0, 4.0, 5.0, 4.0, 4.0, 5.0, 5.0, 5.0, 4.0, 2.0, 4.0, 5.0, 3.0, 3.0, 4.0, 4.0, 5.0, 5.0, 5.0, 4.0, 5.0, 5.0, 4.0, 5.0, 5.0, 5.0, 3.0, 4.0, 5.0, 3.0, 3.0, 4.0, 5.0, 5.0, 5.0, 5.0, 5.0, 4.0, 5.0, 5.0, 3.0, 3.0, 3.0, 5.0, 3.0, 3.0, 3.0, 5.0, 1.0, 4.0, 3.0, 3.0, 5.0, 4.0, 1.0, 5.0, 5.0, 5.0, 4.0, 4.0, 3.0, 4.0, 4.0, 2.0, 4.0, 5.0, 5.0, 5.0, 4.0, 4.0, 3.0, 1.0, 4.0, 1.0, 4.0, 3.0, 4.0, 4.0, 3.0, 5.0, 5.0, 5.0, 5.0, 4.0, 5.0, 4.0, 5.0, 5.0, 3.0, 5.0, 4.0, 5.0, 1.0, 3.0, 5.0, 5.0, 5.0, 5.0, 4.0, 5.0, 5.0, 2.0, 1.0, 5.0, 5.0, 4.0, 4.0, 5.0, 3.0, 4.0, 4.0, 5.0, 2.0, 5.0, 3.0, 4.0, 5.0, 2.0, 1.0, 4.0, 4.0, 5.0, 4.0, 5.0, 5.0, 5.0, 3.0, 5.0, 5.0, 1.0, 5.0, 4.0, 1.0, 5.0, 4.0, 5.0, 5.0, 3.0, 3.0, 2.0, 5.0, 3.0, 5.0, 4.0, 3.0, 4.0, 3.0, 5.0, 3.0, 1.0, 3.0, 5.0, 4.0, 4.0, 5.0, 4.0, 4.0, 5.0, 5.0, 5.0, 5.0, 4.0, 3.0, 5.0, 5.0, 5.0, 1.0, 2.0, 3.0, 4.0, 5.0, 3.0, 4.0, 5.0, 5.0, 4.0, 5.0, 3.0, 3.0, 4.0, 4.0, 2.0, 4.0, 4.0, 2.0, 1.0, 4.0, 5.0, 2.0, 5.0, 3.0, 4.0, 5.0, 3.0, 3.0, 4.0, 5.0, 4.0, 3.0, 4.0, 5.0, 5.0, 3.0, 2.0, 2.0, 5.0, 2.0, 2.0, 5.0, 5.0, 1.0, 4.0, 5.0, 4.0, 5.0, 4.0, 3.0, 4.0, 5.0, 5.0, 4.0, 5.0, 4.0, 5.0, 5.0, 5.0, 1.0, 3.0, 5.0, 4.0, 3.0, 3.0, 5.0, 5.0, 3.0, 3.0, 3.0, 4.0, 5.0, 5.0, 4.0, 3.0, 1.0, 4.0, 4.0, 4.0, 4.0, 3.0, 3.0, 5.0, 1.0, 4.0, 5.0, 4.0, 4.0, 5.0, 5.0, 5.0, 5.0, 4.0, 2.0, 5.0, 5.0, 4.0, 1.0, 2.0, 4.0, 5.0, 5.0, 4.0, 5.0, 5.0, 2.0, 5.0, 4.0, 5.0, 5.0, 3.0, 5.0, 5.0, 5.0, 4.0, 5.0, 5.0, 5.0, 5.0, 1.0, 5.0, 4.0, 5.0, 4.0, 4.0, 5.0, 1.0, 5.0, 4.0, 2.0, 5.0, 5.0, 2.0, 1.0, 2.0, 4.0, 4.0, 5.0, 4.0, 5.0, 3.0, 5.0, 3.0, 5.0, 5.0, 4.0, 4.0, 3.0, 5.0, 4.0, 5.0, 3.0, 3.0, 1.0, 3.0, 3.0, 5.0, 2.0, 1.0, 5.0, 5.0, 5.0, 5.0, 5.0, 3.0, 4.0, 1.0, 3.0, 5.0, 5.0, 5.0, 5.0, 5.0, 5.0, 5.0, 5.0, 5.0, 1.0, 5.0, 5.0, 5.0, 2.0, 3.0, 3.0, 3.0, 2.0, 5.0, 2.0, 5.0, 5.0, 5.0, 5.0, 3.0, 4.0, 5.0, 1.0, 5.0, 5.0, 1.0, 3.0, 5.0, 4.0, 3.0, 4.0, 4.0, 2.0, 5.0, 4.0, 5.0, 5.0, 3.0, 4.0, 4.0, 5.0, 4.0, 1.0, 1.0, 3.0, 5.0, 1.0, 5.0, 4.0, 4.0, 5.0, 4.0, 5.0, 5.0, 5.0, 4.0, 4.0, 3.0, 5.0, 3.0, 4.0, 4.0, 4.0, 4.0, 4.0, 4.0, 1.0, 4.0, 5.0, 5.0, 4.0, 1.0, 3.0, 2.0, 4.0, 5.0, 2.0, 2.0, 5.0, 2.0, 4.0, 5.0, 5.0, 5.0, 5.0, 3.0, 4.0, 3.0, 4.0, 4.0, 5.0, 5.0, 4.0, 5.0, 4.0, 4.0, 5.0, 5.0, 5.0, 4.0, 5.0, 3.0, 4.0, 5.0, 4.0, 2.0, 5.0, 5.0, 3.0, 1.0, 1.0, 2.0, 5.0, 4.0, 4.0, 4.0, 5.0, 3.0, 3.0, 4.0, 5.0, 5.0, 4.0, 1.0, 4.0, 5.0, 4.0, 4.0, 2.0, 3.0, 4.0, 4.0, 5.0, 5.0, 3.0, 4.0, 4.0, 4.0, 5.0, 5.0, 1.0, 3.0, 4.0, 4.0, 2.0, 5.0, 5.0, 3.0, 5.0, 1.0, 5.0, 3.0, 1.0, 5.0, 3.0, 2.0, 4.0, 4.0, 3.0, 3.0, 4.0, 5.0, 5.0, 1.0, 3.0, 5.0, 1.0, 1.0, 1.0, 4.0, 5.0, 4.0, 5.0, 5.0, 3.0, 4.0, 3.0, 5.0, 4.0, 2.0, 4.0, 4.0, 5.0, 4.0, 4.0, 5.0, 4.0, 3.0, 5.0, 5.0, 3.0, 4.0, 5.0, 5.0, 5.0, 3.0, 4.0, 1.0, 5.0, 4.0, 1.0, 3.0, 5.0, 4.0, 5.0, 5.0, 1.0, 5.0, 3.0, 4.0, 5.0, 4.0, 5.0, 3.0, 4.0, 5.0, 5.0, 3.0, 5.0, 5.0, 4.0, 4.0, 5.0, 5.0, 4.0, 3.0, 1.0, 5.0, 3.0, 5.0, 1.0, 3.0, 5.0, 3.0, 5.0, 2.0, 2.0, 4.0, 4.0, 4.0, 5.0, 5.0, 4.0, 5.0, 4.0, 1.0, 5.0, 5.0, 5.0, 5.0, 5.0, 4.0, 4.0, 5.0, 5.0, 5.0, 4.0, 4.0, 5.0, 3.0, 5.0, 3.0, 5.0, 5.0, 4.0, 5.0, 1.0, 4.0, 3.0, 4.0, 5.0, 3.0, 5.0, 5.0, 3.0, 5.0, 2.0, 5.0, 5.0, 5.0, 5.0, 4.0, 5.0, 5.0, 1.0, 4.0, 2.0, 5.0, 4.0, 3.0, 5.0, 3.0, 5.0, 5.0, 5.0, 3.0, 5.0, 4.0, 5.0, 4.0, 3.0, 4.0, 5.0, 4.0, 2.0, 1.0, 4.0, 2.0, 5.0, 2.0, 5.0, 5.0, 5.0, 3.0, 5.0, 4.0, 5.0, 5.0, 5.0, 4.0, 5.0, 5.0, 5.0, 4.0, 2.0, 1.0, 4.0, 3.0, 5.0, 5.0, 3.0, 3.0, 5.0, 4.0, 4.0, 5.0, 3.0, 5.0, 5.0, 5.0, 5.0, 5.0, 5.0, 5.0, 5.0, 4.0, 2.0, 3.0, 1.0, 4.0, 5.0, 4.0, 3.0, 2.0, 4.0, 5.0, 5.0, 4.0, 5.0, 5.0, 1.0, 4.0, 5.0, 4.0, 5.0, 2.0, 3.0, 3.0, 5.0, 3.0, 4.0, 4.0, 5.0, 4.0, 4.0, 4.0, 4.0, 5.0, 5.0, 3.0, 4.0, 5.0, 4.0, 4.0, 3.0, 5.0, 4.0, 5.0, 5.0, 4.0, 4.0, 3.0, 1.0, 4.0, 5.0, 4.0, 5.0, 4.0, 2.0, 5.0, 5.0, 5.0, 4.0, 5.0, 3.0, 3.0, 3.0, 5.0, 3.0, 4.0, 5.0, 5.0, 5.0, 5.0, 5.0, 3.0, 4.0, 5.0, 3.0, 4.0, 5.0, 5.0, 4.0, 5.0, 5.0, 4.0, 4.0, 4.0, 4.0, 4.0, 1.0, 5.0, 5.0, 4.0, 3.0, 1.0, 4.0, 2.0, 3.0, 5.0, 4.0, 4.0, 3.0, 4.0, 4.0, 4.0, 3.0, 5.0, 3.0, 3.0, 4.0, 4.0, 3.0, 4.0, 4.0, 4.0, 5.0, 2.0, 5.0, 3.0, 4.0, 4.0, 5.0, 5.0, 5.0, 4.0, 4.0, 3.0, 5.0, 1.0, 4.0, 2.0, 1.0, 4.0, 1.0, 5.0, 3.0, 5.0, 5.0, 5.0, 3.0, 4.0, 2.0, 5.0, 5.0, 4.0, 5.0, 5.0, 3.0, 5.0, 4.0, 1.0, 5.0, 2.0, 5.0, 5.0, 3.0, 2.0, 5.0, 5.0, 2.0, 4.0, 5.0, 4.0, 4.0, 5.0, 5.0, 3.0, 3.0, 3.0, 4.0, 2.0, 4.0, 1.0, 1.0, 3.0, 3.0, 4.0, 5.0, 3.0, 5.0, 4.0, 5.0, 3.0, 5.0, 2.0, 1.0, 5.0, 4.0, 5.0, 5.0, 4.0, 2.0, 5.0, 4.0, 5.0, 1.0, 3.0, 5.0, 5.0, 5.0, 5.0, 5.0, 4.0, 4.0, 4.0, 5.0, 1.0, 4.0, 5.0, 4.0, 4.0, 4.0, 4.0, 1.0, 3.0, 4.0, 5.0, 2.0, 5.0, 4.0, 3.0, 1.0, 1.0, 5.0, 4.0, 5.0, 4.0, 4.0, 4.0, 3.0, 4.0, 4.0, 5.0, 3.0, 5.0, 4.0, 4.0, 5.0, 2.0, 5.0, 3.0, 3.0, 3.0, 3.0, 5.0, 4.0, 2.0, 5.0, 3.0, 5.0, 5.0, 5.0, 2.0, 3.0, 2.0, 5.0, 2.0, 4.0, 2.0, 4.0, 5.0, 5.0, 5.0, 1.0, 4.0, 5.0, 5.0, 4.0, 2.0, 2.0, 5.0, 3.0, 5.0, 5.0, 4.0, 4.0, 5.0, 4.0, 5.0, 4.0, 4.0, 3.0, 5.0, 2.0, 3.0, 5.0, 4.0, 5.0, 3.0, 5.0, 3.0, 5.0, 4.0, 4.0, 4.0, 3.0, 5.0, 2.0, 4.0, 5.0, 5.0, 4.0, 4.0, 5.0, 2.0, 5.0, 5.0, 5.0, 5.0, 5.0, 5.0, 5.0, 4.0, 3.0, 4.0, 1.0, 5.0, 5.0, 5.0, 5.0, 2.0, 5.0, 5.0, 4.0, 1.0, 2.0, 4.0, 5.0, 1.0, 5.0, 3.0, 5.0, 5.0, 5.0, 2.0, 5.0, 5.0, 1.0, 4.0, 5.0, 4.0, 5.0, 4.0, 3.0, 5.0, 2.0, 5.0, 4.0, 5.0, 2.0, 5.0, 4.0, 5.0, 1.0, 1.0, 5.0, 5.0, 4.0, 4.0, 1.0, 2.0, 3.0, 5.0, 5.0, 5.0, 5.0, 2.0, 5.0, 2.0, 4.0, 5.0, 5.0, 3.0, 5.0, 5.0, 5.0, 4.0, 5.0, 5.0, 4.0, 5.0, 5.0, 4.0, 5.0, 4.0, 5.0, 5.0, 4.0, 5.0, 4.0, 5.0, 4.0, 5.0, 1.0, 2.0, 5.0, 5.0, 5.0, 2.0, 5.0, 5.0, 4.0, 4.0, 4.0, 4.0, 1.0, 2.0, 4.0, 3.0, 3.0, 4.0, 3.0, 1.0, 4.0, 1.0, 5.0, 5.0, 4.0, 5.0, 5.0, 5.0, 5.0, 5.0, 3.0, 2.0, 3.0, 5.0, 3.0, 2.0, 4.0, 5.0, 5.0, 4.0, 3.0, 4.0, 3.0, 3.0, 3.0, 4.0, 3.0, 1.0, 3.0, 5.0, 4.0, 3.0, 1.0, 5.0, 3.0, 3.0, 5.0, 5.0, 5.0, 5.0, 4.0, 5.0, 2.0, 4.0, 1.0, 4.0, 5.0, 5.0, 1.0, 5.0, 5.0, 5.0, 5.0, 4.0, 2.0, 5.0, 5.0, 5.0, 5.0, 3.0, 4.0, 5.0, 4.0, 5.0, 4.0, 5.0, 5.0, 5.0, 5.0, 1.0, 5.0, 4.0, 5.0, 4.0, 4.0, 2.0, 4.0, 4.0, 2.0, 4.0, 4.0, 5.0, 5.0, 3.0, 5.0, 4.0, 4.0, 1.0, 5.0, 4.0, 4.0, 1.0, 4.0, 5.0, 3.0, 5.0, 5.0, 3.0, 3.0, 2.0, 5.0, 5.0, 3.0, 4.0, 5.0, 5.0, 4.0, 4.0, 5.0, 4.0, 5.0, 4.0, 3.0, 4.0, 2.0, 4.0, 5.0, 5.0, 4.0, 5.0, 4.0, 4.0, 4.0, 5.0, 4.0, 5.0, 3.0, 4.0, 3.0, 5.0, 4.0, 5.0, 4.0, 1.0, 4.0, 4.0, 5.0, 5.0, 5.0, 5.0, 5.0, 5.0, 4.0, 5.0, 4.0, 3.0, 1.0, 4.0, 4.0, 3.0, 5.0, 3.0, 4.0, 3.0, 3.0, 3.0, 5.0, 5.0, 5.0, 4.0, 2.0, 5.0, 5.0, 5.0, 5.0, 5.0, 4.0, 2.0, 3.0, 3.0, 4.0, 3.0, 5.0, 5.0, 3.0, 3.0, 5.0, 5.0, 5.0, 4.0, 4.0, 4.0, 5.0, 4.0, 1.0, 4.0, 5.0, 3.0, 3.0, 5.0, 5.0, 5.0, 5.0, 5.0, 5.0, 5.0, 3.0, 4.0, 4.0, 4.0, 3.0, 4.0, 5.0, 5.0, 3.0, 2.0, 1.0, 5.0, 5.0, 4.0, 5.0, 2.0, 4.0, 3.0, 4.0, 5.0, 5.0, 1.0, 5.0, 3.0, 4.0, 4.0, 1.0, 2.0, 4.0, 3.0, 3.0, 4.0, 3.0, 5.0, 3.0, 5.0, 4.0, 3.0, 2.0, 4.0, 2.0, 5.0, 5.0, 4.0, 2.0, 2.0, 4.0, 5.0, 5.0, 4.0, 5.0, 5.0, 2.0, 4.0, 4.0, 5.0, 2.0, 5.0, 4.0, 4.0, 3.0, 1.0, 3.0, 4.0, 2.0, 4.0, 5.0, 2.0, 4.0, 4.0, 5.0, 3.0, 5.0, 5.0, 3.0, 5.0, 4.0, 1.0, 5.0, 5.0, 5.0, 5.0, 5.0, 5.0, 2.0, 4.0, 5.0, 5.0, 5.0, 1.0, 4.0, 4.0, 5.0, 5.0, 5.0, 4.0, 4.0, 5.0, 3.0, 4.0, 5.0, 4.0, 5.0, 4.0, 4.0, 1.0, 5.0, 4.0, 4.0, 4.0, 1.0, 4.0, 5.0, 3.0, 2.0, 4.0, 5.0, 5.0, 3.0, 2.0, 5.0, 1.0, 3.0, 4.0, 2.0, 4.0, 4.0, 4.0, 5.0, 2.0, 5.0, 4.0, 5.0, 1.0, 5.0, 4.0, 5.0, 3.0, 3.0, 3.0, 3.0, 5.0, 5.0, 4.0, 4.0, 4.0, 3.0, 5.0, 4.0, 4.0, 5.0, 5.0, 4.0, 4.0, 1.0, 4.0, 5.0, 3.0, 1.0, 5.0, 4.0, 4.0, 4.0, 1.0, 4.0, 5.0, 4.0, 1.0, 4.0, 4.0, 5.0, 4.0, 4.0, 3.0, 4.0, 4.0, 5.0, 5.0, 4.0, 3.0, 5.0, 3.0, 5.0, 5.0, 3.0, 3.0, 5.0, 3.0, 3.0, 5.0, 4.0, 5.0, 1.0, 3.0, 5.0, 5.0, 4.0, 2.0, 4.0, 4.0, 4.0, 2.0, 4.0, 5.0, 5.0, 5.0, 4.0, 1.0, 5.0, 2.0, 4.0, 3.0, 3.0, 1.0, 1.0, 4.0, 4.0, 3.0, 5.0, 2.0, 4.0, 4.0, 4.0, 3.0, 5.0, 2.0, 3.0, 3.0, 3.0, 4.0, 5.0, 5.0, 5.0, 3.0, 1.0, 4.0, 5.0, 5.0, 5.0, 4.0, 4.0, 5.0, 3.0, 3.0, 4.0, 4.0, 5.0, 5.0, 4.0, 4.0, 3.0, 2.0, 5.0, 5.0, 4.0, 4.0, 4.0, 5.0, 5.0, 4.0, 5.0, 5.0, 4.0, 1.0, 1.0, 4.0, 3.0, 1.0, 4.0, 4.0, 5.0, 5.0, 5.0, 1.0, 2.0, 4.0, 2.0, 5.0, 4.0, 5.0, 5.0, 5.0, 4.0, 1.0, 2.0, 4.0, 3.0, 5.0, 4.0, 5.0, 5.0, 5.0, 4.0, 4.0, 3.0, 5.0, 5.0, 3.0, 1.0, 4.0, 5.0, 5.0, 3.0, 5.0, 4.0, 5.0, 3.0, 5.0, 3.0, 4.0, 5.0, 3.0, 5.0, 4.0, 3.0, 3.0, 5.0, 3.0, 5.0, 4.0, 2.0, 5.0, 5.0, 1.0, 2.0, 5.0, 4.0, 4.0, 4.0, 5.0, 4.0, 5.0, 5.0, 5.0, 5.0, 1.0, 5.0, 5.0, 5.0, 5.0, 5.0, 4.0, 5.0, 1.0, 4.0, 5.0, 4.0, 1.0, 4.0, 5.0, 4.0, 5.0, 5.0, 3.0, 5.0, 1.0, 5.0, 4.0, 4.0, 5.0, 1.0, 4.0, 5.0, 5.0, 4.0, 5.0, 3.0, 5.0, 4.0, 2.0, 5.0, 4.0, 4.0, 5.0, 4.0, 3.0, 1.0, 3.0, 5.0, 5.0, 5.0, 5.0, 5.0, 5.0, 4.0, 4.0, 4.0, 3.0, 5.0, 4.0, 4.0, 3.0, 4.0, 1.0, 5.0, 5.0, 5.0, 2.0, 4.0, 4.0, 4.0, 4.0, 5.0, 4.0, 5.0, 3.0, 4.0, 3.0, 3.0, 4.0, 4.0, 5.0, 4.0, 4.0, 1.0, 4.0, 4.0, 1.0, 4.0, 4.0, 5.0, 5.0, 3.0, 5.0, 1.0, 5.0, 1.0, 4.0, 4.0, 4.0, 5.0, 5.0, 3.0, 4.0, 5.0, 4.0, 4.0, 4.0, 4.0, 2.0, 5.0, 5.0, 4.0, 1.0, 5.0, 5.0, 4.0, 5.0, 5.0, 5.0, 2.0, 5.0, 5.0, 5.0, 2.0, 3.0, 4.0, 4.0, 4.0, 4.0, 5.0, 5.0, 5.0, 5.0, 5.0, 3.0, 4.0, 3.0, 4.0, 4.0, 5.0, 3.0, 5.0, 5.0, 5.0, 3.0, 4.0, 4.0, 4.0, 4.0, 5.0, 3.0, 4.0, 5.0, 3.0, 5.0, 4.0, 4.0, 5.0, 5.0, 1.0, 5.0, 5.0, 5.0, 1.0, 3.0, 1.0, 2.0, 3.0, 1.0, 4.0, 5.0, 5.0, 5.0, 5.0, 5.0, 5.0, 4.0, 5.0, 5.0, 4.0, 5.0, 5.0, 5.0, 5.0, 5.0, 2.0, 5.0, 3.0, 4.0, 4.0, 3.0, 1.0, 5.0, 1.0, 5.0, 4.0, 4.0, 5.0, 5.0, 3.0, 3.0, 5.0, 5.0, 1.0, 4.0, 2.0, 5.0, 4.0, 4.0, 2.0, 5.0, 3.0, 5.0, 4.0, 4.0, 3.0, 4.0, 5.0, 1.0, 5.0, 5.0, 5.0, 3.0, 5.0, 2.0, 1.0, 3.0, 4.0, 3.0, 3.0, 5.0, 4.0, 4.0, 2.0, 5.0, 5.0, 5.0, 1.0, 4.0, 2.0, 2.0, 5.0, 5.0, 4.0, 5.0, 3.0, 1.0, 5.0, 5.0, 5.0, 1.0, 5.0, 5.0, 3.0, 4.0, 5.0, 1.0, 1.0, 1.0, 4.0, 3.0, 3.0, 2.0, 5.0, 2.0, 5.0, 5.0, 5.0, 5.0, 5.0, 4.0, 5.0, 5.0, 4.0, 1.0, 5.0, 3.0, 3.0, 3.0, 4.0, 5.0, 4.0, 4.0, 5.0, 5.0, 1.0, 5.0, 3.0, 4.0, 5.0, 5.0, 5.0, 5.0, 4.0, 5.0, 2.0, 4.0, 5.0, 5.0, 4.0, 4.0, 2.0, 5.0, 5.0, 3.0, 4.0, 4.0, 3.0, 5.0, 4.0, 5.0, 5.0, 1.0, 4.0, 2.0, 4.0, 4.0, 1.0, 4.0, 2.0, 5.0, 5.0, 2.0, 4.0, 4.0, 5.0, 1.0, 4.0, 2.0, 5.0, 5.0, 4.0, 5.0, 2.0, 4.0, 5.0, 4.0, 5.0, 4.0, 4.0, 5.0, 5.0, 3.0, 5.0, 5.0, 1.0, 5.0, 5.0, 4.0, 4.0, 5.0, 5.0, 5.0, 5.0, 4.0, 5.0, 5.0, 2.0, 5.0, 5.0, 3.0, 4.0, 4.0, 3.0, 1.0, 2.0, 1.0, 4.0, 5.0, 3.0, 3.0, 4.0, 2.0, 5.0, 3.0, 5.0, 5.0, 5.0, 3.0, 5.0, 4.0, 5.0, 3.0, 5.0, 5.0, 5.0, 4.0, 2.0, 1.0, 5.0, 5.0, 5.0, 4.0, 4.0, 5.0, 2.0, 5.0, 5.0, 5.0, 1.0, 5.0, 5.0, 4.0, 5.0, 5.0, 5.0, 2.0, 4.0, 5.0, 5.0, 4.0, 5.0, 5.0, 1.0, 1.0, 5.0, 3.0, 2.0, 1.0, 3.0, 1.0, 5.0, 5.0, 2.0, 5.0, 2.0, 2.0, 4.0, 5.0, 3.0, 5.0, 4.0, 5.0, 5.0, 5.0, 5.0, 3.0, 5.0, 5.0, 5.0, 5.0, 3.0, 1.0, 4.0, 3.0, 4.0, 4.0, 5.0, 5.0, 4.0, 4.0, 4.0, 3.0, 5.0, 4.0, 4.0, 5.0, 4.0, 4.0, 4.0, 5.0, 3.0, 1.0, 4.0, 1.0, 4.0, 4.0, 1.0, 5.0, 2.0, 5.0, 5.0, 4.0, 4.0, 1.0, 1.0, 2.0, 5.0, 3.0, 5.0, 1.0, 5.0, 5.0, 5.0, 3.0, 5.0, 5.0, 5.0, 5.0, 5.0, 3.0, 3.0, 5.0, 5.0, 3.0, 5.0, 5.0, 5.0, 4.0, 2.0, 5.0, 5.0, 5.0, 4.0, 5.0, 5.0, 5.0, 4.0, 4.0, 4.0, 5.0, 2.0, 5.0, 3.0, 4.0, 3.0, 2.0, 5.0, 4.0, 5.0, 1.0, 1.0, 3.0, 5.0, 3.0, 4.0, 5.0, 5.0, 2.0, 4.0, 5.0, 4.0, 5.0, 4.0, 4.0, 5.0, 3.0, 5.0, 5.0, 4.0, 2.0, 4.0, 5.0, 3.0, 1.0, 5.0, 3.0, 5.0, 1.0, 3.0, 2.0, 4.0, 4.0, 4.0, 4.0, 4.0, 1.0, 4.0, 5.0, 4.0, 5.0, 4.0, 5.0, 5.0, 4.0, 5.0, 4.0, 5.0, 3.0, 3.0, 3.0, 3.0, 4.0, 4.0, 5.0, 4.0, 5.0, 5.0, 3.0, 4.0, 4.0, 3.0, 1.0, 4.0, 5.0, 3.0, 1.0, 5.0, 4.0, 5.0, 5.0, 5.0, 4.0, 5.0, 5.0, 5.0, 4.0, 3.0, 4.0, 5.0, 4.0, 4.0, 5.0, 4.0, 5.0, 5.0, 5.0, 4.0, 4.0, 5.0, 5.0, 5.0, 3.0, 5.0, 2.0, 5.0, 5.0, 2.0, 4.0, 4.0, 5.0, 5.0, 4.0, 3.0, 5.0, 5.0, 5.0, 4.0, 5.0, 4.0, 3.0, 5.0, 5.0, 3.0, 5.0, 5.0, 2.0, 2.0, 5.0, 1.0, 5.0, 3.0, 1.0, 4.0, 3.0, 1.0, 3.0, 5.0, 3.0, 4.0, 5.0, 5.0, 2.0, 4.0, 4.0, 5.0, 2.0, 5.0, 1.0, 2.0, 5.0, 4.0, 1.0, 5.0, 3.0, 4.0, 4.0, 4.0, 4.0, 5.0, 5.0, 3.0, 4.0, 5.0, 4.0, 3.0, 5.0, 5.0, 4.0, 5.0, 5.0, 5.0, 5.0, 5.0, 3.0, 5.0, 5.0, 3.0, 5.0, 5.0, 5.0, 5.0, 5.0, 3.0, 3.0, 5.0, 5.0, 1.0, 5.0, 5.0, 5.0, 5.0, 2.0, 3.0, 5.0, 4.0, 5.0, 3.0, 3.0, 5.0, 5.0, 3.0, 3.0, 5.0, 3.0, 5.0, 5.0, 1.0, 4.0, 4.0, 5.0, 4.0, 5.0, 4.0, 5.0, 5.0, 5.0, 5.0, 4.0, 3.0, 5.0, 4.0, 4.0, 5.0, 4.0, 1.0, 5.0, 5.0, 5.0, 5.0, 4.0, 5.0, 3.0, 4.0, 1.0, 3.0, 3.0, 2.0, 5.0, 1.0, 5.0, 1.0, 4.0, 4.0, 5.0, 4.0, 4.0, 5.0, 4.0, 5.0, 4.0, 4.0, 4.0, 5.0, 3.0, 3.0, 5.0, 4.0, 2.0, 5.0, 5.0, 5.0, 1.0, 5.0, 4.0, 5.0, 1.0, 4.0, 3.0, 1.0, 5.0, 2.0, 4.0, 4.0, 5.0, 5.0, 1.0, 4.0, 3.0, 2.0, 5.0, 4.0, 5.0, 1.0, 5.0, 5.0, 4.0, 5.0, 4.0, 5.0, 5.0, 5.0, 3.0, 1.0, 5.0, 4.0, 5.0, 5.0, 4.0, 1.0, 5.0, 5.0, 1.0, 4.0, 4.0, 4.0, 5.0, 3.0, 2.0, 4.0, 3.0, 5.0, 1.0, 3.0, 5.0, 3.0, 5.0, 5.0, 3.0, 1.0, 5.0, 5.0, 5.0, 2.0, 3.0, 3.0, 4.0, 4.0, 5.0, 4.0, 3.0, 1.0, 3.0, 3.0, 3.0, 5.0, 3.0, 5.0, 4.0, 5.0, 5.0, 5.0, 5.0, 5.0, 5.0, 5.0, 4.0, 3.0, 5.0, 5.0, 4.0, 5.0, 5.0, 5.0, 1.0, 4.0, 5.0, 5.0, 3.0, 5.0, 5.0, 5.0, 2.0, 5.0, 5.0, 5.0, 5.0, 5.0, 4.0, 4.0, 4.0, 4.0, 4.0, 5.0, 1.0, 4.0, 4.0, 2.0, 4.0, 4.0, 5.0, 5.0, 5.0, 3.0, 5.0, 3.0, 5.0, 5.0, 5.0, 5.0, 3.0, 1.0, 5.0, 1.0, 5.0, 1.0, 4.0, 4.0, 1.0, 5.0, 4.0, 3.0, 3.0, 3.0, 5.0, 4.0, 4.0, 4.0, 3.0, 4.0, 5.0, 5.0, 5.0, 1.0, 4.0, 5.0, 5.0, 3.0, 3.0, 5.0, 4.0, 1.0, 5.0, 4.0, 4.0, 1.0, 5.0, 4.0, 5.0, 4.0, 2.0, 4.0, 4.0, 5.0, 2.0, 2.0, 5.0, 5.0, 3.0, 5.0, 4.0, 4.0, 5.0, 3.0, 5.0, 5.0, 5.0, 5.0, 4.0, 4.0, 1.0, 5.0, 5.0, 2.0, 5.0, 5.0, 4.0, 3.0, 5.0, 3.0, 3.0, 2.0, 4.0, 2.0, 4.0, 5.0, 5.0, 5.0, 5.0, 3.0, 5.0, 3.0, 5.0, 4.0, 5.0, 4.0, 3.0, 5.0, 5.0, 5.0, 5.0, 4.0, 5.0, 3.0, 2.0, 5.0, 3.0, 5.0, 5.0, 5.0, 5.0, 4.0, 3.0, 2.0, 5.0, 4.0, 4.0, 5.0, 5.0, 3.0, 5.0, 5.0, 5.0, 2.0, 5.0, 4.0, 4.0, 5.0, 5.0, 5.0, 2.0, 4.0, 5.0, 2.0, 5.0, 5.0, 5.0, 5.0, 5.0, 5.0, 5.0, 5.0, 5.0, 5.0, 5.0, 4.0, 2.0, 2.0, 1.0, 4.0, 5.0, 5.0, 5.0, 2.0, 2.0, 5.0, 5.0, 5.0, 3.0, 2.0, 5.0, 2.0, 5.0, 2.0, 4.0, 5.0, 2.0, 5.0, 2.0, 3.0, 2.0, 3.0, 5.0, 5.0, 2.0, 5.0, 5.0, 5.0, 4.0, 5.0, 4.0, 4.0, 5.0, 1.0, 1.0, 4.0, 4.0, 5.0, 5.0, 5.0, 2.0, 4.0, 5.0, 5.0, 4.0, 2.0, 2.0, 3.0, 5.0, 5.0, 3.0, 5.0, 1.0, 5.0, 5.0, 5.0, 4.0, 3.0, 4.0, 5.0, 3.0, 3.0, 5.0, 2.0, 3.0, 3.0, 1.0, 5.0, 5.0, 5.0, 1.0, 3.0, 5.0, 4.0, 5.0, 4.0, 4.0, 4.0, 3.0, 5.0, 2.0, 2.0, 4.0, 5.0, 3.0, 5.0, 4.0, 5.0, 4.0, 5.0, 5.0, 5.0, 2.0, 5.0, 1.0, 1.0, 5.0, 5.0, 5.0, 5.0, 3.0, 5.0, 3.0, 4.0, 3.0, 5.0, 4.0, 3.0, 5.0, 4.0, 4.0, 5.0, 5.0, 4.0, 3.0, 5.0, 4.0, 4.0, 2.0, 5.0, 5.0, 5.0, 3.0, 5.0, 5.0, 3.0, 5.0, 5.0, 4.0, 5.0, 5.0, 4.0, 3.0, 5.0, 4.0, 2.0, 4.0, 4.0, 5.0, 5.0, 4.0, 2.0, 4.0, 4.0, 2.0, 1.0, 1.0, 3.0, 3.0, 5.0, 5.0, 3.0, 4.0, 2.0, 1.0, 4.0, 5.0, 5.0, 5.0, 5.0, 4.0, 1.0, 4.0, 5.0, 5.0, 2.0, 2.0, 2.0, 4.0, 3.0, 5.0, 3.0, 5.0, 3.0, 3.0, 5.0, 4.0, 4.0, 2.0, 5.0, 5.0, 5.0, 5.0, 3.0, 3.0, 4.0, 4.0, 4.0, 4.0, 4.0, 4.0, 5.0, 5.0, 5.0, 2.0, 4.0, 2.0, 5.0, 4.0, 4.0, 5.0, 4.0, 4.0, 5.0, 2.0, 5.0, 5.0, 5.0, 4.0, 4.0, 5.0, 1.0, 5.0, 5.0, 4.0, 3.0, 4.0, 4.0, 5.0, 1.0, 4.0, 2.0, 2.0, 5.0, 3.0, 3.0, 5.0, 3.0, 1.0, 2.0, 5.0, 5.0, 2.0, 4.0, 3.0, 3.0, 5.0, 5.0, 5.0, 1.0, 4.0, 1.0, 5.0, 5.0, 5.0, 5.0, 5.0, 5.0, 4.0, 4.0, 3.0, 3.0, 5.0, 5.0, 4.0, 1.0, 4.0, 5.0, 1.0, 5.0, 3.0, 4.0, 5.0, 2.0, 5.0, 3.0, 4.0, 5.0, 1.0, 4.0, 5.0, 5.0, 2.0, 1.0, 5.0, 5.0, 5.0, 2.0, 5.0, 4.0, 4.0, 4.0, 5.0, 3.0, 5.0, 2.0, 5.0, 5.0, 5.0, 2.0, 5.0, 3.0, 4.0, 5.0, 5.0, 4.0, 4.0, 5.0, 5.0, 5.0, 5.0, 3.0, 3.0, 1.0, 3.0, 1.0, 4.0, 5.0, 4.0, 5.0, 5.0, 4.0, 4.0, 4.0, 5.0, 4.0, 2.0, 2.0, 1.0, 4.0, 3.0, 5.0, 1.0, 3.0, 5.0, 5.0, 5.0, 5.0, 2.0, 5.0, 5.0, 5.0, 4.0, 5.0, 4.0, 4.0, 5.0, 5.0, 5.0, 4.0, 4.0, 4.0, 4.0, 1.0, 3.0, 3.0, 4.0, 5.0, 5.0, 1.0, 5.0, 5.0, 5.0, 3.0, 4.0, 4.0, 4.0, 4.0, 5.0, 4.0, 5.0, 5.0, 4.0, 5.0, 3.0, 4.0, 3.0, 5.0, 5.0, 4.0, 5.0, 3.0, 4.0, 5.0, 4.0, 4.0, 5.0, 4.0, 5.0, 1.0, 5.0, 5.0, 4.0, 4.0, 3.0, 4.0, 4.0, 4.0, 5.0, 2.0, 5.0, 3.0, 3.0, 5.0, 4.0, 5.0, 5.0, 5.0, 1.0, 5.0, 5.0, 3.0, 5.0, 5.0, 5.0, 5.0, 5.0, 4.0, 1.0, 2.0, 3.0, 4.0, 5.0, 5.0, 5.0, 4.0, 1.0, 5.0, 5.0, 5.0, 5.0, 4.0, 5.0, 3.0, 5.0, 4.0, 2.0, 2.0, 1.0, 4.0, 2.0, 4.0, 4.0, 4.0, 4.0, 5.0, 5.0, 1.0, 3.0, 2.0, 5.0, 3.0, 1.0, 4.0, 3.0, 5.0, 5.0, 5.0, 4.0, 5.0, 1.0, 4.0, 2.0, 5.0, 4.0, 5.0, 5.0, 1.0, 4.0, 5.0, 4.0, 5.0, 1.0, 4.0, 4.0, 2.0, 5.0, 4.0, 3.0, 4.0, 3.0, 5.0, 5.0, 3.0, 5.0, 4.0, 1.0, 5.0, 4.0, 5.0, 5.0, 5.0, 2.0, 4.0, 3.0, 3.0, 4.0, 5.0, 3.0, 1.0, 5.0, 2.0, 1.0, 4.0, 5.0, 5.0, 5.0, 5.0, 5.0, 5.0, 5.0, 5.0, 1.0, 5.0, 3.0, 5.0, 3.0, 1.0, 5.0, 1.0, 5.0, 5.0, 2.0, 5.0, 2.0, 5.0, 4.0, 5.0, 3.0, 4.0, 4.0, 5.0, 5.0, 1.0, 3.0, 5.0, 4.0, 4.0, 4.0, 4.0, 4.0, 5.0, 4.0, 3.0, 4.0, 5.0, 4.0, 4.0, 4.0, 3.0, 5.0, 5.0, 4.0, 4.0, 5.0, 5.0, 4.0, 1.0, 5.0, 2.0, 5.0, 5.0, 5.0, 4.0, 3.0, 4.0, 1.0, 5.0, 5.0, 5.0, 5.0, 2.0, 5.0, 4.0, 5.0, 5.0, 5.0, 4.0, 3.0, 4.0, 3.0, 5.0, 1.0, 5.0, 4.0, 2.0, 5.0, 3.0, 4.0, 3.0, 5.0, 4.0, 2.0, 5.0, 4.0, 5.0, 4.0, 4.0, 5.0, 5.0, 2.0, 3.0, 4.0, 4.0, 1.0, 3.0, 3.0, 5.0, 1.0, 4.0, 5.0, 3.0, 5.0, 4.0, 3.0, 5.0, 5.0, 2.0, 4.0, 4.0, 1.0, 4.0, 4.0, 4.0, 4.0, 5.0, 4.0, 4.0, 5.0, 4.0, 3.0, 4.0, 5.0, 5.0, 1.0, 2.0, 5.0, 5.0, 5.0, 5.0, 4.0, 4.0, 5.0, 4.0, 3.0, 4.0, 4.0, 1.0, 4.0, 5.0, 5.0, 4.0, 4.0, 4.0, 5.0, 5.0, 5.0, 2.0, 5.0, 4.0, 5.0, 1.0, 5.0, 3.0, 3.0, 4.0, 5.0, 3.0, 3.0, 1.0, 3.0, 1.0, 2.0, 4.0, 4.0, 5.0, 5.0, 1.0, 5.0, 5.0, 5.0, 4.0, 3.0, 3.0, 5.0, 3.0, 5.0, 3.0, 4.0, 4.0, 5.0, 3.0, 5.0, 2.0, 5.0, 1.0, 5.0, 5.0, 5.0, 3.0, 4.0, 5.0, 3.0, 3.0, 3.0, 4.0, 5.0, 4.0, 5.0, 3.0, 4.0, 4.0, 3.0, 5.0, 5.0, 1.0, 5.0, 1.0, 5.0, 5.0, 4.0, 5.0, 5.0, 5.0, 5.0, 4.0, 5.0, 5.0, 4.0, 1.0, 4.0, 4.0, 5.0, 4.0, 5.0, 5.0, 4.0, 2.0, 5.0, 2.0, 3.0, 5.0, 3.0, 4.0, 3.0, 4.0, 3.0, 2.0, 5.0, 4.0, 5.0, 4.0, 5.0, 2.0, 1.0, 5.0, 1.0, 3.0, 3.0, 3.0, 4.0, 4.0, 3.0, 1.0, 5.0, 3.0, 5.0, 2.0, 2.0, 5.0, 5.0, 5.0, 5.0, 4.0, 5.0, 4.0, 2.0, 5.0, 3.0, 1.0, 3.0, 5.0, 5.0, 5.0, 4.0, 2.0, 4.0, 5.0, 1.0, 5.0, 4.0, 5.0, 5.0, 5.0, 4.0, 1.0, 5.0, 3.0, 2.0, 3.0, 4.0, 5.0, 5.0, 4.0, 1.0, 4.0, 3.0, 3.0, 4.0, 4.0, 5.0, 4.0, 2.0, 5.0, 1.0, 4.0, 5.0, 5.0, 4.0, 3.0, 5.0, 2.0, 5.0, 4.0, 4.0, 3.0, 5.0, 3.0, 4.0, 5.0, 1.0, 5.0, 5.0, 4.0, 5.0, 3.0, 4.0, 4.0, 5.0, 1.0, 5.0, 5.0, 4.0, 5.0, 4.0, 5.0, 5.0, 4.0, 4.0, 4.0, 5.0, 5.0, 3.0, 5.0, 5.0, 1.0, 4.0, 5.0, 2.0, 5.0, 1.0, 4.0, 4.0, 4.0, 3.0, 4.0, 5.0, 3.0, 5.0, 2.0, 5.0, 5.0, 5.0, 2.0, 4.0, 5.0, 5.0, 5.0, 5.0, 5.0, 5.0, 5.0, 3.0, 4.0, 1.0, 5.0, 2.0, 5.0, 3.0, 5.0, 4.0, 5.0, 2.0, 5.0, 3.0, 4.0, 4.0, 3.0, 4.0, 1.0, 1.0, 5.0, 5.0, 5.0, 5.0, 4.0, 5.0, 5.0, 4.0, 4.0, 5.0, 2.0, 5.0, 4.0, 1.0, 5.0, 5.0, 5.0, 2.0, 1.0, 5.0, 5.0, 5.0, 5.0, 5.0, 4.0, 3.0, 5.0, 4.0, 4.0, 3.0, 3.0, 3.0, 3.0, 3.0, 5.0, 5.0, 4.0, 5.0, 4.0, 4.0, 2.0, 5.0, 3.0, 2.0, 4.0, 5.0, 5.0, 3.0, 4.0, 5.0, 5.0, 4.0, 5.0, 4.0, 5.0, 5.0, 5.0, 2.0, 3.0, 4.0, 5.0, 5.0, 4.0, 3.0, 5.0, 5.0, 5.0, 5.0, 4.0, 5.0, 5.0, 5.0, 5.0, 4.0, 5.0, 4.0, 4.0, 1.0, 2.0, 5.0, 1.0, 1.0, 2.0, 5.0, 4.0, 1.0, 5.0, 4.0, 5.0, 4.0, 5.0, 5.0, 5.0, 5.0, 3.0, 2.0, 5.0, 4.0, 2.0, 4.0, 4.0, 3.0, 4.0, 2.0, 4.0, 5.0, 5.0, 5.0, 5.0, 4.0, 5.0, 4.0, 4.0, 1.0, 5.0, 5.0, 5.0, 5.0, 3.0, 5.0, 5.0, 1.0, 5.0, 5.0, 2.0, 5.0, 4.0, 5.0, 2.0, 5.0, 2.0, 4.0, 5.0, 5.0, 4.0, 5.0, 2.0, 2.0, 4.0, 4.0, 4.0, 5.0, 4.0, 3.0, 3.0, 4.0, 5.0, 4.0, 4.0, 5.0, 4.0, 4.0, 2.0, 2.0, 4.0, 3.0, 3.0, 5.0, 2.0, 2.0, 5.0, 5.0, 5.0, 5.0, 5.0, 2.0, 3.0, 5.0, 4.0, 4.0, 5.0, 5.0, 5.0, 5.0, 3.0, 3.0, 4.0, 5.0, 5.0, 5.0, 4.0, 5.0, 1.0, 5.0, 4.0, 4.0, 3.0, 5.0, 4.0, 5.0, 5.0, 5.0, 5.0, 4.0, 4.0, 3.0, 3.0, 5.0, 4.0, 5.0, 4.0, 4.0, 3.0, 5.0, 5.0, 5.0, 3.0, 3.0, 3.0, 4.0, 5.0, 5.0, 1.0, 4.0, 5.0, 3.0, 1.0, 4.0, 5.0, 1.0, 5.0, 2.0, 5.0, 5.0, 5.0, 5.0, 1.0, 4.0, 5.0, 4.0, 3.0, 4.0, 1.0, 5.0, 5.0, 5.0, 5.0, 4.0, 4.0, 4.0, 4.0, 3.0, 2.0, 5.0, 3.0, 5.0, 3.0, 4.0, 2.0, 3.0, 5.0, 2.0, 4.0, 5.0, 4.0, 4.0, 4.0, 5.0, 4.0, 5.0, 5.0, 4.0, 4.0, 4.0, 3.0, 3.0, 4.0, 2.0, 5.0, 5.0, 5.0, 1.0, 5.0, 5.0, 1.0, 2.0, 1.0, 5.0, 5.0, 5.0, 5.0, 4.0, 2.0, 4.0, 2.0, 4.0, 1.0, 4.0, 4.0, 5.0, 4.0, 5.0, 5.0, 4.0, 5.0, 3.0, 5.0, 4.0, 4.0, 5.0, 4.0, 5.0, 4.0, 3.0, 3.0, 5.0, 5.0, 3.0, 5.0, 4.0, 5.0, 3.0, 4.0, 3.0, 4.0, 5.0, 2.0, 4.0, 3.0, 5.0, 4.0, 4.0, 5.0, 2.0, 3.0, 1.0, 5.0, 5.0, 3.0, 4.0, 4.0, 5.0, 5.0, 5.0, 5.0, 5.0, 2.0, 1.0, 1.0, 5.0, 4.0, 2.0, 3.0, 5.0, 5.0, 4.0, 3.0, 4.0, 4.0, 4.0, 4.0, 4.0, 4.0, 2.0, 5.0, 3.0, 3.0, 4.0, 2.0, 3.0, 5.0, 4.0, 5.0, 3.0, 5.0, 3.0, 3.0, 5.0, 4.0, 4.0, 5.0, 2.0, 4.0, 4.0, 1.0, 1.0, 5.0, 3.0, 4.0, 3.0, 2.0, 3.0, 5.0, 3.0, 5.0, 1.0, 3.0, 5.0, 5.0, 2.0, 4.0, 5.0, 5.0, 5.0, 5.0, 5.0, 3.0, 5.0, 4.0, 5.0, 1.0, 5.0, 4.0, 5.0, 1.0, 3.0, 4.0, 1.0, 2.0, 2.0, 4.0, 3.0, 5.0, 5.0, 4.0, 5.0, 2.0, 3.0, 4.0, 5.0, 4.0, 3.0, 5.0, 2.0, 3.0, 5.0, 5.0, 5.0, 3.0, 5.0, 5.0, 5.0, 5.0, 5.0, 4.0, 3.0, 2.0, 3.0, 5.0, 4.0, 3.0, 3.0, 4.0, 5.0, 4.0, 5.0, 4.0, 3.0, 5.0, 2.0, 5.0, 4.0, 3.0, 4.0, 4.0, 5.0, 1.0, 3.0, 5.0, 3.0, 2.0, 4.0, 5.0, 3.0, 5.0, 5.0, 2.0, 5.0, 3.0, 4.0, 5.0, 4.0, 5.0, 4.0, 5.0, 4.0, 3.0, 4.0, 5.0, 3.0, 5.0, 4.0, 5.0, 3.0, 5.0, 5.0, 5.0, 3.0, 4.0, 5.0, 5.0, 5.0, 4.0, 2.0, 5.0, 5.0, 5.0, 3.0, 4.0, 5.0, 1.0, 3.0, 4.0, 3.0, 5.0, 5.0, 4.0, 1.0, 2.0, 2.0, 3.0, 5.0, 3.0, 4.0, 1.0, 5.0, 5.0, 5.0, 4.0, 4.0, 2.0, 4.0, 4.0, 4.0, 3.0, 5.0, 1.0, 2.0, 5.0, 3.0, 4.0, 4.0, 2.0, 5.0, 5.0, 2.0, 5.0, 5.0, 3.0, 4.0, 5.0, 3.0, 5.0, 4.0, 5.0, 4.0, 3.0, 2.0, 3.0, 2.0, 3.0, 5.0, 4.0, 3.0, 1.0, 5.0, 5.0, 5.0, 5.0, 3.0, 2.0, 5.0, 4.0, 4.0, 4.0, 1.0, 5.0, 2.0, 4.0, 5.0, 3.0, 4.0, 5.0, 5.0, 1.0, 4.0, 5.0, 2.0, 4.0, 2.0, 3.0, 4.0, 2.0, 5.0, 5.0, 3.0, 4.0, 5.0, 5.0, 5.0, 4.0, 4.0, 1.0, 3.0, 5.0, 2.0, 4.0, 3.0, 5.0, 5.0, 2.0, 4.0, 5.0, 1.0, 4.0, 4.0, 2.0, 5.0, 4.0, 5.0, 4.0, 5.0, 5.0, 5.0, 5.0, 4.0, 4.0, 5.0, 4.0, 5.0, 4.0, 3.0, 4.0, 4.0, 1.0, 5.0, 5.0, 5.0, 5.0, 4.0, 1.0, 5.0, 5.0, 3.0, 5.0, 5.0, 4.0, 5.0, 5.0, 4.0, 5.0, 3.0, 5.0, 2.0, 1.0, 5.0, 3.0, 5.0, 3.0, 5.0, 5.0, 3.0, 4.0, 5.0, 5.0, 5.0, 5.0, 5.0, 3.0, 3.0, 5.0, 4.0, 3.0, 3.0, 3.0, 3.0, 5.0, 5.0, 3.0, 3.0, 5.0, 5.0, 5.0, 5.0, 5.0, 2.0, 1.0, 5.0, 4.0, 5.0, 3.0, 4.0, 1.0, 3.0, 5.0, 5.0, 5.0, 3.0, 5.0, 1.0, 5.0, 5.0, 3.0, 4.0, 4.0, 5.0, 3.0, 5.0, 1.0, 5.0, 3.0, 3.0, 4.0, 5.0, 3.0, 3.0, 5.0, 5.0, 3.0, 4.0, 5.0, 4.0, 4.0, 3.0, 3.0, 4.0, 4.0, 1.0, 2.0, 5.0, 4.0, 3.0, 2.0, 3.0, 2.0, 4.0, 4.0, 5.0, 5.0, 4.0, 4.0, 5.0, 5.0, 4.0, 4.0, 5.0, 4.0, 5.0, 5.0, 3.0, 5.0, 4.0, 4.0, 4.0, 4.0, 5.0, 2.0, 4.0, 3.0, 2.0, 5.0, 5.0, 2.0, 5.0, 4.0, 1.0, 4.0, 5.0, 5.0, 5.0, 2.0, 5.0, 2.0, 4.0, 4.0, 3.0, 5.0, 5.0, 5.0, 4.0, 5.0, 4.0, 5.0, 1.0, 4.0, 5.0, 4.0, 3.0, 5.0, 5.0, 5.0, 2.0, 3.0, 5.0, 3.0, 4.0, 5.0, 5.0, 5.0, 3.0, 5.0, 5.0, 5.0, 1.0, 5.0, 4.0, 4.0, 3.0, 5.0, 4.0, 4.0, 5.0, 5.0, 3.0, 2.0, 5.0, 4.0, 2.0, 5.0, 4.0, 5.0, 4.0, 5.0, 5.0, 4.0, 4.0, 4.0, 5.0, 4.0, 4.0, 4.0, 3.0, 4.0, 4.0, 3.0, 3.0, 2.0, 3.0, 5.0, 5.0, 3.0, 5.0, 3.0, 1.0, 2.0, 5.0, 5.0, 5.0, 5.0, 4.0, 5.0, 4.0, 1.0, 5.0, 3.0, 3.0, 3.0, 5.0, 4.0, 5.0, 4.0, 2.0, 5.0, 1.0, 2.0, 5.0, 4.0, 5.0, 5.0, 5.0, 1.0, 2.0, 4.0, 4.0, 4.0, 3.0, 4.0, 3.0, 1.0, 4.0, 5.0, 4.0, 1.0, 4.0, 4.0, 5.0, 4.0, 5.0, 3.0, 5.0, 5.0, 5.0, 4.0, 1.0, 4.0, 3.0, 5.0, 4.0, 5.0, 4.0, 2.0, 2.0, 2.0, 5.0, 5.0, 5.0, 4.0, 2.0, 4.0, 5.0, 4.0, 5.0, 5.0, 4.0, 4.0, 3.0, 2.0, 4.0, 1.0, 3.0, 5.0, 5.0, 4.0, 1.0, 4.0, 4.0, 4.0, 4.0, 5.0, 3.0, 2.0, 5.0, 5.0, 4.0, 4.0, 4.0, 5.0, 3.0, 5.0, 3.0, 5.0, 4.0, 3.0, 3.0, 5.0, 5.0, 4.0, 5.0, 1.0, 4.0, 5.0, 4.0, 4.0, 2.0, 3.0, 1.0, 5.0, 4.0, 2.0, 3.0, 5.0, 2.0, 2.0, 5.0, 5.0, 4.0, 4.0, 2.0, 4.0, 4.0, 4.0, 4.0, 5.0, 4.0, 2.0, 5.0, 5.0, 5.0, 2.0, 3.0, 1.0, 5.0, 4.0, 5.0, 5.0, 2.0, 4.0, 5.0, 4.0, 4.0, 4.0, 4.0, 4.0, 1.0, 4.0, 2.0, 5.0, 5.0, 4.0, 5.0, 4.0, 4.0, 4.0, 3.0, 4.0, 3.0, 5.0, 3.0, 4.0, 5.0, 5.0, 4.0, 3.0, 5.0, 5.0, 5.0, 5.0, 4.0, 3.0, 2.0, 1.0, 3.0, 5.0, 4.0, 1.0, 2.0, 4.0, 4.0, 2.0, 5.0, 4.0, 5.0, 2.0, 5.0, 2.0, 4.0, 5.0, 5.0, 4.0, 3.0, 4.0, 5.0, 5.0, 5.0, 1.0, 5.0, 1.0, 1.0, 5.0, 4.0, 1.0, 2.0, 5.0, 4.0, 5.0, 5.0, 3.0, 5.0, 5.0, 5.0, 2.0, 2.0, 3.0, 2.0, 5.0, 5.0, 5.0, 5.0, 5.0, 5.0, 5.0, 4.0, 5.0, 5.0, 5.0, 5.0, 3.0, 3.0, 5.0, 5.0, 5.0, 4.0, 4.0, 5.0, 5.0, 4.0, 3.0, 4.0, 5.0, 5.0, 5.0, 3.0, 2.0, 5.0, 5.0, 5.0, 4.0, 4.0, 1.0, 2.0, 5.0, 5.0, 2.0, 4.0, 4.0, 5.0, 5.0, 4.0, 5.0, 5.0, 5.0, 5.0, 5.0, 5.0, 3.0, 5.0, 5.0, 2.0, 4.0, 3.0, 2.0, 3.0, 4.0, 5.0, 4.0, 3.0, 4.0, 5.0, 4.0, 4.0, 4.0, 4.0, 5.0, 1.0, 3.0, 5.0, 3.0, 5.0, 3.0, 2.0, 4.0, 3.0, 1.0, 4.0, 4.0, 4.0, 5.0, 2.0, 5.0, 4.0, 4.0, 5.0, 5.0, 1.0, 4.0, 5.0, 2.0, 5.0, 2.0, 4.0, 2.0, 5.0, 3.0, 3.0, 4.0, 4.0, 4.0, 5.0, 5.0, 5.0, 4.0, 5.0, 5.0, 4.0, 5.0, 2.0, 3.0, 1.0, 5.0, 4.0, 4.0, 4.0, 3.0, 3.0, 4.0, 5.0, 2.0, 4.0, 5.0, 5.0, 4.0, 5.0, 5.0, 5.0, 1.0, 5.0, 4.0, 5.0, 1.0, 4.0, 2.0, 3.0, 3.0, 4.0, 5.0, 5.0, 4.0, 4.0, 5.0, 1.0, 3.0, 1.0, 5.0, 3.0, 5.0, 5.0, 5.0, 5.0, 3.0, 3.0, 5.0, 2.0, 2.0, 1.0, 3.0, 2.0, 5.0, 4.0, 3.0, 5.0, 5.0, 4.0, 2.0, 4.0, 4.0, 5.0, 3.0, 3.0, 5.0, 3.0, 5.0, 4.0, 3.0, 3.0, 4.0, 5.0, 3.0, 5.0, 4.0, 4.0, 5.0, 5.0, 2.0, 4.0, 4.0, 2.0, 5.0, 5.0, 3.0, 5.0, 3.0, 3.0, 4.0, 1.0, 5.0, 5.0, 4.0, 5.0, 4.0, 5.0, 4.0, 5.0, 5.0, 5.0, 4.0, 4.0, 4.0, 5.0, 5.0, 5.0, 4.0, 3.0, 5.0, 5.0, 4.0, 5.0, 5.0, 4.0, 5.0, 2.0, 5.0, 3.0, 2.0, 5.0, 5.0, 5.0, 5.0, 1.0, 5.0, 5.0, 5.0, 4.0, 4.0, 2.0, 5.0, 5.0, 4.0, 5.0, 1.0, 5.0, 3.0, 5.0, 5.0, 5.0, 5.0, 3.0, 4.0, 4.0, 5.0, 5.0, 2.0, 5.0, 4.0, 4.0, 3.0, 4.0, 5.0, 4.0, 4.0, 4.0, 2.0, 5.0, 5.0, 3.0, 5.0, 4.0, 4.0, 5.0, 4.0, 4.0, 5.0, 5.0, 4.0, 4.0, 5.0, 5.0, 5.0, 3.0, 4.0, 1.0, 4.0, 5.0, 5.0, 4.0, 4.0, 4.0, 2.0, 4.0, 5.0, 4.0, 5.0, 5.0, 4.0, 4.0, 1.0, 5.0, 5.0, 5.0, 5.0, 5.0, 4.0, 5.0, 4.0, 5.0, 4.0, 5.0, 5.0, 5.0, 4.0, 4.0, 5.0, 5.0, 3.0, 3.0, 1.0, 5.0, 4.0, 5.0, 4.0, 5.0, 5.0, 3.0, 2.0, 5.0, 1.0, 5.0, 5.0, 5.0, 5.0, 5.0, 4.0, 5.0, 2.0, 1.0, 1.0, 5.0, 3.0, 1.0, 4.0, 4.0, 5.0, 5.0, 3.0, 5.0, 3.0, 4.0, 4.0, 5.0, 5.0, 5.0, 2.0, 2.0, 1.0, 2.0, 4.0, 4.0, 5.0, 5.0, 5.0, 3.0, 2.0, 5.0, 1.0, 5.0, 4.0, 5.0, 4.0, 5.0, 5.0, 5.0, 4.0, 5.0, 4.0, 5.0, 4.0, 5.0, 5.0, 3.0, 3.0, 4.0, 3.0, 5.0, 5.0, 4.0, 5.0, 3.0, 5.0, 5.0, 1.0, 4.0, 5.0, 4.0, 5.0, 5.0, 5.0, 4.0, 5.0, 3.0, 2.0, 4.0, 5.0, 4.0, 3.0, 4.0, 5.0, 5.0, 4.0, 3.0, 5.0, 3.0, 4.0, 4.0, 5.0, 3.0, 5.0, 4.0, 4.0, 4.0, 4.0, 1.0, 4.0, 5.0, 5.0, 5.0, 4.0, 4.0, 5.0, 3.0, 4.0, 5.0, 3.0, 4.0, 5.0, 4.0, 4.0, 2.0, 4.0, 3.0, 4.0, 4.0, 4.0, 5.0, 5.0, 1.0, 1.0, 1.0, 3.0, 2.0, 5.0, 3.0, 5.0, 5.0, 5.0, 4.0, 5.0, 5.0, 5.0, 3.0, 5.0, 5.0, 2.0, 5.0, 5.0, 2.0, 3.0, 3.0, 4.0, 4.0, 5.0, 4.0, 5.0, 5.0, 5.0, 4.0, 5.0, 5.0, 2.0, 4.0, 5.0, 2.0, 5.0, 2.0, 5.0, 4.0, 5.0, 5.0, 3.0, 5.0, 3.0, 4.0, 5.0, 5.0, 3.0, 2.0, 4.0, 3.0, 5.0, 5.0, 5.0, 3.0, 3.0, 5.0, 3.0, 4.0, 4.0, 4.0, 1.0, 5.0, 3.0, 4.0, 3.0, 5.0, 3.0, 4.0, 5.0, 2.0, 5.0, 3.0, 5.0, 4.0, 5.0, 2.0, 4.0, 5.0, 2.0, 2.0, 3.0, 5.0, 4.0, 5.0, 5.0, 4.0, 3.0, 4.0, 1.0, 5.0, 5.0, 1.0, 5.0, 5.0, 5.0, 5.0, 4.0, 5.0, 5.0, 3.0, 3.0, 4.0, 4.0, 3.0, 5.0, 4.0, 5.0, 3.0, 4.0, 5.0, 3.0, 3.0, 2.0, 3.0, 5.0, 4.0, 3.0, 3.0, 4.0, 4.0, 5.0, 3.0, 5.0, 1.0, 4.0, 2.0, 4.0, 5.0, 5.0, 3.0, 5.0, 5.0, 5.0, 4.0, 2.0, 4.0, 5.0, 5.0, 1.0, 5.0, 3.0, 4.0, 5.0, 5.0, 4.0, 2.0, 2.0, 5.0, 3.0, 4.0, 3.0, 4.0, 4.0, 5.0, 4.0, 5.0, 4.0, 1.0, 4.0, 2.0, 4.0, 5.0, 4.0, 4.0, 5.0, 5.0, 5.0, 5.0, 5.0, 3.0, 5.0, 5.0, 5.0, 2.0, 3.0, 1.0, 4.0, 5.0, 4.0, 3.0, 4.0, 3.0, 5.0, 4.0, 5.0, 5.0, 4.0, 5.0, 5.0, 5.0, 3.0, 5.0, 1.0, 4.0, 1.0, 4.0, 4.0, 5.0, 4.0, 5.0, 2.0, 4.0, 4.0, 5.0, 5.0, 1.0, 4.0, 5.0, 1.0, 4.0, 4.0, 5.0, 5.0, 5.0, 4.0, 3.0, 1.0, 4.0, 4.0, 4.0, 4.0, 3.0, 2.0, 1.0, 4.0, 5.0, 3.0, 5.0, 5.0, 5.0, 4.0, 5.0, 4.0, 4.0, 5.0, 4.0, 5.0, 5.0, 2.0, 2.0, 2.0, 3.0, 5.0, 3.0, 5.0, 5.0, 3.0, 5.0, 4.0, 3.0, 4.0, 5.0, 4.0, 5.0, 5.0, 2.0, 2.0, 5.0, 4.0, 4.0, 4.0, 5.0, 4.0, 5.0, 2.0, 4.0, 2.0, 5.0, 4.0, 4.0, 3.0, 5.0, 4.0, 5.0, 5.0, 5.0, 4.0, 4.0, 5.0, 4.0, 3.0, 5.0, 5.0, 4.0, 1.0, 3.0, 4.0, 5.0, 4.0, 2.0, 4.0, 5.0, 3.0, 2.0, 5.0, 3.0, 4.0, 4.0, 4.0, 5.0, 5.0, 4.0, 5.0, 5.0, 3.0, 5.0, 1.0, 3.0, 5.0, 3.0, 4.0, 5.0, 5.0, 3.0, 5.0, 4.0, 4.0, 5.0, 5.0, 4.0, 4.0, 2.0, 4.0, 4.0, 2.0, 1.0, 5.0, 2.0, 4.0, 5.0, 1.0, 1.0, 5.0, 4.0, 5.0, 5.0, 5.0, 4.0, 5.0, 5.0, 4.0, 5.0, 3.0, 3.0, 4.0, 4.0, 5.0, 2.0, 5.0, 5.0, 5.0, 5.0, 2.0, 1.0, 3.0, 4.0, 5.0, 5.0, 5.0, 5.0, 5.0, 5.0, 3.0, 4.0, 1.0, 5.0, 5.0, 1.0, 5.0, 1.0, 4.0, 5.0, 4.0, 4.0, 4.0, 2.0, 4.0, 4.0, 3.0, 3.0, 4.0, 1.0, 5.0, 5.0, 4.0, 1.0, 1.0, 1.0, 5.0, 4.0, 2.0, 5.0, 5.0, 4.0, 5.0, 5.0, 1.0, 5.0, 4.0, 5.0, 5.0, 4.0, 5.0, 3.0, 4.0, 4.0, 4.0, 5.0, 1.0, 4.0, 5.0, 5.0, 5.0, 2.0, 5.0, 2.0, 2.0, 5.0, 2.0, 5.0, 5.0, 3.0, 2.0, 5.0, 4.0, 5.0, 4.0, 4.0, 5.0, 1.0, 4.0, 4.0, 4.0, 5.0, 3.0, 2.0, 5.0, 1.0, 3.0, 4.0, 3.0, 4.0, 1.0, 3.0, 5.0, 5.0, 5.0, 5.0, 3.0, 4.0, 4.0, 5.0, 2.0, 5.0, 4.0, 1.0, 4.0, 5.0, 5.0, 5.0, 5.0, 5.0, 5.0, 4.0, 5.0, 5.0, 2.0, 4.0, 4.0, 5.0, 5.0, 4.0, 2.0, 5.0, 2.0, 3.0, 5.0, 3.0, 3.0, 4.0, 3.0, 5.0, 3.0, 4.0, 5.0, 4.0, 5.0, 5.0, 3.0, 5.0, 5.0, 5.0, 3.0, 5.0, 4.0, 2.0, 5.0, 3.0, 5.0, 4.0, 3.0, 5.0, 3.0, 2.0, 5.0, 3.0, 4.0, 5.0, 3.0, 5.0, 2.0, 3.0, 3.0, 2.0, 4.0, 5.0, 5.0, 4.0, 5.0, 5.0, 5.0, 5.0, 5.0, 1.0, 4.0, 4.0, 4.0, 5.0, 5.0, 3.0, 4.0, 4.0, 3.0, 5.0, 1.0, 4.0, 5.0, 5.0, 2.0, 5.0, 4.0, 1.0, 3.0, 4.0, 5.0, 4.0, 4.0, 4.0, 2.0, 4.0, 4.0, 5.0, 4.0, 4.0, 5.0, 5.0, 5.0, 5.0, 5.0, 5.0, 3.0, 4.0, 3.0, 4.0, 5.0, 4.0, 5.0, 4.0, 3.0, 5.0, 3.0, 5.0, 5.0, 2.0, 1.0, 4.0, 5.0, 3.0, 5.0, 5.0, 3.0, 4.0, 3.0, 2.0, 5.0, 5.0, 4.0, 5.0, 3.0, 4.0, 5.0, 4.0, 1.0, 5.0, 4.0, 5.0, 2.0, 5.0, 4.0, 3.0, 3.0, 5.0, 5.0, 4.0, 4.0, 2.0, 5.0, 3.0, 1.0, 4.0, 5.0, 4.0, 4.0, 3.0, 4.0, 5.0, 5.0, 5.0, 5.0, 4.0, 4.0, 4.0, 4.0, 5.0, 2.0, 5.0, 5.0, 2.0, 5.0, 3.0, 2.0, 4.0, 1.0, 5.0, 4.0, 3.0, 4.0, 5.0, 5.0, 5.0, 4.0, 4.0, 4.0, 5.0, 1.0, 4.0, 4.0, 5.0, 3.0, 2.0, 5.0, 5.0, 3.0, 3.0, 3.0, 4.0, 5.0, 3.0, 5.0, 3.0, 5.0, 5.0, 5.0, 3.0, 4.0, 1.0, 3.0, 5.0, 5.0, 5.0, 5.0, 5.0, 5.0, 5.0, 1.0, 1.0, 3.0, 5.0, 3.0, 2.0, 3.0, 4.0, 5.0, 5.0, 3.0, 4.0, 4.0, 4.0, 4.0, 5.0, 4.0, 5.0, 4.0, 5.0, 4.0, 2.0, 5.0, 1.0, 5.0, 5.0, 5.0, 4.0, 5.0, 5.0, 5.0, 5.0, 4.0, 4.0, 2.0, 5.0, 3.0, 5.0, 2.0, 2.0, 4.0, 3.0, 4.0, 4.0, 5.0, 2.0, 5.0, 5.0, 4.0, 5.0, 5.0, 5.0, 5.0, 4.0, 4.0, 5.0, 2.0, 2.0, 5.0, 5.0, 3.0, 1.0, 5.0, 3.0, 5.0, 4.0, 3.0, 4.0, 5.0, 5.0, 5.0, 4.0, 5.0, 3.0, 4.0, 5.0, 5.0, 5.0, 5.0, 3.0, 1.0, 4.0, 5.0, 5.0, 5.0, 5.0, 5.0, 5.0, 5.0, 4.0, 4.0, 5.0, 4.0, 5.0, 5.0, 4.0, 3.0, 5.0, 4.0, 3.0, 4.0, 4.0, 4.0, 4.0, 3.0, 5.0, 2.0, 5.0, 5.0, 5.0, 4.0, 5.0, 4.0, 4.0, 5.0, 5.0, 5.0, 5.0, 4.0, 4.0, 4.0, 4.0, 4.0, 4.0, 5.0, 5.0, 5.0, 2.0, 3.0, 1.0, 4.0, 5.0, 4.0, 4.0, 4.0, 4.0, 4.0, 5.0, 4.0, 3.0, 2.0, 5.0, 5.0, 2.0, 4.0, 5.0, 3.0, 5.0, 4.0, 4.0, 5.0, 3.0, 5.0, 1.0, 4.0, 5.0, 4.0, 4.0, 5.0, 3.0, 4.0, 4.0, 4.0, 5.0, 3.0, 1.0, 5.0, 3.0, 5.0, 3.0, 3.0, 3.0, 5.0, 5.0, 5.0, 4.0, 1.0, 5.0, 5.0, 5.0, 4.0, 5.0, 4.0, 4.0, 4.0, 4.0, 5.0, 4.0, 5.0, 5.0, 4.0, 5.0, 5.0, 4.0, 5.0, 5.0, 2.0, 3.0, 5.0, 4.0, 3.0, 3.0, 4.0, 5.0, 5.0, 3.0, 5.0, 3.0, 2.0, 3.0, 3.0, 5.0, 5.0, 5.0, 4.0, 4.0, 3.0, 4.0, 1.0, 4.0, 5.0, 3.0, 5.0, 5.0, 5.0, 5.0, 3.0, 3.0, 5.0, 5.0, 4.0, 5.0, 2.0, 5.0, 5.0, 5.0, 5.0, 2.0, 4.0, 4.0, 5.0, 5.0, 2.0, 5.0, 5.0, 4.0, 5.0, 1.0, 4.0, 4.0, 1.0, 4.0, 3.0, 2.0, 4.0, 5.0, 4.0, 4.0, 5.0, 1.0, 5.0, 5.0, 5.0, 5.0, 4.0, 4.0, 5.0, 5.0, 5.0, 4.0, 5.0, 3.0, 5.0, 2.0, 4.0, 4.0, 1.0, 3.0, 5.0, 5.0, 3.0, 5.0, 4.0, 4.0, 5.0, 4.0, 5.0, 5.0, 1.0, 4.0, 4.0, 2.0, 3.0, 5.0, 4.0, 5.0, 4.0, 5.0, 5.0, 2.0, 5.0, 2.0, 5.0, 5.0, 3.0, 5.0, 4.0, 5.0, 4.0, 2.0, 4.0, 3.0, 5.0, 1.0, 1.0, 4.0, 4.0, 4.0, 5.0, 5.0, 4.0, 3.0, 4.0, 4.0, 4.0, 5.0, 3.0, 4.0, 2.0, 5.0, 5.0, 2.0, 4.0, 2.0, 4.0, 1.0, 4.0, 5.0, 3.0, 3.0, 5.0, 3.0, 5.0, 3.0, 4.0, 5.0, 5.0, 5.0, 3.0, 5.0, 5.0, 3.0, 2.0, 3.0, 5.0, 4.0, 1.0, 4.0, 5.0, 1.0, 5.0, 2.0, 4.0, 1.0, 3.0, 2.0, 3.0, 4.0, 1.0, 5.0, 5.0, 2.0, 5.0, 3.0, 5.0, 4.0, 5.0, 3.0, 4.0, 2.0, 4.0, 4.0, 4.0, 3.0, 5.0, 1.0, 5.0, 4.0, 4.0, 5.0, 4.0, 5.0, 5.0, 3.0, 3.0, 5.0, 5.0, 4.0, 4.0, 5.0, 4.0, 3.0, 4.0, 5.0, 5.0, 5.0, 4.0, 5.0, 4.0, 3.0, 5.0, 1.0, 5.0, 4.0, 1.0, 1.0, 3.0, 4.0, 5.0, 4.0, 4.0, 2.0, 4.0, 4.0, 3.0, 5.0, 4.0, 5.0, 5.0, 5.0, 4.0, 1.0, 4.0, 5.0, 3.0, 4.0, 3.0, 5.0, 2.0, 2.0, 3.0, 5.0, 5.0, 1.0, 4.0, 5.0, 5.0, 4.0, 4.0, 5.0, 4.0, 3.0, 5.0, 2.0, 5.0, 4.0, 3.0, 1.0, 5.0, 4.0, 2.0, 3.0, 5.0, 5.0, 5.0, 3.0, 5.0, 4.0, 3.0, 3.0, 5.0, 5.0, 4.0, 5.0, 4.0, 4.0, 4.0, 5.0, 4.0, 2.0, 5.0, 5.0, 4.0, 2.0, 2.0, 1.0, 5.0, 5.0, 2.0, 2.0, 4.0, 4.0, 5.0, 4.0, 2.0, 5.0, 4.0, 5.0, 1.0, 5.0, 4.0, 2.0, 1.0, 5.0, 4.0, 5.0, 4.0, 5.0, 5.0, 1.0, 4.0, 4.0, 4.0, 5.0, 5.0, 3.0, 5.0, 5.0, 5.0, 2.0, 5.0, 3.0, 5.0, 5.0, 4.0, 4.0, 1.0, 5.0, 4.0, 2.0, 5.0, 5.0, 1.0, 5.0, 5.0, 4.0, 5.0, 2.0, 4.0, 2.0, 4.0, 4.0, 4.0, 5.0, 5.0, 5.0, 5.0, 2.0, 5.0, 5.0, 5.0, 2.0, 3.0, 4.0, 4.0, 4.0, 3.0, 3.0, 4.0, 4.0, 3.0, 4.0, 5.0, 4.0, 1.0, 3.0, 3.0, 5.0, 5.0, 5.0, 2.0, 3.0, 4.0, 3.0, 5.0, 5.0, 2.0, 5.0, 5.0, 3.0, 5.0, 5.0, 5.0, 5.0, 4.0, 5.0, 5.0, 4.0, 2.0, 4.0, 5.0, 4.0, 5.0, 5.0, 2.0, 3.0, 4.0, 4.0, 5.0, 5.0, 5.0, 3.0, 4.0, 4.0, 2.0, 3.0, 4.0, 5.0, 5.0, 5.0, 5.0, 4.0, 5.0, 3.0, 2.0, 5.0, 3.0, 1.0, 5.0, 5.0, 5.0, 5.0, 5.0, 5.0, 4.0, 4.0, 1.0, 2.0, 1.0, 1.0, 4.0, 5.0, 4.0, 5.0, 5.0, 4.0, 3.0, 4.0, 2.0, 2.0, 4.0, 3.0, 5.0, 3.0, 5.0, 5.0, 4.0, 2.0, 5.0, 2.0, 5.0, 5.0, 5.0, 4.0, 2.0, 4.0, 4.0, 4.0, 1.0, 2.0, 5.0, 5.0, 5.0, 3.0, 1.0, 4.0, 2.0, 1.0, 2.0, 5.0, 1.0, 5.0, 4.0, 5.0, 1.0, 5.0, 5.0, 5.0, 4.0, 4.0, 5.0, 5.0, 4.0, 5.0, 5.0, 5.0, 5.0, 4.0, 5.0, 5.0, 5.0, 3.0, 5.0, 5.0, 5.0, 5.0, 5.0, 4.0, 3.0, 5.0, 4.0, 4.0, 5.0, 4.0, 2.0, 5.0, 5.0, 5.0, 5.0, 1.0, 5.0, 4.0, 3.0, 1.0, 2.0, 4.0, 4.0, 4.0, 5.0, 3.0, 4.0, 2.0, 5.0, 1.0, 3.0, 5.0, 3.0, 5.0, 1.0, 5.0, 4.0, 5.0, 3.0, 1.0, 5.0, 3.0, 4.0, 5.0, 2.0, 4.0, 5.0, 3.0, 3.0, 5.0, 4.0, 5.0, 4.0, 3.0, 4.0, 5.0, 5.0, 3.0, 4.0, 4.0, 2.0, 2.0, 5.0, 2.0, 4.0, 5.0, 5.0, 5.0, 2.0, 3.0, 5.0, 1.0, 5.0, 3.0, 5.0, 5.0, 3.0, 4.0, 5.0, 5.0, 4.0, 4.0, 5.0, 3.0, 5.0, 3.0, 2.0, 5.0, 4.0, 5.0, 3.0, 3.0, 5.0, 5.0, 5.0, 4.0, 4.0, 3.0, 5.0, 4.0, 1.0, 5.0, 1.0, 4.0, 4.0, 4.0, 4.0, 5.0, 5.0, 4.0, 4.0, 5.0, 5.0, 3.0, 5.0, 1.0, 3.0, 5.0, 5.0, 2.0, 5.0, 1.0, 3.0, 5.0, 4.0, 5.0, 4.0, 5.0, 4.0, 5.0, 4.0, 3.0, 2.0, 5.0, 3.0, 5.0, 5.0, 4.0, 5.0, 5.0, 4.0, 4.0, 5.0, 4.0, 5.0, 4.0, 1.0, 5.0, 2.0, 5.0, 3.0, 5.0, 1.0, 4.0, 5.0, 5.0, 4.0, 4.0, 4.0, 5.0, 3.0, 5.0, 5.0, 1.0, 1.0, 5.0, 4.0, 3.0, 5.0, 4.0, 3.0, 5.0, 5.0, 5.0, 3.0, 5.0, 4.0, 5.0, 3.0, 1.0, 5.0, 5.0, 4.0, 5.0, 2.0, 5.0, 5.0, 4.0, 5.0, 5.0, 4.0, 4.0, 5.0, 1.0, 5.0, 4.0, 4.0, 5.0, 4.0, 2.0, 1.0, 5.0, 5.0, 3.0, 4.0, 5.0, 5.0, 4.0, 4.0, 4.0, 2.0, 5.0, 5.0, 5.0, 4.0, 4.0, 4.0, 5.0, 4.0, 4.0, 4.0, 5.0, 3.0, 5.0, 3.0, 5.0, 5.0, 4.0, 3.0, 3.0, 5.0, 3.0, 2.0, 5.0, 5.0, 4.0, 3.0, 4.0, 3.0, 3.0, 2.0, 4.0, 3.0, 4.0, 2.0, 2.0, 4.0, 4.0, 5.0, 4.0, 3.0, 5.0, 4.0, 3.0, 5.0, 5.0, 4.0, 1.0, 4.0, 4.0, 3.0, 5.0, 4.0, 1.0, 4.0, 5.0, 5.0, 4.0, 5.0, 5.0, 5.0, 5.0, 5.0, 4.0, 3.0, 3.0, 5.0, 5.0, 3.0, 5.0, 2.0, 4.0, 5.0, 5.0, 3.0, 5.0, 5.0, 4.0, 3.0, 5.0, 2.0, 5.0, 1.0, 4.0, 3.0, 5.0, 4.0, 5.0, 3.0, 3.0, 1.0, 3.0, 4.0, 5.0, 4.0, 5.0, 5.0, 4.0, 4.0, 3.0, 5.0, 4.0, 3.0, 3.0, 3.0, 2.0, 5.0, 4.0, 4.0, 4.0, 4.0, 4.0, 4.0, 4.0, 5.0, 3.0, 4.0, 3.0, 3.0, 5.0, 1.0, 4.0, 5.0, 4.0, 3.0, 1.0, 5.0, 3.0, 3.0, 5.0, 4.0, 1.0, 1.0, 4.0, 1.0, 1.0, 5.0, 4.0, 3.0, 5.0, 2.0, 5.0, 5.0, 3.0, 4.0, 4.0, 4.0, 5.0, 5.0, 4.0, 4.0, 5.0, 1.0, 3.0, 3.0, 2.0, 4.0, 5.0, 4.0, 4.0, 3.0, 1.0, 3.0, 5.0, 2.0, 4.0, 5.0, 5.0, 5.0, 4.0, 4.0, 5.0, 4.0, 3.0, 5.0, 5.0, 4.0, 2.0, 5.0, 4.0, 1.0, 5.0, 5.0, 3.0, 5.0, 5.0, 4.0, 3.0, 5.0, 4.0, 3.0, 3.0, 4.0, 4.0, 3.0, 3.0, 4.0, 4.0, 5.0, 4.0, 4.0, 5.0, 2.0, 5.0, 5.0, 4.0, 4.0, 5.0, 4.0, 2.0, 4.0, 2.0, 5.0, 4.0, 5.0, 4.0, 4.0, 4.0, 1.0, 5.0, 3.0, 4.0, 3.0, 4.0, 4.0, 4.0, 5.0, 4.0, 5.0, 5.0, 5.0, 4.0, 5.0, 5.0, 4.0, 5.0, 1.0, 5.0, 4.0, 4.0, 4.0, 5.0, 5.0, 5.0, 5.0, 3.0, 3.0, 5.0, 5.0, 4.0, 4.0, 5.0, 4.0, 3.0, 4.0, 1.0, 4.0, 5.0, 5.0, 4.0, 4.0, 5.0, 5.0, 5.0, 5.0, 3.0, 4.0, 5.0, 3.0, 4.0, 1.0, 5.0, 5.0, 2.0, 5.0, 5.0, 3.0, 4.0, 4.0, 3.0, 3.0, 3.0, 5.0, 5.0, 5.0, 5.0, 4.0, 5.0, 3.0, 1.0, 3.0, 3.0, 4.0, 5.0, 3.0, 5.0, 4.0, 5.0, 5.0, 3.0, 4.0, 4.0, 5.0, 5.0, 4.0, 5.0, 3.0, 4.0, 4.0, 5.0, 4.0, 5.0, 3.0, 3.0, 5.0, 5.0, 4.0, 2.0, 3.0, 3.0, 4.0, 5.0, 5.0, 5.0, 5.0, 5.0, 5.0, 5.0, 4.0, 4.0, 4.0, 5.0, 5.0, 5.0, 4.0, 4.0, 2.0, 5.0, 5.0, 5.0, 5.0, 2.0, 3.0, 2.0, 4.0, 1.0, 3.0, 3.0, 2.0, 5.0, 4.0, 2.0, 5.0, 5.0, 5.0, 4.0, 3.0, 4.0, 2.0, 4.0, 4.0, 5.0, 5.0, 2.0, 3.0, 5.0, 3.0, 5.0, 5.0, 5.0, 4.0, 5.0, 4.0, 2.0, 3.0, 4.0, 4.0, 2.0, 4.0, 1.0, 2.0, 3.0, 1.0, 5.0, 3.0, 5.0, 3.0, 5.0, 5.0, 4.0, 3.0, 3.0, 5.0, 4.0, 3.0, 5.0, 5.0, 1.0, 4.0, 5.0, 4.0, 2.0, 5.0, 3.0, 5.0, 5.0, 2.0, 5.0, 5.0, 5.0, 5.0, 5.0, 5.0, 3.0, 1.0, 3.0, 5.0, 4.0, 5.0, 4.0, 4.0, 5.0, 5.0, 5.0, 2.0, 4.0, 4.0, 5.0, 4.0, 5.0, 3.0, 3.0, 5.0, 3.0, 5.0, 5.0, 3.0, 5.0, 1.0, 5.0, 5.0, 5.0, 5.0, 5.0, 5.0, 5.0, 5.0, 3.0, 5.0, 5.0, 5.0, 5.0, 3.0, 5.0, 5.0, 5.0, 5.0, 5.0, 1.0, 5.0, 2.0, 3.0, 5.0, 5.0, 4.0, 3.0, 5.0, 5.0, 4.0, 2.0, 5.0, 4.0, 5.0, 3.0, 5.0, 5.0, 5.0, 1.0, 5.0, 5.0, 5.0, 5.0, 4.0, 4.0, 3.0, 4.0, 5.0, 3.0, 4.0, 5.0, 4.0, 5.0, 5.0, 3.0, 4.0, 3.0, 4.0, 4.0, 4.0, 5.0, 5.0, 5.0, 4.0, 4.0, 5.0, 5.0, 5.0, 1.0, 1.0, 5.0, 5.0, 1.0, 2.0, 5.0, 5.0, 5.0, 5.0, 5.0, 5.0, 4.0, 5.0, 4.0, 5.0, 4.0, 3.0, 4.0, 4.0, 4.0, 3.0, 4.0, 5.0, 5.0, 5.0, 1.0, 4.0, 5.0, 4.0, 4.0, 3.0, 4.0, 4.0, 5.0, 5.0, 5.0, 5.0, 4.0, 4.0, 4.0, 3.0, 4.0, 5.0, 5.0, 5.0, 5.0, 5.0, 5.0, 5.0, 5.0, 3.0, 4.0, 5.0, 1.0, 4.0, 2.0, 4.0, 3.0, 3.0, 3.0, 2.0, 5.0, 3.0, 5.0, 3.0, 3.0, 3.0, 3.0, 4.0, 4.0, 5.0, 5.0, 5.0, 5.0, 2.0, 1.0, 4.0, 5.0, 4.0, 5.0, 5.0, 3.0, 3.0, 3.0, 4.0, 3.0, 5.0, 5.0, 4.0, 4.0, 5.0, 5.0, 5.0, 3.0, 2.0, 3.0, 3.0, 5.0, 3.0, 4.0, 4.0, 3.0, 5.0, 4.0, 5.0, 4.0, 1.0, 3.0, 4.0, 4.0, 5.0, 4.0, 3.0, 5.0, 4.0, 5.0, 4.0, 1.0, 4.0, 2.0, 3.0, 5.0, 1.0, 5.0, 4.0, 5.0, 3.0, 5.0, 1.0, 4.0, 1.0, 5.0, 5.0, 5.0, 2.0, 4.0, 5.0, 3.0, 4.0, 2.0, 4.0, 1.0, 4.0, 5.0, 4.0, 4.0, 4.0, 5.0, 5.0, 5.0, 4.0, 5.0, 5.0, 4.0, 4.0, 5.0, 5.0, 5.0, 4.0, 4.0, 3.0, 5.0, 3.0, 5.0, 4.0, 4.0, 5.0, 5.0, 3.0, 2.0, 5.0, 2.0, 1.0, 5.0, 4.0, 4.0, 4.0, 4.0, 4.0, 5.0, 4.0, 1.0, 5.0, 4.0, 5.0, 5.0, 4.0, 1.0, 2.0, 5.0, 1.0, 5.0, 4.0, 3.0, 4.0, 3.0, 5.0, 3.0, 5.0, 2.0, 2.0, 3.0, 5.0, 3.0, 5.0, 5.0, 5.0, 5.0, 4.0, 4.0, 2.0, 1.0, 4.0, 4.0, 5.0, 4.0, 3.0, 3.0, 5.0, 2.0, 4.0, 1.0, 5.0, 5.0, 5.0, 4.0, 1.0, 4.0, 4.0, 4.0, 5.0, 5.0, 4.0, 2.0, 1.0, 4.0, 5.0, 5.0, 5.0, 3.0, 4.0, 2.0, 5.0, 5.0, 5.0, 5.0, 5.0, 4.0, 4.0, 2.0, 5.0, 4.0, 5.0, 2.0, 5.0, 3.0, 5.0, 5.0, 5.0, 4.0, 1.0, 4.0, 4.0, 5.0, 2.0, 4.0, 2.0, 2.0, 4.0, 2.0, 2.0, 4.0, 4.0, 5.0, 1.0, 4.0, 3.0, 4.0, 5.0, 4.0, 5.0, 4.0, 1.0, 4.0, 5.0, 4.0, 5.0, 5.0, 5.0, 2.0, 5.0, 4.0, 2.0, 4.0, 5.0, 5.0, 3.0, 2.0, 4.0, 2.0, 5.0, 5.0, 4.0, 3.0, 3.0, 5.0, 4.0, 1.0, 3.0, 4.0, 4.0, 3.0, 4.0, 5.0, 5.0, 4.0, 3.0, 5.0, 2.0, 5.0, 5.0, 1.0, 4.0, 3.0, 3.0, 1.0, 4.0, 5.0, 3.0, 5.0, 4.0, 5.0, 5.0, 2.0, 5.0, 3.0, 4.0, 5.0, 4.0, 5.0, 4.0, 3.0, 5.0, 5.0, 3.0, 4.0, 4.0, 1.0, 4.0, 5.0, 5.0, 5.0, 4.0, 5.0, 5.0, 5.0, 5.0, 5.0, 5.0, 5.0, 4.0, 2.0, 5.0, 5.0, 3.0, 4.0, 5.0, 2.0, 2.0, 4.0, 2.0, 2.0, 5.0, 4.0, 3.0, 3.0, 5.0, 3.0, 5.0, 3.0, 2.0, 5.0, 4.0, 2.0, 2.0, 5.0, 1.0, 5.0, 5.0, 5.0, 5.0, 3.0, 5.0, 5.0, 4.0, 5.0, 5.0, 1.0, 4.0, 5.0, 4.0, 1.0, 2.0, 5.0, 2.0, 3.0, 5.0, 4.0, 5.0, 4.0, 5.0, 3.0, 4.0, 5.0, 2.0, 5.0, 4.0, 4.0, 3.0, 5.0, 5.0, 5.0, 5.0, 4.0, 4.0, 4.0, 1.0, 4.0, 5.0, 5.0, 5.0, 3.0, 3.0, 5.0, 4.0, 5.0, 5.0, 5.0, 5.0, 5.0, 1.0, 4.0, 3.0, 5.0, 4.0, 3.0, 4.0, 4.0, 5.0, 3.0, 5.0, 4.0, 5.0, 4.0, 4.0, 5.0, 4.0, 2.0, 4.0, 4.0, 3.0, 4.0, 5.0, 4.0, 5.0, 5.0, 3.0, 5.0, 3.0, 5.0, 3.0, 4.0, 4.0, 2.0, 4.0, 4.0, 5.0, 5.0, 5.0, 4.0, 1.0, 4.0, 4.0, 5.0, 4.0, 1.0, 1.0, 5.0, 5.0, 3.0, 3.0, 3.0, 4.0, 3.0, 4.0, 5.0, 1.0, 3.0, 1.0, 2.0, 5.0, 5.0, 5.0, 5.0, 4.0, 5.0, 4.0, 3.0, 5.0, 5.0, 3.0, 5.0, 3.0, 5.0, 5.0, 5.0, 5.0, 4.0, 4.0, 5.0, 3.0, 5.0, 5.0, 3.0, 5.0, 2.0, 5.0, 5.0, 4.0, 4.0, 1.0, 5.0, 5.0, 2.0, 3.0, 4.0, 4.0, 3.0, 5.0, 5.0, 5.0, 1.0, 5.0, 1.0, 5.0, 5.0, 4.0, 4.0, 5.0, 4.0, 5.0, 5.0, 5.0, 5.0, 5.0, 4.0, 3.0, 1.0, 5.0, 3.0, 4.0, 5.0, 5.0, 1.0, 4.0, 1.0, 5.0, 4.0, 5.0, 2.0, 5.0, 4.0, 5.0, 4.0, 3.0, 5.0, 5.0, 4.0, 5.0, 2.0, 4.0, 5.0, 1.0, 5.0, 2.0, 5.0, 3.0, 5.0, 4.0, 4.0, 4.0, 4.0, 3.0, 4.0, 4.0, 5.0, 1.0, 5.0, 5.0, 4.0, 3.0, 2.0, 5.0, 1.0, 3.0, 4.0, 5.0, 1.0, 4.0, 3.0, 4.0, 5.0, 5.0, 3.0, 3.0, 5.0, 4.0, 4.0, 3.0, 5.0, 5.0, 3.0, 4.0, 4.0, 4.0, 5.0, 5.0, 4.0, 1.0, 2.0, 5.0, 4.0, 5.0, 5.0, 5.0, 5.0, 5.0, 4.0, 4.0, 4.0, 5.0, 5.0, 3.0, 3.0, 5.0, 4.0, 5.0, 4.0, 4.0, 5.0, 5.0, 1.0, 3.0, 5.0, 5.0, 5.0, 5.0, 5.0, 1.0, 5.0, 5.0, 4.0, 4.0, 5.0, 5.0, 4.0, 2.0, 4.0, 5.0, 4.0, 5.0, 1.0, 4.0, 5.0, 5.0, 5.0, 3.0, 4.0, 1.0, 4.0, 3.0, 2.0, 5.0, 5.0, 5.0, 5.0, 5.0, 3.0, 3.0, 4.0, 5.0, 4.0, 5.0, 4.0, 1.0, 1.0, 4.0, 5.0, 3.0, 3.0, 5.0, 4.0, 5.0, 5.0, 5.0, 4.0, 5.0, 4.0, 4.0, 4.0, 5.0, 4.0, 3.0, 5.0, 1.0, 3.0, 3.0, 3.0, 4.0, 1.0, 1.0, 4.0, 4.0, 5.0, 4.0, 4.0, 5.0, 4.0, 4.0, 4.0, 4.0, 1.0, 5.0, 4.0, 5.0, 1.0, 5.0, 5.0, 5.0, 4.0, 4.0, 5.0, 4.0, 5.0, 1.0, 4.0, 2.0, 5.0, 4.0, 5.0, 4.0, 4.0, 5.0, 2.0, 5.0, 2.0, 5.0, 5.0, 4.0, 1.0, 4.0, 5.0, 4.0, 5.0, 5.0, 4.0, 4.0, 5.0, 5.0, 2.0, 4.0, 5.0, 5.0, 5.0, 5.0, 2.0, 5.0, 5.0, 4.0, 3.0, 4.0, 5.0, 1.0, 3.0, 4.0, 3.0, 4.0, 3.0, 5.0, 5.0, 5.0, 5.0, 5.0, 1.0, 5.0, 5.0, 5.0, 4.0, 4.0, 4.0, 4.0, 5.0, 5.0, 5.0, 1.0, 4.0, 3.0, 4.0, 5.0, 5.0, 5.0, 3.0, 5.0, 5.0, 4.0, 4.0, 1.0, 1.0, 3.0, 5.0, 3.0, 3.0, 5.0, 1.0, 5.0, 4.0, 3.0, 3.0, 5.0, 4.0, 5.0, 5.0, 5.0, 4.0, 5.0, 4.0, 3.0, 4.0, 5.0, 5.0, 4.0, 4.0, 5.0, 1.0, 5.0, 5.0, 3.0, 5.0, 5.0, 5.0, 1.0, 4.0, 4.0, 5.0, 2.0, 4.0, 4.0, 2.0, 5.0, 4.0, 5.0, 5.0, 4.0, 3.0, 4.0, 5.0, 4.0, 2.0, 4.0, 4.0, 5.0, 5.0, 4.0, 4.0, 3.0, 5.0, 4.0, 3.0, 5.0, 5.0, 5.0, 5.0, 2.0, 5.0, 3.0, 5.0, 5.0, 5.0, 5.0, 4.0, 5.0, 5.0, 2.0, 3.0, 5.0, 5.0, 5.0, 4.0, 4.0, 5.0, 5.0, 3.0, 3.0, 5.0, 4.0, 4.0, 5.0, 4.0, 3.0, 4.0, 2.0, 5.0, 1.0, 5.0, 5.0, 3.0, 5.0, 5.0, 3.0, 4.0, 5.0, 3.0, 4.0, 5.0, 4.0, 2.0, 5.0, 5.0, 1.0, 3.0, 3.0, 4.0, 5.0, 1.0, 5.0, 5.0, 4.0, 4.0, 3.0, 5.0, 5.0, 5.0, 5.0, 5.0, 4.0, 5.0, 3.0, 2.0, 5.0, 5.0, 3.0, 4.0, 4.0, 5.0, 5.0, 1.0, 5.0, 1.0, 4.0, 1.0, 5.0, 4.0, 5.0, 2.0, 4.0, 5.0, 3.0, 1.0, 5.0, 5.0, 5.0, 5.0, 5.0, 1.0, 5.0, 3.0, 4.0, 5.0, 5.0, 5.0, 4.0, 5.0, 4.0, 4.0, 4.0, 4.0, 4.0, 4.0, 4.0, 3.0, 5.0, 4.0, 4.0, 5.0, 3.0, 3.0, 3.0, 4.0, 1.0, 3.0, 2.0, 3.0, 4.0, 3.0, 5.0, 4.0, 5.0, 1.0, 5.0, 5.0, 3.0, 4.0, 4.0, 3.0, 5.0, 5.0, 3.0, 1.0, 3.0, 5.0, 5.0, 5.0, 1.0, 3.0, 4.0, 5.0, 5.0, 3.0, 5.0, 5.0, 5.0, 4.0, 5.0, 4.0, 3.0, 3.0, 5.0, 4.0, 5.0, 4.0, 1.0, 4.0, 5.0, 3.0, 5.0, 4.0, 5.0, 5.0, 3.0, 4.0, 2.0, 5.0, 5.0, 5.0, 4.0, 5.0, 3.0, 1.0, 4.0, 5.0, 4.0, 4.0, 4.0, 5.0, 5.0, 2.0, 5.0, 5.0, 3.0, 3.0, 5.0, 4.0, 5.0, 5.0, 4.0, 5.0, 5.0, 5.0, 3.0, 5.0, 5.0, 5.0, 5.0, 5.0, 4.0, 4.0, 1.0, 2.0, 4.0, 3.0, 4.0, 4.0, 5.0, 5.0, 4.0, 4.0, 4.0, 3.0, 4.0, 4.0, 2.0, 4.0, 5.0, 5.0, 2.0, 5.0, 5.0, 3.0, 1.0, 1.0, 5.0, 4.0, 5.0, 4.0, 4.0, 4.0, 5.0, 5.0, 3.0, 3.0, 4.0, 5.0, 4.0, 4.0, 2.0, 4.0, 5.0, 4.0, 1.0, 2.0, 5.0, 5.0, 3.0, 5.0, 4.0, 3.0, 5.0, 2.0, 4.0, 4.0, 3.0, 4.0, 1.0, 4.0, 4.0, 1.0, 5.0, 5.0, 4.0, 5.0, 5.0, 5.0, 4.0, 5.0, 3.0, 1.0, 4.0, 5.0, 3.0, 5.0, 4.0, 4.0, 3.0, 1.0, 5.0, 4.0, 5.0, 4.0, 5.0, 5.0, 5.0, 5.0, 5.0, 2.0, 1.0, 3.0, 5.0, 4.0, 5.0, 5.0, 4.0, 2.0, 5.0, 4.0, 3.0, 5.0, 5.0, 4.0, 3.0, 1.0, 5.0, 3.0, 5.0, 5.0, 5.0, 5.0, 4.0, 2.0, 1.0, 5.0, 2.0, 5.0, 5.0, 4.0, 5.0, 2.0, 2.0, 4.0, 5.0, 4.0, 3.0, 5.0, 2.0, 4.0, 5.0, 5.0, 5.0, 3.0, 3.0, 4.0, 5.0, 4.0, 3.0, 4.0, 5.0, 4.0, 5.0, 4.0, 5.0, 3.0, 3.0, 3.0, 4.0, 4.0, 3.0, 1.0, 1.0, 5.0, 4.0, 5.0, 1.0, 5.0, 5.0, 5.0, 5.0, 1.0, 5.0, 5.0, 5.0, 4.0, 5.0, 1.0, 3.0, 5.0, 3.0, 1.0, 5.0, 2.0, 4.0, 4.0, 3.0, 4.0, 4.0, 5.0, 5.0, 1.0, 3.0, 3.0, 5.0, 5.0, 1.0, 5.0, 4.0, 2.0, 2.0, 3.0, 4.0, 5.0, 4.0, 4.0, 3.0, 5.0, 5.0, 3.0, 5.0, 4.0, 5.0, 3.0, 5.0, 1.0, 4.0, 4.0, 1.0, 5.0, 4.0, 5.0, 1.0, 4.0, 5.0, 3.0, 5.0, 5.0, 4.0, 5.0, 1.0, 1.0, 4.0, 2.0, 5.0, 3.0, 3.0, 5.0, 4.0, 1.0, 5.0, 5.0, 1.0, 5.0, 3.0, 4.0, 2.0, 5.0, 1.0, 1.0, 3.0, 4.0, 4.0, 1.0, 3.0, 5.0, 4.0, 4.0, 2.0, 5.0, 1.0, 4.0, 4.0, 3.0, 5.0, 4.0, 5.0, 2.0, 4.0, 4.0, 5.0, 5.0, 5.0, 3.0, 5.0, 2.0, 3.0, 3.0, 5.0, 5.0, 5.0, 5.0, 1.0, 5.0, 2.0, 5.0, 5.0, 4.0, 5.0, 5.0, 5.0, 4.0, 5.0, 5.0, 2.0, 5.0, 5.0, 4.0, 5.0, 1.0, 5.0, 4.0, 5.0, 5.0, 5.0, 5.0, 5.0, 2.0, 5.0, 5.0, 5.0, 1.0, 1.0, 3.0, 5.0, 4.0, 2.0, 5.0, 1.0, 3.0, 5.0, 3.0, 5.0, 5.0, 1.0, 3.0, 5.0, 4.0, 1.0, 4.0, 5.0, 5.0, 5.0, 4.0, 5.0, 3.0, 3.0, 4.0, 5.0, 4.0, 5.0, 1.0, 5.0, 4.0, 2.0, 4.0, 4.0, 4.0, 5.0, 4.0, 5.0, 5.0, 1.0, 4.0, 5.0, 5.0, 5.0, 5.0, 5.0, 4.0, 4.0, 5.0, 5.0, 3.0, 3.0, 5.0, 5.0, 2.0, 5.0, 4.0, 4.0, 5.0, 2.0, 5.0, 2.0, 4.0, 4.0, 1.0, 4.0, 5.0, 5.0, 4.0, 3.0, 5.0, 4.0, 3.0, 4.0, 5.0, 5.0, 5.0, 3.0, 4.0, 5.0, 4.0, 4.0, 4.0, 5.0, 5.0, 5.0, 4.0, 2.0, 4.0, 2.0, 5.0, 4.0, 4.0, 5.0, 3.0, 5.0, 4.0, 5.0, 5.0, 5.0, 4.0, 5.0, 5.0, 2.0, 5.0, 5.0, 1.0, 3.0, 4.0, 3.0, 4.0, 5.0, 3.0, 3.0, 4.0, 5.0, 5.0, 4.0, 5.0, 5.0, 4.0, 4.0, 5.0, 4.0, 3.0, 5.0, 3.0, 5.0, 4.0, 4.0, 1.0, 5.0, 5.0, 4.0, 4.0, 5.0, 5.0, 3.0, 4.0, 5.0, 4.0, 5.0, 5.0, 1.0, 3.0, 5.0, 5.0, 1.0, 3.0, 5.0, 1.0, 5.0, 5.0, 5.0, 5.0, 5.0, 5.0, 5.0, 5.0, 3.0, 5.0, 4.0, 4.0, 4.0, 4.0, 4.0, 1.0, 4.0, 5.0, 2.0, 3.0, 2.0, 1.0, 3.0, 1.0, 3.0, 5.0, 5.0, 5.0, 5.0, 5.0, 3.0, 5.0, 5.0, 5.0, 5.0, 1.0, 5.0, 5.0, 4.0, 5.0, 4.0, 4.0, 4.0, 4.0, 5.0, 1.0, 5.0, 2.0, 5.0, 4.0, 2.0, 4.0, 5.0, 5.0, 5.0, 5.0, 1.0, 2.0, 5.0, 5.0, 3.0, 3.0, 5.0, 5.0, 4.0, 4.0, 5.0, 4.0, 4.0, 5.0, 4.0, 5.0, 2.0, 5.0, 4.0, 3.0, 4.0, 5.0, 4.0, 5.0, 5.0, 4.0, 4.0, 4.0, 4.0, 5.0, 2.0, 5.0, 1.0, 4.0, 5.0, 5.0, 5.0, 4.0, 2.0, 4.0, 2.0, 5.0, 5.0, 3.0, 1.0, 2.0, 5.0, 4.0, 4.0, 3.0, 5.0, 5.0, 5.0, 3.0, 3.0, 3.0, 4.0, 1.0, 5.0, 4.0, 5.0, 5.0, 5.0, 5.0, 5.0, 5.0, 2.0, 5.0, 5.0, 3.0, 5.0, 4.0, 1.0, 4.0, 5.0, 5.0, 2.0, 5.0, 5.0, 4.0, 1.0, 4.0, 3.0, 4.0, 3.0, 5.0, 1.0, 4.0, 1.0, 4.0, 5.0, 4.0, 1.0, 5.0, 5.0, 4.0, 4.0, 5.0, 5.0, 3.0, 5.0, 5.0, 5.0, 3.0, 3.0, 4.0, 4.0, 5.0, 3.0, 2.0, 4.0, 4.0, 4.0, 3.0, 1.0, 5.0, 5.0, 4.0, 4.0, 1.0, 4.0, 2.0, 2.0, 2.0, 4.0, 5.0, 5.0, 5.0, 5.0, 5.0, 4.0, 5.0, 4.0, 5.0, 5.0, 5.0, 2.0, 5.0, 4.0, 4.0, 5.0, 4.0, 5.0, 2.0, 5.0, 4.0, 3.0, 4.0, 1.0, 5.0, 3.0, 3.0, 5.0, 1.0, 2.0, 5.0, 1.0, 5.0, 5.0, 5.0, 5.0, 5.0, 5.0, 5.0, 4.0, 2.0, 1.0, 5.0, 5.0, 5.0, 2.0, 5.0, 5.0, 4.0, 5.0, 4.0, 4.0, 3.0, 5.0, 2.0, 4.0, 5.0, 3.0, 3.0, 4.0, 4.0, 4.0, 5.0, 4.0, 5.0, 5.0, 5.0, 5.0, 4.0, 4.0, 5.0, 5.0, 4.0, 5.0, 5.0, 3.0, 4.0, 4.0, 5.0, 4.0, 5.0, 5.0, 4.0, 2.0, 4.0, 4.0, 4.0, 1.0, 5.0, 2.0, 5.0, 5.0, 5.0, 3.0, 5.0, 5.0, 5.0, 4.0, 5.0, 4.0, 5.0, 1.0, 4.0, 3.0, 2.0, 2.0, 3.0, 5.0, 3.0, 4.0, 5.0, 5.0, 3.0, 4.0, 5.0, 3.0, 2.0, 5.0, 3.0, 1.0, 4.0, 5.0, 5.0, 5.0, 5.0, 4.0, 5.0, 3.0, 4.0, 4.0, 5.0, 4.0, 3.0, 5.0, 3.0, 5.0, 5.0, 5.0, 5.0, 5.0, 4.0, 5.0, 4.0, 5.0, 5.0, 5.0, 5.0, 5.0, 2.0, 4.0, 5.0, 5.0, 5.0, 5.0, 5.0, 3.0, 5.0, 3.0, 5.0, 4.0, 4.0, 5.0, 3.0, 3.0, 4.0, 4.0, 3.0, 2.0, 4.0, 5.0, 4.0, 4.0, 5.0, 4.0, 5.0, 2.0, 3.0, 5.0, 3.0, 5.0, 5.0, 5.0, 1.0, 4.0, 1.0, 5.0, 5.0, 5.0, 3.0, 4.0, 5.0, 5.0, 5.0, 5.0, 4.0, 5.0, 4.0, 5.0, 4.0, 2.0, 3.0, 5.0, 2.0, 5.0, 5.0, 1.0, 2.0, 1.0, 4.0, 3.0, 2.0, 5.0, 5.0, 4.0, 5.0, 4.0, 5.0, 4.0, 3.0, 3.0, 4.0, 5.0, 3.0, 5.0, 5.0, 4.0, 5.0, 5.0, 5.0, 2.0, 5.0, 5.0, 3.0, 5.0, 3.0, 5.0, 5.0, 4.0, 4.0, 5.0, 3.0, 4.0, 5.0, 5.0, 5.0, 5.0, 4.0, 5.0, 4.0, 3.0, 1.0, 1.0, 3.0, 3.0, 4.0, 5.0, 5.0, 5.0, 4.0, 5.0, 1.0, 5.0, 5.0, 5.0, 4.0, 1.0, 3.0, 1.0, 5.0, 5.0, 2.0, 3.0, 5.0, 4.0, 3.0, 1.0, 3.0, 3.0, 5.0, 5.0, 5.0, 5.0, 4.0, 4.0, 5.0, 2.0, 1.0, 3.0, 4.0, 3.0, 2.0, 4.0, 5.0, 4.0, 2.0, 5.0, 4.0, 4.0, 5.0, 1.0, 5.0, 5.0, 4.0, 5.0, 5.0, 3.0, 2.0, 5.0, 5.0, 5.0, 3.0, 4.0, 4.0, 4.0, 5.0, 3.0, 4.0, 3.0, 5.0, 5.0, 5.0, 5.0, 4.0, 3.0, 3.0, 4.0, 5.0, 4.0, 3.0, 5.0, 4.0, 1.0, 5.0, 5.0, 3.0, 5.0, 5.0, 5.0, 5.0, 5.0, 5.0, 5.0, 4.0, 5.0, 3.0, 5.0, 3.0, 4.0, 1.0, 2.0, 4.0, 5.0, 5.0, 4.0, 4.0, 2.0, 3.0, 4.0, 3.0, 5.0, 1.0, 5.0, 5.0, 2.0, 5.0, 2.0, 4.0, 3.0, 4.0, 3.0, 4.0, 5.0, 3.0, 1.0, 2.0, 3.0, 3.0, 5.0, 5.0, 4.0, 1.0, 5.0, 5.0, 5.0, 4.0, 4.0, 2.0, 4.0, 5.0, 2.0, 3.0, 5.0, 4.0, 5.0, 5.0, 5.0, 3.0, 3.0, 5.0, 4.0, 4.0, 2.0, 4.0, 5.0, 4.0, 5.0, 5.0, 5.0, 5.0, 5.0, 5.0, 4.0, 4.0, 3.0, 1.0, 5.0, 2.0, 3.0, 4.0, 5.0, 4.0, 4.0, 5.0, 5.0, 5.0, 4.0, 4.0, 3.0, 5.0, 5.0, 4.0, 3.0, 3.0, 1.0, 3.0, 4.0, 3.0, 5.0, 5.0, 3.0, 5.0, 4.0, 5.0, 4.0, 5.0, 3.0, 5.0, 4.0, 3.0, 3.0, 5.0, 5.0, 4.0, 4.0, 5.0, 5.0, 4.0, 4.0, 3.0, 4.0, 5.0, 5.0, 4.0, 5.0, 5.0, 4.0, 5.0, 3.0, 5.0, 5.0, 3.0, 3.0, 4.0, 4.0, 5.0, 2.0, 5.0, 1.0, 5.0, 2.0, 5.0, 4.0, 5.0, 5.0, 1.0, 4.0, 5.0, 3.0, 5.0, 4.0, 4.0, 5.0, 1.0, 3.0, 5.0, 4.0, 4.0, 4.0, 4.0, 4.0, 4.0, 4.0, 4.0, 4.0, 5.0, 2.0, 3.0, 2.0, 5.0, 4.0, 1.0, 5.0, 4.0, 5.0, 1.0, 5.0, 5.0, 4.0, 2.0, 4.0, 4.0, 4.0, 5.0, 4.0, 3.0, 5.0, 1.0, 4.0, 4.0, 2.0, 5.0, 5.0, 5.0, 5.0, 4.0, 5.0, 5.0, 1.0, 5.0, 4.0, 5.0, 4.0, 5.0, 3.0, 5.0, 4.0, 2.0, 3.0, 4.0, 3.0, 4.0, 4.0, 5.0, 4.0, 5.0, 5.0, 4.0, 5.0, 4.0, 5.0, 4.0, 4.0, 5.0, 3.0, 1.0, 5.0, 5.0, 4.0, 1.0, 5.0, 4.0, 2.0, 4.0, 5.0, 5.0, 2.0, 5.0, 1.0, 5.0, 2.0, 4.0, 1.0, 5.0, 5.0, 5.0, 3.0, 3.0, 5.0, 1.0, 3.0, 5.0, 3.0, 5.0, 5.0, 5.0, 1.0, 3.0, 1.0, 3.0, 4.0, 5.0, 4.0, 5.0, 2.0, 4.0, 4.0, 5.0, 4.0, 3.0, 4.0, 5.0, 4.0, 3.0, 5.0, 5.0, 4.0, 5.0, 4.0, 5.0, 1.0, 2.0, 5.0, 4.0, 2.0, 1.0, 4.0, 3.0, 3.0, 1.0, 2.0, 3.0, 5.0, 4.0, 5.0, 1.0, 5.0, 1.0, 2.0, 3.0, 4.0, 3.0, 5.0, 3.0, 5.0, 1.0, 4.0, 2.0, 5.0, 5.0, 4.0, 4.0, 3.0, 3.0, 5.0, 4.0, 5.0, 5.0, 5.0, 2.0, 5.0, 5.0, 4.0, 4.0, 5.0, 5.0, 2.0, 5.0, 5.0, 5.0, 4.0, 4.0, 3.0, 4.0, 5.0, 5.0, 4.0, 5.0, 4.0, 4.0, 5.0, 3.0, 5.0, 5.0, 3.0, 5.0, 3.0, 4.0, 5.0, 4.0, 5.0, 4.0, 4.0, 5.0, 4.0, 5.0, 3.0, 1.0, 4.0, 1.0, 5.0, 5.0, 5.0, 5.0, 2.0, 5.0, 4.0, 5.0, 4.0, 5.0, 5.0, 5.0, 4.0, 4.0, 2.0, 1.0, 5.0, 4.0, 4.0, 5.0, 2.0, 5.0, 3.0, 4.0, 4.0, 4.0, 5.0, 4.0, 3.0, 5.0, 5.0, 2.0, 3.0, 5.0, 4.0, 4.0, 4.0, 4.0, 3.0, 5.0, 3.0, 5.0, 5.0, 4.0, 5.0, 4.0, 4.0, 5.0, 1.0, 4.0, 5.0, 4.0, 2.0, 3.0, 4.0, 3.0, 3.0, 5.0, 5.0, 5.0, 4.0, 4.0, 5.0, 2.0, 4.0, 5.0, 5.0, 5.0, 5.0, 3.0, 4.0, 4.0, 5.0, 4.0, 5.0, 5.0, 5.0, 3.0, 4.0, 5.0, 2.0, 2.0, 5.0, 4.0, 4.0, 4.0, 4.0, 3.0, 4.0, 3.0, 4.0, 3.0, 4.0, 3.0, 4.0, 5.0, 4.0, 4.0, 4.0, 2.0, 5.0, 4.0, 3.0, 5.0, 3.0, 5.0, 4.0, 4.0, 5.0, 5.0, 1.0, 5.0, 5.0, 5.0, 4.0, 3.0, 1.0, 1.0, 5.0, 5.0, 5.0, 1.0, 5.0, 1.0, 5.0, 5.0, 4.0, 4.0, 5.0, 5.0, 4.0, 3.0, 5.0, 4.0, 5.0, 4.0, 4.0, 3.0, 4.0, 5.0, 5.0, 1.0, 5.0, 3.0, 4.0, 4.0, 5.0, 4.0, 5.0, 3.0, 4.0, 4.0, 5.0, 3.0, 4.0, 4.0, 5.0, 5.0, 2.0, 2.0, 5.0, 5.0, 2.0, 3.0, 4.0, 5.0, 5.0, 5.0, 1.0, 5.0, 1.0, 4.0, 5.0, 5.0, 4.0, 2.0, 5.0, 4.0, 4.0, 4.0, 5.0, 4.0, 5.0, 5.0, 5.0, 4.0, 5.0, 5.0, 3.0, 4.0, 3.0, 3.0, 5.0, 5.0, 3.0, 5.0, 5.0, 3.0, 5.0, 5.0, 4.0, 1.0, 2.0, 1.0, 1.0, 4.0, 5.0, 5.0, 4.0, 4.0, 4.0, 1.0, 3.0, 4.0, 4.0, 4.0, 4.0, 3.0, 3.0, 5.0, 5.0, 4.0, 5.0, 5.0, 4.0, 4.0, 5.0, 1.0, 5.0, 2.0, 5.0, 4.0, 4.0, 5.0, 1.0, 5.0, 4.0, 5.0, 5.0, 4.0, 3.0, 4.0, 4.0, 5.0, 5.0, 3.0, 5.0, 5.0, 5.0, 4.0, 5.0, 1.0, 5.0, 5.0, 5.0, 1.0, 5.0, 5.0, 4.0, 1.0, 3.0, 3.0, 5.0, 4.0, 4.0, 5.0, 5.0, 5.0, 4.0, 3.0, 5.0, 5.0, 5.0, 3.0, 4.0, 4.0, 5.0, 4.0, 4.0, 4.0, 5.0, 3.0, 3.0, 4.0, 2.0, 4.0, 4.0, 5.0, 5.0, 1.0, 5.0, 5.0, 4.0, 4.0, 5.0, 5.0, 5.0, 3.0, 5.0, 2.0, 4.0, 3.0, 5.0, 3.0, 2.0, 1.0, 5.0, 3.0, 5.0, 5.0, 5.0, 3.0, 5.0, 4.0, 5.0, 5.0, 5.0, 5.0, 5.0, 1.0, 5.0, 4.0, 5.0, 3.0, 2.0, 5.0, 4.0, 4.0, 3.0, 4.0, 4.0, 1.0, 1.0, 4.0, 5.0, 5.0, 5.0, 4.0, 4.0, 5.0, 5.0, 5.0, 4.0, 2.0, 4.0, 4.0, 5.0, 5.0, 3.0, 5.0, 5.0, 5.0, 4.0, 4.0, 4.0, 5.0, 4.0, 5.0, 4.0, 2.0, 3.0, 5.0, 3.0, 3.0, 2.0, 5.0, 4.0, 5.0, 1.0, 4.0, 5.0, 4.0, 4.0, 3.0, 5.0, 3.0, 5.0, 5.0, 1.0, 5.0, 4.0, 4.0, 2.0, 5.0, 2.0, 1.0, 2.0, 1.0, 4.0, 5.0, 3.0, 5.0, 4.0, 4.0, 2.0, 5.0, 1.0, 5.0, 1.0, 4.0, 4.0, 5.0, 5.0, 5.0, 5.0, 3.0, 2.0, 4.0, 4.0, 5.0, 5.0, 2.0, 5.0, 3.0, 2.0, 5.0, 5.0, 4.0, 5.0, 5.0, 2.0, 4.0, 4.0, 5.0, 3.0, 1.0, 5.0, 1.0, 5.0, 5.0, 2.0, 1.0, 3.0, 5.0, 5.0, 4.0, 4.0, 4.0, 3.0, 5.0, 4.0, 5.0, 5.0, 5.0, 5.0, 4.0, 5.0, 5.0, 4.0, 4.0, 5.0, 4.0, 5.0, 5.0, 4.0, 4.0, 4.0, 5.0, 4.0, 4.0, 5.0, 5.0, 2.0, 4.0, 4.0, 4.0, 5.0, 5.0, 3.0, 5.0, 5.0, 4.0, 1.0, 5.0, 2.0, 5.0, 5.0, 3.0, 4.0, 3.0, 4.0, 4.0, 4.0, 3.0, 3.0, 2.0, 2.0, 3.0, 3.0, 5.0, 3.0, 5.0, 5.0, 5.0, 3.0, 2.0, 4.0, 1.0, 5.0, 4.0, 3.0, 3.0, 3.0, 5.0, 5.0, 5.0, 5.0, 3.0, 3.0, 3.0, 4.0, 5.0, 3.0, 4.0, 5.0, 4.0, 5.0, 5.0, 3.0, 3.0, 3.0, 3.0, 5.0, 3.0, 4.0, 3.0, 4.0, 5.0, 3.0, 1.0, 5.0, 5.0, 1.0, 3.0, 5.0, 2.0, 5.0, 5.0, 5.0, 3.0, 2.0, 4.0, 2.0, 5.0, 4.0, 5.0, 4.0, 4.0, 1.0, 5.0, 3.0, 4.0, 4.0, 5.0, 2.0, 2.0, 4.0, 5.0, 4.0, 4.0, 3.0, 5.0, 5.0, 2.0, 1.0, 2.0, 2.0, 2.0, 5.0, 5.0, 4.0, 5.0, 3.0, 3.0, 5.0, 3.0, 3.0, 3.0, 4.0, 3.0, 4.0, 4.0, 4.0, 5.0, 5.0, 5.0, 5.0, 5.0, 5.0, 3.0, 5.0, 3.0, 4.0, 3.0, 3.0, 5.0, 5.0, 4.0, 4.0, 2.0, 5.0, 4.0, 1.0, 4.0, 2.0, 4.0, 4.0, 5.0, 5.0, 2.0, 4.0, 5.0, 5.0, 4.0, 4.0, 1.0, 4.0, 5.0, 5.0, 5.0, 4.0, 5.0, 4.0, 2.0, 4.0, 4.0, 3.0, 3.0, 5.0, 3.0, 1.0, 5.0, 5.0, 5.0, 4.0, 5.0, 5.0, 5.0, 5.0, 4.0, 5.0, 5.0, 4.0, 5.0, 1.0, 1.0, 3.0, 5.0, 1.0, 2.0, 4.0, 1.0, 3.0, 3.0, 4.0, 5.0, 2.0, 4.0, 5.0, 5.0, 3.0, 5.0, 5.0, 1.0, 5.0, 5.0, 4.0, 3.0, 5.0, 1.0, 5.0, 5.0, 5.0, 4.0, 4.0, 5.0, 4.0, 3.0, 5.0, 3.0, 3.0, 3.0, 5.0, 5.0, 3.0, 5.0, 3.0, 3.0, 2.0, 4.0, 1.0, 5.0, 4.0, 4.0, 5.0, 5.0, 5.0, 4.0, 4.0, 5.0, 3.0, 2.0, 4.0, 4.0, 1.0, 4.0, 3.0, 5.0, 5.0, 5.0, 4.0, 5.0, 4.0, 4.0, 4.0, 5.0, 5.0, 4.0, 3.0, 1.0, 4.0, 5.0, 5.0, 4.0, 5.0, 5.0, 5.0, 4.0, 3.0, 3.0, 5.0, 5.0, 4.0, 2.0, 3.0, 5.0, 5.0, 5.0, 4.0, 1.0, 5.0, 5.0, 5.0, 4.0, 5.0, 4.0, 4.0, 5.0, 5.0, 4.0, 5.0, 5.0, 5.0, 5.0, 3.0, 4.0, 5.0, 5.0, 3.0, 5.0, 3.0, 4.0, 3.0, 3.0, 5.0, 4.0, 5.0, 5.0, 4.0, 2.0, 5.0, 5.0, 5.0, 5.0, 1.0, 5.0, 5.0, 5.0, 2.0, 2.0, 5.0, 4.0, 5.0, 4.0, 5.0, 3.0, 5.0, 4.0, 4.0, 5.0, 3.0, 5.0, 5.0, 4.0, 2.0, 4.0, 3.0, 5.0, 2.0, 4.0, 4.0, 3.0, 4.0, 4.0, 5.0, 5.0, 5.0, 3.0, 3.0, 5.0, 5.0, 5.0, 3.0, 2.0, 5.0, 5.0, 5.0, 5.0, 3.0, 5.0, 5.0, 4.0, 1.0, 5.0, 4.0, 4.0, 5.0, 3.0, 1.0, 3.0, 5.0, 1.0, 5.0, 4.0, 5.0, 3.0, 5.0, 5.0, 4.0, 1.0, 4.0, 5.0, 4.0, 5.0, 5.0, 5.0, 5.0, 4.0, 1.0, 4.0, 5.0, 4.0, 5.0, 3.0, 4.0, 5.0, 4.0, 3.0, 4.0, 4.0, 1.0, 1.0, 5.0, 5.0, 3.0, 5.0, 1.0, 4.0, 5.0, 3.0, 5.0, 2.0, 2.0, 5.0, 5.0, 5.0, 5.0, 4.0, 5.0, 5.0, 3.0, 1.0, 5.0, 1.0, 4.0, 5.0, 5.0, 5.0, 4.0, 3.0, 5.0, 1.0, 1.0, 5.0, 2.0, 4.0, 4.0, 5.0, 4.0, 4.0, 5.0, 5.0, 4.0, 5.0, 5.0, 2.0, 4.0, 2.0, 5.0, 4.0, 4.0, 5.0, 5.0, 4.0, 4.0, 4.0, 4.0, 2.0, 5.0, 5.0, 1.0, 4.0, 1.0, 5.0, 3.0, 5.0, 3.0, 3.0, 3.0, 1.0, 5.0, 4.0, 3.0, 4.0, 5.0, 5.0, 5.0, 5.0, 5.0, 4.0, 5.0, 4.0, 2.0, 5.0, 3.0, 4.0, 5.0, 5.0, 5.0, 5.0, 2.0, 3.0, 4.0, 1.0, 3.0, 1.0, 3.0, 5.0, 2.0, 1.0, 1.0, 4.0, 2.0, 2.0, 5.0, 3.0, 5.0, 5.0, 2.0, 4.0, 5.0, 5.0, 3.0, 4.0, 5.0, 3.0, 4.0, 3.0, 1.0, 4.0, 4.0, 5.0, 5.0, 3.0, 4.0, 3.0, 4.0, 5.0, 3.0, 1.0, 4.0, 4.0, 5.0, 4.0, 5.0, 4.0, 3.0, 3.0, 5.0, 4.0, 5.0, 5.0, 5.0, 4.0, 4.0, 4.0, 2.0, 5.0, 5.0, 4.0, 5.0, 4.0, 3.0, 2.0, 5.0, 2.0, 5.0, 2.0, 1.0, 5.0, 1.0, 4.0, 5.0, 5.0, 4.0, 5.0, 4.0, 4.0, 5.0, 4.0, 4.0, 4.0, 5.0, 5.0, 5.0, 5.0, 5.0, 3.0, 4.0, 5.0, 3.0, 5.0, 4.0, 4.0, 3.0, 5.0, 4.0, 4.0, 5.0, 4.0, 4.0, 1.0, 4.0, 1.0, 5.0, 2.0, 3.0, 3.0, 4.0, 4.0, 5.0, 1.0, 5.0, 2.0, 4.0, 4.0, 4.0, 3.0, 3.0, 5.0, 5.0, 5.0, 4.0, 5.0, 5.0, 4.0, 4.0, 5.0, 5.0, 4.0, 4.0, 4.0, 5.0, 3.0, 5.0, 1.0, 5.0, 5.0, 3.0, 5.0, 1.0, 2.0, 1.0, 5.0, 4.0, 5.0, 4.0, 3.0, 5.0, 5.0, 4.0, 4.0, 4.0, 4.0, 4.0, 5.0, 5.0, 5.0, 4.0, 2.0, 4.0, 5.0, 4.0, 5.0, 4.0, 4.0, 5.0, 1.0, 3.0, 4.0, 5.0, 5.0, 3.0, 4.0, 4.0, 4.0, 4.0, 5.0, 5.0, 5.0, 2.0, 5.0, 4.0, 3.0, 5.0, 5.0, 3.0, 5.0, 4.0, 4.0, 3.0, 5.0, 5.0, 5.0, 3.0, 4.0, 4.0, 3.0, 5.0, 1.0, 5.0, 5.0, 4.0, 3.0, 2.0, 5.0, 4.0, 3.0, 5.0, 5.0, 5.0, 3.0, 5.0, 3.0, 5.0, 4.0, 1.0, 5.0, 4.0, 1.0, 5.0, 3.0, 4.0, 3.0, 4.0, 2.0, 5.0, 4.0, 3.0, 4.0, 5.0, 5.0, 3.0, 1.0, 5.0, 4.0, 4.0, 5.0, 5.0, 2.0, 5.0, 4.0, 5.0, 1.0, 3.0, 4.0, 5.0, 1.0, 5.0, 5.0, 2.0, 4.0, 3.0, 3.0, 4.0, 4.0, 3.0, 5.0, 5.0, 5.0, 5.0, 4.0, 5.0, 4.0, 1.0, 5.0, 4.0, 4.0, 1.0, 3.0, 5.0, 4.0, 4.0, 2.0, 5.0, 2.0, 5.0, 5.0, 3.0, 5.0, 3.0, 4.0, 5.0, 5.0, 3.0, 5.0, 4.0, 5.0, 4.0, 4.0, 5.0, 5.0, 5.0, 5.0, 4.0, 5.0, 4.0, 4.0, 5.0, 4.0, 2.0, 5.0, 4.0, 5.0, 4.0, 2.0, 5.0, 5.0, 5.0, 5.0, 4.0, 3.0, 5.0, 5.0, 2.0, 5.0, 5.0, 5.0, 5.0, 4.0, 1.0, 4.0, 5.0, 3.0, 5.0, 5.0, 5.0, 5.0, 5.0, 2.0, 5.0, 5.0, 5.0, 5.0, 4.0, 4.0, 2.0, 5.0, 5.0, 5.0, 4.0, 5.0, 3.0, 4.0, 4.0, 5.0, 4.0, 1.0, 5.0, 1.0, 4.0, 5.0, 3.0, 4.0, 4.0, 5.0, 5.0, 5.0, 5.0, 5.0, 5.0, 5.0, 1.0, 4.0, 5.0, 5.0, 1.0, 4.0, 5.0, 5.0, 4.0, 2.0, 4.0, 5.0, 5.0, 5.0, 5.0, 5.0, 5.0, 1.0, 2.0, 4.0, 2.0, 4.0, 5.0, 2.0, 5.0, 5.0, 5.0, 5.0, 5.0, 4.0, 5.0, 5.0, 4.0, 4.0, 3.0, 5.0, 2.0, 3.0, 5.0, 4.0, 5.0, 5.0, 4.0, 4.0, 3.0, 4.0, 5.0, 5.0, 1.0, 4.0, 5.0, 5.0, 4.0, 4.0, 4.0, 4.0, 4.0, 1.0, 4.0, 4.0, 5.0, 5.0, 5.0, 5.0, 5.0, 5.0, 1.0, 5.0, 5.0, 1.0, 4.0, 2.0, 4.0, 1.0, 3.0, 2.0, 5.0, 4.0, 5.0, 1.0, 4.0, 5.0, 4.0, 1.0, 5.0, 3.0, 4.0, 5.0, 3.0, 4.0, 4.0, 5.0, 4.0, 5.0, 4.0, 5.0, 4.0, 5.0, 1.0, 2.0, 4.0, 2.0, 3.0, 5.0, 3.0, 4.0, 5.0, 4.0, 3.0, 3.0, 4.0, 5.0, 5.0, 3.0, 5.0, 5.0, 3.0, 5.0, 4.0, 1.0, 5.0, 3.0, 1.0, 5.0, 5.0, 5.0, 4.0, 4.0, 2.0, 3.0, 5.0, 5.0, 5.0, 5.0, 5.0, 4.0, 5.0, 4.0, 1.0, 3.0, 5.0, 5.0, 2.0, 5.0, 4.0, 2.0, 3.0, 4.0, 4.0, 4.0, 4.0, 2.0, 3.0, 5.0, 3.0, 5.0, 5.0, 5.0, 5.0, 5.0, 5.0, 4.0, 2.0, 4.0, 4.0, 1.0, 2.0, 5.0, 5.0, 5.0, 5.0, 4.0, 4.0, 5.0, 3.0, 3.0, 5.0, 5.0, 2.0, 5.0, 5.0, 2.0, 5.0, 4.0, 4.0, 3.0, 4.0, 4.0, 4.0, 1.0, 5.0, 3.0, 5.0, 1.0, 5.0, 2.0, 4.0, 3.0, 4.0, 5.0, 3.0, 3.0, 5.0, 3.0, 5.0, 4.0, 1.0, 5.0, 5.0, 5.0, 1.0, 5.0, 4.0, 3.0, 3.0, 5.0, 1.0, 5.0, 5.0, 4.0, 5.0, 5.0, 5.0, 4.0, 3.0, 5.0, 4.0, 5.0, 4.0, 2.0, 4.0, 3.0, 4.0, 4.0, 3.0, 5.0, 4.0, 3.0, 1.0, 1.0, 1.0, 5.0, 5.0, 3.0, 5.0, 3.0, 5.0, 1.0, 3.0, 3.0, 5.0, 5.0, 1.0, 4.0, 4.0, 4.0, 4.0, 2.0, 5.0, 4.0, 2.0, 5.0, 4.0, 1.0, 3.0, 5.0, 5.0, 5.0, 5.0, 4.0, 3.0, 3.0, 5.0, 5.0, 5.0, 5.0, 5.0, 5.0, 5.0, 4.0, 4.0, 5.0, 5.0, 5.0, 3.0, 4.0, 3.0, 5.0, 4.0, 4.0, 3.0, 3.0, 4.0, 1.0, 3.0, 3.0, 4.0, 4.0, 1.0, 5.0, 1.0, 4.0, 5.0, 3.0, 5.0, 4.0, 5.0, 5.0, 4.0, 4.0, 3.0, 5.0, 4.0, 5.0, 4.0, 5.0, 5.0, 4.0, 5.0, 5.0, 4.0, 5.0, 4.0, 3.0, 5.0, 4.0, 4.0, 2.0, 5.0, 5.0, 5.0, 4.0, 5.0, 5.0, 4.0, 4.0, 3.0, 5.0, 3.0, 4.0, 1.0, 5.0, 5.0, 5.0, 4.0, 4.0, 2.0, 1.0, 4.0, 3.0, 5.0, 4.0, 5.0, 5.0, 5.0, 3.0, 5.0, 5.0, 5.0, 1.0, 4.0, 4.0, 5.0, 4.0, 5.0, 4.0, 4.0, 3.0, 2.0, 5.0, 1.0, 4.0, 3.0, 5.0, 4.0, 3.0, 4.0, 4.0, 4.0, 5.0, 4.0, 5.0, 1.0, 3.0, 4.0, 5.0, 3.0, 5.0, 4.0, 5.0, 5.0, 5.0, 3.0, 3.0, 2.0, 4.0, 5.0, 5.0, 1.0, 5.0, 5.0, 5.0, 5.0, 5.0, 5.0, 3.0, 4.0, 5.0, 1.0, 5.0, 5.0, 5.0, 5.0, 4.0, 1.0, 3.0, 5.0, 5.0, 5.0, 5.0, 5.0, 5.0, 5.0, 4.0, 5.0, 4.0, 3.0, 4.0, 2.0, 3.0, 2.0, 3.0, 4.0, 5.0, 5.0, 4.0, 3.0, 3.0, 5.0, 5.0, 5.0, 4.0, 5.0, 5.0, 4.0, 4.0, 4.0, 4.0, 5.0, 1.0, 4.0, 1.0, 4.0, 5.0, 3.0, 4.0, 5.0, 5.0, 4.0, 4.0, 1.0, 4.0, 5.0, 3.0, 4.0, 4.0, 5.0, 2.0, 4.0, 2.0, 4.0, 5.0, 5.0, 5.0, 5.0, 3.0, 4.0, 5.0, 3.0, 4.0, 5.0, 4.0, 3.0, 5.0, 5.0, 1.0, 1.0, 4.0, 4.0, 4.0, 3.0, 5.0, 1.0, 2.0, 3.0, 5.0, 5.0, 5.0, 4.0, 3.0, 4.0, 4.0, 5.0, 4.0, 5.0, 4.0, 3.0, 4.0, 4.0, 5.0, 4.0, 2.0, 4.0, 4.0, 5.0, 4.0, 5.0, 3.0, 4.0, 3.0, 2.0, 4.0, 5.0, 1.0, 5.0, 1.0, 4.0, 5.0, 5.0, 4.0, 3.0, 4.0, 1.0, 4.0, 5.0, 4.0, 5.0, 5.0, 5.0, 5.0, 3.0, 5.0, 4.0, 4.0, 5.0, 4.0, 5.0, 5.0, 5.0, 4.0, 5.0, 5.0, 4.0, 4.0, 4.0, 4.0, 4.0, 1.0, 5.0, 3.0, 5.0, 2.0, 4.0, 5.0, 5.0, 4.0, 5.0, 4.0, 4.0, 5.0, 5.0, 4.0, 5.0, 5.0, 3.0, 5.0, 1.0, 4.0, 5.0, 5.0, 4.0, 5.0, 1.0, 4.0, 4.0, 3.0, 3.0, 1.0, 4.0, 5.0, 4.0, 5.0, 5.0, 4.0, 3.0, 1.0, 3.0, 5.0, 5.0, 4.0, 5.0, 5.0, 5.0, 4.0, 3.0, 2.0, 5.0, 5.0, 1.0, 4.0, 3.0, 3.0, 3.0, 3.0, 4.0, 3.0, 5.0, 4.0, 2.0, 5.0, 3.0, 3.0, 4.0, 5.0, 4.0, 4.0, 4.0, 5.0, 3.0, 3.0, 5.0, 4.0, 1.0, 5.0, 1.0, 5.0, 5.0, 4.0, 4.0, 5.0, 4.0, 4.0, 4.0, 5.0, 3.0, 2.0, 4.0, 5.0, 5.0, 2.0, 5.0, 4.0, 3.0, 3.0, 5.0, 5.0, 4.0, 5.0, 5.0, 3.0, 3.0, 5.0, 5.0, 4.0, 5.0, 3.0, 5.0, 4.0, 5.0, 2.0, 5.0, 5.0, 4.0, 5.0, 4.0, 5.0, 2.0, 4.0, 1.0, 2.0, 3.0, 3.0, 1.0, 4.0, 4.0, 5.0, 4.0, 5.0, 4.0, 5.0, 4.0, 5.0, 5.0, 4.0, 5.0, 4.0, 3.0, 3.0, 4.0, 1.0, 1.0, 4.0, 5.0, 4.0, 4.0, 5.0, 5.0, 5.0, 2.0, 4.0, 2.0, 5.0, 1.0, 2.0, 4.0, 5.0, 5.0, 3.0, 5.0, 5.0, 3.0, 1.0, 3.0, 5.0, 3.0, 1.0, 4.0, 4.0, 5.0, 5.0, 4.0, 4.0, 1.0, 3.0, 4.0, 3.0, 4.0, 5.0, 5.0, 1.0, 5.0, 5.0, 5.0, 3.0, 5.0, 4.0, 5.0, 3.0, 5.0, 4.0, 4.0, 5.0, 4.0, 4.0, 5.0, 3.0, 4.0, 5.0, 5.0, 4.0, 5.0, 5.0, 5.0, 2.0, 3.0, 4.0, 2.0, 3.0, 5.0, 5.0, 5.0, 4.0, 5.0, 4.0, 4.0, 5.0, 3.0, 2.0, 4.0, 4.0, 5.0, 5.0, 5.0, 1.0, 5.0, 3.0, 4.0, 4.0, 5.0, 4.0, 5.0, 4.0, 4.0, 3.0, 4.0, 5.0, 5.0, 5.0, 4.0, 4.0, 5.0, 2.0, 1.0, 3.0, 4.0, 4.0, 3.0, 1.0, 5.0, 5.0, 1.0, 2.0, 5.0, 4.0, 1.0, 4.0, 4.0, 3.0, 3.0, 5.0, 4.0, 4.0, 5.0, 5.0, 4.0, 2.0, 1.0, 4.0, 5.0, 2.0, 5.0, 5.0, 4.0, 5.0, 3.0, 5.0, 2.0, 4.0, 2.0, 3.0, 5.0, 3.0, 5.0, 5.0, 1.0, 5.0, 5.0, 4.0, 4.0, 5.0, 5.0, 4.0, 5.0, 4.0, 3.0, 5.0, 4.0, 5.0, 3.0, 4.0, 4.0, 4.0, 5.0, 5.0, 5.0, 3.0, 5.0, 3.0, 4.0, 4.0, 5.0, 5.0, 3.0, 1.0, 5.0, 5.0, 5.0, 2.0, 3.0, 5.0, 5.0, 3.0, 1.0, 4.0, 4.0, 4.0, 5.0, 5.0, 3.0, 4.0, 5.0, 4.0, 5.0, 5.0, 3.0, 2.0, 1.0, 4.0, 1.0, 2.0, 4.0, 5.0, 5.0, 4.0, 5.0, 5.0, 5.0, 5.0, 5.0, 4.0, 3.0, 4.0, 4.0, 1.0, 4.0, 1.0, 4.0, 4.0, 4.0, 4.0, 4.0, 3.0, 5.0, 3.0, 2.0, 5.0, 3.0, 1.0, 1.0, 5.0, 5.0, 5.0, 3.0, 3.0, 4.0, 5.0, 5.0, 2.0, 5.0, 5.0, 5.0, 4.0, 3.0, 5.0, 5.0, 2.0, 5.0, 3.0, 4.0, 5.0, 4.0, 2.0, 2.0, 4.0, 5.0, 5.0, 3.0, 3.0, 4.0, 2.0, 3.0, 5.0, 4.0, 3.0, 5.0, 4.0, 4.0, 3.0, 1.0, 4.0, 2.0, 5.0, 2.0, 5.0, 4.0, 5.0, 5.0, 5.0, 1.0, 2.0, 5.0, 2.0, 5.0, 3.0, 4.0, 4.0, 3.0, 5.0, 2.0, 3.0, 4.0, 5.0, 4.0, 4.0, 2.0, 4.0, 1.0, 4.0, 3.0, 4.0, 3.0, 4.0, 4.0, 2.0, 5.0, 5.0, 4.0, 4.0, 5.0, 5.0, 5.0, 3.0, 4.0, 4.0, 4.0, 4.0, 5.0, 5.0, 5.0, 5.0, 3.0, 4.0, 4.0, 4.0, 5.0, 5.0, 1.0, 5.0, 4.0, 5.0, 3.0, 5.0, 2.0, 3.0, 4.0, 3.0, 5.0, 4.0, 4.0, 5.0, 3.0, 5.0, 5.0, 2.0, 5.0, 5.0, 5.0, 5.0, 4.0, 5.0, 3.0, 4.0, 4.0, 1.0, 4.0, 4.0, 2.0, 5.0, 5.0, 4.0, 5.0, 2.0, 4.0, 5.0, 5.0, 4.0, 5.0, 3.0, 5.0, 5.0, 4.0, 5.0, 4.0, 5.0, 5.0, 5.0, 5.0, 5.0, 3.0, 4.0, 4.0, 1.0, 5.0, 5.0, 5.0, 2.0, 5.0, 4.0, 3.0, 4.0, 1.0, 4.0, 4.0, 3.0, 2.0, 5.0, 3.0, 5.0, 5.0, 5.0, 5.0, 3.0, 5.0, 5.0, 5.0, 5.0, 2.0, 4.0, 1.0, 5.0, 4.0, 5.0, 3.0, 5.0, 3.0, 4.0, 3.0, 5.0, 4.0, 2.0, 5.0, 5.0, 5.0, 4.0, 2.0, 2.0, 5.0, 2.0, 3.0, 5.0, 5.0, 4.0, 5.0, 1.0, 1.0, 4.0, 5.0, 1.0, 3.0, 2.0, 5.0, 5.0, 4.0, 5.0, 4.0, 3.0, 5.0, 5.0, 5.0, 5.0, 4.0, 5.0, 3.0, 4.0, 4.0, 1.0, 5.0, 2.0, 3.0, 3.0, 5.0, 1.0, 2.0, 4.0, 3.0, 3.0, 1.0, 4.0, 5.0, 4.0, 5.0, 3.0, 5.0, 5.0, 3.0, 5.0, 5.0, 5.0, 5.0, 4.0, 5.0, 4.0, 5.0, 4.0, 5.0, 5.0, 5.0, 5.0, 5.0, 4.0, 5.0, 4.0, 4.0, 4.0, 3.0, 4.0, 1.0, 5.0, 5.0, 2.0, 4.0, 4.0, 5.0, 5.0, 5.0, 2.0, 5.0, 4.0, 3.0, 4.0, 1.0, 2.0, 5.0, 4.0, 5.0, 5.0, 5.0, 5.0, 1.0, 3.0, 4.0, 4.0, 4.0, 4.0, 5.0, 2.0, 5.0, 2.0, 4.0, 5.0, 2.0, 3.0, 2.0, 4.0, 4.0, 5.0, 5.0, 5.0, 2.0, 4.0, 3.0, 4.0, 5.0, 4.0, 1.0, 4.0, 1.0, 4.0, 1.0, 3.0, 3.0, 5.0, 3.0, 3.0, 4.0, 1.0, 5.0, 5.0, 5.0, 5.0, 1.0, 4.0, 4.0, 2.0, 5.0, 5.0, 3.0, 2.0, 5.0, 4.0, 3.0, 5.0, 4.0, 4.0, 4.0, 5.0, 5.0, 5.0, 1.0, 4.0, 3.0, 5.0, 5.0, 5.0, 5.0, 5.0, 3.0, 3.0, 2.0, 2.0, 5.0, 5.0, 3.0, 3.0, 5.0, 1.0, 5.0, 5.0, 4.0, 1.0, 5.0, 5.0, 5.0, 3.0, 4.0, 4.0, 4.0, 5.0, 2.0, 4.0, 3.0, 5.0, 5.0, 5.0, 5.0, 3.0, 1.0, 4.0, 5.0, 3.0, 4.0, 4.0, 5.0, 4.0, 3.0, 4.0, 5.0, 4.0, 5.0, 5.0, 5.0, 5.0, 5.0, 5.0, 5.0, 4.0, 3.0, 3.0, 5.0, 4.0, 5.0, 5.0, 4.0, 3.0, 4.0, 5.0, 1.0, 4.0, 4.0, 4.0, 1.0, 5.0, 5.0, 3.0, 2.0, 3.0, 4.0, 4.0, 3.0, 5.0, 5.0, 4.0, 2.0, 5.0, 4.0, 5.0, 5.0, 5.0, 4.0, 4.0, 2.0, 5.0, 5.0, 5.0, 3.0, 5.0, 4.0, 3.0, 4.0, 2.0, 3.0, 5.0, 4.0, 5.0, 4.0, 4.0, 5.0, 5.0, 2.0, 5.0, 5.0, 1.0, 4.0, 4.0, 4.0, 4.0, 5.0, 4.0, 5.0, 3.0, 2.0, 4.0, 4.0, 4.0, 3.0, 3.0, 4.0, 5.0, 1.0, 5.0, 5.0, 2.0, 4.0, 5.0, 5.0, 5.0, 1.0, 5.0, 5.0, 3.0, 2.0, 5.0, 5.0, 5.0, 3.0, 4.0, 5.0, 5.0, 5.0, 5.0, 5.0, 4.0, 4.0, 4.0, 3.0, 4.0, 3.0, 3.0, 1.0, 5.0, 5.0, 5.0, 4.0, 1.0, 4.0, 5.0, 5.0, 2.0, 5.0, 5.0, 5.0, 5.0, 1.0, 5.0, 3.0, 3.0, 5.0, 5.0, 5.0, 3.0, 3.0, 5.0, 2.0, 4.0, 5.0, 4.0, 4.0, 5.0, 5.0, 5.0, 5.0, 5.0, 4.0, 5.0, 5.0, 4.0, 3.0, 3.0, 3.0, 3.0, 5.0, 3.0, 5.0, 5.0, 3.0, 4.0, 5.0, 5.0, 4.0, 4.0, 5.0, 4.0, 5.0, 3.0, 5.0, 5.0, 4.0, 4.0, 5.0, 3.0, 3.0, 5.0, 3.0, 5.0, 5.0, 5.0, 5.0, 2.0, 5.0, 5.0, 5.0, 5.0, 5.0, 5.0, 5.0, 4.0, 5.0, 5.0, 5.0, 5.0, 5.0, 4.0, 2.0, 3.0, 4.0, 3.0, 5.0, 4.0, 4.0, 4.0, 4.0, 5.0, 4.0, 1.0, 5.0, 2.0, 5.0, 3.0, 3.0, 4.0, 3.0, 4.0, 5.0, 5.0, 4.0, 5.0, 2.0, 2.0, 5.0, 5.0, 5.0, 5.0, 1.0, 5.0, 4.0, 5.0, 5.0, 4.0, 4.0, 5.0, 3.0, 5.0, 5.0, 4.0, 3.0, 5.0, 4.0, 4.0, 4.0, 2.0, 3.0, 3.0, 5.0, 1.0, 5.0, 4.0, 3.0, 4.0, 5.0, 2.0, 1.0, 5.0, 5.0, 5.0, 4.0, 5.0, 5.0, 3.0, 3.0, 5.0, 4.0, 4.0, 3.0, 5.0, 5.0, 4.0, 4.0, 3.0, 2.0, 4.0, 2.0, 4.0, 5.0, 5.0, 5.0, 3.0, 5.0, 5.0, 4.0, 4.0, 5.0, 5.0, 4.0, 5.0, 4.0, 4.0, 5.0, 5.0, 3.0, 5.0, 4.0, 4.0, 4.0, 3.0, 1.0, 5.0, 4.0, 1.0, 3.0, 4.0, 5.0, 4.0, 2.0, 5.0, 5.0, 5.0, 5.0, 4.0, 4.0, 4.0, 5.0, 2.0, 5.0, 5.0, 5.0, 4.0, 4.0, 5.0, 3.0, 2.0, 1.0, 4.0, 5.0, 4.0, 3.0, 5.0, 3.0, 5.0, 3.0, 5.0, 4.0, 5.0, 4.0, 3.0, 5.0, 5.0, 5.0, 4.0, 4.0, 4.0, 4.0, 4.0, 4.0, 4.0, 5.0, 4.0, 3.0, 5.0, 5.0, 5.0, 4.0, 4.0, 3.0, 3.0, 5.0, 5.0, 3.0, 5.0, 5.0, 3.0, 4.0, 3.0, 4.0, 5.0, 3.0, 1.0, 2.0, 5.0, 4.0, 5.0, 5.0, 5.0, 5.0, 5.0, 5.0, 2.0, 5.0, 5.0, 5.0, 4.0, 1.0, 4.0, 4.0, 4.0, 5.0, 2.0, 5.0, 3.0, 4.0, 3.0, 4.0, 1.0, 4.0, 5.0, 5.0, 3.0, 5.0, 4.0, 3.0, 1.0, 4.0, 5.0, 4.0, 2.0, 2.0, 5.0, 1.0, 5.0, 4.0, 3.0, 4.0, 5.0, 3.0, 5.0, 5.0, 2.0, 3.0, 5.0, 3.0, 4.0, 2.0, 5.0, 5.0, 4.0, 3.0, 1.0, 1.0, 5.0, 4.0, 5.0, 4.0, 5.0, 2.0, 1.0, 4.0, 4.0, 5.0, 1.0, 4.0, 5.0, 4.0, 5.0, 5.0, 3.0, 2.0, 5.0, 3.0, 5.0, 5.0, 4.0, 5.0, 2.0, 1.0, 3.0, 4.0, 5.0, 4.0, 3.0, 5.0, 5.0, 5.0, 3.0, 5.0, 4.0, 5.0, 3.0, 5.0, 1.0, 5.0, 4.0, 5.0, 5.0, 2.0, 5.0, 1.0, 1.0, 5.0, 5.0, 5.0, 4.0, 4.0, 3.0, 5.0, 5.0, 4.0, 4.0, 2.0, 4.0, 5.0, 5.0, 4.0, 5.0, 5.0, 4.0, 5.0, 4.0, 4.0, 2.0, 2.0, 4.0, 1.0, 5.0, 4.0, 4.0, 5.0, 5.0, 5.0, 1.0, 4.0, 2.0, 4.0, 5.0, 5.0, 2.0, 2.0, 5.0, 3.0, 3.0, 5.0, 4.0, 4.0, 4.0, 4.0, 4.0, 5.0, 5.0, 3.0, 1.0, 5.0, 4.0, 5.0, 5.0, 5.0, 4.0, 1.0, 4.0, 4.0, 5.0, 3.0, 1.0, 4.0, 5.0, 3.0, 5.0, 5.0, 5.0, 4.0, 5.0, 5.0, 4.0, 5.0, 4.0, 2.0, 5.0, 4.0, 4.0, 1.0, 5.0, 5.0, 5.0, 1.0, 4.0, 5.0, 5.0, 4.0, 2.0, 4.0, 5.0, 4.0, 5.0, 5.0, 5.0, 5.0, 4.0, 5.0, 5.0, 4.0, 5.0, 4.0, 1.0, 4.0, 4.0, 5.0, 5.0, 2.0, 3.0, 5.0, 4.0, 5.0, 4.0, 4.0, 4.0, 4.0, 4.0, 5.0, 5.0, 1.0, 3.0, 5.0, 1.0, 4.0, 2.0, 2.0, 3.0, 4.0, 3.0, 4.0, 4.0, 5.0, 5.0, 5.0, 4.0, 5.0, 5.0, 1.0, 5.0, 5.0, 1.0, 2.0, 5.0, 4.0, 3.0, 3.0, 3.0, 5.0, 1.0, 3.0, 4.0, 1.0, 4.0, 5.0, 4.0, 5.0, 4.0, 3.0, 5.0, 5.0, 2.0, 4.0, 4.0, 4.0, 5.0, 5.0, 5.0, 4.0, 4.0, 5.0, 4.0, 2.0, 5.0, 3.0, 5.0, 3.0, 5.0, 5.0, 5.0, 5.0, 4.0, 4.0, 4.0, 5.0, 4.0, 2.0, 4.0, 4.0, 4.0, 1.0, 4.0, 5.0, 3.0, 5.0, 3.0, 4.0, 5.0, 4.0, 5.0, 4.0, 5.0, 1.0, 5.0, 5.0, 5.0, 4.0, 2.0, 5.0, 4.0, 4.0, 1.0, 4.0, 5.0, 4.0, 4.0, 4.0, 5.0, 3.0, 5.0, 1.0, 5.0, 4.0, 3.0, 3.0, 5.0, 4.0, 5.0, 3.0, 3.0, 5.0, 1.0, 3.0, 3.0, 2.0, 1.0, 5.0, 5.0, 5.0, 4.0, 4.0, 5.0, 5.0, 4.0, 1.0, 5.0, 4.0, 3.0, 3.0, 2.0, 4.0, 5.0, 5.0, 2.0, 5.0, 4.0, 3.0, 1.0, 5.0, 5.0, 3.0, 3.0, 5.0, 4.0, 3.0, 3.0, 4.0, 4.0, 4.0, 5.0, 2.0, 4.0, 4.0, 3.0, 5.0, 1.0, 4.0, 1.0, 3.0, 2.0, 5.0, 3.0, 3.0, 3.0, 1.0, 1.0, 5.0, 4.0, 5.0, 3.0, 5.0, 1.0, 4.0, 4.0, 5.0, 3.0, 5.0, 4.0, 2.0, 3.0, 1.0, 4.0, 4.0, 5.0, 5.0, 5.0, 5.0, 4.0, 2.0, 1.0, 5.0, 4.0, 5.0, 5.0, 5.0, 4.0, 4.0, 5.0, 1.0, 3.0, 5.0, 1.0, 1.0, 3.0, 5.0, 4.0, 5.0, 3.0, 5.0, 1.0, 5.0, 4.0, 5.0, 3.0, 4.0, 5.0, 4.0, 4.0, 5.0, 4.0, 5.0, 1.0, 2.0, 2.0, 5.0, 5.0, 4.0, 5.0, 5.0, 5.0, 2.0, 5.0, 5.0, 3.0, 5.0, 5.0, 4.0, 5.0, 5.0, 3.0, 4.0, 1.0, 3.0, 4.0, 2.0, 5.0, 5.0, 5.0, 4.0, 1.0, 4.0, 4.0, 4.0, 4.0, 4.0, 1.0, 5.0, 5.0, 4.0, 4.0, 5.0, 3.0, 1.0, 5.0, 3.0, 5.0, 4.0, 5.0, 5.0, 4.0, 5.0, 5.0, 5.0, 4.0, 5.0, 3.0, 3.0, 5.0, 5.0, 5.0, 3.0, 5.0, 5.0, 5.0, 4.0, 1.0, 4.0, 2.0, 5.0, 5.0, 4.0, 3.0, 4.0, 3.0, 4.0, 3.0, 3.0, 5.0, 5.0, 4.0, 3.0, 5.0, 1.0, 4.0, 2.0, 5.0, 1.0, 3.0, 5.0, 5.0, 4.0, 3.0, 4.0, 1.0, 3.0, 5.0, 2.0, 5.0, 4.0, 4.0, 3.0, 5.0, 5.0, 1.0, 5.0, 3.0, 4.0, 5.0, 1.0, 1.0, 5.0, 5.0, 4.0, 5.0, 5.0, 3.0, 1.0, 5.0, 4.0, 5.0, 5.0, 5.0, 5.0, 5.0, 3.0, 5.0, 5.0, 5.0, 5.0, 4.0, 4.0, 4.0, 5.0, 5.0, 5.0, 3.0, 5.0, 4.0, 3.0, 1.0, 5.0, 4.0, 4.0, 5.0, 5.0, 5.0, 2.0, 2.0, 5.0, 4.0, 3.0, 3.0, 5.0, 3.0, 1.0, 5.0, 4.0, 5.0, 4.0, 5.0, 4.0, 5.0, 3.0, 3.0, 4.0, 5.0, 4.0, 5.0, 5.0, 2.0, 5.0, 3.0, 4.0, 5.0, 5.0, 5.0, 5.0, 1.0, 5.0, 5.0, 3.0, 4.0, 5.0, 5.0, 3.0, 4.0, 5.0, 5.0, 5.0, 5.0, 5.0, 3.0, 5.0, 4.0, 1.0, 5.0, 4.0, 3.0, 5.0, 2.0, 5.0, 4.0, 1.0, 5.0, 2.0, 4.0, 4.0, 5.0, 5.0, 4.0, 4.0, 4.0, 5.0, 1.0, 4.0, 4.0, 5.0, 5.0, 1.0, 2.0, 5.0, 5.0, 4.0, 1.0, 3.0, 4.0, 5.0, 5.0, 5.0, 4.0, 5.0, 3.0, 3.0, 5.0, 4.0, 4.0, 5.0, 2.0, 2.0, 4.0, 4.0, 1.0, 5.0, 3.0, 3.0, 1.0, 4.0, 5.0, 5.0, 4.0, 2.0, 4.0, 3.0, 4.0, 5.0, 3.0, 4.0, 5.0, 5.0, 4.0, 5.0, 5.0, 4.0, 4.0, 4.0, 5.0, 5.0, 4.0, 2.0, 3.0, 4.0, 5.0, 5.0, 1.0, 3.0, 5.0, 3.0, 4.0, 4.0, 4.0, 3.0, 5.0, 3.0, 4.0, 1.0, 5.0, 3.0, 3.0, 5.0, 5.0, 5.0, 4.0, 4.0, 5.0, 5.0, 4.0, 3.0, 4.0, 4.0, 4.0, 5.0, 4.0, 4.0, 2.0, 4.0, 5.0, 5.0, 3.0, 5.0, 5.0, 5.0, 5.0, 5.0, 5.0, 4.0, 3.0, 5.0, 3.0, 4.0, 4.0, 3.0, 4.0, 2.0, 5.0, 3.0, 5.0, 3.0, 4.0, 5.0, 5.0, 4.0, 3.0, 3.0, 5.0, 5.0, 4.0, 5.0, 1.0, 4.0, 5.0, 4.0, 4.0, 5.0, 3.0, 5.0, 4.0, 4.0, 3.0, 5.0, 4.0, 5.0, 5.0, 5.0, 4.0, 4.0, 4.0, 5.0, 3.0, 4.0, 3.0, 5.0, 5.0, 5.0, 4.0, 5.0, 5.0, 3.0, 3.0, 5.0, 4.0, 3.0, 1.0, 5.0, 4.0, 4.0, 4.0, 3.0, 2.0, 3.0, 5.0, 3.0, 1.0, 4.0, 5.0, 5.0, 4.0, 5.0, 5.0, 5.0, 5.0, 3.0, 4.0, 4.0, 5.0, 5.0, 4.0, 5.0, 4.0, 5.0, 5.0, 4.0, 3.0, 4.0, 4.0, 4.0, 5.0, 4.0, 4.0, 5.0, 4.0, 5.0, 2.0, 5.0, 4.0, 5.0, 5.0, 5.0, 4.0, 5.0, 3.0, 1.0, 5.0, 4.0, 5.0, 3.0, 4.0, 4.0, 5.0, 5.0, 2.0, 5.0, 4.0, 5.0, 4.0, 2.0, 1.0, 5.0, 5.0, 4.0, 3.0, 5.0, 5.0, 4.0, 1.0, 5.0, 4.0, 4.0, 4.0, 3.0, 4.0, 4.0, 1.0, 3.0, 3.0, 3.0, 2.0, 2.0, 5.0, 4.0, 5.0, 5.0, 5.0, 4.0, 5.0, 3.0, 5.0, 5.0, 5.0, 4.0, 5.0, 5.0, 5.0, 5.0, 5.0, 5.0, 4.0, 4.0, 4.0, 2.0, 3.0, 5.0, 4.0, 5.0, 4.0, 2.0, 5.0, 5.0, 3.0, 5.0, 5.0, 5.0, 4.0, 2.0, 3.0, 3.0, 5.0, 5.0, 5.0, 4.0, 5.0, 4.0, 4.0, 4.0, 4.0, 3.0, 3.0, 2.0, 3.0, 2.0, 4.0, 5.0, 5.0, 4.0, 4.0, 1.0, 4.0, 4.0, 5.0, 5.0, 1.0, 4.0, 3.0, 1.0, 3.0, 5.0, 4.0, 5.0, 1.0, 2.0, 5.0, 1.0, 5.0, 4.0, 5.0, 5.0, 3.0, 3.0, 4.0, 4.0, 5.0, 5.0, 3.0, 4.0, 5.0, 5.0, 5.0, 1.0, 5.0, 5.0, 5.0, 4.0, 4.0, 5.0, 5.0, 5.0, 5.0, 5.0, 4.0, 4.0, 5.0, 4.0, 4.0, 5.0, 5.0, 5.0, 3.0, 1.0, 1.0, 4.0, 4.0, 5.0, 1.0, 5.0, 5.0, 1.0, 5.0, 5.0, 1.0, 5.0, 4.0, 3.0, 4.0, 1.0, 5.0, 4.0, 5.0, 5.0, 4.0, 2.0, 5.0, 4.0, 1.0, 5.0, 5.0, 5.0, 5.0, 4.0, 5.0, 4.0, 2.0, 3.0, 1.0, 3.0, 5.0, 1.0, 3.0, 5.0, 3.0, 5.0, 4.0, 5.0, 5.0, 4.0, 1.0, 5.0, 5.0, 2.0, 5.0, 5.0, 4.0, 5.0, 5.0, 4.0, 1.0, 4.0, 5.0, 4.0, 5.0, 3.0, 4.0, 2.0, 4.0, 5.0, 5.0, 3.0, 5.0, 1.0, 1.0, 2.0, 5.0, 3.0, 5.0, 5.0, 4.0, 4.0, 5.0, 5.0, 4.0, 5.0, 5.0, 5.0, 4.0, 3.0, 5.0, 5.0, 5.0, 1.0, 5.0, 5.0, 3.0, 4.0, 1.0, 5.0, 1.0, 5.0, 4.0, 4.0, 5.0, 5.0, 5.0, 5.0, 3.0, 4.0, 5.0, 3.0, 5.0, 2.0, 1.0, 5.0, 4.0, 3.0, 4.0, 3.0, 1.0, 4.0, 5.0, 3.0, 3.0, 4.0, 3.0, 5.0, 4.0, 4.0, 1.0, 3.0, 4.0, 5.0, 3.0, 3.0, 4.0, 5.0, 5.0, 3.0, 4.0, 5.0, 4.0, 1.0, 4.0, 5.0, 2.0, 3.0, 4.0, 3.0, 3.0, 4.0, 5.0, 4.0, 4.0, 4.0, 3.0, 4.0, 5.0, 3.0, 1.0, 4.0, 5.0, 5.0, 3.0, 4.0, 4.0, 3.0, 3.0, 2.0, 1.0, 5.0, 5.0, 5.0, 5.0, 3.0, 5.0, 5.0, 4.0, 4.0, 1.0, 5.0, 2.0, 5.0, 3.0, 5.0, 1.0, 2.0, 4.0, 3.0, 2.0, 5.0, 3.0, 4.0, 3.0, 3.0, 3.0, 1.0, 3.0, 5.0, 4.0, 3.0, 5.0, 5.0, 5.0, 5.0, 4.0, 5.0, 5.0, 4.0, 5.0, 5.0, 5.0, 5.0, 5.0, 1.0, 1.0, 3.0, 2.0, 5.0, 4.0, 4.0, 4.0, 4.0, 5.0, 5.0, 5.0, 3.0, 5.0, 4.0, 5.0, 5.0, 5.0, 3.0, 1.0, 4.0, 5.0, 4.0, 3.0, 2.0, 4.0, 4.0, 5.0, 5.0, 2.0, 4.0, 2.0, 5.0, 5.0, 4.0, 1.0, 5.0, 4.0, 1.0, 4.0, 5.0, 2.0, 3.0, 4.0, 4.0, 5.0, 1.0, 3.0, 3.0, 5.0, 5.0, 5.0, 1.0, 5.0, 4.0, 1.0, 2.0, 3.0, 5.0, 4.0, 5.0, 3.0, 4.0, 5.0, 4.0, 3.0, 3.0, 4.0, 5.0, 5.0, 4.0, 5.0, 5.0, 1.0, 3.0, 4.0, 5.0, 5.0, 5.0, 1.0, 5.0, 5.0, 4.0, 5.0, 5.0, 5.0, 3.0, 3.0, 4.0, 5.0, 3.0, 4.0, 2.0, 4.0, 2.0, 4.0, 3.0, 5.0, 1.0, 1.0, 4.0, 5.0, 3.0, 2.0, 1.0, 5.0, 4.0, 3.0, 2.0, 5.0, 5.0, 1.0, 5.0, 5.0, 5.0, 5.0, 3.0, 5.0, 5.0, 5.0, 5.0, 2.0, 4.0, 5.0, 5.0, 3.0, 5.0, 4.0, 1.0, 5.0, 4.0, 3.0, 5.0, 5.0, 3.0, 5.0, 4.0, 5.0, 5.0, 4.0, 4.0, 5.0, 3.0, 3.0, 5.0, 5.0, 5.0, 1.0, 3.0, 4.0, 5.0, 4.0, 3.0, 5.0, 5.0, 5.0, 1.0, 5.0, 5.0, 3.0, 5.0, 4.0, 4.0, 2.0, 3.0, 5.0, 5.0, 2.0, 4.0, 4.0, 5.0, 5.0, 5.0, 5.0, 3.0, 4.0, 5.0, 5.0, 1.0, 3.0, 5.0, 3.0, 5.0, 5.0, 1.0, 5.0, 2.0, 4.0, 4.0, 5.0, 2.0, 4.0, 5.0, 3.0, 3.0, 4.0, 4.0, 5.0, 4.0, 3.0, 5.0, 4.0, 3.0, 4.0, 4.0, 3.0, 4.0, 4.0, 5.0, 2.0, 5.0, 3.0, 5.0, 3.0, 3.0, 5.0, 5.0, 4.0, 5.0, 3.0, 2.0, 5.0, 4.0, 5.0, 4.0, 5.0, 4.0, 4.0, 3.0, 3.0, 4.0, 5.0, 5.0, 2.0, 4.0, 4.0, 5.0, 5.0, 5.0, 3.0, 5.0, 4.0, 4.0, 5.0, 5.0, 4.0, 3.0, 5.0, 1.0, 2.0, 1.0, 4.0, 5.0, 5.0, 4.0, 5.0, 4.0, 5.0, 1.0, 1.0, 4.0, 3.0, 5.0, 3.0, 2.0, 5.0, 4.0, 3.0, 4.0, 3.0, 4.0, 5.0, 5.0, 5.0, 5.0, 2.0, 4.0, 5.0, 4.0, 5.0, 5.0, 5.0, 4.0, 4.0, 4.0, 5.0, 3.0, 4.0, 2.0, 4.0, 5.0, 5.0, 4.0, 5.0, 2.0, 5.0, 2.0, 1.0, 5.0, 4.0, 4.0, 4.0, 5.0, 1.0, 4.0, 5.0, 1.0, 4.0, 1.0, 3.0, 5.0, 3.0, 4.0, 5.0, 5.0, 3.0, 5.0, 4.0, 4.0, 4.0, 4.0, 4.0, 2.0, 2.0, 2.0, 4.0, 4.0, 5.0, 4.0, 3.0, 5.0, 2.0, 5.0, 4.0, 4.0, 5.0, 3.0, 5.0, 4.0, 1.0, 2.0, 2.0, 5.0, 5.0, 5.0, 5.0, 4.0, 4.0, 3.0, 5.0, 5.0, 4.0, 3.0, 4.0, 4.0, 5.0, 1.0, 5.0, 5.0, 5.0, 5.0, 2.0, 5.0, 5.0, 5.0, 3.0, 5.0, 5.0, 4.0, 4.0, 5.0, 4.0, 5.0, 5.0, 5.0, 3.0, 4.0, 4.0, 5.0, 4.0, 5.0, 5.0, 5.0, 4.0, 5.0, 5.0, 3.0, 4.0, 5.0, 5.0, 4.0, 3.0, 4.0, 3.0, 2.0, 3.0, 5.0, 5.0, 2.0, 1.0, 3.0, 4.0, 4.0, 5.0, 4.0, 3.0, 5.0, 5.0, 5.0, 2.0, 4.0, 4.0, 4.0, 5.0, 4.0, 1.0, 5.0, 4.0, 4.0, 4.0, 5.0, 4.0, 5.0, 4.0, 3.0, 5.0, 5.0, 4.0, 1.0, 3.0, 5.0, 1.0, 5.0, 5.0, 5.0, 5.0, 1.0, 5.0, 2.0, 4.0, 5.0, 4.0, 5.0, 5.0, 2.0, 2.0, 5.0, 3.0, 5.0, 5.0, 5.0, 3.0, 2.0, 5.0, 3.0, 5.0, 5.0, 4.0, 5.0, 4.0, 3.0, 5.0, 5.0, 1.0, 5.0, 2.0, 5.0, 4.0, 3.0, 5.0, 5.0, 2.0, 5.0, 4.0, 1.0, 1.0, 5.0, 2.0, 5.0, 3.0, 4.0, 4.0, 2.0, 5.0, 5.0, 5.0, 5.0, 5.0, 5.0, 2.0, 5.0, 3.0, 4.0, 5.0, 2.0, 3.0, 4.0, 1.0, 5.0, 5.0, 2.0, 3.0, 5.0, 4.0, 2.0, 5.0, 1.0, 5.0, 5.0, 1.0, 5.0, 5.0, 5.0, 5.0, 4.0, 3.0, 4.0, 4.0, 4.0, 4.0, 4.0, 5.0, 5.0, 2.0, 4.0, 5.0, 5.0, 3.0, 4.0, 5.0, 5.0, 4.0, 5.0, 4.0, 3.0, 4.0, 5.0, 5.0, 4.0, 4.0, 5.0, 4.0, 5.0, 3.0, 3.0, 5.0, 5.0, 5.0, 1.0, 5.0, 4.0, 2.0, 4.0, 5.0, 4.0, 5.0, 5.0, 1.0, 5.0, 4.0, 5.0, 5.0, 5.0, 5.0, 3.0, 3.0, 5.0, 4.0, 5.0, 5.0, 1.0, 1.0, 2.0, 2.0, 1.0, 1.0, 4.0, 5.0, 5.0, 5.0, 4.0, 3.0, 4.0, 3.0, 4.0, 4.0, 4.0, 4.0, 4.0, 3.0, 5.0, 3.0, 5.0, 5.0, 5.0, 1.0, 5.0, 5.0, 4.0, 4.0, 1.0, 5.0, 4.0, 5.0, 1.0, 4.0, 4.0, 3.0, 1.0, 3.0, 2.0, 5.0, 3.0, 3.0, 3.0, 5.0, 1.0, 4.0, 5.0, 5.0, 5.0, 5.0, 3.0, 5.0, 4.0, 3.0, 5.0, 5.0, 3.0, 5.0, 5.0, 5.0, 5.0, 4.0, 5.0, 4.0, 4.0, 5.0, 5.0, 4.0, 1.0, 5.0, 4.0, 3.0, 5.0, 5.0, 5.0, 5.0, 5.0, 4.0, 5.0, 4.0, 5.0, 3.0, 4.0, 5.0, 3.0, 1.0, 4.0, 5.0, 5.0, 5.0, 5.0, 5.0, 2.0, 4.0, 5.0, 4.0, 5.0, 5.0, 5.0, 2.0, 3.0, 4.0, 3.0, 5.0, 4.0, 5.0, 4.0, 2.0, 5.0, 5.0, 4.0, 3.0, 1.0, 3.0, 5.0, 5.0, 4.0, 5.0, 1.0, 1.0, 4.0, 4.0, 5.0, 3.0, 5.0, 4.0, 2.0, 3.0, 5.0, 1.0, 4.0, 5.0, 3.0, 5.0, 5.0, 3.0, 1.0, 5.0, 4.0, 5.0, 3.0, 4.0, 5.0, 3.0, 1.0, 5.0, 5.0, 3.0, 4.0, 2.0, 3.0, 4.0, 5.0, 1.0, 4.0, 3.0, 4.0, 4.0, 4.0, 3.0, 4.0, 5.0, 3.0, 4.0, 4.0, 4.0, 5.0, 1.0, 5.0, 5.0, 2.0, 4.0, 5.0, 4.0, 4.0, 4.0, 4.0, 3.0, 5.0, 1.0, 5.0, 5.0, 5.0, 2.0, 5.0, 3.0, 2.0, 5.0, 4.0, 1.0, 1.0, 4.0, 5.0, 4.0, 5.0, 4.0, 5.0, 5.0, 5.0, 3.0, 3.0, 3.0, 5.0, 3.0, 5.0, 5.0, 5.0, 4.0, 3.0, 4.0, 3.0, 2.0, 4.0, 4.0, 5.0, 1.0, 5.0, 1.0, 5.0, 3.0, 5.0, 4.0, 1.0, 4.0, 1.0, 2.0, 1.0, 2.0, 3.0, 5.0, 2.0, 2.0, 4.0, 5.0, 3.0, 5.0, 4.0, 3.0, 5.0, 5.0, 5.0, 1.0, 1.0, 1.0, 4.0, 2.0, 5.0, 5.0, 5.0, 5.0, 3.0, 2.0, 5.0, 3.0, 4.0, 2.0, 5.0, 5.0, 3.0, 5.0, 5.0, 5.0, 4.0, 4.0, 4.0, 5.0, 2.0, 4.0, 3.0, 3.0, 4.0, 5.0, 5.0, 4.0, 4.0, 4.0, 5.0, 4.0, 4.0, 4.0, 3.0, 5.0, 5.0, 5.0, 4.0, 5.0, 5.0, 4.0, 5.0, 3.0, 3.0, 1.0, 5.0, 4.0, 4.0, 5.0, 5.0, 5.0, 4.0, 4.0, 4.0, 5.0, 4.0, 4.0, 4.0, 4.0, 3.0, 4.0, 4.0, 1.0, 3.0, 1.0, 4.0, 4.0, 5.0, 5.0, 5.0, 4.0, 3.0, 4.0, 1.0, 5.0, 1.0, 5.0, 2.0, 4.0, 3.0, 5.0, 4.0, 1.0, 1.0, 5.0, 2.0, 5.0, 4.0, 5.0, 5.0, 5.0, 4.0, 5.0, 4.0, 4.0, 4.0, 4.0, 5.0, 3.0, 5.0, 3.0, 4.0, 5.0, 2.0, 4.0, 5.0, 4.0, 5.0, 5.0, 5.0, 5.0, 5.0, 5.0, 5.0, 4.0, 4.0, 4.0, 4.0, 4.0, 1.0, 5.0, 5.0, 4.0, 5.0, 4.0, 2.0, 3.0, 5.0, 5.0, 4.0, 3.0, 5.0, 4.0, 5.0, 2.0, 5.0, 4.0, 4.0, 4.0, 4.0, 2.0, 4.0, 5.0, 2.0, 5.0, 4.0, 2.0, 3.0, 4.0, 1.0, 5.0, 4.0, 5.0, 4.0, 5.0, 4.0, 5.0, 4.0, 3.0, 2.0, 5.0, 5.0, 4.0, 4.0, 5.0, 4.0, 4.0, 4.0, 4.0, 4.0, 4.0, 5.0, 3.0, 5.0, 1.0, 5.0, 4.0, 4.0, 5.0, 5.0, 4.0, 1.0, 3.0, 5.0, 5.0, 4.0, 3.0, 5.0, 5.0, 5.0, 5.0, 5.0, 5.0, 1.0, 1.0, 1.0, 4.0, 3.0, 5.0, 1.0, 1.0, 4.0, 1.0, 2.0, 4.0, 3.0, 4.0, 1.0, 4.0, 5.0, 5.0, 5.0, 2.0, 4.0, 5.0, 4.0, 5.0, 3.0, 5.0, 5.0, 4.0, 4.0, 4.0, 2.0, 4.0, 3.0, 4.0, 5.0, 4.0, 5.0, 4.0, 5.0, 5.0, 3.0, 4.0, 5.0, 5.0, 1.0, 5.0, 3.0, 4.0, 4.0, 4.0, 4.0, 4.0, 5.0, 5.0, 3.0, 5.0, 5.0, 3.0, 5.0, 5.0, 4.0, 5.0, 3.0, 5.0, 5.0, 4.0, 3.0, 1.0, 3.0, 1.0, 5.0, 5.0, 5.0, 2.0, 5.0, 4.0, 1.0, 4.0, 4.0, 3.0, 5.0, 5.0, 2.0, 5.0, 5.0, 5.0, 4.0, 5.0, 4.0, 4.0, 4.0, 4.0, 5.0, 3.0, 3.0, 4.0, 5.0, 5.0, 5.0, 4.0, 3.0, 4.0, 5.0, 5.0, 4.0, 5.0, 5.0, 2.0, 4.0, 4.0, 2.0, 3.0, 4.0, 3.0, 4.0, 3.0, 4.0, 2.0, 3.0, 4.0, 4.0, 5.0, 5.0, 3.0, 5.0, 1.0, 4.0, 5.0, 4.0, 3.0, 5.0, 1.0, 4.0, 3.0, 5.0, 4.0, 4.0, 5.0, 3.0, 5.0, 5.0, 5.0, 2.0, 4.0, 5.0, 4.0, 3.0, 1.0, 4.0, 5.0, 3.0, 4.0, 4.0, 4.0, 2.0, 5.0, 5.0, 4.0, 3.0, 3.0, 4.0, 4.0, 2.0, 2.0, 3.0, 5.0, 4.0, 4.0, 4.0, 4.0, 4.0, 4.0, 5.0, 4.0, 5.0, 4.0, 4.0, 5.0, 1.0, 3.0, 1.0, 5.0, 3.0, 4.0, 5.0, 5.0, 5.0, 4.0, 5.0, 3.0, 5.0, 4.0, 2.0, 5.0, 4.0, 4.0, 2.0, 1.0, 4.0, 5.0, 5.0, 3.0, 3.0, 2.0, 5.0, 4.0, 4.0, 2.0, 5.0, 1.0, 5.0, 3.0, 2.0, 4.0, 3.0, 4.0, 4.0, 5.0, 2.0, 5.0, 4.0, 3.0, 5.0, 5.0, 5.0, 3.0, 5.0, 2.0, 5.0, 5.0, 2.0, 5.0, 1.0, 5.0, 4.0, 3.0, 3.0, 5.0, 2.0, 4.0, 4.0, 3.0, 4.0, 3.0, 4.0, 1.0, 5.0, 5.0, 4.0, 4.0, 2.0, 4.0, 4.0, 5.0, 4.0, 5.0, 4.0, 5.0, 5.0, 5.0, 5.0, 3.0, 4.0, 2.0, 5.0, 5.0, 4.0, 5.0, 4.0, 3.0, 4.0, 4.0, 4.0, 5.0, 4.0, 3.0, 4.0, 5.0, 5.0, 1.0, 3.0, 1.0, 5.0, 5.0, 5.0, 5.0, 3.0, 4.0, 5.0, 1.0, 4.0, 2.0, 4.0, 4.0, 5.0, 5.0, 3.0, 5.0, 2.0, 4.0, 4.0, 4.0, 4.0, 5.0, 5.0, 1.0, 4.0, 4.0, 4.0, 5.0, 5.0, 3.0, 5.0, 4.0, 5.0, 4.0, 2.0, 1.0, 5.0, 5.0, 5.0, 4.0, 5.0, 5.0, 4.0, 5.0, 5.0, 5.0, 4.0, 5.0, 4.0, 5.0, 5.0, 1.0, 5.0, 4.0, 4.0, 3.0, 5.0, 3.0, 5.0, 4.0, 3.0, 1.0, 2.0, 3.0, 3.0, 4.0, 5.0, 4.0, 5.0, 5.0, 5.0, 4.0, 5.0, 3.0, 4.0, 5.0, 5.0, 4.0, 5.0, 4.0, 3.0, 5.0, 5.0, 2.0, 4.0, 4.0, 4.0, 4.0, 5.0, 4.0, 5.0, 5.0, 3.0, 4.0, 1.0, 4.0, 3.0, 2.0, 5.0, 5.0, 3.0, 5.0, 3.0, 5.0, 5.0, 5.0, 4.0, 3.0, 5.0, 5.0, 4.0, 2.0, 5.0, 1.0, 5.0, 5.0, 5.0, 4.0, 5.0, 1.0, 5.0, 5.0, 5.0, 3.0, 5.0, 4.0, 4.0, 5.0, 5.0, 4.0, 4.0, 3.0, 5.0, 1.0, 4.0, 4.0, 2.0, 5.0, 4.0, 1.0, 5.0, 4.0, 4.0, 5.0, 5.0, 4.0, 4.0, 5.0, 2.0, 4.0, 4.0, 4.0, 4.0, 1.0, 1.0, 4.0, 4.0, 3.0, 2.0, 5.0, 3.0, 5.0, 4.0, 1.0, 4.0, 5.0, 5.0, 3.0, 5.0, 5.0, 5.0, 3.0, 4.0, 4.0, 4.0, 5.0, 4.0, 1.0, 3.0, 5.0, 4.0, 2.0, 5.0, 5.0, 5.0, 5.0, 4.0, 4.0, 5.0, 5.0, 4.0, 3.0, 5.0, 5.0, 4.0, 5.0, 4.0, 5.0, 4.0, 5.0, 5.0, 4.0, 5.0, 5.0, 3.0, 4.0, 1.0, 3.0, 2.0, 5.0, 4.0, 5.0, 5.0, 3.0, 4.0, 2.0, 5.0, 3.0, 4.0, 4.0, 5.0, 5.0, 3.0, 5.0, 3.0, 4.0, 5.0, 4.0, 4.0, 1.0, 4.0, 4.0, 1.0, 3.0, 5.0, 5.0, 2.0, 4.0, 3.0, 4.0, 1.0, 5.0, 5.0, 5.0, 5.0, 5.0, 5.0, 3.0, 5.0, 2.0, 2.0, 1.0, 5.0, 5.0, 2.0, 4.0, 4.0, 2.0, 4.0, 5.0, 5.0, 3.0, 4.0, 3.0, 5.0, 2.0, 4.0, 4.0, 4.0, 3.0, 5.0, 5.0, 4.0, 2.0, 1.0, 3.0, 5.0, 2.0, 3.0, 5.0, 5.0, 4.0, 5.0, 4.0, 5.0, 5.0, 4.0, 5.0, 5.0, 4.0, 1.0, 5.0, 5.0, 5.0, 3.0, 5.0, 4.0, 5.0, 5.0, 2.0, 3.0, 5.0, 5.0, 4.0, 5.0, 3.0, 4.0, 5.0, 4.0, 5.0, 4.0, 4.0, 4.0, 5.0, 3.0, 3.0, 5.0, 4.0, 4.0, 4.0, 4.0, 1.0, 5.0, 1.0, 4.0, 5.0, 5.0, 4.0, 3.0, 2.0, 1.0, 5.0, 2.0, 3.0, 4.0, 3.0, 3.0, 4.0, 3.0, 5.0, 2.0, 5.0, 5.0, 1.0, 5.0, 4.0, 3.0, 4.0, 4.0, 4.0, 1.0, 5.0, 4.0, 5.0, 5.0, 3.0, 5.0, 5.0, 5.0, 4.0, 4.0, 5.0, 5.0, 4.0, 3.0, 5.0, 5.0, 3.0, 4.0, 5.0, 3.0, 3.0, 1.0, 4.0, 4.0, 2.0, 3.0, 5.0, 5.0, 5.0, 1.0, 5.0, 4.0, 5.0, 4.0, 4.0, 5.0, 4.0, 5.0, 4.0, 4.0, 4.0, 5.0, 4.0, 4.0, 3.0, 2.0, 5.0, 2.0, 3.0, 2.0, 5.0, 4.0, 4.0, 5.0, 5.0, 4.0, 2.0, 5.0, 5.0, 5.0, 5.0, 1.0, 5.0, 2.0, 3.0, 4.0, 5.0, 4.0, 4.0, 4.0, 3.0, 4.0, 5.0, 5.0, 4.0, 5.0, 5.0, 4.0, 5.0, 4.0, 5.0, 4.0, 5.0, 5.0, 5.0, 4.0, 5.0, 5.0, 3.0, 4.0, 2.0, 4.0, 5.0, 3.0, 2.0, 5.0, 4.0, 4.0, 4.0, 3.0, 5.0, 5.0, 5.0, 5.0, 1.0, 5.0, 2.0, 4.0, 5.0, 5.0, 1.0, 4.0, 4.0, 5.0, 5.0, 5.0, 2.0, 5.0, 4.0, 4.0, 3.0, 5.0, 3.0, 4.0, 5.0, 5.0, 5.0, 5.0, 4.0, 5.0, 4.0, 3.0, 5.0, 5.0, 4.0, 4.0, 5.0, 3.0, 5.0, 4.0, 1.0, 5.0, 5.0, 5.0, 5.0, 2.0, 5.0, 5.0, 5.0, 4.0, 5.0, 5.0, 4.0, 5.0, 4.0, 5.0, 3.0, 5.0, 4.0, 5.0, 4.0, 3.0, 4.0, 5.0, 5.0, 4.0, 5.0, 4.0, 5.0, 5.0, 4.0, 4.0, 2.0, 2.0, 5.0, 3.0, 4.0, 4.0, 5.0, 2.0, 3.0, 5.0, 2.0, 5.0, 4.0, 3.0, 5.0, 5.0, 5.0, 5.0, 5.0, 4.0, 3.0, 4.0, 5.0, 4.0, 3.0, 5.0, 4.0, 5.0, 4.0, 5.0, 4.0, 4.0, 1.0, 5.0, 1.0, 4.0, 2.0, 5.0, 4.0, 1.0, 4.0, 5.0, 4.0, 1.0, 4.0, 5.0, 5.0, 5.0, 5.0, 5.0, 5.0, 1.0, 4.0, 3.0, 4.0, 1.0, 3.0, 5.0, 5.0, 1.0, 4.0, 5.0, 4.0, 4.0, 2.0, 5.0, 5.0, 5.0, 2.0, 2.0, 5.0, 3.0, 2.0, 3.0, 5.0, 2.0, 4.0, 3.0, 4.0, 4.0, 5.0, 4.0, 2.0, 4.0, 5.0, 4.0, 4.0, 4.0, 5.0, 5.0, 3.0, 4.0, 4.0, 2.0, 3.0, 4.0, 5.0, 4.0, 5.0, 4.0, 5.0, 5.0, 2.0, 5.0, 5.0, 5.0, 4.0, 5.0, 3.0, 5.0, 2.0, 5.0, 2.0, 1.0, 5.0, 1.0, 4.0, 4.0, 5.0, 5.0, 2.0, 2.0, 4.0, 3.0, 5.0, 2.0, 4.0, 5.0, 4.0, 5.0, 1.0, 4.0, 5.0, 5.0, 5.0, 3.0, 4.0, 4.0, 1.0, 5.0, 4.0, 3.0, 2.0, 3.0, 5.0, 1.0, 5.0, 5.0, 5.0, 5.0, 2.0, 5.0, 5.0, 3.0, 3.0, 5.0, 4.0, 5.0, 5.0, 4.0, 5.0, 3.0, 4.0, 3.0, 5.0, 4.0, 3.0, 3.0, 5.0, 3.0, 5.0, 4.0, 2.0, 4.0, 5.0, 1.0, 5.0, 5.0, 3.0, 3.0, 4.0, 5.0, 4.0, 5.0, 5.0, 5.0, 4.0, 5.0, 4.0, 3.0, 5.0, 5.0, 4.0, 5.0, 5.0, 2.0, 5.0, 5.0, 3.0, 5.0, 4.0, 5.0, 2.0, 4.0, 2.0, 5.0, 4.0, 4.0, 4.0, 5.0, 1.0, 4.0, 5.0, 5.0, 4.0, 5.0, 3.0, 5.0, 5.0, 5.0, 5.0, 4.0, 4.0, 3.0, 5.0, 5.0, 3.0, 4.0, 5.0, 4.0, 4.0, 3.0, 3.0, 5.0, 5.0, 5.0, 3.0, 4.0, 1.0, 1.0, 1.0, 3.0, 5.0, 5.0, 5.0, 2.0, 5.0, 5.0, 3.0, 2.0, 5.0, 5.0, 5.0, 1.0, 5.0, 3.0, 5.0, 4.0, 4.0, 4.0, 2.0, 4.0, 4.0, 4.0, 2.0, 3.0, 3.0, 5.0, 4.0, 3.0, 5.0, 5.0, 5.0, 2.0, 2.0, 4.0, 4.0, 5.0, 5.0, 4.0, 5.0, 5.0, 4.0, 3.0, 5.0, 5.0, 4.0, 5.0, 5.0, 3.0, 4.0, 5.0, 5.0, 3.0, 4.0, 5.0, 4.0, 5.0, 5.0, 5.0, 1.0, 5.0, 5.0, 5.0, 5.0, 4.0, 3.0, 3.0, 3.0, 5.0, 1.0, 3.0, 5.0, 4.0, 5.0, 4.0, 5.0, 5.0, 5.0, 5.0, 5.0, 4.0, 1.0, 4.0, 3.0, 5.0, 4.0, 1.0, 5.0, 2.0, 5.0, 5.0, 5.0, 3.0, 5.0, 1.0, 3.0, 4.0, 5.0, 4.0, 4.0, 3.0, 5.0, 5.0, 4.0, 3.0, 1.0, 1.0, 4.0, 3.0, 5.0, 2.0, 5.0, 5.0, 5.0, 5.0, 4.0, 5.0, 4.0, 5.0, 5.0, 5.0, 5.0, 5.0, 5.0, 4.0, 4.0, 4.0, 2.0, 4.0, 5.0, 2.0, 5.0, 5.0, 4.0, 2.0, 5.0, 5.0, 5.0, 5.0, 3.0, 5.0, 1.0, 5.0, 3.0, 4.0, 5.0, 5.0, 2.0, 4.0, 4.0, 3.0, 5.0, 3.0, 4.0, 4.0, 4.0, 3.0, 4.0, 5.0, 5.0, 2.0, 2.0, 4.0, 4.0, 5.0, 4.0, 4.0, 5.0, 2.0, 5.0, 5.0, 4.0, 4.0, 5.0, 5.0, 5.0, 1.0, 3.0, 5.0, 5.0, 5.0, 1.0, 4.0, 1.0, 5.0, 4.0, 3.0, 3.0, 5.0, 4.0, 5.0, 5.0, 5.0, 5.0, 4.0, 3.0, 4.0, 5.0, 5.0, 4.0, 3.0, 1.0, 3.0, 5.0, 4.0, 4.0, 5.0, 3.0, 5.0, 4.0, 5.0, 4.0, 5.0, 4.0, 5.0, 1.0, 5.0, 5.0, 5.0, 3.0, 4.0, 1.0, 3.0, 5.0, 3.0, 1.0, 4.0, 5.0, 5.0, 5.0, 5.0, 5.0, 5.0, 1.0, 5.0, 3.0, 5.0, 3.0, 4.0, 5.0, 4.0, 5.0, 5.0, 1.0, 1.0, 5.0, 4.0, 3.0, 5.0, 1.0, 1.0, 5.0, 5.0, 5.0, 5.0, 4.0, 1.0, 4.0, 4.0, 3.0, 5.0, 4.0, 5.0, 4.0, 5.0, 4.0, 5.0, 4.0, 4.0, 4.0, 4.0, 4.0, 5.0, 5.0, 5.0, 4.0, 4.0, 3.0, 5.0, 5.0, 3.0, 5.0, 3.0, 5.0, 1.0, 4.0, 3.0, 5.0, 5.0, 4.0, 5.0, 5.0, 4.0, 5.0, 5.0, 4.0, 5.0, 5.0, 5.0, 4.0, 4.0, 4.0, 1.0, 4.0, 5.0, 5.0, 3.0, 2.0, 5.0, 3.0, 4.0, 2.0, 3.0, 5.0, 4.0, 5.0, 5.0, 5.0, 4.0, 5.0, 4.0, 5.0, 4.0, 4.0, 2.0, 4.0, 3.0, 1.0, 5.0, 1.0, 5.0, 3.0, 3.0, 5.0, 4.0, 5.0, 5.0, 4.0, 3.0, 5.0, 4.0, 5.0, 5.0, 5.0, 5.0, 3.0, 5.0, 3.0, 5.0, 5.0, 1.0, 5.0, 4.0, 5.0, 3.0, 5.0, 5.0, 5.0, 5.0, 5.0, 5.0, 4.0, 4.0, 1.0, 4.0, 1.0, 5.0, 5.0, 5.0, 5.0, 4.0, 1.0, 2.0, 3.0, 5.0, 4.0, 5.0, 4.0, 4.0, 5.0, 3.0, 4.0, 4.0, 4.0, 1.0, 5.0, 5.0, 5.0, 1.0, 4.0, 4.0, 4.0, 1.0, 4.0, 3.0, 1.0, 1.0, 5.0, 4.0, 5.0, 3.0, 5.0, 2.0, 5.0, 4.0, 3.0, 3.0, 2.0, 1.0, 5.0, 5.0, 4.0, 5.0, 3.0, 5.0, 5.0, 1.0, 5.0, 5.0, 5.0, 4.0, 4.0, 1.0, 4.0, 3.0, 4.0, 4.0, 5.0, 4.0, 5.0, 4.0, 4.0, 4.0, 2.0, 5.0, 1.0, 2.0, 5.0, 4.0, 5.0, 2.0, 2.0, 2.0, 4.0, 5.0, 5.0, 4.0, 4.0, 3.0, 3.0, 5.0, 5.0, 2.0, 2.0, 5.0, 5.0, 1.0, 5.0, 5.0, 5.0, 4.0, 5.0, 4.0, 5.0, 3.0, 5.0, 5.0, 2.0, 2.0, 4.0, 5.0, 1.0, 5.0, 4.0, 5.0, 3.0, 4.0, 4.0, 4.0, 5.0, 4.0, 5.0, 1.0, 4.0, 4.0, 3.0, 4.0, 4.0, 2.0, 5.0, 5.0, 4.0, 2.0, 2.0, 5.0, 5.0, 5.0, 5.0, 4.0, 4.0, 5.0, 5.0, 4.0, 2.0, 3.0, 5.0, 5.0, 4.0, 5.0, 4.0, 4.0, 4.0, 5.0, 5.0, 5.0, 5.0, 4.0, 3.0, 4.0, 4.0, 5.0, 5.0, 3.0, 5.0, 4.0, 5.0, 5.0, 5.0, 5.0, 5.0, 3.0, 5.0, 5.0, 4.0, 1.0, 5.0, 1.0, 1.0, 2.0, 5.0, 5.0, 3.0, 4.0, 5.0, 1.0, 3.0, 5.0, 4.0, 5.0, 1.0, 5.0, 4.0, 4.0, 4.0, 3.0, 5.0, 5.0, 4.0, 1.0, 5.0, 3.0, 5.0, 3.0, 4.0, 5.0, 5.0, 5.0, 3.0, 3.0, 4.0, 2.0, 4.0, 5.0, 5.0, 4.0, 4.0, 3.0, 3.0, 3.0, 2.0, 5.0, 5.0, 4.0, 5.0, 4.0, 3.0, 5.0, 5.0, 5.0, 5.0, 3.0, 1.0, 5.0, 5.0, 1.0, 5.0, 5.0, 5.0, 5.0, 1.0, 5.0, 3.0, 5.0, 4.0, 3.0, 5.0, 4.0, 5.0, 3.0, 5.0, 5.0, 3.0, 4.0, 4.0, 5.0, 2.0, 1.0, 1.0, 2.0, 5.0, 5.0, 5.0, 2.0, 5.0, 1.0, 5.0, 5.0, 5.0, 3.0, 4.0, 3.0, 5.0, 4.0, 3.0, 2.0, 2.0, 1.0, 1.0, 5.0, 5.0, 1.0, 3.0, 5.0, 4.0, 4.0, 5.0, 5.0, 1.0, 5.0, 4.0, 5.0, 4.0, 5.0, 5.0, 4.0, 5.0, 5.0, 2.0, 5.0, 5.0, 5.0, 5.0, 5.0, 4.0, 5.0, 4.0, 5.0, 5.0, 5.0, 5.0, 2.0, 1.0, 1.0, 1.0, 5.0, 3.0, 4.0, 5.0, 5.0, 5.0, 5.0, 3.0, 5.0, 4.0, 5.0, 2.0, 5.0, 4.0, 4.0, 4.0, 5.0, 5.0, 3.0, 4.0, 5.0, 2.0, 4.0, 5.0, 3.0, 5.0, 5.0, 4.0, 3.0, 5.0, 3.0, 3.0, 5.0, 5.0, 5.0, 5.0, 4.0, 5.0, 5.0, 5.0, 5.0, 4.0, 5.0, 5.0, 4.0, 3.0, 3.0, 1.0, 5.0, 4.0, 5.0, 5.0, 4.0, 5.0, 5.0, 4.0, 3.0, 2.0, 5.0, 2.0, 2.0, 3.0, 5.0, 3.0, 5.0, 4.0, 3.0, 1.0, 4.0, 4.0, 4.0, 1.0, 5.0, 4.0, 5.0, 5.0, 4.0, 5.0, 2.0, 3.0, 2.0, 4.0, 4.0, 3.0, 5.0, 3.0, 1.0, 4.0, 5.0, 3.0, 5.0, 3.0, 4.0, 4.0, 5.0, 4.0, 4.0, 4.0, 5.0, 5.0, 4.0, 4.0, 5.0, 5.0, 3.0, 4.0, 5.0, 2.0, 5.0, 3.0, 5.0, 4.0, 4.0, 3.0, 5.0, 5.0, 1.0, 4.0, 4.0, 5.0, 3.0, 5.0, 3.0, 2.0, 5.0, 4.0, 5.0, 5.0, 5.0, 2.0, 3.0, 5.0, 4.0, 5.0, 5.0, 4.0, 5.0, 4.0, 2.0, 3.0, 4.0, 3.0, 2.0, 5.0, 4.0, 4.0, 2.0, 5.0, 3.0, 3.0, 3.0, 4.0, 5.0, 5.0, 4.0, 4.0, 5.0, 4.0, 4.0, 2.0, 5.0, 5.0, 4.0, 3.0, 5.0, 5.0, 2.0, 5.0, 3.0, 5.0, 3.0, 2.0, 3.0, 5.0, 5.0, 3.0, 4.0, 5.0, 1.0, 4.0, 3.0, 5.0, 5.0, 5.0, 4.0, 5.0, 4.0, 5.0, 4.0, 5.0, 5.0, 3.0, 3.0, 2.0, 4.0, 5.0, 5.0, 5.0, 3.0, 4.0, 3.0, 1.0, 4.0, 5.0, 2.0, 5.0, 5.0, 5.0, 5.0, 3.0, 3.0, 3.0, 3.0, 1.0, 5.0, 1.0, 5.0, 2.0, 4.0, 3.0, 3.0, 4.0, 5.0, 5.0, 5.0, 1.0, 4.0, 5.0, 5.0, 5.0, 3.0, 4.0, 2.0, 5.0, 5.0, 4.0, 2.0, 3.0, 5.0, 5.0, 2.0, 5.0, 5.0, 4.0, 5.0, 4.0, 3.0, 1.0, 4.0, 5.0, 1.0, 4.0, 4.0, 4.0, 1.0, 4.0, 4.0, 5.0, 4.0, 3.0, 4.0, 5.0, 4.0, 5.0, 5.0, 5.0, 2.0, 4.0, 3.0, 3.0, 1.0, 4.0, 5.0, 5.0, 4.0, 4.0, 3.0, 3.0, 5.0, 2.0, 4.0, 5.0, 5.0, 3.0, 3.0, 5.0, 5.0, 4.0, 5.0, 5.0, 5.0, 5.0, 5.0, 3.0, 4.0, 5.0, 5.0, 5.0, 5.0, 3.0, 5.0, 4.0, 5.0, 5.0, 4.0, 5.0, 5.0, 5.0, 4.0, 5.0, 4.0, 3.0, 1.0, 3.0, 4.0, 3.0, 4.0, 4.0, 2.0, 3.0, 4.0, 3.0, 4.0, 1.0, 1.0, 5.0, 5.0, 5.0, 5.0, 5.0, 5.0, 4.0, 5.0, 4.0, 4.0, 5.0, 5.0, 5.0, 3.0, 4.0, 4.0, 5.0, 5.0, 4.0, 5.0, 4.0, 5.0, 2.0, 5.0, 5.0, 4.0, 5.0, 5.0, 5.0, 4.0, 5.0, 5.0, 4.0, 5.0, 2.0, 5.0, 5.0, 3.0, 5.0, 4.0, 5.0, 3.0, 3.0, 3.0, 5.0, 3.0, 5.0, 4.0, 4.0, 2.0, 5.0, 3.0, 3.0, 2.0, 5.0, 3.0, 2.0, 5.0, 5.0, 5.0, 5.0, 4.0, 4.0, 5.0, 5.0, 1.0, 5.0, 5.0, 5.0, 5.0, 5.0, 4.0, 5.0, 4.0, 2.0, 5.0, 4.0, 5.0, 4.0, 5.0, 5.0, 1.0, 5.0, 4.0, 5.0, 5.0, 3.0, 5.0, 5.0, 3.0, 2.0, 2.0, 3.0, 4.0, 3.0, 5.0, 5.0, 5.0, 5.0, 3.0, 2.0, 4.0, 3.0, 4.0, 5.0, 4.0, 1.0, 3.0, 5.0, 5.0, 3.0, 4.0, 1.0, 5.0, 5.0, 3.0, 5.0, 4.0, 4.0, 1.0, 5.0, 4.0, 5.0, 1.0, 5.0, 1.0, 5.0, 4.0, 3.0, 4.0, 5.0, 4.0, 3.0, 5.0, 5.0, 5.0, 4.0, 4.0, 5.0, 4.0, 4.0, 5.0, 4.0, 2.0, 4.0, 3.0, 4.0, 5.0, 4.0, 5.0, 5.0, 1.0, 2.0, 5.0, 5.0, 5.0, 2.0, 4.0, 4.0, 2.0, 4.0, 5.0, 5.0, 2.0, 3.0, 1.0, 3.0, 4.0, 2.0, 5.0, 5.0, 4.0, 1.0, 5.0, 5.0, 2.0, 4.0, 4.0, 2.0, 3.0, 3.0, 3.0, 4.0, 4.0, 3.0, 4.0, 4.0, 4.0, 4.0, 4.0, 5.0, 3.0, 4.0, 3.0, 1.0, 3.0, 5.0, 3.0, 5.0, 3.0, 5.0, 3.0, 1.0, 5.0, 4.0, 3.0, 5.0, 5.0, 5.0, 4.0, 5.0, 1.0, 4.0, 4.0, 4.0, 5.0, 5.0, 5.0, 3.0, 3.0, 1.0, 2.0, 4.0, 4.0, 1.0, 5.0, 3.0, 5.0, 4.0, 4.0, 4.0, 5.0, 4.0, 2.0, 5.0, 5.0, 2.0, 3.0, 5.0, 3.0, 4.0, 5.0, 3.0, 4.0, 2.0, 4.0, 5.0, 1.0, 5.0, 5.0, 3.0, 4.0, 4.0, 4.0, 5.0, 3.0, 2.0, 5.0, 5.0, 5.0, 5.0, 1.0, 4.0, 4.0, 5.0, 5.0, 5.0, 3.0, 3.0, 5.0, 1.0, 5.0, 5.0, 5.0, 4.0, 4.0, 4.0, 5.0, 4.0, 5.0, 5.0, 5.0, 5.0, 2.0, 5.0, 5.0, 5.0, 2.0, 3.0, 4.0, 5.0, 3.0, 4.0, 2.0, 4.0, 4.0, 3.0, 5.0, 5.0, 1.0, 4.0, 4.0, 5.0, 1.0, 4.0, 5.0, 5.0, 5.0, 5.0, 5.0, 4.0, 1.0, 3.0, 3.0, 4.0, 3.0, 5.0, 5.0, 5.0, 4.0, 3.0, 5.0, 4.0, 4.0, 2.0, 4.0, 5.0, 5.0, 4.0, 4.0, 3.0, 4.0, 5.0, 5.0, 4.0, 5.0, 3.0, 5.0, 3.0, 5.0, 3.0, 5.0, 3.0, 1.0, 5.0, 3.0, 4.0, 4.0, 4.0, 4.0, 4.0, 5.0, 2.0, 5.0, 3.0, 5.0, 3.0, 5.0, 5.0, 5.0, 5.0, 4.0, 5.0, 5.0, 4.0, 4.0, 5.0, 3.0, 4.0, 4.0, 5.0, 5.0, 5.0, 5.0, 5.0, 5.0, 5.0, 5.0, 2.0, 5.0, 5.0, 1.0, 5.0, 4.0, 3.0, 3.0, 2.0, 5.0, 5.0, 5.0, 3.0, 3.0, 5.0, 5.0, 4.0, 4.0, 5.0, 5.0, 4.0, 5.0, 4.0, 2.0, 5.0, 2.0, 3.0, 5.0, 4.0, 5.0, 4.0, 5.0, 4.0, 3.0, 5.0, 5.0, 5.0, 5.0, 5.0, 4.0, 1.0, 5.0, 3.0, 3.0, 1.0, 4.0, 5.0, 4.0, 5.0, 3.0, 4.0, 5.0, 4.0, 5.0, 4.0, 5.0, 4.0, 4.0, 3.0, 2.0, 4.0, 5.0, 5.0, 4.0, 5.0, 5.0, 5.0, 5.0, 3.0, 1.0, 3.0, 3.0, 5.0, 2.0, 3.0, 3.0, 5.0, 5.0, 5.0, 3.0, 4.0, 3.0, 3.0, 4.0, 3.0, 3.0, 1.0, 3.0, 1.0, 2.0, 4.0, 3.0, 4.0, 5.0, 5.0, 4.0, 5.0, 5.0, 5.0, 5.0, 3.0, 5.0, 1.0, 1.0, 5.0, 1.0, 4.0, 3.0, 1.0, 4.0, 5.0, 5.0, 4.0, 5.0, 5.0, 2.0, 4.0, 4.0, 4.0, 5.0, 2.0, 3.0, 4.0, 5.0, 1.0, 4.0, 3.0, 5.0, 5.0, 3.0, 2.0, 5.0, 4.0, 5.0, 5.0, 4.0, 5.0, 1.0, 5.0, 4.0, 5.0, 4.0, 5.0, 4.0, 5.0, 4.0, 4.0, 5.0, 5.0, 4.0, 5.0, 4.0, 1.0, 5.0, 5.0, 5.0, 3.0, 4.0, 4.0, 5.0, 5.0, 3.0, 5.0, 4.0, 5.0, 4.0, 3.0, 4.0, 5.0, 4.0, 4.0, 3.0, 3.0, 5.0, 5.0, 4.0, 5.0, 3.0, 4.0, 3.0, 3.0, 5.0, 3.0, 3.0, 3.0, 5.0, 5.0, 5.0, 5.0, 5.0, 5.0, 4.0, 5.0, 5.0, 1.0, 3.0, 4.0, 5.0, 5.0, 4.0, 4.0, 2.0, 5.0, 5.0, 4.0, 4.0, 5.0, 4.0, 2.0, 5.0, 5.0, 4.0, 4.0, 3.0, 5.0, 1.0, 4.0, 5.0, 4.0, 4.0, 1.0, 5.0, 5.0, 3.0, 5.0, 2.0, 5.0, 2.0, 5.0, 5.0, 2.0, 5.0, 4.0, 4.0, 4.0, 2.0, 4.0, 5.0, 4.0, 4.0, 3.0, 5.0, 5.0, 4.0, 3.0, 4.0, 3.0, 5.0, 1.0, 3.0, 4.0, 2.0, 4.0, 4.0, 4.0, 4.0, 4.0, 5.0, 1.0, 5.0, 5.0, 4.0, 3.0, 5.0, 5.0, 5.0, 5.0, 4.0, 5.0, 5.0, 3.0, 3.0, 5.0, 5.0, 5.0, 2.0, 4.0, 3.0, 5.0, 4.0, 5.0, 5.0, 5.0, 5.0, 4.0, 4.0, 5.0, 4.0, 5.0, 4.0, 5.0, 5.0, 3.0, 4.0, 3.0, 3.0, 1.0, 5.0, 2.0, 4.0, 5.0, 4.0, 4.0, 4.0, 5.0, 5.0, 4.0, 4.0, 3.0, 3.0, 4.0, 1.0, 3.0, 3.0, 3.0, 4.0, 4.0, 4.0, 5.0, 3.0, 3.0, 5.0, 5.0, 5.0, 3.0, 4.0, 2.0, 4.0, 5.0, 4.0, 3.0, 4.0, 4.0, 5.0, 3.0, 3.0, 4.0, 4.0, 4.0, 4.0, 3.0, 5.0, 5.0, 4.0, 5.0, 5.0, 2.0, 3.0, 3.0, 5.0, 1.0, 5.0, 5.0, 4.0, 4.0, 5.0, 5.0, 5.0, 2.0, 5.0, 5.0, 3.0, 5.0, 4.0, 3.0, 5.0, 5.0, 1.0, 4.0, 5.0, 5.0, 4.0, 2.0, 4.0, 5.0, 2.0, 5.0, 2.0, 4.0, 5.0, 4.0, 5.0, 5.0, 1.0, 5.0, 4.0, 5.0, 5.0, 5.0, 5.0, 4.0, 4.0, 4.0, 4.0, 5.0, 4.0, 5.0, 4.0, 4.0, 5.0, 3.0, 5.0, 5.0, 4.0, 4.0, 5.0, 4.0, 3.0, 3.0, 1.0, 5.0, 5.0, 1.0, 5.0, 4.0, 5.0, 4.0, 2.0, 5.0, 4.0, 5.0, 5.0, 4.0, 2.0, 5.0, 4.0, 4.0, 5.0, 4.0, 3.0, 5.0, 4.0, 5.0, 5.0, 5.0, 5.0, 2.0, 4.0, 5.0, 5.0, 4.0, 5.0, 5.0, 5.0, 5.0, 4.0, 3.0, 4.0, 5.0, 5.0, 5.0, 3.0, 1.0, 2.0, 4.0, 4.0, 5.0, 2.0, 5.0, 2.0, 1.0, 5.0, 5.0, 4.0, 2.0, 2.0, 5.0, 5.0, 3.0, 4.0, 5.0, 4.0, 3.0, 4.0, 3.0, 5.0, 5.0, 1.0, 5.0, 5.0, 4.0, 5.0, 3.0, 5.0, 1.0, 4.0, 5.0, 5.0, 4.0, 3.0, 5.0, 3.0, 4.0, 5.0, 5.0, 4.0, 2.0, 1.0, 3.0, 5.0, 5.0, 5.0, 2.0, 5.0, 2.0, 4.0, 5.0, 4.0, 2.0, 4.0, 5.0, 5.0, 5.0, 5.0, 5.0, 2.0, 5.0, 5.0, 5.0, 4.0, 5.0, 2.0, 2.0, 5.0, 5.0, 1.0, 3.0, 5.0, 3.0, 5.0, 5.0, 3.0, 5.0, 2.0, 5.0, 5.0, 5.0, 3.0, 5.0, 5.0, 4.0, 5.0, 1.0, 5.0, 2.0, 3.0, 5.0, 3.0, 1.0, 4.0, 4.0, 5.0, 5.0, 5.0, 5.0, 5.0, 1.0, 2.0, 3.0, 3.0, 2.0, 5.0, 5.0, 3.0, 5.0, 5.0, 3.0, 4.0, 4.0, 4.0, 2.0, 2.0, 4.0, 5.0, 5.0, 5.0, 4.0, 5.0, 2.0, 5.0, 5.0, 4.0, 5.0, 4.0, 4.0, 3.0, 1.0, 5.0, 3.0, 5.0, 4.0, 1.0, 5.0, 5.0, 4.0, 4.0, 3.0, 3.0, 5.0, 5.0, 5.0, 5.0, 5.0, 5.0, 4.0, 3.0, 5.0, 5.0, 4.0, 3.0, 5.0, 4.0, 5.0, 4.0, 5.0, 2.0, 5.0, 4.0, 5.0, 3.0, 4.0, 4.0, 4.0, 4.0, 1.0, 5.0, 4.0, 4.0, 5.0, 4.0, 3.0, 5.0, 5.0, 5.0, 5.0, 4.0, 5.0, 3.0, 3.0, 5.0, 5.0, 4.0, 4.0, 2.0, 4.0, 3.0, 4.0, 5.0, 3.0, 5.0, 1.0, 2.0, 1.0, 1.0, 3.0, 1.0, 5.0, 5.0, 4.0, 4.0, 5.0, 4.0, 4.0, 4.0, 5.0, 5.0, 4.0, 5.0, 4.0, 5.0, 5.0, 4.0, 4.0, 4.0, 3.0, 4.0, 5.0, 3.0, 5.0, 5.0, 5.0, 2.0, 4.0, 4.0, 5.0, 4.0, 4.0, 4.0, 3.0, 2.0, 5.0, 3.0, 3.0, 5.0, 5.0, 4.0, 4.0, 5.0, 5.0, 5.0, 3.0, 1.0, 3.0, 1.0, 2.0, 5.0, 1.0, 5.0, 1.0, 4.0, 2.0, 2.0, 5.0, 4.0, 3.0, 5.0, 5.0, 4.0, 4.0, 5.0, 3.0, 4.0, 4.0, 4.0, 3.0, 4.0, 4.0, 4.0, 5.0, 5.0, 2.0, 5.0, 5.0, 3.0, 5.0, 3.0, 4.0, 4.0, 4.0, 4.0, 4.0, 4.0, 4.0, 3.0, 1.0, 5.0, 4.0, 5.0, 4.0, 5.0, 3.0, 3.0, 2.0, 5.0, 4.0, 5.0, 3.0, 5.0, 1.0, 4.0, 5.0, 4.0, 4.0, 4.0, 5.0, 5.0, 1.0, 1.0, 5.0, 1.0, 1.0, 5.0, 1.0, 3.0, 5.0, 3.0, 2.0, 1.0, 5.0, 5.0, 2.0, 4.0, 1.0, 4.0, 5.0, 4.0, 5.0, 5.0, 5.0, 4.0, 4.0, 2.0, 5.0, 5.0, 4.0, 5.0, 5.0, 3.0, 4.0, 5.0, 4.0, 4.0, 4.0, 5.0, 5.0, 5.0, 5.0, 3.0, 2.0, 4.0, 3.0, 2.0, 1.0, 5.0, 1.0, 5.0, 5.0, 4.0, 5.0, 4.0, 4.0, 5.0, 4.0, 1.0, 5.0, 4.0, 1.0, 4.0, 5.0, 4.0, 3.0, 5.0, 4.0, 5.0, 1.0, 5.0, 3.0, 3.0, 5.0, 4.0, 5.0, 3.0, 5.0, 5.0, 2.0, 1.0, 2.0, 4.0, 5.0, 5.0, 5.0, 3.0, 1.0, 1.0, 4.0, 3.0, 4.0, 5.0, 4.0, 5.0, 5.0, 5.0, 5.0, 3.0, 4.0, 3.0, 3.0, 5.0, 1.0, 4.0, 5.0, 2.0, 4.0, 1.0, 5.0, 5.0, 4.0, 5.0, 3.0, 4.0, 5.0, 5.0, 5.0, 2.0, 5.0, 3.0, 3.0, 2.0, 4.0, 4.0, 1.0, 5.0, 5.0, 3.0, 5.0, 5.0, 1.0, 5.0, 4.0, 5.0, 1.0, 4.0, 5.0, 4.0, 5.0, 4.0, 5.0, 4.0, 2.0, 5.0, 5.0, 3.0, 4.0, 2.0, 5.0, 3.0, 5.0, 5.0, 4.0, 3.0, 4.0, 4.0, 5.0, 4.0, 5.0, 5.0, 5.0, 3.0, 4.0, 5.0, 3.0, 5.0, 4.0, 1.0, 5.0, 3.0, 5.0, 3.0, 4.0, 5.0, 3.0, 5.0, 2.0, 5.0, 4.0, 4.0, 4.0, 5.0, 4.0, 2.0, 5.0, 1.0, 2.0, 3.0, 3.0, 4.0, 2.0, 4.0, 5.0, 3.0, 5.0, 3.0, 5.0, 2.0, 4.0, 5.0, 2.0, 5.0, 5.0, 1.0, 2.0, 5.0, 5.0, 2.0, 5.0, 5.0, 4.0, 2.0, 5.0, 5.0, 2.0, 5.0, 5.0, 1.0, 2.0, 4.0, 5.0, 4.0, 4.0, 5.0, 1.0, 5.0, 5.0, 4.0, 1.0, 4.0, 3.0, 5.0, 1.0, 2.0, 3.0, 5.0, 5.0, 4.0, 4.0, 4.0, 5.0, 4.0, 5.0, 4.0, 1.0, 4.0, 5.0, 4.0, 5.0, 3.0, 3.0, 3.0, 2.0, 4.0, 5.0, 1.0, 3.0, 5.0, 3.0, 3.0, 5.0, 4.0, 3.0, 5.0, 4.0, 4.0, 4.0, 4.0, 5.0, 5.0, 5.0, 1.0, 5.0, 2.0, 5.0, 4.0, 5.0, 5.0, 4.0, 5.0, 2.0, 3.0, 5.0, 4.0, 3.0, 5.0, 2.0, 5.0, 5.0, 5.0, 4.0, 3.0, 3.0, 4.0, 3.0, 4.0, 3.0, 5.0, 4.0, 4.0, 5.0, 4.0, 4.0, 4.0, 4.0, 4.0, 5.0, 2.0, 3.0, 5.0, 4.0, 4.0, 4.0, 3.0, 2.0, 4.0, 3.0, 5.0, 2.0, 5.0, 3.0, 4.0, 5.0, 3.0, 5.0, 5.0, 5.0, 1.0, 4.0, 5.0, 3.0, 4.0, 1.0, 5.0, 5.0, 5.0, 5.0, 5.0, 3.0, 5.0, 5.0, 3.0, 5.0, 5.0, 1.0, 3.0, 4.0, 4.0, 4.0, 5.0, 4.0, 5.0, 5.0, 3.0, 5.0, 4.0, 5.0, 1.0, 5.0, 1.0, 3.0, 4.0, 4.0, 5.0, 3.0, 3.0, 1.0, 5.0, 4.0, 5.0, 4.0, 3.0, 5.0, 5.0, 4.0, 5.0, 1.0, 1.0, 5.0, 4.0, 5.0, 5.0, 4.0, 4.0, 5.0, 2.0, 5.0, 2.0, 5.0, 3.0, 4.0, 3.0, 2.0, 5.0, 3.0, 5.0, 5.0, 5.0, 5.0, 5.0, 5.0, 5.0, 3.0, 5.0, 3.0, 4.0, 4.0, 5.0, 5.0, 5.0, 4.0, 5.0, 4.0, 2.0, 5.0, 5.0, 4.0, 2.0, 3.0, 4.0, 1.0, 5.0, 3.0, 5.0, 5.0, 4.0, 5.0, 5.0, 1.0, 5.0, 2.0, 5.0, 5.0, 5.0, 2.0, 2.0, 5.0, 4.0, 3.0, 2.0, 2.0, 4.0, 4.0, 3.0, 5.0, 4.0, 1.0, 5.0, 5.0, 5.0, 4.0, 4.0, 4.0, 3.0, 5.0, 4.0, 5.0, 5.0, 5.0, 5.0, 3.0, 3.0, 4.0, 3.0, 3.0, 4.0, 2.0, 5.0, 5.0, 1.0, 3.0, 4.0, 5.0, 4.0, 5.0, 4.0, 4.0, 4.0, 5.0, 4.0, 4.0, 4.0, 4.0, 4.0, 4.0, 5.0, 5.0, 4.0, 1.0, 5.0, 3.0, 5.0, 4.0, 2.0, 4.0, 5.0, 4.0, 2.0, 4.0, 4.0, 5.0, 3.0, 5.0, 5.0, 5.0, 4.0, 3.0, 5.0, 5.0, 2.0, 5.0, 5.0, 5.0, 3.0, 4.0, 4.0, 2.0, 5.0, 4.0, 4.0, 3.0, 1.0, 2.0, 5.0, 4.0, 5.0, 3.0, 3.0, 5.0, 4.0, 2.0, 3.0, 4.0, 5.0, 5.0, 5.0, 2.0, 5.0, 5.0, 4.0, 2.0, 2.0, 5.0, 5.0, 3.0, 4.0, 3.0, 4.0, 2.0, 3.0, 1.0, 4.0, 2.0, 4.0, 4.0, 5.0, 5.0, 4.0, 4.0, 3.0, 5.0, 3.0, 5.0, 4.0, 5.0, 4.0, 2.0, 3.0, 4.0, 5.0, 5.0, 5.0, 4.0, 4.0, 4.0, 3.0, 4.0, 1.0, 1.0, 5.0, 3.0, 4.0, 4.0, 4.0, 4.0, 5.0, 4.0, 2.0, 5.0, 1.0, 5.0, 2.0, 5.0, 4.0, 3.0, 5.0, 4.0, 2.0, 5.0, 3.0, 5.0, 5.0, 5.0, 1.0, 5.0, 4.0, 3.0, 1.0, 5.0, 5.0, 5.0, 4.0, 5.0, 3.0, 1.0, 1.0, 5.0, 5.0, 4.0, 4.0, 4.0, 5.0, 4.0, 5.0, 5.0, 5.0, 5.0, 4.0, 2.0, 2.0, 2.0, 3.0, 5.0, 3.0, 2.0, 3.0, 4.0, 3.0, 5.0, 5.0, 2.0, 5.0, 2.0, 1.0, 4.0, 5.0, 4.0, 1.0, 4.0, 5.0, 4.0, 5.0, 4.0, 5.0, 5.0, 5.0, 5.0, 4.0, 4.0, 2.0, 5.0, 4.0, 5.0, 5.0, 5.0, 4.0, 1.0, 3.0, 1.0, 2.0, 5.0, 5.0, 5.0, 1.0, 4.0, 5.0, 4.0, 4.0, 5.0, 4.0, 4.0, 5.0, 4.0, 5.0, 5.0, 3.0, 5.0, 4.0, 5.0, 5.0, 4.0, 5.0, 4.0, 4.0, 3.0, 4.0, 3.0, 5.0, 5.0, 4.0, 5.0, 5.0, 1.0, 5.0, 5.0, 3.0, 1.0, 2.0, 4.0, 5.0, 5.0, 2.0, 4.0, 4.0, 5.0, 5.0, 5.0, 4.0, 4.0, 4.0, 5.0, 3.0, 5.0, 5.0, 5.0, 4.0, 4.0, 4.0, 5.0, 4.0, 4.0, 5.0, 3.0, 5.0, 4.0, 3.0, 2.0, 5.0, 5.0, 5.0, 4.0, 5.0, 5.0, 4.0, 4.0, 3.0, 4.0, 4.0, 3.0, 5.0, 5.0, 3.0, 5.0, 5.0, 3.0, 3.0, 4.0, 5.0, 4.0, 4.0, 3.0, 5.0, 5.0, 4.0, 5.0, 4.0, 4.0, 5.0, 5.0, 4.0, 3.0, 3.0, 4.0, 4.0, 5.0, 5.0, 2.0, 2.0, 5.0, 5.0, 5.0, 4.0, 3.0, 4.0, 3.0, 4.0, 4.0, 2.0, 3.0, 1.0, 3.0, 1.0, 5.0, 5.0, 3.0, 5.0, 2.0, 1.0, 3.0, 5.0, 4.0, 5.0, 4.0, 5.0, 4.0, 5.0, 4.0, 4.0, 5.0, 2.0, 5.0, 4.0, 4.0, 4.0, 1.0, 4.0, 4.0, 5.0, 4.0, 4.0, 5.0, 5.0, 4.0, 4.0, 4.0, 2.0, 4.0, 1.0, 3.0, 3.0, 4.0, 5.0, 5.0, 5.0, 4.0, 3.0, 5.0, 3.0, 4.0, 5.0, 5.0, 4.0, 3.0, 5.0, 1.0, 4.0, 5.0, 1.0, 4.0, 5.0, 3.0, 1.0, 4.0, 5.0, 1.0, 5.0, 5.0, 5.0, 4.0, 3.0, 4.0, 4.0, 2.0, 4.0, 4.0, 5.0, 5.0, 3.0, 4.0, 5.0, 4.0, 3.0, 5.0, 4.0, 3.0, 4.0, 5.0, 3.0, 4.0, 2.0, 3.0, 5.0, 3.0, 5.0, 3.0, 3.0, 1.0, 4.0, 5.0, 4.0, 5.0, 3.0, 5.0, 5.0, 4.0, 2.0, 5.0, 5.0, 4.0, 2.0, 4.0, 5.0, 4.0, 4.0, 5.0, 3.0, 1.0, 5.0, 4.0, 5.0, 5.0, 3.0, 5.0, 3.0, 1.0, 3.0, 3.0, 1.0, 5.0, 1.0, 2.0, 5.0, 5.0, 5.0, 5.0, 5.0, 5.0, 3.0, 4.0, 4.0, 2.0, 5.0, 2.0, 4.0, 4.0, 4.0, 4.0, 5.0, 5.0, 5.0, 2.0, 4.0, 5.0, 4.0, 5.0, 5.0, 5.0, 5.0, 1.0, 1.0, 4.0, 5.0, 4.0, 4.0, 5.0, 4.0, 4.0, 5.0, 4.0, 5.0, 4.0, 3.0, 4.0, 5.0, 5.0, 5.0, 4.0, 1.0, 3.0, 4.0, 4.0, 4.0, 5.0, 2.0, 5.0, 5.0, 3.0, 3.0, 5.0, 5.0, 3.0, 5.0, 4.0, 2.0, 5.0, 4.0, 4.0, 5.0, 5.0, 5.0, 5.0, 4.0, 3.0, 1.0, 4.0, 4.0, 5.0, 3.0, 4.0, 5.0, 5.0, 5.0, 5.0, 4.0, 4.0, 4.0, 4.0, 4.0, 4.0, 5.0, 5.0, 5.0, 2.0, 4.0, 4.0, 2.0, 5.0, 5.0, 4.0, 5.0, 5.0, 2.0, 3.0, 5.0, 5.0, 2.0, 3.0, 5.0, 3.0, 1.0, 3.0, 3.0, 4.0, 4.0, 4.0, 2.0, 5.0, 3.0, 1.0, 5.0, 3.0, 1.0, 5.0, 5.0, 4.0, 2.0, 3.0, 4.0, 5.0, 4.0, 3.0, 5.0, 5.0, 4.0, 3.0, 3.0, 4.0, 2.0, 3.0, 5.0, 5.0, 3.0, 5.0, 5.0, 5.0, 5.0, 4.0, 4.0, 4.0, 5.0, 5.0, 4.0, 4.0, 5.0, 5.0, 4.0, 4.0, 4.0, 1.0, 3.0, 3.0, 5.0, 4.0, 5.0, 5.0, 5.0, 2.0, 5.0, 1.0, 4.0, 3.0, 5.0, 4.0, 2.0, 5.0, 5.0, 3.0, 5.0, 5.0, 5.0, 4.0, 5.0, 2.0, 4.0, 5.0, 1.0, 5.0, 5.0, 3.0, 4.0, 5.0, 4.0, 5.0, 5.0, 5.0, 3.0, 4.0, 2.0, 4.0, 5.0, 5.0, 5.0, 2.0, 4.0, 2.0, 4.0, 5.0, 4.0, 2.0, 5.0, 4.0, 4.0, 1.0, 5.0, 4.0, 5.0, 3.0, 5.0, 2.0, 4.0, 5.0, 2.0, 4.0, 5.0, 5.0, 5.0, 3.0, 4.0, 3.0, 4.0, 5.0, 5.0, 4.0, 1.0, 5.0, 5.0, 4.0, 1.0, 4.0, 1.0, 2.0, 5.0, 3.0, 1.0, 4.0, 5.0, 5.0, 5.0, 1.0, 3.0, 4.0, 4.0, 4.0, 5.0, 4.0, 3.0, 5.0, 4.0, 3.0, 5.0, 5.0, 4.0, 5.0, 5.0, 2.0, 5.0, 3.0, 5.0, 1.0, 4.0, 2.0, 3.0, 4.0, 1.0, 5.0, 4.0, 5.0, 4.0, 5.0, 3.0, 4.0, 5.0, 4.0, 4.0, 4.0, 5.0, 4.0, 3.0, 1.0, 5.0, 5.0, 5.0, 3.0, 4.0, 4.0, 4.0, 5.0, 3.0, 2.0, 5.0, 2.0, 5.0, 5.0, 1.0, 4.0, 3.0, 5.0, 5.0, 5.0, 5.0, 3.0, 4.0, 3.0, 5.0, 4.0, 4.0, 4.0, 5.0, 5.0, 4.0, 4.0, 5.0, 3.0, 4.0, 5.0, 5.0, 4.0, 3.0, 5.0, 4.0, 5.0, 2.0, 3.0, 4.0, 5.0, 1.0, 4.0, 1.0, 5.0, 5.0, 5.0, 5.0, 5.0, 5.0, 1.0, 4.0, 5.0, 5.0, 4.0, 4.0, 5.0, 4.0, 2.0, 5.0, 4.0, 2.0, 5.0, 5.0, 4.0, 5.0, 5.0, 2.0, 5.0, 4.0, 4.0, 5.0, 5.0, 5.0, 5.0, 3.0, 1.0, 1.0, 4.0, 5.0, 5.0, 5.0, 5.0, 5.0, 5.0, 4.0, 2.0, 5.0, 1.0, 4.0, 1.0, 4.0, 5.0, 5.0, 2.0, 5.0, 5.0, 4.0, 5.0, 5.0, 4.0, 5.0, 5.0, 4.0, 4.0, 1.0, 5.0, 5.0, 2.0, 5.0, 1.0, 5.0, 3.0, 4.0, 5.0, 4.0, 5.0, 3.0, 5.0, 4.0, 5.0, 4.0, 3.0, 5.0, 1.0, 4.0, 2.0, 5.0, 5.0, 4.0, 5.0, 5.0, 5.0, 5.0, 1.0, 2.0, 4.0, 5.0, 5.0, 5.0, 5.0, 4.0, 5.0, 5.0, 4.0, 5.0, 2.0, 3.0, 3.0, 2.0, 1.0, 4.0, 2.0, 5.0, 4.0, 2.0, 3.0, 1.0, 5.0, 1.0, 3.0, 4.0, 3.0, 4.0, 5.0, 1.0, 5.0, 1.0, 4.0, 3.0, 5.0, 5.0, 4.0, 5.0, 4.0, 4.0, 1.0, 5.0, 4.0, 4.0, 4.0, 4.0, 5.0, 2.0, 5.0, 5.0, 4.0, 4.0, 1.0, 1.0, 4.0, 5.0, 5.0, 5.0, 5.0, 4.0, 5.0, 5.0, 2.0, 2.0, 3.0, 5.0, 2.0, 5.0, 3.0, 4.0, 4.0, 5.0, 5.0, 4.0, 5.0, 4.0, 5.0, 1.0, 4.0, 2.0, 5.0, 5.0, 5.0, 2.0, 1.0, 5.0, 4.0, 5.0, 4.0, 5.0, 1.0, 2.0, 5.0, 5.0, 3.0, 2.0, 5.0, 4.0, 5.0, 4.0, 4.0, 4.0, 4.0, 5.0, 4.0, 5.0, 5.0, 4.0, 5.0, 2.0, 3.0, 5.0, 1.0, 1.0, 5.0, 5.0, 4.0, 3.0, 5.0, 5.0, 3.0, 4.0, 5.0, 4.0, 4.0, 5.0, 4.0, 4.0, 5.0, 5.0, 5.0, 1.0, 2.0, 1.0, 1.0, 4.0, 3.0, 1.0, 5.0, 4.0, 5.0, 3.0, 5.0, 5.0, 4.0, 4.0, 1.0, 5.0, 2.0, 1.0, 5.0, 5.0, 5.0, 5.0, 3.0, 5.0, 4.0, 4.0, 4.0, 3.0, 4.0, 5.0, 2.0, 5.0, 3.0, 5.0, 3.0, 3.0, 3.0, 4.0, 1.0, 3.0, 1.0, 5.0, 3.0, 5.0, 5.0, 5.0, 2.0, 4.0, 3.0, 4.0, 5.0, 1.0, 5.0, 5.0, 5.0, 5.0, 5.0, 3.0, 5.0, 2.0, 3.0, 5.0, 5.0, 5.0, 5.0, 5.0, 5.0, 3.0, 4.0, 5.0, 5.0, 5.0, 4.0, 5.0, 5.0, 5.0, 5.0, 5.0, 2.0, 5.0, 4.0, 2.0, 5.0, 5.0, 4.0, 1.0, 3.0, 5.0, 5.0, 5.0, 4.0, 3.0, 4.0, 4.0, 4.0, 3.0, 4.0, 5.0, 5.0, 5.0, 3.0, 1.0, 5.0, 5.0, 2.0, 1.0, 5.0, 4.0, 1.0, 4.0, 5.0, 1.0, 2.0, 1.0, 5.0, 5.0, 4.0, 5.0, 3.0, 4.0, 1.0, 5.0, 4.0, 4.0, 3.0, 4.0, 1.0, 4.0, 4.0, 2.0, 5.0, 5.0, 4.0, 2.0, 5.0, 5.0, 4.0, 5.0, 4.0, 4.0, 5.0, 4.0, 4.0, 5.0, 1.0, 5.0, 4.0, 5.0, 4.0, 4.0, 4.0, 4.0, 5.0, 3.0, 2.0, 2.0, 2.0, 5.0, 5.0, 2.0, 5.0, 4.0, 3.0, 5.0, 5.0, 4.0, 3.0, 5.0, 5.0, 2.0, 3.0, 5.0, 5.0, 4.0, 5.0, 5.0, 5.0, 5.0, 5.0, 5.0, 4.0, 4.0, 4.0, 5.0, 4.0, 3.0, 1.0, 5.0, 4.0, 4.0, 5.0, 5.0, 3.0, 5.0, 5.0, 5.0, 5.0, 5.0, 5.0, 5.0, 4.0, 3.0, 3.0, 5.0, 5.0, 5.0, 1.0, 3.0, 5.0, 4.0, 3.0, 5.0, 4.0, 5.0, 3.0, 4.0, 5.0, 4.0, 4.0, 3.0, 3.0, 5.0, 5.0, 5.0, 4.0, 3.0, 4.0, 1.0, 5.0, 3.0, 5.0, 4.0, 4.0, 4.0, 2.0, 5.0, 5.0, 1.0, 4.0, 5.0, 3.0, 4.0, 3.0, 1.0, 5.0, 4.0, 4.0, 3.0, 4.0, 5.0, 5.0, 4.0, 4.0, 3.0, 3.0, 5.0, 4.0, 5.0, 5.0, 4.0, 4.0, 3.0, 4.0, 5.0, 5.0, 5.0, 5.0, 2.0, 5.0, 2.0, 1.0, 1.0, 4.0, 2.0, 4.0, 5.0, 4.0, 4.0, 4.0, 1.0, 5.0, 4.0, 5.0, 4.0, 1.0, 5.0, 5.0, 2.0, 1.0, 4.0, 5.0, 5.0, 5.0, 5.0, 5.0, 4.0, 5.0, 5.0, 4.0, 4.0, 4.0, 5.0, 5.0, 3.0, 2.0, 5.0, 4.0, 4.0, 5.0, 5.0, 4.0, 5.0, 4.0, 5.0, 5.0, 4.0, 5.0, 4.0, 1.0, 3.0, 4.0, 5.0, 4.0, 5.0, 5.0, 3.0, 3.0, 4.0, 5.0, 3.0, 2.0, 5.0, 4.0, 4.0, 5.0, 3.0, 4.0, 4.0, 4.0, 2.0, 3.0, 4.0, 4.0, 2.0, 5.0, 5.0, 3.0, 4.0, 4.0, 4.0, 3.0, 3.0, 5.0, 2.0, 1.0, 4.0, 5.0, 5.0, 3.0, 3.0, 4.0, 5.0, 1.0, 4.0, 4.0, 4.0, 5.0, 3.0, 4.0, 4.0, 5.0, 5.0, 5.0, 5.0, 3.0, 4.0, 5.0, 5.0, 5.0, 5.0, 5.0, 5.0, 1.0, 5.0, 3.0, 4.0, 5.0, 5.0, 5.0, 3.0, 5.0, 3.0, 5.0, 5.0, 4.0, 2.0, 4.0, 5.0, 5.0, 5.0, 5.0, 3.0, 3.0, 3.0, 5.0, 5.0, 4.0, 2.0, 3.0, 5.0, 5.0, 5.0, 3.0, 5.0, 5.0, 2.0, 2.0, 5.0, 3.0, 3.0, 5.0, 4.0, 5.0, 1.0, 5.0, 2.0, 5.0, 4.0, 5.0, 3.0, 3.0, 5.0, 3.0, 5.0, 4.0, 4.0, 3.0, 3.0, 4.0, 5.0, 4.0, 5.0, 5.0, 5.0, 5.0, 4.0, 5.0, 5.0, 5.0, 3.0, 5.0, 4.0, 5.0, 4.0, 2.0, 2.0, 2.0, 5.0, 1.0, 5.0, 5.0, 4.0, 5.0, 2.0, 5.0, 5.0, 5.0, 4.0, 4.0, 2.0, 5.0, 4.0, 1.0, 1.0, 3.0, 5.0, 4.0, 5.0, 4.0, 4.0, 4.0, 1.0, 5.0, 5.0, 4.0, 3.0, 5.0, 4.0, 3.0, 2.0, 3.0, 3.0, 4.0, 5.0, 5.0, 5.0, 5.0, 3.0, 5.0, 5.0, 4.0, 4.0, 4.0, 4.0, 5.0, 5.0, 3.0, 1.0, 3.0, 5.0, 4.0, 5.0, 4.0, 4.0, 5.0, 4.0, 5.0, 3.0, 4.0, 5.0, 2.0, 4.0, 5.0, 3.0, 4.0, 1.0, 4.0, 3.0, 4.0, 5.0, 4.0, 3.0, 3.0, 1.0, 3.0, 4.0, 5.0, 5.0, 4.0, 5.0, 3.0, 2.0, 5.0, 5.0, 3.0, 4.0, 5.0, 3.0, 3.0, 3.0, 4.0, 5.0, 5.0, 4.0, 5.0, 5.0, 3.0, 5.0, 4.0, 4.0, 5.0, 5.0, 5.0, 1.0, 4.0, 5.0, 4.0, 4.0, 4.0, 3.0, 4.0, 1.0, 4.0, 5.0, 5.0, 4.0, 4.0, 4.0, 5.0, 5.0, 5.0, 2.0, 5.0, 4.0, 2.0, 5.0, 5.0, 3.0, 4.0, 2.0, 4.0, 5.0, 5.0, 1.0, 2.0, 5.0, 4.0, 1.0, 5.0, 3.0, 4.0, 3.0, 3.0, 5.0, 4.0, 4.0, 1.0, 3.0, 3.0, 5.0, 4.0, 5.0, 3.0, 5.0, 5.0, 5.0, 5.0, 4.0, 4.0, 5.0, 4.0, 5.0, 3.0, 4.0, 1.0, 3.0, 4.0, 5.0, 4.0, 4.0, 4.0, 5.0, 5.0, 5.0, 5.0, 1.0, 3.0, 3.0, 4.0, 4.0, 5.0, 1.0, 5.0, 5.0, 4.0, 2.0, 5.0, 4.0, 2.0, 2.0, 5.0, 5.0, 4.0, 5.0, 4.0, 1.0, 2.0, 5.0, 3.0, 5.0, 2.0, 5.0, 5.0, 3.0, 3.0, 5.0, 1.0, 5.0, 3.0, 4.0, 5.0, 4.0, 4.0, 4.0, 3.0, 4.0, 4.0, 1.0, 5.0, 5.0, 5.0, 3.0, 4.0, 4.0, 5.0, 4.0, 5.0, 2.0, 1.0, 5.0, 3.0, 4.0, 5.0, 5.0, 5.0, 5.0, 4.0, 5.0, 5.0, 3.0, 5.0, 5.0, 3.0, 4.0, 4.0, 1.0, 5.0, 5.0, 5.0, 5.0, 5.0, 2.0, 5.0, 3.0, 2.0, 4.0, 3.0, 4.0, 2.0, 4.0, 5.0, 3.0, 3.0, 1.0, 5.0, 5.0, 5.0, 4.0, 5.0, 2.0, 3.0, 4.0, 4.0, 4.0, 5.0, 5.0, 5.0, 5.0, 5.0, 5.0, 5.0, 4.0, 5.0, 4.0, 5.0, 2.0, 5.0, 5.0, 4.0, 2.0, 5.0, 4.0, 5.0, 5.0, 5.0, 3.0, 4.0, 4.0, 3.0, 1.0, 1.0, 4.0, 1.0, 4.0, 5.0, 5.0, 5.0, 5.0, 4.0, 5.0, 5.0, 5.0, 4.0, 4.0, 5.0, 5.0, 4.0, 5.0, 5.0, 4.0, 5.0, 5.0, 4.0, 5.0, 5.0, 5.0, 4.0, 4.0, 3.0, 1.0, 4.0, 3.0, 5.0, 5.0, 3.0, 5.0, 5.0, 5.0, 5.0, 4.0, 2.0, 4.0, 3.0, 2.0, 5.0, 4.0, 5.0, 5.0, 5.0, 5.0, 5.0, 1.0, 2.0, 4.0, 1.0, 3.0, 2.0, 5.0, 5.0, 1.0, 4.0, 5.0, 4.0, 4.0, 5.0, 4.0, 1.0, 2.0, 5.0, 4.0, 5.0, 5.0, 5.0, 4.0, 4.0, 1.0, 5.0, 5.0, 4.0, 4.0, 4.0, 4.0, 5.0, 3.0, 5.0, 5.0, 5.0, 1.0, 4.0, 4.0, 2.0, 5.0, 5.0, 5.0, 5.0, 3.0, 5.0, 5.0, 2.0, 4.0, 1.0, 5.0, 4.0, 5.0, 5.0, 5.0, 3.0, 5.0, 5.0, 5.0, 5.0, 2.0, 5.0, 4.0, 3.0, 3.0, 2.0, 4.0, 2.0, 5.0, 4.0, 5.0, 3.0, 5.0, 5.0, 5.0, 5.0, 5.0, 5.0, 1.0, 4.0, 5.0, 2.0, 5.0, 5.0, 4.0, 4.0, 1.0, 2.0, 4.0, 4.0, 5.0, 5.0, 5.0, 5.0, 1.0, 5.0, 3.0, 5.0, 3.0, 5.0, 5.0, 2.0, 5.0, 4.0, 5.0, 4.0, 5.0, 2.0, 5.0, 5.0, 4.0, 4.0, 4.0, 5.0, 5.0, 4.0, 3.0, 5.0, 5.0, 5.0, 5.0, 5.0, 5.0, 3.0, 1.0, 5.0, 2.0, 4.0, 5.0, 1.0, 5.0, 4.0, 1.0, 4.0, 5.0, 4.0, 5.0, 4.0, 1.0, 1.0, 5.0, 4.0, 2.0, 5.0, 4.0, 5.0, 3.0, 3.0, 2.0, 5.0, 4.0, 4.0, 4.0, 5.0, 5.0, 3.0, 1.0, 2.0, 4.0, 5.0, 5.0, 2.0, 5.0, 4.0, 5.0, 5.0, 4.0, 3.0, 4.0, 5.0, 5.0, 4.0, 5.0, 5.0, 3.0, 5.0, 4.0, 5.0, 1.0, 5.0, 5.0, 5.0, 5.0, 4.0, 2.0, 4.0, 4.0, 5.0, 4.0, 5.0, 4.0, 5.0, 5.0, 2.0, 5.0, 4.0, 5.0, 4.0, 5.0, 5.0, 5.0, 4.0, 3.0, 4.0, 5.0, 4.0, 5.0, 5.0, 5.0, 5.0, 5.0, 5.0, 4.0, 5.0, 5.0, 3.0, 4.0, 5.0, 4.0, 5.0, 5.0, 5.0, 4.0, 1.0, 3.0, 4.0, 5.0, 5.0, 4.0, 5.0, 4.0, 3.0, 4.0, 1.0, 4.0, 3.0, 5.0, 2.0, 3.0, 4.0, 5.0, 5.0, 5.0, 3.0, 4.0, 4.0, 5.0, 5.0, 1.0, 3.0, 5.0, 5.0, 4.0, 5.0, 4.0, 3.0, 4.0, 4.0, 5.0, 2.0, 4.0, 5.0, 3.0, 3.0, 5.0, 5.0, 4.0, 4.0, 5.0, 2.0, 4.0, 4.0, 2.0, 3.0, 4.0, 2.0, 4.0, 4.0, 5.0, 4.0, 5.0, 1.0, 5.0, 4.0, 5.0, 1.0, 5.0, 5.0, 4.0, 5.0, 5.0, 3.0, 3.0, 4.0, 3.0, 5.0, 5.0, 4.0, 5.0, 4.0, 1.0, 4.0, 5.0, 5.0, 1.0, 5.0, 4.0, 5.0, 2.0, 5.0, 4.0, 2.0, 5.0, 5.0, 5.0, 5.0, 5.0, 1.0, 4.0, 5.0, 5.0, 4.0, 5.0, 5.0, 5.0, 5.0, 5.0, 4.0, 2.0, 5.0, 5.0, 4.0, 5.0, 5.0, 5.0, 4.0, 5.0, 5.0, 5.0, 2.0, 5.0, 5.0, 1.0, 5.0, 1.0, 4.0, 4.0, 5.0, 5.0, 4.0, 5.0, 4.0, 5.0, 3.0, 5.0, 2.0, 5.0, 5.0, 5.0, 2.0, 5.0, 5.0, 5.0, 5.0, 4.0, 5.0, 3.0, 5.0, 4.0, 4.0, 5.0, 5.0, 5.0, 2.0, 5.0, 5.0, 3.0, 4.0, 3.0, 5.0, 4.0, 2.0, 5.0, 5.0, 3.0, 2.0, 5.0, 4.0, 4.0, 5.0, 5.0, 5.0, 5.0, 3.0, 5.0, 4.0, 4.0, 5.0, 2.0, 4.0, 1.0, 3.0, 3.0, 4.0, 4.0, 4.0, 4.0, 5.0, 1.0, 5.0, 3.0, 5.0, 5.0, 5.0, 5.0, 5.0, 5.0, 5.0, 3.0, 4.0, 5.0, 1.0, 3.0, 5.0, 5.0, 5.0, 3.0, 5.0, 5.0, 2.0, 4.0, 5.0, 4.0, 5.0, 5.0, 5.0, 5.0, 4.0, 4.0, 4.0, 5.0, 4.0, 4.0, 5.0, 5.0, 4.0, 2.0, 5.0, 3.0, 5.0, 3.0, 4.0, 4.0, 3.0, 4.0, 5.0, 5.0, 3.0, 3.0, 1.0, 4.0, 4.0, 4.0, 5.0, 4.0, 5.0, 3.0, 4.0, 3.0, 4.0, 1.0, 4.0, 5.0, 5.0, 4.0, 5.0, 5.0, 5.0, 5.0, 5.0, 4.0, 3.0, 2.0, 5.0, 2.0, 4.0, 2.0, 4.0, 5.0, 4.0, 5.0, 5.0, 1.0, 5.0, 4.0, 3.0, 5.0, 3.0, 4.0, 4.0, 5.0, 5.0, 3.0, 1.0, 5.0, 3.0, 5.0, 1.0, 3.0, 5.0, 4.0, 4.0, 4.0, 4.0, 5.0, 2.0, 5.0, 4.0, 2.0, 3.0, 5.0, 5.0, 5.0, 1.0, 5.0, 5.0, 5.0, 3.0, 5.0, 3.0, 3.0, 1.0, 5.0, 3.0, 3.0, 3.0, 3.0, 4.0, 4.0, 3.0, 4.0, 5.0, 5.0, 5.0, 4.0, 3.0, 4.0, 5.0, 3.0, 5.0, 4.0, 5.0, 1.0, 1.0, 5.0, 4.0, 5.0, 4.0, 1.0, 5.0, 5.0, 3.0, 4.0, 5.0, 5.0, 5.0, 5.0, 5.0, 5.0, 2.0, 4.0, 4.0, 4.0, 4.0, 4.0, 5.0, 4.0, 3.0, 5.0, 5.0, 5.0, 3.0, 4.0, 2.0, 4.0, 3.0, 4.0, 4.0, 5.0, 1.0, 5.0, 5.0, 3.0, 4.0, 5.0, 5.0, 3.0, 5.0, 5.0, 4.0, 5.0, 5.0, 1.0, 4.0, 5.0, 5.0, 4.0, 4.0, 4.0, 5.0, 3.0, 2.0, 5.0, 3.0, 5.0, 5.0, 4.0, 3.0, 1.0, 4.0, 1.0, 3.0, 5.0, 4.0, 5.0, 4.0, 5.0, 4.0, 5.0, 4.0, 5.0, 2.0, 5.0, 3.0, 5.0, 5.0, 3.0, 1.0, 3.0, 1.0, 4.0, 5.0, 1.0, 3.0, 2.0, 5.0, 2.0, 5.0, 5.0, 3.0, 4.0, 5.0, 5.0, 4.0, 4.0, 4.0, 3.0, 4.0, 4.0, 5.0, 1.0, 5.0, 3.0, 5.0, 4.0, 4.0, 3.0, 5.0, 4.0, 2.0, 4.0, 5.0, 2.0, 5.0, 4.0, 1.0, 4.0, 4.0, 2.0, 1.0, 5.0, 3.0, 5.0, 5.0, 3.0, 5.0, 5.0, 1.0, 5.0, 5.0, 3.0, 4.0, 5.0, 5.0, 5.0, 5.0, 5.0, 5.0, 4.0, 5.0, 4.0, 5.0, 3.0, 5.0, 5.0, 4.0, 2.0, 4.0, 1.0, 4.0, 5.0, 2.0, 4.0, 3.0, 5.0, 4.0, 5.0, 2.0, 4.0, 4.0, 5.0, 5.0, 3.0, 5.0, 5.0, 1.0, 5.0, 5.0, 5.0, 5.0, 4.0, 5.0, 5.0, 5.0, 5.0, 4.0, 3.0, 3.0, 3.0, 4.0, 4.0, 5.0, 4.0, 4.0, 5.0, 3.0, 3.0, 5.0, 5.0, 1.0, 5.0, 2.0, 2.0, 5.0, 4.0, 4.0, 5.0, 5.0, 4.0, 4.0, 3.0, 5.0, 5.0, 5.0, 2.0, 4.0, 4.0, 3.0, 3.0, 4.0, 3.0, 3.0, 2.0, 5.0, 5.0, 5.0, 2.0, 5.0, 2.0, 1.0, 4.0, 5.0, 4.0, 3.0, 5.0, 5.0, 4.0, 5.0, 1.0, 5.0, 5.0, 4.0, 5.0, 2.0, 3.0, 5.0, 1.0, 1.0, 5.0, 2.0, 4.0, 5.0, 4.0, 3.0, 4.0, 5.0, 4.0, 2.0, 5.0, 5.0, 4.0, 5.0, 4.0, 5.0, 3.0, 5.0, 5.0, 5.0, 5.0, 3.0, 5.0, 3.0, 4.0, 2.0, 4.0, 5.0, 3.0, 5.0, 5.0, 5.0, 5.0, 3.0, 5.0, 5.0, 3.0, 2.0, 5.0, 2.0, 5.0, 5.0, 3.0, 2.0, 5.0, 4.0, 5.0, 3.0, 4.0, 4.0, 3.0, 5.0, 4.0, 4.0, 5.0, 1.0, 5.0, 2.0, 3.0, 2.0, 5.0, 2.0, 5.0, 3.0, 5.0, 4.0, 4.0, 5.0, 4.0, 4.0, 4.0, 4.0, 4.0, 2.0, 5.0, 3.0, 4.0, 4.0, 2.0, 5.0, 5.0, 4.0, 2.0, 5.0, 5.0, 5.0, 5.0, 4.0, 1.0, 3.0, 4.0, 5.0, 5.0, 3.0, 3.0, 4.0, 2.0, 4.0, 3.0, 4.0, 5.0, 2.0, 5.0, 3.0, 3.0, 5.0, 3.0, 4.0, 5.0, 5.0, 4.0, 5.0, 5.0, 1.0, 3.0, 2.0, 4.0, 5.0, 3.0, 5.0, 3.0, 4.0, 5.0, 5.0, 5.0, 5.0, 5.0, 3.0, 5.0, 3.0, 4.0, 5.0, 5.0, 4.0, 4.0, 4.0, 2.0, 5.0, 5.0, 5.0, 5.0, 4.0, 5.0, 5.0, 5.0, 4.0, 5.0, 5.0, 3.0, 5.0, 5.0, 5.0, 3.0, 5.0, 4.0, 1.0, 2.0, 1.0, 3.0, 5.0, 5.0, 3.0, 5.0, 5.0, 4.0, 3.0, 5.0, 3.0, 4.0, 5.0, 4.0, 3.0, 5.0, 5.0, 5.0, 2.0, 2.0, 3.0, 3.0, 3.0, 3.0, 4.0, 2.0, 5.0, 5.0, 5.0, 5.0, 4.0, 1.0, 4.0, 4.0, 5.0, 4.0, 5.0, 5.0, 4.0, 3.0, 4.0, 5.0, 4.0, 4.0, 5.0, 5.0, 4.0, 3.0, 5.0, 5.0, 5.0, 3.0, 5.0, 4.0, 4.0, 4.0, 5.0, 1.0, 5.0, 4.0, 5.0, 3.0, 5.0, 3.0, 4.0, 4.0, 4.0, 3.0, 5.0, 5.0, 1.0, 4.0, 3.0, 3.0, 4.0, 3.0, 3.0, 5.0, 5.0, 5.0, 4.0, 4.0, 5.0, 5.0, 1.0, 4.0, 4.0, 4.0, 4.0, 4.0, 1.0, 5.0, 2.0, 3.0, 5.0, 5.0, 4.0, 5.0, 5.0, 5.0, 3.0, 1.0, 4.0, 1.0, 4.0, 3.0, 2.0, 5.0, 4.0, 4.0, 4.0, 2.0, 5.0, 1.0, 5.0, 3.0, 5.0, 5.0, 3.0, 5.0, 2.0, 4.0, 2.0, 5.0, 4.0, 5.0, 3.0, 4.0, 2.0, 3.0, 3.0, 4.0, 3.0, 5.0, 1.0, 5.0, 5.0, 5.0, 5.0, 4.0, 4.0, 5.0, 3.0, 4.0, 5.0, 3.0, 1.0, 5.0, 2.0, 4.0, 2.0, 4.0, 5.0, 4.0, 3.0, 3.0, 2.0, 4.0, 1.0, 4.0, 4.0, 5.0, 5.0, 5.0, 4.0, 3.0, 4.0, 5.0, 5.0, 5.0, 3.0, 2.0, 1.0, 5.0, 3.0, 4.0, 4.0, 4.0, 1.0, 3.0, 4.0, 4.0, 4.0, 3.0, 5.0, 4.0, 3.0, 4.0, 4.0, 4.0, 5.0, 4.0, 4.0, 5.0, 5.0, 4.0, 1.0, 5.0, 2.0, 5.0, 5.0, 5.0, 3.0, 3.0, 5.0, 5.0, 5.0, 4.0, 4.0, 5.0, 5.0, 5.0, 1.0, 5.0, 3.0, 5.0, 4.0, 3.0, 2.0, 5.0, 5.0, 5.0, 5.0, 5.0, 5.0, 5.0, 3.0, 1.0, 4.0, 4.0, 5.0, 3.0, 4.0, 5.0, 4.0, 3.0, 2.0, 5.0, 1.0, 5.0, 3.0, 4.0, 4.0, 3.0, 3.0, 5.0, 4.0, 3.0, 4.0, 4.0, 4.0, 3.0, 5.0, 5.0, 5.0, 5.0, 3.0, 4.0, 4.0, 2.0, 3.0, 3.0, 4.0, 4.0, 4.0, 2.0, 5.0, 5.0, 4.0, 4.0, 5.0, 4.0, 3.0, 5.0, 5.0, 5.0, 4.0, 4.0, 5.0, 3.0, 4.0, 5.0, 4.0, 4.0, 5.0, 5.0, 5.0, 1.0, 3.0, 5.0, 5.0, 5.0, 4.0, 5.0, 3.0, 5.0, 5.0, 5.0, 2.0, 3.0, 5.0, 3.0, 4.0, 5.0, 2.0, 2.0, 5.0, 5.0, 1.0, 3.0, 5.0, 4.0, 1.0, 5.0, 5.0, 3.0, 4.0, 4.0, 5.0, 5.0, 5.0, 4.0, 4.0, 5.0, 4.0, 5.0, 4.0, 2.0, 5.0, 3.0, 5.0, 5.0, 3.0, 4.0, 4.0, 3.0, 2.0, 5.0, 5.0, 2.0, 5.0, 4.0, 5.0, 4.0, 5.0, 2.0, 5.0, 5.0, 5.0, 5.0, 4.0, 4.0, 4.0, 4.0, 4.0, 4.0, 5.0, 2.0, 5.0, 1.0, 5.0, 1.0, 3.0, 1.0, 5.0, 5.0, 4.0, 4.0, 5.0, 5.0, 3.0, 5.0, 5.0, 3.0, 5.0, 3.0, 3.0, 5.0, 4.0, 4.0, 4.0, 3.0, 4.0, 4.0, 4.0, 4.0, 2.0, 1.0, 5.0, 4.0, 5.0, 5.0, 4.0, 5.0, 5.0, 5.0, 5.0, 5.0, 2.0, 4.0, 4.0, 5.0, 4.0, 4.0, 5.0, 4.0, 5.0, 5.0, 4.0, 5.0, 4.0, 5.0, 5.0, 1.0, 3.0, 4.0, 5.0, 3.0, 3.0, 3.0, 4.0, 1.0, 4.0, 5.0, 4.0, 1.0, 2.0, 4.0, 2.0, 2.0, 1.0, 5.0, 4.0, 2.0, 3.0, 2.0, 5.0, 3.0, 4.0, 1.0, 5.0, 5.0, 4.0, 5.0, 4.0, 4.0, 4.0, 1.0, 4.0, 5.0, 5.0, 4.0, 5.0, 5.0, 4.0, 5.0, 4.0, 2.0, 5.0, 5.0, 1.0, 5.0, 3.0, 3.0, 5.0, 5.0, 4.0, 1.0, 2.0, 5.0, 1.0, 4.0, 1.0, 2.0, 5.0, 5.0, 4.0, 5.0, 3.0, 5.0, 5.0, 4.0, 2.0, 5.0, 4.0, 5.0, 4.0, 3.0, 5.0, 5.0, 5.0, 3.0, 2.0, 4.0, 5.0, 5.0, 5.0, 4.0, 3.0, 4.0, 5.0, 5.0, 5.0, 1.0, 4.0, 5.0, 5.0, 3.0, 4.0, 4.0, 3.0, 4.0, 5.0, 4.0, 5.0, 5.0, 4.0, 5.0, 3.0, 4.0, 3.0, 5.0, 4.0, 5.0, 3.0, 3.0, 2.0, 5.0, 5.0, 4.0, 1.0, 4.0, 5.0, 5.0, 5.0, 3.0, 4.0, 4.0, 4.0, 3.0, 5.0, 5.0, 5.0, 5.0, 3.0, 5.0, 3.0, 5.0, 5.0, 3.0, 3.0, 2.0, 5.0, 3.0, 5.0, 5.0, 5.0, 4.0, 1.0, 5.0, 5.0, 1.0, 5.0, 5.0, 2.0, 4.0, 5.0, 5.0, 4.0, 5.0, 5.0, 5.0, 5.0, 5.0, 5.0, 4.0, 3.0, 5.0, 4.0, 5.0, 5.0, 5.0, 5.0, 5.0, 1.0, 2.0, 5.0, 4.0, 5.0, 4.0, 5.0, 5.0, 5.0, 3.0, 4.0, 5.0, 5.0, 3.0, 2.0, 5.0, 4.0, 4.0, 5.0, 3.0, 2.0, 5.0, 5.0, 5.0, 4.0, 4.0, 4.0, 3.0, 5.0, 4.0, 5.0, 1.0, 4.0, 5.0, 4.0, 3.0, 4.0, 1.0, 3.0, 4.0, 5.0, 4.0, 5.0, 1.0, 4.0, 3.0, 5.0, 3.0, 2.0, 4.0, 4.0, 4.0, 1.0, 4.0, 3.0, 5.0, 5.0, 3.0, 1.0, 5.0, 5.0, 4.0, 5.0, 3.0, 2.0, 4.0, 3.0, 4.0, 1.0, 5.0, 1.0, 5.0, 5.0, 5.0, 3.0, 3.0, 5.0, 5.0, 4.0, 4.0, 4.0, 3.0, 5.0, 5.0, 5.0, 1.0, 3.0, 3.0, 5.0, 4.0, 5.0, 5.0, 1.0, 5.0, 4.0, 3.0, 1.0, 4.0, 5.0, 3.0, 2.0, 2.0, 4.0, 1.0, 5.0, 5.0, 5.0, 3.0, 4.0, 4.0, 4.0, 5.0, 4.0, 2.0, 5.0, 3.0, 5.0, 4.0, 3.0, 3.0, 5.0, 5.0, 5.0, 4.0, 5.0, 5.0, 5.0, 3.0, 5.0, 4.0, 5.0, 2.0, 3.0, 5.0, 5.0, 5.0, 3.0, 3.0, 4.0, 5.0, 4.0, 5.0, 5.0, 3.0, 5.0, 4.0, 5.0, 4.0, 5.0, 1.0, 1.0, 1.0, 4.0, 4.0, 3.0, 4.0, 5.0, 5.0, 4.0, 5.0, 5.0, 5.0, 1.0, 2.0, 5.0, 4.0, 5.0, 4.0, 3.0, 4.0, 5.0, 1.0, 5.0, 1.0, 5.0, 5.0, 5.0, 5.0, 1.0, 5.0, 4.0, 5.0, 3.0, 5.0, 4.0, 5.0, 5.0, 3.0, 5.0, 5.0, 4.0, 5.0, 1.0, 4.0, 4.0, 4.0, 5.0, 4.0, 5.0, 4.0, 5.0, 5.0, 3.0, 1.0, 1.0, 5.0, 5.0, 4.0, 2.0, 5.0, 4.0, 3.0, 5.0, 5.0, 5.0, 4.0, 2.0, 4.0, 5.0, 2.0, 5.0, 3.0, 4.0, 5.0, 3.0, 5.0, 5.0, 3.0, 1.0, 5.0, 1.0, 4.0, 2.0, 2.0, 3.0, 4.0, 5.0, 5.0, 1.0, 4.0, 3.0, 1.0, 4.0, 3.0, 4.0, 4.0, 1.0, 1.0, 5.0, 2.0, 5.0, 2.0, 1.0, 5.0, 5.0, 4.0, 5.0, 4.0, 4.0, 5.0, 2.0, 5.0, 1.0, 5.0, 1.0, 1.0, 3.0, 4.0, 5.0, 4.0, 4.0, 5.0, 4.0, 3.0, 5.0, 3.0, 4.0, 3.0, 4.0, 3.0, 4.0, 5.0, 5.0, 5.0, 3.0, 5.0, 4.0, 5.0, 5.0, 5.0, 5.0, 5.0, 5.0, 5.0, 5.0, 4.0, 5.0, 4.0, 1.0, 4.0, 3.0, 5.0, 5.0, 4.0, 4.0, 4.0, 2.0, 5.0, 4.0, 5.0, 4.0, 4.0, 3.0, 5.0, 5.0, 5.0, 1.0, 2.0, 4.0, 5.0, 4.0, 5.0, 5.0, 5.0, 5.0, 3.0, 4.0, 5.0, 5.0, 4.0, 5.0, 3.0, 5.0, 4.0, 2.0, 4.0, 4.0, 5.0, 3.0, 3.0, 4.0, 5.0, 5.0, 5.0, 5.0, 5.0, 3.0, 5.0, 5.0, 5.0, 4.0, 5.0, 5.0, 3.0, 4.0, 3.0, 5.0, 3.0, 5.0, 3.0, 4.0, 5.0, 5.0, 3.0, 3.0, 4.0, 3.0, 4.0, 5.0, 2.0, 5.0, 5.0, 5.0, 5.0, 5.0, 5.0, 5.0, 3.0, 3.0, 5.0, 4.0, 4.0, 5.0, 2.0, 4.0, 4.0, 4.0, 4.0, 5.0, 4.0, 4.0, 5.0, 4.0, 4.0, 5.0, 4.0, 4.0, 4.0, 4.0, 5.0, 3.0, 4.0, 4.0, 5.0, 4.0, 1.0, 5.0, 3.0, 4.0, 4.0, 5.0, 4.0, 2.0, 4.0, 5.0, 5.0, 3.0, 4.0, 4.0, 3.0, 5.0, 5.0, 1.0, 5.0, 3.0, 3.0, 3.0, 1.0, 5.0, 5.0, 5.0, 4.0, 4.0, 5.0, 4.0, 5.0, 5.0, 4.0, 5.0, 4.0, 5.0, 5.0, 5.0, 3.0, 2.0, 5.0, 5.0, 3.0, 2.0, 5.0, 3.0, 2.0, 5.0, 2.0, 5.0, 4.0, 4.0, 4.0, 1.0, 4.0, 5.0, 2.0, 3.0, 1.0, 4.0, 3.0, 5.0, 5.0, 5.0, 4.0, 5.0, 3.0, 4.0, 4.0, 5.0, 3.0, 3.0, 3.0, 4.0, 4.0, 4.0, 5.0, 4.0, 3.0, 2.0, 5.0, 3.0, 1.0, 5.0, 5.0, 5.0, 4.0, 5.0, 5.0, 5.0, 2.0, 2.0, 2.0, 3.0, 4.0, 5.0, 5.0, 5.0, 3.0, 2.0, 4.0, 4.0, 3.0, 4.0, 1.0, 3.0, 5.0, 4.0, 4.0, 5.0, 5.0, 3.0, 5.0, 4.0, 1.0, 5.0, 5.0, 2.0, 2.0, 2.0, 5.0, 4.0, 3.0, 5.0, 5.0, 4.0, 5.0, 5.0, 2.0, 5.0, 3.0, 4.0, 5.0, 4.0, 4.0, 5.0, 4.0, 5.0, 1.0, 5.0, 4.0, 4.0, 5.0, 4.0, 2.0, 3.0, 5.0, 3.0, 5.0, 4.0, 3.0, 4.0, 3.0, 5.0, 2.0, 5.0, 5.0, 5.0, 5.0, 5.0, 5.0, 4.0, 5.0, 5.0, 5.0, 4.0, 3.0, 4.0, 1.0, 5.0, 3.0, 4.0, 4.0, 3.0, 1.0, 5.0, 4.0, 5.0, 4.0, 3.0, 2.0, 1.0, 3.0, 5.0, 4.0, 5.0, 4.0, 4.0, 5.0, 5.0, 5.0, 5.0, 4.0, 1.0, 5.0, 5.0, 5.0, 2.0, 5.0, 3.0, 5.0, 4.0, 4.0, 5.0, 5.0, 4.0, 5.0, 5.0, 3.0, 2.0, 3.0, 1.0, 5.0, 2.0, 3.0, 4.0, 5.0, 4.0, 1.0, 5.0, 3.0, 5.0, 3.0, 5.0, 4.0, 3.0, 5.0, 4.0, 5.0, 4.0, 3.0, 5.0, 4.0, 3.0, 5.0, 5.0, 4.0, 5.0, 5.0, 3.0, 5.0, 4.0, 4.0, 5.0, 4.0, 5.0, 2.0, 5.0, 4.0, 5.0, 5.0, 4.0, 5.0, 5.0, 5.0, 5.0, 1.0, 5.0, 2.0, 5.0, 5.0, 4.0, 5.0, 3.0, 4.0, 5.0, 1.0, 5.0, 5.0, 5.0, 4.0, 1.0, 1.0, 4.0, 5.0, 5.0, 5.0, 4.0, 3.0, 5.0, 3.0, 3.0, 5.0, 2.0, 4.0, 5.0, 5.0, 4.0, 4.0, 1.0, 5.0, 5.0, 2.0, 5.0, 5.0, 5.0, 3.0, 5.0, 5.0, 5.0, 5.0, 2.0, 5.0, 5.0, 5.0, 1.0, 5.0, 4.0, 5.0, 2.0, 5.0, 5.0, 4.0, 5.0, 5.0, 4.0, 5.0, 3.0, 4.0, 5.0, 5.0, 5.0, 5.0, 5.0, 2.0, 5.0, 3.0, 4.0, 5.0, 5.0, 5.0, 5.0, 5.0, 4.0, 5.0, 5.0, 3.0, 5.0, 4.0, 2.0, 5.0, 3.0, 3.0, 5.0, 2.0, 4.0, 4.0, 2.0, 5.0, 4.0, 3.0, 5.0, 5.0, 3.0, 5.0, 2.0, 5.0, 4.0, 5.0, 4.0, 2.0, 3.0, 4.0, 5.0, 4.0, 2.0, 5.0, 3.0, 2.0, 5.0, 5.0, 5.0, 5.0, 5.0, 5.0, 4.0, 4.0, 3.0, 1.0, 4.0, 5.0, 5.0, 5.0, 4.0, 5.0, 1.0, 2.0, 1.0, 3.0, 5.0, 4.0, 4.0, 5.0, 2.0, 5.0, 4.0, 2.0, 5.0, 3.0, 5.0, 4.0, 2.0, 4.0, 1.0, 3.0, 3.0, 4.0, 5.0, 4.0, 2.0, 2.0, 4.0, 1.0, 3.0, 4.0, 5.0, 5.0, 5.0, 5.0, 1.0, 5.0, 2.0, 5.0, 3.0, 1.0, 4.0, 5.0, 4.0, 5.0, 4.0, 5.0, 4.0, 5.0, 1.0, 4.0, 2.0, 3.0, 1.0, 1.0, 4.0, 2.0, 2.0, 5.0, 5.0, 5.0, 5.0, 4.0, 5.0, 4.0, 5.0, 1.0, 4.0, 4.0, 4.0, 2.0, 5.0, 4.0, 3.0, 2.0, 5.0, 1.0, 5.0, 5.0, 3.0, 5.0, 4.0, 5.0, 3.0, 4.0, 5.0, 5.0, 5.0, 5.0, 2.0, 4.0, 4.0, 5.0, 5.0, 1.0, 4.0, 4.0, 4.0, 5.0, 2.0, 5.0, 4.0, 3.0, 4.0, 4.0, 5.0, 5.0, 4.0, 1.0, 3.0, 5.0, 5.0, 1.0, 1.0, 5.0, 5.0, 5.0, 4.0, 5.0, 5.0, 5.0, 3.0, 1.0, 5.0, 4.0, 1.0, 1.0, 4.0, 4.0, 5.0, 5.0, 5.0, 4.0, 3.0, 4.0, 4.0, 5.0, 4.0, 5.0, 3.0, 2.0, 5.0, 5.0, 2.0, 4.0, 4.0, 2.0, 5.0, 4.0, 4.0, 1.0, 5.0, 1.0, 4.0, 5.0, 4.0, 1.0, 2.0, 4.0, 3.0, 4.0, 5.0, 5.0, 2.0, 5.0, 5.0, 3.0, 4.0, 4.0, 5.0, 5.0, 5.0, 1.0, 4.0, 4.0, 5.0, 3.0, 5.0, 2.0, 4.0, 3.0, 3.0, 5.0, 3.0, 3.0, 5.0, 4.0, 5.0, 4.0, 5.0, 4.0, 5.0, 3.0, 4.0, 4.0, 4.0, 4.0, 5.0, 5.0, 3.0, 2.0, 5.0, 3.0, 5.0, 4.0, 4.0, 1.0, 3.0, 2.0, 2.0, 4.0, 4.0, 2.0, 3.0, 5.0, 4.0, 1.0, 5.0, 4.0, 4.0, 5.0, 5.0, 5.0, 4.0, 4.0, 4.0, 5.0, 4.0, 1.0, 4.0, 5.0, 4.0, 4.0, 5.0, 1.0, 3.0, 3.0, 3.0, 1.0, 4.0, 1.0, 4.0, 5.0, 5.0, 5.0, 5.0, 4.0, 4.0, 4.0, 5.0, 3.0, 3.0, 5.0, 2.0, 5.0, 5.0, 5.0, 5.0, 3.0, 5.0, 5.0, 5.0, 1.0, 3.0, 5.0, 5.0, 3.0, 1.0, 4.0, 5.0, 5.0, 4.0, 4.0, 5.0, 1.0, 4.0, 5.0, 5.0, 5.0, 5.0, 2.0, 4.0, 5.0, 3.0, 5.0, 4.0, 2.0, 1.0, 4.0, 5.0, 5.0, 4.0, 5.0, 3.0, 3.0, 3.0, 4.0, 1.0, 1.0, 2.0, 5.0, 5.0, 1.0, 5.0, 5.0, 4.0, 1.0, 3.0, 4.0, 5.0, 5.0, 4.0, 4.0, 5.0, 3.0, 4.0, 5.0, 4.0, 4.0]\n"
     ]
    }
   ],
   "source": [
    "X_train, X_test, y_train, y_test, ratings_train, ratings_test = train_test_split(X, Y, ratings,\n",
    "                                                                                 test_size=TEST_PROPORTION)\n",
    "\n",
    "print(len(X_train))\n",
    "print(len(X_test))\n",
    "\n",
    "print(y_train.loc[0,:])\n",
    "\n",
    "print(np.unique(y_train, return_counts=True))\n",
    "print(np.unique(y_test, return_counts=True))\n",
    "\n",
    "print(ratings_train)"
   ]
  },
  {
   "cell_type": "markdown",
   "metadata": {},
   "source": [
    "#### 4.5.3 Fitting and Evaluating the Model"
   ]
  },
  {
   "cell_type": "code",
   "execution_count": 654,
   "metadata": {},
   "outputs": [
    {
     "name": "stdout",
     "output_type": "stream",
     "text": [
      "_________________________________________________________________\n",
      "Layer (type)                 Output Shape              Param #   \n",
      "=================================================================\n",
      "embedding_20 (Embedding)     (None, 100, 256)          768000    \n",
      "_________________________________________________________________\n",
      "lstm_13 (LSTM)               (None, 200)               365600    \n",
      "_________________________________________________________________\n",
      "dense_11 (Dense)             (None, 16)                3216      \n",
      "_________________________________________________________________\n",
      "dropout_2 (Dropout)          (None, 16)                0         \n",
      "_________________________________________________________________\n",
      "dense_12 (Dense)             (None, 5)                 85        \n",
      "=================================================================\n",
      "Total params: 1,136,901\n",
      "Trainable params: 1,136,901\n",
      "Non-trainable params: 0\n",
      "_________________________________________________________________\n"
     ]
    }
   ],
   "source": [
    "\n",
    "model = Sequential()\n",
    "\n",
    "model.add(Embedding(TK_INDEX_SIZE, EMBEDDING_OUTPUT_SIZE, input_length=X_train.shape[1]))\n",
    "model.add(LSTM(200, dropout=0.2))\n",
    "model.add(Dense(16, activation=\"relu\"))\n",
    "model.add(Dropout(0.2))\n",
    "model.add(Dense(5, activation=\"softmax\"))\n",
    "\n",
    "model.summary()\n",
    "\n",
    "model.compile(\"adam\", loss=\"categorical_crossentropy\", metrics=[\"accuracy\"])\n"
   ]
  },
  {
   "cell_type": "code",
   "execution_count": 655,
   "metadata": {
    "scrolled": true
   },
   "outputs": [
    {
     "data": {
      "application/vnd.jupyter.widget-view+json": {
       "model_id": "92c7a5228d65472fb0b3a90a3d229d97",
       "version_major": 2,
       "version_minor": 0
      },
      "text/plain": [
       "HBox(children=(IntProgress(value=0, description='Training', max=5, style=ProgressStyle(description_width='init…"
      ]
     },
     "metadata": {},
     "output_type": "display_data"
    },
    {
     "data": {
      "application/vnd.jupyter.widget-view+json": {
       "model_id": "",
       "version_major": 2,
       "version_minor": 0
      },
      "text/plain": [
       "HBox(children=(IntProgress(value=0, description='Epoch 0', max=25667, style=ProgressStyle(description_width='i…"
      ]
     },
     "metadata": {},
     "output_type": "display_data"
    },
    {
     "data": {
      "application/vnd.jupyter.widget-view+json": {
       "model_id": "",
       "version_major": 2,
       "version_minor": 0
      },
      "text/plain": [
       "HBox(children=(IntProgress(value=0, description='Epoch 1', max=25667, style=ProgressStyle(description_width='i…"
      ]
     },
     "metadata": {},
     "output_type": "display_data"
    },
    {
     "data": {
      "application/vnd.jupyter.widget-view+json": {
       "model_id": "",
       "version_major": 2,
       "version_minor": 0
      },
      "text/plain": [
       "HBox(children=(IntProgress(value=0, description='Epoch 2', max=25667, style=ProgressStyle(description_width='i…"
      ]
     },
     "metadata": {},
     "output_type": "display_data"
    },
    {
     "data": {
      "application/vnd.jupyter.widget-view+json": {
       "model_id": "",
       "version_major": 2,
       "version_minor": 0
      },
      "text/plain": [
       "HBox(children=(IntProgress(value=0, description='Epoch 3', max=25667, style=ProgressStyle(description_width='i…"
      ]
     },
     "metadata": {},
     "output_type": "display_data"
    },
    {
     "data": {
      "application/vnd.jupyter.widget-view+json": {
       "model_id": "",
       "version_major": 2,
       "version_minor": 0
      },
      "text/plain": [
       "HBox(children=(IntProgress(value=0, description='Epoch 4', max=25667, style=ProgressStyle(description_width='i…"
      ]
     },
     "metadata": {},
     "output_type": "display_data"
    },
    {
     "data": {
      "text/plain": [
       "<keras.callbacks.History at 0x2008721eda0>"
      ]
     },
     "execution_count": 655,
     "metadata": {},
     "output_type": "execute_result"
    }
   ],
   "source": [
    "model.fit(X_train, y_train, epochs=5, verbose=0, callbacks=[TQDMNotebookCallback()])"
   ]
  },
  {
   "cell_type": "code",
   "execution_count": 657,
   "metadata": {},
   "outputs": [
    {
     "name": "stdout",
     "output_type": "stream",
     "text": [
      "8556/8556 [==============================] - ETA: 3: - ETA: 2: - ETA: 1: - ETA: 1: - ETA: 1: - ETA: 1: - ETA: 55s - ETA: 51 - ETA: 49 - ETA: 47 - ETA: 45 - ETA: 44 - ETA: 42 - ETA: 41 - ETA: 40 - ETA: 39 - ETA: 38 - ETA: 37 - ETA: 36 - ETA: 35 - ETA: 35 - ETA: 34 - ETA: 34 - ETA: 33 - ETA: 33 - ETA: 32 - ETA: 32 - ETA: 31 - ETA: 31 - ETA: 30 - ETA: 30 - ETA: 30 - ETA: 29 - ETA: 29 - ETA: 29 - ETA: 28 - ETA: 28 - ETA: 28 - ETA: 28 - ETA: 27 - ETA: 27 - ETA: 27 - ETA: 27 - ETA: 26 - ETA: 26 - ETA: 26 - ETA: 26 - ETA: 26 - ETA: 26 - ETA: 25 - ETA: 25 - ETA: 25 - ETA: 25 - ETA: 25 - ETA: 25 - ETA: 24 - ETA: 24 - ETA: 24 - ETA: 24 - ETA: 24 - ETA: 23 - ETA: 23 - ETA: 23 - ETA: 23 - ETA: 23 - ETA: 23 - ETA: 23 - ETA: 22 - ETA: 22 - ETA: 22 - ETA: 22 - ETA: 22 - ETA: 22 - ETA: 21 - ETA: 21 - ETA: 21 - ETA: 21 - ETA: 21 - ETA: 21 - ETA: 21 - ETA: 20 - ETA: 20 - ETA: 20 - ETA: 20 - ETA: 20 - ETA: 20 - ETA: 20 - ETA: 20 - ETA: 19 - ETA: 19 - ETA: 19 - ETA: 19 - ETA: 19 - ETA: 19 - ETA: 19 - ETA: 18 - ETA: 18 - ETA: 18 - ETA: 18 - ETA: 18 - ETA: 18 - ETA: 18 - ETA: 18 - ETA: 17 - ETA: 17 - ETA: 17 - ETA: 17 - ETA: 17 - ETA: 17 - ETA: 17 - ETA: 17 - ETA: 16 - ETA: 16 - ETA: 16 - ETA: 16 - ETA: 16 - ETA: 16 - ETA: 16 - ETA: 16 - ETA: 16 - ETA: 15 - ETA: 15 - ETA: 15 - ETA: 15 - ETA: 15 - ETA: 15 - ETA: 15 - ETA: 15 - ETA: 14 - ETA: 14 - ETA: 14 - ETA: 14 - ETA: 14 - ETA: 14 - ETA: 14 - ETA: 14 - ETA: 14 - ETA: 13 - ETA: 13 - ETA: 13 - ETA: 13 - ETA: 13 - ETA: 13 - ETA: 13 - ETA: 13 - ETA: 12 - ETA: 12 - ETA: 12 - ETA: 12 - ETA: 12 - ETA: 12 - ETA: 12 - ETA: 12 - ETA: 12 - ETA: 12 - ETA: 11 - ETA: 11 - ETA: 11 - ETA: 11 - ETA: 11 - ETA: 11 - ETA: 11 - ETA: 11 - ETA: 11 - ETA: 10 - ETA: 10 - ETA: 10 - ETA: 10 - ETA: 10 - ETA: 10 - ETA: 10 - ETA: 10 - ETA: 10 - ETA: 10 - ETA: 9 - ETA:  - ETA:  - ETA:  - ETA:  - ETA:  - ETA:  - ETA:  - ETA:  - ETA:  - ETA:  - ETA:  - ETA:  - ETA:  - ETA:  - ETA:  - ETA:  - ETA:  - ETA:  - ETA:  - ETA:  - ETA:  - ETA:  - ETA:  - ETA:  - ETA:  - ETA:  - ETA:  - ETA:  - ETA:  - ETA:  - ETA:  - ETA:  - ETA:  - ETA:  - ETA:  - ETA:  - ETA:  - ETA:  - ETA:  - ETA:  - ETA:  - ETA:  - ETA:  - ETA:  - ETA:  - ETA:  - ETA:  - ETA:  - ETA:  - ETA:  - ETA:  - ETA:  - ETA:  - ETA:  - ETA:  - ETA:  - ETA:  - ETA:  - ETA:  - ETA:  - ETA:  - ETA:  - ETA:  - ETA:  - ETA:  - ETA:  - ETA:  - ETA:  - ETA:  - ETA:  - ETA:  - ETA:  - ETA:  - ETA:  - ETA:  - ETA:  - ETA:  - ETA:  - ETA:  - ETA:  - ETA:  - ETA:  - ETA:  - ETA:  - ETA:  - ETA:  - ETA:  - ETA:  - ETA:  - ETA:  - ETA:  - ETA:  - 28s 3ms/step\n"
     ]
    }
   ],
   "source": [
    "score, acc = model.evaluate(X_test, y_test)"
   ]
  },
  {
   "cell_type": "code",
   "execution_count": 658,
   "metadata": {},
   "outputs": [
    {
     "name": "stdout",
     "output_type": "stream",
     "text": [
      "Score: 1.09\n",
      "Accuracy: 0.56\n"
     ]
    }
   ],
   "source": [
    "print(\"Score: {:.2f}\".format(score))\n",
    "print(\"Accuracy: {:.2f}\".format(acc))"
   ]
  },
  {
   "cell_type": "code",
   "execution_count": 659,
   "metadata": {},
   "outputs": [
    {
     "name": "stdout",
     "output_type": "stream",
     "text": [
      "(100,)\n",
      "[   0    0    0    0    0    0    0    0    0    0    0    0    0    0\n",
      "    0    0    0    0    0    0    0    0    0    0    0    0    0    0\n",
      "    0    0    0    0    0    0    0    0    0    0    0    0   32 1821\n",
      "    2    7   17    6  169   11    4 1337  224    8  212    6  187  342\n",
      "  378  217    2  464    1    9    3  351   15  335   74   15   26  790\n",
      "   26   91  787   21  790  155 1139    2 1211    6    1  229  356   13\n",
      "  313  361    1  831    2    9  549   26    4 1027  454  315  118    5\n",
      "   51   18]\n"
     ]
    }
   ],
   "source": [
    "print(X_test[0,:].shape)\n",
    "\n",
    "print(X_test[0,:])\n",
    "\n",
    "predictions = model.predict(X_test)\n",
    "\n",
    "\n",
    "    "
   ]
  },
  {
   "cell_type": "code",
   "execution_count": 660,
   "metadata": {},
   "outputs": [
    {
     "name": "stdout",
     "output_type": "stream",
     "text": [
      "0\n",
      "[0.31994954 0.48303267 0.17991485 0.0114965  0.0056065 ] 1.0\n",
      "4\n",
      "[0.8914938  0.09372319 0.01162889 0.00147367 0.00168044] 1.0\n",
      "18\n",
      "[0.03274941 0.2775603  0.6079017  0.07824375 0.00354484] 1.0\n",
      "37\n",
      "[0.75887465 0.19560617 0.036392   0.00412469 0.0050025 ] 1.0\n",
      "43\n",
      "[0.35398006 0.362856   0.19494388 0.04808769 0.04013243] 1.0\n",
      "49\n",
      "[5.4648815e-04 3.5717807e-04 3.1736463e-03 7.2130524e-02 9.2379212e-01] 1.0\n",
      "64\n",
      "[0.5972754  0.2925392  0.0871968  0.01230846 0.01068009] 1.0\n",
      "77\n",
      "[0.4705811  0.32315344 0.14147684 0.03497807 0.0298105 ] 1.0\n",
      "81\n",
      "[9.0756571e-01 8.2131155e-02 8.5330624e-03 8.4318675e-04 9.2682196e-04] 1.0\n",
      "102\n",
      "[0.45280546 0.44012746 0.10273761 0.00310005 0.00122936] 1.0\n",
      "105\n",
      "[0.43282217 0.4414504  0.11768227 0.00493926 0.00310586] 1.0\n",
      "106\n",
      "[0.13290556 0.20378833 0.3081226  0.1800027  0.17518088] 1.0\n",
      "111\n",
      "[8.9464408e-01 9.7786538e-02 7.1887630e-03 2.0542371e-04 1.7525385e-04] 1.0\n",
      "119\n",
      "[0.27447298 0.32260498 0.23005052 0.09539586 0.07747562] 1.0\n",
      "126\n",
      "[0.85327613 0.12666634 0.01689055 0.00156248 0.00160454] 1.0\n",
      "146\n",
      "[8.6517324e-04 6.6865346e-04 6.9062538e-03 1.1768420e-01 8.7387568e-01] 1.0\n",
      "160\n",
      "[0.6274321  0.2376034  0.07393321 0.02458692 0.03644435] 1.0\n",
      "164\n",
      "[0.41744465 0.4652083  0.11316845 0.00318264 0.00099594] 1.0\n",
      "168\n",
      "[0.00204175 0.00243401 0.03478514 0.35094652 0.60979265] 1.0\n",
      "171\n",
      "[0.7421768  0.22240978 0.03282679 0.00148172 0.00110497] 1.0\n",
      "180\n",
      "[0.6940976  0.236907   0.05562177 0.00703518 0.00633843] 1.0\n",
      "181\n",
      "[0.1241412  0.45325157 0.3510144  0.06030072 0.0112921 ] 1.0\n",
      "184\n",
      "[0.04571967 0.14365071 0.47526053 0.30315408 0.03221506] 1.0\n",
      "195\n",
      "[0.27206093 0.2927439  0.1784883  0.09661452 0.16009234] 1.0\n",
      "208\n",
      "[0.29219794 0.4364606  0.2245028  0.03135693 0.0154818 ] 1.0\n",
      "212\n",
      "[0.35035872 0.40778258 0.2204592  0.0196148  0.00178476] 1.0\n",
      "216\n",
      "[9.5059866e-01 4.6873819e-02 2.3374043e-03 8.2526138e-05 1.0768180e-04] 1.0\n",
      "253\n",
      "[0.34945667 0.21891081 0.133696   0.12996495 0.16797157] 1.0\n",
      "258\n",
      "[0.02768259 0.02809488 0.07359809 0.22925133 0.6413731 ] 1.0\n",
      "264\n",
      "[0.45507294 0.44121838 0.09936496 0.00283052 0.00151318] 1.0\n",
      "295\n",
      "[0.2566101  0.3849079  0.33468926 0.02020379 0.00358891] 1.0\n",
      "310\n",
      "[0.36753407 0.4669463  0.1528372  0.00836616 0.00431629] 1.0\n",
      "329\n",
      "[0.47914925 0.4153158  0.09981149 0.00373792 0.00198554] 1.0\n",
      "330\n",
      "[0.22949333 0.46037555 0.26821738 0.03087097 0.01104278] 1.0\n",
      "352\n",
      "[0.47434542 0.38989124 0.11912838 0.00939641 0.00723848] 1.0\n",
      "354\n",
      "[0.6570272  0.2713887  0.06227203 0.00548361 0.00382843] 1.0\n",
      "358\n",
      "[0.21401191 0.5331069  0.23549907 0.01402646 0.00335567] 1.0\n",
      "365\n",
      "[0.486073   0.36540896 0.12141898 0.01292539 0.01417371] 1.0\n",
      "389\n",
      "[0.00580803 0.13456127 0.56768334 0.27842784 0.01351952] 1.0\n",
      "407\n",
      "[0.30557275 0.27141815 0.19801591 0.1243271  0.10066613] 1.0\n",
      "417\n",
      "[0.574173   0.30770743 0.09520007 0.01280723 0.01011232] 1.0\n",
      "420\n",
      "[9.4170309e-06 1.1042364e-04 3.3388186e-02 7.8625429e-01 1.8023773e-01] 1.0\n",
      "425\n",
      "[0.5956735  0.2676182  0.09358213 0.02305756 0.02006852] 1.0\n",
      "429\n",
      "[0.595851   0.27446744 0.0904873  0.01982179 0.01937247] 1.0\n",
      "487\n",
      "[0.00732877 0.13216849 0.7719206  0.0874494  0.00113274] 1.0\n",
      "494\n",
      "[0.10942461 0.47889552 0.3827389  0.0258419  0.003099  ] 1.0\n",
      "523\n",
      "[0.76758957 0.18727991 0.03607633 0.00445721 0.004597  ] 1.0\n",
      "530\n",
      "[2.7966104e-05 2.3326435e-05 9.6654310e-04 5.2579682e-02 9.4640249e-01] 1.0\n",
      "569\n",
      "[0.30893502 0.4396754  0.20993192 0.02637303 0.01508473] 1.0\n",
      "582\n",
      "[3.0161516e-04 2.0409920e-04 1.8101295e-03 3.9340854e-02 9.5834333e-01] 1.0\n",
      "584\n",
      "[0.02478908 0.16423097 0.5683023  0.21720098 0.02547666] 1.0\n",
      "606\n",
      "[0.2884043  0.39088902 0.23566003 0.05485893 0.03018782] 1.0\n",
      "623\n",
      "[0.5174014  0.32089257 0.11692505 0.02136273 0.02341833] 1.0\n",
      "643\n",
      "[0.66958916 0.24954337 0.06511166 0.00889515 0.00686064] 1.0\n",
      "651\n",
      "[0.52950025 0.33149225 0.10958865 0.01522789 0.01419098] 1.0\n",
      "674\n",
      "[0.20623508 0.58299947 0.20278442 0.00661987 0.00136111] 1.0\n",
      "677\n",
      "[0.8416432  0.13813584 0.01757236 0.00128929 0.00135925] 1.0\n",
      "687\n",
      "[0.16834153 0.52173716 0.28577313 0.02038607 0.00376219] 1.0\n",
      "689\n",
      "[0.33307716 0.52038664 0.14165    0.00406328 0.00082289] 1.0\n",
      "720\n",
      "[0.7313052  0.19448128 0.04971217 0.01146061 0.01304077] 1.0\n",
      "763\n",
      "[0.3576026  0.29763734 0.30304438 0.03586449 0.00585122] 1.0\n",
      "781\n",
      "[0.07684579 0.17296554 0.37765053 0.27876934 0.09376881] 1.0\n",
      "793\n",
      "[4.1080028e-04 3.0737719e-04 5.0653415e-03 1.1152693e-01 8.8268954e-01] 1.0\n",
      "802\n",
      "[0.6668421  0.27728644 0.05032342 0.00268318 0.00286487] 1.0\n",
      "809\n",
      "[0.04460276 0.31543997 0.57003117 0.06657107 0.00335494] 1.0\n",
      "814\n",
      "[0.02811631 0.27158743 0.6262322  0.06966923 0.00439481] 1.0\n",
      "816\n",
      "[0.02305646 0.19031765 0.57222134 0.20176753 0.012637  ] 1.0\n",
      "823\n",
      "[0.17711511 0.19934571 0.1847914  0.20704395 0.23170374] 1.0\n",
      "830\n",
      "[0.19810978 0.52377546 0.25353944 0.01936081 0.00521453] 1.0\n",
      "837\n",
      "[0.56355315 0.32809508 0.09277318 0.008971   0.00660769] 1.0\n",
      "845\n",
      "[7.0801103e-01 2.6505786e-01 2.6459916e-02 3.1723935e-04 1.5398567e-04] 1.0\n",
      "853\n",
      "[0.458715   0.388526   0.13153565 0.01281597 0.00840742] 1.0\n",
      "854\n",
      "[0.51233935 0.2935189  0.12198398 0.03462376 0.037534  ] 1.0\n",
      "856\n",
      "[8.6745238e-01 1.2244416e-01 9.6348161e-03 2.4526031e-04 2.2332676e-04] 1.0\n",
      "867\n",
      "[0.6779735  0.2774223  0.04215698 0.00136288 0.00108438] 1.0\n",
      "875\n",
      "[0.6311235  0.31443036 0.05186465 0.0015463  0.00103524] 1.0\n",
      "878\n",
      "[9.4485152e-01 5.2197397e-02 2.7259563e-03 9.6083233e-05 1.2913172e-04] 1.0\n",
      "910\n",
      "[0.42009324 0.47412708 0.10172223 0.00244359 0.00161385] 1.0\n",
      "923\n",
      "[0.18054509 0.1440112  0.16975069 0.30385643 0.20183656] 1.0\n",
      "935\n",
      "[3.3807483e-01 5.4209715e-01 1.1759707e-01 1.7378096e-03 4.9315381e-04] 1.0\n",
      "962\n",
      "[0.43338344 0.35755703 0.15322973 0.02876744 0.02706231] 1.0\n",
      "963\n",
      "[7.0785707e-01 2.4737099e-01 4.2342279e-02 1.8891720e-03 5.4046302e-04] 1.0\n",
      "971\n",
      "[0.24858342 0.39138374 0.32121134 0.03048226 0.00833932] 1.0\n",
      "978\n",
      "[0.40283155 0.46541825 0.12515356 0.00451476 0.00208184] 1.0\n",
      "992\n",
      "[9.6511048e-01 3.3342049e-02 1.3982320e-03 5.8099646e-05 9.1175039e-05] 1.0\n",
      "998\n",
      "[0.19840728 0.5482178  0.23721631 0.01277451 0.00338419] 1.0\n",
      "1000\n",
      "[0.7149473  0.23234457 0.04410889 0.00386384 0.00473535] 1.0\n",
      "1048\n",
      "[0.5026564  0.3343858  0.12188406 0.02055082 0.02052298] 1.0\n",
      "1063\n",
      "[0.5941686  0.3177924  0.07924063 0.00574865 0.00304974] 1.0\n",
      "1064\n",
      "[9.4767076e-01 4.9095999e-02 2.9974144e-03 1.3367026e-04 1.0214059e-04] 1.0\n",
      "1070\n",
      "[0.26483116 0.4061073  0.24775521 0.05296819 0.02833807] 1.0\n",
      "1081\n",
      "[0.6817022  0.26901478 0.04465732 0.00220143 0.00242432] 1.0\n",
      "1083\n",
      "[0.5334903  0.38712308 0.07569319 0.00233226 0.00136123] 1.0\n",
      "1094\n",
      "[8.4361327e-01 1.3687924e-01 1.7596433e-02 1.1635185e-03 7.4755773e-04] 1.0\n",
      "1100\n",
      "[0.60408264 0.33598736 0.05662388 0.0017012  0.00160495] 1.0\n",
      "1105\n",
      "[8.9472079e-01 9.7714722e-02 7.2107268e-03 2.0547972e-04 1.4823259e-04] 1.0\n",
      "1108\n",
      "[0.629138   0.27419084 0.07619064 0.01076596 0.00971461] 1.0\n",
      "1114\n",
      "[0.24372429 0.4345256  0.2510092  0.04552953 0.02521146] 1.0\n",
      "1115\n",
      "[0.70197076 0.24943163 0.04407109 0.00252224 0.0020043 ] 1.0\n",
      "1124\n",
      "[0.7691952  0.18338019 0.03541563 0.00501719 0.00699184] 1.0\n",
      "1133\n",
      "[0.62477225 0.30125    0.06549891 0.00432193 0.00415686] 1.0\n",
      "1150\n",
      "[0.14707978 0.45377102 0.33295718 0.05554495 0.01064708] 1.0\n",
      "1168\n",
      "[0.41655523 0.398568   0.13349377 0.01894049 0.0324426 ] 1.0\n",
      "1173\n",
      "[0.72186327 0.22920759 0.04342765 0.0031964  0.00230504] 1.0\n",
      "1175\n",
      "[0.0332544  0.31881544 0.5290297  0.1101918  0.00870863] 1.0\n",
      "1177\n",
      "[0.47827938 0.41946235 0.09664397 0.00339081 0.00222348] 1.0\n",
      "1180\n",
      "[0.04057245 0.2707171  0.6373325  0.04960765 0.00177027] 1.0\n",
      "1191\n",
      "[0.6018696  0.2451274  0.09216346 0.03076929 0.03007023] 1.0\n",
      "1208\n",
      "[0.74278474 0.19446848 0.04482735 0.00821736 0.00970212] 1.0\n",
      "1212\n",
      "[0.62193114 0.2726121  0.08119413 0.01308263 0.01118011] 1.0\n",
      "1236\n",
      "[0.00645234 0.04628921 0.81938845 0.1211288  0.00674118] 1.0\n",
      "1242\n",
      "[0.46791813 0.41644767 0.10740173 0.00497669 0.00325582] 1.0\n",
      "1254\n",
      "[0.48127738 0.20803697 0.13666001 0.10197618 0.0720494 ] 1.0\n",
      "1265\n",
      "[0.6444644  0.28330845 0.06388462 0.00489532 0.00344725] 1.0\n",
      "1320\n",
      "[4.8409041e-04 1.4124351e-03 5.4556306e-02 5.3537601e-01 4.0817121e-01] 1.0\n",
      "1332\n",
      "[0.05821499 0.3858542  0.4823434  0.06749258 0.00609473] 1.0\n",
      "1333\n",
      "[0.3041893  0.48759687 0.19049175 0.01256808 0.00515399] 1.0\n",
      "1368\n",
      "[0.23486626 0.32284728 0.21363603 0.10159235 0.12705804] 1.0\n",
      "1370\n",
      "[0.02524602 0.04569072 0.12411801 0.27567545 0.5292698 ] 1.0\n",
      "1371\n",
      "[0.38045412 0.47125837 0.13912587 0.00604192 0.00311978] 1.0\n",
      "1375\n",
      "[0.37179795 0.44982252 0.16577601 0.0090686  0.0035348 ] 1.0\n",
      "1378\n"
     ]
    },
    {
     "name": "stdout",
     "output_type": "stream",
     "text": [
      "[0.1471011  0.3365142  0.41019082 0.08440935 0.02178449] 1.0\n",
      "1379\n",
      "[0.38726425 0.42617977 0.16105452 0.01572656 0.00977495] 1.0\n",
      "1393\n",
      "[0.29993463 0.35103992 0.21627034 0.06832286 0.06443227] 1.0\n",
      "1427\n",
      "[0.25430566 0.5067824  0.21915123 0.01497513 0.00478555] 1.0\n",
      "1436\n",
      "[0.04399148 0.11567385 0.3209452  0.3700941  0.14929539] 1.0\n",
      "1446\n",
      "[0.0141543  0.04875426 0.2680883  0.48841774 0.18058531] 1.0\n",
      "1469\n",
      "[0.6640948  0.22101526 0.07204248 0.02145899 0.02138845] 1.0\n",
      "1478\n",
      "[0.46287748 0.40480524 0.12022913 0.00760057 0.0044875 ] 1.0\n",
      "1483\n",
      "[0.0535895  0.09970493 0.23523025 0.36224303 0.24923226] 1.0\n",
      "1505\n",
      "[0.6829979  0.25145388 0.05417707 0.00534367 0.00602746] 1.0\n",
      "1550\n",
      "[0.11508189 0.29449788 0.32917795 0.19684027 0.06440207] 1.0\n",
      "1575\n",
      "[0.5845231  0.34392515 0.0667095  0.00281653 0.00202578] 1.0\n",
      "1582\n",
      "[0.0016798  0.01785113 0.3499711  0.55614793 0.07435009] 1.0\n",
      "1585\n",
      "[0.11283056 0.30049005 0.4611586  0.10162581 0.023895  ] 1.0\n",
      "1594\n",
      "[0.79215187 0.18035725 0.02466102 0.00140776 0.00142214] 1.0\n",
      "1603\n",
      "[0.35129413 0.4798586  0.15688527 0.00797691 0.00398498] 1.0\n",
      "1608\n",
      "[0.72247875 0.23529315 0.03940054 0.00192092 0.00090672] 1.0\n",
      "1609\n",
      "[0.505803   0.341039   0.11716017 0.01694747 0.01905043] 1.0\n",
      "1649\n",
      "[0.28179178 0.4809588  0.21282202 0.01770746 0.00671983] 1.0\n",
      "1726\n",
      "[0.03928244 0.28359628 0.5832876  0.08849773 0.00533594] 1.0\n",
      "1747\n",
      "[0.87418294 0.10193353 0.01634629 0.00351406 0.00402316] 1.0\n",
      "1790\n",
      "[0.40487427 0.2336249  0.13909087 0.10134614 0.12106378] 1.0\n",
      "1800\n",
      "[0.07533821 0.42673385 0.4131157  0.07653735 0.00827489] 1.0\n",
      "1801\n",
      "[0.00440868 0.00372872 0.01096335 0.07397763 0.9069216 ] 1.0\n",
      "1806\n",
      "[9.2121959e-01 7.2873913e-02 5.4550865e-03 2.4970467e-04 2.0178720e-04] 1.0\n",
      "1849\n",
      "[0.44039196 0.3269814  0.18357083 0.03103684 0.01801898] 1.0\n",
      "1876\n",
      "[0.8085273  0.16154361 0.02434584 0.00234253 0.00324086] 1.0\n",
      "1890\n",
      "[0.29334733 0.29821828 0.2106048  0.10280314 0.09502651] 1.0\n",
      "1895\n",
      "[0.04392696 0.10147022 0.3191469  0.3399334  0.19552252] 1.0\n",
      "1902\n",
      "[0.16004172 0.37193933 0.38299868 0.06520434 0.01981598] 1.0\n",
      "1904\n",
      "[0.4943911  0.3238026  0.12640657 0.02959928 0.02580052] 1.0\n",
      "1931\n",
      "[0.23441882 0.4786135  0.25582212 0.0226618  0.00848387] 1.0\n",
      "1941\n",
      "[0.7401137  0.21464895 0.03866619 0.00314795 0.00342315] 1.0\n",
      "1947\n",
      "[0.63827556 0.2885935  0.06323794 0.0048405  0.00505252] 1.0\n",
      "1952\n",
      "[0.37691352 0.40722093 0.1830866  0.0233288  0.00945009] 1.0\n",
      "1960\n",
      "[0.4008356  0.47286925 0.12120573 0.0037383  0.00135108] 1.0\n",
      "1971\n",
      "[0.00074784 0.00276572 0.13150987 0.6386523  0.22632425] 1.0\n",
      "1972\n",
      "[0.28403547 0.5329283  0.17463896 0.00638088 0.00201635] 1.0\n",
      "1976\n",
      "[0.7975626  0.145814   0.03625606 0.01135114 0.00901626] 1.0\n",
      "1987\n",
      "[0.8118863  0.16626818 0.0199513  0.00092903 0.00096513] 1.0\n",
      "1989\n",
      "[0.3440603  0.450357   0.18042882 0.01603633 0.00911749] 1.0\n",
      "1991\n",
      "[0.31457984 0.3690526  0.21816552 0.05746252 0.04073949] 1.0\n",
      "2002\n",
      "[0.16126244 0.40540305 0.3503649  0.06746789 0.01550159] 1.0\n",
      "2032\n",
      "[0.2549566  0.11609828 0.04158634 0.07523812 0.51212066] 1.0\n",
      "2034\n",
      "[0.3433583  0.4903056  0.14742649 0.00676917 0.0121404 ] 1.0\n",
      "2036\n",
      "[0.01845573 0.03224699 0.15038481 0.36820665 0.43070582] 1.0\n",
      "2045\n",
      "[0.8118331  0.16399123 0.02089841 0.00145078 0.00182641] 1.0\n",
      "2071\n",
      "[0.75988245 0.18984194 0.04101007 0.00577603 0.00348953] 1.0\n",
      "2083\n",
      "[0.68805325 0.25639376 0.04899287 0.00355819 0.0030019 ] 1.0\n",
      "2108\n",
      "[0.6431419  0.28646258 0.05198116 0.0053953  0.01301906] 1.0\n",
      "2114\n",
      "[0.21614099 0.48916999 0.25523296 0.02857904 0.01087697] 1.0\n",
      "2119\n",
      "[0.08004443 0.43745157 0.44071582 0.03818792 0.00360027] 1.0\n",
      "2125\n",
      "[0.31835407 0.41365737 0.21325965 0.03472747 0.02000149] 1.0\n",
      "2142\n",
      "[0.06197405 0.21625961 0.36881807 0.28061226 0.072336  ] 1.0\n",
      "2144\n",
      "[0.629928   0.23979622 0.07951226 0.02308879 0.02767474] 1.0\n",
      "2152\n",
      "[4.2544642e-01 4.8907119e-01 8.4301606e-02 9.4803626e-04 2.3271368e-04] 1.0\n",
      "2163\n",
      "[0.68175226 0.24119204 0.06033618 0.00861491 0.00810463] 1.0\n",
      "2168\n",
      "[0.46750152 0.4417103  0.08804438 0.0018613  0.00088247] 1.0\n",
      "2204\n",
      "[0.5471008  0.33296168 0.10274014 0.0110004  0.00619699] 1.0\n",
      "2213\n",
      "[0.44394562 0.38505608 0.14811338 0.01692642 0.0059585 ] 1.0\n",
      "2220\n",
      "[0.728949   0.23377003 0.03450998 0.00145847 0.00131254] 1.0\n",
      "2221\n",
      "[0.3648872  0.16710685 0.10283212 0.1373127  0.22786124] 1.0\n",
      "2227\n",
      "[9.4784701e-01 4.9149122e-02 2.6655095e-03 1.2627231e-04 2.1203901e-04] 1.0\n",
      "2266\n",
      "[0.7855456  0.17439157 0.03157344 0.00392061 0.00456884] 1.0\n",
      "2269\n",
      "[6.4332592e-01 3.1670767e-01 3.9107926e-02 5.7671289e-04 2.8173754e-04] 1.0\n",
      "2271\n",
      "[0.28578714 0.43295658 0.23303528 0.03219268 0.01602833] 1.0\n",
      "2274\n",
      "[0.2564388  0.50144506 0.2223323  0.01555587 0.00422796] 1.0\n",
      "2283\n",
      "[0.3698573  0.2321812  0.15107268 0.12090648 0.12598233] 1.0\n",
      "2296\n",
      "[0.33477578 0.34387153 0.2001528  0.06185034 0.05934951] 1.0\n",
      "2313\n",
      "[0.08510865 0.4289614  0.39021945 0.07952181 0.01618864] 1.0\n",
      "2317\n",
      "[0.19409566 0.377859   0.29415482 0.09241744 0.04147306] 1.0\n",
      "2327\n",
      "[0.41476423 0.42381528 0.14474674 0.01073211 0.00594154] 1.0\n",
      "2337\n",
      "[0.19971816 0.1931175  0.12294944 0.14206631 0.34214854] 1.0\n",
      "2345\n",
      "[0.35484633 0.36409944 0.20388298 0.05109096 0.02608028] 1.0\n",
      "2355\n",
      "[0.4941122  0.3597656  0.11935928 0.01409158 0.01267137] 1.0\n",
      "2361\n",
      "[0.7316981  0.17802945 0.05336706 0.01924244 0.01766289] 1.0\n",
      "2373\n",
      "[0.6964485  0.245858   0.04982777 0.00422794 0.0036378 ] 1.0\n",
      "2398\n",
      "[0.47754782 0.40913826 0.10373821 0.00518781 0.00438784] 1.0\n",
      "2414\n",
      "[0.4238453  0.4444908  0.12445199 0.00524317 0.00196866] 1.0\n",
      "2430\n",
      "[0.84397    0.13609266 0.01747604 0.00126712 0.00119424] 1.0\n",
      "2432\n",
      "[0.30793357 0.46972573 0.20035833 0.01699101 0.00499131] 1.0\n",
      "2456\n",
      "[0.10697483 0.1862366  0.2994374  0.270496   0.13685517] 1.0\n",
      "2458\n",
      "[0.6981916  0.24671341 0.0500575  0.0035487  0.00148876] 1.0\n",
      "2462\n",
      "[0.00171883 0.00793077 0.132937   0.6327389  0.22467448] 1.0\n",
      "2478\n",
      "[0.7118069  0.19323915 0.05745719 0.01838127 0.01911551] 1.0\n",
      "2487\n",
      "[0.35990176 0.3766467  0.18627687 0.03829725 0.0388774 ] 1.0\n",
      "2490\n",
      "[0.18862556 0.1502357  0.11325669 0.14721964 0.40066236] 1.0\n",
      "2498\n",
      "[0.04249637 0.31389254 0.50961906 0.12221245 0.01177955] 1.0\n",
      "2504\n",
      "[7.7097392e-01 2.0550361e-01 2.2395976e-02 5.6551595e-04 5.6098175e-04] 1.0\n",
      "2528\n",
      "[0.19230604 0.33880746 0.39347768 0.06088848 0.01452036] 1.0\n",
      "2549\n",
      "[6.6482776e-01 2.9372346e-01 4.0053237e-02 8.3467073e-04 5.6088821e-04] 1.0\n",
      "2584\n",
      "[0.68060005 0.2593026  0.05217115 0.00395166 0.00397462] 1.0\n",
      "2591\n",
      "[0.2243456  0.16656019 0.17423494 0.24848461 0.18637468] 1.0\n",
      "2600\n",
      "[0.5073431  0.25353113 0.16319336 0.04765536 0.02827715] 1.0\n",
      "2601\n",
      "[0.44467604 0.4270485  0.11892331 0.00582818 0.00352394] 1.0\n",
      "2604\n",
      "[0.39357743 0.4592429  0.13664743 0.00652555 0.00400673] 1.0\n",
      "2610\n",
      "[0.60779613 0.31821764 0.06675131 0.00366112 0.00357382] 1.0\n",
      "2626\n",
      "[0.15175287 0.15877031 0.39484423 0.20176415 0.09286849] 1.0\n",
      "2631\n",
      "[0.17708787 0.23581862 0.18622474 0.15313146 0.24773733] 1.0\n",
      "2645\n",
      "[0.4101711  0.4760997  0.10938087 0.00278515 0.00156327] 1.0\n",
      "2648\n",
      "[0.09230787 0.42815414 0.38514555 0.08107043 0.013322  ] 1.0\n",
      "2665\n",
      "[0.6019593  0.3034565  0.07932269 0.00816889 0.00709258] 1.0\n",
      "2673\n",
      "[0.68236893 0.26107734 0.05016688 0.00341279 0.00297407] 1.0\n",
      "2674\n",
      "[0.12282366 0.1675531  0.237129   0.243736   0.22875826] 1.0\n",
      "2686\n",
      "[0.23552647 0.4550634  0.27955148 0.02324122 0.00661732] 1.0\n",
      "2690\n",
      "[0.2902208  0.49309257 0.19954224 0.01315775 0.00398661] 1.0\n",
      "2707\n",
      "[0.29537523 0.479281   0.202231   0.01610246 0.0070104 ] 1.0\n",
      "2708\n",
      "[0.8347853  0.1190059  0.02944082 0.01073195 0.00603608] 1.0\n",
      "2737\n",
      "[0.65829194 0.26386946 0.06146462 0.00719834 0.00917571] 1.0\n",
      "2743\n",
      "[0.30510423 0.33141065 0.26080117 0.09228229 0.01040181] 1.0\n",
      "2759\n",
      "[0.7408857  0.21516502 0.03760454 0.00295733 0.00338739] 1.0\n",
      "2765\n",
      "[0.5235224  0.39577463 0.07742033 0.00208008 0.00120253] 1.0\n",
      "2779\n",
      "[0.03279684 0.20694835 0.46570793 0.2579684  0.03657855] 1.0\n",
      "2780\n",
      "[0.03162792 0.27929467 0.61315817 0.07197647 0.00394275] 1.0\n",
      "2790\n",
      "[0.00252985 0.08653963 0.79010344 0.11934211 0.00148495] 1.0\n",
      "2797\n",
      "[0.27334172 0.49693754 0.21621925 0.01073853 0.00276306] 1.0\n",
      "2809\n",
      "[0.02394857 0.07478258 0.28522065 0.44264948 0.17339866] 1.0\n",
      "2812\n",
      "[0.2803221  0.48585346 0.21034488 0.01679462 0.00668489] 1.0\n",
      "2817\n",
      "[0.00658823 0.02495484 0.19107428 0.54986966 0.22751297] 1.0\n",
      "2818\n",
      "[0.48812628 0.37984326 0.11439916 0.00957117 0.00806008] 1.0\n",
      "2819\n",
      "[0.37250564 0.36505732 0.18680203 0.04148994 0.034145  ] 1.0\n",
      "2870\n",
      "[0.16321585 0.4716872  0.32574925 0.03273838 0.00660932] 1.0\n",
      "2899\n"
     ]
    },
    {
     "name": "stdout",
     "output_type": "stream",
     "text": [
      "[0.2141346  0.18312238 0.19196895 0.23095429 0.17981975] 1.0\n",
      "2940\n",
      "[0.7992808  0.15770355 0.03199095 0.00567494 0.0053497 ] 1.0\n",
      "2942\n",
      "[0.28218123 0.30646572 0.2251177  0.1115687  0.07466679] 1.0\n",
      "2943\n",
      "[0.7430585  0.22509661 0.02922301 0.00114032 0.00148166] 1.0\n",
      "2969\n",
      "[0.16260603 0.30840567 0.38690054 0.10245793 0.03962988] 1.0\n",
      "2992\n",
      "[0.40481135 0.4643004  0.12413581 0.00450727 0.00224515] 1.0\n",
      "2993\n",
      "[7.6674634e-01 2.0565353e-01 2.6275266e-02 8.7439828e-04 4.5049959e-04] 1.0\n",
      "2995\n",
      "[0.02769329 0.27746484 0.5720142  0.11569156 0.0071361 ] 1.0\n",
      "2998\n",
      "[0.33293062 0.49419346 0.16227296 0.00740271 0.0032002 ] 1.0\n",
      "3007\n",
      "[0.18351622 0.49558255 0.2824339  0.03068079 0.00778652] 1.0\n",
      "3019\n",
      "[0.45082164 0.35142657 0.1566837  0.02767433 0.0133938 ] 1.0\n",
      "3035\n",
      "[0.252391   0.32811093 0.23564015 0.09280426 0.0910537 ] 1.0\n",
      "3043\n",
      "[0.8216139  0.1575509  0.01863696 0.0009982  0.00120003] 1.0\n",
      "3050\n",
      "[0.16155075 0.3582702  0.32181063 0.10694271 0.05142573] 1.0\n",
      "3052\n",
      "[0.3185727  0.5070586  0.16762939 0.00542668 0.00131274] 1.0\n",
      "3071\n",
      "[0.3896687  0.45589462 0.1426812  0.00763766 0.00411776] 1.0\n",
      "3075\n",
      "[7.1639115e-01 2.6497117e-01 1.8512240e-02 9.0284717e-05 3.5083569e-05] 1.0\n",
      "3107\n",
      "[0.8334519  0.14748645 0.01731551 0.00090937 0.00083663] 1.0\n",
      "3146\n",
      "[0.19436641 0.12783428 0.09213692 0.20260042 0.38306198] 1.0\n",
      "3158\n",
      "[0.11691514 0.22107202 0.34002265 0.22554693 0.09644325] 1.0\n",
      "3208\n",
      "[0.1186163  0.33422697 0.41882968 0.10387889 0.02444818] 1.0\n",
      "3220\n",
      "[0.32502174 0.27672905 0.18871716 0.10774697 0.10178501] 1.0\n",
      "3230\n",
      "[0.27789718 0.21105471 0.13826182 0.1442592  0.228527  ] 1.0\n",
      "3234\n",
      "[0.71086323 0.22449994 0.05024901 0.00676512 0.00762274] 1.0\n",
      "3246\n",
      "[0.20707515 0.34665206 0.30753362 0.09315085 0.04558843] 1.0\n",
      "3250\n",
      "[5.2426133e-04 3.7736271e-04 2.5579033e-03 4.3327097e-02 9.5321345e-01] 1.0\n",
      "3277\n",
      "[0.5073227  0.3866695  0.09774627 0.00510297 0.00315855] 1.0\n",
      "3300\n",
      "[0.358524   0.26618323 0.16155006 0.09759907 0.11614373] 1.0\n",
      "3331\n",
      "[0.7925964  0.17246862 0.02939529 0.00303425 0.00250547] 1.0\n",
      "3339\n",
      "[0.34126878 0.46749648 0.17318083 0.01195972 0.0060942 ] 1.0\n",
      "3344\n",
      "[0.04347862 0.23798965 0.53179026 0.17016058 0.01658092] 1.0\n",
      "3349\n",
      "[0.01073432 0.04955792 0.5195902  0.3379499  0.0821676 ] 1.0\n",
      "3356\n",
      "[0.01456839 0.0994785  0.5757404  0.28337607 0.02683666] 1.0\n",
      "3357\n",
      "[0.26663625 0.47449952 0.22838657 0.02239886 0.00807879] 1.0\n",
      "3366\n",
      "[0.00378685 0.03226951 0.5539055  0.37943974 0.03059839] 1.0\n",
      "3405\n",
      "[0.47340438 0.3909184  0.12334114 0.00898389 0.00335222] 1.0\n",
      "3407\n",
      "[0.5815422  0.3369761  0.07485431 0.00392346 0.00270386] 1.0\n",
      "3412\n",
      "[0.6198384  0.3152107  0.06091112 0.0025194  0.00152041] 1.0\n",
      "3415\n",
      "[7.1387156e-04 7.7967555e-04 7.7459109e-03 9.0882212e-02 8.9987832e-01] 1.0\n",
      "3428\n",
      "[0.10633565 0.29410383 0.4575499  0.11775531 0.02425538] 1.0\n",
      "3442\n",
      "[0.4168466  0.442474   0.13133377 0.00648203 0.00286354] 1.0\n",
      "3445\n",
      "[0.39495206 0.23810086 0.14647725 0.10631156 0.11415834] 1.0\n",
      "3461\n",
      "[0.21468106 0.3722135  0.3029965  0.07690394 0.033205  ] 1.0\n",
      "3474\n",
      "[9.1787720e-01 7.6784089e-02 4.8918538e-03 1.7875440e-04 2.6816715e-04] 1.0\n",
      "3491\n",
      "[0.78450644 0.1840929  0.02780719 0.00186664 0.00172681] 1.0\n",
      "3546\n",
      "[0.45186213 0.27663717 0.15336853 0.07429074 0.04384148] 1.0\n",
      "3566\n",
      "[0.6831297  0.2545247  0.05403192 0.00451809 0.00379551] 1.0\n",
      "3573\n",
      "[0.6814159  0.23866306 0.06025    0.00942221 0.01024878] 1.0\n",
      "3580\n",
      "[0.12259199 0.12333329 0.14016773 0.26339233 0.3505146 ] 1.0\n",
      "3581\n",
      "[9.0854603e-01 8.6515151e-02 4.8237168e-03 7.4090160e-05 4.1021223e-05] 1.0\n",
      "3586\n",
      "[0.00359952 0.01636543 0.19658636 0.5812407  0.20220798] 1.0\n",
      "3639\n",
      "[0.35346574 0.37547666 0.20026049 0.0443562  0.02644086] 1.0\n",
      "3648\n",
      "[9.3380445e-01 6.2338296e-02 3.5553530e-03 1.2809112e-04 1.7380796e-04] 1.0\n",
      "3657\n",
      "[0.20707725 0.24089977 0.15746565 0.12042092 0.27413636] 1.0\n",
      "3670\n",
      "[0.04367619 0.2592639  0.57030237 0.11794062 0.00881693] 1.0\n",
      "3672\n",
      "[0.5268215  0.38117462 0.08527179 0.00374884 0.00298327] 1.0\n",
      "3676\n",
      "[0.10245509 0.51152974 0.36665335 0.01762914 0.00173272] 1.0\n",
      "3678\n",
      "[0.42639795 0.34256503 0.16289873 0.03970744 0.02843084] 1.0\n",
      "3682\n",
      "[0.06692325 0.17591667 0.5345514  0.16757688 0.05503192] 1.0\n",
      "3692\n",
      "[0.71259713 0.22754903 0.04503647 0.00569955 0.0091178 ] 1.0\n",
      "3695\n",
      "[0.06083741 0.38015133 0.47601902 0.07638589 0.00660635] 1.0\n",
      "3701\n",
      "[0.19481537 0.51428133 0.26321104 0.02219323 0.00549907] 1.0\n",
      "3702\n",
      "[0.00316234 0.00338947 0.03538227 0.27495143 0.6831145 ] 1.0\n",
      "3742\n",
      "[0.00823321 0.03809667 0.4671472  0.41211906 0.07440393] 1.0\n",
      "3746\n",
      "[0.7725029  0.19618271 0.02821292 0.00157112 0.00153037] 1.0\n",
      "3811\n",
      "[9.7555840e-01 2.2020180e-02 1.4520999e-03 4.3844330e-04 5.3086411e-04] 1.0\n",
      "3828\n",
      "[0.3259793  0.4176262  0.20527847 0.03090183 0.0202142 ] 1.0\n",
      "3843\n",
      "[0.1115839  0.25984338 0.34761012 0.21380356 0.06715918] 1.0\n",
      "3861\n",
      "[0.5876071  0.3407987  0.068207   0.00245107 0.00093615] 1.0\n",
      "3942\n",
      "[0.5176581  0.38656476 0.08833937 0.00395552 0.0034823 ] 1.0\n",
      "3945\n",
      "[0.33471385 0.46875742 0.17664799 0.01270355 0.00717714] 1.0\n",
      "3957\n",
      "[0.37143078 0.4591311  0.15745045 0.00905306 0.00293456] 1.0\n",
      "3978\n",
      "[0.33006105 0.26079834 0.23137262 0.1129768  0.06479117] 1.0\n",
      "4002\n",
      "[0.47093695 0.2020484  0.08837787 0.07501643 0.16362035] 1.0\n",
      "4013\n",
      "[0.22111201 0.16590558 0.18470587 0.24070357 0.18757294] 1.0\n",
      "4020\n",
      "[0.54459643 0.3672714  0.0820859  0.00366742 0.00237889] 1.0\n",
      "4063\n",
      "[0.67388344 0.27873927 0.0446953  0.00159501 0.00108699] 1.0\n",
      "4066\n",
      "[0.03111737 0.21886192 0.4994913  0.2206465  0.02988292] 1.0\n",
      "4067\n",
      "[0.8324595  0.13967048 0.02214014 0.00278458 0.00294521] 1.0\n",
      "4100\n",
      "[0.12341466 0.1868207  0.2260461  0.27506974 0.18864876] 1.0\n",
      "4110\n",
      "[0.3185899  0.24700128 0.15321669 0.12362038 0.15757178] 1.0\n",
      "4113\n",
      "[0.18582925 0.24183701 0.24204537 0.17103153 0.15925682] 1.0\n",
      "4120\n",
      "[9.1320473e-01 8.1034929e-02 5.3221667e-03 1.8824592e-04 2.4993412e-04] 1.0\n",
      "4129\n",
      "[3.8091352e-05 2.9193900e-05 7.5338711e-04 3.4267444e-02 9.6491188e-01] 1.0\n",
      "4151\n",
      "[0.31768394 0.20677307 0.1417536  0.14468846 0.18910095] 1.0\n",
      "4156\n",
      "[0.19629109 0.46311498 0.2877353  0.04129801 0.01156055] 1.0\n",
      "4168\n",
      "[0.23744111 0.21188572 0.23643245 0.19785495 0.11638583] 1.0\n",
      "4172\n",
      "[0.26019722 0.48939076 0.22636315 0.01875682 0.00529207] 1.0\n",
      "4181\n",
      "[0.14300501 0.15626879 0.1757279  0.26962903 0.25536922] 1.0\n",
      "4186\n",
      "[0.24348497 0.41768095 0.2647251  0.05298653 0.0211224 ] 1.0\n",
      "4192\n",
      "[0.03246149 0.26385245 0.64627874 0.05503062 0.00237672] 1.0\n",
      "4200\n",
      "[9.1227555e-01 7.9377517e-02 7.2511975e-03 5.3677824e-04 5.5889454e-04] 1.0\n",
      "4210\n",
      "[0.2365936  0.19593963 0.14894609 0.1615239  0.25699678] 1.0\n",
      "4238\n",
      "[0.7816933  0.18492313 0.0289232  0.00222692 0.00223342] 1.0\n",
      "4248\n",
      "[0.836188   0.13181186 0.02314723 0.00431713 0.00453582] 1.0\n",
      "4263\n",
      "[0.8020737  0.16472593 0.02763589 0.00289615 0.00266828] 1.0\n",
      "4273\n",
      "[0.76497674 0.19376582 0.03442632 0.00328978 0.00354141] 1.0\n",
      "4283\n",
      "[0.3044681  0.44844127 0.20977628 0.02353047 0.01378394] 1.0\n",
      "4291\n",
      "[0.5802531  0.34413573 0.07082272 0.00291773 0.00187077] 1.0\n",
      "4297\n",
      "[0.89565635 0.09124953 0.00956454 0.00114025 0.0023894 ] 1.0\n",
      "4333\n",
      "[0.00824203 0.03975082 0.3016407  0.5109819  0.13938461] 1.0\n",
      "4359\n",
      "[0.3013011  0.20872732 0.12330202 0.12655856 0.24011098] 1.0\n",
      "4380\n",
      "[0.31508014 0.3547598  0.17649493 0.05882509 0.09484   ] 1.0\n",
      "4384\n",
      "[0.27699375 0.2529056  0.2867496  0.14412273 0.03922832] 1.0\n",
      "4403\n",
      "[0.77258724 0.19206223 0.03121912 0.00223524 0.00189617] 1.0\n",
      "4419\n",
      "[0.5431555  0.30295882 0.11503004 0.02498936 0.01386628] 1.0\n",
      "4422\n",
      "[0.6995603  0.17641039 0.05744986 0.02832276 0.0382567 ] 1.0\n",
      "4442\n",
      "[0.29475445 0.2421042  0.23832214 0.1148247  0.10999462] 1.0\n",
      "4454\n",
      "[0.08694623 0.5324996  0.34933296 0.0272957  0.00392552] 1.0\n",
      "4478\n",
      "[0.04733288 0.04160428 0.10354947 0.33518633 0.47232705] 1.0\n",
      "4510\n",
      "[1.2080752e-01 6.3973635e-01 2.3462428e-01 4.4712741e-03 3.6054058e-04] 1.0\n",
      "4526\n",
      "[0.7404094  0.20322601 0.04524707 0.00622558 0.00489192] 1.0\n",
      "4531\n",
      "[0.2678199  0.25717944 0.30830157 0.12707615 0.03962294] 1.0\n",
      "4549\n",
      "[0.62623507 0.27877787 0.07436503 0.00974739 0.01087461] 1.0\n",
      "4559\n",
      "[0.00189812 0.00201045 0.04013948 0.4070225  0.5489294 ] 1.0\n",
      "4564\n",
      "[0.00140022 0.00402829 0.12848073 0.49912784 0.36696297] 1.0\n",
      "4597\n",
      "[0.77509224 0.1812824  0.03376616 0.00433773 0.00552144] 1.0\n",
      "4604\n",
      "[0.4356839  0.3422634  0.15783326 0.0359549  0.02826451] 1.0\n",
      "4620\n",
      "[0.33737326 0.47876722 0.16870531 0.00993349 0.00522059] 1.0\n",
      "4645\n",
      "[0.6531732  0.2230856  0.08237297 0.02689671 0.01447154] 1.0\n",
      "4657\n",
      "[0.01519615 0.16123374 0.7245561  0.09588815 0.0031259 ] 1.0\n",
      "4673\n"
     ]
    },
    {
     "name": "stdout",
     "output_type": "stream",
     "text": [
      "[0.37406558 0.5000783  0.12202498 0.00288006 0.0009511 ] 1.0\n",
      "4681\n",
      "[0.80378413 0.17178263 0.02197883 0.00116723 0.00128715] 1.0\n",
      "4685\n",
      "[0.3501866  0.51750994 0.12831074 0.00292267 0.0010701 ] 1.0\n",
      "4706\n",
      "[0.4412082  0.38203034 0.1447386  0.01825665 0.01376623] 1.0\n",
      "4756\n",
      "[0.01424673 0.24966535 0.61265165 0.12001316 0.00342315] 1.0\n",
      "4757\n",
      "[0.35615355 0.32595575 0.18634526 0.06019481 0.07135053] 1.0\n",
      "4768\n",
      "[0.080468   0.38873088 0.4060231  0.10922356 0.01555446] 1.0\n",
      "4777\n",
      "[0.8033666  0.16712278 0.02475726 0.00215431 0.00259895] 1.0\n",
      "4809\n",
      "[0.4819995  0.27574912 0.1341575  0.0558698  0.05222417] 1.0\n",
      "4821\n",
      "[0.37221834 0.39885074 0.18513499 0.02818205 0.01561383] 1.0\n",
      "4823\n",
      "[7.5120026e-01 2.1856098e-01 2.8595189e-02 9.5050258e-04 6.9309515e-04] 1.0\n",
      "4843\n",
      "[0.61545724 0.31289047 0.0647442  0.00365575 0.00325222] 1.0\n",
      "4868\n",
      "[0.02030555 0.06750042 0.34838617 0.39994133 0.16386646] 1.0\n",
      "4881\n",
      "[0.2670209  0.50818336 0.20651229 0.01334946 0.00493397] 1.0\n",
      "4883\n",
      "[0.1622745  0.48266557 0.3024478  0.04096979 0.01164241] 1.0\n",
      "4885\n",
      "[0.03417531 0.18916652 0.71382785 0.06163174 0.0011986 ] 1.0\n",
      "4895\n",
      "[0.05845324 0.14009407 0.45122448 0.2819374  0.06829081] 1.0\n",
      "4896\n",
      "[0.7155556  0.20267384 0.05593579 0.01332648 0.01250826] 1.0\n",
      "4897\n",
      "[0.68175226 0.24119204 0.06033618 0.00861491 0.00810463] 1.0\n",
      "4939\n",
      "[0.03698049 0.17813803 0.49683523 0.25132594 0.03672031] 1.0\n",
      "4965\n",
      "[0.14767514 0.3119917  0.42210925 0.09489775 0.02332624] 1.0\n",
      "5002\n",
      "[0.75888413 0.14650086 0.03564894 0.02062851 0.0383375 ] 1.0\n",
      "5006\n",
      "[0.23693088 0.23173684 0.20443866 0.14463766 0.18225595] 1.0\n",
      "5014\n",
      "[0.8987308  0.08609829 0.01056866 0.00172999 0.00287226] 1.0\n",
      "5044\n",
      "[0.22986019 0.45209593 0.2751338  0.02859222 0.01431796] 1.0\n",
      "5067\n",
      "[0.0161917  0.14440759 0.6003157  0.22451521 0.01456975] 1.0\n",
      "5077\n",
      "[0.7212484  0.22110385 0.04670644 0.00536705 0.00557424] 1.0\n",
      "5101\n",
      "[0.61114323 0.22637472 0.07673073 0.03399379 0.05175758] 1.0\n",
      "5108\n",
      "[0.02535558 0.15400228 0.66672724 0.14385152 0.01006336] 1.0\n",
      "5131\n",
      "[0.00804603 0.0360398  0.24585637 0.545348   0.16470978] 1.0\n",
      "5134\n",
      "[0.5177507  0.3541052  0.10792439 0.01107343 0.0091463 ] 1.0\n",
      "5168\n",
      "[0.7792813  0.18733363 0.02936019 0.00212963 0.00189531] 1.0\n",
      "5173\n",
      "[0.6601958  0.27640578 0.05687518 0.00362685 0.00289627] 1.0\n",
      "5182\n",
      "[0.43831232 0.28471068 0.14677775 0.06182024 0.06837893] 1.0\n",
      "5190\n",
      "[0.00300201 0.00379171 0.05875141 0.45668167 0.4777732 ] 1.0\n",
      "5192\n",
      "[0.01600521 0.12192457 0.55410576 0.28370714 0.02425729] 1.0\n",
      "5202\n",
      "[0.09502073 0.06840692 0.04314858 0.14527017 0.64815366] 1.0\n",
      "5218\n",
      "[0.23468252 0.5452875  0.20763254 0.00968339 0.00271409] 1.0\n",
      "5245\n",
      "[0.04003283 0.26257992 0.6457501  0.04924845 0.00238878] 1.0\n",
      "5270\n",
      "[0.4305641  0.29577786 0.14528535 0.05753949 0.07083327] 1.0\n",
      "5289\n",
      "[0.01518912 0.13300788 0.64735794 0.19468404 0.00976098] 1.0\n",
      "5320\n",
      "[0.60444194 0.31686467 0.07136063 0.00448727 0.00284554] 1.0\n",
      "5324\n",
      "[0.03119207 0.15895046 0.5425086  0.24039443 0.02695438] 1.0\n",
      "5334\n",
      "[0.45263004 0.41009673 0.12365922 0.00806116 0.00555289] 1.0\n",
      "5337\n",
      "[9.0641707e-01 8.4749043e-02 7.4300962e-03 5.1901425e-04 8.8480616e-04] 1.0\n",
      "5342\n",
      "[0.34471527 0.22825101 0.14718284 0.12448088 0.15536998] 1.0\n",
      "5353\n",
      "[0.6371909  0.29722068 0.05927617 0.00332409 0.00298805] 1.0\n",
      "5363\n",
      "[0.00957567 0.00758118 0.01548501 0.09158411 0.8757741 ] 1.0\n",
      "5371\n",
      "[0.42082244 0.45633325 0.11661278 0.00406644 0.00216503] 1.0\n",
      "5378\n",
      "[0.1668557  0.2185719  0.21083885 0.19294558 0.21078786] 1.0\n",
      "5385\n",
      "[0.27313343 0.1736444  0.1021904  0.15319619 0.29783562] 1.0\n",
      "5387\n",
      "[0.74485695 0.20330635 0.04050952 0.00499068 0.00633649] 1.0\n",
      "5398\n",
      "[0.12936604 0.40104598 0.39457697 0.06387502 0.01113598] 1.0\n",
      "5412\n",
      "[0.8429915  0.13810879 0.0165949  0.00107376 0.00123118] 1.0\n",
      "5415\n",
      "[9.7461164e-01 2.4301324e-02 9.7801653e-04 4.9147609e-05 5.9861224e-05] 1.0\n",
      "5426\n",
      "[0.81650037 0.15026866 0.02566889 0.00352546 0.00403661] 1.0\n",
      "5437\n",
      "[9.2357042e-04 5.3528704e-02 8.4732163e-01 9.7667523e-02 5.5850740e-04] 1.0\n",
      "5439\n",
      "[0.7253464  0.23170948 0.03924507 0.00227364 0.0014253 ] 1.0\n",
      "5449\n",
      "[0.59178925 0.30907887 0.08349434 0.00860819 0.00702935] 1.0\n",
      "5460\n",
      "[0.56196636 0.3283095  0.09142853 0.00916518 0.00913045] 1.0\n",
      "5484\n",
      "[9.0079165e-01 9.1882758e-02 6.8758717e-03 2.3452063e-04 2.1518607e-04] 1.0\n",
      "5510\n",
      "[0.51401764 0.35765955 0.10970242 0.01080077 0.0078197 ] 1.0\n",
      "5522\n",
      "[0.22085328 0.46185938 0.2856555  0.02443385 0.00719792] 1.0\n",
      "5532\n",
      "[0.7418642  0.20210078 0.04287942 0.00606207 0.00709342] 1.0\n",
      "5546\n",
      "[0.1517827  0.25538933 0.29623482 0.20898394 0.08760926] 1.0\n",
      "5571\n",
      "[0.44737706 0.38922477 0.13657191 0.0144556  0.01237065] 1.0\n",
      "5582\n",
      "[0.6074537  0.30947205 0.0742185  0.0054563  0.0033995 ] 1.0\n",
      "5583\n",
      "[0.39691302 0.41802725 0.16158003 0.01540602 0.00807366] 1.0\n",
      "5588\n",
      "[0.2731312  0.5134046  0.1982843  0.01118113 0.00399885] 1.0\n",
      "5601\n",
      "[0.82109237 0.15805072 0.01899759 0.00095424 0.00090507] 1.0\n",
      "5618\n",
      "[0.8268949  0.13822927 0.02519875 0.00451744 0.00515959] 1.0\n",
      "5621\n",
      "[0.00193528 0.00173825 0.00914813 0.09139118 0.8957872 ] 1.0\n",
      "5643\n",
      "[0.7775401  0.19345945 0.02627803 0.00132443 0.00139805] 1.0\n",
      "5669\n",
      "[0.2855512  0.10785011 0.05145885 0.12843111 0.42670876] 1.0\n",
      "5672\n",
      "[0.42031288 0.3843669  0.15926231 0.02194168 0.01411626] 1.0\n",
      "5696\n",
      "[0.00955708 0.13768496 0.55249673 0.28321606 0.01704513] 1.0\n",
      "5705\n",
      "[0.64907783 0.291468   0.0561648  0.00254686 0.00074253] 1.0\n",
      "5726\n",
      "[0.36714813 0.2098524  0.14720517 0.14507549 0.13071883] 1.0\n",
      "5731\n",
      "[0.01319634 0.01419869 0.07177055 0.35246968 0.5483647 ] 1.0\n",
      "5756\n",
      "[0.3359331  0.43855876 0.19096927 0.02116043 0.01337846] 1.0\n",
      "5767\n",
      "[0.08301558 0.12343681 0.3484862  0.30540857 0.13965283] 1.0\n",
      "5811\n",
      "[0.004066   0.06260364 0.67027545 0.2536788  0.00937607] 1.0\n",
      "5850\n",
      "[0.0195209  0.03273318 0.11926433 0.34710798 0.48137355] 1.0\n",
      "5851\n",
      "[0.27113008 0.46224624 0.23396704 0.02662924 0.00602742] 1.0\n",
      "5871\n",
      "[0.21381974 0.25748983 0.23470567 0.17481023 0.11917457] 1.0\n",
      "5875\n",
      "[0.73021257 0.2115154  0.04481268 0.00605352 0.00740586] 1.0\n",
      "5881\n",
      "[7.5942604e-04 8.1285660e-04 1.3558570e-02 1.9799051e-01 7.8687865e-01] 1.0\n",
      "5885\n",
      "[0.649771   0.26773053 0.06537882 0.00776871 0.00935095] 1.0\n",
      "5892\n",
      "[0.52168685 0.38189635 0.09054395 0.00407159 0.00180135] 1.0\n",
      "5899\n",
      "[0.7386252  0.22788514 0.03104031 0.00119545 0.00125381] 1.0\n",
      "5916\n",
      "[0.7254729  0.22242431 0.04356074 0.00417091 0.00437106] 1.0\n",
      "5995\n",
      "[0.08643457 0.41131112 0.45891854 0.03927763 0.00405821] 1.0\n",
      "5997\n",
      "[0.22266634 0.42903134 0.27609986 0.05277996 0.01942241] 1.0\n",
      "6017\n",
      "[0.06134551 0.16215047 0.25950092 0.28730896 0.22969416] 1.0\n",
      "6047\n",
      "[0.7200393  0.20701165 0.05574267 0.01099682 0.00620953] 1.0\n",
      "6054\n",
      "[0.35346803 0.379348   0.19997047 0.04289972 0.0243138 ] 1.0\n",
      "6059\n",
      "[0.78672934 0.17743805 0.02973948 0.00292028 0.00317282] 1.0\n",
      "6067\n",
      "[0.05828444 0.07358848 0.17177704 0.39585897 0.3004911 ] 1.0\n",
      "6125\n",
      "[0.37314287 0.3912693  0.18934475 0.03112645 0.01511671] 1.0\n",
      "6134\n",
      "[0.11525162 0.12949875 0.11882639 0.2045451  0.43187812] 1.0\n",
      "6140\n",
      "[0.08865929 0.43614438 0.42328733 0.04737102 0.00453793] 1.0\n",
      "6162\n",
      "[0.7257189  0.21965231 0.04436985 0.00481881 0.0054402 ] 1.0\n",
      "6168\n",
      "[0.47340438 0.3909184  0.12334114 0.00898389 0.00335222] 1.0\n",
      "6170\n",
      "[0.531984   0.32440755 0.10833381 0.01680567 0.01846894] 1.0\n",
      "6199\n",
      "[0.43229586 0.3382152  0.16010472 0.03892176 0.03046253] 1.0\n",
      "6201\n",
      "[0.42082703 0.17158043 0.09970313 0.14606704 0.16182233] 1.0\n",
      "6239\n",
      "[0.76989204 0.17677285 0.0380263  0.00708972 0.00821912] 1.0\n",
      "6262\n",
      "[0.16365933 0.15585697 0.1402408  0.24309908 0.29714388] 1.0\n",
      "6288\n",
      "[0.32970676 0.48591888 0.1713271  0.00934428 0.00370297] 1.0\n",
      "6301\n",
      "[0.40694693 0.22402167 0.14952178 0.12395442 0.0955552 ] 1.0\n",
      "6313\n",
      "[0.63044065 0.29075825 0.06664595 0.00574033 0.00641479] 1.0\n",
      "6319\n",
      "[0.4289888  0.39096367 0.15038    0.02073167 0.00893595] 1.0\n",
      "6323\n",
      "[0.42015848 0.43799385 0.13089885 0.00703115 0.0039176 ] 1.0\n",
      "6346\n",
      "[0.4735929  0.22954254 0.13223387 0.09360649 0.07102414] 1.0\n",
      "6347\n",
      "[9.8200905e-01 1.7323565e-02 6.1046734e-04 3.0187241e-05 2.6697295e-05] 1.0\n",
      "6351\n",
      "[0.5791783  0.26680845 0.09609865 0.02680589 0.03110866] 1.0\n",
      "6370\n",
      "[9.3517548e-01 5.7830140e-02 4.6583628e-03 6.2168005e-04 1.7142512e-03] 1.0\n",
      "6383\n",
      "[0.3565836  0.4637137  0.16282415 0.01058492 0.00629361] 1.0\n",
      "6391\n",
      "[0.17342123 0.4690491  0.3286231  0.02416671 0.00473996] 1.0\n",
      "6457\n",
      "[0.54111814 0.2771365  0.11440183 0.03543898 0.03190459] 1.0\n",
      "6467\n",
      "[0.87014985 0.11451269 0.01328189 0.00102742 0.00102818] 1.0\n",
      "6478\n",
      "[0.68604535 0.26038617 0.04821071 0.00291906 0.00243861] 1.0\n",
      "6515\n"
     ]
    },
    {
     "name": "stdout",
     "output_type": "stream",
     "text": [
      "[8.985154e-01 9.070727e-02 9.364067e-03 7.279779e-04 6.852772e-04] 1.0\n",
      "6529\n",
      "[0.01818994 0.0730638  0.2529824  0.4714817  0.18428208] 1.0\n",
      "6550\n",
      "[0.00492742 0.00331384 0.00622042 0.04270318 0.94283515] 1.0\n",
      "6574\n",
      "[0.4579015  0.4416896  0.09680972 0.00261214 0.00098704] 1.0\n",
      "6616\n",
      "[0.01162776 0.0149583  0.09801549 0.45745307 0.41794536] 1.0\n",
      "6630\n",
      "[0.13180602 0.47305933 0.337824   0.04865247 0.00865818] 1.0\n",
      "6632\n",
      "[9.0235037e-01 8.8701636e-02 7.9447813e-03 4.7697284e-04 5.2620453e-04] 1.0\n",
      "6642\n",
      "[0.49891257 0.3762344  0.11033173 0.00853111 0.00599025] 1.0\n",
      "6645\n",
      "[0.67560816 0.26705346 0.05172556 0.00316849 0.00244435] 1.0\n",
      "6648\n",
      "[0.04349642 0.18270355 0.3901043  0.31856874 0.06512696] 1.0\n",
      "6660\n",
      "[0.44398448 0.4585958  0.09443475 0.00201174 0.0009733 ] 1.0\n",
      "6685\n",
      "[9.6669924e-01 3.1556271e-02 1.5723995e-03 8.6842643e-05 8.5130960e-05] 1.0\n",
      "6692\n",
      "[0.48558217 0.33946607 0.13737957 0.02433026 0.01324184] 1.0\n",
      "6715\n",
      "[0.65872145 0.24311316 0.0678307  0.01341657 0.01691816] 1.0\n",
      "6716\n",
      "[0.7042631  0.18585359 0.06188349 0.02569209 0.0223078 ] 1.0\n",
      "6723\n",
      "[0.7678177  0.19186966 0.03302858 0.00327881 0.00400518] 1.0\n",
      "6739\n",
      "[0.8024309  0.16767064 0.02593676 0.00212921 0.00183244] 1.0\n",
      "6767\n",
      "[0.33796453 0.43063232 0.1919978  0.02327823 0.01612715] 1.0\n",
      "6780\n",
      "[0.77833086 0.18410492 0.03150641 0.00299475 0.00306311] 1.0\n",
      "6781\n",
      "[0.73825216 0.22580133 0.03313186 0.00150216 0.00131248] 1.0\n",
      "6782\n",
      "[2.2775287e-02 3.8637799e-01 5.6982845e-01 2.0661371e-02 3.5686948e-04] 1.0\n",
      "6789\n",
      "[0.4750769  0.42322433 0.09635591 0.00323426 0.0021086 ] 1.0\n",
      "6794\n",
      "[0.07274348 0.29589662 0.48816046 0.1299196  0.01327976] 1.0\n",
      "6802\n",
      "[0.4563467  0.39955544 0.12589656 0.0100531  0.00814819] 1.0\n",
      "6821\n",
      "[0.04776078 0.22538918 0.6602041  0.0644202  0.00222577] 1.0\n",
      "6856\n",
      "[0.44619605 0.4004791  0.13588151 0.01139727 0.00604605] 1.0\n",
      "6868\n",
      "[0.74233747 0.2111492  0.03856704 0.00361699 0.00432927] 1.0\n",
      "6878\n",
      "[0.00348328 0.00308268 0.01638713 0.14207824 0.8349687 ] 1.0\n",
      "6889\n",
      "[0.03244894 0.21440333 0.43295178 0.27606475 0.04413114] 1.0\n",
      "6896\n",
      "[0.69890153 0.2248191  0.05686722 0.0096937  0.00971848] 1.0\n",
      "6902\n",
      "[0.3315913  0.27448    0.198747   0.12363795 0.07154379] 1.0\n",
      "6904\n",
      "[0.42344606 0.32680762 0.15888973 0.04102319 0.04983339] 1.0\n",
      "6914\n",
      "[0.6875786  0.24908724 0.05447114 0.00501324 0.0038498 ] 1.0\n",
      "6956\n",
      "[0.61821866 0.28891468 0.07530867 0.00891139 0.00864665] 1.0\n",
      "6963\n",
      "[0.26147908 0.31201148 0.22098099 0.0972038  0.10832471] 1.0\n",
      "6969\n",
      "[0.47099203 0.3917845  0.11966605 0.00946366 0.00809375] 1.0\n",
      "6976\n",
      "[0.06767929 0.22644392 0.51130164 0.16804595 0.02652922] 1.0\n",
      "6982\n",
      "[0.00553534 0.02450773 0.31115386 0.5358725  0.12293066] 1.0\n",
      "6984\n",
      "[0.05537701 0.07378314 0.15851906 0.33836338 0.37395743] 1.0\n",
      "6990\n",
      "[0.8086222  0.1655848  0.02307033 0.00146597 0.00125661] 1.0\n",
      "6993\n",
      "[0.6558104  0.27133366 0.06280012 0.00583554 0.00422024] 1.0\n",
      "7010\n",
      "[0.64418906 0.25628996 0.07482563 0.01342409 0.0112713 ] 1.0\n",
      "7039\n",
      "[0.49071556 0.39730537 0.10317697 0.00535758 0.00344443] 1.0\n",
      "7044\n",
      "[0.28316557 0.21513492 0.13505884 0.13892654 0.22771415] 1.0\n",
      "7047\n",
      "[0.28467238 0.20721476 0.11123016 0.11602438 0.28085834] 1.0\n",
      "7061\n",
      "[0.16047132 0.5745592  0.2521562  0.01093381 0.00187948] 1.0\n",
      "7062\n",
      "[0.52956665 0.31015703 0.1124347  0.02206824 0.02577345] 1.0\n",
      "7076\n",
      "[0.0085418  0.0254251  0.19866611 0.5423141  0.22505286] 1.0\n",
      "7079\n",
      "[0.5474034  0.30722037 0.10487221 0.01901508 0.02148894] 1.0\n",
      "7083\n",
      "[8.5540015e-01 1.3384293e-01 1.0174110e-02 2.4191431e-04 3.4096421e-04] 1.0\n",
      "7109\n",
      "[0.0139108  0.08569203 0.5377897  0.32429126 0.03831625] 1.0\n",
      "7110\n",
      "[0.36613363 0.1873827  0.1034565  0.12644786 0.21657932] 1.0\n",
      "7124\n",
      "[0.00221423 0.01560369 0.17343622 0.6063951  0.2023507 ] 1.0\n",
      "7154\n",
      "[0.43051752 0.4663103  0.09986948 0.00226464 0.00103811] 1.0\n",
      "7181\n",
      "[0.65021294 0.26198313 0.06315641 0.00992895 0.01471859] 1.0\n",
      "7192\n",
      "[0.00122064 0.0010721  0.00981511 0.12398903 0.8639031 ] 1.0\n",
      "7205\n",
      "[0.42943144 0.41041356 0.14011069 0.01197102 0.00807347] 1.0\n",
      "7210\n",
      "[0.66183776 0.25302824 0.06572302 0.00983686 0.00957416] 1.0\n",
      "7215\n",
      "[0.17016505 0.41318285 0.31959745 0.07331655 0.02373809] 1.0\n",
      "7225\n",
      "[0.13313572 0.12636305 0.10729864 0.21274349 0.4204591 ] 1.0\n",
      "7228\n",
      "[0.2736155  0.29339042 0.19483034 0.1097049  0.12845883] 1.0\n",
      "7277\n",
      "[0.592429   0.27733165 0.09462212 0.02006465 0.01555262] 1.0\n",
      "7284\n",
      "[0.32881925 0.466141   0.18270417 0.01430813 0.00802745] 1.0\n",
      "7288\n",
      "[0.02714005 0.10847623 0.37735933 0.39016002 0.09686439] 1.0\n",
      "7293\n",
      "[6.4045578e-01 3.1511593e-01 4.3050900e-02 8.3145587e-04 5.4595200e-04] 1.0\n",
      "7303\n",
      "[1.0558834e-03 7.5634971e-04 6.0701915e-03 9.7956248e-02 8.9416128e-01] 1.0\n",
      "7308\n",
      "[0.12037203 0.13055891 0.10044567 0.16475877 0.4838646 ] 1.0\n",
      "7314\n",
      "[0.6665521  0.26961115 0.0556866  0.00417604 0.0039741 ] 1.0\n",
      "7350\n",
      "[0.00658823 0.02495484 0.19107428 0.54986966 0.22751297] 1.0\n",
      "7353\n",
      "[0.08512615 0.17100133 0.3222746  0.30287367 0.11872427] 1.0\n",
      "7370\n",
      "[0.15014254 0.15591337 0.19114816 0.2913739  0.21142206] 1.0\n",
      "7373\n",
      "[0.8089478  0.15546885 0.02805153 0.00384754 0.00368439] 1.0\n",
      "7375\n",
      "[0.73182905 0.23756333 0.02883761 0.0008162  0.00095383] 1.0\n",
      "7411\n",
      "[0.49441817 0.33019912 0.15038551 0.01911974 0.0058774 ] 1.0\n",
      "7428\n",
      "[1.1450052e-01 5.4486591e-01 3.3385009e-01 6.3285707e-03 4.5496016e-04] 1.0\n",
      "7438\n",
      "[0.14430514 0.4245131  0.36052597 0.05597632 0.01467948] 1.0\n",
      "7450\n",
      "[0.05017633 0.23982543 0.3750693  0.27553773 0.05939114] 1.0\n",
      "7453\n",
      "[0.40579128 0.47577706 0.11384534 0.00308561 0.00150072] 1.0\n",
      "7454\n",
      "[0.3151358  0.30652335 0.20348999 0.09007774 0.08477315] 1.0\n",
      "7466\n",
      "[0.88115615 0.10529416 0.01120961 0.00096742 0.00137269] 1.0\n",
      "7471\n",
      "[0.24761823 0.47612336 0.23872218 0.02659761 0.01093866] 1.0\n",
      "7476\n",
      "[0.02639873 0.14654264 0.4977945  0.28959125 0.0396729 ] 1.0\n",
      "7524\n",
      "[0.7287931  0.23195727 0.03578512 0.0017601  0.0017045 ] 1.0\n",
      "7540\n",
      "[0.63925743 0.25772765 0.07513129 0.01366172 0.01422187] 1.0\n",
      "7565\n",
      "[0.34253958 0.4422535  0.18698919 0.01881556 0.00940206] 1.0\n",
      "7590\n",
      "[0.80728436 0.16777301 0.02216046 0.00131418 0.00146797] 1.0\n",
      "7591\n",
      "[0.27386695 0.53031933 0.18580575 0.00767803 0.00232999] 1.0\n",
      "7602\n",
      "[0.36917025 0.43679637 0.171414   0.01551389 0.00710553] 1.0\n",
      "7624\n",
      "[0.5546718  0.34400415 0.09052979 0.00681497 0.00397927] 1.0\n",
      "7632\n",
      "[0.73472446 0.22778653 0.0349479  0.00153652 0.00100455] 1.0\n",
      "7637\n",
      "[0.47963062 0.32859278 0.12614438 0.03121505 0.0344172 ] 1.0\n",
      "7639\n",
      "[0.80348074 0.16176389 0.02852466 0.0033141  0.00291667] 1.0\n",
      "7643\n",
      "[0.7663696  0.18153484 0.03879624 0.00648439 0.00681498] 1.0\n",
      "7654\n",
      "[0.48325506 0.24976234 0.20949014 0.04592264 0.01156988] 1.0\n",
      "7656\n",
      "[0.44111556 0.39920086 0.1400218  0.01304287 0.00661889] 1.0\n",
      "7661\n",
      "[3.9006004e-01 5.2578217e-01 8.2528986e-02 1.3116953e-03 3.1713254e-04] 1.0\n",
      "7673\n",
      "[0.12072783 0.357587   0.41997823 0.08244836 0.01925867] 1.0\n",
      "7685\n",
      "[0.26948726 0.19658446 0.16083212 0.18780708 0.185289  ] 1.0\n",
      "7692\n",
      "[0.5932361  0.32093647 0.07625939 0.00541992 0.00414814] 1.0\n",
      "7694\n",
      "[0.09307276 0.43038827 0.4084666  0.05796961 0.01010271] 1.0\n",
      "7712\n",
      "[0.7115562  0.2118726  0.05591261 0.01097755 0.00968104] 1.0\n",
      "7714\n",
      "[0.2897713  0.48196203 0.20646681 0.0159627  0.00583728] 1.0\n",
      "7716\n",
      "[0.36296865 0.25122702 0.18833075 0.10757699 0.08989647] 1.0\n",
      "7717\n",
      "[0.00686575 0.03205362 0.22731453 0.5505586  0.18320747] 1.0\n",
      "7719\n",
      "[0.51831293 0.38653547 0.08781529 0.0039255  0.00341078] 1.0\n",
      "7728\n",
      "[8.78545225e-01 1.14163876e-01 7.11447885e-03 1.05690473e-04\n",
      " 7.08289735e-05] 1.0\n",
      "7743\n",
      "[0.80743206 0.16805671 0.02197306 0.00126462 0.0012735 ] 1.0\n",
      "7755\n",
      "[0.281861   0.46175012 0.22352464 0.02358967 0.00927448] 1.0\n",
      "7776\n",
      "[0.28091493 0.31600153 0.28743303 0.06884468 0.04680585] 1.0\n",
      "7793\n",
      "[0.7522672  0.18929264 0.04281449 0.00763368 0.00799194] 1.0\n",
      "7800\n",
      "[0.05471447 0.09729338 0.22319688 0.28699875 0.33779657] 1.0\n",
      "7833\n",
      "[0.52527606 0.3079373  0.11764391 0.0247458  0.02439687] 1.0\n",
      "7844\n",
      "[0.13714449 0.14306845 0.11418769 0.18575984 0.41983953] 1.0\n",
      "7885\n",
      "[0.00646083 0.00519535 0.01334781 0.10283916 0.87215686] 1.0\n",
      "7919\n",
      "[0.50862527 0.19315943 0.10632315 0.10080263 0.09108953] 1.0\n",
      "7928\n",
      "[0.48128247 0.34257805 0.1359934  0.02305499 0.01709103] 1.0\n",
      "7949\n",
      "[0.1725204  0.44039676 0.30652514 0.06015252 0.02040517] 1.0\n",
      "7957\n",
      "[0.01857459 0.05173434 0.23981602 0.47421944 0.21565562] 1.0\n",
      "7977\n",
      "[0.77714664 0.17529047 0.03530215 0.00574993 0.00651083] 1.0\n",
      "8026\n",
      "[0.01638776 0.02743463 0.12526084 0.4027503  0.4281665 ] 1.0\n",
      "8118\n",
      "[0.81132233 0.1664381  0.02034141 0.00097078 0.00092728] 1.0\n",
      "8123\n"
     ]
    },
    {
     "name": "stdout",
     "output_type": "stream",
     "text": [
      "[0.40042272 0.41028014 0.16042864 0.01756536 0.01130324] 1.0\n",
      "8131\n",
      "[0.38374993 0.30314088 0.17423996 0.07079547 0.06807371] 1.0\n",
      "8175\n",
      "[0.8509092  0.12998746 0.01651222 0.00129718 0.00129397] 1.0\n",
      "8181\n",
      "[0.671337   0.25075608 0.06075214 0.00792413 0.00923064] 1.0\n",
      "8182\n",
      "[0.476247   0.37791857 0.13298756 0.00934284 0.00350414] 1.0\n",
      "8183\n",
      "[0.35701507 0.40845042 0.18550971 0.02712594 0.0218988 ] 1.0\n",
      "8212\n",
      "[0.65778524 0.2715966  0.05942698 0.00514695 0.00604421] 1.0\n",
      "8221\n",
      "[0.40487427 0.2336249  0.13909087 0.10134614 0.12106378] 1.0\n",
      "8247\n",
      "[0.39688492 0.22537124 0.14465667 0.11848758 0.11459953] 1.0\n",
      "8258\n",
      "[0.29235494 0.49689963 0.19561979 0.0109347  0.00419094] 1.0\n",
      "8297\n",
      "[0.6442367  0.29986876 0.05243909 0.00202115 0.00143432] 1.0\n",
      "8299\n",
      "[0.14069657 0.45230103 0.334734   0.05957744 0.01269104] 1.0\n",
      "8301\n",
      "[0.670469   0.2739715  0.05008949 0.00268552 0.00278455] 1.0\n",
      "8304\n",
      "[0.5081049  0.3750213  0.10523966 0.00732472 0.00430937] 1.0\n",
      "8329\n",
      "[0.28153566 0.4648162  0.2310719  0.01603799 0.00653821] 1.0\n",
      "8333\n",
      "[0.6232948  0.2507616  0.08021349 0.02053486 0.02519523] 1.0\n",
      "8339\n",
      "[0.70719904 0.2460024  0.04238992 0.00234804 0.00206053] 1.0\n",
      "8358\n",
      "[0.27057004 0.4644573  0.22921626 0.0253227  0.01043366] 1.0\n",
      "8361\n",
      "[0.4161612  0.29345796 0.16461325 0.0701815  0.05558611] 1.0\n",
      "8376\n",
      "[0.26046476 0.359978   0.25120956 0.08155874 0.046789  ] 1.0\n",
      "8392\n",
      "[0.26818556 0.2979953  0.2252824  0.10924423 0.09929254] 1.0\n",
      "8395\n",
      "[0.80271786 0.17126806 0.02319829 0.0014023  0.00141355] 1.0\n",
      "8414\n",
      "[0.7818054  0.12472948 0.03752524 0.02642741 0.02951241] 1.0\n",
      "8429\n",
      "[0.8089256  0.16590863 0.02231191 0.00139426 0.00145951] 1.0\n",
      "8448\n",
      "[0.45696026 0.42908445 0.10704051 0.00420939 0.00270541] 1.0\n",
      "8467\n",
      "[0.41007423 0.48419714 0.10277818 0.00203476 0.00091567] 1.0\n",
      "8476\n",
      "[0.43890265 0.45034495 0.10627844 0.00310096 0.001373  ] 1.0\n",
      "8487\n",
      "[0.89352113 0.07669803 0.01585926 0.00798096 0.0059406 ] 1.0\n",
      "8491\n",
      "[0.15014254 0.15591337 0.19114816 0.2913739  0.21142206] 1.0\n",
      "8521\n",
      "[0.06344327 0.06380065 0.08831927 0.21655364 0.5678832 ] 1.0\n",
      "8545\n",
      "[9.1048115e-01 8.2123235e-02 6.6152993e-03 3.5589503e-04 4.2449028e-04] 1.0\n"
     ]
    }
   ],
   "source": [
    "for idx, x in enumerate(predictions):\n",
    "    \n",
    "    if ratings_test[idx] == 1.0:\n",
    "        print(idx)\n",
    "        print(predictions[idx,:], ratings_test[idx])\n",
    "    "
   ]
  },
  {
   "cell_type": "markdown",
   "metadata": {},
   "source": [
    "#### 4.5.4 Scoring each Review in the Dataset"
   ]
  },
  {
   "cell_type": "code",
   "execution_count": 662,
   "metadata": {},
   "outputs": [
    {
     "name": "stdout",
     "output_type": "stream",
     "text": [
      "   reviews.rating                                       reviews.text  \\\n",
      "0             4.0  b\"Pleasant 10 min walk along the sea front to ...   \n",
      "1             5.0  b\"Really lovely hotel. Stayed on the very top ...   \n",
      "2             5.0  b'Ett mycket bra hotell. Det som drog ner bety...   \n",
      "3             5.0  b'We stayed here for four nights in October. T...   \n",
      "4             5.0  b'We loved staying on the island of Lido! You ...   \n",
      "\n",
      "   reviews.length  lstm_sentiment_score  naive_bayes_sentiment_scores  \\\n",
      "0             194              0.550493                      0.987410   \n",
      "1             252              0.984754                      0.999670   \n",
      "2             136              0.542673                      0.756504   \n",
      "3             354              0.741117                      0.994756   \n",
      "4             326              0.965375                      0.999991   \n",
      "\n",
      "   naive_bayes_sentiment_score  \n",
      "0                     0.500003  \n",
      "1                     0.999112  \n",
      "2                     0.999414  \n",
      "3                     0.999943  \n",
      "4                     0.962039  \n"
     ]
    }
   ],
   "source": [
    "def get_lstm_sentiment_score(preds):\n",
    "    return (-1*preds[:,0]) + (-0.5*preds[:,1]) + (0.5*preds[:,3]) + (1*preds[:,4])\n",
    "\n",
    "\n",
    "df[\"lstm_sentiment_score\"] = get_lstm_sentiment_score(model.predict(X))\n",
    "\n",
    "print(df.head())\n"
   ]
  },
  {
   "cell_type": "markdown",
   "metadata": {},
   "source": [
    "#### 4.5.5 Evaluating Resultant Sentiment Scores"
   ]
  },
  {
   "cell_type": "code",
   "execution_count": 663,
   "metadata": {},
   "outputs": [
    {
     "data": {
      "text/plain": [
       "<matplotlib.axes._subplots.AxesSubplot at 0x200a9be86a0>"
      ]
     },
     "execution_count": 663,
     "metadata": {},
     "output_type": "execute_result"
    },
    {
     "data": {
      "image/png": "[encoded data removed]",
      "text/plain": [
       "<Figure size 432x288 with 1 Axes>"
      ]
     },
     "metadata": {
      "needs_background": "light"
     },
     "output_type": "display_data"
    }
   ],
   "source": [
    "df.boxplot(column=\"lstm_sentiment_score\", by=\"reviews.rating\")"
   ]
  },
  {
   "cell_type": "code",
   "execution_count": 666,
   "metadata": {},
   "outputs": [
    {
     "data": {
      "text/plain": [
       "<Figure size 432x288 with 0 Axes>"
      ]
     },
     "execution_count": 666,
     "metadata": {},
     "output_type": "execute_result"
    },
    {
     "data": {
      "image/png": "[encoded data removed]",
      "text/plain": [
       "<Figure size 432x288 with 1 Axes>"
      ]
     },
     "metadata": {
      "needs_background": "light"
     },
     "output_type": "display_data"
    },
    {
     "data": {
      "image/png": "[encoded data removed]",
      "text/plain": [
       "<Figure size 432x288 with 1 Axes>"
      ]
     },
     "metadata": {
      "needs_background": "light"
     },
     "output_type": "display_data"
    },
    {
     "data": {
      "image/png": "[encoded data removed]",
      "text/plain": [
       "<Figure size 432x288 with 1 Axes>"
      ]
     },
     "metadata": {
      "needs_background": "light"
     },
     "output_type": "display_data"
    },
    {
     "data": {
      "image/png": "[encoded data removed]",
      "text/plain": [
       "<Figure size 432x288 with 1 Axes>"
      ]
     },
     "metadata": {
      "needs_background": "light"
     },
     "output_type": "display_data"
    },
    {
     "data": {
      "image/png": "[encoded data removed]",
      "text/plain": [
       "<Figure size 432x288 with 1 Axes>"
      ]
     },
     "metadata": {
      "needs_background": "light"
     },
     "output_type": "display_data"
    },
    {
     "data": {
      "text/plain": [
       "<Figure size 432x288 with 0 Axes>"
      ]
     },
     "metadata": {},
     "output_type": "display_data"
    }
   ],
   "source": [
    "df[df[\"reviews.rating\"] == 1.0][\"lstm_sentiment_score\"].hist()\n",
    "plt.figure()\n",
    "df[df[\"reviews.rating\"] == 2.0][\"lstm_sentiment_score\"].hist()\n",
    "plt.figure()\n",
    "df[df[\"reviews.rating\"] == 3.0][\"lstm_sentiment_score\"].hist()\n",
    "plt.figure()\n",
    "df[df[\"reviews.rating\"] == 4.0][\"lstm_sentiment_score\"].hist()\n",
    "plt.figure()\n",
    "df[df[\"reviews.rating\"] == 5.0][\"lstm_sentiment_score\"].hist()\n",
    "plt.figure()"
   ]
  },
  {
   "cell_type": "code",
   "execution_count": null,
   "metadata": {},
   "outputs": [],
   "source": [
    "def get_lstm_difference_score(rating, sentiment_score):\n",
    "    pass"
   ]
  }
 ],
 "metadata": {
  "kernelspec": {
   "display_name": "Python 3",
   "language": "python",
   "name": "python3"
  },
  "language_info": {
   "codemirror_mode": {
    "name": "ipython",
    "version": 3
   },
   "file_extension": ".py",
   "mimetype": "text/x-python",
   "name": "python",
   "nbconvert_exporter": "python",
   "pygments_lexer": "ipython3",
   "version": "3.7.1"
  }
 },
 "nbformat": 4,
 "nbformat_minor": 2
}
