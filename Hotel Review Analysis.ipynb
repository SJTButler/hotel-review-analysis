{
 "cells": [
  {
   "cell_type": "code",
   "execution_count": 44,
   "metadata": {},
   "outputs": [
    {
     "name": "stdout",
     "output_type": "stream",
     "text": [
      "env: GOOGLE_APPLICATION_CREDENTIALS=translationKeys.json\n"
     ]
    }
   ],
   "source": [
    "from enum import Enum\n",
    "from string import printable\n",
    "import time\n",
    "import math\n",
    "\n",
    "import numpy as np\n",
    "import pandas as pd\n",
    "\n",
    "import matplotlib.pyplot as plt\n",
    "\n",
    "#Google cloud API imports\n",
    "from google.cloud import translate_v2 as translate\n",
    "from google.cloud.exceptions import Forbidden\n",
    "from google.cloud.exceptions import BadRequest\n",
    "\n",
    "from google.cloud import language\n",
    "from google.cloud.language import enums as gc_enums\n",
    "from google.cloud.language import types as gc_types\n",
    "\n",
    "\n",
    "from tqdm.auto import tqdm\n",
    "tqdm.pandas() #allows progress bar support for pandas mapping functions\n",
    "\n",
    "%matplotlib inline\n",
    "\n",
    "%env GOOGLE_APPLICATION_CREDENTIALS translationKeys.json"
   ]
  },
  {
   "cell_type": "code",
   "execution_count": 2,
   "metadata": {},
   "outputs": [],
   "source": [
    "#The dataset provided consists of three csv files, each with slightly different schema\n",
    "DATASET_1 = \"dataset/7282_1.csv\"\n",
    "DATASET_2 = \"dataset/Datafiniti_Hotel_Reviews.csv\"\n",
    "DATASET_3 = \"dataset/Datafiniti_Hotel_Reviews_Jun19.csv\"\n",
    "\n",
    "TRAIN_PROPORTION = 0.1\n",
    "\n",
    "USE_TRANSLATOR = True\n",
    "\n",
    "TRANSLATOR_OPTIONS = Enum(\"OPTIONS\", \"TRANSLATE REMOVE THRESHOLD\")\n",
    "TRANSLATOR_FUNCTIONALITY = TRANSLATOR_OPTIONS.TRANSLATE #options are \"translate\", which translates non-english text to english, and \n",
    "                                        # \"remove\", which drops records with non-english text from the training set\n",
    "TRANSLATOR_THRESHOLD=0.05"
   ]
  },
  {
   "cell_type": "markdown",
   "metadata": {},
   "source": [
    "## 1. Exploratory Analysis and Data Cleaning"
   ]
  },
  {
   "cell_type": "code",
   "execution_count": 69,
   "metadata": {},
   "outputs": [],
   "source": [
    "def clean_df(frame):\n",
    "    \n",
    "    #because I was having trouble with non-latin characters in strings (Japanese charsets, etc.) this project\n",
    "    # encodes all strings as utf-8 codepoints and decodes to strings as necessary. This feels sub-optimal, but\n",
    "    # as it works, I will keep it like this at this stage\n",
    "    frame[\"reviews.text\"] = frame[\"reviews.text\"].str.encode(\"utf-8\")\n",
    "\n",
    "    if (\"translated_text\" in frame.columns):\n",
    "        frame[\"translated_text\"] = frame[\"translated_text\"].str.encode(\"utf-8\")\n",
    "    \n",
    "    #keep only ratings that have a review attached (that is, not Na or empty or only whitespace)\n",
    "    frame = frame[~frame[\"reviews.text\"].isnull()] \n",
    "    frame = frame[frame[\"reviews.text\"] != \"\"]\n",
    "    frame = frame[~frame[\"reviews.text\"].str.isspace()]\n",
    "    \n",
    "    frame = frame.reset_index(drop=True)\n",
    "    \n",
    "    return frame\n",
    "\n",
    "def load_dataset(filename):\n",
    "    frame = pd.read_csv(filename)\n",
    "    frame = clean_df(frame)\n",
    "    return frame\n",
    "\n",
    "def save_dataset(frame, filename):\n",
    "    \n",
    "    frame = frame.copy()\n",
    "    \n",
    "    frame[\"reviews.text\"] = frame[\"reviews.text\"].map(lambda x: x.decode(\"utf-8\"))\n",
    "    \n",
    "    if (\"translated_text\" in frame.columns):\n",
    "        frame[\"translated_text\"] = frame[\"translated_text\"].map(lambda x: x.decode(\"utf-8\"))\n",
    "        \n",
    "    frame.to_csv(filename, encoding=\"utf-8\")\n",
    "    "
   ]
  },
  {
   "cell_type": "markdown",
   "metadata": {},
   "source": [
    "### Dataset 1"
   ]
  },
  {
   "cell_type": "code",
   "execution_count": 4,
   "metadata": {
    "scrolled": true
   },
   "outputs": [
    {
     "data": {
      "text/plain": [
       "<matplotlib.axes._subplots.AxesSubplot at 0x200e2f36470>"
      ]
     },
     "execution_count": 4,
     "metadata": {},
     "output_type": "execute_result"
    },
    {
     "data": {
      "image/png": "[encoded data removed]",
      "text/plain": [
       "<Figure size 432x288 with 1 Axes>"
      ]
     },
     "metadata": {
      "needs_background": "light"
     },
     "output_type": "display_data"
    }
   ],
   "source": [
    "df_1 = load_dataset(DATASET_1)\n",
    "#print(df)\n",
    "#df_1.head()\n",
    "\n",
    "df_1.boxplot(column=\"reviews.rating\")\n"
   ]
  },
  {
   "cell_type": "code",
   "execution_count": 5,
   "metadata": {},
   "outputs": [
    {
     "name": "stdout",
     "output_type": "stream",
     "text": [
      "5.0     12664\n",
      "4.0      9747\n",
      "3.0      5705\n",
      "1.0      3065\n",
      "2.0      2978\n",
      "0.0       337\n",
      "10.0      101\n",
      "9.6        53\n",
      "9.2        49\n",
      "4.3        26\n",
      "4.8        25\n",
      "8.3        25\n",
      "7.9        24\n",
      "7.5        24\n",
      "8.8        24\n",
      "4.2        22\n",
      "3.4        17\n",
      "4.1        14\n",
      "6.3        14\n",
      "7.1        13\n",
      "4.5        13\n",
      "6.7        12\n",
      "5.4         9\n",
      "4.6         7\n",
      "3.1         7\n",
      "5.8         6\n",
      "4.4         6\n",
      "3.3         6\n",
      "4.7         6\n",
      "4.9         6\n",
      "2.4         4\n",
      "2.5         3\n",
      "3.8         3\n",
      "3.7         2\n",
      "3.2         2\n",
      "3.9         2\n",
      "2.8         1\n",
      "1.3         1\n",
      "9.5         1\n",
      "1.5         1\n",
      "6.0         1\n",
      "2.9         1\n",
      "7.0         1\n",
      "Name: reviews.rating, dtype: int64\n"
     ]
    }
   ],
   "source": [
    "print(df_1[\"reviews.rating\"].value_counts())"
   ]
  },
  {
   "cell_type": "code",
   "execution_count": 6,
   "metadata": {},
   "outputs": [
    {
     "name": "stdout",
     "output_type": "stream",
     "text": [
      "              address categories      city country  latitude  longitude  \\\n",
      "4448  Taragaon Boudha     Hotels  Alliance      US   27.7216  85.355959   \n",
      "4449  Taragaon Boudha     Hotels  Alliance      US   27.7216  85.355959   \n",
      "4450  Taragaon Boudha     Hotels  Alliance      US   27.7216  85.355959   \n",
      "4451  Taragaon Boudha     Hotels  Alliance      US   27.7216  85.355959   \n",
      "4452  Taragaon Boudha     Hotels  Alliance      US   27.7216  85.355959   \n",
      "\n",
      "                         name postalCode province          reviews.date  \\\n",
      "4448  Hyatt Regency Kathmandu      44601       OH  2015-08-11T00:00:00Z   \n",
      "4449  Hyatt Regency Kathmandu      44601       OH  2016-01-12T00:00:00Z   \n",
      "4450  Hyatt Regency Kathmandu      44601       OH  2015-06-22T00:00:00Z   \n",
      "4451  Hyatt Regency Kathmandu      44601       OH  2016-05-17T00:00:00Z   \n",
      "4452  Hyatt Regency Kathmandu      44601       OH  2016-07-09T00:00:00Z   \n",
      "\n",
      "         reviews.dateAdded  reviews.doRecommend  reviews.id  reviews.rating  \\\n",
      "4448  2016-11-11T23:48:28Z                  NaN         NaN             9.6   \n",
      "4449  2016-11-11T23:48:28Z                  NaN         NaN            10.0   \n",
      "4450  2016-11-11T23:48:28Z                  NaN         NaN            10.0   \n",
      "4451  2016-11-11T23:48:28Z                  NaN         NaN             8.3   \n",
      "4452  2016-11-11T23:48:28Z                  NaN         NaN             8.8   \n",
      "\n",
      "                                           reviews.text  \\\n",
      "4448  b'The wifi signal was too low Loved The location'   \n",
      "4449  b'None what so ever. The staff were all friend...   \n",
      "4450  b'Friendly staff in a beautiful setting combin...   \n",
      "4451                                    b'nil location'   \n",
      "4452  b'room cooling, wifi connection slow, certain ...   \n",
      "\n",
      "                                          reviews.title reviews.userCity  \\\n",
      "4448                                           Location              NaN   \n",
      "4449  The staff were all friendly whether at the 6th...              NaN   \n",
      "4450                Lovely place and business as usual.              NaN   \n",
      "4451                                           location              NaN   \n",
      "4452                           it was really enjoyable.              NaN   \n",
      "\n",
      "     reviews.username reviews.userProvince  \n",
      "4448           Mohsin                  NaN  \n",
      "4449           Hassan                  NaN  \n",
      "4450        Anonymous                  NaN  \n",
      "4451           Davide                  NaN  \n",
      "4452          Khurram                  NaN  \n"
     ]
    }
   ],
   "source": [
    "print(df_1[df_1[\"reviews.rating\"] > 5].head())\n"
   ]
  },
  {
   "cell_type": "code",
   "execution_count": 7,
   "metadata": {},
   "outputs": [
    {
     "name": "stdout",
     "output_type": "stream",
     "text": [
      "                                      address  \\\n",
      "57                      2113 Sapp Brothers Dr   \n",
      "58                             2860 Grand Ave   \n",
      "59  142 Park Place Us 181 Business At Park Pl   \n",
      "79                      435 E Avenida Olancha   \n",
      "97                              316 N Main St   \n",
      "\n",
      "                                          categories          city country  \\\n",
      "57                             Lodging,Hotels,Motels      Percival      US   \n",
      "58                                Hotels,Restaurants    Los Olivos      US   \n",
      "59                                            Hotels        Kenedy      US   \n",
      "79                                      Hotels,Hotel  Palm Springs      US   \n",
      "97  Motels,Hotels,Restaurants,Bed & Breakfast & Inns       Neihart      US   \n",
      "\n",
      "     latitude   longitude                     name postalCode province  \\\n",
      "57  40.689730  -95.788826  Americas Best Value Inn      51648       IA   \n",
      "58  34.664684 -120.115036               Intermezzo      93441       CA   \n",
      "59  28.793795  -97.849655                 Studio 6      78119       TX   \n",
      "79  33.802822 -116.542690    Little Paradise Hotel      92264       CA   \n",
      "97  46.933598 -110.735886  Little Belt Inn Neihart      59465       MT   \n",
      "\n",
      "            reviews.date     reviews.dateAdded  reviews.doRecommend  \\\n",
      "57                   NaN  2016-04-06T13:03:08Z                  NaN   \n",
      "58                   NaN  2016-05-06T14:12:01Z                  NaN   \n",
      "59                   NaN  2016-05-07T01:34:14Z                  NaN   \n",
      "79  2016-07-12T00:00:00Z  2015-10-21T17:46:10Z                  NaN   \n",
      "97                   NaN  2016-06-16T21:25:59Z                  NaN   \n",
      "\n",
      "    reviews.id  reviews.rating  \\\n",
      "57         NaN             0.0   \n",
      "58         NaN             0.0   \n",
      "59         NaN             0.0   \n",
      "79         NaN             0.0   \n",
      "97         NaN             0.0   \n",
      "\n",
      "                                         reviews.text         reviews.title  \\\n",
      "57  b'to share your opinion of this businesswith Y...                   NaN   \n",
      "58  b'to share your opinion of this businesswith Y...                   NaN   \n",
      "59  b'to share your opinion of this businesswith Y...                   NaN   \n",
      "79  b'to share your opinion of this businesswith Y...  Lovely oasis of rest   \n",
      "97  b'to share your opinion of this businesswith Y...                   NaN   \n",
      "\n",
      "   reviews.userCity reviews.username reviews.userProvince  \n",
      "57              NaN   write a review                  NaN  \n",
      "58              NaN   write a review                  NaN  \n",
      "59              NaN   write a review                  NaN  \n",
      "79         Brussels   write a review                   CA  \n",
      "97              NaN   write a review                  NaN  \n"
     ]
    }
   ],
   "source": [
    "print(df_1[df_1[\"reviews.rating\"] == 0].head())"
   ]
  },
  {
   "cell_type": "markdown",
   "metadata": {},
   "source": [
    "From the unique values in DATASET_1, it seems that, while most of the reviews are rated on an integer scale between 1 and 5, at least some of the reviews are rated from 1.0-10.0. These reviews should be removed or re-scaled (I have chosen to remove them, as there are comparatively very few of them and there may be differences between what a user means by choosing two equivalent ratings on the two scales - ie. a 8/10 rating may have different connotations on average to a 4/5 rating.)\n",
    "\n",
    "Note: It is impossible to tell which of the remaining reviews are actually rated out of 10 rather than 5 - however, assuming the distribution of ratings out of 10 is similar to the distribution for ratings out of 5, there should be very few of these and their effect on any statistical analysis should be minor.\n",
    "\n",
    "Additionally, a quick glance at the 0 ratings suggests that these are not real reviews, but some artifact of the scraping process, and so should be removed as well."
   ]
  },
  {
   "cell_type": "code",
   "execution_count": 8,
   "metadata": {},
   "outputs": [
    {
     "name": "stdout",
     "output_type": "stream",
     "text": [
      "5.0    12664\n",
      "4.0     9747\n",
      "3.0     5705\n",
      "1.0     3065\n",
      "2.0     2978\n",
      "Name: reviews.rating, dtype: int64\n"
     ]
    }
   ],
   "source": [
    "df_1 = df_1[df_1[\"reviews.rating\"].isin([1.0,2.0,3.0,4.0,5.0])]\n",
    "\n",
    "print(df_1[\"reviews.rating\"].value_counts())"
   ]
  },
  {
   "cell_type": "code",
   "execution_count": 9,
   "metadata": {},
   "outputs": [
    {
     "name": "stdout",
     "output_type": "stream",
     "text": [
      "count    34159.000000\n",
      "mean       256.185544\n",
      "std        219.689435\n",
      "min          1.000000\n",
      "25%        103.000000\n",
      "50%        227.000000\n",
      "75%        330.000000\n",
      "max       3827.000000\n",
      "Name: reviews.length, dtype: float64\n"
     ]
    },
    {
     "data": {
      "text/plain": [
       "<matplotlib.axes._subplots.AxesSubplot at 0x200e4b4c940>"
      ]
     },
     "execution_count": 9,
     "metadata": {},
     "output_type": "execute_result"
    },
    {
     "data": {
      "image/png": "[encoded data removed]",
      "text/plain": [
       "<Figure size 432x288 with 1 Axes>"
      ]
     },
     "metadata": {
      "needs_background": "light"
     },
     "output_type": "display_data"
    }
   ],
   "source": [
    "df_1[\"reviews.length\"] = df_1[\"reviews.text\"].str.len()\n",
    "\n",
    "print(df_1[\"reviews.length\"].describe())\n",
    "\n",
    "df_1.boxplot(column=\"reviews.length\")\n"
   ]
  },
  {
   "cell_type": "code",
   "execution_count": 10,
   "metadata": {},
   "outputs": [
    {
     "data": {
      "text/plain": [
       "<matplotlib.axes._subplots.AxesSubplot at 0x200e3613860>"
      ]
     },
     "execution_count": 10,
     "metadata": {},
     "output_type": "execute_result"
    },
    {
     "data": {
      "image/png": "[encoded data removed]",
      "text/plain": [
       "<Figure size 432x288 with 1 Axes>"
      ]
     },
     "metadata": {
      "needs_background": "light"
     },
     "output_type": "display_data"
    }
   ],
   "source": [
    "df_1[\"reviews.length\"].hist(bins=100)"
   ]
  },
  {
   "cell_type": "code",
   "execution_count": 11,
   "metadata": {},
   "outputs": [
    {
     "data": {
      "text/plain": [
       "<matplotlib.axes._subplots.AxesSubplot at 0x200e2f2c828>"
      ]
     },
     "execution_count": 11,
     "metadata": {},
     "output_type": "execute_result"
    },
    {
     "data": {
      "image/png": "[encoded data removed]",
      "text/plain": [
       "<Figure size 432x288 with 1 Axes>"
      ]
     },
     "metadata": {
      "needs_background": "light"
     },
     "output_type": "display_data"
    }
   ],
   "source": [
    "df_1.boxplot(column=\"reviews.length\", by=\"reviews.rating\")"
   ]
  },
  {
   "cell_type": "markdown",
   "metadata": {},
   "source": [
    "Beacuse there is a large drop off in the number of reviews at around 450 characters, I have decided to remove all reviews longer than that, as their outlier status may negatively affect their usefulness in creating accurate sentiment analysis methodologies\n",
    "\n",
    "To remove reviews that are too small to be of use in determining sentiment, I have decided to use the 25th percentile length value (~100) as the minimum cutoff point."
   ]
  },
  {
   "cell_type": "code",
   "execution_count": 12,
   "metadata": {},
   "outputs": [
    {
     "name": "stdout",
     "output_type": "stream",
     "text": [
      "Number of records in pruned dataset: {} 22395\n",
      "Percentage of records kept: %{} 65.56105272402588\n"
     ]
    }
   ],
   "source": [
    "LOWER_BOUND = 100\n",
    "UPPER_BOUND = 450\n",
    "\n",
    "orig_size = df_1[\"reviews.text\"].count()\n",
    "\n",
    "df_1 = df_1[df_1[\"reviews.length\"].between(LOWER_BOUND, UPPER_BOUND)]\n",
    "\n",
    "\n",
    "new_size = df_1[\"reviews.text\"].count()\n",
    "\n",
    "print(\"Number of records in pruned dataset: {}\", new_size)\n",
    "print(\"Percentage of records kept: %{}\", (new_size/orig_size * 100))\n"
   ]
  },
  {
   "cell_type": "markdown",
   "metadata": {},
   "source": [
    "With around 65% of records kept from the dataset, I feel that these upper and lower bounds for length strike a good balance between removing outliers and keeping a large enough corpus to train any sentiment analysis models with."
   ]
  },
  {
   "cell_type": "markdown",
   "metadata": {},
   "source": [
    "### Dataset 2"
   ]
  },
  {
   "cell_type": "code",
   "execution_count": 13,
   "metadata": {},
   "outputs": [
    {
     "data": {
      "text/plain": [
       "<matplotlib.axes._subplots.AxesSubplot at 0x200e308d278>"
      ]
     },
     "execution_count": 13,
     "metadata": {},
     "output_type": "execute_result"
    },
    {
     "data": {
      "image/png": "[encoded data removed]",
      "text/plain": [
       "<Figure size 432x288 with 1 Axes>"
      ]
     },
     "metadata": {
      "needs_background": "light"
     },
     "output_type": "display_data"
    }
   ],
   "source": [
    "df_2 = load_dataset(DATASET_2)\n",
    "df_2.head()\n",
    "\n",
    "df_2.boxplot(column=\"reviews.rating\")"
   ]
  },
  {
   "cell_type": "code",
   "execution_count": 14,
   "metadata": {},
   "outputs": [
    {
     "name": "stdout",
     "output_type": "stream",
     "text": [
      "5.00    4384\n",
      "4.00    2397\n",
      "3.00    1186\n",
      "1.00     572\n",
      "2.00     561\n",
      "4.80     162\n",
      "4.60     155\n",
      "4.40     102\n",
      "3.75      91\n",
      "4.15      78\n",
      "3.95      52\n",
      "3.55      50\n",
      "3.35      40\n",
      "3.15      37\n",
      "2.90      34\n",
      "2.70      23\n",
      "2.50      19\n",
      "2.30      12\n",
      "2.10      11\n",
      "1.65       8\n",
      "1.45       6\n",
      "4.50       4\n",
      "1.90       4\n",
      "3.25       2\n",
      "3.50       2\n",
      "1.25       2\n",
      "4.25       2\n",
      "2.75       1\n",
      "4.75       1\n",
      "3.45       1\n",
      "Name: reviews.rating, dtype: int64\n"
     ]
    }
   ],
   "source": [
    "print(df_2[\"reviews.rating\"].value_counts())"
   ]
  },
  {
   "cell_type": "markdown",
   "metadata": {},
   "source": [
    "For DATASET_2, all reviews are rated on the 1-5 scale, but a small minority are non-integer ratings. Here, it makes sense to round these ratings to the nearest integer"
   ]
  },
  {
   "cell_type": "code",
   "execution_count": 15,
   "metadata": {},
   "outputs": [
    {
     "name": "stdout",
     "output_type": "stream",
     "text": [
      "5.0    4702\n",
      "4.0    2778\n",
      "3.0    1324\n",
      "2.0     615\n",
      "1.0     580\n",
      "Name: reviews.rating, dtype: int64\n"
     ]
    }
   ],
   "source": [
    "df_2[\"reviews.rating\"] = df_2[\"reviews.rating\"].round()\n",
    "\n",
    "print(df_2[\"reviews.rating\"].value_counts())"
   ]
  },
  {
   "cell_type": "code",
   "execution_count": 16,
   "metadata": {},
   "outputs": [
    {
     "name": "stdout",
     "output_type": "stream",
     "text": [
      "count    9999.000000\n",
      "mean      324.666367\n",
      "std       295.447557\n",
      "min         1.000000\n",
      "25%       201.000000\n",
      "50%       298.000000\n",
      "75%       344.000000\n",
      "max      5939.000000\n",
      "Name: reviews.length, dtype: float64\n"
     ]
    },
    {
     "data": {
      "text/plain": [
       "<matplotlib.axes._subplots.AxesSubplot at 0x200e34bd3c8>"
      ]
     },
     "execution_count": 16,
     "metadata": {},
     "output_type": "execute_result"
    },
    {
     "data": {
      "image/png": "[encoded data removed]",
      "text/plain": [
       "<Figure size 432x288 with 1 Axes>"
      ]
     },
     "metadata": {
      "needs_background": "light"
     },
     "output_type": "display_data"
    }
   ],
   "source": [
    "df_2[\"reviews.length\"] = df_2[\"reviews.text\"].str.len()\n",
    "\n",
    "print(df_2[\"reviews.length\"].describe())\n",
    "\n",
    "df_2.boxplot(column=\"reviews.length\")"
   ]
  },
  {
   "cell_type": "code",
   "execution_count": 17,
   "metadata": {},
   "outputs": [
    {
     "data": {
      "text/plain": [
       "<matplotlib.axes._subplots.AxesSubplot at 0x200e34fbb00>"
      ]
     },
     "execution_count": 17,
     "metadata": {},
     "output_type": "execute_result"
    },
    {
     "data": {
      "image/png": "[encoded data removed]",
      "text/plain": [
       "<Figure size 432x288 with 1 Axes>"
      ]
     },
     "metadata": {
      "needs_background": "light"
     },
     "output_type": "display_data"
    }
   ],
   "source": [
    "df_2[\"reviews.length\"].hist(bins=100)"
   ]
  },
  {
   "cell_type": "code",
   "execution_count": 18,
   "metadata": {},
   "outputs": [
    {
     "data": {
      "text/plain": [
       "<matplotlib.axes._subplots.AxesSubplot at 0x200e47988d0>"
      ]
     },
     "execution_count": 18,
     "metadata": {},
     "output_type": "execute_result"
    },
    {
     "data": {
      "image/png": "[encoded data removed]",
      "text/plain": [
       "<Figure size 432x288 with 1 Axes>"
      ]
     },
     "metadata": {
      "needs_background": "light"
     },
     "output_type": "display_data"
    }
   ],
   "source": [
    "df_2.boxplot(column=\"reviews.length\", by=\"reviews.rating\")"
   ]
  },
  {
   "cell_type": "code",
   "execution_count": 19,
   "metadata": {},
   "outputs": [
    {
     "name": "stdout",
     "output_type": "stream",
     "text": [
      "Number of records in pruned dataset: {} 7474\n",
      "Percentage of records kept: %{} 74.74747474747475\n"
     ]
    }
   ],
   "source": [
    "orig_size = df_2[\"reviews.text\"].count()\n",
    "\n",
    "df_2 = df_2[df_2[\"reviews.length\"].between(LOWER_BOUND, UPPER_BOUND)]\n",
    "\n",
    "\n",
    "new_size = df_2[\"reviews.text\"].count()\n",
    "\n",
    "print(\"Number of records in pruned dataset: {}\", new_size)\n",
    "print(\"Percentage of records kept: %{}\", (new_size/orig_size * 100))"
   ]
  },
  {
   "cell_type": "markdown",
   "metadata": {},
   "source": [
    "### Dataset 3"
   ]
  },
  {
   "cell_type": "code",
   "execution_count": 20,
   "metadata": {},
   "outputs": [
    {
     "name": "stdout",
     "output_type": "stream",
     "text": [
      "5    4840\n",
      "4    2849\n",
      "3    1190\n",
      "1     567\n",
      "2     554\n",
      "Name: reviews.rating, dtype: int64\n"
     ]
    },
    {
     "data": {
      "image/png": "[encoded data removed]",
      "text/plain": [
       "<Figure size 432x288 with 1 Axes>"
      ]
     },
     "metadata": {
      "needs_background": "light"
     },
     "output_type": "display_data"
    }
   ],
   "source": [
    "df_3 = load_dataset(DATASET_3)\n",
    "\n",
    "df_3.head()\n",
    "\n",
    "df_3.boxplot(column=\"reviews.rating\")\n",
    "print(df_3[\"reviews.rating\"].value_counts())"
   ]
  },
  {
   "cell_type": "markdown",
   "metadata": {},
   "source": [
    "In DATASET_3, all of the reviews are already on the integer 1-5 scale, so there is nothing that needs to be done."
   ]
  },
  {
   "cell_type": "code",
   "execution_count": 21,
   "metadata": {},
   "outputs": [
    {
     "name": "stdout",
     "output_type": "stream",
     "text": [
      "count    10000.000000\n",
      "mean       651.899600\n",
      "std        593.559418\n",
      "min          8.000000\n",
      "25%        302.000000\n",
      "50%        462.000000\n",
      "75%        812.250000\n",
      "max      14254.000000\n",
      "Name: reviews.length, dtype: float64\n"
     ]
    },
    {
     "data": {
      "text/plain": [
       "<matplotlib.axes._subplots.AxesSubplot at 0x200e49f62e8>"
      ]
     },
     "execution_count": 21,
     "metadata": {},
     "output_type": "execute_result"
    },
    {
     "data": {
      "image/png": "[encoded data removed]",
      "text/plain": [
       "<Figure size 432x288 with 1 Axes>"
      ]
     },
     "metadata": {
      "needs_background": "light"
     },
     "output_type": "display_data"
    }
   ],
   "source": [
    "df_3[\"reviews.length\"] = df_3[\"reviews.text\"].str.len()\n",
    "\n",
    "print(df_3[\"reviews.length\"].describe())\n",
    "\n",
    "df_3.boxplot(column=\"reviews.length\")\n"
   ]
  },
  {
   "cell_type": "code",
   "execution_count": 22,
   "metadata": {},
   "outputs": [
    {
     "data": {
      "text/plain": [
       "<matplotlib.axes._subplots.AxesSubplot at 0x200e49a2400>"
      ]
     },
     "execution_count": 22,
     "metadata": {},
     "output_type": "execute_result"
    },
    {
     "data": {
      "image/png": "[encoded data removed]",
      "text/plain": [
       "<Figure size 432x288 with 1 Axes>"
      ]
     },
     "metadata": {
      "needs_background": "light"
     },
     "output_type": "display_data"
    }
   ],
   "source": [
    "df_3[\"reviews.length\"].hist(bins=100)"
   ]
  },
  {
   "cell_type": "code",
   "execution_count": 23,
   "metadata": {},
   "outputs": [
    {
     "data": {
      "text/plain": [
       "<matplotlib.axes._subplots.AxesSubplot at 0x200e49f6240>"
      ]
     },
     "execution_count": 23,
     "metadata": {},
     "output_type": "execute_result"
    },
    {
     "data": {
      "image/png": "[encoded data removed]",
      "text/plain": [
       "<Figure size 432x288 with 1 Axes>"
      ]
     },
     "metadata": {
      "needs_background": "light"
     },
     "output_type": "display_data"
    }
   ],
   "source": [
    "df_3.boxplot(column=\"reviews.length\", by=\"reviews.rating\")"
   ]
  },
  {
   "cell_type": "code",
   "execution_count": 24,
   "metadata": {},
   "outputs": [
    {
     "name": "stdout",
     "output_type": "stream",
     "text": [
      "Number of records in pruned dataset: 4871\n",
      "Percentage of records kept: 48.71%\n"
     ]
    }
   ],
   "source": [
    "orig_size = df_3[\"reviews.text\"].count()\n",
    "\n",
    "df_3 = df_3[df_3[\"reviews.length\"].between(LOWER_BOUND, UPPER_BOUND)]\n",
    "\n",
    "\n",
    "new_size = df_3[\"reviews.text\"].count()\n",
    "\n",
    "print(\"Number of records in pruned dataset: {}\".format(new_size))\n",
    "print(\"Percentage of records kept: {}%\".format(new_size/orig_size * 100))"
   ]
  },
  {
   "cell_type": "markdown",
   "metadata": {},
   "source": [
    "Using the Upper and Lower length bounds for Dataset 1 here have resulted in a significantly larger number of records being eliminated"
   ]
  },
  {
   "cell_type": "markdown",
   "metadata": {},
   "source": [
    "### Combining the Three Datasets"
   ]
  },
  {
   "cell_type": "code",
   "execution_count": 25,
   "metadata": {},
   "outputs": [
    {
     "name": "stdout",
     "output_type": "stream",
     "text": [
      "{'reviews.date', 'longitude', 'reviews.userProvince', 'reviews.rating', 'categories', 'postalCode', 'latitude', 'reviews.length', 'reviews.username', 'name', 'city', 'province', 'reviews.title', 'address', 'reviews.text', 'reviews.userCity', 'country'}\n"
     ]
    }
   ],
   "source": [
    "#Find the columns that are present in each of the three datasets, and make sure that there aren't any important columns\n",
    "# (review text, title, rating, etc.) that are functionally identical, but named differently\n",
    "columns_intersection = set.intersection(set(df_1.columns.values),set(df_2.columns.values), set(df_3.columns.values))\n",
    "print(columns_intersection)"
   ]
  },
  {
   "cell_type": "code",
   "execution_count": 26,
   "metadata": {},
   "outputs": [
    {
     "name": "stdout",
     "output_type": "stream",
     "text": [
      "   reviews.rating                                       reviews.text  \\\n",
      "0             4.0  b\"Pleasant 10 min walk along the sea front to ...   \n",
      "1             5.0  b\"Really lovely hotel. Stayed on the very top ...   \n",
      "2             5.0  b'Ett mycket bra hotell. Det som drog ner bety...   \n",
      "3             5.0  b'We stayed here for four nights in October. T...   \n",
      "4             5.0  b'We loved staying on the island of Lido! You ...   \n",
      "\n",
      "   reviews.length  \n",
      "0             194  \n",
      "1             252  \n",
      "2             136  \n",
      "3             354  \n",
      "4             326  \n",
      "34223\n"
     ]
    }
   ],
   "source": [
    "#now concatenate the chosen data sources on the schema intersection\n",
    "\n",
    "df = pd.concat([df_1,df_2,df_3], join=\"inner\")\n",
    "\n",
    "#remove unnecessary columns\n",
    "df = df[[\"reviews.rating\", \"reviews.text\", \"reviews.length\"]]\n",
    "\n",
    "\n",
    "#remove reviews with the same rating and text\n",
    "df = df.drop_duplicates()\n",
    "\n",
    "df = df.reset_index(drop=True)\n",
    "\n",
    "print(df.head())\n",
    "\n",
    "print(len(df))"
   ]
  },
  {
   "cell_type": "code",
   "execution_count": 27,
   "metadata": {},
   "outputs": [
    {
     "name": "stdout",
     "output_type": "stream",
     "text": [
      "reviews.rating                                                    5\n",
      "reviews.text      b'Americinn on the Au Sable river is a gem! Ve...\n",
      "reviews.length                                                  327\n",
      "Name: 789, dtype: object\n"
     ]
    }
   ],
   "source": [
    "print(df.loc[789,:])"
   ]
  },
  {
   "cell_type": "code",
   "execution_count": 28,
   "metadata": {},
   "outputs": [
    {
     "data": {
      "text/plain": [
       "reviews.rating    34223\n",
       "reviews.text      34223\n",
       "reviews.length    34223\n",
       "dtype: int64"
      ]
     },
     "execution_count": 28,
     "metadata": {},
     "output_type": "execute_result"
    }
   ],
   "source": [
    "df.count()"
   ]
  },
  {
   "cell_type": "code",
   "execution_count": 29,
   "metadata": {},
   "outputs": [
    {
     "data": {
      "text/html": [
       "<div>\n",
       "<style scoped>\n",
       "    .dataframe tbody tr th:only-of-type {\n",
       "        vertical-align: middle;\n",
       "    }\n",
       "\n",
       "    .dataframe tbody tr th {\n",
       "        vertical-align: top;\n",
       "    }\n",
       "\n",
       "    .dataframe thead th {\n",
       "        text-align: right;\n",
       "    }\n",
       "</style>\n",
       "<table border=\"1\" class=\"dataframe\">\n",
       "  <thead>\n",
       "    <tr style=\"text-align: right;\">\n",
       "      <th></th>\n",
       "      <th>reviews.rating</th>\n",
       "      <th>reviews.text</th>\n",
       "      <th>reviews.length</th>\n",
       "    </tr>\n",
       "  </thead>\n",
       "  <tbody>\n",
       "  </tbody>\n",
       "</table>\n",
       "</div>"
      ],
      "text/plain": [
       "Empty DataFrame\n",
       "Columns: [reviews.rating, reviews.text, reviews.length]\n",
       "Index: []"
      ]
     },
     "execution_count": 29,
     "metadata": {},
     "output_type": "execute_result"
    }
   ],
   "source": [
    "df[df[\"reviews.text\"] == \"\"]\n"
   ]
  },
  {
   "cell_type": "code",
   "execution_count": null,
   "metadata": {},
   "outputs": [],
   "source": []
  },
  {
   "cell_type": "code",
   "execution_count": null,
   "metadata": {},
   "outputs": [],
   "source": []
  },
  {
   "cell_type": "markdown",
   "metadata": {},
   "source": [
    "## 2. Translation of non-English reviews "
   ]
  },
  {
   "cell_type": "code",
   "execution_count": 31,
   "metadata": {},
   "outputs": [
    {
     "name": "stdout",
     "output_type": "stream",
     "text": [
      "Total number of characters in dataset: 9,075,527\n",
      "At $20 per million characters, using google cloud translate would cost $181.51\n"
     ]
    }
   ],
   "source": [
    "print(\"Total number of characters in dataset: {:,.0f}\".format(df[\"reviews.length\"].sum()))\n",
    "print(\"At $20 per million characters, using google cloud translate would cost ${:,.2f}\".format(df[\"reviews.length\"].sum() / 1000000 * 20))"
   ]
  },
  {
   "cell_type": "markdown",
   "metadata": {},
   "source": [
    "Given the cost of detecting and translating the languages of each review, it is unfeasible for me to use this in any data analytics pipeline in this project. However, to examine the usefullness of translation as a pre-processing step, I will create a smaller dataset (1000 records) which will be translated and used in each sentiment analysis approach."
   ]
  },
  {
   "cell_type": "code",
   "execution_count": 32,
   "metadata": {},
   "outputs": [
    {
     "name": "stdout",
     "output_type": "stream",
     "text": [
      "   reviews.rating                                       reviews.text  \\\n",
      "0             4.0  b\"Pleasant 10 min walk along the sea front to ...   \n",
      "1             5.0  b\"Really lovely hotel. Stayed on the very top ...   \n",
      "2             5.0  b'Ett mycket bra hotell. Det som drog ner bety...   \n",
      "3             5.0  b'We stayed here for four nights in October. T...   \n",
      "4             5.0  b'We loved staying on the island of Lido! You ...   \n",
      "\n",
      "   reviews.length  \n",
      "0             194  \n",
      "1             252  \n",
      "2             136  \n",
      "3             354  \n",
      "4             326  \n",
      "1000\n",
      "Total number of characters in dataset: 254,655\n",
      "At $20 per million characters, using google cloud translate would cost at least $5.09\n"
     ]
    }
   ],
   "source": [
    "df_small = df.loc[0:999, :]\n",
    "\n",
    "print(df_small.head())\n",
    "\n",
    "print(len(df_small))\n",
    "print(\"Total number of characters in dataset: {:,.0f}\".format(df_small[\"reviews.length\"].sum()))\n",
    "print(\"At $20 per million characters, using google cloud translate would cost at least ${:,.2f}\".format(df_small[\"reviews.length\"].sum() / 1000000 * 20))"
   ]
  },
  {
   "cell_type": "code",
   "execution_count": 34,
   "metadata": {},
   "outputs": [],
   "source": [
    "client = translate.Client()\n",
    "\n",
    "#uses the google cloud translate API to detect the text language, returning the language and the confidence\n",
    "def detect_language(text):\n",
    "\n",
    "    #get the translation from the API (allowing for a few seconds to breathe when at the rate limit)\n",
    "    while(True):\n",
    "        try:\n",
    "            detection = client.detect_language(text.decode(\"utf-8\"))\n",
    "        except Forbidden as e:\n",
    "            #print(e.message)\n",
    "            \n",
    "            #if we're hitting the rate limit, wait a second and try again\n",
    "            if e.message == \"POST https://translation.googleapis.com/language/translate/v2/detect: User Rate Limit Exceeded\":\n",
    "                time.sleep(1)\n",
    "                continue\n",
    "            else: raise #otherwise, throw the error as usual\n",
    "        break\n",
    "        \n",
    "    language = detection[\"language\"]\n",
    "    \n",
    "    #because the API says that the confidence value is not always available, give a confidence value of 1 \n",
    "    # (full confidence) if the confidence is not given to us\n",
    "    \n",
    "    confidence = detection[\"confidence\"] if \"confidence\" in detection else 1\n",
    "    \n",
    "    return language, confidence\n",
    "    \n",
    "#uses the google cloud translate API to\n",
    "#print(detect_language(\"aaaaaaa\"))\n",
    "\n",
    "def translate_text(text, source_lang=\"en\", target_lang=\"en\"):\n",
    "    \n",
    "    while(True):\n",
    "        try:\n",
    "            translation = client.translate(text.decode(\"utf-8\"), source_language=source_lang, target_language=target_lang)\n",
    "        except Forbidden as e:\n",
    "            #if we're hitting the rate limit, wait a second and try again\n",
    "            if e.message == \"POST https://translation.googleapis.com/language/translate/v2/detect: User Rate Limit Exceeded\":\n",
    "                time.sleep(1)\n",
    "                continue\n",
    "            else: raise #otherwise, throw the error as usual\n",
    "        except BadRequest as e:\n",
    "                print(text.decode(\"utf-8\"), \" \", source_lang, \"-\", target_lang)\n",
    "                raise\n",
    "        break\n",
    "    \n",
    "    return translation[\"translatedText\"].encode(\"utf-8\")\n",
    "\n"
   ]
  },
  {
   "cell_type": "code",
   "execution_count": 35,
   "metadata": {},
   "outputs": [],
   "source": [
    "def translate_dataframe(frame, redetect_languages=False, translator_functionality=TRANSLATOR_FUNCTIONALITY):\n",
    "    \n",
    "    #if selected, skip translating by just copying the untranslated text to the translated text column\n",
    "    if USE_TRANSLATOR == False:\n",
    "        frame[\"translated_text\"] = frame[\"reviews.text\"]\n",
    "        return frame\n",
    "    \n",
    "    #skip if we already have detected languages and are not explicitly re-collecting them\n",
    "    if (\"detected_language\" not in frame.columns) or (redetect_languages==True): \n",
    "        frame.loc[:,\"detected_language\"] = frame[\"reviews.text\"].progress_map(detect_language)\n",
    "        \n",
    "    #save the detected languages so further testing and work doesn't require going through the process of\n",
    "    #requesting language detection again\n",
    "    df.to_csv(\"reviewratings_withlanguagedetection.csv\")\n",
    "    \n",
    "    \n",
    "    #now take all the reviews not in the source language and deal with them according to the functionality option set\n",
    "    \n",
    "    if translator_functionality == TRANSLATOR_OPTIONS.TRANSLATE:\n",
    "        pass\n",
    "        \n",
    "        frame.loc[:,\"translated_text\"] = frame.progress_apply(lambda x: translate_text(x[\"reviews.text\"], \n",
    "                                                                                 source_lang=x[\"detected_language\"][0])\n",
    "                                                            if x[\"detected_language\"][0] != \"en\"\n",
    "                                                            else x[\"reviews.text\"]\n",
    "                                                        ,axis=1) \n",
    "        \n",
    "    elif translator_functionality == TRANSLATOR_OPTIONS.REMOVE:\n",
    "        \n",
    "        frame = frame[frame[\"detected_language\"][0] != \"en\"]\n",
    "        frame = frame.reset_index(drop=True)\n",
    "        frame.loc[:,\"translated_text\"] = frame[\"reviews.text\"]\n",
    "        \n",
    "    elif translator_functionality == TRANSLATOR_OPTIONS.THRESHOLD:\n",
    "        \n",
    "        frame = frame[frame[\"detected_language\"][0] != \"en\" and frame[\"detected_language\"][1] > TRANSLATOR_THRESHOLD]\n",
    "        frame = frame.reset_index(drop=True)\n",
    "        frame[\"translated_text\"] = [row[\"reviews.text\"] if row[\"detected_language\"][0] == \"en\" \n",
    "                                    else translate_text(row[\"reviews.text\"], source_lang=row[\"detected_language\"][0])\n",
    "                                    for row in frame]\n",
    "        pass\n",
    "    \n",
    "    \n",
    "    return frame\n",
    "\n",
    "#test_df = df.head().copy()\n",
    "#df_detected = translate_dataframe(test_df)\n",
    "#print(df_detected[\"detected_language\"].head())\n"
   ]
  },
  {
   "cell_type": "code",
   "execution_count": null,
   "metadata": {},
   "outputs": [],
   "source": []
  },
  {
   "cell_type": "code",
   "execution_count": 70,
   "metadata": {},
   "outputs": [
    {
     "data": {
      "application/vnd.jupyter.widget-view+json": {
       "model_id": "a4406aa7b113451897044f0f1930a2aa",
       "version_major": 2,
       "version_minor": 0
      },
      "text/plain": [
       "HBox(children=(IntProgress(value=0, max=5), HTML(value='')))"
      ]
     },
     "metadata": {},
     "output_type": "display_data"
    },
    {
     "data": {
      "application/vnd.jupyter.widget-view+json": {
       "model_id": "1bb3e929a1314efcbed03ac134a16729",
       "version_major": 2,
       "version_minor": 0
      },
      "text/plain": [
       "HBox(children=(IntProgress(value=0, max=5), HTML(value='')))"
      ]
     },
     "metadata": {},
     "output_type": "display_data"
    },
    {
     "name": "stdout",
     "output_type": "stream",
     "text": [
      "   reviews.rating                                       reviews.text  \\\n",
      "0             4.0  b\"Pleasant 10 min walk along the sea front to ...   \n",
      "1             5.0  b\"Really lovely hotel. Stayed on the very top ...   \n",
      "2             5.0  b'Ett mycket bra hotell. Det som drog ner bety...   \n",
      "3             5.0  b'We stayed here for four nights in October. T...   \n",
      "4             5.0  b'We loved staying on the island of Lido! You ...   \n",
      "\n",
      "   reviews.length detected_language  \\\n",
      "0             194           (en, 1)   \n",
      "1             252           (en, 1)   \n",
      "2             136           (sv, 1)   \n",
      "3             354           (en, 1)   \n",
      "4             326           (en, 1)   \n",
      "\n",
      "                                     translated_text  \n",
      "0  b\"Pleasant 10 min walk along the sea front to ...  \n",
      "1  b\"Really lovely hotel. Stayed on the very top ...  \n",
      "2  b'A very good hotel. What pulled down the grad...  \n",
      "3  b'We stayed here for four nights in October. T...  \n",
      "4  b'We loved staying on the island of Lido! You ...  \n"
     ]
    }
   ],
   "source": [
    "\n",
    "#first test using the first 5 records (of which one is in swedish)\n",
    "\n",
    "df_tiny = df.head().copy()\n",
    "\n",
    "df_tiny = translate_dataframe(df_tiny)\n",
    "\n",
    "print(df_tiny)\n"
   ]
  },
  {
   "cell_type": "code",
   "execution_count": 71,
   "metadata": {},
   "outputs": [
    {
     "name": "stdout",
     "output_type": "stream",
     "text": [
      "   reviews.rating                                       reviews.text  \\\n",
      "0             4.0  b\"Pleasant 10 min walk along the sea front to ...   \n",
      "1             5.0  b\"Really lovely hotel. Stayed on the very top ...   \n",
      "2             5.0  b'Ett mycket bra hotell. Det som drog ner bety...   \n",
      "3             5.0  b'We stayed here for four nights in October. T...   \n",
      "4             5.0  b'We loved staying on the island of Lido! You ...   \n",
      "\n",
      "   reviews.length detected_language  \\\n",
      "0             194           (en, 1)   \n",
      "1             252           (en, 1)   \n",
      "2             136           (sv, 1)   \n",
      "3             354           (en, 1)   \n",
      "4             326           (en, 1)   \n",
      "\n",
      "                                     translated_text  \n",
      "0  b\"Pleasant 10 min walk along the sea front to ...  \n",
      "1  b\"Really lovely hotel. Stayed on the very top ...  \n",
      "2  b'A very good hotel. What pulled down the grad...  \n",
      "3  b'We stayed here for four nights in October. T...  \n",
      "4  b'We loved staying on the island of Lido! You ...  \n",
      "   Unnamed: 0  reviews.rating  \\\n",
      "0           0             4.0   \n",
      "1           1             5.0   \n",
      "2           2             5.0   \n",
      "3           3             5.0   \n",
      "4           4             5.0   \n",
      "\n",
      "                                        reviews.text  reviews.length  \\\n",
      "0  b\"Pleasant 10 min walk along the sea front to ...             194   \n",
      "1  b\"Really lovely hotel. Stayed on the very top ...             252   \n",
      "2  b'Ett mycket bra hotell. Det som drog ner bety...             136   \n",
      "3  b'We stayed here for four nights in October. T...             354   \n",
      "4  b'We loved staying on the island of Lido! You ...             326   \n",
      "\n",
      "  detected_language                                    translated_text  \n",
      "0         ('en', 1)  b\"Pleasant 10 min walk along the sea front to ...  \n",
      "1         ('en', 1)  b\"Really lovely hotel. Stayed on the very top ...  \n",
      "2         ('sv', 1)  b'A very good hotel. What pulled down the grad...  \n",
      "3         ('en', 1)  b'We stayed here for four nights in October. T...  \n",
      "4         ('en', 1)  b'We loved staying on the island of Lido! You ...  \n"
     ]
    }
   ],
   "source": [
    "print(df_tiny)\n",
    "\n",
    "save_dataset(df_tiny, \"df_tiny.csv\")\n",
    "\n",
    "df_tiny = load_dataset(\"df_tiny.csv\")\n",
    "print(df_tiny)"
   ]
  },
  {
   "cell_type": "code",
   "execution_count": 41,
   "metadata": {
    "scrolled": true
   },
   "outputs": [
    {
     "data": {
      "application/vnd.jupyter.widget-view+json": {
       "model_id": "021effacb9944d3f8d9e4d31b245fe66",
       "version_major": 2,
       "version_minor": 0
      },
      "text/plain": [
       "HBox(children=(IntProgress(value=0, max=1000), HTML(value='')))"
      ]
     },
     "metadata": {},
     "output_type": "display_data"
    },
    {
     "name": "stdout",
     "output_type": "stream",
     "text": [
      "\n"
     ]
    },
    {
     "name": "stderr",
     "output_type": "stream",
     "text": [
      "C:\\Users\\lenovo\\Anaconda3\\lib\\site-packages\\pandas\\core\\indexing.py:362: SettingWithCopyWarning: \n",
      "A value is trying to be set on a copy of a slice from a DataFrame.\n",
      "Try using .loc[row_indexer,col_indexer] = value instead\n",
      "\n",
      "See the caveats in the documentation: http://pandas.pydata.org/pandas-docs/stable/indexing.html#indexing-view-versus-copy\n",
      "  self.obj[key] = _infer_fill_value(value)\n",
      "C:\\Users\\lenovo\\Anaconda3\\lib\\site-packages\\pandas\\core\\indexing.py:543: SettingWithCopyWarning: \n",
      "A value is trying to be set on a copy of a slice from a DataFrame.\n",
      "Try using .loc[row_indexer,col_indexer] = value instead\n",
      "\n",
      "See the caveats in the documentation: http://pandas.pydata.org/pandas-docs/stable/indexing.html#indexing-view-versus-copy\n",
      "  self.obj[item] = s\n"
     ]
    },
    {
     "data": {
      "application/vnd.jupyter.widget-view+json": {
       "model_id": "0521b0274eeb40d7a6a0007276e812a8",
       "version_major": 2,
       "version_minor": 0
      },
      "text/plain": [
       "HBox(children=(IntProgress(value=0, max=1000), HTML(value='')))"
      ]
     },
     "metadata": {},
     "output_type": "display_data"
    },
    {
     "name": "stdout",
     "output_type": "stream",
     "text": [
      "\n"
     ]
    }
   ],
   "source": [
    "#load_dataset(\"df_small.csv\") # skip translating by loading a pre-translated dataframe\n",
    "\n",
    "#detecting and translating the truncated dataset\n",
    "df_small = translate_dataframe(df_small)"
   ]
  },
  {
   "cell_type": "code",
   "execution_count": 42,
   "metadata": {},
   "outputs": [
    {
     "name": "stdout",
     "output_type": "stream",
     "text": [
      "     reviews.rating                                       reviews.text  \\\n",
      "0               4.0  b\"Pleasant 10 min walk along the sea front to ...   \n",
      "1               5.0  b\"Really lovely hotel. Stayed on the very top ...   \n",
      "2               5.0  b'Ett mycket bra hotell. Det som drog ner bety...   \n",
      "3               5.0  b'We stayed here for four nights in October. T...   \n",
      "4               5.0  b'We loved staying on the island of Lido! You ...   \n",
      "5               4.0  b'ottimo soggiorno e ottima sistemazione nei g...   \n",
      "6               3.0  b'Gnstiger Ausgangspunkt fr Venedig Besuche. R...   \n",
      "7               4.0  b'Lidoen er perfekt til et par dages ro og afs...   \n",
      "8               4.0  b'Accueil chaleureux, en franais Changement du...   \n",
      "9               3.0  b'It was ok hotel is nice from in and out but ...   \n",
      "10              4.0  b'Klasse Frhstck, freundliches und aufmerksame...   \n",
      "11              4.0  b'Bardzo sympatyczna obsuga, klimat hotelu. wi...   \n",
      "12              4.0  b'Bra o lugnt lge. Stor terrass. Nra till den ...   \n",
      "13              4.0  b'The hotel staff was very friendly and helpfu...   \n",
      "14              4.0  b'Nice hotel , with very friendly staff and he...   \n",
      "15              4.0  b'Wir hatten leider Pech mit unserem Zimmer,wa...   \n",
      "16              1.0  b'Hotellihuone oli ullakolla, jossa ei pystyny...   \n",
      "17              5.0  b'Lovely hotel, 10 min walk to the water bus s...   \n",
      "18              4.0  b'Hotel ist sehr gut , wir waren zum zweiten m...   \n",
      "19              4.0  b'Nous avons pass 4 jours dans cet htel situ 5...   \n",
      "20              4.0  b'This hotel is in Lido which is a better choi...   \n",
      "21              4.0  b'It was a 10 min+ walk to water bus, would ha...   \n",
      "22              3.0  b\"Room was tiny-bed saggy-bAthroom door didn't...   \n",
      "23              5.0  b'VERY FRIENDLY AND HELPFUL WITH DIRECTIONS, K...   \n",
      "24              4.0  b'Hotel sympathique et silencieux sur l ile du...   \n",
      "25              5.0  b'Havde 7 overnatninger i april 2015 p Hotel R...   \n",
      "26              5.0  b'Really enjoyed the stay, about a 10min walk ...   \n",
      "27              2.0  b'Walls extremely thin, you can hear everythin...   \n",
      "28              4.0  b'Hotel facilities are good and breakfast ampl...   \n",
      "29              4.0  b'Friendly reception very helpful. Hotel has p...   \n",
      "..              ...                                                ...   \n",
      "970             5.0  b'My man and I wanted a weekend away so we cam...   \n",
      "971             4.0  b'My wife and I stayed here 3/4/16 to attend a...   \n",
      "972             5.0  b'This is our the fourth time we have stayed a...   \n",
      "973             5.0  b'I need to be clear - I have never stayed at ...   \n",
      "974             5.0  b'The room we stayed in was in the main buildi...   \n",
      "975             5.0  b\"We stayed in the Pheasant Room for three nig...   \n",
      "976             5.0  b'I would highly recommend the Mt. Gardner Inn...   \n",
      "977             5.0  b\"I ski in Winthrop every Christmas and love s...   \n",
      "978             5.0  b'We stayed in room 2 which was a pet friendly...   \n",
      "979             5.0  b'The staff were extremely helpful and friendl...   \n",
      "980             5.0  b\"Alison and Greg are wonderful hosts! We have...   \n",
      "981             5.0  b'We stayed in their least expensive room and ...   \n",
      "982             5.0  b\"Have stayed at Alison and Greg's inn for ove...   \n",
      "983             5.0  b'When we asked if they had a vine opener to b...   \n",
      "984             5.0  b'This property is very well maintained and th...   \n",
      "985             5.0  b'Our run club rented 2 rooms at Mt Gardner In...   \n",
      "986             5.0  b\"I haven't stayed at a small family owned mot...   \n",
      "987             5.0  b'This is the perfect place to stay for a visi...   \n",
      "988             5.0  b'Fantastic! Our hosts Allison and Greg greete...   \n",
      "989             5.0  b\"My husband and I love this place! Comfortabl...   \n",
      "990             5.0  b'Wonderful accommodations...super clean, beds...   \n",
      "991             5.0  b'We were warmly welcomed, and given great din...   \n",
      "992             5.0  b'My bestfriend and I took a short trip to Win...   \n",
      "993             4.0  b'My family stayed in the Pheasant room at the...   \n",
      "994             5.0  b'This is such a nice, clean place. We walked ...   \n",
      "995             5.0  b'I gave three nights at Mt. Gardner to my hus...   \n",
      "996             5.0  b'We stayed 2 nights in the Grouse room (2nd f...   \n",
      "997             5.0  b\"I almost never write reviews, but our experi...   \n",
      "998             5.0  b'We have stayed in numerous places in the Met...   \n",
      "999             5.0  b\"We drove up to Winthrop for their Christmas ...   \n",
      "\n",
      "     reviews.length         detected_language  \\\n",
      "0               194                   (en, 1)   \n",
      "1               252                   (en, 1)   \n",
      "2               136                   (sv, 1)   \n",
      "3               354                   (en, 1)   \n",
      "4               326                   (en, 1)   \n",
      "5               224                   (it, 1)   \n",
      "6               311                   (de, 1)   \n",
      "7               130                   (da, 1)   \n",
      "8               166  (fr, 0.9191928505897522)   \n",
      "9               112                   (en, 1)   \n",
      "10              171                   (de, 1)   \n",
      "11              117                   (pl, 1)   \n",
      "12              147                   (sv, 1)   \n",
      "13              241                   (en, 1)   \n",
      "14              104                   (en, 1)   \n",
      "15              125                   (de, 1)   \n",
      "16              381                   (fi, 1)   \n",
      "17              143                   (en, 1)   \n",
      "18              204                   (de, 1)   \n",
      "19              260  (fr, 0.9786085486412048)   \n",
      "20              272                   (en, 1)   \n",
      "21              129                   (en, 1)   \n",
      "22              120                   (en, 1)   \n",
      "23              274                   (en, 1)   \n",
      "24              223  (fr, 0.8936119675636292)   \n",
      "25              290                   (da, 1)   \n",
      "26              137                   (en, 1)   \n",
      "27              137                   (en, 1)   \n",
      "28              205                   (en, 1)   \n",
      "29              275                   (en, 1)   \n",
      "..              ...                       ...   \n",
      "970             311                   (en, 1)   \n",
      "971             315                   (en, 1)   \n",
      "972             340                   (en, 1)   \n",
      "973             326                   (en, 1)   \n",
      "974             335                   (en, 1)   \n",
      "975             276                   (en, 1)   \n",
      "976             316                   (en, 1)   \n",
      "977             301                   (en, 1)   \n",
      "978             313                   (en, 1)   \n",
      "979             241                   (en, 1)   \n",
      "980             339                   (en, 1)   \n",
      "981             324                   (en, 1)   \n",
      "982             313                   (en, 1)   \n",
      "983             221                   (en, 1)   \n",
      "984             329                   (en, 1)   \n",
      "985             326                   (en, 1)   \n",
      "986             291                   (en, 1)   \n",
      "987             338                   (en, 1)   \n",
      "988             360                   (en, 1)   \n",
      "989             314                   (en, 1)   \n",
      "990             209                   (en, 1)   \n",
      "991             284                   (en, 1)   \n",
      "992             304                   (en, 1)   \n",
      "993             306                   (en, 1)   \n",
      "994             304                   (en, 1)   \n",
      "995             318                   (en, 1)   \n",
      "996             348                   (en, 1)   \n",
      "997             357                   (en, 1)   \n",
      "998             349                   (en, 1)   \n",
      "999             306                   (en, 1)   \n",
      "\n",
      "                                       translated_text  \n",
      "0    b\"Pleasant 10 min walk along the sea front to ...  \n",
      "1    b\"Really lovely hotel. Stayed on the very top ...  \n",
      "2    b'A very good hotel. What pulled down the grad...  \n",
      "3    b'We stayed here for four nights in October. T...  \n",
      "4    b'We loved staying on the island of Lido! You ...  \n",
      "5    b'excellent stay and excellent accommodation i...  \n",
      "6    b'Favorable starting point for visits to Venic...  \n",
      "7    b'The lido is perfect for a couple of days of ...  \n",
      "8    b'Warm welcome, in French Change of bed linen ...  \n",
      "9    b'It was ok hotel is nice from in and out but ...  \n",
      "10   b'Great breakfast, friendly and attentive staf...  \n",
      "11   b'Very nice staff, the atmosphere of the hotel...  \n",
      "12   b'Good and quiet. Large terrace. Close to the ...  \n",
      "13   b'The hotel staff was very friendly and helpfu...  \n",
      "14   b'Nice hotel , with very friendly staff and he...  \n",
      "15   b'Unfortunately we were unlucky with our room,...  \n",
      "16   b'The hotel room was in the attic, where one c...  \n",
      "17   b'Lovely hotel, 10 min walk to the water bus s...  \n",
      "18   b'Hotel is very good, it was our second time i...  \n",
      "19   b'We spent 4 days in this hotel located 5 mins...  \n",
      "20   b'This hotel is in Lido which is a better choi...  \n",
      "21   b'It was a 10 min+ walk to water bus, would ha...  \n",
      "22   b\"Room was tiny-bed saggy-bAthroom door didn't...  \n",
      "23   b'VERY FRIENDLY AND HELPFUL WITH DIRECTIONS, K...  \n",
      "24   b'Friendly and quiet hotel on the Lido Island ...  \n",
      "25   b'Had 7 nights in April 2015 at Hotel Russo Pa...  \n",
      "26   b'Really enjoyed the stay, about a 10min walk ...  \n",
      "27   b'Walls extremely thin, you can hear everythin...  \n",
      "28   b'Hotel facilities are good and breakfast ampl...  \n",
      "29   b'Friendly reception very helpful. Hotel has p...  \n",
      "..                                                 ...  \n",
      "970  b'My man and I wanted a weekend away so we cam...  \n",
      "971  b'My wife and I stayed here 3/4/16 to attend a...  \n",
      "972  b'This is our the fourth time we have stayed a...  \n",
      "973  b'I need to be clear - I have never stayed at ...  \n",
      "974  b'The room we stayed in was in the main buildi...  \n",
      "975  b\"We stayed in the Pheasant Room for three nig...  \n",
      "976  b'I would highly recommend the Mt. Gardner Inn...  \n",
      "977  b\"I ski in Winthrop every Christmas and love s...  \n",
      "978  b'We stayed in room 2 which was a pet friendly...  \n",
      "979  b'The staff were extremely helpful and friendl...  \n",
      "980  b\"Alison and Greg are wonderful hosts! We have...  \n",
      "981  b'We stayed in their least expensive room and ...  \n",
      "982  b\"Have stayed at Alison and Greg's inn for ove...  \n",
      "983  b'When we asked if they had a vine opener to b...  \n",
      "984  b'This property is very well maintained and th...  \n",
      "985  b'Our run club rented 2 rooms at Mt Gardner In...  \n",
      "986  b\"I haven't stayed at a small family owned mot...  \n",
      "987  b'This is the perfect place to stay for a visi...  \n",
      "988  b'Fantastic! Our hosts Allison and Greg greete...  \n",
      "989  b\"My husband and I love this place! Comfortabl...  \n",
      "990  b'Wonderful accommodations...super clean, beds...  \n",
      "991  b'We were warmly welcomed, and given great din...  \n",
      "992  b'My bestfriend and I took a short trip to Win...  \n",
      "993  b'My family stayed in the Pheasant room at the...  \n",
      "994  b'This is such a nice, clean place. We walked ...  \n",
      "995  b'I gave three nights at Mt. Gardner to my hus...  \n",
      "996  b'We stayed 2 nights in the Grouse room (2nd f...  \n",
      "997  b\"I almost never write reviews, but our experi...  \n",
      "998  b'We have stayed in numerous places in the Met...  \n",
      "999  b\"We drove up to Winthrop for their Christmas ...  \n",
      "\n"
     ]
    },
    {
     "name": "stdout",
     "output_type": "stream",
     "text": [
      "[1000 rows x 5 columns]\n"
     ]
    }
   ],
   "source": [
    "print(df_small)\n",
    "save_dataset(df_small, \"df_small.csv\")\n"
   ]
  },
  {
   "cell_type": "code",
   "execution_count": null,
   "metadata": {},
   "outputs": [],
   "source": []
  },
  {
   "cell_type": "markdown",
   "metadata": {},
   "source": [
    "## 3. Sentiment Analysis\n",
    "\n",
    "### Approach 1: Google Natural Language API"
   ]
  },
  {
   "cell_type": "code",
   "execution_count": 73,
   "metadata": {},
   "outputs": [
    {
     "name": "stdout",
     "output_type": "stream",
     "text": [
      "Price to calculate sentiment scores for the entire cleaned dataset: $30.00\n",
      "Price to calculate sentiment scores for the truncated cleaned dataset: $0.00\n"
     ]
    }
   ],
   "source": [
    "# estimates the price for runnning sentiment analysis on a dataframe's reviews. This function assumes that this is\n",
    "# the only use of the sentiment analysis API for the billing month, so actual prices may differ (as the first \n",
    "# 5000 units are free, and discounts are applied to units used after cetain thresholds are met on a monthly basis, not\n",
    "# per use case), but this serves as a useful estimate when deciding whether to use this approach\n",
    "def estimate_sentiment_price(frame):\n",
    "    \n",
    "    units = 0\n",
    "    \n",
    "    #print(len(frame[\"reviews.length\"]))\n",
    "    \n",
    "    for i in frame[\"reviews.length\"]:\n",
    "        \n",
    "        #print(i)\n",
    "        #one unit for every 1000 characters in the text (rounded up)\n",
    "        #\n",
    "        #note: given that I have culled all reviews above 450 characters, all reviews here are worth 1 unit,\n",
    "        # but this method will work to calculate units if I decide in future to include longer reviews\n",
    "        units += math.ceil(i / 1000.0)\n",
    "        \n",
    "    price = 0\n",
    "        \n",
    "    while (units > 5000000):\n",
    "        print(units)\n",
    "        units -= 1000\n",
    "        price += 0.25\n",
    "            \n",
    "    while units > 1000000:\n",
    "        units -= 1000\n",
    "        price += 0.5\n",
    "            \n",
    "    while units > 5000:\n",
    "        units -= 1000\n",
    "        price += 1\n",
    "    \n",
    "    return price    \n",
    "    \n",
    "print(\"Price to calculate sentiment scores for the entire cleaned dataset: ${:,.2f}\".format(estimate_sentiment_price(df)))\n",
    "print(\"Price to calculate sentiment scores for the truncated cleaned dataset: ${:,.2f}\".format(estimate_sentiment_price(df_small)))\n",
    "\n",
    "\n",
    "\n",
    "\n"
   ]
  },
  {
   "cell_type": "code",
   "execution_count": 76,
   "metadata": {},
   "outputs": [
    {
     "name": "stdout",
     "output_type": "stream",
     "text": [
      "0.8999999761581421\n",
      "-0.8999999761581421\n",
      "-0.30000001192092896\n"
     ]
    }
   ],
   "source": [
    "lang_client = language.LanguageServiceClient()\n",
    "\n",
    "def get_google_sentiment_score(text):\n",
    "    \n",
    "    #print(text.decode(\"utf-8\"))\n",
    "    \n",
    "    document = gc_types.Document(content=text.decode(\"utf-8\"), type=\"PLAIN_TEXT\")\n",
    "    \n",
    "    #make sure we dont hit against any rate limits\n",
    "    while(True):\n",
    "        try:\n",
    "            response = lang_client.analyze_sentiment(document=document)\n",
    "        except Forbidden as e:\n",
    "            time.sleep(1)\n",
    "            continue\n",
    "        break\n",
    "\n",
    "    \n",
    "    sentiment = response.document_sentiment\n",
    "\n",
    "    return sentiment.score\n",
    "    \n",
    "print(get_google_sentiment_score(b\"This is Great!\"))\n",
    "    \n",
    "print(get_google_sentiment_score(b\"This sucks!\"))\n",
    "\n",
    "print(get_google_sentiment_score(b\"I'm ambivalent about this!\"))"
   ]
  },
  {
   "cell_type": "code",
   "execution_count": 77,
   "metadata": {},
   "outputs": [],
   "source": [
    "def get_google_cloud_sentiment_scores_dataframe(frame):\n",
    "    \n",
    "    frame.loc[:,:][\"gc_sentiment\"] = frame[\"translated_text\"].progress_map(get_google_sentiment_score)\n",
    "    \n",
    "    return frame\n",
    "    \n",
    "    \n",
    "    "
   ]
  },
  {
   "cell_type": "code",
   "execution_count": 78,
   "metadata": {},
   "outputs": [
    {
     "name": "stdout",
     "output_type": "stream",
     "text": [
      "   Unnamed: 0  reviews.rating  \\\n",
      "0           0             4.0   \n",
      "1           1             5.0   \n",
      "2           2             5.0   \n",
      "3           3             5.0   \n",
      "4           4             5.0   \n",
      "\n",
      "                                        reviews.text  reviews.length  \\\n",
      "0  b\"Pleasant 10 min walk along the sea front to ...             194   \n",
      "1  b\"Really lovely hotel. Stayed on the very top ...             252   \n",
      "2  b'Ett mycket bra hotell. Det som drog ner bety...             136   \n",
      "3  b'We stayed here for four nights in October. T...             354   \n",
      "4  b'We loved staying on the island of Lido! You ...             326   \n",
      "\n",
      "  detected_language                                    translated_text  \\\n",
      "0         ('en', 1)  b\"Pleasant 10 min walk along the sea front to ...   \n",
      "1         ('en', 1)  b\"Really lovely hotel. Stayed on the very top ...   \n",
      "2         ('sv', 1)  b'A very good hotel. What pulled down the grad...   \n",
      "3         ('en', 1)  b'We stayed here for four nights in October. T...   \n",
      "4         ('en', 1)  b'We loved staying on the island of Lido! You ...   \n",
      "\n",
      "   gc_sentiment  \n",
      "0           0.2  \n",
      "1           0.6  \n",
      "2           0.3  \n",
      "3           0.6  \n",
      "4           0.7  \n"
     ]
    },
    {
     "data": {
      "application/vnd.jupyter.widget-view+json": {
       "model_id": "d8d5aa7f060744f1a3c98d6fcaaef0ce",
       "version_major": 2,
       "version_minor": 0
      },
      "text/plain": [
       "HBox(children=(IntProgress(value=0, max=5), HTML(value='')))"
      ]
     },
     "metadata": {},
     "output_type": "display_data"
    },
    {
     "name": "stdout",
     "output_type": "stream",
     "text": [
      "   Unnamed: 0  reviews.rating  \\\n",
      "0           0             4.0   \n",
      "1           1             5.0   \n",
      "2           2             5.0   \n",
      "3           3             5.0   \n",
      "4           4             5.0   \n",
      "\n",
      "                                        reviews.text  reviews.length  \\\n",
      "0  b\"Pleasant 10 min walk along the sea front to ...             194   \n",
      "1  b\"Really lovely hotel. Stayed on the very top ...             252   \n",
      "2  b'Ett mycket bra hotell. Det som drog ner bety...             136   \n",
      "3  b'We stayed here for four nights in October. T...             354   \n",
      "4  b'We loved staying on the island of Lido! You ...             326   \n",
      "\n",
      "  detected_language                                    translated_text  \\\n",
      "0         ('en', 1)  b\"Pleasant 10 min walk along the sea front to ...   \n",
      "1         ('en', 1)  b\"Really lovely hotel. Stayed on the very top ...   \n",
      "2         ('sv', 1)  b'A very good hotel. What pulled down the grad...   \n",
      "3         ('en', 1)  b'We stayed here for four nights in October. T...   \n",
      "4         ('en', 1)  b'We loved staying on the island of Lido! You ...   \n",
      "\n",
      "   gc_sentiment  \n",
      "0           0.2  \n",
      "1           0.6  \n",
      "2           0.3  \n",
      "3           0.6  \n",
      "4           0.7  \n"
     ]
    }
   ],
   "source": [
    "#test on the tiny dataset first to ensure that the API calls work\n",
    "\n",
    "print(df_tiny)\n",
    "\n",
    "df_tiny = get_google_cloud_sentiment_scores_dataframe(df_tiny)\n",
    "\n",
    "print(df_tiny)"
   ]
  },
  {
   "cell_type": "code",
   "execution_count": 79,
   "metadata": {},
   "outputs": [
    {
     "data": {
      "application/vnd.jupyter.widget-view+json": {
       "model_id": "d181afe9a6f241e18b75c0e04d6fbf47",
       "version_major": 2,
       "version_minor": 0
      },
      "text/plain": [
       "HBox(children=(IntProgress(value=0, max=1000), HTML(value='')))"
      ]
     },
     "metadata": {},
     "output_type": "display_data"
    },
    {
     "name": "stderr",
     "output_type": "stream",
     "text": [
      "C:\\Users\\lenovo\\Anaconda3\\lib\\site-packages\\ipykernel_launcher.py:3: SettingWithCopyWarning: \n",
      "A value is trying to be set on a copy of a slice from a DataFrame.\n",
      "Try using .loc[row_indexer,col_indexer] = value instead\n",
      "\n",
      "See the caveats in the documentation: http://pandas.pydata.org/pandas-docs/stable/indexing.html#indexing-view-versus-copy\n",
      "  This is separate from the ipykernel package so we can avoid doing imports until\n"
     ]
    }
   ],
   "source": [
    "df_small = get_google_cloud_sentiment_scores_dataframe(df_small)\n",
    "\n",
    "\n",
    "\n"
   ]
  },
  {
   "cell_type": "code",
   "execution_count": 82,
   "metadata": {},
   "outputs": [
    {
     "name": "stdout",
     "output_type": "stream",
     "text": [
      "reviews.rating                                                       3\n",
      "reviews.text         b'It was ok hotel is nice from in and out but ...\n",
      "reviews.length                                                     112\n",
      "detected_language                                              (en, 1)\n",
      "translated_text      b'It was ok hotel is nice from in and out but ...\n",
      "gc_sentiment                                                      -0.2\n",
      "Name: 9, dtype: object\n"
     ]
    }
   ],
   "source": [
    "print(df_small.loc[9,:])"
   ]
  },
  {
   "cell_type": "code",
   "execution_count": 91,
   "metadata": {},
   "outputs": [
    {
     "name": "stdout",
     "output_type": "stream",
     "text": [
      "Pearson co-efficient:  0.6544873197926278\n",
      "Spearman co-efficient:  0.5898236866015896\n"
     ]
    }
   ],
   "source": [
    "print(\"Pearson co-efficient: \",df_small[\"reviews.rating\"].corr(df_small[\"gc_sentiment\"]))\n",
    "print(\"Spearman co-efficient: \",df_small[\"reviews.rating\"].corr(df_small[\"gc_sentiment\"], method=\"spearman\"))"
   ]
  },
  {
   "cell_type": "code",
   "execution_count": 97,
   "metadata": {},
   "outputs": [
    {
     "data": {
      "text/plain": [
       "<matplotlib.axes._subplots.AxesSubplot at 0x200ec68db38>"
      ]
     },
     "execution_count": 97,
     "metadata": {},
     "output_type": "execute_result"
    },
    {
     "data": {
      "image/png": "[encoded data removed]",
      "text/plain": [
       "<Figure size 432x288 with 1 Axes>"
      ]
     },
     "metadata": {
      "needs_background": "light"
     },
     "output_type": "display_data"
    }
   ],
   "source": [
    "df_small.boxplot(column=\"gc_sentiment\", by=\"reviews.rating\")\n"
   ]
  },
  {
   "cell_type": "markdown",
   "metadata": {},
   "source": [
    "With a correlation coefficient of ~+0.65, this method of obtaining sentiment scores seems to be very highly correlated "
   ]
  },
  {
   "cell_type": "markdown",
   "metadata": {},
   "source": [
    "To generate scores representing a the difference between the obtained sentiment scores and the given ratings, I will remap the sentiment scores from the range -1.0 to +1.0 to 1.0-5.0, and calculate the absolute difference between that and the review rating "
   ]
  },
  {
   "cell_type": "code",
   "execution_count": 117,
   "metadata": {},
   "outputs": [
    {
     "name": "stdout",
     "output_type": "stream",
     "text": [
      "0.2\n"
     ]
    }
   ],
   "source": [
    "def remap_range(input, input_range=,output_range=):\n",
    "    return ( (input - input_range[0]) / (input_range[1] - input_range[0]) ) * (output_range[1] - output_range[0]) + output_range[0]    \n",
    "\n",
    "def remap_sentiment_rating(input):\n",
    "    \n",
    "    return remap_range(input, input_range=(-1.0,1.0),output_range= 9) \n",
    "    \n",
    "\n",
    "\n",
    "def get_sentiment_difference(sentiment_score, rating):\n",
    "    return (5 - abs(remap_sentiment_rating(sentiment_score) - rating)) / 5\n",
    "    \n",
    "\n",
    "print(get_sentiment_difference(-1,5))"
   ]
  },
  {
   "cell_type": "markdown",
   "metadata": {},
   "source": [
    "### Approach 2: Word-Level Sentiment Classifier (Naive Bayes)"
   ]
  },
  {
   "cell_type": "code",
   "execution_count": null,
   "metadata": {},
   "outputs": [],
   "source": []
  },
  {
   "cell_type": "markdown",
   "metadata": {},
   "source": [
    "### Approach 3: Review Level Sentiment Classifier (LSTM Neural Network)"
   ]
  },
  {
   "cell_type": "code",
   "execution_count": null,
   "metadata": {},
   "outputs": [],
   "source": []
  }
 ],
 "metadata": {
  "kernelspec": {
   "display_name": "Python 3",
   "language": "python",
   "name": "python3"
  },
  "language_info": {
   "codemirror_mode": {
    "name": "ipython",
    "version": 3
   },
   "file_extension": ".py",
   "mimetype": "text/x-python",
   "name": "python",
   "nbconvert_exporter": "python",
   "pygments_lexer": "ipython3",
   "version": "3.7.1"
  }
 },
 "nbformat": 4,
 "nbformat_minor": 2
}
