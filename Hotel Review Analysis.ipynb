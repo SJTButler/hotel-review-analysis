{
 "cells": [
  {
   "cell_type": "code",
   "execution_count": 7,
   "metadata": {},
   "outputs": [],
   "source": [
    "import numpy as np\n",
    "import pandas as pd\n",
    "\n",
    "import matplotlib as plt\n",
    "\n",
    "%matplotlib inline"
   ]
  },
  {
   "cell_type": "markdown",
   "metadata": {},
   "source": []
  },
  {
   "cell_type": "code",
   "execution_count": 2,
   "metadata": {},
   "outputs": [],
   "source": [
    "DATASET_LOCATION = \"dataset/Datafiniti_Hotel_Reviews_Jun19.csv\"\n",
    "\n",
    "TRAIN_PROPORTION = 0.1"
   ]
  },
  {
   "cell_type": "markdown",
   "metadata": {},
   "source": [
    "## 1. Pre-Preparation and Exploratory Analysis"
   ]
  },
  {
   "cell_type": "code",
   "execution_count": 4,
   "metadata": {},
   "outputs": [
    {
     "data": {
      "text/html": [
       "<div>\n",
       "<style scoped>\n",
       "    .dataframe tbody tr th:only-of-type {\n",
       "        vertical-align: middle;\n",
       "    }\n",
       "\n",
       "    .dataframe tbody tr th {\n",
       "        vertical-align: top;\n",
       "    }\n",
       "\n",
       "    .dataframe thead th {\n",
       "        text-align: right;\n",
       "    }\n",
       "</style>\n",
       "<table border=\"1\" class=\"dataframe\">\n",
       "  <thead>\n",
       "    <tr style=\"text-align: right;\">\n",
       "      <th></th>\n",
       "      <th>latitude</th>\n",
       "      <th>longitude</th>\n",
       "      <th>reviews.dateAdded</th>\n",
       "      <th>reviews.rating</th>\n",
       "    </tr>\n",
       "  </thead>\n",
       "  <tbody>\n",
       "    <tr>\n",
       "      <th>count</th>\n",
       "      <td>10000.000000</td>\n",
       "      <td>10000.000000</td>\n",
       "      <td>0.0</td>\n",
       "      <td>10000.000000</td>\n",
       "    </tr>\n",
       "    <tr>\n",
       "      <th>mean</th>\n",
       "      <td>35.048897</td>\n",
       "      <td>-101.619599</td>\n",
       "      <td>NaN</td>\n",
       "      <td>4.084100</td>\n",
       "    </tr>\n",
       "    <tr>\n",
       "      <th>std</th>\n",
       "      <td>6.390993</td>\n",
       "      <td>20.158379</td>\n",
       "      <td>NaN</td>\n",
       "      <td>1.152371</td>\n",
       "    </tr>\n",
       "    <tr>\n",
       "      <th>min</th>\n",
       "      <td>19.438604</td>\n",
       "      <td>-159.480300</td>\n",
       "      <td>NaN</td>\n",
       "      <td>1.000000</td>\n",
       "    </tr>\n",
       "    <tr>\n",
       "      <th>25%</th>\n",
       "      <td>29.957700</td>\n",
       "      <td>-117.888954</td>\n",
       "      <td>NaN</td>\n",
       "      <td>4.000000</td>\n",
       "    </tr>\n",
       "    <tr>\n",
       "      <th>50%</th>\n",
       "      <td>33.804844</td>\n",
       "      <td>-95.997600</td>\n",
       "      <td>NaN</td>\n",
       "      <td>4.000000</td>\n",
       "    </tr>\n",
       "    <tr>\n",
       "      <th>75%</th>\n",
       "      <td>39.048210</td>\n",
       "      <td>-84.371578</td>\n",
       "      <td>NaN</td>\n",
       "      <td>5.000000</td>\n",
       "    </tr>\n",
       "    <tr>\n",
       "      <th>max</th>\n",
       "      <td>64.843590</td>\n",
       "      <td>-71.073340</td>\n",
       "      <td>NaN</td>\n",
       "      <td>5.000000</td>\n",
       "    </tr>\n",
       "  </tbody>\n",
       "</table>\n",
       "</div>"
      ],
      "text/plain": [
       "           latitude     longitude  reviews.dateAdded  reviews.rating\n",
       "count  10000.000000  10000.000000                0.0    10000.000000\n",
       "mean      35.048897   -101.619599                NaN        4.084100\n",
       "std        6.390993     20.158379                NaN        1.152371\n",
       "min       19.438604   -159.480300                NaN        1.000000\n",
       "25%       29.957700   -117.888954                NaN        4.000000\n",
       "50%       33.804844    -95.997600                NaN        4.000000\n",
       "75%       39.048210    -84.371578                NaN        5.000000\n",
       "max       64.843590    -71.073340                NaN        5.000000"
      ]
     },
     "execution_count": 4,
     "metadata": {},
     "output_type": "execute_result"
    }
   ],
   "source": [
    "df = pd.read_csv(DATASET_LOCATION)\n",
    "\n",
    "#print(df)\n",
    "\n",
    "df.describe()"
   ]
  },
  {
   "cell_type": "code",
   "execution_count": 13,
   "metadata": {},
   "outputs": [
    {
     "data": {
      "text/plain": [
       "<matplotlib.axes._subplots.AxesSubplot at 0x154aa5cee10>"
      ]
     },
     "execution_count": 13,
     "metadata": {},
     "output_type": "execute_result"
    },
    {
     "data": {
      "image/png": "[encoded data removed]",
      "text/plain": [
       "<Figure size 432x288 with 1 Axes>"
      ]
     },
     "metadata": {
      "needs_background": "light"
     },
     "output_type": "display_data"
    }
   ],
   "source": [
    "df[\"reviews.rating\"].plot.hist(bins=5)"
   ]
  },
  {
   "cell_type": "code",
   "execution_count": 14,
   "metadata": {},
   "outputs": [
    {
     "name": "stdout",
     "output_type": "stream",
     "text": [
      "0       This hotel was nice and quiet. Did not know, t...\n",
      "1       We stayed in the king suite with the separatio...\n",
      "2       Parking was horrible, somebody ran into my ren...\n",
      "3       Not cheap but excellent location. Price is som...\n",
      "4       If you get the room that they advertised on th...\n",
      "5       This is such a fun, lovely hotel. The attentio...\n",
      "6       We recently stayed at this hotel on a trip to ...\n",
      "7       I reserved a room a week in advance, knowing a...\n",
      "8                                                MoreMore\n",
      "9       Hello, I have traveled a lot and abroad and by...\n",
      "10      This is a new Hampton Inn and is well decorate...\n",
      "11      I stayed here for three nights while I explore...\n",
      "12      Completely accommodating hotel! I booked a res...\n",
      "13      The water is very hot and there's no cold wate...\n",
      "14      Great staff and rooms. Housekeeping was always...\n",
      "15      This Hotel, formerly a prestigious bank, may b...\n",
      "16      Very accommodating staff. Competitive pricing ...\n",
      "17      Room was much larger than I expected, and wate...\n",
      "18      The Whitney Hotel is ideally located to see mo...\n",
      "19      This is an old hotel in very good location. A ...\n",
      "20      The hotel is historic and yet modern. Full of ...\n",
      "21      This hotel aptly named the Whitney Hotel as it...\n",
      "22      Such a beautiful hotel! LOVED the lobby and th...\n",
      "23      We recently had the opportunity to travel to N...\n",
      "24      Our room was beautiful, the location was wonde...\n",
      "25      Excellent service and location was perfect. Ha...\n",
      "26      I will never consider staying at the Whitney a...\n",
      "27      The hotel was alright, this was my second stay...\n",
      "28      Nice locationGood staff Th rooms need to be Ai...\n",
      "29      Recently stayed at the Whitney Hotel in New Or...\n",
      "                              ...                        \n",
      "9970    We got a great deal on the hotel which include...\n",
      "9971    We stayed at the Homewood Suites on November 2...\n",
      "9972    We spent the week of March 11 at the hotel and...\n",
      "9973    We usually stay at this hotel for its location...\n",
      "9974    Stayed the night recently and enjoyed the hote...\n",
      "9975    using AARP rate, room over looking I-4, noise ...\n",
      "9976    My husband and I stayed here 8 nights. Shelton...\n",
      "9977    Good option - for those renting a car but want...\n",
      "9978    We stayed here for our family trip to Disney W...\n",
      "9979    There was 3 good points for this place the shu...\n",
      "9980    Stayed here as my daughter had a competition i...\n",
      "9981    Friendly staff, the house keepers were friendl...\n",
      "9982    Manager was very nice. Bed was comfy, bathroom...\n",
      "9983    My husband and I booked on line to stay at Pac...\n",
      "9984    The hotel owner lives there and is always avai...\n",
      "9985    We visit Bull Shoals lake many times a year. W...\n",
      "9986    We have stayed in unit six both times we have ...\n",
      "9987    We spent a weekend here for a bachelor party, ...\n",
      "9988    My husband I had such a wonderful relaxing tim...\n",
      "9989    The Courtyard Marriott at UAB is such a lovely...\n",
      "9990    I recently stayed at the Courtyard by Marriott...\n",
      "9991    My Father had a serious surgery UAB hospital. ...\n",
      "9992    Staff was very friendly during our stay. Clean...\n",
      "9993    The staff at this location were exceptional fr...\n",
      "9994    We stayed at this hotel while visiting to see ...\n",
      "9995    My friends and I took a trip to Hampton for th...\n",
      "9996    from check in to departure, staff is friendly,...\n",
      "9997    This Hampton is located on a quiet street acro...\n",
      "9998    Awesome wings (my favorite was garlic parmesan...\n",
      "9999    Clean facility just off freeway ..... staff fr...\n",
      "Name: reviews.text, Length: 10000, dtype: object\n"
     ]
    }
   ],
   "source": [
    "print(df[\"reviews.text\"])"
   ]
  },
  {
   "cell_type": "code",
   "execution_count": null,
   "metadata": {},
   "outputs": [],
   "source": []
  }
 ],
 "metadata": {
  "kernelspec": {
   "display_name": "Python 3",
   "language": "python",
   "name": "python3"
  },
  "language_info": {
   "codemirror_mode": {
    "name": "ipython",
    "version": 3
   },
   "file_extension": ".py",
   "mimetype": "text/x-python",
   "name": "python",
   "nbconvert_exporter": "python",
   "pygments_lexer": "ipython3",
   "version": "3.7.1"
  }
 },
 "nbformat": 4,
 "nbformat_minor": 2
}
